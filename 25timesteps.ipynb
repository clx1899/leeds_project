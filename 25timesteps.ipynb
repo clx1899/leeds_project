{
 "cells": [
  {
   "cell_type": "code",
   "execution_count": 1,
   "metadata": {},
   "outputs": [],
   "source": [
    "from test import EigenData\n",
    "import numpy as np\n",
    "import scipy.io\n",
    "import h5py\n",
    "from sklearn.preprocessing import MinMaxScaler\n",
    "from sklearn.metrics import mean_squared_error\n",
    "from math import sqrt\n",
    "import matplotlib.pyplot as plt\n",
    "from mpl_toolkits.axes_grid1 import make_axes_locatable\n",
    "import torch\n",
    "%matplotlib inline"
   ]
  },
  {
   "cell_type": "code",
   "execution_count": 2,
   "metadata": {},
   "outputs": [
    {
     "name": "stdout",
     "output_type": "stream",
     "text": [
      "b (5, 33600)\n",
      "(100, 5) (5, 33600)\n",
      "--> (100, 33600)\n",
      "c (5, 33600)\n",
      "(100, 5) (5, 33600)\n",
      "--> (100, 33600)\n",
      "d (5, 33600)\n",
      "(100, 5) (5, 33600)\n",
      "--> (100, 33600)\n",
      "e (5, 33600)\n",
      "(100, 5) (5, 33600)\n",
      "--> (100, 33600)\n",
      "f (5, 33600)\n",
      "(100, 5) (5, 33600)\n",
      "--> (100, 33600)\n",
      "g (6, 33600)\n",
      "(100, 6) (6, 33600)\n",
      "--> (100, 33600)\n",
      "h (5, 33600)\n",
      "(100, 5) (5, 33600)\n",
      "--> (100, 33600)\n",
      "i (6, 33600)\n",
      "(100, 6) (6, 33600)\n",
      "--> (100, 33600)\n",
      "j (5, 33600)\n",
      "(100, 5) (5, 33600)\n",
      "--> (100, 33600)\n",
      "k (5, 33600)\n",
      "(100, 5) (5, 33600)\n",
      "--> (100, 33600)\n",
      "l (5, 33600)\n",
      "(100, 5) (5, 33600)\n",
      "--> (100, 33600)\n",
      "m (5, 33600)\n",
      "(100, 5) (5, 33600)\n",
      "--> (100, 33600)\n",
      "(403200, 5)\n"
     ]
    }
   ],
   "source": [
    "data = EigenData()\n",
    "eigenworms = data.get_eigenworms('EigenWorms.mat')\n",
    "\n",
    "footage = data.get_footage('20150814-All-PNAS2011-DataStitched .mat')\n",
    "newdata = torch.rand(33600,5)\n",
    "for k in footage.keys():\n",
    "    print(k, footage[k].shape)\n",
    "    arr1=footage[k]\n",
    "\n",
    "    arr2=arr1[:5,]\n",
    "\n",
    "    r = data.reconstruct(footage[k])\n",
    "    print('-->', r.shape)\n",
    "    dataset1 = arr2.transpose()\n",
    "\n",
    "    newdata = np.concatenate((newdata,dataset1),axis=0)\n",
    "newdata = newdata[33600:,]\n",
    "print(newdata.shape)"
   ]
  },
  {
   "cell_type": "code",
   "execution_count": 3,
   "metadata": {},
   "outputs": [],
   "source": [
    "first_5_eigenworms = eigenworms[0:5,:]\n",
    "eig_worm_0 = eigenworms[0,:]\n",
    "eig_worm_1 = eigenworms[1,:]\n",
    "eig_worm_2 = eigenworms[2,:]\n",
    "eig_worm_3 = eigenworms[3,:]\n",
    "eig_worm_4 = eigenworms[4,:]"
   ]
  },
  {
   "cell_type": "code",
   "execution_count": 4,
   "metadata": {},
   "outputs": [
    {
     "name": "stdout",
     "output_type": "stream",
     "text": [
      "(386422, 5)\n",
      "386422\n"
     ]
    }
   ],
   "source": [
    "data1=newdata[~np.isnan(newdata).any(axis=1)]\n",
    "data1 = data1.astype('float32')\n",
    "print(data1.shape)\n",
    "print(len(data1))"
   ]
  },
  {
   "cell_type": "code",
   "execution_count": 5,
   "metadata": {},
   "outputs": [],
   "source": [
    "scaler = MinMaxScaler(feature_range=(0, 1))\n",
    "data1 = scaler.fit_transform(data1)"
   ]
  },
  {
   "cell_type": "code",
   "execution_count": 6,
   "metadata": {},
   "outputs": [],
   "source": [
    "def create_dataset(dataset, look_back=25):\n",
    "    dataX, dataY = [], []\n",
    "    for i in range(len(dataset) - look_back):\n",
    "        a = dataset[i:(i + look_back)]\n",
    "        dataX.append(a)\n",
    "        dataY.append(dataset[i + look_back])\n",
    "    return np.array(dataX), np.array(dataY)"
   ]
  },
  {
   "cell_type": "code",
   "execution_count": 7,
   "metadata": {},
   "outputs": [
    {
     "name": "stdout",
     "output_type": "stream",
     "text": [
      "(386397, 25, 5)\n",
      "(386397, 5)\n"
     ]
    }
   ],
   "source": [
    "data_X, data_Y = create_dataset(data1)\n",
    "\n",
    "print(data_X.shape)\n",
    "print(data_Y.shape)"
   ]
  },
  {
   "cell_type": "code",
   "execution_count": 8,
   "metadata": {},
   "outputs": [
    {
     "name": "stdout",
     "output_type": "stream",
     "text": [
      "(309117, 25, 5)\n",
      "(309117, 5)\n",
      "(77280, 25, 5)\n",
      "(77280, 5)\n"
     ]
    }
   ],
   "source": [
    "train_size = int(len(data_X) * 0.8)\n",
    "test_size = len(data_X) - train_size\n",
    "train_X = data_X[:train_size]\n",
    "train_Y = data_Y[:train_size]\n",
    "test_X = data_X[train_size:]\n",
    "test_Y = data_Y[train_size:]\n",
    "\n",
    "print(train_X.shape)\n",
    "print(train_Y.shape)\n",
    "print(test_X.shape)\n",
    "print(test_Y.shape)"
   ]
  },
  {
   "cell_type": "code",
   "execution_count": 9,
   "metadata": {},
   "outputs": [
    {
     "name": "stdout",
     "output_type": "stream",
     "text": [
      "Epoch 1/100\n",
      "604/604 - 137s - loss: 0.0097 - root_mean_squared_error: 0.0983 - val_loss: 0.0017 - val_root_mean_squared_error: 0.0407\n",
      "Epoch 2/100\n",
      "604/604 - 129s - loss: 0.0025 - root_mean_squared_error: 0.0500 - val_loss: 7.6001e-04 - val_root_mean_squared_error: 0.0276\n",
      "Epoch 3/100\n",
      "604/604 - 129s - loss: 0.0016 - root_mean_squared_error: 0.0398 - val_loss: 4.0206e-04 - val_root_mean_squared_error: 0.0201\n",
      "Epoch 4/100\n",
      "604/604 - 129s - loss: 0.0012 - root_mean_squared_error: 0.0341 - val_loss: 3.1051e-04 - val_root_mean_squared_error: 0.0176\n",
      "Epoch 5/100\n",
      "604/604 - 128s - loss: 9.2081e-04 - root_mean_squared_error: 0.0303 - val_loss: 2.8145e-04 - val_root_mean_squared_error: 0.0168\n",
      "Epoch 6/100\n",
      "604/604 - 129s - loss: 7.6352e-04 - root_mean_squared_error: 0.0276 - val_loss: 2.3027e-04 - val_root_mean_squared_error: 0.0152\n",
      "Epoch 7/100\n",
      "604/604 - 131s - loss: 6.4621e-04 - root_mean_squared_error: 0.0254 - val_loss: 1.9351e-04 - val_root_mean_squared_error: 0.0139\n",
      "Epoch 8/100\n",
      "604/604 - 128s - loss: 5.6755e-04 - root_mean_squared_error: 0.0238 - val_loss: 2.2345e-04 - val_root_mean_squared_error: 0.0149\n",
      "Epoch 9/100\n",
      "604/604 - 128s - loss: 5.0177e-04 - root_mean_squared_error: 0.0224 - val_loss: 2.9195e-04 - val_root_mean_squared_error: 0.0171\n",
      "Epoch 10/100\n",
      "604/604 - 131s - loss: 4.5963e-04 - root_mean_squared_error: 0.0214 - val_loss: 1.3120e-04 - val_root_mean_squared_error: 0.0115\n",
      "Epoch 11/100\n",
      "604/604 - 131s - loss: 4.2908e-04 - root_mean_squared_error: 0.0207 - val_loss: 1.6226e-04 - val_root_mean_squared_error: 0.0127\n",
      "Epoch 12/100\n",
      "604/604 - 128s - loss: 4.1057e-04 - root_mean_squared_error: 0.0203 - val_loss: 2.3123e-04 - val_root_mean_squared_error: 0.0152\n",
      "Epoch 13/100\n",
      "604/604 - 129s - loss: 3.9617e-04 - root_mean_squared_error: 0.0199 - val_loss: 1.4005e-04 - val_root_mean_squared_error: 0.0118\n",
      "Epoch 14/100\n",
      "604/604 - 131s - loss: 3.8641e-04 - root_mean_squared_error: 0.0197 - val_loss: 1.3188e-04 - val_root_mean_squared_error: 0.0115\n",
      "Epoch 15/100\n",
      "604/604 - 131s - loss: 3.7724e-04 - root_mean_squared_error: 0.0194 - val_loss: 1.0733e-04 - val_root_mean_squared_error: 0.0104\n",
      "Epoch 16/100\n",
      "604/604 - 131s - loss: 3.7049e-04 - root_mean_squared_error: 0.0192 - val_loss: 1.0175e-04 - val_root_mean_squared_error: 0.0101\n",
      "Epoch 17/100\n",
      "604/604 - 128s - loss: 3.6409e-04 - root_mean_squared_error: 0.0191 - val_loss: 9.5098e-05 - val_root_mean_squared_error: 0.0098\n",
      "Epoch 18/100\n",
      "604/604 - 128s - loss: 3.5729e-04 - root_mean_squared_error: 0.0189 - val_loss: 7.3333e-05 - val_root_mean_squared_error: 0.0086\n",
      "Epoch 19/100\n",
      "604/604 - 129s - loss: 3.5271e-04 - root_mean_squared_error: 0.0188 - val_loss: 9.5594e-05 - val_root_mean_squared_error: 0.0098\n",
      "Epoch 20/100\n",
      "604/604 - 129s - loss: 3.4681e-04 - root_mean_squared_error: 0.0186 - val_loss: 9.9157e-05 - val_root_mean_squared_error: 0.0100\n",
      "Epoch 21/100\n",
      "604/604 - 129s - loss: 3.4340e-04 - root_mean_squared_error: 0.0185 - val_loss: 9.4331e-05 - val_root_mean_squared_error: 0.0097\n",
      "Epoch 22/100\n",
      "604/604 - 129s - loss: 3.3840e-04 - root_mean_squared_error: 0.0184 - val_loss: 1.2223e-04 - val_root_mean_squared_error: 0.0111\n",
      "Epoch 23/100\n",
      "604/604 - 129s - loss: 3.3496e-04 - root_mean_squared_error: 0.0183 - val_loss: 8.4777e-05 - val_root_mean_squared_error: 0.0092\n",
      "Epoch 24/100\n",
      "604/604 - 129s - loss: 3.3188e-04 - root_mean_squared_error: 0.0182 - val_loss: 9.5654e-05 - val_root_mean_squared_error: 0.0098\n",
      "Epoch 25/100\n",
      "604/604 - 129s - loss: 3.2853e-04 - root_mean_squared_error: 0.0181 - val_loss: 8.3026e-05 - val_root_mean_squared_error: 0.0091\n",
      "Epoch 26/100\n",
      "604/604 - 129s - loss: 3.2515e-04 - root_mean_squared_error: 0.0180 - val_loss: 1.1575e-04 - val_root_mean_squared_error: 0.0108\n",
      "Epoch 27/100\n",
      "604/604 - 130s - loss: 3.2324e-04 - root_mean_squared_error: 0.0180 - val_loss: 7.4447e-05 - val_root_mean_squared_error: 0.0086\n",
      "Epoch 28/100\n",
      "604/604 - 130s - loss: 3.1947e-04 - root_mean_squared_error: 0.0179 - val_loss: 8.3588e-05 - val_root_mean_squared_error: 0.0091\n",
      "Epoch 29/100\n",
      "604/604 - 129s - loss: 3.1618e-04 - root_mean_squared_error: 0.0178 - val_loss: 7.6452e-05 - val_root_mean_squared_error: 0.0087\n",
      "Epoch 30/100\n",
      "604/604 - 129s - loss: 3.1414e-04 - root_mean_squared_error: 0.0177 - val_loss: 9.1014e-05 - val_root_mean_squared_error: 0.0095\n",
      "Epoch 31/100\n",
      "604/604 - 129s - loss: 3.1208e-04 - root_mean_squared_error: 0.0177 - val_loss: 7.7945e-05 - val_root_mean_squared_error: 0.0088\n",
      "Epoch 32/100\n",
      "604/604 - 129s - loss: 3.0980e-04 - root_mean_squared_error: 0.0176 - val_loss: 1.2649e-04 - val_root_mean_squared_error: 0.0112\n",
      "Epoch 33/100\n",
      "604/604 - 130s - loss: 3.0820e-04 - root_mean_squared_error: 0.0176 - val_loss: 7.7239e-05 - val_root_mean_squared_error: 0.0088\n",
      "Epoch 34/100\n",
      "604/604 - 129s - loss: 3.0660e-04 - root_mean_squared_error: 0.0175 - val_loss: 7.6241e-05 - val_root_mean_squared_error: 0.0087\n",
      "Epoch 35/100\n",
      "604/604 - 130s - loss: 3.0363e-04 - root_mean_squared_error: 0.0174 - val_loss: 3.8207e-05 - val_root_mean_squared_error: 0.0062\n",
      "Epoch 36/100\n",
      "604/604 - 129s - loss: 3.0152e-04 - root_mean_squared_error: 0.0174 - val_loss: 5.3895e-05 - val_root_mean_squared_error: 0.0073\n",
      "Epoch 37/100\n",
      "604/604 - 130s - loss: 2.9920e-04 - root_mean_squared_error: 0.0173 - val_loss: 9.7605e-05 - val_root_mean_squared_error: 0.0099\n",
      "Epoch 38/100\n",
      "604/604 - 129s - loss: 2.9808e-04 - root_mean_squared_error: 0.0173 - val_loss: 8.6476e-05 - val_root_mean_squared_error: 0.0093\n",
      "Epoch 39/100\n",
      "604/604 - 128s - loss: 2.9701e-04 - root_mean_squared_error: 0.0172 - val_loss: 9.1801e-05 - val_root_mean_squared_error: 0.0096\n",
      "Epoch 40/100\n",
      "604/604 - 129s - loss: 2.9532e-04 - root_mean_squared_error: 0.0172 - val_loss: 6.6321e-05 - val_root_mean_squared_error: 0.0081\n",
      "Epoch 41/100\n",
      "604/604 - 129s - loss: 2.9504e-04 - root_mean_squared_error: 0.0172 - val_loss: 5.5707e-05 - val_root_mean_squared_error: 0.0075\n",
      "Epoch 42/100\n",
      "604/604 - 129s - loss: 2.9309e-04 - root_mean_squared_error: 0.0171 - val_loss: 7.4318e-05 - val_root_mean_squared_error: 0.0086\n",
      "Epoch 43/100\n",
      "604/604 - 129s - loss: 2.9147e-04 - root_mean_squared_error: 0.0171 - val_loss: 6.0021e-05 - val_root_mean_squared_error: 0.0077\n",
      "Epoch 44/100\n",
      "604/604 - 129s - loss: 2.9039e-04 - root_mean_squared_error: 0.0170 - val_loss: 6.0600e-05 - val_root_mean_squared_error: 0.0078\n",
      "Epoch 45/100\n",
      "604/604 - 129s - loss: 2.8875e-04 - root_mean_squared_error: 0.0170 - val_loss: 9.7016e-05 - val_root_mean_squared_error: 0.0098\n",
      "Epoch 46/100\n",
      "604/604 - 129s - loss: 2.8763e-04 - root_mean_squared_error: 0.0170 - val_loss: 5.1435e-05 - val_root_mean_squared_error: 0.0072\n",
      "Epoch 47/100\n",
      "604/604 - 129s - loss: 2.8658e-04 - root_mean_squared_error: 0.0169 - val_loss: 8.2934e-05 - val_root_mean_squared_error: 0.0091\n",
      "Epoch 48/100\n",
      "604/604 - 129s - loss: 2.8597e-04 - root_mean_squared_error: 0.0169 - val_loss: 6.9022e-05 - val_root_mean_squared_error: 0.0083\n",
      "Epoch 49/100\n",
      "604/604 - 129s - loss: 2.8412e-04 - root_mean_squared_error: 0.0169 - val_loss: 5.4830e-05 - val_root_mean_squared_error: 0.0074\n",
      "Epoch 50/100\n",
      "604/604 - 129s - loss: 2.8286e-04 - root_mean_squared_error: 0.0168 - val_loss: 4.6769e-05 - val_root_mean_squared_error: 0.0068\n",
      "Epoch 51/100\n",
      "604/604 - 129s - loss: 2.8226e-04 - root_mean_squared_error: 0.0168 - val_loss: 8.7695e-05 - val_root_mean_squared_error: 0.0094\n",
      "Epoch 52/100\n",
      "604/604 - 130s - loss: 2.8133e-04 - root_mean_squared_error: 0.0168 - val_loss: 1.0445e-04 - val_root_mean_squared_error: 0.0102\n",
      "Epoch 53/100\n",
      "604/604 - 129s - loss: 2.8043e-04 - root_mean_squared_error: 0.0167 - val_loss: 6.2167e-05 - val_root_mean_squared_error: 0.0079\n",
      "Epoch 54/100\n",
      "604/604 - 129s - loss: 2.7988e-04 - root_mean_squared_error: 0.0167 - val_loss: 5.8384e-05 - val_root_mean_squared_error: 0.0076\n",
      "Epoch 55/100\n",
      "604/604 - 130s - loss: 2.7853e-04 - root_mean_squared_error: 0.0167 - val_loss: 4.4653e-05 - val_root_mean_squared_error: 0.0067\n",
      "Epoch 56/100\n",
      "604/604 - 130s - loss: 2.7751e-04 - root_mean_squared_error: 0.0167 - val_loss: 6.7444e-05 - val_root_mean_squared_error: 0.0082\n",
      "Epoch 57/100\n",
      "604/604 - 130s - loss: 2.7648e-04 - root_mean_squared_error: 0.0166 - val_loss: 3.5469e-05 - val_root_mean_squared_error: 0.0060\n",
      "Epoch 58/100\n",
      "604/604 - 130s - loss: 2.7600e-04 - root_mean_squared_error: 0.0166 - val_loss: 6.3625e-05 - val_root_mean_squared_error: 0.0080\n"
     ]
    },
    {
     "name": "stdout",
     "output_type": "stream",
     "text": [
      "Epoch 59/100\n",
      "604/604 - 129s - loss: 2.7483e-04 - root_mean_squared_error: 0.0166 - val_loss: 6.8904e-05 - val_root_mean_squared_error: 0.0083\n",
      "Epoch 60/100\n",
      "604/604 - 129s - loss: 2.7425e-04 - root_mean_squared_error: 0.0166 - val_loss: 3.6257e-05 - val_root_mean_squared_error: 0.0060\n",
      "Epoch 61/100\n",
      "604/604 - 129s - loss: 2.7325e-04 - root_mean_squared_error: 0.0165 - val_loss: 7.3839e-05 - val_root_mean_squared_error: 0.0086\n",
      "Epoch 62/100\n",
      "604/604 - 129s - loss: 2.7291e-04 - root_mean_squared_error: 0.0165 - val_loss: 5.3365e-05 - val_root_mean_squared_error: 0.0073\n",
      "Epoch 63/100\n",
      "604/604 - 130s - loss: 2.7191e-04 - root_mean_squared_error: 0.0165 - val_loss: 5.7975e-05 - val_root_mean_squared_error: 0.0076\n",
      "Epoch 64/100\n",
      "604/604 - 130s - loss: 2.7187e-04 - root_mean_squared_error: 0.0165 - val_loss: 5.6014e-05 - val_root_mean_squared_error: 0.0075\n",
      "Epoch 65/100\n",
      "604/604 - 130s - loss: 2.7143e-04 - root_mean_squared_error: 0.0165 - val_loss: 4.8967e-05 - val_root_mean_squared_error: 0.0070\n",
      "Epoch 66/100\n",
      "604/604 - 130s - loss: 2.7068e-04 - root_mean_squared_error: 0.0165 - val_loss: 6.4065e-05 - val_root_mean_squared_error: 0.0080\n",
      "Epoch 67/100\n",
      "604/604 - 129s - loss: 2.6926e-04 - root_mean_squared_error: 0.0164 - val_loss: 4.8261e-05 - val_root_mean_squared_error: 0.0069\n",
      "Epoch 68/100\n",
      "604/604 - 129s - loss: 2.6958e-04 - root_mean_squared_error: 0.0164 - val_loss: 4.7630e-05 - val_root_mean_squared_error: 0.0069\n",
      "Epoch 69/100\n",
      "604/604 - 129s - loss: 2.6787e-04 - root_mean_squared_error: 0.0164 - val_loss: 5.3873e-05 - val_root_mean_squared_error: 0.0073\n",
      "Epoch 70/100\n",
      "604/604 - 129s - loss: 2.6828e-04 - root_mean_squared_error: 0.0164 - val_loss: 4.2874e-05 - val_root_mean_squared_error: 0.0065\n",
      "Epoch 71/100\n",
      "604/604 - 129s - loss: 2.6691e-04 - root_mean_squared_error: 0.0163 - val_loss: 5.3165e-05 - val_root_mean_squared_error: 0.0073\n",
      "Epoch 72/100\n",
      "604/604 - 129s - loss: 2.6736e-04 - root_mean_squared_error: 0.0164 - val_loss: 5.6369e-05 - val_root_mean_squared_error: 0.0075\n",
      "Epoch 73/100\n",
      "604/604 - 129s - loss: 2.6636e-04 - root_mean_squared_error: 0.0163 - val_loss: 4.2825e-05 - val_root_mean_squared_error: 0.0065\n",
      "Epoch 74/100\n",
      "604/604 - 129s - loss: 2.6548e-04 - root_mean_squared_error: 0.0163 - val_loss: 6.9213e-05 - val_root_mean_squared_error: 0.0083\n",
      "Epoch 75/100\n",
      "604/604 - 129s - loss: 2.6573e-04 - root_mean_squared_error: 0.0163 - val_loss: 5.5828e-05 - val_root_mean_squared_error: 0.0075\n",
      "Epoch 76/100\n",
      "604/604 - 129s - loss: 2.6402e-04 - root_mean_squared_error: 0.0162 - val_loss: 6.8984e-05 - val_root_mean_squared_error: 0.0083\n",
      "Epoch 77/100\n",
      "604/604 - 129s - loss: 2.6403e-04 - root_mean_squared_error: 0.0162 - val_loss: 5.3760e-05 - val_root_mean_squared_error: 0.0073\n",
      "Epoch 78/100\n",
      "604/604 - 129s - loss: 2.6395e-04 - root_mean_squared_error: 0.0162 - val_loss: 5.1511e-05 - val_root_mean_squared_error: 0.0072\n",
      "Epoch 79/100\n",
      "604/604 - 129s - loss: 2.6383e-04 - root_mean_squared_error: 0.0162 - val_loss: 6.9157e-05 - val_root_mean_squared_error: 0.0083\n",
      "Epoch 80/100\n",
      "604/604 - 129s - loss: 2.6321e-04 - root_mean_squared_error: 0.0162 - val_loss: 2.9483e-05 - val_root_mean_squared_error: 0.0054\n",
      "Epoch 81/100\n",
      "604/604 - 134s - loss: 2.6267e-04 - root_mean_squared_error: 0.0162 - val_loss: 4.1950e-05 - val_root_mean_squared_error: 0.0065\n",
      "Epoch 82/100\n",
      "604/604 - 137s - loss: 2.6226e-04 - root_mean_squared_error: 0.0162 - val_loss: 4.8766e-05 - val_root_mean_squared_error: 0.0070\n",
      "Epoch 83/100\n",
      "604/604 - 136s - loss: 2.6216e-04 - root_mean_squared_error: 0.0162 - val_loss: 5.4531e-05 - val_root_mean_squared_error: 0.0074\n",
      "Epoch 84/100\n",
      "604/604 - 132s - loss: 2.6090e-04 - root_mean_squared_error: 0.0162 - val_loss: 3.1874e-05 - val_root_mean_squared_error: 0.0056\n",
      "Epoch 85/100\n",
      "604/604 - 130s - loss: 2.6020e-04 - root_mean_squared_error: 0.0161 - val_loss: 5.5306e-05 - val_root_mean_squared_error: 0.0074\n",
      "Epoch 86/100\n",
      "604/604 - 130s - loss: 2.6019e-04 - root_mean_squared_error: 0.0161 - val_loss: 4.7415e-05 - val_root_mean_squared_error: 0.0069\n",
      "Epoch 87/100\n",
      "604/604 - 130s - loss: 2.5975e-04 - root_mean_squared_error: 0.0161 - val_loss: 5.3152e-05 - val_root_mean_squared_error: 0.0073\n",
      "Epoch 88/100\n",
      "604/604 - 130s - loss: 2.5919e-04 - root_mean_squared_error: 0.0161 - val_loss: 4.1292e-05 - val_root_mean_squared_error: 0.0064\n",
      "Epoch 89/100\n",
      "604/604 - 129s - loss: 2.5883e-04 - root_mean_squared_error: 0.0161 - val_loss: 3.6841e-05 - val_root_mean_squared_error: 0.0061\n",
      "Epoch 90/100\n",
      "604/604 - 130s - loss: 2.5838e-04 - root_mean_squared_error: 0.0161 - val_loss: 5.0440e-05 - val_root_mean_squared_error: 0.0071\n",
      "Epoch 91/100\n",
      "604/604 - 131s - loss: 2.5826e-04 - root_mean_squared_error: 0.0161 - val_loss: 3.4861e-05 - val_root_mean_squared_error: 0.0059\n",
      "Epoch 92/100\n",
      "604/604 - 131s - loss: 2.5787e-04 - root_mean_squared_error: 0.0161 - val_loss: 2.7069e-05 - val_root_mean_squared_error: 0.0052\n",
      "Epoch 93/100\n",
      "604/604 - 130s - loss: 2.5816e-04 - root_mean_squared_error: 0.0161 - val_loss: 4.0234e-05 - val_root_mean_squared_error: 0.0063\n",
      "Epoch 94/100\n",
      "604/604 - 130s - loss: 2.5717e-04 - root_mean_squared_error: 0.0160 - val_loss: 3.7632e-05 - val_root_mean_squared_error: 0.0061\n",
      "Epoch 95/100\n",
      "604/604 - 130s - loss: 2.5647e-04 - root_mean_squared_error: 0.0160 - val_loss: 3.5151e-05 - val_root_mean_squared_error: 0.0059\n",
      "Epoch 96/100\n",
      "604/604 - 130s - loss: 2.5683e-04 - root_mean_squared_error: 0.0160 - val_loss: 3.5334e-05 - val_root_mean_squared_error: 0.0059\n",
      "Epoch 97/100\n",
      "604/604 - 130s - loss: 2.5582e-04 - root_mean_squared_error: 0.0160 - val_loss: 5.1537e-05 - val_root_mean_squared_error: 0.0072\n",
      "Epoch 98/100\n",
      "604/604 - 130s - loss: 2.5581e-04 - root_mean_squared_error: 0.0160 - val_loss: 4.6942e-05 - val_root_mean_squared_error: 0.0069\n",
      "Epoch 99/100\n",
      "604/604 - 130s - loss: 2.5521e-04 - root_mean_squared_error: 0.0160 - val_loss: 5.5902e-05 - val_root_mean_squared_error: 0.0075\n",
      "Epoch 100/100\n",
      "604/604 - 157s - loss: 2.5858e-04 - root_mean_squared_error: 0.0161 - val_loss: 3.6016e-05 - val_root_mean_squared_error: 0.0060\n"
     ]
    }
   ],
   "source": [
    "import tensorflow as tf\n",
    "from tensorflow import keras\n",
    "from tensorflow.keras import layers\n",
    "from keras.layers import Input,LSTM,Dropout,Dense\n",
    "\n",
    "\n",
    "\n",
    "# create and fit the LSTM network\n",
    "\n",
    "model = keras.Sequential()\n",
    "model.add(LSTM(100,input_shape=(25,5),return_sequences=True))\n",
    "model.add(Dropout(0.2))\n",
    "model.add(LSTM(100,input_shape=(25,5),return_sequences=True))\n",
    "model.add(Dropout(0.2))\n",
    "model.add(LSTM(100,input_shape=(25,5),return_sequences=False))\n",
    "model.add(Dropout(0.2))\n",
    "model.add(Dense(5,activation='linear'))\n",
    "model.compile(optimizer='rmsprop',loss='mean_squared_error',metrics=[tf.keras.metrics.RootMeanSquaredError()])\n",
    "\n",
    "history = model.fit(train_X, train_Y, epochs=100, batch_size=512, verbose=2, validation_data=(test_X, test_Y))"
   ]
  },
  {
   "cell_type": "code",
   "execution_count": 10,
   "metadata": {},
   "outputs": [],
   "source": [
    "testPredict = model.predict(test_X)"
   ]
  },
  {
   "cell_type": "code",
   "execution_count": 11,
   "metadata": {},
   "outputs": [],
   "source": [
    "newtestPredict = scaler.inverse_transform(testPredict)\n",
    "newtest_Y = scaler.inverse_transform(test_Y)"
   ]
  },
  {
   "cell_type": "code",
   "execution_count": 12,
   "metadata": {},
   "outputs": [
    {
     "name": "stdout",
     "output_type": "stream",
     "text": [
      "Test Score: 0.22515 RMSE\n"
     ]
    }
   ],
   "source": [
    "testScore = sqrt(mean_squared_error(newtest_Y, newtestPredict))\n",
    "print('Test Score: %.5f RMSE' % (testScore))"
   ]
  },
  {
   "cell_type": "code",
   "execution_count": null,
   "metadata": {},
   "outputs": [],
   "source": []
  }
 ],
 "metadata": {
  "kernelspec": {
   "display_name": "Python 3",
   "language": "python",
   "name": "python3"
  },
  "language_info": {
   "codemirror_mode": {
    "name": "ipython",
    "version": 3
   },
   "file_extension": ".py",
   "mimetype": "text/x-python",
   "name": "python",
   "nbconvert_exporter": "python",
   "pygments_lexer": "ipython3",
   "version": "3.8.3"
  }
 },
 "nbformat": 4,
 "nbformat_minor": 4
}
