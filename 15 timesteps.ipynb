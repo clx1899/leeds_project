{
 "cells": [
  {
   "cell_type": "code",
   "execution_count": 1,
   "metadata": {},
   "outputs": [],
   "source": [
    "from test import EigenData\n",
    "import numpy as np\n",
    "import scipy.io\n",
    "import h5py\n",
    "from sklearn.preprocessing import MinMaxScaler\n",
    "from sklearn.metrics import mean_squared_error\n",
    "from math import sqrt\n",
    "import matplotlib.pyplot as plt\n",
    "from mpl_toolkits.axes_grid1 import make_axes_locatable\n",
    "import torch\n",
    "%matplotlib inline"
   ]
  },
  {
   "cell_type": "code",
   "execution_count": 2,
   "metadata": {},
   "outputs": [
    {
     "name": "stdout",
     "output_type": "stream",
     "text": [
      "b (5, 33600)\n",
      "(100, 5) (5, 33600)\n",
      "--> (100, 33600)\n",
      "c (5, 33600)\n",
      "(100, 5) (5, 33600)\n",
      "--> (100, 33600)\n",
      "d (5, 33600)\n",
      "(100, 5) (5, 33600)\n",
      "--> (100, 33600)\n",
      "e (5, 33600)\n",
      "(100, 5) (5, 33600)\n",
      "--> (100, 33600)\n",
      "f (5, 33600)\n",
      "(100, 5) (5, 33600)\n",
      "--> (100, 33600)\n",
      "g (6, 33600)\n",
      "(100, 6) (6, 33600)\n",
      "--> (100, 33600)\n",
      "h (5, 33600)\n",
      "(100, 5) (5, 33600)\n",
      "--> (100, 33600)\n",
      "i (6, 33600)\n",
      "(100, 6) (6, 33600)\n",
      "--> (100, 33600)\n",
      "j (5, 33600)\n",
      "(100, 5) (5, 33600)\n",
      "--> (100, 33600)\n",
      "k (5, 33600)\n",
      "(100, 5) (5, 33600)\n",
      "--> (100, 33600)\n",
      "l (5, 33600)\n",
      "(100, 5) (5, 33600)\n",
      "--> (100, 33600)\n",
      "m (5, 33600)\n",
      "(100, 5) (5, 33600)\n",
      "--> (100, 33600)\n",
      "(403200, 5)\n"
     ]
    }
   ],
   "source": [
    "data = EigenData()\n",
    "eigenworms = data.get_eigenworms('EigenWorms.mat')\n",
    "\n",
    "footage = data.get_footage('20150814-All-PNAS2011-DataStitched .mat')\n",
    "newdata = torch.rand(33600,5)\n",
    "for k in footage.keys():\n",
    "    print(k, footage[k].shape)\n",
    "    arr1=footage[k]\n",
    "\n",
    "    arr2=arr1[:5,]\n",
    "\n",
    "    r = data.reconstruct(footage[k])\n",
    "    print('-->', r.shape)\n",
    "    dataset1 = arr2.transpose()\n",
    "\n",
    "    newdata = np.concatenate((newdata,dataset1),axis=0)\n",
    "newdata = newdata[33600:,]\n",
    "print(newdata.shape)"
   ]
  },
  {
   "cell_type": "code",
   "execution_count": 3,
   "metadata": {},
   "outputs": [],
   "source": [
    "first_5_eigenworms = eigenworms[0:5,:]\n",
    "eig_worm_0 = eigenworms[0,:]\n",
    "eig_worm_1 = eigenworms[1,:]\n",
    "eig_worm_2 = eigenworms[2,:]\n",
    "eig_worm_3 = eigenworms[3,:]\n",
    "eig_worm_4 = eigenworms[4,:]"
   ]
  },
  {
   "cell_type": "code",
   "execution_count": 4,
   "metadata": {},
   "outputs": [
    {
     "name": "stdout",
     "output_type": "stream",
     "text": [
      "(386422, 5)\n",
      "386422\n"
     ]
    }
   ],
   "source": [
    "data1=newdata[~np.isnan(newdata).any(axis=1)]\n",
    "data1 = data1.astype('float32')\n",
    "print(data1.shape)\n",
    "print(len(data1))"
   ]
  },
  {
   "cell_type": "code",
   "execution_count": 5,
   "metadata": {},
   "outputs": [],
   "source": [
    "scaler = MinMaxScaler(feature_range=(0, 1))\n",
    "data1 = scaler.fit_transform(data1)"
   ]
  },
  {
   "cell_type": "code",
   "execution_count": 6,
   "metadata": {},
   "outputs": [],
   "source": [
    "def create_dataset(dataset, look_back=15):\n",
    "    dataX, dataY = [], []\n",
    "    for i in range(len(dataset) - look_back):\n",
    "        a = dataset[i:(i + look_back)]\n",
    "        dataX.append(a)\n",
    "        dataY.append(dataset[i + look_back])\n",
    "    return np.array(dataX), np.array(dataY)"
   ]
  },
  {
   "cell_type": "code",
   "execution_count": 7,
   "metadata": {},
   "outputs": [
    {
     "name": "stdout",
     "output_type": "stream",
     "text": [
      "(386407, 15, 5)\n",
      "(386407, 5)\n"
     ]
    }
   ],
   "source": [
    "data_X, data_Y = create_dataset(data1)\n",
    "\n",
    "print(data_X.shape)\n",
    "print(data_Y.shape)"
   ]
  },
  {
   "cell_type": "code",
   "execution_count": 8,
   "metadata": {},
   "outputs": [
    {
     "name": "stdout",
     "output_type": "stream",
     "text": [
      "(309125, 15, 5)\n",
      "(309125, 5)\n",
      "(77282, 15, 5)\n",
      "(77282, 5)\n"
     ]
    }
   ],
   "source": [
    "train_size = int(len(data_X) * 0.8)\n",
    "test_size = len(data_X) - train_size\n",
    "train_X = data_X[:train_size]\n",
    "train_Y = data_Y[:train_size]\n",
    "test_X = data_X[train_size:]\n",
    "test_Y = data_Y[train_size:]\n",
    "\n",
    "print(train_X.shape)\n",
    "print(train_Y.shape)\n",
    "print(test_X.shape)\n",
    "print(test_Y.shape)"
   ]
  },
  {
   "cell_type": "code",
   "execution_count": 9,
   "metadata": {},
   "outputs": [
    {
     "name": "stdout",
     "output_type": "stream",
     "text": [
      "Epoch 1/100\n",
      "604/604 - 89s - loss: 0.0092 - root_mean_squared_error: 0.0962 - val_loss: 0.0022 - val_root_mean_squared_error: 0.0470\n",
      "Epoch 2/100\n",
      "604/604 - 83s - loss: 0.0025 - root_mean_squared_error: 0.0503 - val_loss: 5.3252e-04 - val_root_mean_squared_error: 0.0231\n",
      "Epoch 3/100\n",
      "604/604 - 82s - loss: 0.0016 - root_mean_squared_error: 0.0400 - val_loss: 6.5417e-04 - val_root_mean_squared_error: 0.0256\n",
      "Epoch 4/100\n",
      "604/604 - 82s - loss: 0.0012 - root_mean_squared_error: 0.0343 - val_loss: 5.3596e-04 - val_root_mean_squared_error: 0.0232\n",
      "Epoch 5/100\n",
      "604/604 - 83s - loss: 9.2900e-04 - root_mean_squared_error: 0.0305 - val_loss: 1.8165e-04 - val_root_mean_squared_error: 0.0135\n",
      "Epoch 6/100\n",
      "604/604 - 83s - loss: 7.6943e-04 - root_mean_squared_error: 0.0277 - val_loss: 1.4673e-04 - val_root_mean_squared_error: 0.0121\n",
      "Epoch 7/100\n",
      "604/604 - 84s - loss: 6.5589e-04 - root_mean_squared_error: 0.0256 - val_loss: 1.8734e-04 - val_root_mean_squared_error: 0.0137\n",
      "Epoch 8/100\n",
      "604/604 - 86s - loss: 5.6920e-04 - root_mean_squared_error: 0.0239 - val_loss: 2.5216e-04 - val_root_mean_squared_error: 0.0159\n",
      "Epoch 9/100\n",
      "604/604 - 85s - loss: 5.0847e-04 - root_mean_squared_error: 0.0225 - val_loss: 1.0138e-04 - val_root_mean_squared_error: 0.0101\n",
      "Epoch 10/100\n",
      "604/604 - 82s - loss: 4.6174e-04 - root_mean_squared_error: 0.0215 - val_loss: 1.3708e-04 - val_root_mean_squared_error: 0.0117\n",
      "Epoch 11/100\n",
      "604/604 - 82s - loss: 4.3254e-04 - root_mean_squared_error: 0.0208 - val_loss: 1.5267e-04 - val_root_mean_squared_error: 0.0124\n",
      "Epoch 12/100\n",
      "604/604 - 82s - loss: 4.1148e-04 - root_mean_squared_error: 0.0203 - val_loss: 1.2626e-04 - val_root_mean_squared_error: 0.0112\n",
      "Epoch 13/100\n",
      "604/604 - 82s - loss: 3.9630e-04 - root_mean_squared_error: 0.0199 - val_loss: 1.1223e-04 - val_root_mean_squared_error: 0.0106\n",
      "Epoch 14/100\n",
      "604/604 - 81s - loss: 3.8657e-04 - root_mean_squared_error: 0.0197 - val_loss: 1.4637e-04 - val_root_mean_squared_error: 0.0121\n",
      "Epoch 15/100\n",
      "604/604 - 81s - loss: 3.7675e-04 - root_mean_squared_error: 0.0194 - val_loss: 1.3573e-04 - val_root_mean_squared_error: 0.0117\n",
      "Epoch 16/100\n",
      "604/604 - 82s - loss: 3.6911e-04 - root_mean_squared_error: 0.0192 - val_loss: 6.7442e-05 - val_root_mean_squared_error: 0.0082\n",
      "Epoch 17/100\n",
      "604/604 - 82s - loss: 3.6217e-04 - root_mean_squared_error: 0.0190 - val_loss: 1.0461e-04 - val_root_mean_squared_error: 0.0102\n",
      "Epoch 18/100\n",
      "604/604 - 80s - loss: 3.5588e-04 - root_mean_squared_error: 0.0189 - val_loss: 9.2206e-05 - val_root_mean_squared_error: 0.0096\n",
      "Epoch 19/100\n",
      "604/604 - 81s - loss: 3.5040e-04 - root_mean_squared_error: 0.0187 - val_loss: 9.2940e-05 - val_root_mean_squared_error: 0.0096\n",
      "Epoch 20/100\n",
      "604/604 - 81s - loss: 3.4694e-04 - root_mean_squared_error: 0.0186 - val_loss: 1.2818e-04 - val_root_mean_squared_error: 0.0113\n",
      "Epoch 21/100\n",
      "604/604 - 81s - loss: 3.4108e-04 - root_mean_squared_error: 0.0185 - val_loss: 6.2080e-05 - val_root_mean_squared_error: 0.0079\n",
      "Epoch 22/100\n",
      "604/604 - 81s - loss: 3.3760e-04 - root_mean_squared_error: 0.0184 - val_loss: 9.9788e-05 - val_root_mean_squared_error: 0.0100\n",
      "Epoch 23/100\n",
      "604/604 - 81s - loss: 3.3464e-04 - root_mean_squared_error: 0.0183 - val_loss: 7.3939e-05 - val_root_mean_squared_error: 0.0086\n",
      "Epoch 24/100\n",
      "604/604 - 81s - loss: 3.2998e-04 - root_mean_squared_error: 0.0182 - val_loss: 1.0570e-04 - val_root_mean_squared_error: 0.0103\n",
      "Epoch 25/100\n",
      "604/604 - 82s - loss: 3.2729e-04 - root_mean_squared_error: 0.0181 - val_loss: 6.9288e-05 - val_root_mean_squared_error: 0.0083\n",
      "Epoch 26/100\n",
      "604/604 - 81s - loss: 3.2606e-04 - root_mean_squared_error: 0.0181 - val_loss: 7.5734e-05 - val_root_mean_squared_error: 0.0087\n",
      "Epoch 27/100\n",
      "604/604 - 82s - loss: 3.2270e-04 - root_mean_squared_error: 0.0180 - val_loss: 9.1365e-05 - val_root_mean_squared_error: 0.0096\n",
      "Epoch 28/100\n",
      "604/604 - 80s - loss: 3.2014e-04 - root_mean_squared_error: 0.0179 - val_loss: 7.6859e-05 - val_root_mean_squared_error: 0.0088\n",
      "Epoch 29/100\n",
      "604/604 - 80s - loss: 3.1785e-04 - root_mean_squared_error: 0.0178 - val_loss: 1.2683e-04 - val_root_mean_squared_error: 0.0113\n",
      "Epoch 30/100\n",
      "604/604 - 80s - loss: 3.1492e-04 - root_mean_squared_error: 0.0177 - val_loss: 9.4881e-05 - val_root_mean_squared_error: 0.0097\n",
      "Epoch 31/100\n",
      "604/604 - 80s - loss: 3.1312e-04 - root_mean_squared_error: 0.0177 - val_loss: 9.7732e-05 - val_root_mean_squared_error: 0.0099\n",
      "Epoch 32/100\n",
      "604/604 - 81s - loss: 3.1010e-04 - root_mean_squared_error: 0.0176 - val_loss: 5.7394e-05 - val_root_mean_squared_error: 0.0076\n",
      "Epoch 33/100\n",
      "604/604 - 80s - loss: 3.0922e-04 - root_mean_squared_error: 0.0176 - val_loss: 5.6641e-05 - val_root_mean_squared_error: 0.0075\n",
      "Epoch 34/100\n",
      "604/604 - 80s - loss: 3.0767e-04 - root_mean_squared_error: 0.0175 - val_loss: 1.5641e-04 - val_root_mean_squared_error: 0.0125\n",
      "Epoch 35/100\n",
      "604/604 - 81s - loss: 3.0633e-04 - root_mean_squared_error: 0.0175 - val_loss: 6.3936e-05 - val_root_mean_squared_error: 0.0080\n",
      "Epoch 36/100\n",
      "604/604 - 81s - loss: 3.0391e-04 - root_mean_squared_error: 0.0174 - val_loss: 8.2294e-05 - val_root_mean_squared_error: 0.0091\n",
      "Epoch 37/100\n",
      "604/604 - 81s - loss: 3.0269e-04 - root_mean_squared_error: 0.0174 - val_loss: 5.7020e-05 - val_root_mean_squared_error: 0.0076\n",
      "Epoch 38/100\n",
      "604/604 - 81s - loss: 3.0061e-04 - root_mean_squared_error: 0.0173 - val_loss: 4.9129e-05 - val_root_mean_squared_error: 0.0070\n",
      "Epoch 39/100\n",
      "604/604 - 80s - loss: 3.0001e-04 - root_mean_squared_error: 0.0173 - val_loss: 7.1507e-05 - val_root_mean_squared_error: 0.0085\n",
      "Epoch 40/100\n",
      "604/604 - 81s - loss: 2.9833e-04 - root_mean_squared_error: 0.0173 - val_loss: 7.0932e-05 - val_root_mean_squared_error: 0.0084\n",
      "Epoch 41/100\n",
      "604/604 - 80s - loss: 2.9557e-04 - root_mean_squared_error: 0.0172 - val_loss: 4.3128e-05 - val_root_mean_squared_error: 0.0066\n",
      "Epoch 42/100\n",
      "604/604 - 80s - loss: 2.9420e-04 - root_mean_squared_error: 0.0172 - val_loss: 7.9826e-05 - val_root_mean_squared_error: 0.0089\n",
      "Epoch 43/100\n",
      "604/604 - 81s - loss: 2.9301e-04 - root_mean_squared_error: 0.0171 - val_loss: 7.0493e-05 - val_root_mean_squared_error: 0.0084\n",
      "Epoch 44/100\n",
      "604/604 - 80s - loss: 2.9247e-04 - root_mean_squared_error: 0.0171 - val_loss: 5.6338e-05 - val_root_mean_squared_error: 0.0075\n",
      "Epoch 45/100\n",
      "604/604 - 81s - loss: 2.9057e-04 - root_mean_squared_error: 0.0170 - val_loss: 4.6859e-05 - val_root_mean_squared_error: 0.0068\n",
      "Epoch 46/100\n",
      "604/604 - 81s - loss: 2.9008e-04 - root_mean_squared_error: 0.0170 - val_loss: 5.6828e-05 - val_root_mean_squared_error: 0.0075\n",
      "Epoch 47/100\n",
      "604/604 - 82s - loss: 2.8942e-04 - root_mean_squared_error: 0.0170 - val_loss: 5.7028e-05 - val_root_mean_squared_error: 0.0076\n",
      "Epoch 48/100\n",
      "604/604 - 86s - loss: 2.8779e-04 - root_mean_squared_error: 0.0170 - val_loss: 4.7500e-05 - val_root_mean_squared_error: 0.0069\n",
      "Epoch 49/100\n",
      "604/604 - 86s - loss: 2.8698e-04 - root_mean_squared_error: 0.0169 - val_loss: 5.8105e-05 - val_root_mean_squared_error: 0.0076\n",
      "Epoch 50/100\n",
      "604/604 - 80s - loss: 2.8539e-04 - root_mean_squared_error: 0.0169 - val_loss: 5.5605e-05 - val_root_mean_squared_error: 0.0075\n",
      "Epoch 51/100\n",
      "604/604 - 80s - loss: 2.8434e-04 - root_mean_squared_error: 0.0169 - val_loss: 7.1978e-05 - val_root_mean_squared_error: 0.0085\n",
      "Epoch 52/100\n",
      "604/604 - 80s - loss: 2.8414e-04 - root_mean_squared_error: 0.0169 - val_loss: 5.2172e-05 - val_root_mean_squared_error: 0.0072\n",
      "Epoch 53/100\n",
      "604/604 - 80s - loss: 2.8386e-04 - root_mean_squared_error: 0.0168 - val_loss: 5.7501e-05 - val_root_mean_squared_error: 0.0076\n",
      "Epoch 54/100\n",
      "604/604 - 80s - loss: 2.8213e-04 - root_mean_squared_error: 0.0168 - val_loss: 6.2480e-05 - val_root_mean_squared_error: 0.0079\n",
      "Epoch 55/100\n",
      "604/604 - 80s - loss: 2.8156e-04 - root_mean_squared_error: 0.0168 - val_loss: 4.1432e-05 - val_root_mean_squared_error: 0.0064\n",
      "Epoch 56/100\n",
      "604/604 - 80s - loss: 2.8030e-04 - root_mean_squared_error: 0.0167 - val_loss: 6.0299e-05 - val_root_mean_squared_error: 0.0078\n",
      "Epoch 57/100\n",
      "604/604 - 81s - loss: 2.8033e-04 - root_mean_squared_error: 0.0167 - val_loss: 8.7219e-05 - val_root_mean_squared_error: 0.0093\n",
      "Epoch 58/100\n",
      "604/604 - 82s - loss: 2.7877e-04 - root_mean_squared_error: 0.0167 - val_loss: 5.0567e-05 - val_root_mean_squared_error: 0.0071\n",
      "Epoch 59/100\n",
      "604/604 - 99s - loss: 2.7860e-04 - root_mean_squared_error: 0.0167 - val_loss: 3.9601e-05 - val_root_mean_squared_error: 0.0063\n"
     ]
    },
    {
     "name": "stdout",
     "output_type": "stream",
     "text": [
      "Epoch 60/100\n",
      "604/604 - 99s - loss: 2.7782e-04 - root_mean_squared_error: 0.0167 - val_loss: 5.5442e-05 - val_root_mean_squared_error: 0.0074\n",
      "Epoch 61/100\n",
      "604/604 - 96s - loss: 2.7727e-04 - root_mean_squared_error: 0.0167 - val_loss: 3.6561e-05 - val_root_mean_squared_error: 0.0060\n",
      "Epoch 62/100\n",
      "604/604 - 98s - loss: 2.7545e-04 - root_mean_squared_error: 0.0166 - val_loss: 4.7654e-05 - val_root_mean_squared_error: 0.0069\n",
      "Epoch 63/100\n",
      "604/604 - 100s - loss: 2.7505e-04 - root_mean_squared_error: 0.0166 - val_loss: 5.7407e-05 - val_root_mean_squared_error: 0.0076\n",
      "Epoch 64/100\n",
      "604/604 - 100s - loss: 2.7441e-04 - root_mean_squared_error: 0.0166 - val_loss: 5.7015e-05 - val_root_mean_squared_error: 0.0076\n",
      "Epoch 65/100\n",
      "604/604 - 99s - loss: 2.7367e-04 - root_mean_squared_error: 0.0165 - val_loss: 7.6807e-05 - val_root_mean_squared_error: 0.0088\n",
      "Epoch 66/100\n",
      "604/604 - 96s - loss: 2.7356e-04 - root_mean_squared_error: 0.0165 - val_loss: 5.4235e-05 - val_root_mean_squared_error: 0.0074\n",
      "Epoch 67/100\n",
      "604/604 - 101s - loss: 2.7365e-04 - root_mean_squared_error: 0.0165 - val_loss: 5.5464e-05 - val_root_mean_squared_error: 0.0074\n",
      "Epoch 68/100\n",
      "604/604 - 101s - loss: 2.7188e-04 - root_mean_squared_error: 0.0165 - val_loss: 5.6079e-05 - val_root_mean_squared_error: 0.0075\n",
      "Epoch 69/100\n",
      "604/604 - 100s - loss: 2.7287e-04 - root_mean_squared_error: 0.0165 - val_loss: 6.4481e-05 - val_root_mean_squared_error: 0.0080\n",
      "Epoch 70/100\n",
      "604/604 - 99s - loss: 2.7086e-04 - root_mean_squared_error: 0.0165 - val_loss: 4.8857e-05 - val_root_mean_squared_error: 0.0070\n",
      "Epoch 71/100\n",
      "604/604 - 101s - loss: 2.7088e-04 - root_mean_squared_error: 0.0165 - val_loss: 4.0233e-05 - val_root_mean_squared_error: 0.0063\n",
      "Epoch 72/100\n",
      "604/604 - 109s - loss: 2.6982e-04 - root_mean_squared_error: 0.0164 - val_loss: 7.5387e-05 - val_root_mean_squared_error: 0.0087\n",
      "Epoch 73/100\n",
      "604/604 - 107s - loss: 2.7048e-04 - root_mean_squared_error: 0.0164 - val_loss: 5.3215e-05 - val_root_mean_squared_error: 0.0073\n",
      "Epoch 74/100\n",
      "604/604 - 105s - loss: 2.6937e-04 - root_mean_squared_error: 0.0164 - val_loss: 3.4024e-05 - val_root_mean_squared_error: 0.0058\n",
      "Epoch 75/100\n",
      "604/604 - 108s - loss: 2.6819e-04 - root_mean_squared_error: 0.0164 - val_loss: 6.8401e-05 - val_root_mean_squared_error: 0.0083\n",
      "Epoch 76/100\n",
      "604/604 - 107s - loss: 2.6752e-04 - root_mean_squared_error: 0.0164 - val_loss: 4.6571e-05 - val_root_mean_squared_error: 0.0068\n",
      "Epoch 77/100\n",
      "604/604 - 107s - loss: 2.6663e-04 - root_mean_squared_error: 0.0163 - val_loss: 3.3452e-05 - val_root_mean_squared_error: 0.0058\n",
      "Epoch 78/100\n",
      "604/604 - 107s - loss: 2.6624e-04 - root_mean_squared_error: 0.0163 - val_loss: 5.4302e-05 - val_root_mean_squared_error: 0.0074\n",
      "Epoch 79/100\n",
      "604/604 - 109s - loss: 2.6556e-04 - root_mean_squared_error: 0.0163 - val_loss: 4.6597e-05 - val_root_mean_squared_error: 0.0068\n",
      "Epoch 80/100\n",
      "604/604 - 107s - loss: 2.6525e-04 - root_mean_squared_error: 0.0163 - val_loss: 5.9158e-05 - val_root_mean_squared_error: 0.0077\n",
      "Epoch 81/100\n",
      "604/604 - 107s - loss: 2.6545e-04 - root_mean_squared_error: 0.0163 - val_loss: 4.8388e-05 - val_root_mean_squared_error: 0.0070\n",
      "Epoch 82/100\n",
      "604/604 - 106s - loss: 2.6527e-04 - root_mean_squared_error: 0.0163 - val_loss: 4.6934e-05 - val_root_mean_squared_error: 0.0069\n",
      "Epoch 83/100\n",
      "604/604 - 105s - loss: 2.6416e-04 - root_mean_squared_error: 0.0163 - val_loss: 3.2690e-05 - val_root_mean_squared_error: 0.0057\n",
      "Epoch 84/100\n",
      "604/604 - 107s - loss: 2.6455e-04 - root_mean_squared_error: 0.0163 - val_loss: 4.5161e-05 - val_root_mean_squared_error: 0.0067\n",
      "Epoch 85/100\n",
      "604/604 - 107s - loss: 2.6433e-04 - root_mean_squared_error: 0.0163 - val_loss: 5.7804e-05 - val_root_mean_squared_error: 0.0076\n",
      "Epoch 86/100\n",
      "604/604 - 104s - loss: 2.6286e-04 - root_mean_squared_error: 0.0162 - val_loss: 3.7442e-05 - val_root_mean_squared_error: 0.0061\n",
      "Epoch 87/100\n",
      "604/604 - 103s - loss: 2.6334e-04 - root_mean_squared_error: 0.0162 - val_loss: 4.5892e-05 - val_root_mean_squared_error: 0.0068\n",
      "Epoch 88/100\n",
      "604/604 - 102s - loss: 2.6244e-04 - root_mean_squared_error: 0.0162 - val_loss: 5.0495e-05 - val_root_mean_squared_error: 0.0071\n",
      "Epoch 89/100\n",
      "604/604 - 102s - loss: 2.6206e-04 - root_mean_squared_error: 0.0162 - val_loss: 5.3700e-05 - val_root_mean_squared_error: 0.0073\n",
      "Epoch 90/100\n",
      "604/604 - 104s - loss: 2.6123e-04 - root_mean_squared_error: 0.0162 - val_loss: 5.8174e-05 - val_root_mean_squared_error: 0.0076\n",
      "Epoch 91/100\n",
      "604/604 - 104s - loss: 2.6027e-04 - root_mean_squared_error: 0.0161 - val_loss: 3.6258e-05 - val_root_mean_squared_error: 0.0060\n",
      "Epoch 92/100\n",
      "604/604 - 104s - loss: 2.6025e-04 - root_mean_squared_error: 0.0161 - val_loss: 5.6219e-05 - val_root_mean_squared_error: 0.0075\n",
      "Epoch 93/100\n",
      "604/604 - 105s - loss: 2.6092e-04 - root_mean_squared_error: 0.0162 - val_loss: 3.3698e-05 - val_root_mean_squared_error: 0.0058\n",
      "Epoch 94/100\n",
      "604/604 - 107s - loss: 2.6036e-04 - root_mean_squared_error: 0.0161 - val_loss: 5.4767e-05 - val_root_mean_squared_error: 0.0074\n",
      "Epoch 95/100\n",
      "604/604 - 104s - loss: 2.6040e-04 - root_mean_squared_error: 0.0161 - val_loss: 8.6648e-05 - val_root_mean_squared_error: 0.0093\n",
      "Epoch 96/100\n",
      "604/604 - 106s - loss: 2.5955e-04 - root_mean_squared_error: 0.0161 - val_loss: 5.0662e-05 - val_root_mean_squared_error: 0.0071\n",
      "Epoch 97/100\n",
      "604/604 - 105s - loss: 2.5994e-04 - root_mean_squared_error: 0.0161 - val_loss: 3.1439e-05 - val_root_mean_squared_error: 0.0056\n",
      "Epoch 98/100\n",
      "604/604 - 105s - loss: 2.5796e-04 - root_mean_squared_error: 0.0161 - val_loss: 3.7414e-05 - val_root_mean_squared_error: 0.0061\n",
      "Epoch 99/100\n",
      "604/604 - 106s - loss: 2.5828e-04 - root_mean_squared_error: 0.0161 - val_loss: 3.7980e-05 - val_root_mean_squared_error: 0.0062\n",
      "Epoch 100/100\n",
      "604/604 - 107s - loss: 2.5844e-04 - root_mean_squared_error: 0.0161 - val_loss: 3.1836e-05 - val_root_mean_squared_error: 0.0056\n"
     ]
    }
   ],
   "source": [
    "import tensorflow as tf\n",
    "from tensorflow import keras\n",
    "from tensorflow.keras import layers\n",
    "from keras.layers import Input,LSTM,Dropout,Dense\n",
    "\n",
    "\n",
    "\n",
    "# create and fit the LSTM network\n",
    "\n",
    "model = keras.Sequential()\n",
    "model.add(LSTM(100,input_shape=(15,5),return_sequences=True))\n",
    "model.add(Dropout(0.2))\n",
    "model.add(LSTM(100,input_shape=(15,5),return_sequences=True))\n",
    "model.add(Dropout(0.2))\n",
    "model.add(LSTM(100,input_shape=(15,5),return_sequences=False))\n",
    "model.add(Dropout(0.2))\n",
    "model.add(Dense(5,activation='linear'))\n",
    "model.compile(optimizer='rmsprop',loss='mean_squared_error',metrics=[tf.keras.metrics.RootMeanSquaredError()])\n",
    "\n",
    "history = model.fit(train_X, train_Y, epochs=100, batch_size=512, verbose=2, validation_data=(test_X, test_Y))"
   ]
  },
  {
   "cell_type": "code",
   "execution_count": 10,
   "metadata": {},
   "outputs": [],
   "source": [
    "testPredict = model.predict(test_X)"
   ]
  },
  {
   "cell_type": "code",
   "execution_count": 11,
   "metadata": {},
   "outputs": [],
   "source": [
    "newtestPredict = scaler.inverse_transform(testPredict)\n",
    "newtest_Y = scaler.inverse_transform(test_Y)"
   ]
  },
  {
   "cell_type": "code",
   "execution_count": 12,
   "metadata": {},
   "outputs": [
    {
     "name": "stdout",
     "output_type": "stream",
     "text": [
      "Test Score: 0.18366 RMSE\n"
     ]
    }
   ],
   "source": [
    "testScore = sqrt(mean_squared_error(newtest_Y, newtestPredict))\n",
    "print('Test Score: %.5f RMSE' % (testScore))"
   ]
  },
  {
   "cell_type": "code",
   "execution_count": null,
   "metadata": {},
   "outputs": [],
   "source": []
  }
 ],
 "metadata": {
  "kernelspec": {
   "display_name": "Python 3",
   "language": "python",
   "name": "python3"
  },
  "language_info": {
   "codemirror_mode": {
    "name": "ipython",
    "version": 3
   },
   "file_extension": ".py",
   "mimetype": "text/x-python",
   "name": "python",
   "nbconvert_exporter": "python",
   "pygments_lexer": "ipython3",
   "version": "3.8.3"
  }
 },
 "nbformat": 4,
 "nbformat_minor": 4
}
