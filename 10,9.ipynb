{
 "cells": [
  {
   "cell_type": "code",
   "execution_count": 1,
   "metadata": {},
   "outputs": [],
   "source": [
    "from test import EigenData\n",
    "import numpy as np\n",
    "import scipy.io\n",
    "import h5py\n",
    "from sklearn.preprocessing import MinMaxScaler\n",
    "from sklearn.metrics import mean_squared_error\n",
    "from math import sqrt\n",
    "import matplotlib.pyplot as plt\n",
    "from mpl_toolkits.axes_grid1 import make_axes_locatable\n",
    "import torch\n",
    "%matplotlib inline"
   ]
  },
  {
   "cell_type": "code",
   "execution_count": 2,
   "metadata": {},
   "outputs": [
    {
     "name": "stdout",
     "output_type": "stream",
     "text": [
      "b (5, 33600)\n",
      "(100, 5) (5, 33600)\n",
      "--> (100, 33600)\n",
      "c (5, 33600)\n",
      "(100, 5) (5, 33600)\n",
      "--> (100, 33600)\n",
      "d (5, 33600)\n",
      "(100, 5) (5, 33600)\n",
      "--> (100, 33600)\n",
      "e (5, 33600)\n",
      "(100, 5) (5, 33600)\n",
      "--> (100, 33600)\n",
      "f (5, 33600)\n",
      "(100, 5) (5, 33600)\n",
      "--> (100, 33600)\n",
      "g (6, 33600)\n",
      "(100, 6) (6, 33600)\n",
      "--> (100, 33600)\n",
      "h (5, 33600)\n",
      "(100, 5) (5, 33600)\n",
      "--> (100, 33600)\n",
      "i (6, 33600)\n",
      "(100, 6) (6, 33600)\n",
      "--> (100, 33600)\n",
      "j (5, 33600)\n",
      "(100, 5) (5, 33600)\n",
      "--> (100, 33600)\n",
      "k (5, 33600)\n",
      "(100, 5) (5, 33600)\n",
      "--> (100, 33600)\n",
      "l (5, 33600)\n",
      "(100, 5) (5, 33600)\n",
      "--> (100, 33600)\n",
      "m (5, 33600)\n",
      "(100, 5) (5, 33600)\n",
      "--> (100, 33600)\n",
      "(403200, 5)\n"
     ]
    }
   ],
   "source": [
    "data = EigenData()\n",
    "eigenworms = data.get_eigenworms('EigenWorms.mat')\n",
    "\n",
    "footage = data.get_footage('20150814-All-PNAS2011-DataStitched .mat')\n",
    "newdata = torch.rand(33600,5)\n",
    "for k in footage.keys():\n",
    "    print(k, footage[k].shape)\n",
    "    arr1=footage[k]\n",
    "\n",
    "    arr2=arr1[:5,]\n",
    "\n",
    "    r = data.reconstruct(footage[k])\n",
    "    print('-->', r.shape)\n",
    "    dataset1 = arr2.transpose()\n",
    "\n",
    "    newdata = np.concatenate((newdata,dataset1),axis=0)\n",
    "newdata = newdata[33600:,]\n",
    "print(newdata.shape)"
   ]
  },
  {
   "cell_type": "code",
   "execution_count": 3,
   "metadata": {},
   "outputs": [
    {
     "name": "stdout",
     "output_type": "stream",
     "text": [
      "(386422, 5)\n",
      "386422\n"
     ]
    }
   ],
   "source": [
    "data1=newdata[~np.isnan(newdata).any(axis=1)]\n",
    "\n",
    "data1 = data1.astype('float32')\n",
    "print(data1.shape)\n",
    "print(len(data1))"
   ]
  },
  {
   "cell_type": "code",
   "execution_count": 4,
   "metadata": {},
   "outputs": [],
   "source": [
    "def create_dataset(data,n_predictions,n_next):\n",
    "    \n",
    "   \n",
    "    dim = data.shape[1]\n",
    "    train_X, train_Y = [], []\n",
    "    for i in range(data.shape[0]-n_predictions-n_next-1):\n",
    "        a = data[i:(i+n_predictions),:]\n",
    "        train_X.append(a)\n",
    "        tempb = data[(i+n_predictions):(i+n_predictions+n_next),:]\n",
    "        b = []\n",
    "        for j in range(len(tempb)):\n",
    "            for k in range(dim):\n",
    "                b.append(tempb[j,k])\n",
    "        train_Y.append(b)\n",
    "    train_X = np.array(train_X,dtype='float64')\n",
    "    train_Y = np.array(train_Y,dtype='float64')\n",
    "\n",
    "    return train_X, train_Y"
   ]
  },
  {
   "cell_type": "code",
   "execution_count": 5,
   "metadata": {},
   "outputs": [
    {
     "name": "stdout",
     "output_type": "stream",
     "text": [
      "(386402, 10, 5)\n",
      "(386402, 45)\n"
     ]
    }
   ],
   "source": [
    "X, Y = create_dataset(data1,10,9)\n",
    "\n",
    "print(X.shape)\n",
    "print(Y.shape)"
   ]
  },
  {
   "cell_type": "code",
   "execution_count": 6,
   "metadata": {},
   "outputs": [],
   "source": [
    "scaler = MinMaxScaler(feature_range=(0, 1))\n",
    "data1 = scaler.fit_transform(data1)\n",
    "Y = scaler.fit_transform(Y)"
   ]
  },
  {
   "cell_type": "code",
   "execution_count": 7,
   "metadata": {},
   "outputs": [
    {
     "name": "stdout",
     "output_type": "stream",
     "text": [
      "(386402, 10, 5)\n",
      "(386402, 45)\n"
     ]
    }
   ],
   "source": [
    "data_X, data_Y = create_dataset(data1,10,9)\n",
    "\n",
    "print(data_X.shape)\n",
    "print(data_Y.shape)"
   ]
  },
  {
   "cell_type": "code",
   "execution_count": 8,
   "metadata": {},
   "outputs": [
    {
     "name": "stdout",
     "output_type": "stream",
     "text": [
      "(309121, 10, 5)\n",
      "(309121, 45)\n",
      "(77281, 10, 5)\n",
      "(77281, 45)\n"
     ]
    }
   ],
   "source": [
    "train_size = int(len(data_X) * 0.8)\n",
    "test_size = len(data_X) - train_size\n",
    "train_X = data_X[:train_size]\n",
    "train_Y = Y[:train_size]\n",
    "test_X = data_X[train_size:]\n",
    "test_Y = Y[train_size:]\n",
    "\n",
    "print(train_X.shape)\n",
    "print(train_Y.shape)\n",
    "print(test_X.shape)\n",
    "print(test_Y.shape)"
   ]
  },
  {
   "cell_type": "code",
   "execution_count": 9,
   "metadata": {},
   "outputs": [
    {
     "name": "stdout",
     "output_type": "stream",
     "text": [
      "Epoch 1/100\n",
      "604/604 - 63s - loss: 0.0149 - root_mean_squared_error: 0.1221 - val_loss: 0.0051 - val_root_mean_squared_error: 0.0716\n",
      "Epoch 2/100\n",
      "604/604 - 56s - loss: 0.0059 - root_mean_squared_error: 0.0767 - val_loss: 0.0028 - val_root_mean_squared_error: 0.0526\n",
      "Epoch 3/100\n",
      "604/604 - 56s - loss: 0.0041 - root_mean_squared_error: 0.0638 - val_loss: 0.0020 - val_root_mean_squared_error: 0.0451\n",
      "Epoch 4/100\n",
      "604/604 - 60s - loss: 0.0032 - root_mean_squared_error: 0.0567 - val_loss: 0.0019 - val_root_mean_squared_error: 0.0433\n",
      "Epoch 5/100\n",
      "604/604 - 62s - loss: 0.0027 - root_mean_squared_error: 0.0523 - val_loss: 0.0018 - val_root_mean_squared_error: 0.0423\n",
      "Epoch 6/100\n",
      "604/604 - 56s - loss: 0.0024 - root_mean_squared_error: 0.0490 - val_loss: 0.0014 - val_root_mean_squared_error: 0.0372\n",
      "Epoch 7/100\n",
      "604/604 - 55s - loss: 0.0022 - root_mean_squared_error: 0.0465 - val_loss: 0.0014 - val_root_mean_squared_error: 0.0368\n",
      "Epoch 8/100\n",
      "604/604 - 55s - loss: 0.0020 - root_mean_squared_error: 0.0446 - val_loss: 0.0012 - val_root_mean_squared_error: 0.0353\n",
      "Epoch 9/100\n",
      "604/604 - 56s - loss: 0.0019 - root_mean_squared_error: 0.0432 - val_loss: 0.0013 - val_root_mean_squared_error: 0.0359\n",
      "Epoch 10/100\n",
      "604/604 - 59s - loss: 0.0018 - root_mean_squared_error: 0.0423 - val_loss: 0.0012 - val_root_mean_squared_error: 0.0350\n",
      "Epoch 11/100\n",
      "604/604 - 56s - loss: 0.0017 - root_mean_squared_error: 0.0416 - val_loss: 0.0012 - val_root_mean_squared_error: 0.0348\n",
      "Epoch 12/100\n",
      "604/604 - 56s - loss: 0.0017 - root_mean_squared_error: 0.0410 - val_loss: 0.0011 - val_root_mean_squared_error: 0.0339\n",
      "Epoch 13/100\n",
      "604/604 - 57s - loss: 0.0016 - root_mean_squared_error: 0.0405 - val_loss: 0.0011 - val_root_mean_squared_error: 0.0328\n",
      "Epoch 14/100\n",
      "604/604 - 56s - loss: 0.0016 - root_mean_squared_error: 0.0402 - val_loss: 0.0010 - val_root_mean_squared_error: 0.0323\n",
      "Epoch 15/100\n",
      "604/604 - 57s - loss: 0.0016 - root_mean_squared_error: 0.0398 - val_loss: 0.0012 - val_root_mean_squared_error: 0.0342\n",
      "Epoch 16/100\n",
      "604/604 - 56s - loss: 0.0016 - root_mean_squared_error: 0.0395 - val_loss: 0.0010 - val_root_mean_squared_error: 0.0320\n",
      "Epoch 17/100\n",
      "604/604 - 56s - loss: 0.0015 - root_mean_squared_error: 0.0392 - val_loss: 0.0010 - val_root_mean_squared_error: 0.0318\n",
      "Epoch 18/100\n",
      "604/604 - 56s - loss: 0.0015 - root_mean_squared_error: 0.0390 - val_loss: 0.0010 - val_root_mean_squared_error: 0.0319\n",
      "Epoch 19/100\n",
      "604/604 - 56s - loss: 0.0015 - root_mean_squared_error: 0.0387 - val_loss: 9.8388e-04 - val_root_mean_squared_error: 0.0314\n",
      "Epoch 20/100\n",
      "604/604 - 56s - loss: 0.0015 - root_mean_squared_error: 0.0385 - val_loss: 9.2927e-04 - val_root_mean_squared_error: 0.0305\n",
      "Epoch 21/100\n",
      "604/604 - 57s - loss: 0.0015 - root_mean_squared_error: 0.0383 - val_loss: 9.6387e-04 - val_root_mean_squared_error: 0.0310\n",
      "Epoch 22/100\n",
      "604/604 - 56s - loss: 0.0015 - root_mean_squared_error: 0.0382 - val_loss: 9.2238e-04 - val_root_mean_squared_error: 0.0304\n",
      "Epoch 23/100\n",
      "604/604 - 56s - loss: 0.0014 - root_mean_squared_error: 0.0380 - val_loss: 9.5464e-04 - val_root_mean_squared_error: 0.0309\n",
      "Epoch 24/100\n",
      "604/604 - 55s - loss: 0.0014 - root_mean_squared_error: 0.0379 - val_loss: 9.3647e-04 - val_root_mean_squared_error: 0.0306\n",
      "Epoch 25/100\n",
      "604/604 - 56s - loss: 0.0014 - root_mean_squared_error: 0.0377 - val_loss: 9.3534e-04 - val_root_mean_squared_error: 0.0306\n",
      "Epoch 26/100\n",
      "604/604 - 57s - loss: 0.0014 - root_mean_squared_error: 0.0376 - val_loss: 9.4254e-04 - val_root_mean_squared_error: 0.0307\n",
      "Epoch 27/100\n",
      "604/604 - 56s - loss: 0.0014 - root_mean_squared_error: 0.0375 - val_loss: 9.0576e-04 - val_root_mean_squared_error: 0.0301\n",
      "Epoch 28/100\n",
      "604/604 - 53s - loss: 0.0014 - root_mean_squared_error: 0.0373 - val_loss: 9.3545e-04 - val_root_mean_squared_error: 0.0306\n",
      "Epoch 29/100\n",
      "604/604 - 53s - loss: 0.0014 - root_mean_squared_error: 0.0372 - val_loss: 9.0844e-04 - val_root_mean_squared_error: 0.0301\n",
      "Epoch 30/100\n",
      "604/604 - 53s - loss: 0.0014 - root_mean_squared_error: 0.0371 - val_loss: 9.5279e-04 - val_root_mean_squared_error: 0.0309\n",
      "Epoch 31/100\n",
      "604/604 - 53s - loss: 0.0014 - root_mean_squared_error: 0.0370 - val_loss: 9.7423e-04 - val_root_mean_squared_error: 0.0312\n",
      "Epoch 32/100\n",
      "604/604 - 53s - loss: 0.0014 - root_mean_squared_error: 0.0369 - val_loss: 9.1666e-04 - val_root_mean_squared_error: 0.0303\n",
      "Epoch 33/100\n",
      "604/604 - 53s - loss: 0.0014 - root_mean_squared_error: 0.0368 - val_loss: 9.2304e-04 - val_root_mean_squared_error: 0.0304\n",
      "Epoch 34/100\n",
      "604/604 - 53s - loss: 0.0014 - root_mean_squared_error: 0.0367 - val_loss: 8.7452e-04 - val_root_mean_squared_error: 0.0296\n",
      "Epoch 35/100\n",
      "604/604 - 53s - loss: 0.0013 - root_mean_squared_error: 0.0367 - val_loss: 8.9041e-04 - val_root_mean_squared_error: 0.0298\n",
      "Epoch 36/100\n",
      "604/604 - 53s - loss: 0.0013 - root_mean_squared_error: 0.0366 - val_loss: 8.8542e-04 - val_root_mean_squared_error: 0.0298\n",
      "Epoch 37/100\n",
      "604/604 - 53s - loss: 0.0013 - root_mean_squared_error: 0.0365 - val_loss: 8.7193e-04 - val_root_mean_squared_error: 0.0295\n",
      "Epoch 38/100\n",
      "604/604 - 53s - loss: 0.0013 - root_mean_squared_error: 0.0364 - val_loss: 8.7155e-04 - val_root_mean_squared_error: 0.0295\n",
      "Epoch 39/100\n",
      "604/604 - 53s - loss: 0.0013 - root_mean_squared_error: 0.0363 - val_loss: 8.8803e-04 - val_root_mean_squared_error: 0.0298\n",
      "Epoch 40/100\n",
      "604/604 - 53s - loss: 0.0013 - root_mean_squared_error: 0.0363 - val_loss: 8.8151e-04 - val_root_mean_squared_error: 0.0297\n",
      "Epoch 41/100\n",
      "604/604 - 53s - loss: 0.0013 - root_mean_squared_error: 0.0362 - val_loss: 8.8933e-04 - val_root_mean_squared_error: 0.0298\n",
      "Epoch 42/100\n",
      "604/604 - 53s - loss: 0.0013 - root_mean_squared_error: 0.0362 - val_loss: 8.9398e-04 - val_root_mean_squared_error: 0.0299\n",
      "Epoch 43/100\n",
      "604/604 - 53s - loss: 0.0013 - root_mean_squared_error: 0.0361 - val_loss: 8.8626e-04 - val_root_mean_squared_error: 0.0298\n",
      "Epoch 44/100\n",
      "604/604 - 53s - loss: 0.0013 - root_mean_squared_error: 0.0360 - val_loss: 8.7819e-04 - val_root_mean_squared_error: 0.0296\n",
      "Epoch 45/100\n",
      "604/604 - 53s - loss: 0.0013 - root_mean_squared_error: 0.0360 - val_loss: 8.6576e-04 - val_root_mean_squared_error: 0.0294\n",
      "Epoch 46/100\n",
      "604/604 - 53s - loss: 0.0013 - root_mean_squared_error: 0.0359 - val_loss: 8.5841e-04 - val_root_mean_squared_error: 0.0293\n",
      "Epoch 47/100\n",
      "604/604 - 53s - loss: 0.0013 - root_mean_squared_error: 0.0359 - val_loss: 8.5953e-04 - val_root_mean_squared_error: 0.0293\n",
      "Epoch 48/100\n",
      "604/604 - 53s - loss: 0.0013 - root_mean_squared_error: 0.0358 - val_loss: 8.5812e-04 - val_root_mean_squared_error: 0.0293\n",
      "Epoch 49/100\n",
      "604/604 - 53s - loss: 0.0013 - root_mean_squared_error: 0.0357 - val_loss: 8.5808e-04 - val_root_mean_squared_error: 0.0293\n",
      "Epoch 50/100\n",
      "604/604 - 53s - loss: 0.0013 - root_mean_squared_error: 0.0357 - val_loss: 9.0457e-04 - val_root_mean_squared_error: 0.0301\n",
      "Epoch 51/100\n",
      "604/604 - 53s - loss: 0.0013 - root_mean_squared_error: 0.0357 - val_loss: 8.4500e-04 - val_root_mean_squared_error: 0.0291\n",
      "Epoch 52/100\n",
      "604/604 - 53s - loss: 0.0013 - root_mean_squared_error: 0.0356 - val_loss: 9.0397e-04 - val_root_mean_squared_error: 0.0301\n",
      "Epoch 53/100\n",
      "604/604 - 53s - loss: 0.0013 - root_mean_squared_error: 0.0355 - val_loss: 8.4685e-04 - val_root_mean_squared_error: 0.0291\n",
      "Epoch 54/100\n",
      "604/604 - 53s - loss: 0.0013 - root_mean_squared_error: 0.0355 - val_loss: 8.8943e-04 - val_root_mean_squared_error: 0.0298\n",
      "Epoch 55/100\n",
      "604/604 - 53s - loss: 0.0013 - root_mean_squared_error: 0.0354 - val_loss: 8.9566e-04 - val_root_mean_squared_error: 0.0299\n",
      "Epoch 56/100\n",
      "604/604 - 53s - loss: 0.0013 - root_mean_squared_error: 0.0354 - val_loss: 8.5376e-04 - val_root_mean_squared_error: 0.0292\n",
      "Epoch 57/100\n",
      "604/604 - 53s - loss: 0.0013 - root_mean_squared_error: 0.0354 - val_loss: 8.7255e-04 - val_root_mean_squared_error: 0.0295\n",
      "Epoch 58/100\n",
      "604/604 - 53s - loss: 0.0012 - root_mean_squared_error: 0.0353 - val_loss: 8.7991e-04 - val_root_mean_squared_error: 0.0297\n",
      "Epoch 59/100\n",
      "604/604 - 53s - loss: 0.0012 - root_mean_squared_error: 0.0353 - val_loss: 8.8777e-04 - val_root_mean_squared_error: 0.0298\n",
      "Epoch 60/100\n",
      "604/604 - 53s - loss: 0.0012 - root_mean_squared_error: 0.0353 - val_loss: 8.8518e-04 - val_root_mean_squared_error: 0.0298\n",
      "Epoch 61/100\n",
      "604/604 - 53s - loss: 0.0012 - root_mean_squared_error: 0.0352 - val_loss: 8.5172e-04 - val_root_mean_squared_error: 0.0292\n"
     ]
    },
    {
     "name": "stdout",
     "output_type": "stream",
     "text": [
      "Epoch 62/100\n",
      "604/604 - 53s - loss: 0.0012 - root_mean_squared_error: 0.0352 - val_loss: 8.5419e-04 - val_root_mean_squared_error: 0.0292\n",
      "Epoch 63/100\n",
      "604/604 - 53s - loss: 0.0012 - root_mean_squared_error: 0.0351 - val_loss: 8.5535e-04 - val_root_mean_squared_error: 0.0292\n",
      "Epoch 64/100\n",
      "604/604 - 53s - loss: 0.0012 - root_mean_squared_error: 0.0351 - val_loss: 8.6252e-04 - val_root_mean_squared_error: 0.0294\n",
      "Epoch 65/100\n",
      "604/604 - 53s - loss: 0.0012 - root_mean_squared_error: 0.0350 - val_loss: 8.4312e-04 - val_root_mean_squared_error: 0.0290\n",
      "Epoch 66/100\n",
      "604/604 - 53s - loss: 0.0012 - root_mean_squared_error: 0.0350 - val_loss: 8.6174e-04 - val_root_mean_squared_error: 0.0294\n",
      "Epoch 67/100\n",
      "604/604 - 53s - loss: 0.0012 - root_mean_squared_error: 0.0349 - val_loss: 8.3548e-04 - val_root_mean_squared_error: 0.0289\n",
      "Epoch 68/100\n",
      "604/604 - 53s - loss: 0.0012 - root_mean_squared_error: 0.0350 - val_loss: 8.5566e-04 - val_root_mean_squared_error: 0.0293\n",
      "Epoch 69/100\n",
      "604/604 - 53s - loss: 0.0012 - root_mean_squared_error: 0.0349 - val_loss: 8.5744e-04 - val_root_mean_squared_error: 0.0293\n",
      "Epoch 70/100\n",
      "604/604 - 53s - loss: 0.0012 - root_mean_squared_error: 0.0349 - val_loss: 8.4522e-04 - val_root_mean_squared_error: 0.0291\n",
      "Epoch 71/100\n",
      "604/604 - 53s - loss: 0.0012 - root_mean_squared_error: 0.0348 - val_loss: 8.7074e-04 - val_root_mean_squared_error: 0.0295\n",
      "Epoch 72/100\n",
      "604/604 - 53s - loss: 0.0012 - root_mean_squared_error: 0.0348 - val_loss: 8.6475e-04 - val_root_mean_squared_error: 0.0294\n",
      "Epoch 73/100\n",
      "604/604 - 53s - loss: 0.0012 - root_mean_squared_error: 0.0347 - val_loss: 8.4018e-04 - val_root_mean_squared_error: 0.0290\n",
      "Epoch 74/100\n",
      "604/604 - 53s - loss: 0.0012 - root_mean_squared_error: 0.0347 - val_loss: 8.5049e-04 - val_root_mean_squared_error: 0.0292\n",
      "Epoch 75/100\n",
      "604/604 - 53s - loss: 0.0012 - root_mean_squared_error: 0.0347 - val_loss: 8.4390e-04 - val_root_mean_squared_error: 0.0290\n",
      "Epoch 76/100\n",
      "604/604 - 53s - loss: 0.0012 - root_mean_squared_error: 0.0347 - val_loss: 8.7209e-04 - val_root_mean_squared_error: 0.0295\n",
      "Epoch 77/100\n",
      "604/604 - 55s - loss: 0.0012 - root_mean_squared_error: 0.0347 - val_loss: 8.5844e-04 - val_root_mean_squared_error: 0.0293\n",
      "Epoch 78/100\n",
      "604/604 - 54s - loss: 0.0012 - root_mean_squared_error: 0.0346 - val_loss: 8.5910e-04 - val_root_mean_squared_error: 0.0293\n",
      "Epoch 79/100\n",
      "604/604 - 53s - loss: 0.0012 - root_mean_squared_error: 0.0346 - val_loss: 8.5372e-04 - val_root_mean_squared_error: 0.0292\n",
      "Epoch 80/100\n",
      "604/604 - 53s - loss: 0.0012 - root_mean_squared_error: 0.0346 - val_loss: 8.4125e-04 - val_root_mean_squared_error: 0.0290\n",
      "Epoch 81/100\n",
      "604/604 - 53s - loss: 0.0012 - root_mean_squared_error: 0.0345 - val_loss: 8.6294e-04 - val_root_mean_squared_error: 0.0294\n",
      "Epoch 82/100\n",
      "604/604 - 53s - loss: 0.0012 - root_mean_squared_error: 0.0345 - val_loss: 8.7243e-04 - val_root_mean_squared_error: 0.0295\n",
      "Epoch 83/100\n",
      "604/604 - 54s - loss: 0.0012 - root_mean_squared_error: 0.0344 - val_loss: 8.3707e-04 - val_root_mean_squared_error: 0.0289\n",
      "Epoch 84/100\n",
      "604/604 - 53s - loss: 0.0012 - root_mean_squared_error: 0.0344 - val_loss: 8.4646e-04 - val_root_mean_squared_error: 0.0291\n",
      "Epoch 85/100\n",
      "604/604 - 53s - loss: 0.0012 - root_mean_squared_error: 0.0344 - val_loss: 8.5082e-04 - val_root_mean_squared_error: 0.0292\n",
      "Epoch 86/100\n",
      "604/604 - 53s - loss: 0.0012 - root_mean_squared_error: 0.0344 - val_loss: 8.5542e-04 - val_root_mean_squared_error: 0.0292\n",
      "Epoch 87/100\n",
      "604/604 - 53s - loss: 0.0012 - root_mean_squared_error: 0.0344 - val_loss: 8.4676e-04 - val_root_mean_squared_error: 0.0291\n",
      "Epoch 88/100\n",
      "604/604 - 53s - loss: 0.0012 - root_mean_squared_error: 0.0344 - val_loss: 8.6133e-04 - val_root_mean_squared_error: 0.0293\n",
      "Epoch 89/100\n",
      "604/604 - 53s - loss: 0.0012 - root_mean_squared_error: 0.0343 - val_loss: 8.4148e-04 - val_root_mean_squared_error: 0.0290\n",
      "Epoch 90/100\n",
      "604/604 - 53s - loss: 0.0012 - root_mean_squared_error: 0.0343 - val_loss: 8.3422e-04 - val_root_mean_squared_error: 0.0289\n",
      "Epoch 91/100\n",
      "604/604 - 53s - loss: 0.0012 - root_mean_squared_error: 0.0343 - val_loss: 8.4305e-04 - val_root_mean_squared_error: 0.0290\n",
      "Epoch 92/100\n",
      "604/604 - 53s - loss: 0.0012 - root_mean_squared_error: 0.0342 - val_loss: 8.4852e-04 - val_root_mean_squared_error: 0.0291\n",
      "Epoch 93/100\n",
      "604/604 - 53s - loss: 0.0012 - root_mean_squared_error: 0.0342 - val_loss: 8.5120e-04 - val_root_mean_squared_error: 0.0292\n",
      "Epoch 94/100\n",
      "604/604 - 53s - loss: 0.0012 - root_mean_squared_error: 0.0342 - val_loss: 8.6079e-04 - val_root_mean_squared_error: 0.0293\n",
      "Epoch 95/100\n",
      "604/604 - 53s - loss: 0.0012 - root_mean_squared_error: 0.0341 - val_loss: 8.3331e-04 - val_root_mean_squared_error: 0.0289\n",
      "Epoch 96/100\n",
      "604/604 - 53s - loss: 0.0012 - root_mean_squared_error: 0.0341 - val_loss: 8.3060e-04 - val_root_mean_squared_error: 0.0288\n",
      "Epoch 97/100\n",
      "604/604 - 53s - loss: 0.0012 - root_mean_squared_error: 0.0341 - val_loss: 8.6147e-04 - val_root_mean_squared_error: 0.0294\n",
      "Epoch 98/100\n",
      "604/604 - 53s - loss: 0.0012 - root_mean_squared_error: 0.0341 - val_loss: 8.4598e-04 - val_root_mean_squared_error: 0.0291\n",
      "Epoch 99/100\n",
      "604/604 - 53s - loss: 0.0012 - root_mean_squared_error: 0.0340 - val_loss: 8.4515e-04 - val_root_mean_squared_error: 0.0291\n",
      "Epoch 100/100\n",
      "604/604 - 53s - loss: 0.0012 - root_mean_squared_error: 0.0340 - val_loss: 8.4203e-04 - val_root_mean_squared_error: 0.0290\n"
     ]
    }
   ],
   "source": [
    "import tensorflow as tf\n",
    "from tensorflow import keras\n",
    "from tensorflow.keras import layers\n",
    "from keras.layers import Input,LSTM,Dropout,Dense\n",
    "\n",
    "\n",
    "timesteps = 10\n",
    "# create and fit the LSTM network\n",
    "\n",
    "model = keras.Sequential()\n",
    "model.add(LSTM(100,input_shape=(timesteps,5),return_sequences=True))\n",
    "model.add(Dropout(0.2))\n",
    "model.add(LSTM(100,input_shape=(timesteps,5),return_sequences=True))\n",
    "model.add(Dropout(0.2))\n",
    "model.add(LSTM(100,input_shape=(timesteps,5),return_sequences=False))\n",
    "model.add(Dropout(0.2))\n",
    "model.add(Dense(45,activation='linear'))\n",
    "model.compile(optimizer='rmsprop',loss='mean_squared_error',metrics=[tf.keras.metrics.RootMeanSquaredError()])\n",
    "\n",
    "history = model.fit(train_X, train_Y, epochs=100, batch_size=512, verbose=2, validation_data=(test_X, test_Y))"
   ]
  },
  {
   "cell_type": "code",
   "execution_count": 10,
   "metadata": {},
   "outputs": [],
   "source": [
    "testPredict = model.predict(test_X)"
   ]
  },
  {
   "cell_type": "code",
   "execution_count": 11,
   "metadata": {},
   "outputs": [],
   "source": [
    "newtestPredict = scaler.inverse_transform(testPredict)\n",
    "newtest_Y = scaler.inverse_transform(test_Y)"
   ]
  },
  {
   "cell_type": "code",
   "execution_count": 12,
   "metadata": {},
   "outputs": [
    {
     "name": "stdout",
     "output_type": "stream",
     "text": [
      "Test Score: 0.83096 RMSE\n"
     ]
    }
   ],
   "source": [
    "testScore = sqrt(mean_squared_error(newtest_Y, newtestPredict))\n",
    "print('Test Score: %.5f RMSE' % (testScore))"
   ]
  },
  {
   "cell_type": "code",
   "execution_count": null,
   "metadata": {},
   "outputs": [],
   "source": []
  }
 ],
 "metadata": {
  "kernelspec": {
   "display_name": "Python 3",
   "language": "python",
   "name": "python3"
  },
  "language_info": {
   "codemirror_mode": {
    "name": "ipython",
    "version": 3
   },
   "file_extension": ".py",
   "mimetype": "text/x-python",
   "name": "python",
   "nbconvert_exporter": "python",
   "pygments_lexer": "ipython3",
   "version": "3.8.3"
  }
 },
 "nbformat": 4,
 "nbformat_minor": 4
}
