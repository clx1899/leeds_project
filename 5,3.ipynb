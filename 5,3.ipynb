{
 "cells": [
  {
   "cell_type": "code",
   "execution_count": 1,
   "metadata": {},
   "outputs": [],
   "source": [
    "from test import EigenData\n",
    "import numpy as np\n",
    "import scipy.io\n",
    "import h5py\n",
    "from sklearn.preprocessing import MinMaxScaler\n",
    "from sklearn.metrics import mean_squared_error\n",
    "from math import sqrt\n",
    "import matplotlib.pyplot as plt\n",
    "from mpl_toolkits.axes_grid1 import make_axes_locatable\n",
    "import torch\n",
    "%matplotlib inline"
   ]
  },
  {
   "cell_type": "code",
   "execution_count": 2,
   "metadata": {},
   "outputs": [
    {
     "name": "stdout",
     "output_type": "stream",
     "text": [
      "b (5, 33600)\n",
      "(100, 5) (5, 33600)\n",
      "--> (100, 33600)\n",
      "c (5, 33600)\n",
      "(100, 5) (5, 33600)\n",
      "--> (100, 33600)\n",
      "d (5, 33600)\n",
      "(100, 5) (5, 33600)\n",
      "--> (100, 33600)\n",
      "e (5, 33600)\n",
      "(100, 5) (5, 33600)\n",
      "--> (100, 33600)\n",
      "f (5, 33600)\n",
      "(100, 5) (5, 33600)\n",
      "--> (100, 33600)\n",
      "g (6, 33600)\n",
      "(100, 6) (6, 33600)\n",
      "--> (100, 33600)\n",
      "h (5, 33600)\n",
      "(100, 5) (5, 33600)\n",
      "--> (100, 33600)\n",
      "i (6, 33600)\n",
      "(100, 6) (6, 33600)\n",
      "--> (100, 33600)\n",
      "j (5, 33600)\n",
      "(100, 5) (5, 33600)\n",
      "--> (100, 33600)\n",
      "k (5, 33600)\n",
      "(100, 5) (5, 33600)\n",
      "--> (100, 33600)\n",
      "l (5, 33600)\n",
      "(100, 5) (5, 33600)\n",
      "--> (100, 33600)\n",
      "m (5, 33600)\n",
      "(100, 5) (5, 33600)\n",
      "--> (100, 33600)\n",
      "(403200, 5)\n"
     ]
    }
   ],
   "source": [
    "data = EigenData()\n",
    "eigenworms = data.get_eigenworms('EigenWorms.mat')\n",
    "\n",
    "footage = data.get_footage('20150814-All-PNAS2011-DataStitched .mat')\n",
    "newdata = torch.rand(33600,5)\n",
    "for k in footage.keys():\n",
    "    print(k, footage[k].shape)\n",
    "    arr1=footage[k]\n",
    "\n",
    "    arr2=arr1[:5,]\n",
    "\n",
    "    r = data.reconstruct(footage[k])\n",
    "    print('-->', r.shape)\n",
    "    dataset1 = arr2.transpose()\n",
    "\n",
    "    newdata = np.concatenate((newdata,dataset1),axis=0)\n",
    "newdata = newdata[33600:,]\n",
    "print(newdata.shape)"
   ]
  },
  {
   "cell_type": "code",
   "execution_count": 3,
   "metadata": {},
   "outputs": [
    {
     "name": "stdout",
     "output_type": "stream",
     "text": [
      "(386422, 5)\n",
      "386422\n"
     ]
    }
   ],
   "source": [
    "data1=newdata[~np.isnan(newdata).any(axis=1)]\n",
    "\n",
    "data1 = data1.astype('float32')\n",
    "print(data1.shape)\n",
    "print(len(data1))"
   ]
  },
  {
   "cell_type": "code",
   "execution_count": 4,
   "metadata": {},
   "outputs": [],
   "source": [
    "def create_dataset(data,n_predictions,n_next):\n",
    "    \n",
    "   \n",
    "    dim = data.shape[1]\n",
    "    train_X, train_Y = [], []\n",
    "    for i in range(data.shape[0]-n_predictions-n_next-1):\n",
    "        a = data[i:(i+n_predictions),:]\n",
    "        train_X.append(a)\n",
    "        tempb = data[(i+n_predictions):(i+n_predictions+n_next),:]\n",
    "        b = []\n",
    "        for j in range(len(tempb)):\n",
    "            for k in range(dim):\n",
    "                b.append(tempb[j,k])\n",
    "        train_Y.append(b)\n",
    "    train_X = np.array(train_X,dtype='float64')\n",
    "    train_Y = np.array(train_Y,dtype='float64')\n",
    "\n",
    "    return train_X, train_Y"
   ]
  },
  {
   "cell_type": "code",
   "execution_count": 5,
   "metadata": {},
   "outputs": [
    {
     "name": "stdout",
     "output_type": "stream",
     "text": [
      "(386413, 5, 5)\n",
      "(386413, 15)\n"
     ]
    }
   ],
   "source": [
    "X, Y = create_dataset(data1,5,3)\n",
    "\n",
    "print(X.shape)\n",
    "print(Y.shape)"
   ]
  },
  {
   "cell_type": "code",
   "execution_count": 6,
   "metadata": {},
   "outputs": [],
   "source": [
    "scaler = MinMaxScaler(feature_range=(0, 1))\n",
    "data1 = scaler.fit_transform(data1)\n",
    "Y = scaler.fit_transform(Y)"
   ]
  },
  {
   "cell_type": "code",
   "execution_count": 7,
   "metadata": {},
   "outputs": [
    {
     "name": "stdout",
     "output_type": "stream",
     "text": [
      "(386413, 5, 5)\n",
      "(386413, 15)\n"
     ]
    }
   ],
   "source": [
    "data_X, data_Y = create_dataset(data1,5,3)\n",
    "\n",
    "print(data_X.shape)\n",
    "print(data_Y.shape)"
   ]
  },
  {
   "cell_type": "code",
   "execution_count": 8,
   "metadata": {},
   "outputs": [
    {
     "name": "stdout",
     "output_type": "stream",
     "text": [
      "(309130, 5, 5)\n",
      "(309130, 15)\n",
      "(77283, 5, 5)\n",
      "(77283, 15)\n"
     ]
    }
   ],
   "source": [
    "train_size = int(len(data_X) * 0.8)\n",
    "test_size = len(data_X) - train_size\n",
    "train_X = data_X[:train_size]\n",
    "train_Y = Y[:train_size]\n",
    "test_X = data_X[train_size:]\n",
    "test_Y = Y[train_size:]\n",
    "\n",
    "print(train_X.shape)\n",
    "print(train_Y.shape)\n",
    "print(test_X.shape)\n",
    "print(test_Y.shape)"
   ]
  },
  {
   "cell_type": "code",
   "execution_count": 9,
   "metadata": {},
   "outputs": [
    {
     "name": "stdout",
     "output_type": "stream",
     "text": [
      "Epoch 1/100\n",
      "604/604 - 32s - loss: 0.0114 - root_mean_squared_error: 0.1067 - val_loss: 0.0043 - val_root_mean_squared_error: 0.0655\n",
      "Epoch 2/100\n",
      "604/604 - 28s - loss: 0.0040 - root_mean_squared_error: 0.0634 - val_loss: 0.0015 - val_root_mean_squared_error: 0.0389\n",
      "Epoch 3/100\n",
      "604/604 - 28s - loss: 0.0023 - root_mean_squared_error: 0.0480 - val_loss: 6.8897e-04 - val_root_mean_squared_error: 0.0262\n",
      "Epoch 4/100\n",
      "604/604 - 26s - loss: 0.0016 - root_mean_squared_error: 0.0402 - val_loss: 7.5592e-04 - val_root_mean_squared_error: 0.0275\n",
      "Epoch 5/100\n",
      "604/604 - 27s - loss: 0.0013 - root_mean_squared_error: 0.0357 - val_loss: 6.3539e-04 - val_root_mean_squared_error: 0.0252\n",
      "Epoch 6/100\n",
      "604/604 - 28s - loss: 0.0011 - root_mean_squared_error: 0.0327 - val_loss: 3.6297e-04 - val_root_mean_squared_error: 0.0191\n",
      "Epoch 7/100\n",
      "604/604 - 27s - loss: 9.2365e-04 - root_mean_squared_error: 0.0304 - val_loss: 3.1611e-04 - val_root_mean_squared_error: 0.0178\n",
      "Epoch 8/100\n",
      "604/604 - 26s - loss: 8.2124e-04 - root_mean_squared_error: 0.0287 - val_loss: 2.8357e-04 - val_root_mean_squared_error: 0.0168\n",
      "Epoch 9/100\n",
      "604/604 - 26s - loss: 7.4725e-04 - root_mean_squared_error: 0.0273 - val_loss: 2.7525e-04 - val_root_mean_squared_error: 0.0166\n",
      "Epoch 10/100\n",
      "604/604 - 26s - loss: 6.9611e-04 - root_mean_squared_error: 0.0264 - val_loss: 2.3721e-04 - val_root_mean_squared_error: 0.0154\n",
      "Epoch 11/100\n",
      "604/604 - 26s - loss: 6.6030e-04 - root_mean_squared_error: 0.0257 - val_loss: 2.4702e-04 - val_root_mean_squared_error: 0.0157\n",
      "Epoch 12/100\n",
      "604/604 - 26s - loss: 6.3573e-04 - root_mean_squared_error: 0.0252 - val_loss: 2.3709e-04 - val_root_mean_squared_error: 0.0154\n",
      "Epoch 13/100\n",
      "604/604 - 26s - loss: 6.1758e-04 - root_mean_squared_error: 0.0249 - val_loss: 2.8717e-04 - val_root_mean_squared_error: 0.0169\n",
      "Epoch 14/100\n",
      "604/604 - 26s - loss: 6.0018e-04 - root_mean_squared_error: 0.0245 - val_loss: 2.1853e-04 - val_root_mean_squared_error: 0.0148\n",
      "Epoch 15/100\n",
      "604/604 - 26s - loss: 5.8708e-04 - root_mean_squared_error: 0.0242 - val_loss: 2.6062e-04 - val_root_mean_squared_error: 0.0161\n",
      "Epoch 16/100\n",
      "604/604 - 26s - loss: 5.7509e-04 - root_mean_squared_error: 0.0240 - val_loss: 2.4659e-04 - val_root_mean_squared_error: 0.0157\n",
      "Epoch 17/100\n",
      "604/604 - 26s - loss: 5.6437e-04 - root_mean_squared_error: 0.0238 - val_loss: 2.3687e-04 - val_root_mean_squared_error: 0.0154\n",
      "Epoch 18/100\n",
      "604/604 - 27s - loss: 5.5569e-04 - root_mean_squared_error: 0.0236 - val_loss: 1.7077e-04 - val_root_mean_squared_error: 0.0131\n",
      "Epoch 19/100\n",
      "604/604 - 27s - loss: 5.4612e-04 - root_mean_squared_error: 0.0234 - val_loss: 2.0280e-04 - val_root_mean_squared_error: 0.0142\n",
      "Epoch 20/100\n",
      "604/604 - 27s - loss: 5.3891e-04 - root_mean_squared_error: 0.0232 - val_loss: 2.0792e-04 - val_root_mean_squared_error: 0.0144\n",
      "Epoch 21/100\n",
      "604/604 - 26s - loss: 5.3139e-04 - root_mean_squared_error: 0.0231 - val_loss: 1.7016e-04 - val_root_mean_squared_error: 0.0130\n",
      "Epoch 22/100\n",
      "604/604 - 26s - loss: 5.2595e-04 - root_mean_squared_error: 0.0229 - val_loss: 1.7738e-04 - val_root_mean_squared_error: 0.0133\n",
      "Epoch 23/100\n",
      "604/604 - 26s - loss: 5.1874e-04 - root_mean_squared_error: 0.0228 - val_loss: 1.7844e-04 - val_root_mean_squared_error: 0.0134\n",
      "Epoch 24/100\n",
      "604/604 - 26s - loss: 5.1493e-04 - root_mean_squared_error: 0.0227 - val_loss: 1.9046e-04 - val_root_mean_squared_error: 0.0138\n",
      "Epoch 25/100\n",
      "604/604 - 26s - loss: 5.0842e-04 - root_mean_squared_error: 0.0225 - val_loss: 1.6071e-04 - val_root_mean_squared_error: 0.0127\n",
      "Epoch 26/100\n",
      "604/604 - 26s - loss: 5.0462e-04 - root_mean_squared_error: 0.0225 - val_loss: 1.9644e-04 - val_root_mean_squared_error: 0.0140\n",
      "Epoch 27/100\n",
      "604/604 - 26s - loss: 4.9954e-04 - root_mean_squared_error: 0.0224 - val_loss: 1.7458e-04 - val_root_mean_squared_error: 0.0132\n",
      "Epoch 28/100\n",
      "604/604 - 26s - loss: 4.9547e-04 - root_mean_squared_error: 0.0223 - val_loss: 1.9369e-04 - val_root_mean_squared_error: 0.0139\n",
      "Epoch 29/100\n",
      "604/604 - 26s - loss: 4.9311e-04 - root_mean_squared_error: 0.0222 - val_loss: 1.8667e-04 - val_root_mean_squared_error: 0.0137\n",
      "Epoch 30/100\n",
      "604/604 - 26s - loss: 4.8898e-04 - root_mean_squared_error: 0.0221 - val_loss: 1.6011e-04 - val_root_mean_squared_error: 0.0127\n",
      "Epoch 31/100\n",
      "604/604 - 26s - loss: 4.8603e-04 - root_mean_squared_error: 0.0220 - val_loss: 1.6995e-04 - val_root_mean_squared_error: 0.0130\n",
      "Epoch 32/100\n",
      "604/604 - 26s - loss: 4.8298e-04 - root_mean_squared_error: 0.0220 - val_loss: 1.6863e-04 - val_root_mean_squared_error: 0.0130\n",
      "Epoch 33/100\n",
      "604/604 - 26s - loss: 4.7950e-04 - root_mean_squared_error: 0.0219 - val_loss: 1.8882e-04 - val_root_mean_squared_error: 0.0137\n",
      "Epoch 34/100\n",
      "604/604 - 26s - loss: 4.7680e-04 - root_mean_squared_error: 0.0218 - val_loss: 1.8446e-04 - val_root_mean_squared_error: 0.0136\n",
      "Epoch 35/100\n",
      "604/604 - 26s - loss: 4.7386e-04 - root_mean_squared_error: 0.0218 - val_loss: 1.6165e-04 - val_root_mean_squared_error: 0.0127\n",
      "Epoch 36/100\n",
      "604/604 - 26s - loss: 4.7104e-04 - root_mean_squared_error: 0.0217 - val_loss: 1.4189e-04 - val_root_mean_squared_error: 0.0119\n",
      "Epoch 37/100\n",
      "604/604 - 26s - loss: 4.7023e-04 - root_mean_squared_error: 0.0217 - val_loss: 1.6508e-04 - val_root_mean_squared_error: 0.0128\n",
      "Epoch 38/100\n",
      "604/604 - 26s - loss: 4.6774e-04 - root_mean_squared_error: 0.0216 - val_loss: 1.4281e-04 - val_root_mean_squared_error: 0.0120\n",
      "Epoch 39/100\n",
      "604/604 - 26s - loss: 4.6642e-04 - root_mean_squared_error: 0.0216 - val_loss: 1.3176e-04 - val_root_mean_squared_error: 0.0115\n",
      "Epoch 40/100\n",
      "604/604 - 26s - loss: 4.6313e-04 - root_mean_squared_error: 0.0215 - val_loss: 1.6330e-04 - val_root_mean_squared_error: 0.0128\n",
      "Epoch 41/100\n",
      "604/604 - 26s - loss: 4.6044e-04 - root_mean_squared_error: 0.0215 - val_loss: 1.4220e-04 - val_root_mean_squared_error: 0.0119\n",
      "Epoch 42/100\n",
      "604/604 - 26s - loss: 4.5963e-04 - root_mean_squared_error: 0.0214 - val_loss: 1.5972e-04 - val_root_mean_squared_error: 0.0126\n",
      "Epoch 43/100\n",
      "604/604 - 26s - loss: 4.5744e-04 - root_mean_squared_error: 0.0214 - val_loss: 1.5844e-04 - val_root_mean_squared_error: 0.0126\n",
      "Epoch 44/100\n",
      "604/604 - 26s - loss: 4.5420e-04 - root_mean_squared_error: 0.0213 - val_loss: 1.4714e-04 - val_root_mean_squared_error: 0.0121\n",
      "Epoch 45/100\n",
      "604/604 - 26s - loss: 4.5329e-04 - root_mean_squared_error: 0.0213 - val_loss: 1.5028e-04 - val_root_mean_squared_error: 0.0123\n",
      "Epoch 46/100\n",
      "604/604 - 26s - loss: 4.5088e-04 - root_mean_squared_error: 0.0212 - val_loss: 1.4413e-04 - val_root_mean_squared_error: 0.0120\n",
      "Epoch 47/100\n",
      "604/604 - 26s - loss: 4.5069e-04 - root_mean_squared_error: 0.0212 - val_loss: 1.5719e-04 - val_root_mean_squared_error: 0.0125\n",
      "Epoch 48/100\n",
      "604/604 - 26s - loss: 4.4924e-04 - root_mean_squared_error: 0.0212 - val_loss: 1.3207e-04 - val_root_mean_squared_error: 0.0115\n",
      "Epoch 49/100\n",
      "604/604 - 26s - loss: 4.4685e-04 - root_mean_squared_error: 0.0211 - val_loss: 1.4104e-04 - val_root_mean_squared_error: 0.0119\n",
      "Epoch 50/100\n",
      "604/604 - 26s - loss: 4.4613e-04 - root_mean_squared_error: 0.0211 - val_loss: 1.5532e-04 - val_root_mean_squared_error: 0.0125\n",
      "Epoch 51/100\n",
      "604/604 - 26s - loss: 4.4363e-04 - root_mean_squared_error: 0.0211 - val_loss: 1.3818e-04 - val_root_mean_squared_error: 0.0118\n",
      "Epoch 52/100\n",
      "604/604 - 26s - loss: 4.4317e-04 - root_mean_squared_error: 0.0211 - val_loss: 1.3797e-04 - val_root_mean_squared_error: 0.0117\n",
      "Epoch 53/100\n",
      "604/604 - 26s - loss: 4.4257e-04 - root_mean_squared_error: 0.0210 - val_loss: 1.4093e-04 - val_root_mean_squared_error: 0.0119\n",
      "Epoch 54/100\n",
      "604/604 - 26s - loss: 4.4031e-04 - root_mean_squared_error: 0.0210 - val_loss: 1.4209e-04 - val_root_mean_squared_error: 0.0119\n",
      "Epoch 55/100\n",
      "604/604 - 26s - loss: 4.3844e-04 - root_mean_squared_error: 0.0209 - val_loss: 1.5662e-04 - val_root_mean_squared_error: 0.0125\n",
      "Epoch 56/100\n",
      "604/604 - 26s - loss: 4.3611e-04 - root_mean_squared_error: 0.0209 - val_loss: 1.1425e-04 - val_root_mean_squared_error: 0.0107\n",
      "Epoch 57/100\n",
      "604/604 - 25s - loss: 4.3606e-04 - root_mean_squared_error: 0.0209 - val_loss: 1.3899e-04 - val_root_mean_squared_error: 0.0118\n",
      "Epoch 58/100\n",
      "604/604 - 26s - loss: 4.3352e-04 - root_mean_squared_error: 0.0208 - val_loss: 1.4398e-04 - val_root_mean_squared_error: 0.0120\n",
      "Epoch 59/100\n",
      "604/604 - 26s - loss: 4.3420e-04 - root_mean_squared_error: 0.0208 - val_loss: 1.3798e-04 - val_root_mean_squared_error: 0.0117\n"
     ]
    },
    {
     "name": "stdout",
     "output_type": "stream",
     "text": [
      "Epoch 60/100\n",
      "604/604 - 26s - loss: 4.3139e-04 - root_mean_squared_error: 0.0208 - val_loss: 1.1907e-04 - val_root_mean_squared_error: 0.0109\n",
      "Epoch 61/100\n",
      "604/604 - 26s - loss: 4.3212e-04 - root_mean_squared_error: 0.0208 - val_loss: 1.3446e-04 - val_root_mean_squared_error: 0.0116\n",
      "Epoch 62/100\n",
      "604/604 - 26s - loss: 4.2899e-04 - root_mean_squared_error: 0.0207 - val_loss: 1.3194e-04 - val_root_mean_squared_error: 0.0115\n",
      "Epoch 63/100\n",
      "604/604 - 26s - loss: 4.2908e-04 - root_mean_squared_error: 0.0207 - val_loss: 1.3111e-04 - val_root_mean_squared_error: 0.0115\n",
      "Epoch 64/100\n",
      "604/604 - 26s - loss: 4.2809e-04 - root_mean_squared_error: 0.0207 - val_loss: 1.3529e-04 - val_root_mean_squared_error: 0.0116\n",
      "Epoch 65/100\n",
      "604/604 - 27s - loss: 4.2570e-04 - root_mean_squared_error: 0.0206 - val_loss: 1.2775e-04 - val_root_mean_squared_error: 0.0113\n",
      "Epoch 66/100\n",
      "604/604 - 26s - loss: 4.2527e-04 - root_mean_squared_error: 0.0206 - val_loss: 1.2678e-04 - val_root_mean_squared_error: 0.0113\n",
      "Epoch 67/100\n",
      "604/604 - 26s - loss: 4.2383e-04 - root_mean_squared_error: 0.0206 - val_loss: 1.1614e-04 - val_root_mean_squared_error: 0.0108\n",
      "Epoch 68/100\n",
      "604/604 - 26s - loss: 4.2406e-04 - root_mean_squared_error: 0.0206 - val_loss: 1.3843e-04 - val_root_mean_squared_error: 0.0118\n",
      "Epoch 69/100\n",
      "604/604 - 26s - loss: 4.2369e-04 - root_mean_squared_error: 0.0206 - val_loss: 1.1875e-04 - val_root_mean_squared_error: 0.0109\n",
      "Epoch 70/100\n",
      "604/604 - 26s - loss: 4.2316e-04 - root_mean_squared_error: 0.0206 - val_loss: 1.2565e-04 - val_root_mean_squared_error: 0.0112\n",
      "Epoch 71/100\n",
      "604/604 - 26s - loss: 4.2126e-04 - root_mean_squared_error: 0.0205 - val_loss: 1.2626e-04 - val_root_mean_squared_error: 0.0112\n",
      "Epoch 72/100\n",
      "604/604 - 26s - loss: 4.2089e-04 - root_mean_squared_error: 0.0205 - val_loss: 1.2453e-04 - val_root_mean_squared_error: 0.0112\n",
      "Epoch 73/100\n",
      "604/604 - 26s - loss: 4.1908e-04 - root_mean_squared_error: 0.0205 - val_loss: 1.0269e-04 - val_root_mean_squared_error: 0.0101\n",
      "Epoch 74/100\n",
      "604/604 - 26s - loss: 4.1873e-04 - root_mean_squared_error: 0.0205 - val_loss: 1.2113e-04 - val_root_mean_squared_error: 0.0110\n",
      "Epoch 75/100\n",
      "604/604 - 26s - loss: 4.1850e-04 - root_mean_squared_error: 0.0205 - val_loss: 1.2058e-04 - val_root_mean_squared_error: 0.0110\n",
      "Epoch 76/100\n",
      "604/604 - 26s - loss: 4.1646e-04 - root_mean_squared_error: 0.0204 - val_loss: 1.3995e-04 - val_root_mean_squared_error: 0.0118\n",
      "Epoch 77/100\n",
      "604/604 - 26s - loss: 4.1667e-04 - root_mean_squared_error: 0.0204 - val_loss: 1.2653e-04 - val_root_mean_squared_error: 0.0112\n",
      "Epoch 78/100\n",
      "604/604 - 26s - loss: 4.1595e-04 - root_mean_squared_error: 0.0204 - val_loss: 1.2805e-04 - val_root_mean_squared_error: 0.0113\n",
      "Epoch 79/100\n",
      "604/604 - 26s - loss: 4.1508e-04 - root_mean_squared_error: 0.0204 - val_loss: 1.1122e-04 - val_root_mean_squared_error: 0.0105\n",
      "Epoch 80/100\n",
      "604/604 - 26s - loss: 4.1317e-04 - root_mean_squared_error: 0.0203 - val_loss: 1.1706e-04 - val_root_mean_squared_error: 0.0108\n",
      "Epoch 81/100\n",
      "604/604 - 26s - loss: 4.1364e-04 - root_mean_squared_error: 0.0203 - val_loss: 1.1225e-04 - val_root_mean_squared_error: 0.0106\n",
      "Epoch 82/100\n",
      "604/604 - 26s - loss: 4.1191e-04 - root_mean_squared_error: 0.0203 - val_loss: 1.4011e-04 - val_root_mean_squared_error: 0.0118\n",
      "Epoch 83/100\n",
      "604/604 - 26s - loss: 4.1262e-04 - root_mean_squared_error: 0.0203 - val_loss: 1.1662e-04 - val_root_mean_squared_error: 0.0108\n",
      "Epoch 84/100\n",
      "604/604 - 26s - loss: 4.1177e-04 - root_mean_squared_error: 0.0203 - val_loss: 1.3034e-04 - val_root_mean_squared_error: 0.0114\n",
      "Epoch 85/100\n",
      "604/604 - 26s - loss: 4.1060e-04 - root_mean_squared_error: 0.0203 - val_loss: 1.0540e-04 - val_root_mean_squared_error: 0.0103\n",
      "Epoch 86/100\n",
      "604/604 - 26s - loss: 4.0961e-04 - root_mean_squared_error: 0.0202 - val_loss: 1.3029e-04 - val_root_mean_squared_error: 0.0114\n",
      "Epoch 87/100\n",
      "604/604 - 26s - loss: 4.0816e-04 - root_mean_squared_error: 0.0202 - val_loss: 1.5423e-04 - val_root_mean_squared_error: 0.0124\n",
      "Epoch 88/100\n",
      "604/604 - 27s - loss: 4.0789e-04 - root_mean_squared_error: 0.0202 - val_loss: 1.3156e-04 - val_root_mean_squared_error: 0.0115\n",
      "Epoch 89/100\n",
      "604/604 - 26s - loss: 4.0664e-04 - root_mean_squared_error: 0.0202 - val_loss: 1.2763e-04 - val_root_mean_squared_error: 0.0113\n",
      "Epoch 90/100\n",
      "604/604 - 27s - loss: 4.0749e-04 - root_mean_squared_error: 0.0202 - val_loss: 1.0304e-04 - val_root_mean_squared_error: 0.0102\n",
      "Epoch 91/100\n",
      "604/604 - 26s - loss: 4.0536e-04 - root_mean_squared_error: 0.0201 - val_loss: 1.1120e-04 - val_root_mean_squared_error: 0.0105\n",
      "Epoch 92/100\n",
      "604/604 - 26s - loss: 4.0462e-04 - root_mean_squared_error: 0.0201 - val_loss: 1.1708e-04 - val_root_mean_squared_error: 0.0108\n",
      "Epoch 93/100\n",
      "604/604 - 26s - loss: 4.0547e-04 - root_mean_squared_error: 0.0201 - val_loss: 1.1188e-04 - val_root_mean_squared_error: 0.0106\n",
      "Epoch 94/100\n",
      "604/604 - 26s - loss: 4.0397e-04 - root_mean_squared_error: 0.0201 - val_loss: 1.1807e-04 - val_root_mean_squared_error: 0.0109\n",
      "Epoch 95/100\n",
      "604/604 - 26s - loss: 4.0453e-04 - root_mean_squared_error: 0.0201 - val_loss: 1.2288e-04 - val_root_mean_squared_error: 0.0111\n",
      "Epoch 96/100\n",
      "604/604 - 26s - loss: 4.0497e-04 - root_mean_squared_error: 0.0201 - val_loss: 1.1386e-04 - val_root_mean_squared_error: 0.0107\n",
      "Epoch 97/100\n",
      "604/604 - 28s - loss: 4.0298e-04 - root_mean_squared_error: 0.0201 - val_loss: 1.0920e-04 - val_root_mean_squared_error: 0.0104\n",
      "Epoch 98/100\n",
      "604/604 - 27s - loss: 4.0233e-04 - root_mean_squared_error: 0.0201 - val_loss: 1.2510e-04 - val_root_mean_squared_error: 0.0112\n",
      "Epoch 99/100\n",
      "604/604 - 27s - loss: 4.0043e-04 - root_mean_squared_error: 0.0200 - val_loss: 1.1378e-04 - val_root_mean_squared_error: 0.0107\n",
      "Epoch 100/100\n",
      "604/604 - 26s - loss: 4.0130e-04 - root_mean_squared_error: 0.0200 - val_loss: 1.1432e-04 - val_root_mean_squared_error: 0.0107\n"
     ]
    }
   ],
   "source": [
    "import tensorflow as tf\n",
    "from tensorflow import keras\n",
    "from tensorflow.keras import layers\n",
    "from keras.layers import Input,LSTM,Dropout,Dense\n",
    "\n",
    "\n",
    "timesteps = 5\n",
    "# create and fit the LSTM network\n",
    "\n",
    "model = keras.Sequential()\n",
    "model.add(LSTM(100,input_shape=(timesteps,5),return_sequences=True))\n",
    "model.add(Dropout(0.2))\n",
    "model.add(LSTM(100,input_shape=(timesteps,5),return_sequences=True))\n",
    "model.add(Dropout(0.2))\n",
    "model.add(LSTM(100,input_shape=(timesteps,5),return_sequences=False))\n",
    "model.add(Dropout(0.2))\n",
    "model.add(Dense(15,activation='linear'))\n",
    "model.compile(optimizer='rmsprop',loss='mean_squared_error',metrics=[tf.keras.metrics.RootMeanSquaredError()])\n",
    "\n",
    "history = model.fit(train_X, train_Y, epochs=100, batch_size=512, verbose=2, validation_data=(test_X, test_Y))"
   ]
  },
  {
   "cell_type": "code",
   "execution_count": 10,
   "metadata": {},
   "outputs": [],
   "source": [
    "testPredict = model.predict(test_X)"
   ]
  },
  {
   "cell_type": "code",
   "execution_count": 11,
   "metadata": {},
   "outputs": [],
   "source": [
    "newtestPredict = scaler.inverse_transform(testPredict)\n",
    "newtest_Y = scaler.inverse_transform(test_Y)"
   ]
  },
  {
   "cell_type": "code",
   "execution_count": 12,
   "metadata": {},
   "outputs": [
    {
     "name": "stdout",
     "output_type": "stream",
     "text": [
      "Test Score: 0.35322 RMSE\n"
     ]
    }
   ],
   "source": [
    "testScore = sqrt(mean_squared_error(newtest_Y, newtestPredict))\n",
    "print('Test Score: %.5f RMSE' % (testScore))"
   ]
  },
  {
   "cell_type": "code",
   "execution_count": null,
   "metadata": {},
   "outputs": [],
   "source": []
  }
 ],
 "metadata": {
  "kernelspec": {
   "display_name": "Python 3",
   "language": "python",
   "name": "python3"
  },
  "language_info": {
   "codemirror_mode": {
    "name": "ipython",
    "version": 3
   },
   "file_extension": ".py",
   "mimetype": "text/x-python",
   "name": "python",
   "nbconvert_exporter": "python",
   "pygments_lexer": "ipython3",
   "version": "3.8.3"
  }
 },
 "nbformat": 4,
 "nbformat_minor": 4
}
