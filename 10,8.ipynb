{
 "cells": [
  {
   "cell_type": "code",
   "execution_count": 1,
   "metadata": {},
   "outputs": [],
   "source": [
    "from test import EigenData\n",
    "import numpy as np\n",
    "import scipy.io\n",
    "import h5py\n",
    "from sklearn.preprocessing import MinMaxScaler\n",
    "from sklearn.metrics import mean_squared_error\n",
    "from math import sqrt\n",
    "import matplotlib.pyplot as plt\n",
    "from mpl_toolkits.axes_grid1 import make_axes_locatable\n",
    "import torch\n",
    "%matplotlib inline"
   ]
  },
  {
   "cell_type": "code",
   "execution_count": 2,
   "metadata": {},
   "outputs": [
    {
     "name": "stdout",
     "output_type": "stream",
     "text": [
      "b (5, 33600)\n",
      "(100, 5) (5, 33600)\n",
      "--> (100, 33600)\n",
      "c (5, 33600)\n",
      "(100, 5) (5, 33600)\n",
      "--> (100, 33600)\n",
      "d (5, 33600)\n",
      "(100, 5) (5, 33600)\n",
      "--> (100, 33600)\n",
      "e (5, 33600)\n",
      "(100, 5) (5, 33600)\n",
      "--> (100, 33600)\n",
      "f (5, 33600)\n",
      "(100, 5) (5, 33600)\n",
      "--> (100, 33600)\n",
      "g (6, 33600)\n",
      "(100, 6) (6, 33600)\n",
      "--> (100, 33600)\n",
      "h (5, 33600)\n",
      "(100, 5) (5, 33600)\n",
      "--> (100, 33600)\n",
      "i (6, 33600)\n",
      "(100, 6) (6, 33600)\n",
      "--> (100, 33600)\n",
      "j (5, 33600)\n",
      "(100, 5) (5, 33600)\n",
      "--> (100, 33600)\n",
      "k (5, 33600)\n",
      "(100, 5) (5, 33600)\n",
      "--> (100, 33600)\n",
      "l (5, 33600)\n",
      "(100, 5) (5, 33600)\n",
      "--> (100, 33600)\n",
      "m (5, 33600)\n",
      "(100, 5) (5, 33600)\n",
      "--> (100, 33600)\n",
      "(403200, 5)\n"
     ]
    }
   ],
   "source": [
    "data = EigenData()\n",
    "eigenworms = data.get_eigenworms('EigenWorms.mat')\n",
    "\n",
    "footage = data.get_footage('20150814-All-PNAS2011-DataStitched .mat')\n",
    "newdata = torch.rand(33600,5)\n",
    "for k in footage.keys():\n",
    "    print(k, footage[k].shape)\n",
    "    arr1=footage[k]\n",
    "\n",
    "    arr2=arr1[:5,]\n",
    "\n",
    "    r = data.reconstruct(footage[k])\n",
    "    print('-->', r.shape)\n",
    "    dataset1 = arr2.transpose()\n",
    "\n",
    "    newdata = np.concatenate((newdata,dataset1),axis=0)\n",
    "newdata = newdata[33600:,]\n",
    "print(newdata.shape)"
   ]
  },
  {
   "cell_type": "code",
   "execution_count": 3,
   "metadata": {},
   "outputs": [
    {
     "name": "stdout",
     "output_type": "stream",
     "text": [
      "(386422, 5)\n",
      "386422\n"
     ]
    }
   ],
   "source": [
    "data1=newdata[~np.isnan(newdata).any(axis=1)]\n",
    "\n",
    "data1 = data1.astype('float32')\n",
    "print(data1.shape)\n",
    "print(len(data1))"
   ]
  },
  {
   "cell_type": "code",
   "execution_count": 4,
   "metadata": {},
   "outputs": [],
   "source": [
    "def create_dataset(data,n_predictions,n_next):\n",
    "    \n",
    "   \n",
    "    dim = data.shape[1]\n",
    "    train_X, train_Y = [], []\n",
    "    for i in range(data.shape[0]-n_predictions-n_next-1):\n",
    "        a = data[i:(i+n_predictions),:]\n",
    "        train_X.append(a)\n",
    "        tempb = data[(i+n_predictions):(i+n_predictions+n_next),:]\n",
    "        b = []\n",
    "        for j in range(len(tempb)):\n",
    "            for k in range(dim):\n",
    "                b.append(tempb[j,k])\n",
    "        train_Y.append(b)\n",
    "    train_X = np.array(train_X,dtype='float64')\n",
    "    train_Y = np.array(train_Y,dtype='float64')\n",
    "\n",
    "    return train_X, train_Y"
   ]
  },
  {
   "cell_type": "code",
   "execution_count": 6,
   "metadata": {},
   "outputs": [
    {
     "name": "stdout",
     "output_type": "stream",
     "text": [
      "(386403, 10, 5)\n",
      "(386403, 40)\n"
     ]
    }
   ],
   "source": [
    "X, Y = create_dataset(data1,10,8)\n",
    "\n",
    "print(X.shape)\n",
    "print(Y.shape)"
   ]
  },
  {
   "cell_type": "code",
   "execution_count": 7,
   "metadata": {},
   "outputs": [],
   "source": [
    "scaler = MinMaxScaler(feature_range=(0, 1))\n",
    "data1 = scaler.fit_transform(data1)\n",
    "Y = scaler.fit_transform(Y)"
   ]
  },
  {
   "cell_type": "code",
   "execution_count": 8,
   "metadata": {},
   "outputs": [
    {
     "name": "stdout",
     "output_type": "stream",
     "text": [
      "(386403, 10, 5)\n",
      "(386403, 40)\n"
     ]
    }
   ],
   "source": [
    "data_X, data_Y = create_dataset(data1,10,8)\n",
    "\n",
    "print(data_X.shape)\n",
    "print(data_Y.shape)"
   ]
  },
  {
   "cell_type": "code",
   "execution_count": 9,
   "metadata": {},
   "outputs": [
    {
     "name": "stdout",
     "output_type": "stream",
     "text": [
      "(309122, 10, 5)\n",
      "(309122, 40)\n",
      "(77281, 10, 5)\n",
      "(77281, 40)\n"
     ]
    }
   ],
   "source": [
    "train_size = int(len(data_X) * 0.8)\n",
    "test_size = len(data_X) - train_size\n",
    "train_X = data_X[:train_size]\n",
    "train_Y = Y[:train_size]\n",
    "test_X = data_X[train_size:]\n",
    "test_Y = Y[train_size:]\n",
    "\n",
    "print(train_X.shape)\n",
    "print(train_Y.shape)\n",
    "print(test_X.shape)\n",
    "print(test_Y.shape)"
   ]
  },
  {
   "cell_type": "code",
   "execution_count": 10,
   "metadata": {},
   "outputs": [
    {
     "name": "stdout",
     "output_type": "stream",
     "text": [
      "Epoch 1/100\n",
      "604/604 - 62s - loss: 0.0149 - root_mean_squared_error: 0.1221 - val_loss: 0.0065 - val_root_mean_squared_error: 0.0806\n",
      "Epoch 2/100\n",
      "604/604 - 58s - loss: 0.0054 - root_mean_squared_error: 0.0738 - val_loss: 0.0033 - val_root_mean_squared_error: 0.0572\n",
      "Epoch 3/100\n",
      "604/604 - 56s - loss: 0.0037 - root_mean_squared_error: 0.0606 - val_loss: 0.0019 - val_root_mean_squared_error: 0.0437\n",
      "Epoch 4/100\n",
      "604/604 - 56s - loss: 0.0029 - root_mean_squared_error: 0.0534 - val_loss: 0.0018 - val_root_mean_squared_error: 0.0425\n",
      "Epoch 5/100\n",
      "604/604 - 56s - loss: 0.0024 - root_mean_squared_error: 0.0489 - val_loss: 0.0016 - val_root_mean_squared_error: 0.0396\n",
      "Epoch 6/100\n",
      "604/604 - 57s - loss: 0.0021 - root_mean_squared_error: 0.0457 - val_loss: 0.0013 - val_root_mean_squared_error: 0.0355\n",
      "Epoch 7/100\n",
      "604/604 - 55s - loss: 0.0019 - root_mean_squared_error: 0.0434 - val_loss: 0.0011 - val_root_mean_squared_error: 0.0333\n",
      "Epoch 8/100\n",
      "604/604 - 56s - loss: 0.0017 - root_mean_squared_error: 0.0416 - val_loss: 0.0010 - val_root_mean_squared_error: 0.0319\n",
      "Epoch 9/100\n",
      "604/604 - 64s - loss: 0.0016 - root_mean_squared_error: 0.0403 - val_loss: 9.9928e-04 - val_root_mean_squared_error: 0.0316\n",
      "Epoch 10/100\n",
      "604/604 - 58s - loss: 0.0015 - root_mean_squared_error: 0.0393 - val_loss: 9.8855e-04 - val_root_mean_squared_error: 0.0314\n",
      "Epoch 11/100\n",
      "604/604 - 56s - loss: 0.0015 - root_mean_squared_error: 0.0386 - val_loss: 9.8249e-04 - val_root_mean_squared_error: 0.0313\n",
      "Epoch 12/100\n",
      "604/604 - 60s - loss: 0.0014 - root_mean_squared_error: 0.0380 - val_loss: 8.9699e-04 - val_root_mean_squared_error: 0.0299\n",
      "Epoch 13/100\n",
      "604/604 - 56s - loss: 0.0014 - root_mean_squared_error: 0.0376 - val_loss: 8.6471e-04 - val_root_mean_squared_error: 0.0294\n",
      "Epoch 14/100\n",
      "604/604 - 57s - loss: 0.0014 - root_mean_squared_error: 0.0372 - val_loss: 8.6916e-04 - val_root_mean_squared_error: 0.0295\n",
      "Epoch 15/100\n",
      "604/604 - 56s - loss: 0.0014 - root_mean_squared_error: 0.0369 - val_loss: 8.5874e-04 - val_root_mean_squared_error: 0.0293\n",
      "Epoch 16/100\n",
      "604/604 - 54s - loss: 0.0013 - root_mean_squared_error: 0.0366 - val_loss: 8.2197e-04 - val_root_mean_squared_error: 0.0287\n",
      "Epoch 17/100\n",
      "604/604 - 54s - loss: 0.0013 - root_mean_squared_error: 0.0363 - val_loss: 8.1953e-04 - val_root_mean_squared_error: 0.0286\n",
      "Epoch 18/100\n",
      "604/604 - 54s - loss: 0.0013 - root_mean_squared_error: 0.0361 - val_loss: 7.9382e-04 - val_root_mean_squared_error: 0.0282\n",
      "Epoch 19/100\n",
      "604/604 - 54s - loss: 0.0013 - root_mean_squared_error: 0.0358 - val_loss: 8.1183e-04 - val_root_mean_squared_error: 0.0285\n",
      "Epoch 20/100\n",
      "604/604 - 54s - loss: 0.0013 - root_mean_squared_error: 0.0356 - val_loss: 7.7161e-04 - val_root_mean_squared_error: 0.0278\n",
      "Epoch 21/100\n",
      "604/604 - 54s - loss: 0.0013 - root_mean_squared_error: 0.0355 - val_loss: 7.7861e-04 - val_root_mean_squared_error: 0.0279\n",
      "Epoch 22/100\n",
      "604/604 - 54s - loss: 0.0012 - root_mean_squared_error: 0.0353 - val_loss: 7.9511e-04 - val_root_mean_squared_error: 0.0282\n",
      "Epoch 23/100\n",
      "604/604 - 54s - loss: 0.0012 - root_mean_squared_error: 0.0352 - val_loss: 7.7511e-04 - val_root_mean_squared_error: 0.0278\n",
      "Epoch 24/100\n",
      "604/604 - 54s - loss: 0.0012 - root_mean_squared_error: 0.0350 - val_loss: 7.7301e-04 - val_root_mean_squared_error: 0.0278\n",
      "Epoch 25/100\n",
      "604/604 - 54s - loss: 0.0012 - root_mean_squared_error: 0.0348 - val_loss: 7.9189e-04 - val_root_mean_squared_error: 0.0281\n",
      "Epoch 26/100\n",
      "604/604 - 54s - loss: 0.0012 - root_mean_squared_error: 0.0347 - val_loss: 7.6085e-04 - val_root_mean_squared_error: 0.0276\n",
      "Epoch 27/100\n",
      "604/604 - 54s - loss: 0.0012 - root_mean_squared_error: 0.0346 - val_loss: 7.7685e-04 - val_root_mean_squared_error: 0.0279\n",
      "Epoch 28/100\n",
      "604/604 - 54s - loss: 0.0012 - root_mean_squared_error: 0.0345 - val_loss: 7.3388e-04 - val_root_mean_squared_error: 0.0271\n",
      "Epoch 29/100\n",
      "604/604 - 54s - loss: 0.0012 - root_mean_squared_error: 0.0344 - val_loss: 7.4999e-04 - val_root_mean_squared_error: 0.0274\n",
      "Epoch 30/100\n",
      "604/604 - 54s - loss: 0.0012 - root_mean_squared_error: 0.0343 - val_loss: 7.6873e-04 - val_root_mean_squared_error: 0.0277\n",
      "Epoch 31/100\n",
      "604/604 - 54s - loss: 0.0012 - root_mean_squared_error: 0.0342 - val_loss: 7.5766e-04 - val_root_mean_squared_error: 0.0275\n",
      "Epoch 32/100\n",
      "604/604 - 54s - loss: 0.0012 - root_mean_squared_error: 0.0341 - val_loss: 7.1602e-04 - val_root_mean_squared_error: 0.0268\n",
      "Epoch 33/100\n",
      "604/604 - 54s - loss: 0.0012 - root_mean_squared_error: 0.0340 - val_loss: 6.9483e-04 - val_root_mean_squared_error: 0.0264\n",
      "Epoch 34/100\n",
      "604/604 - 54s - loss: 0.0012 - root_mean_squared_error: 0.0339 - val_loss: 7.3832e-04 - val_root_mean_squared_error: 0.0272\n",
      "Epoch 35/100\n",
      "604/604 - 54s - loss: 0.0011 - root_mean_squared_error: 0.0338 - val_loss: 7.0213e-04 - val_root_mean_squared_error: 0.0265\n",
      "Epoch 36/100\n",
      "604/604 - 54s - loss: 0.0011 - root_mean_squared_error: 0.0338 - val_loss: 7.2753e-04 - val_root_mean_squared_error: 0.0270\n",
      "Epoch 37/100\n",
      "604/604 - 54s - loss: 0.0011 - root_mean_squared_error: 0.0337 - val_loss: 6.9929e-04 - val_root_mean_squared_error: 0.0264\n",
      "Epoch 38/100\n",
      "604/604 - 54s - loss: 0.0011 - root_mean_squared_error: 0.0336 - val_loss: 7.0315e-04 - val_root_mean_squared_error: 0.0265\n",
      "Epoch 39/100\n",
      "604/604 - 54s - loss: 0.0011 - root_mean_squared_error: 0.0335 - val_loss: 7.1787e-04 - val_root_mean_squared_error: 0.0268\n",
      "Epoch 40/100\n",
      "604/604 - 54s - loss: 0.0011 - root_mean_squared_error: 0.0335 - val_loss: 7.1887e-04 - val_root_mean_squared_error: 0.0268\n",
      "Epoch 41/100\n",
      "604/604 - 54s - loss: 0.0011 - root_mean_squared_error: 0.0334 - val_loss: 6.9993e-04 - val_root_mean_squared_error: 0.0265\n",
      "Epoch 42/100\n",
      "604/604 - 54s - loss: 0.0011 - root_mean_squared_error: 0.0333 - val_loss: 6.8601e-04 - val_root_mean_squared_error: 0.0262\n",
      "Epoch 43/100\n",
      "604/604 - 54s - loss: 0.0011 - root_mean_squared_error: 0.0333 - val_loss: 6.9145e-04 - val_root_mean_squared_error: 0.0263\n",
      "Epoch 44/100\n",
      "604/604 - 54s - loss: 0.0011 - root_mean_squared_error: 0.0332 - val_loss: 7.1357e-04 - val_root_mean_squared_error: 0.0267\n",
      "Epoch 45/100\n",
      "604/604 - 54s - loss: 0.0011 - root_mean_squared_error: 0.0332 - val_loss: 7.0962e-04 - val_root_mean_squared_error: 0.0266\n",
      "Epoch 46/100\n",
      "604/604 - 56s - loss: 0.0011 - root_mean_squared_error: 0.0331 - val_loss: 6.9693e-04 - val_root_mean_squared_error: 0.0264\n",
      "Epoch 47/100\n",
      "604/604 - 56s - loss: 0.0011 - root_mean_squared_error: 0.0331 - val_loss: 7.0533e-04 - val_root_mean_squared_error: 0.0266\n",
      "Epoch 48/100\n",
      "604/604 - 57s - loss: 0.0011 - root_mean_squared_error: 0.0330 - val_loss: 7.1008e-04 - val_root_mean_squared_error: 0.0266\n",
      "Epoch 49/100\n",
      "604/604 - 57s - loss: 0.0011 - root_mean_squared_error: 0.0330 - val_loss: 6.7379e-04 - val_root_mean_squared_error: 0.0260\n",
      "Epoch 50/100\n",
      "604/604 - 56s - loss: 0.0011 - root_mean_squared_error: 0.0329 - val_loss: 6.7795e-04 - val_root_mean_squared_error: 0.0260\n",
      "Epoch 51/100\n",
      "604/604 - 56s - loss: 0.0011 - root_mean_squared_error: 0.0329 - val_loss: 6.9865e-04 - val_root_mean_squared_error: 0.0264\n",
      "Epoch 52/100\n",
      "604/604 - 60s - loss: 0.0011 - root_mean_squared_error: 0.0329 - val_loss: 6.7701e-04 - val_root_mean_squared_error: 0.0260\n",
      "Epoch 53/100\n",
      "604/604 - 58s - loss: 0.0011 - root_mean_squared_error: 0.0328 - val_loss: 6.8011e-04 - val_root_mean_squared_error: 0.0261\n",
      "Epoch 54/100\n",
      "604/604 - 60s - loss: 0.0011 - root_mean_squared_error: 0.0328 - val_loss: 6.8559e-04 - val_root_mean_squared_error: 0.0262\n",
      "Epoch 55/100\n",
      "604/604 - 58s - loss: 0.0011 - root_mean_squared_error: 0.0327 - val_loss: 6.7171e-04 - val_root_mean_squared_error: 0.0259\n",
      "Epoch 56/100\n",
      "604/604 - 56s - loss: 0.0011 - root_mean_squared_error: 0.0327 - val_loss: 6.7708e-04 - val_root_mean_squared_error: 0.0260\n",
      "Epoch 57/100\n",
      "604/604 - 57s - loss: 0.0011 - root_mean_squared_error: 0.0326 - val_loss: 6.6857e-04 - val_root_mean_squared_error: 0.0259\n",
      "Epoch 58/100\n",
      "604/604 - 56s - loss: 0.0011 - root_mean_squared_error: 0.0326 - val_loss: 6.8296e-04 - val_root_mean_squared_error: 0.0261\n",
      "Epoch 59/100\n",
      "604/604 - 56s - loss: 0.0011 - root_mean_squared_error: 0.0326 - val_loss: 6.8810e-04 - val_root_mean_squared_error: 0.0262\n",
      "Epoch 60/100\n",
      "604/604 - 58s - loss: 0.0011 - root_mean_squared_error: 0.0325 - val_loss: 6.7362e-04 - val_root_mean_squared_error: 0.0260\n",
      "Epoch 61/100\n",
      "604/604 - 58s - loss: 0.0011 - root_mean_squared_error: 0.0325 - val_loss: 6.8519e-04 - val_root_mean_squared_error: 0.0262\n"
     ]
    },
    {
     "name": "stdout",
     "output_type": "stream",
     "text": [
      "Epoch 62/100\n",
      "604/604 - 58s - loss: 0.0011 - root_mean_squared_error: 0.0325 - val_loss: 6.5835e-04 - val_root_mean_squared_error: 0.0257\n",
      "Epoch 63/100\n",
      "604/604 - 58s - loss: 0.0011 - root_mean_squared_error: 0.0324 - val_loss: 6.6644e-04 - val_root_mean_squared_error: 0.0258\n",
      "Epoch 64/100\n",
      "604/604 - 58s - loss: 0.0010 - root_mean_squared_error: 0.0324 - val_loss: 6.6111e-04 - val_root_mean_squared_error: 0.0257\n",
      "Epoch 65/100\n",
      "604/604 - 57s - loss: 0.0010 - root_mean_squared_error: 0.0324 - val_loss: 6.9626e-04 - val_root_mean_squared_error: 0.0264\n",
      "Epoch 66/100\n",
      "604/604 - 58s - loss: 0.0010 - root_mean_squared_error: 0.0323 - val_loss: 6.5877e-04 - val_root_mean_squared_error: 0.0257\n",
      "Epoch 67/100\n",
      "604/604 - 57s - loss: 0.0010 - root_mean_squared_error: 0.0323 - val_loss: 6.5790e-04 - val_root_mean_squared_error: 0.0256\n",
      "Epoch 68/100\n",
      "604/604 - 57s - loss: 0.0010 - root_mean_squared_error: 0.0322 - val_loss: 6.6823e-04 - val_root_mean_squared_error: 0.0259\n",
      "Epoch 69/100\n",
      "604/604 - 57s - loss: 0.0010 - root_mean_squared_error: 0.0322 - val_loss: 6.7274e-04 - val_root_mean_squared_error: 0.0259\n",
      "Epoch 70/100\n",
      "604/604 - 57s - loss: 0.0010 - root_mean_squared_error: 0.0322 - val_loss: 6.8629e-04 - val_root_mean_squared_error: 0.0262\n",
      "Epoch 71/100\n",
      "604/604 - 57s - loss: 0.0010 - root_mean_squared_error: 0.0321 - val_loss: 6.7745e-04 - val_root_mean_squared_error: 0.0260\n",
      "Epoch 72/100\n",
      "604/604 - 57s - loss: 0.0010 - root_mean_squared_error: 0.0321 - val_loss: 6.6371e-04 - val_root_mean_squared_error: 0.0258\n",
      "Epoch 73/100\n",
      "604/604 - 57s - loss: 0.0010 - root_mean_squared_error: 0.0321 - val_loss: 6.7881e-04 - val_root_mean_squared_error: 0.0261\n",
      "Epoch 74/100\n",
      "604/604 - 57s - loss: 0.0010 - root_mean_squared_error: 0.0321 - val_loss: 6.6105e-04 - val_root_mean_squared_error: 0.0257\n",
      "Epoch 75/100\n",
      "604/604 - 58s - loss: 0.0010 - root_mean_squared_error: 0.0320 - val_loss: 6.7469e-04 - val_root_mean_squared_error: 0.0260\n",
      "Epoch 76/100\n",
      "604/604 - 58s - loss: 0.0010 - root_mean_squared_error: 0.0320 - val_loss: 6.6596e-04 - val_root_mean_squared_error: 0.0258\n",
      "Epoch 77/100\n",
      "604/604 - 57s - loss: 0.0010 - root_mean_squared_error: 0.0320 - val_loss: 6.6249e-04 - val_root_mean_squared_error: 0.0257\n",
      "Epoch 78/100\n",
      "604/604 - 60s - loss: 0.0010 - root_mean_squared_error: 0.0319 - val_loss: 6.6098e-04 - val_root_mean_squared_error: 0.0257\n",
      "Epoch 79/100\n",
      "604/604 - 57s - loss: 0.0010 - root_mean_squared_error: 0.0319 - val_loss: 6.7849e-04 - val_root_mean_squared_error: 0.0260\n",
      "Epoch 80/100\n",
      "604/604 - 58s - loss: 0.0010 - root_mean_squared_error: 0.0319 - val_loss: 6.5349e-04 - val_root_mean_squared_error: 0.0256\n",
      "Epoch 81/100\n",
      "604/604 - 59s - loss: 0.0010 - root_mean_squared_error: 0.0319 - val_loss: 6.6786e-04 - val_root_mean_squared_error: 0.0258\n",
      "Epoch 82/100\n",
      "604/604 - 58s - loss: 0.0010 - root_mean_squared_error: 0.0318 - val_loss: 6.6141e-04 - val_root_mean_squared_error: 0.0257\n",
      "Epoch 83/100\n",
      "604/604 - 58s - loss: 0.0010 - root_mean_squared_error: 0.0318 - val_loss: 6.5276e-04 - val_root_mean_squared_error: 0.0255\n",
      "Epoch 84/100\n",
      "604/604 - 59s - loss: 0.0010 - root_mean_squared_error: 0.0318 - val_loss: 6.6063e-04 - val_root_mean_squared_error: 0.0257\n",
      "Epoch 85/100\n",
      "604/604 - 58s - loss: 0.0010 - root_mean_squared_error: 0.0318 - val_loss: 6.5107e-04 - val_root_mean_squared_error: 0.0255\n",
      "Epoch 86/100\n",
      "604/604 - 58s - loss: 0.0010 - root_mean_squared_error: 0.0318 - val_loss: 6.5555e-04 - val_root_mean_squared_error: 0.0256\n",
      "Epoch 87/100\n",
      "604/604 - 57s - loss: 0.0010 - root_mean_squared_error: 0.0317 - val_loss: 6.4615e-04 - val_root_mean_squared_error: 0.0254\n",
      "Epoch 88/100\n",
      "604/604 - 57s - loss: 0.0010 - root_mean_squared_error: 0.0317 - val_loss: 6.6096e-04 - val_root_mean_squared_error: 0.0257\n",
      "Epoch 89/100\n",
      "604/604 - 57s - loss: 0.0010 - root_mean_squared_error: 0.0316 - val_loss: 6.6346e-04 - val_root_mean_squared_error: 0.0258\n",
      "Epoch 90/100\n",
      "604/604 - 58s - loss: 0.0010 - root_mean_squared_error: 0.0316 - val_loss: 6.5761e-04 - val_root_mean_squared_error: 0.0256\n",
      "Epoch 91/100\n",
      "604/604 - 58s - loss: 9.9768e-04 - root_mean_squared_error: 0.0316 - val_loss: 6.5991e-04 - val_root_mean_squared_error: 0.0257\n",
      "Epoch 92/100\n",
      "604/604 - 57s - loss: 9.9790e-04 - root_mean_squared_error: 0.0316 - val_loss: 6.5670e-04 - val_root_mean_squared_error: 0.0256\n",
      "Epoch 93/100\n",
      "604/604 - 59s - loss: 9.9626e-04 - root_mean_squared_error: 0.0316 - val_loss: 6.7210e-04 - val_root_mean_squared_error: 0.0259\n",
      "Epoch 94/100\n",
      "604/604 - 59s - loss: 9.9555e-04 - root_mean_squared_error: 0.0316 - val_loss: 6.7250e-04 - val_root_mean_squared_error: 0.0259\n",
      "Epoch 95/100\n",
      "604/604 - 58s - loss: 9.9174e-04 - root_mean_squared_error: 0.0315 - val_loss: 6.4981e-04 - val_root_mean_squared_error: 0.0255\n",
      "Epoch 96/100\n",
      "604/604 - 58s - loss: 9.9174e-04 - root_mean_squared_error: 0.0315 - val_loss: 6.6310e-04 - val_root_mean_squared_error: 0.0258\n",
      "Epoch 97/100\n",
      "604/604 - 58s - loss: 9.9068e-04 - root_mean_squared_error: 0.0315 - val_loss: 6.6808e-04 - val_root_mean_squared_error: 0.0258\n",
      "Epoch 98/100\n",
      "604/604 - 58s - loss: 9.8988e-04 - root_mean_squared_error: 0.0315 - val_loss: 6.5358e-04 - val_root_mean_squared_error: 0.0256\n",
      "Epoch 99/100\n",
      "604/604 - 62s - loss: 9.8666e-04 - root_mean_squared_error: 0.0314 - val_loss: 6.5767e-04 - val_root_mean_squared_error: 0.0256\n",
      "Epoch 100/100\n",
      "604/604 - 60s - loss: 9.8702e-04 - root_mean_squared_error: 0.0314 - val_loss: 6.6737e-04 - val_root_mean_squared_error: 0.0258\n"
     ]
    }
   ],
   "source": [
    "import tensorflow as tf\n",
    "from tensorflow import keras\n",
    "from tensorflow.keras import layers\n",
    "from keras.layers import Input,LSTM,Dropout,Dense\n",
    "\n",
    "\n",
    "timesteps = 10\n",
    "# create and fit the LSTM network\n",
    "\n",
    "model = keras.Sequential()\n",
    "model.add(LSTM(100,input_shape=(timesteps,5),return_sequences=True))\n",
    "model.add(Dropout(0.2))\n",
    "model.add(LSTM(100,input_shape=(timesteps,5),return_sequences=True))\n",
    "model.add(Dropout(0.2))\n",
    "model.add(LSTM(100,input_shape=(timesteps,5),return_sequences=False))\n",
    "model.add(Dropout(0.2))\n",
    "model.add(Dense(40,activation='linear'))\n",
    "model.compile(optimizer='rmsprop',loss='mean_squared_error',metrics=[tf.keras.metrics.RootMeanSquaredError()])\n",
    "\n",
    "history = model.fit(train_X, train_Y, epochs=100, batch_size=512, verbose=2, validation_data=(test_X, test_Y))"
   ]
  },
  {
   "cell_type": "code",
   "execution_count": 11,
   "metadata": {},
   "outputs": [],
   "source": [
    "testPredict = model.predict(test_X)"
   ]
  },
  {
   "cell_type": "code",
   "execution_count": 12,
   "metadata": {},
   "outputs": [],
   "source": [
    "newtestPredict = scaler.inverse_transform(testPredict)\n",
    "newtest_Y = scaler.inverse_transform(test_Y)"
   ]
  },
  {
   "cell_type": "code",
   "execution_count": 13,
   "metadata": {},
   "outputs": [
    {
     "name": "stdout",
     "output_type": "stream",
     "text": [
      "Test Score: 0.73465 RMSE\n"
     ]
    }
   ],
   "source": [
    "testScore = sqrt(mean_squared_error(newtest_Y, newtestPredict))\n",
    "print('Test Score: %.5f RMSE' % (testScore))"
   ]
  },
  {
   "cell_type": "code",
   "execution_count": null,
   "metadata": {},
   "outputs": [],
   "source": []
  }
 ],
 "metadata": {
  "kernelspec": {
   "display_name": "Python 3",
   "language": "python",
   "name": "python3"
  },
  "language_info": {
   "codemirror_mode": {
    "name": "ipython",
    "version": 3
   },
   "file_extension": ".py",
   "mimetype": "text/x-python",
   "name": "python",
   "nbconvert_exporter": "python",
   "pygments_lexer": "ipython3",
   "version": "3.8.3"
  }
 },
 "nbformat": 4,
 "nbformat_minor": 4
}
