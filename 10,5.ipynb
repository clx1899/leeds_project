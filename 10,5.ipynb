{
 "cells": [
  {
   "cell_type": "code",
   "execution_count": 1,
   "metadata": {},
   "outputs": [],
   "source": [
    "from test import EigenData\n",
    "import numpy as np\n",
    "import scipy.io\n",
    "import h5py\n",
    "from sklearn.preprocessing import MinMaxScaler\n",
    "from sklearn.metrics import mean_squared_error\n",
    "from math import sqrt\n",
    "import matplotlib.pyplot as plt\n",
    "from mpl_toolkits.axes_grid1 import make_axes_locatable\n",
    "import torch\n",
    "%matplotlib inline"
   ]
  },
  {
   "cell_type": "code",
   "execution_count": 2,
   "metadata": {},
   "outputs": [
    {
     "name": "stdout",
     "output_type": "stream",
     "text": [
      "b (5, 33600)\n",
      "(100, 5) (5, 33600)\n",
      "--> (100, 33600)\n",
      "c (5, 33600)\n",
      "(100, 5) (5, 33600)\n",
      "--> (100, 33600)\n",
      "d (5, 33600)\n",
      "(100, 5) (5, 33600)\n",
      "--> (100, 33600)\n",
      "e (5, 33600)\n",
      "(100, 5) (5, 33600)\n",
      "--> (100, 33600)\n",
      "f (5, 33600)\n",
      "(100, 5) (5, 33600)\n",
      "--> (100, 33600)\n",
      "g (6, 33600)\n",
      "(100, 6) (6, 33600)\n",
      "--> (100, 33600)\n",
      "h (5, 33600)\n",
      "(100, 5) (5, 33600)\n",
      "--> (100, 33600)\n",
      "i (6, 33600)\n",
      "(100, 6) (6, 33600)\n",
      "--> (100, 33600)\n",
      "j (5, 33600)\n",
      "(100, 5) (5, 33600)\n",
      "--> (100, 33600)\n",
      "k (5, 33600)\n",
      "(100, 5) (5, 33600)\n",
      "--> (100, 33600)\n",
      "l (5, 33600)\n",
      "(100, 5) (5, 33600)\n",
      "--> (100, 33600)\n",
      "m (5, 33600)\n",
      "(100, 5) (5, 33600)\n",
      "--> (100, 33600)\n",
      "(403200, 5)\n"
     ]
    }
   ],
   "source": [
    "data = EigenData()\n",
    "eigenworms = data.get_eigenworms('EigenWorms.mat')\n",
    "\n",
    "footage = data.get_footage('20150814-All-PNAS2011-DataStitched .mat')\n",
    "newdata = torch.rand(33600,5)\n",
    "for k in footage.keys():\n",
    "    print(k, footage[k].shape)\n",
    "    arr1=footage[k]\n",
    "\n",
    "    arr2=arr1[:5,]\n",
    "\n",
    "    r = data.reconstruct(footage[k])\n",
    "    print('-->', r.shape)\n",
    "    dataset1 = arr2.transpose()\n",
    "\n",
    "    newdata = np.concatenate((newdata,dataset1),axis=0)\n",
    "newdata = newdata[33600:,]\n",
    "print(newdata.shape)"
   ]
  },
  {
   "cell_type": "code",
   "execution_count": 3,
   "metadata": {},
   "outputs": [
    {
     "name": "stdout",
     "output_type": "stream",
     "text": [
      "(386422, 5)\n",
      "386422\n"
     ]
    }
   ],
   "source": [
    "data1=newdata[~np.isnan(newdata).any(axis=1)]\n",
    "\n",
    "data1 = data1.astype('float32')\n",
    "print(data1.shape)\n",
    "print(len(data1))"
   ]
  },
  {
   "cell_type": "code",
   "execution_count": 4,
   "metadata": {},
   "outputs": [],
   "source": [
    "def create_dataset(data,n_predictions,n_next):\n",
    "    \n",
    "   \n",
    "    dim = data.shape[1]\n",
    "    train_X, train_Y = [], []\n",
    "    for i in range(data.shape[0]-n_predictions-n_next-1):\n",
    "        a = data[i:(i+n_predictions),:]\n",
    "        train_X.append(a)\n",
    "        tempb = data[(i+n_predictions):(i+n_predictions+n_next),:]\n",
    "        b = []\n",
    "        for j in range(len(tempb)):\n",
    "            for k in range(dim):\n",
    "                b.append(tempb[j,k])\n",
    "        train_Y.append(b)\n",
    "    train_X = np.array(train_X,dtype='float64')\n",
    "    train_Y = np.array(train_Y,dtype='float64')\n",
    "\n",
    "    return train_X, train_Y"
   ]
  },
  {
   "cell_type": "code",
   "execution_count": 5,
   "metadata": {},
   "outputs": [
    {
     "name": "stdout",
     "output_type": "stream",
     "text": [
      "(386406, 10, 5)\n",
      "(386406, 25)\n"
     ]
    }
   ],
   "source": [
    "X, Y = create_dataset(data1,10,5)\n",
    "\n",
    "print(X.shape)\n",
    "print(Y.shape)"
   ]
  },
  {
   "cell_type": "code",
   "execution_count": 6,
   "metadata": {},
   "outputs": [],
   "source": [
    "scaler = MinMaxScaler(feature_range=(0, 1))\n",
    "data1 = scaler.fit_transform(data1)\n",
    "Y = scaler.fit_transform(Y)"
   ]
  },
  {
   "cell_type": "code",
   "execution_count": 7,
   "metadata": {},
   "outputs": [
    {
     "name": "stdout",
     "output_type": "stream",
     "text": [
      "(386406, 10, 5)\n",
      "(386406, 25)\n"
     ]
    }
   ],
   "source": [
    "data_X, data_Y = create_dataset(data1,10,5)\n",
    "\n",
    "print(data_X.shape)\n",
    "print(data_Y.shape)"
   ]
  },
  {
   "cell_type": "code",
   "execution_count": 8,
   "metadata": {},
   "outputs": [
    {
     "name": "stdout",
     "output_type": "stream",
     "text": [
      "(309124, 10, 5)\n",
      "(309124, 25)\n",
      "(77282, 10, 5)\n",
      "(77282, 25)\n"
     ]
    }
   ],
   "source": [
    "train_size = int(len(data_X) * 0.8)\n",
    "test_size = len(data_X) - train_size\n",
    "train_X = data_X[:train_size]\n",
    "train_Y = Y[:train_size]\n",
    "test_X = data_X[train_size:]\n",
    "test_Y = Y[train_size:]\n",
    "\n",
    "print(train_X.shape)\n",
    "print(train_Y.shape)\n",
    "print(test_X.shape)\n",
    "print(test_Y.shape)"
   ]
  },
  {
   "cell_type": "code",
   "execution_count": 9,
   "metadata": {},
   "outputs": [
    {
     "name": "stdout",
     "output_type": "stream",
     "text": [
      "Epoch 1/100\n",
      "604/604 - 58s - loss: 0.0129 - root_mean_squared_error: 0.1135 - val_loss: 0.0038 - val_root_mean_squared_error: 0.0620\n",
      "Epoch 2/100\n",
      "604/604 - 54s - loss: 0.0040 - root_mean_squared_error: 0.0629 - val_loss: 0.0025 - val_root_mean_squared_error: 0.0504\n",
      "Epoch 3/100\n",
      "604/604 - 54s - loss: 0.0025 - root_mean_squared_error: 0.0501 - val_loss: 9.0389e-04 - val_root_mean_squared_error: 0.0301\n",
      "Epoch 4/100\n",
      "604/604 - 54s - loss: 0.0019 - root_mean_squared_error: 0.0434 - val_loss: 8.1275e-04 - val_root_mean_squared_error: 0.0285\n",
      "Epoch 5/100\n",
      "604/604 - 54s - loss: 0.0015 - root_mean_squared_error: 0.0392 - val_loss: 9.5701e-04 - val_root_mean_squared_error: 0.0309\n",
      "Epoch 6/100\n",
      "604/604 - 55s - loss: 0.0013 - root_mean_squared_error: 0.0364 - val_loss: 6.4215e-04 - val_root_mean_squared_error: 0.0253\n",
      "Epoch 7/100\n",
      "604/604 - 54s - loss: 0.0012 - root_mean_squared_error: 0.0342 - val_loss: 5.2844e-04 - val_root_mean_squared_error: 0.0230\n",
      "Epoch 8/100\n",
      "604/604 - 54s - loss: 0.0011 - root_mean_squared_error: 0.0325 - val_loss: 5.1993e-04 - val_root_mean_squared_error: 0.0228\n",
      "Epoch 9/100\n",
      "604/604 - 54s - loss: 9.7487e-04 - root_mean_squared_error: 0.0312 - val_loss: 4.9663e-04 - val_root_mean_squared_error: 0.0223\n",
      "Epoch 10/100\n",
      "604/604 - 54s - loss: 9.1753e-04 - root_mean_squared_error: 0.0303 - val_loss: 4.2324e-04 - val_root_mean_squared_error: 0.0206\n",
      "Epoch 11/100\n",
      "604/604 - 57s - loss: 8.7762e-04 - root_mean_squared_error: 0.0296 - val_loss: 4.9835e-04 - val_root_mean_squared_error: 0.0223\n",
      "Epoch 12/100\n",
      "604/604 - 55s - loss: 8.4605e-04 - root_mean_squared_error: 0.0291 - val_loss: 4.3952e-04 - val_root_mean_squared_error: 0.0210\n",
      "Epoch 13/100\n",
      "604/604 - 54s - loss: 8.2287e-04 - root_mean_squared_error: 0.0287 - val_loss: 3.8735e-04 - val_root_mean_squared_error: 0.0197\n",
      "Epoch 14/100\n",
      "604/604 - 55s - loss: 8.0052e-04 - root_mean_squared_error: 0.0283 - val_loss: 4.2013e-04 - val_root_mean_squared_error: 0.0205\n",
      "Epoch 15/100\n",
      "604/604 - 55s - loss: 7.8457e-04 - root_mean_squared_error: 0.0280 - val_loss: 3.8694e-04 - val_root_mean_squared_error: 0.0197\n",
      "Epoch 16/100\n",
      "604/604 - 54s - loss: 7.6885e-04 - root_mean_squared_error: 0.0277 - val_loss: 4.0379e-04 - val_root_mean_squared_error: 0.0201\n",
      "Epoch 17/100\n",
      "604/604 - 54s - loss: 7.5536e-04 - root_mean_squared_error: 0.0275 - val_loss: 3.6822e-04 - val_root_mean_squared_error: 0.0192\n",
      "Epoch 18/100\n",
      "604/604 - 54s - loss: 7.4435e-04 - root_mean_squared_error: 0.0273 - val_loss: 3.8781e-04 - val_root_mean_squared_error: 0.0197\n",
      "Epoch 19/100\n",
      "604/604 - 55s - loss: 7.3254e-04 - root_mean_squared_error: 0.0271 - val_loss: 3.4631e-04 - val_root_mean_squared_error: 0.0186\n",
      "Epoch 20/100\n",
      "604/604 - 55s - loss: 7.2272e-04 - root_mean_squared_error: 0.0269 - val_loss: 3.3011e-04 - val_root_mean_squared_error: 0.0182\n",
      "Epoch 21/100\n",
      "604/604 - 54s - loss: 7.1498e-04 - root_mean_squared_error: 0.0267 - val_loss: 3.2141e-04 - val_root_mean_squared_error: 0.0179\n",
      "Epoch 22/100\n",
      "604/604 - 54s - loss: 7.0792e-04 - root_mean_squared_error: 0.0266 - val_loss: 3.3730e-04 - val_root_mean_squared_error: 0.0184\n",
      "Epoch 23/100\n",
      "604/604 - 54s - loss: 6.9934e-04 - root_mean_squared_error: 0.0264 - val_loss: 3.5364e-04 - val_root_mean_squared_error: 0.0188\n",
      "Epoch 24/100\n",
      "604/604 - 54s - loss: 6.9326e-04 - root_mean_squared_error: 0.0263 - val_loss: 3.6022e-04 - val_root_mean_squared_error: 0.0190\n",
      "Epoch 25/100\n",
      "604/604 - 54s - loss: 6.8644e-04 - root_mean_squared_error: 0.0262 - val_loss: 3.4304e-04 - val_root_mean_squared_error: 0.0185\n",
      "Epoch 26/100\n",
      "604/604 - 54s - loss: 6.8028e-04 - root_mean_squared_error: 0.0261 - val_loss: 3.0278e-04 - val_root_mean_squared_error: 0.0174\n",
      "Epoch 27/100\n",
      "604/604 - 55s - loss: 6.7638e-04 - root_mean_squared_error: 0.0260 - val_loss: 3.0485e-04 - val_root_mean_squared_error: 0.0175\n",
      "Epoch 28/100\n",
      "604/604 - 58s - loss: 6.7202e-04 - root_mean_squared_error: 0.0259 - val_loss: 3.0475e-04 - val_root_mean_squared_error: 0.0175\n",
      "Epoch 29/100\n",
      "604/604 - 57s - loss: 6.6602e-04 - root_mean_squared_error: 0.0258 - val_loss: 3.3154e-04 - val_root_mean_squared_error: 0.0182\n",
      "Epoch 30/100\n",
      "604/604 - 57s - loss: 6.6148e-04 - root_mean_squared_error: 0.0257 - val_loss: 3.0831e-04 - val_root_mean_squared_error: 0.0176\n",
      "Epoch 31/100\n",
      "604/604 - 54s - loss: 6.5779e-04 - root_mean_squared_error: 0.0256 - val_loss: 3.0462e-04 - val_root_mean_squared_error: 0.0175\n",
      "Epoch 32/100\n",
      "604/604 - 55s - loss: 6.5317e-04 - root_mean_squared_error: 0.0256 - val_loss: 3.0258e-04 - val_root_mean_squared_error: 0.0174\n",
      "Epoch 33/100\n",
      "604/604 - 56s - loss: 6.5125e-04 - root_mean_squared_error: 0.0255 - val_loss: 3.1580e-04 - val_root_mean_squared_error: 0.0178\n",
      "Epoch 34/100\n",
      "604/604 - 56s - loss: 6.4714e-04 - root_mean_squared_error: 0.0254 - val_loss: 3.1640e-04 - val_root_mean_squared_error: 0.0178\n",
      "Epoch 35/100\n",
      "604/604 - 56s - loss: 6.4371e-04 - root_mean_squared_error: 0.0254 - val_loss: 2.9885e-04 - val_root_mean_squared_error: 0.0173\n",
      "Epoch 36/100\n",
      "604/604 - 56s - loss: 6.4086e-04 - root_mean_squared_error: 0.0253 - val_loss: 2.9611e-04 - val_root_mean_squared_error: 0.0172\n",
      "Epoch 37/100\n",
      "604/604 - 56s - loss: 6.3609e-04 - root_mean_squared_error: 0.0252 - val_loss: 3.1996e-04 - val_root_mean_squared_error: 0.0179\n",
      "Epoch 38/100\n",
      "604/604 - 58s - loss: 6.3267e-04 - root_mean_squared_error: 0.0252 - val_loss: 3.0653e-04 - val_root_mean_squared_error: 0.0175\n",
      "Epoch 39/100\n",
      "604/604 - 55s - loss: 6.3214e-04 - root_mean_squared_error: 0.0251 - val_loss: 2.6445e-04 - val_root_mean_squared_error: 0.0163\n",
      "Epoch 40/100\n",
      "604/604 - 56s - loss: 6.2764e-04 - root_mean_squared_error: 0.0251 - val_loss: 2.8878e-04 - val_root_mean_squared_error: 0.0170\n",
      "Epoch 41/100\n",
      "604/604 - 56s - loss: 6.2701e-04 - root_mean_squared_error: 0.0250 - val_loss: 2.6996e-04 - val_root_mean_squared_error: 0.0164\n",
      "Epoch 42/100\n",
      "604/604 - 56s - loss: 6.2413e-04 - root_mean_squared_error: 0.0250 - val_loss: 3.0178e-04 - val_root_mean_squared_error: 0.0174\n",
      "Epoch 43/100\n",
      "604/604 - 56s - loss: 6.2241e-04 - root_mean_squared_error: 0.0249 - val_loss: 2.9762e-04 - val_root_mean_squared_error: 0.0173\n",
      "Epoch 44/100\n",
      "604/604 - 55s - loss: 6.1870e-04 - root_mean_squared_error: 0.0249 - val_loss: 3.1131e-04 - val_root_mean_squared_error: 0.0176\n",
      "Epoch 45/100\n",
      "604/604 - 57s - loss: 6.1572e-04 - root_mean_squared_error: 0.0248 - val_loss: 2.8873e-04 - val_root_mean_squared_error: 0.0170\n",
      "Epoch 46/100\n",
      "604/604 - 58s - loss: 6.1388e-04 - root_mean_squared_error: 0.0248 - val_loss: 2.9413e-04 - val_root_mean_squared_error: 0.0172\n",
      "Epoch 47/100\n",
      "604/604 - 55s - loss: 6.1237e-04 - root_mean_squared_error: 0.0247 - val_loss: 2.6500e-04 - val_root_mean_squared_error: 0.0163\n",
      "Epoch 48/100\n",
      "604/604 - 54s - loss: 6.0840e-04 - root_mean_squared_error: 0.0247 - val_loss: 2.7473e-04 - val_root_mean_squared_error: 0.0166\n",
      "Epoch 49/100\n",
      "604/604 - 57s - loss: 6.0782e-04 - root_mean_squared_error: 0.0247 - val_loss: 2.8440e-04 - val_root_mean_squared_error: 0.0169\n",
      "Epoch 50/100\n",
      "604/604 - 56s - loss: 6.0618e-04 - root_mean_squared_error: 0.0246 - val_loss: 2.7187e-04 - val_root_mean_squared_error: 0.0165\n",
      "Epoch 51/100\n",
      "604/604 - 56s - loss: 6.0502e-04 - root_mean_squared_error: 0.0246 - val_loss: 2.6122e-04 - val_root_mean_squared_error: 0.0162\n",
      "Epoch 52/100\n",
      "604/604 - 54s - loss: 6.0294e-04 - root_mean_squared_error: 0.0246 - val_loss: 2.5879e-04 - val_root_mean_squared_error: 0.0161\n",
      "Epoch 53/100\n",
      "604/604 - 56s - loss: 6.0033e-04 - root_mean_squared_error: 0.0245 - val_loss: 2.6459e-04 - val_root_mean_squared_error: 0.0163\n",
      "Epoch 54/100\n",
      "604/604 - 56s - loss: 5.9889e-04 - root_mean_squared_error: 0.0245 - val_loss: 2.7255e-04 - val_root_mean_squared_error: 0.0165\n",
      "Epoch 55/100\n",
      "604/604 - 55s - loss: 5.9715e-04 - root_mean_squared_error: 0.0244 - val_loss: 2.8282e-04 - val_root_mean_squared_error: 0.0168\n",
      "Epoch 56/100\n",
      "604/604 - 55s - loss: 5.9693e-04 - root_mean_squared_error: 0.0244 - val_loss: 2.5134e-04 - val_root_mean_squared_error: 0.0159\n",
      "Epoch 57/100\n",
      "604/604 - 60s - loss: 5.9552e-04 - root_mean_squared_error: 0.0244 - val_loss: 2.4989e-04 - val_root_mean_squared_error: 0.0158\n",
      "Epoch 58/100\n",
      "604/604 - 57s - loss: 5.9369e-04 - root_mean_squared_error: 0.0244 - val_loss: 2.6222e-04 - val_root_mean_squared_error: 0.0162\n",
      "Epoch 59/100\n",
      "604/604 - 55s - loss: 5.9171e-04 - root_mean_squared_error: 0.0243 - val_loss: 2.8201e-04 - val_root_mean_squared_error: 0.0168\n"
     ]
    },
    {
     "name": "stdout",
     "output_type": "stream",
     "text": [
      "Epoch 60/100\n",
      "604/604 - 54s - loss: 5.9097e-04 - root_mean_squared_error: 0.0243 - val_loss: 2.6691e-04 - val_root_mean_squared_error: 0.0163\n",
      "Epoch 61/100\n",
      "604/604 - 57s - loss: 5.8825e-04 - root_mean_squared_error: 0.0243 - val_loss: 2.5483e-04 - val_root_mean_squared_error: 0.0160\n",
      "Epoch 62/100\n",
      "604/604 - 57s - loss: 5.8825e-04 - root_mean_squared_error: 0.0243 - val_loss: 2.7283e-04 - val_root_mean_squared_error: 0.0165\n",
      "Epoch 63/100\n",
      "604/604 - 56s - loss: 5.8542e-04 - root_mean_squared_error: 0.0242 - val_loss: 2.5669e-04 - val_root_mean_squared_error: 0.0160\n",
      "Epoch 64/100\n",
      "604/604 - 56s - loss: 5.8345e-04 - root_mean_squared_error: 0.0242 - val_loss: 2.5787e-04 - val_root_mean_squared_error: 0.0161\n",
      "Epoch 65/100\n",
      "604/604 - 58s - loss: 5.8218e-04 - root_mean_squared_error: 0.0241 - val_loss: 2.6395e-04 - val_root_mean_squared_error: 0.0162\n",
      "Epoch 66/100\n",
      "604/604 - 58s - loss: 5.8293e-04 - root_mean_squared_error: 0.0241 - val_loss: 2.5471e-04 - val_root_mean_squared_error: 0.0160\n",
      "Epoch 67/100\n",
      "604/604 - 58s - loss: 5.8131e-04 - root_mean_squared_error: 0.0241 - val_loss: 2.7336e-04 - val_root_mean_squared_error: 0.0165\n",
      "Epoch 68/100\n",
      "604/604 - 57s - loss: 5.8083e-04 - root_mean_squared_error: 0.0241 - val_loss: 2.8383e-04 - val_root_mean_squared_error: 0.0168\n",
      "Epoch 69/100\n",
      "604/604 - 60s - loss: 5.8013e-04 - root_mean_squared_error: 0.0241 - val_loss: 2.7125e-04 - val_root_mean_squared_error: 0.0165\n",
      "Epoch 70/100\n",
      "604/604 - 61s - loss: 5.7749e-04 - root_mean_squared_error: 0.0240 - val_loss: 2.5300e-04 - val_root_mean_squared_error: 0.0159\n",
      "Epoch 71/100\n",
      "604/604 - 62s - loss: 5.7761e-04 - root_mean_squared_error: 0.0240 - val_loss: 2.5853e-04 - val_root_mean_squared_error: 0.0161\n",
      "Epoch 72/100\n",
      "604/604 - 60s - loss: 5.7530e-04 - root_mean_squared_error: 0.0240 - val_loss: 2.6638e-04 - val_root_mean_squared_error: 0.0163\n",
      "Epoch 73/100\n",
      "604/604 - 63s - loss: 5.7553e-04 - root_mean_squared_error: 0.0240 - val_loss: 2.5268e-04 - val_root_mean_squared_error: 0.0159\n",
      "Epoch 74/100\n",
      "604/604 - 66s - loss: 5.7335e-04 - root_mean_squared_error: 0.0239 - val_loss: 2.5115e-04 - val_root_mean_squared_error: 0.0158\n",
      "Epoch 75/100\n",
      "604/604 - 59s - loss: 5.7291e-04 - root_mean_squared_error: 0.0239 - val_loss: 2.5385e-04 - val_root_mean_squared_error: 0.0159\n",
      "Epoch 76/100\n",
      "604/604 - 61s - loss: 5.7105e-04 - root_mean_squared_error: 0.0239 - val_loss: 2.4779e-04 - val_root_mean_squared_error: 0.0157\n",
      "Epoch 77/100\n",
      "604/604 - 60s - loss: 5.7038e-04 - root_mean_squared_error: 0.0239 - val_loss: 2.4805e-04 - val_root_mean_squared_error: 0.0157\n",
      "Epoch 78/100\n",
      "604/604 - 58s - loss: 5.6923e-04 - root_mean_squared_error: 0.0239 - val_loss: 2.5967e-04 - val_root_mean_squared_error: 0.0161\n",
      "Epoch 79/100\n",
      "604/604 - 57s - loss: 5.6850e-04 - root_mean_squared_error: 0.0238 - val_loss: 2.4830e-04 - val_root_mean_squared_error: 0.0158\n",
      "Epoch 80/100\n",
      "604/604 - 59s - loss: 5.6814e-04 - root_mean_squared_error: 0.0238 - val_loss: 2.5132e-04 - val_root_mean_squared_error: 0.0159\n",
      "Epoch 81/100\n",
      "604/604 - 58s - loss: 5.6721e-04 - root_mean_squared_error: 0.0238 - val_loss: 2.4450e-04 - val_root_mean_squared_error: 0.0156\n",
      "Epoch 82/100\n",
      "604/604 - 62s - loss: 5.6688e-04 - root_mean_squared_error: 0.0238 - val_loss: 2.4901e-04 - val_root_mean_squared_error: 0.0158\n",
      "Epoch 83/100\n",
      "604/604 - 64s - loss: 5.6476e-04 - root_mean_squared_error: 0.0238 - val_loss: 2.4197e-04 - val_root_mean_squared_error: 0.0156\n",
      "Epoch 84/100\n",
      "604/604 - 61s - loss: 5.6562e-04 - root_mean_squared_error: 0.0238 - val_loss: 2.5608e-04 - val_root_mean_squared_error: 0.0160\n",
      "Epoch 85/100\n",
      "604/604 - 58s - loss: 5.6243e-04 - root_mean_squared_error: 0.0237 - val_loss: 2.4810e-04 - val_root_mean_squared_error: 0.0158\n",
      "Epoch 86/100\n",
      "604/604 - 59s - loss: 5.6454e-04 - root_mean_squared_error: 0.0238 - val_loss: 2.5246e-04 - val_root_mean_squared_error: 0.0159\n",
      "Epoch 87/100\n",
      "604/604 - 58s - loss: 5.6203e-04 - root_mean_squared_error: 0.0237 - val_loss: 2.6168e-04 - val_root_mean_squared_error: 0.0162\n",
      "Epoch 88/100\n",
      "604/604 - 57s - loss: 5.6040e-04 - root_mean_squared_error: 0.0237 - val_loss: 2.4250e-04 - val_root_mean_squared_error: 0.0156\n",
      "Epoch 89/100\n",
      "604/604 - 58s - loss: 5.6242e-04 - root_mean_squared_error: 0.0237 - val_loss: 2.3548e-04 - val_root_mean_squared_error: 0.0153\n",
      "Epoch 90/100\n",
      "604/604 - 58s - loss: 5.6063e-04 - root_mean_squared_error: 0.0237 - val_loss: 2.3352e-04 - val_root_mean_squared_error: 0.0153\n",
      "Epoch 91/100\n",
      "604/604 - 58s - loss: 5.5923e-04 - root_mean_squared_error: 0.0236 - val_loss: 2.4237e-04 - val_root_mean_squared_error: 0.0156\n",
      "Epoch 92/100\n",
      "604/604 - 58s - loss: 5.5873e-04 - root_mean_squared_error: 0.0236 - val_loss: 2.5524e-04 - val_root_mean_squared_error: 0.0160\n",
      "Epoch 93/100\n",
      "604/604 - 62s - loss: 5.5705e-04 - root_mean_squared_error: 0.0236 - val_loss: 2.4655e-04 - val_root_mean_squared_error: 0.0157\n",
      "Epoch 94/100\n",
      "604/604 - 55s - loss: 5.5668e-04 - root_mean_squared_error: 0.0236 - val_loss: 2.4046e-04 - val_root_mean_squared_error: 0.0155\n",
      "Epoch 95/100\n",
      "604/604 - 59s - loss: 5.5658e-04 - root_mean_squared_error: 0.0236 - val_loss: 2.8869e-04 - val_root_mean_squared_error: 0.0170\n",
      "Epoch 96/100\n",
      "604/604 - 60s - loss: 5.5438e-04 - root_mean_squared_error: 0.0235 - val_loss: 2.4565e-04 - val_root_mean_squared_error: 0.0157\n",
      "Epoch 97/100\n",
      "604/604 - 60s - loss: 5.5440e-04 - root_mean_squared_error: 0.0235 - val_loss: 2.4910e-04 - val_root_mean_squared_error: 0.0158\n",
      "Epoch 98/100\n",
      "604/604 - 62s - loss: 5.5446e-04 - root_mean_squared_error: 0.0235 - val_loss: 2.2940e-04 - val_root_mean_squared_error: 0.0151\n",
      "Epoch 99/100\n",
      "604/604 - 58s - loss: 5.5416e-04 - root_mean_squared_error: 0.0235 - val_loss: 2.4188e-04 - val_root_mean_squared_error: 0.0156\n",
      "Epoch 100/100\n",
      "604/604 - 60s - loss: 5.5294e-04 - root_mean_squared_error: 0.0235 - val_loss: 2.6256e-04 - val_root_mean_squared_error: 0.0162\n"
     ]
    }
   ],
   "source": [
    "import tensorflow as tf\n",
    "from tensorflow import keras\n",
    "from tensorflow.keras import layers\n",
    "from keras.layers import Input,LSTM,Dropout,Dense\n",
    "\n",
    "\n",
    "timesteps = 10\n",
    "# create and fit the LSTM network\n",
    "\n",
    "model = keras.Sequential()\n",
    "model.add(LSTM(100,input_shape=(timesteps,5),return_sequences=True))\n",
    "model.add(Dropout(0.2))\n",
    "model.add(LSTM(100,input_shape=(timesteps,5),return_sequences=True))\n",
    "model.add(Dropout(0.2))\n",
    "model.add(LSTM(100,input_shape=(timesteps,5),return_sequences=False))\n",
    "model.add(Dropout(0.2))\n",
    "model.add(Dense(25,activation='linear'))\n",
    "model.compile(optimizer='rmsprop',loss='mean_squared_error',metrics=[tf.keras.metrics.RootMeanSquaredError()])\n",
    "\n",
    "history = model.fit(train_X, train_Y, epochs=100, batch_size=512, verbose=2, validation_data=(test_X, test_Y))"
   ]
  },
  {
   "cell_type": "code",
   "execution_count": 10,
   "metadata": {},
   "outputs": [],
   "source": [
    "testPredict = model.predict(test_X)"
   ]
  },
  {
   "cell_type": "code",
   "execution_count": 11,
   "metadata": {},
   "outputs": [],
   "source": [
    "newtestPredict = scaler.inverse_transform(testPredict)\n",
    "newtest_Y = scaler.inverse_transform(test_Y)"
   ]
  },
  {
   "cell_type": "code",
   "execution_count": 12,
   "metadata": {},
   "outputs": [
    {
     "name": "stdout",
     "output_type": "stream",
     "text": [
      "Test Score: 0.47731 RMSE\n"
     ]
    }
   ],
   "source": [
    "testScore = sqrt(mean_squared_error(newtest_Y, newtestPredict))\n",
    "print('Test Score: %.5f RMSE' % (testScore))"
   ]
  },
  {
   "cell_type": "code",
   "execution_count": null,
   "metadata": {},
   "outputs": [],
   "source": []
  }
 ],
 "metadata": {
  "kernelspec": {
   "display_name": "Python 3",
   "language": "python",
   "name": "python3"
  },
  "language_info": {
   "codemirror_mode": {
    "name": "ipython",
    "version": 3
   },
   "file_extension": ".py",
   "mimetype": "text/x-python",
   "name": "python",
   "nbconvert_exporter": "python",
   "pygments_lexer": "ipython3",
   "version": "3.8.3"
  }
 },
 "nbformat": 4,
 "nbformat_minor": 4
}
