{
 "cells": [
  {
   "cell_type": "code",
   "execution_count": 1,
   "metadata": {},
   "outputs": [],
   "source": [
    "from test import EigenData\n",
    "import numpy as np\n",
    "import scipy.io\n",
    "import h5py\n",
    "from sklearn.preprocessing import MinMaxScaler\n",
    "from sklearn.metrics import mean_squared_error\n",
    "from math import sqrt\n",
    "import matplotlib.pyplot as plt\n",
    "from mpl_toolkits.axes_grid1 import make_axes_locatable\n",
    "import torch\n",
    "%matplotlib inline"
   ]
  },
  {
   "cell_type": "code",
   "execution_count": 2,
   "metadata": {},
   "outputs": [
    {
     "name": "stdout",
     "output_type": "stream",
     "text": [
      "b (5, 33600)\n",
      "(100, 5) (5, 33600)\n",
      "--> (100, 33600)\n",
      "c (5, 33600)\n",
      "(100, 5) (5, 33600)\n",
      "--> (100, 33600)\n",
      "d (5, 33600)\n",
      "(100, 5) (5, 33600)\n",
      "--> (100, 33600)\n",
      "e (5, 33600)\n",
      "(100, 5) (5, 33600)\n",
      "--> (100, 33600)\n",
      "f (5, 33600)\n",
      "(100, 5) (5, 33600)\n",
      "--> (100, 33600)\n",
      "g (6, 33600)\n",
      "(100, 6) (6, 33600)\n",
      "--> (100, 33600)\n",
      "h (5, 33600)\n",
      "(100, 5) (5, 33600)\n",
      "--> (100, 33600)\n",
      "i (6, 33600)\n",
      "(100, 6) (6, 33600)\n",
      "--> (100, 33600)\n",
      "j (5, 33600)\n",
      "(100, 5) (5, 33600)\n",
      "--> (100, 33600)\n",
      "k (5, 33600)\n",
      "(100, 5) (5, 33600)\n",
      "--> (100, 33600)\n",
      "l (5, 33600)\n",
      "(100, 5) (5, 33600)\n",
      "--> (100, 33600)\n",
      "m (5, 33600)\n",
      "(100, 5) (5, 33600)\n",
      "--> (100, 33600)\n",
      "(403200, 5)\n"
     ]
    }
   ],
   "source": [
    "data = EigenData()\n",
    "eigenworms = data.get_eigenworms('EigenWorms.mat')\n",
    "\n",
    "footage = data.get_footage('20150814-All-PNAS2011-DataStitched .mat')\n",
    "newdata = torch.rand(33600,5)\n",
    "for k in footage.keys():\n",
    "    print(k, footage[k].shape)\n",
    "    arr1=footage[k]\n",
    "\n",
    "    arr2=arr1[:5,]\n",
    "\n",
    "    r = data.reconstruct(footage[k])\n",
    "    print('-->', r.shape)\n",
    "    dataset1 = arr2.transpose()\n",
    "\n",
    "    newdata = np.concatenate((newdata,dataset1),axis=0)\n",
    "newdata = newdata[33600:,]\n",
    "print(newdata.shape)"
   ]
  },
  {
   "cell_type": "code",
   "execution_count": 3,
   "metadata": {},
   "outputs": [],
   "source": [
    "first_5_eigenworms = eigenworms[0:5,:]\n",
    "eig_worm_0 = eigenworms[0,:]\n",
    "eig_worm_1 = eigenworms[1,:]\n",
    "eig_worm_2 = eigenworms[2,:]\n",
    "eig_worm_3 = eigenworms[3,:]\n",
    "eig_worm_4 = eigenworms[4,:]"
   ]
  },
  {
   "cell_type": "code",
   "execution_count": 4,
   "metadata": {},
   "outputs": [
    {
     "name": "stdout",
     "output_type": "stream",
     "text": [
      "(386422, 5)\n",
      "386422\n"
     ]
    }
   ],
   "source": [
    "data1=newdata[~np.isnan(newdata).any(axis=1)]\n",
    "data1 = data1.astype('float32')\n",
    "print(data1.shape)\n",
    "print(len(data1))"
   ]
  },
  {
   "cell_type": "code",
   "execution_count": 5,
   "metadata": {},
   "outputs": [],
   "source": [
    "scaler = MinMaxScaler(feature_range=(0, 1))\n",
    "data1 = scaler.fit_transform(data1)"
   ]
  },
  {
   "cell_type": "code",
   "execution_count": 6,
   "metadata": {},
   "outputs": [],
   "source": [
    "def create_dataset(dataset, look_back=5):\n",
    "    dataX, dataY = [], []\n",
    "    for i in range(len(dataset) - look_back):\n",
    "        a = dataset[i:(i + look_back)]\n",
    "        dataX.append(a)\n",
    "        dataY.append(dataset[i + look_back])\n",
    "    return np.array(dataX), np.array(dataY)"
   ]
  },
  {
   "cell_type": "code",
   "execution_count": 7,
   "metadata": {},
   "outputs": [
    {
     "name": "stdout",
     "output_type": "stream",
     "text": [
      "(386417, 5, 5)\n",
      "(386417, 5)\n"
     ]
    }
   ],
   "source": [
    "data_X, data_Y = create_dataset(data1)\n",
    "\n",
    "print(data_X.shape)\n",
    "print(data_Y.shape)"
   ]
  },
  {
   "cell_type": "code",
   "execution_count": 8,
   "metadata": {},
   "outputs": [
    {
     "name": "stdout",
     "output_type": "stream",
     "text": [
      "(309133, 5, 5)\n",
      "(309133, 5)\n",
      "(77284, 5, 5)\n",
      "(77284, 5)\n"
     ]
    }
   ],
   "source": [
    "train_size = int(len(data_X) * 0.8)\n",
    "test_size = len(data_X) - train_size\n",
    "train_X = data_X[:train_size]\n",
    "train_Y = data_Y[:train_size]\n",
    "test_X = data_X[train_size:]\n",
    "test_Y = data_Y[train_size:]\n",
    "\n",
    "print(train_X.shape)\n",
    "print(train_Y.shape)\n",
    "print(test_X.shape)\n",
    "print(test_Y.shape)"
   ]
  },
  {
   "cell_type": "code",
   "execution_count": 9,
   "metadata": {},
   "outputs": [
    {
     "name": "stdout",
     "output_type": "stream",
     "text": [
      "Epoch 1/100\n",
      "604/604 - 152s - loss: 0.0104 - root_mean_squared_error: 0.1020 - val_loss: 0.0054 - val_root_mean_squared_error: 0.0735\n",
      "Epoch 2/100\n",
      "604/604 - 139s - loss: 0.0025 - root_mean_squared_error: 0.0502 - val_loss: 6.0752e-04 - val_root_mean_squared_error: 0.0246\n",
      "Epoch 3/100\n",
      "604/604 - 142s - loss: 0.0015 - root_mean_squared_error: 0.0390 - val_loss: 7.4932e-04 - val_root_mean_squared_error: 0.0274\n",
      "Epoch 4/100\n",
      "604/604 - 144s - loss: 0.0012 - root_mean_squared_error: 0.0342 - val_loss: 5.4952e-04 - val_root_mean_squared_error: 0.0234\n",
      "Epoch 5/100\n",
      "604/604 - 138s - loss: 9.7276e-04 - root_mean_squared_error: 0.0312 - val_loss: 6.1016e-04 - val_root_mean_squared_error: 0.0247\n",
      "Epoch 6/100\n",
      "604/604 - 138s - loss: 8.4768e-04 - root_mean_squared_error: 0.0291 - val_loss: 3.9709e-04 - val_root_mean_squared_error: 0.0199\n",
      "Epoch 7/100\n",
      "604/604 - 137s - loss: 7.5268e-04 - root_mean_squared_error: 0.0274 - val_loss: 4.3259e-04 - val_root_mean_squared_error: 0.0208\n",
      "Epoch 8/100\n",
      "604/604 - 137s - loss: 6.7867e-04 - root_mean_squared_error: 0.0261 - val_loss: 4.1514e-04 - val_root_mean_squared_error: 0.0204\n",
      "Epoch 9/100\n",
      "604/604 - 138s - loss: 6.2068e-04 - root_mean_squared_error: 0.0249 - val_loss: 3.2725e-04 - val_root_mean_squared_error: 0.0181\n",
      "Epoch 10/100\n",
      "604/604 - 140s - loss: 5.6689e-04 - root_mean_squared_error: 0.0238 - val_loss: 3.4184e-04 - val_root_mean_squared_error: 0.0185\n",
      "Epoch 11/100\n",
      "604/604 - 138s - loss: 5.1978e-04 - root_mean_squared_error: 0.0228 - val_loss: 2.3505e-04 - val_root_mean_squared_error: 0.0153\n",
      "Epoch 12/100\n",
      "604/604 - 138s - loss: 4.8270e-04 - root_mean_squared_error: 0.0220 - val_loss: 1.6959e-04 - val_root_mean_squared_error: 0.0130\n",
      "Epoch 13/100\n",
      "604/604 - 138s - loss: 4.4637e-04 - root_mean_squared_error: 0.0211 - val_loss: 1.8646e-04 - val_root_mean_squared_error: 0.0137\n",
      "Epoch 14/100\n",
      "604/604 - 138s - loss: 4.1531e-04 - root_mean_squared_error: 0.0204 - val_loss: 1.9987e-04 - val_root_mean_squared_error: 0.0141\n",
      "Epoch 15/100\n",
      "604/604 - 138s - loss: 3.8882e-04 - root_mean_squared_error: 0.0197 - val_loss: 1.8604e-04 - val_root_mean_squared_error: 0.0136\n",
      "Epoch 16/100\n",
      "604/604 - 138s - loss: 3.6427e-04 - root_mean_squared_error: 0.0191 - val_loss: 1.7012e-04 - val_root_mean_squared_error: 0.0130\n",
      "Epoch 17/100\n",
      "604/604 - 138s - loss: 3.4364e-04 - root_mean_squared_error: 0.0185 - val_loss: 2.0426e-04 - val_root_mean_squared_error: 0.0143\n",
      "Epoch 18/100\n",
      "604/604 - 152s - loss: 3.2520e-04 - root_mean_squared_error: 0.0180 - val_loss: 1.6160e-04 - val_root_mean_squared_error: 0.0127\n",
      "Epoch 19/100\n",
      "604/604 - 205s - loss: 3.0921e-04 - root_mean_squared_error: 0.0176 - val_loss: 1.6061e-04 - val_root_mean_squared_error: 0.0127\n",
      "Epoch 20/100\n",
      "604/604 - 206s - loss: 2.9536e-04 - root_mean_squared_error: 0.0172 - val_loss: 1.0736e-04 - val_root_mean_squared_error: 0.0104\n",
      "Epoch 21/100\n",
      "604/604 - 208s - loss: 2.8429e-04 - root_mean_squared_error: 0.0169 - val_loss: 1.2489e-04 - val_root_mean_squared_error: 0.0112\n",
      "Epoch 22/100\n",
      "604/604 - 208s - loss: 2.7650e-04 - root_mean_squared_error: 0.0166 - val_loss: 1.1844e-04 - val_root_mean_squared_error: 0.0109\n",
      "Epoch 23/100\n",
      "604/604 - 207s - loss: 2.6773e-04 - root_mean_squared_error: 0.0164 - val_loss: 1.3748e-04 - val_root_mean_squared_error: 0.0117\n",
      "Epoch 24/100\n",
      "604/604 - 207s - loss: 2.6116e-04 - root_mean_squared_error: 0.0162 - val_loss: 1.3398e-04 - val_root_mean_squared_error: 0.0116\n",
      "Epoch 25/100\n",
      "604/604 - 207s - loss: 2.5623e-04 - root_mean_squared_error: 0.0160 - val_loss: 1.1735e-04 - val_root_mean_squared_error: 0.0108\n",
      "Epoch 26/100\n",
      "604/604 - 210s - loss: 2.5152e-04 - root_mean_squared_error: 0.0159 - val_loss: 1.4423e-04 - val_root_mean_squared_error: 0.0120\n",
      "Epoch 27/100\n",
      "604/604 - 208s - loss: 2.4699e-04 - root_mean_squared_error: 0.0157 - val_loss: 1.2569e-04 - val_root_mean_squared_error: 0.0112\n",
      "Epoch 28/100\n",
      "604/604 - 208s - loss: 2.4322e-04 - root_mean_squared_error: 0.0156 - val_loss: 1.2053e-04 - val_root_mean_squared_error: 0.0110\n",
      "Epoch 29/100\n",
      "604/604 - 207s - loss: 2.3901e-04 - root_mean_squared_error: 0.0155 - val_loss: 9.5477e-05 - val_root_mean_squared_error: 0.0098\n",
      "Epoch 30/100\n",
      "604/604 - 208s - loss: 2.3569e-04 - root_mean_squared_error: 0.0154 - val_loss: 1.2942e-04 - val_root_mean_squared_error: 0.0114\n",
      "Epoch 31/100\n",
      "604/604 - 206s - loss: 2.3247e-04 - root_mean_squared_error: 0.0152 - val_loss: 9.7731e-05 - val_root_mean_squared_error: 0.0099\n",
      "Epoch 32/100\n",
      "604/604 - 206s - loss: 2.3009e-04 - root_mean_squared_error: 0.0152 - val_loss: 1.0444e-04 - val_root_mean_squared_error: 0.0102\n",
      "Epoch 33/100\n",
      "604/604 - 199s - loss: 2.2714e-04 - root_mean_squared_error: 0.0151 - val_loss: 1.0376e-04 - val_root_mean_squared_error: 0.0102\n",
      "Epoch 34/100\n",
      "604/604 - 154s - loss: 2.2424e-04 - root_mean_squared_error: 0.0150 - val_loss: 1.4525e-04 - val_root_mean_squared_error: 0.0121\n",
      "Epoch 35/100\n",
      "604/604 - 146s - loss: 2.2114e-04 - root_mean_squared_error: 0.0149 - val_loss: 9.3165e-05 - val_root_mean_squared_error: 0.0097\n",
      "Epoch 36/100\n",
      "604/604 - 151s - loss: 2.1947e-04 - root_mean_squared_error: 0.0148 - val_loss: 1.1022e-04 - val_root_mean_squared_error: 0.0105\n",
      "Epoch 37/100\n",
      "604/604 - 152s - loss: 2.1721e-04 - root_mean_squared_error: 0.0147 - val_loss: 7.6977e-05 - val_root_mean_squared_error: 0.0088\n",
      "Epoch 38/100\n",
      "604/604 - 153s - loss: 2.1519e-04 - root_mean_squared_error: 0.0147 - val_loss: 1.1238e-04 - val_root_mean_squared_error: 0.0106\n",
      "Epoch 39/100\n",
      "604/604 - 146s - loss: 2.1288e-04 - root_mean_squared_error: 0.0146 - val_loss: 6.9652e-05 - val_root_mean_squared_error: 0.0083\n",
      "Epoch 40/100\n",
      "604/604 - 144s - loss: 2.1045e-04 - root_mean_squared_error: 0.0145 - val_loss: 6.0278e-05 - val_root_mean_squared_error: 0.0078\n",
      "Epoch 41/100\n",
      "604/604 - 146s - loss: 2.0831e-04 - root_mean_squared_error: 0.0144 - val_loss: 7.0632e-05 - val_root_mean_squared_error: 0.0084\n",
      "Epoch 42/100\n",
      "604/604 - 142s - loss: 2.0777e-04 - root_mean_squared_error: 0.0144 - val_loss: 5.0706e-05 - val_root_mean_squared_error: 0.0071\n",
      "Epoch 43/100\n",
      "604/604 - 141s - loss: 2.0601e-04 - root_mean_squared_error: 0.0144 - val_loss: 7.2382e-05 - val_root_mean_squared_error: 0.0085\n",
      "Epoch 44/100\n",
      "604/604 - 140s - loss: 2.0421e-04 - root_mean_squared_error: 0.0143 - val_loss: 1.0241e-04 - val_root_mean_squared_error: 0.0101\n",
      "Epoch 45/100\n",
      "604/604 - 139s - loss: 2.0232e-04 - root_mean_squared_error: 0.0142 - val_loss: 1.1151e-04 - val_root_mean_squared_error: 0.0106\n",
      "Epoch 46/100\n",
      "604/604 - 139s - loss: 2.0109e-04 - root_mean_squared_error: 0.0142 - val_loss: 4.4976e-05 - val_root_mean_squared_error: 0.0067\n",
      "Epoch 47/100\n",
      "604/604 - 139s - loss: 1.9930e-04 - root_mean_squared_error: 0.0141 - val_loss: 1.1046e-04 - val_root_mean_squared_error: 0.0105\n",
      "Epoch 48/100\n",
      "604/604 - 139s - loss: 1.9866e-04 - root_mean_squared_error: 0.0141 - val_loss: 6.4107e-05 - val_root_mean_squared_error: 0.0080\n",
      "Epoch 49/100\n",
      "604/604 - 139s - loss: 1.9662e-04 - root_mean_squared_error: 0.0140 - val_loss: 5.0285e-05 - val_root_mean_squared_error: 0.0071\n",
      "Epoch 50/100\n",
      "604/604 - 140s - loss: 1.9534e-04 - root_mean_squared_error: 0.0140 - val_loss: 5.9907e-05 - val_root_mean_squared_error: 0.0077\n",
      "Epoch 51/100\n",
      "604/604 - 139s - loss: 1.9412e-04 - root_mean_squared_error: 0.0139 - val_loss: 7.5950e-05 - val_root_mean_squared_error: 0.0087\n",
      "Epoch 52/100\n",
      "604/604 - 140s - loss: 1.9290e-04 - root_mean_squared_error: 0.0139 - val_loss: 7.8811e-05 - val_root_mean_squared_error: 0.0089\n",
      "Epoch 53/100\n",
      "604/604 - 140s - loss: 1.9241e-04 - root_mean_squared_error: 0.0139 - val_loss: 4.8274e-05 - val_root_mean_squared_error: 0.0069\n",
      "Epoch 54/100\n",
      "604/604 - 148s - loss: 1.9101e-04 - root_mean_squared_error: 0.0138 - val_loss: 1.0565e-04 - val_root_mean_squared_error: 0.0103\n",
      "Epoch 55/100\n",
      "604/604 - 147s - loss: 1.8937e-04 - root_mean_squared_error: 0.0138 - val_loss: 6.5297e-05 - val_root_mean_squared_error: 0.0081\n",
      "Epoch 56/100\n",
      "604/604 - 147s - loss: 1.8885e-04 - root_mean_squared_error: 0.0137 - val_loss: 4.9649e-05 - val_root_mean_squared_error: 0.0070\n",
      "Epoch 57/100\n",
      "604/604 - 149s - loss: 1.8762e-04 - root_mean_squared_error: 0.0137 - val_loss: 6.3606e-05 - val_root_mean_squared_error: 0.0080\n",
      "Epoch 58/100\n",
      "604/604 - 147s - loss: 1.8629e-04 - root_mean_squared_error: 0.0136 - val_loss: 4.6407e-05 - val_root_mean_squared_error: 0.0068\n"
     ]
    },
    {
     "name": "stdout",
     "output_type": "stream",
     "text": [
      "Epoch 59/100\n",
      "604/604 - 145s - loss: 1.8549e-04 - root_mean_squared_error: 0.0136 - val_loss: 5.2978e-05 - val_root_mean_squared_error: 0.0073\n",
      "Epoch 60/100\n",
      "604/604 - 147s - loss: 1.8477e-04 - root_mean_squared_error: 0.0136 - val_loss: 5.7647e-05 - val_root_mean_squared_error: 0.0076\n",
      "Epoch 61/100\n",
      "604/604 - 148s - loss: 1.8364e-04 - root_mean_squared_error: 0.0136 - val_loss: 6.0269e-05 - val_root_mean_squared_error: 0.0078\n",
      "Epoch 62/100\n",
      "604/604 - 152s - loss: 1.8289e-04 - root_mean_squared_error: 0.0135 - val_loss: 5.6653e-05 - val_root_mean_squared_error: 0.0075\n",
      "Epoch 63/100\n",
      "604/604 - 151s - loss: 1.8238e-04 - root_mean_squared_error: 0.0135 - val_loss: 6.7019e-05 - val_root_mean_squared_error: 0.0082\n",
      "Epoch 64/100\n",
      "604/604 - 149s - loss: 1.8116e-04 - root_mean_squared_error: 0.0135 - val_loss: 4.9171e-05 - val_root_mean_squared_error: 0.0070\n",
      "Epoch 65/100\n",
      "604/604 - 150s - loss: 1.8033e-04 - root_mean_squared_error: 0.0134 - val_loss: 7.1512e-05 - val_root_mean_squared_error: 0.0085\n",
      "Epoch 66/100\n",
      "604/604 - 145s - loss: 1.7993e-04 - root_mean_squared_error: 0.0134 - val_loss: 7.8955e-05 - val_root_mean_squared_error: 0.0089\n",
      "Epoch 67/100\n",
      "604/604 - 148s - loss: 1.7877e-04 - root_mean_squared_error: 0.0134 - val_loss: 6.6140e-05 - val_root_mean_squared_error: 0.0081\n",
      "Epoch 68/100\n",
      "604/604 - 149s - loss: 1.7790e-04 - root_mean_squared_error: 0.0133 - val_loss: 5.1323e-05 - val_root_mean_squared_error: 0.0072\n",
      "Epoch 69/100\n",
      "604/604 - 148s - loss: 1.7738e-04 - root_mean_squared_error: 0.0133 - val_loss: 6.4435e-05 - val_root_mean_squared_error: 0.0080\n",
      "Epoch 70/100\n",
      "604/604 - 148s - loss: 1.7660e-04 - root_mean_squared_error: 0.0133 - val_loss: 5.4434e-05 - val_root_mean_squared_error: 0.0074\n",
      "Epoch 71/100\n",
      "604/604 - 148s - loss: 1.7587e-04 - root_mean_squared_error: 0.0133 - val_loss: 8.0896e-05 - val_root_mean_squared_error: 0.0090\n",
      "Epoch 72/100\n",
      "604/604 - 152s - loss: 1.7467e-04 - root_mean_squared_error: 0.0132 - val_loss: 6.7571e-05 - val_root_mean_squared_error: 0.0082\n",
      "Epoch 73/100\n",
      "604/604 - 151s - loss: 1.7407e-04 - root_mean_squared_error: 0.0132 - val_loss: 4.8956e-05 - val_root_mean_squared_error: 0.0070\n",
      "Epoch 74/100\n",
      "604/604 - 151s - loss: 1.7397e-04 - root_mean_squared_error: 0.0132 - val_loss: 4.0266e-05 - val_root_mean_squared_error: 0.0063\n",
      "Epoch 75/100\n",
      "604/604 - 154s - loss: 1.7277e-04 - root_mean_squared_error: 0.0131 - val_loss: 4.6981e-05 - val_root_mean_squared_error: 0.0069\n",
      "Epoch 76/100\n",
      "604/604 - 149s - loss: 1.7211e-04 - root_mean_squared_error: 0.0131 - val_loss: 4.7222e-05 - val_root_mean_squared_error: 0.0069\n",
      "Epoch 77/100\n",
      "604/604 - 150s - loss: 1.7168e-04 - root_mean_squared_error: 0.0131 - val_loss: 4.6552e-05 - val_root_mean_squared_error: 0.0068\n",
      "Epoch 78/100\n",
      "604/604 - 151s - loss: 1.7180e-04 - root_mean_squared_error: 0.0131 - val_loss: 5.5816e-05 - val_root_mean_squared_error: 0.0075\n",
      "Epoch 79/100\n",
      "604/604 - 157s - loss: 1.7065e-04 - root_mean_squared_error: 0.0131 - val_loss: 5.1774e-05 - val_root_mean_squared_error: 0.0072\n",
      "Epoch 80/100\n",
      "604/604 - 146s - loss: 1.7005e-04 - root_mean_squared_error: 0.0130 - val_loss: 4.5110e-05 - val_root_mean_squared_error: 0.0067\n",
      "Epoch 81/100\n",
      "604/604 - 142s - loss: 1.6952e-04 - root_mean_squared_error: 0.0130 - val_loss: 4.4346e-05 - val_root_mean_squared_error: 0.0067\n",
      "Epoch 82/100\n",
      "604/604 - 142s - loss: 1.6897e-04 - root_mean_squared_error: 0.0130 - val_loss: 4.9635e-05 - val_root_mean_squared_error: 0.0070\n",
      "Epoch 83/100\n",
      "604/604 - 148s - loss: 1.6848e-04 - root_mean_squared_error: 0.0130 - val_loss: 5.6589e-05 - val_root_mean_squared_error: 0.0075\n",
      "Epoch 84/100\n",
      "604/604 - 153s - loss: 1.6792e-04 - root_mean_squared_error: 0.0130 - val_loss: 5.1720e-05 - val_root_mean_squared_error: 0.0072\n",
      "Epoch 85/100\n",
      "604/604 - 151s - loss: 1.6693e-04 - root_mean_squared_error: 0.0129 - val_loss: 3.0278e-05 - val_root_mean_squared_error: 0.0055\n",
      "Epoch 86/100\n",
      "604/604 - 152s - loss: 1.6679e-04 - root_mean_squared_error: 0.0129 - val_loss: 6.6173e-05 - val_root_mean_squared_error: 0.0081\n",
      "Epoch 87/100\n",
      "604/604 - 148s - loss: 1.6654e-04 - root_mean_squared_error: 0.0129 - val_loss: 5.7350e-05 - val_root_mean_squared_error: 0.0076\n",
      "Epoch 88/100\n",
      "604/604 - 147s - loss: 1.6598e-04 - root_mean_squared_error: 0.0129 - val_loss: 4.9216e-05 - val_root_mean_squared_error: 0.0070\n",
      "Epoch 89/100\n",
      "604/604 - 151s - loss: 1.6549e-04 - root_mean_squared_error: 0.0129 - val_loss: 5.2425e-05 - val_root_mean_squared_error: 0.0072\n",
      "Epoch 90/100\n",
      "604/604 - 153s - loss: 1.6562e-04 - root_mean_squared_error: 0.0129 - val_loss: 4.3023e-05 - val_root_mean_squared_error: 0.0066\n",
      "Epoch 91/100\n",
      "604/604 - 149s - loss: 1.6409e-04 - root_mean_squared_error: 0.0128 - val_loss: 3.6598e-05 - val_root_mean_squared_error: 0.0060\n",
      "Epoch 92/100\n",
      "604/604 - 152s - loss: 1.6408e-04 - root_mean_squared_error: 0.0128 - val_loss: 5.1896e-05 - val_root_mean_squared_error: 0.0072\n",
      "Epoch 93/100\n",
      "604/604 - 151s - loss: 1.6301e-04 - root_mean_squared_error: 0.0128 - val_loss: 5.5347e-05 - val_root_mean_squared_error: 0.0074\n",
      "Epoch 94/100\n",
      "604/604 - 148s - loss: 1.6246e-04 - root_mean_squared_error: 0.0127 - val_loss: 4.2467e-05 - val_root_mean_squared_error: 0.0065\n",
      "Epoch 95/100\n",
      "604/604 - 151s - loss: 1.6304e-04 - root_mean_squared_error: 0.0128 - val_loss: 3.5293e-05 - val_root_mean_squared_error: 0.0059\n",
      "Epoch 96/100\n",
      "604/604 - 155s - loss: 1.6192e-04 - root_mean_squared_error: 0.0127 - val_loss: 4.7899e-05 - val_root_mean_squared_error: 0.0069\n",
      "Epoch 97/100\n",
      "604/604 - 148s - loss: 1.6155e-04 - root_mean_squared_error: 0.0127 - val_loss: 5.3706e-05 - val_root_mean_squared_error: 0.0073\n",
      "Epoch 98/100\n",
      "604/604 - 144s - loss: 1.6077e-04 - root_mean_squared_error: 0.0127 - val_loss: 4.1450e-05 - val_root_mean_squared_error: 0.0064\n",
      "Epoch 99/100\n",
      "604/604 - 150s - loss: 1.6014e-04 - root_mean_squared_error: 0.0127 - val_loss: 5.9100e-05 - val_root_mean_squared_error: 0.0077\n",
      "Epoch 100/100\n",
      "604/604 - 147s - loss: 1.6041e-04 - root_mean_squared_error: 0.0127 - val_loss: 4.1588e-05 - val_root_mean_squared_error: 0.0064\n"
     ]
    }
   ],
   "source": [
    "import tensorflow as tf\n",
    "from tensorflow import keras\n",
    "from tensorflow.keras import layers\n",
    "from keras.layers import Input,LSTM,Dropout,Dense\n",
    "\n",
    "\n",
    "\n",
    "# create and fit the LSTM network\n",
    "\n",
    "model = keras.Sequential()\n",
    "model.add(LSTM(260,input_shape=(5,5),return_sequences=True))\n",
    "model.add(Dropout(0.2))\n",
    "model.add(LSTM(260,input_shape=(5,5),return_sequences=True))\n",
    "model.add(Dropout(0.2))\n",
    "model.add(LSTM(260,input_shape=(5,5),return_sequences=True))\n",
    "model.add(Dropout(0.2))\n",
    "model.add(LSTM(260,input_shape=(5,5),return_sequences=False))\n",
    "model.add(Dropout(0.2))\n",
    "model.add(Dense(5,activation='linear'))\n",
    "model.compile(optimizer='rmsprop',loss='mean_squared_error',metrics=[tf.keras.metrics.RootMeanSquaredError()])\n",
    "\n",
    "history = model.fit(train_X, train_Y, epochs=100, batch_size=512, verbose=2, validation_data=(test_X, test_Y))"
   ]
  },
  {
   "cell_type": "code",
   "execution_count": 10,
   "metadata": {},
   "outputs": [
    {
     "data": {
      "image/png": "[encoded data removed]",
      "text/plain": [
       "<Figure size 432x288 with 1 Axes>"
      ]
     },
     "metadata": {
      "needs_background": "light"
     },
     "output_type": "display_data"
    }
   ],
   "source": [
    "epochs=range(len(history.history['loss']))\n",
    "plt.figure()\n",
    "plt.plot(epochs,history.history['loss'],'b',label='Training loss')\n",
    "plt.plot(epochs,history.history['val_loss'],'r',label='Test loss')\n",
    "plt.title('Training and Test loss')\n",
    "plt.legend()\n",
    "plt.show()"
   ]
  },
  {
   "cell_type": "code",
   "execution_count": 11,
   "metadata": {},
   "outputs": [
    {
     "data": {
      "image/png": "[encoded data removed]",
      "text/plain": [
       "<Figure size 432x288 with 1 Axes>"
      ]
     },
     "metadata": {
      "needs_background": "light"
     },
     "output_type": "display_data"
    }
   ],
   "source": [
    "epochs=range(len(history.history['root_mean_squared_error']))\n",
    "plt.figure()\n",
    "plt.plot(epochs,history.history['root_mean_squared_error'],'b',label='Training rmse')\n",
    "plt.plot(epochs,history.history['val_root_mean_squared_error'],'r',label='Test rmse')\n",
    "plt.title('Training and Test rmse')\n",
    "plt.legend()\n",
    "plt.show()"
   ]
  },
  {
   "cell_type": "code",
   "execution_count": 12,
   "metadata": {},
   "outputs": [],
   "source": [
    "testPredict = model.predict(test_X)"
   ]
  },
  {
   "cell_type": "code",
   "execution_count": 13,
   "metadata": {},
   "outputs": [
    {
     "name": "stdout",
     "output_type": "stream",
     "text": [
      "(77284, 5)\n",
      "(77284, 5)\n"
     ]
    }
   ],
   "source": [
    "print(testPredict.shape)\n",
    "print(test_Y.shape)"
   ]
  },
  {
   "cell_type": "code",
   "execution_count": 14,
   "metadata": {},
   "outputs": [
    {
     "name": "stdout",
     "output_type": "stream",
     "text": [
      "Test Score: 0.00645 RMSE\n"
     ]
    }
   ],
   "source": [
    "testScore = sqrt(mean_squared_error(test_Y, testPredict))\n",
    "print('Test Score: %.5f RMSE' % (testScore))"
   ]
  },
  {
   "cell_type": "code",
   "execution_count": 15,
   "metadata": {},
   "outputs": [],
   "source": [
    "newtestPredict = scaler.inverse_transform(testPredict)\n",
    "newtest_Y = scaler.inverse_transform(test_Y)"
   ]
  },
  {
   "cell_type": "code",
   "execution_count": 16,
   "metadata": {},
   "outputs": [
    {
     "name": "stdout",
     "output_type": "stream",
     "text": [
      "Test Score: 0.22009 RMSE\n"
     ]
    }
   ],
   "source": [
    "testScore = sqrt(mean_squared_error(newtest_Y, newtestPredict))\n",
    "print('Test Score: %.5f RMSE' % (testScore))"
   ]
  },
  {
   "cell_type": "code",
   "execution_count": null,
   "metadata": {},
   "outputs": [],
   "source": []
  }
 ],
 "metadata": {
  "kernelspec": {
   "display_name": "Python 3",
   "language": "python",
   "name": "python3"
  },
  "language_info": {
   "codemirror_mode": {
    "name": "ipython",
    "version": 3
   },
   "file_extension": ".py",
   "mimetype": "text/x-python",
   "name": "python",
   "nbconvert_exporter": "python",
   "pygments_lexer": "ipython3",
   "version": "3.8.3"
  }
 },
 "nbformat": 4,
 "nbformat_minor": 4
}
