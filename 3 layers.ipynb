{
 "cells": [
  {
   "cell_type": "code",
   "execution_count": 1,
   "metadata": {},
   "outputs": [],
   "source": [
    "from test import EigenData\n",
    "import numpy as np\n",
    "import scipy.io\n",
    "import h5py\n",
    "from sklearn.preprocessing import MinMaxScaler\n",
    "from sklearn.metrics import mean_squared_error\n",
    "from math import sqrt\n",
    "import matplotlib.pyplot as plt\n",
    "from mpl_toolkits.axes_grid1 import make_axes_locatable\n",
    "import torch\n",
    "%matplotlib inline"
   ]
  },
  {
   "cell_type": "code",
   "execution_count": 2,
   "metadata": {},
   "outputs": [
    {
     "name": "stdout",
     "output_type": "stream",
     "text": [
      "b (5, 33600)\n",
      "(100, 5) (5, 33600)\n",
      "--> (100, 33600)\n",
      "c (5, 33600)\n",
      "(100, 5) (5, 33600)\n",
      "--> (100, 33600)\n",
      "d (5, 33600)\n",
      "(100, 5) (5, 33600)\n",
      "--> (100, 33600)\n",
      "e (5, 33600)\n",
      "(100, 5) (5, 33600)\n",
      "--> (100, 33600)\n",
      "f (5, 33600)\n",
      "(100, 5) (5, 33600)\n",
      "--> (100, 33600)\n",
      "g (6, 33600)\n",
      "(100, 6) (6, 33600)\n",
      "--> (100, 33600)\n",
      "h (5, 33600)\n",
      "(100, 5) (5, 33600)\n",
      "--> (100, 33600)\n",
      "i (6, 33600)\n",
      "(100, 6) (6, 33600)\n",
      "--> (100, 33600)\n",
      "j (5, 33600)\n",
      "(100, 5) (5, 33600)\n",
      "--> (100, 33600)\n",
      "k (5, 33600)\n",
      "(100, 5) (5, 33600)\n",
      "--> (100, 33600)\n",
      "l (5, 33600)\n",
      "(100, 5) (5, 33600)\n",
      "--> (100, 33600)\n",
      "m (5, 33600)\n",
      "(100, 5) (5, 33600)\n",
      "--> (100, 33600)\n",
      "(403200, 5)\n"
     ]
    }
   ],
   "source": [
    "data = EigenData()\n",
    "eigenworms = data.get_eigenworms('EigenWorms.mat')\n",
    "\n",
    "footage = data.get_footage('20150814-All-PNAS2011-DataStitched .mat')\n",
    "newdata = torch.rand(33600,5)\n",
    "for k in footage.keys():\n",
    "    print(k, footage[k].shape)\n",
    "    arr1=footage[k]\n",
    "\n",
    "    arr2=arr1[:5,]\n",
    "\n",
    "    r = data.reconstruct(footage[k])\n",
    "    print('-->', r.shape)\n",
    "    dataset1 = arr2.transpose()\n",
    "\n",
    "    newdata = np.concatenate((newdata,dataset1),axis=0)\n",
    "newdata = newdata[33600:,]\n",
    "print(newdata.shape)"
   ]
  },
  {
   "cell_type": "code",
   "execution_count": 3,
   "metadata": {},
   "outputs": [],
   "source": [
    "first_5_eigenworms = eigenworms[0:5,:]\n",
    "eig_worm_0 = eigenworms[0,:]\n",
    "eig_worm_1 = eigenworms[1,:]\n",
    "eig_worm_2 = eigenworms[2,:]\n",
    "eig_worm_3 = eigenworms[3,:]\n",
    "eig_worm_4 = eigenworms[4,:]"
   ]
  },
  {
   "cell_type": "code",
   "execution_count": 4,
   "metadata": {},
   "outputs": [
    {
     "name": "stdout",
     "output_type": "stream",
     "text": [
      "(386422, 5)\n",
      "386422\n"
     ]
    }
   ],
   "source": [
    "data1=newdata[~np.isnan(newdata).any(axis=1)]\n",
    "data1 = data1.astype('float32')\n",
    "print(data1.shape)\n",
    "print(len(data1))"
   ]
  },
  {
   "cell_type": "code",
   "execution_count": 5,
   "metadata": {},
   "outputs": [],
   "source": [
    "scaler = MinMaxScaler(feature_range=(0, 1))\n",
    "data1 = scaler.fit_transform(data1)"
   ]
  },
  {
   "cell_type": "code",
   "execution_count": 6,
   "metadata": {},
   "outputs": [],
   "source": [
    "def create_dataset(dataset, look_back=5):\n",
    "    dataX, dataY = [], []\n",
    "    for i in range(len(dataset) - look_back):\n",
    "        a = dataset[i:(i + look_back)]\n",
    "        dataX.append(a)\n",
    "        dataY.append(dataset[i + look_back])\n",
    "    return np.array(dataX), np.array(dataY)"
   ]
  },
  {
   "cell_type": "code",
   "execution_count": 7,
   "metadata": {},
   "outputs": [
    {
     "name": "stdout",
     "output_type": "stream",
     "text": [
      "(386417, 5, 5)\n",
      "(386417, 5)\n"
     ]
    }
   ],
   "source": [
    "data_X, data_Y = create_dataset(data1)\n",
    "\n",
    "print(data_X.shape)\n",
    "print(data_Y.shape)"
   ]
  },
  {
   "cell_type": "code",
   "execution_count": 8,
   "metadata": {},
   "outputs": [
    {
     "name": "stdout",
     "output_type": "stream",
     "text": [
      "(309133, 5, 5)\n",
      "(309133, 5)\n",
      "(77284, 5, 5)\n",
      "(77284, 5)\n"
     ]
    }
   ],
   "source": [
    "train_size = int(len(data_X) * 0.8)\n",
    "test_size = len(data_X) - train_size\n",
    "train_X = data_X[:train_size]\n",
    "train_Y = data_Y[:train_size]\n",
    "test_X = data_X[train_size:]\n",
    "test_Y = data_Y[train_size:]\n",
    "\n",
    "print(train_X.shape)\n",
    "print(train_Y.shape)\n",
    "print(test_X.shape)\n",
    "print(test_Y.shape)"
   ]
  },
  {
   "cell_type": "code",
   "execution_count": 9,
   "metadata": {},
   "outputs": [
    {
     "name": "stdout",
     "output_type": "stream",
     "text": [
      "Epoch 1/100\n",
      "604/604 - 31s - loss: 0.0089 - root_mean_squared_error: 0.0946 - val_loss: 0.0031 - val_root_mean_squared_error: 0.0554\n",
      "Epoch 2/100\n",
      "604/604 - 26s - loss: 0.0032 - root_mean_squared_error: 0.0561 - val_loss: 7.4465e-04 - val_root_mean_squared_error: 0.0273\n",
      "Epoch 3/100\n",
      "604/604 - 27s - loss: 0.0018 - root_mean_squared_error: 0.0426 - val_loss: 5.9007e-04 - val_root_mean_squared_error: 0.0243\n",
      "Epoch 4/100\n",
      "604/604 - 26s - loss: 0.0013 - root_mean_squared_error: 0.0360 - val_loss: 4.0057e-04 - val_root_mean_squared_error: 0.0200\n",
      "Epoch 5/100\n",
      "604/604 - 26s - loss: 0.0010 - root_mean_squared_error: 0.0318 - val_loss: 2.0425e-04 - val_root_mean_squared_error: 0.0143\n",
      "Epoch 6/100\n",
      "604/604 - 26s - loss: 8.3201e-04 - root_mean_squared_error: 0.0288 - val_loss: 2.1152e-04 - val_root_mean_squared_error: 0.0145\n",
      "Epoch 7/100\n",
      "604/604 - 26s - loss: 7.0298e-04 - root_mean_squared_error: 0.0265 - val_loss: 1.4972e-04 - val_root_mean_squared_error: 0.0122\n",
      "Epoch 8/100\n",
      "604/604 - 26s - loss: 6.0624e-04 - root_mean_squared_error: 0.0246 - val_loss: 2.6891e-04 - val_root_mean_squared_error: 0.0164\n",
      "Epoch 9/100\n",
      "604/604 - 26s - loss: 5.4008e-04 - root_mean_squared_error: 0.0232 - val_loss: 2.4189e-04 - val_root_mean_squared_error: 0.0156\n",
      "Epoch 10/100\n",
      "604/604 - 26s - loss: 4.9251e-04 - root_mean_squared_error: 0.0222 - val_loss: 1.7003e-04 - val_root_mean_squared_error: 0.0130\n",
      "Epoch 11/100\n",
      "604/604 - 26s - loss: 4.6170e-04 - root_mean_squared_error: 0.0215 - val_loss: 1.4233e-04 - val_root_mean_squared_error: 0.0119\n",
      "Epoch 12/100\n",
      "604/604 - 26s - loss: 4.4190e-04 - root_mean_squared_error: 0.0210 - val_loss: 1.2863e-04 - val_root_mean_squared_error: 0.0113\n",
      "Epoch 13/100\n",
      "604/604 - 26s - loss: 4.2777e-04 - root_mean_squared_error: 0.0207 - val_loss: 1.8375e-04 - val_root_mean_squared_error: 0.0136\n",
      "Epoch 14/100\n",
      "604/604 - 26s - loss: 4.1911e-04 - root_mean_squared_error: 0.0205 - val_loss: 1.1438e-04 - val_root_mean_squared_error: 0.0107\n",
      "Epoch 15/100\n",
      "604/604 - 26s - loss: 4.0911e-04 - root_mean_squared_error: 0.0202 - val_loss: 1.5033e-04 - val_root_mean_squared_error: 0.0123\n",
      "Epoch 16/100\n",
      "604/604 - 26s - loss: 4.0209e-04 - root_mean_squared_error: 0.0201 - val_loss: 9.6996e-05 - val_root_mean_squared_error: 0.0098\n",
      "Epoch 17/100\n",
      "604/604 - 26s - loss: 3.9458e-04 - root_mean_squared_error: 0.0199 - val_loss: 9.0651e-05 - val_root_mean_squared_error: 0.0095\n",
      "Epoch 18/100\n",
      "604/604 - 26s - loss: 3.8930e-04 - root_mean_squared_error: 0.0197 - val_loss: 1.4361e-04 - val_root_mean_squared_error: 0.0120\n",
      "Epoch 19/100\n",
      "604/604 - 26s - loss: 3.8425e-04 - root_mean_squared_error: 0.0196 - val_loss: 8.7019e-05 - val_root_mean_squared_error: 0.0093\n",
      "Epoch 20/100\n",
      "604/604 - 26s - loss: 3.7802e-04 - root_mean_squared_error: 0.0194 - val_loss: 7.4616e-05 - val_root_mean_squared_error: 0.0086\n",
      "Epoch 21/100\n",
      "604/604 - 26s - loss: 3.7402e-04 - root_mean_squared_error: 0.0193 - val_loss: 1.2954e-04 - val_root_mean_squared_error: 0.0114\n",
      "Epoch 22/100\n",
      "604/604 - 26s - loss: 3.6935e-04 - root_mean_squared_error: 0.0192 - val_loss: 1.1661e-04 - val_root_mean_squared_error: 0.0108\n",
      "Epoch 23/100\n",
      "604/604 - 26s - loss: 3.6499e-04 - root_mean_squared_error: 0.0191 - val_loss: 7.7973e-05 - val_root_mean_squared_error: 0.0088\n",
      "Epoch 24/100\n",
      "604/604 - 26s - loss: 3.6196e-04 - root_mean_squared_error: 0.0190 - val_loss: 6.7054e-05 - val_root_mean_squared_error: 0.0082\n",
      "Epoch 25/100\n",
      "604/604 - 26s - loss: 3.5728e-04 - root_mean_squared_error: 0.0189 - val_loss: 8.5645e-05 - val_root_mean_squared_error: 0.0093\n",
      "Epoch 26/100\n",
      "604/604 - 26s - loss: 3.5628e-04 - root_mean_squared_error: 0.0189 - val_loss: 9.4047e-05 - val_root_mean_squared_error: 0.0097\n",
      "Epoch 27/100\n",
      "604/604 - 26s - loss: 3.5318e-04 - root_mean_squared_error: 0.0188 - val_loss: 8.6190e-05 - val_root_mean_squared_error: 0.0093\n",
      "Epoch 28/100\n",
      "604/604 - 26s - loss: 3.4954e-04 - root_mean_squared_error: 0.0187 - val_loss: 8.4868e-05 - val_root_mean_squared_error: 0.0092\n",
      "Epoch 29/100\n",
      "604/604 - 26s - loss: 3.4749e-04 - root_mean_squared_error: 0.0186 - val_loss: 9.3175e-05 - val_root_mean_squared_error: 0.0097\n",
      "Epoch 30/100\n",
      "604/604 - 26s - loss: 3.4512e-04 - root_mean_squared_error: 0.0186 - val_loss: 9.7444e-05 - val_root_mean_squared_error: 0.0099\n",
      "Epoch 31/100\n",
      "604/604 - 26s - loss: 3.4328e-04 - root_mean_squared_error: 0.0185 - val_loss: 4.5418e-05 - val_root_mean_squared_error: 0.0067\n",
      "Epoch 32/100\n",
      "604/604 - 26s - loss: 3.4042e-04 - root_mean_squared_error: 0.0185 - val_loss: 7.6746e-05 - val_root_mean_squared_error: 0.0088\n",
      "Epoch 33/100\n",
      "604/604 - 26s - loss: 3.3844e-04 - root_mean_squared_error: 0.0184 - val_loss: 1.0102e-04 - val_root_mean_squared_error: 0.0101\n",
      "Epoch 34/100\n",
      "604/604 - 26s - loss: 3.3624e-04 - root_mean_squared_error: 0.0183 - val_loss: 9.5552e-05 - val_root_mean_squared_error: 0.0098\n",
      "Epoch 35/100\n",
      "604/604 - 26s - loss: 3.3532e-04 - root_mean_squared_error: 0.0183 - val_loss: 5.9239e-05 - val_root_mean_squared_error: 0.0077\n",
      "Epoch 36/100\n",
      "604/604 - 27s - loss: 3.3186e-04 - root_mean_squared_error: 0.0182 - val_loss: 4.8431e-05 - val_root_mean_squared_error: 0.0070\n",
      "Epoch 37/100\n",
      "604/604 - 27s - loss: 3.3115e-04 - root_mean_squared_error: 0.0182 - val_loss: 6.1084e-05 - val_root_mean_squared_error: 0.0078\n",
      "Epoch 38/100\n",
      "604/604 - 26s - loss: 3.2951e-04 - root_mean_squared_error: 0.0182 - val_loss: 7.2239e-05 - val_root_mean_squared_error: 0.0085\n",
      "Epoch 39/100\n",
      "604/604 - 27s - loss: 3.2720e-04 - root_mean_squared_error: 0.0181 - val_loss: 8.6135e-05 - val_root_mean_squared_error: 0.0093\n",
      "Epoch 40/100\n",
      "604/604 - 27s - loss: 3.2633e-04 - root_mean_squared_error: 0.0181 - val_loss: 7.4966e-05 - val_root_mean_squared_error: 0.0087\n",
      "Epoch 41/100\n",
      "604/604 - 27s - loss: 3.2524e-04 - root_mean_squared_error: 0.0180 - val_loss: 6.6882e-05 - val_root_mean_squared_error: 0.0082\n",
      "Epoch 42/100\n",
      "604/604 - 27s - loss: 3.2297e-04 - root_mean_squared_error: 0.0180 - val_loss: 6.2224e-05 - val_root_mean_squared_error: 0.0079\n",
      "Epoch 43/100\n",
      "604/604 - 27s - loss: 3.2142e-04 - root_mean_squared_error: 0.0179 - val_loss: 6.3695e-05 - val_root_mean_squared_error: 0.0080\n",
      "Epoch 44/100\n",
      "604/604 - 27s - loss: 3.2020e-04 - root_mean_squared_error: 0.0179 - val_loss: 5.6694e-05 - val_root_mean_squared_error: 0.0075\n",
      "Epoch 45/100\n",
      "604/604 - 26s - loss: 3.1878e-04 - root_mean_squared_error: 0.0179 - val_loss: 7.8209e-05 - val_root_mean_squared_error: 0.0088\n",
      "Epoch 46/100\n",
      "604/604 - 26s - loss: 3.1906e-04 - root_mean_squared_error: 0.0179 - val_loss: 4.8296e-05 - val_root_mean_squared_error: 0.0069\n",
      "Epoch 47/100\n",
      "604/604 - 25s - loss: 3.1690e-04 - root_mean_squared_error: 0.0178 - val_loss: 8.3242e-05 - val_root_mean_squared_error: 0.0091\n",
      "Epoch 48/100\n",
      "604/604 - 26s - loss: 3.1546e-04 - root_mean_squared_error: 0.0178 - val_loss: 4.1873e-05 - val_root_mean_squared_error: 0.0065\n",
      "Epoch 49/100\n",
      "604/604 - 26s - loss: 3.1453e-04 - root_mean_squared_error: 0.0177 - val_loss: 5.5397e-05 - val_root_mean_squared_error: 0.0074\n",
      "Epoch 50/100\n",
      "604/604 - 27s - loss: 3.1349e-04 - root_mean_squared_error: 0.0177 - val_loss: 5.2379e-05 - val_root_mean_squared_error: 0.0072\n",
      "Epoch 51/100\n",
      "604/604 - 26s - loss: 3.1280e-04 - root_mean_squared_error: 0.0177 - val_loss: 4.8553e-05 - val_root_mean_squared_error: 0.0070\n",
      "Epoch 52/100\n",
      "604/604 - 26s - loss: 3.1157e-04 - root_mean_squared_error: 0.0177 - val_loss: 6.6956e-05 - val_root_mean_squared_error: 0.0082\n",
      "Epoch 53/100\n",
      "604/604 - 26s - loss: 3.0990e-04 - root_mean_squared_error: 0.0176 - val_loss: 6.2213e-05 - val_root_mean_squared_error: 0.0079\n",
      "Epoch 54/100\n",
      "604/604 - 26s - loss: 3.1099e-04 - root_mean_squared_error: 0.0176 - val_loss: 6.0133e-05 - val_root_mean_squared_error: 0.0078\n",
      "Epoch 55/100\n",
      "604/604 - 27s - loss: 3.0927e-04 - root_mean_squared_error: 0.0176 - val_loss: 7.8200e-05 - val_root_mean_squared_error: 0.0088\n",
      "Epoch 56/100\n",
      "604/604 - 27s - loss: 3.0851e-04 - root_mean_squared_error: 0.0176 - val_loss: 6.6179e-05 - val_root_mean_squared_error: 0.0081\n",
      "Epoch 57/100\n",
      "604/604 - 28s - loss: 3.0723e-04 - root_mean_squared_error: 0.0175 - val_loss: 7.1669e-05 - val_root_mean_squared_error: 0.0085\n",
      "Epoch 58/100\n",
      "604/604 - 31s - loss: 3.0699e-04 - root_mean_squared_error: 0.0175 - val_loss: 5.4076e-05 - val_root_mean_squared_error: 0.0074\n",
      "Epoch 59/100\n",
      "604/604 - 33s - loss: 3.0532e-04 - root_mean_squared_error: 0.0175 - val_loss: 9.3364e-05 - val_root_mean_squared_error: 0.0097\n"
     ]
    },
    {
     "name": "stdout",
     "output_type": "stream",
     "text": [
      "Epoch 60/100\n",
      "604/604 - 31s - loss: 3.0553e-04 - root_mean_squared_error: 0.0175 - val_loss: 6.1364e-05 - val_root_mean_squared_error: 0.0078\n",
      "Epoch 61/100\n",
      "604/604 - 32s - loss: 3.0307e-04 - root_mean_squared_error: 0.0174 - val_loss: 5.1505e-05 - val_root_mean_squared_error: 0.0072\n",
      "Epoch 62/100\n",
      "604/604 - 33s - loss: 3.0381e-04 - root_mean_squared_error: 0.0174 - val_loss: 5.9279e-05 - val_root_mean_squared_error: 0.0077\n",
      "Epoch 63/100\n",
      "604/604 - 32s - loss: 3.0174e-04 - root_mean_squared_error: 0.0174 - val_loss: 5.2001e-05 - val_root_mean_squared_error: 0.0072\n",
      "Epoch 64/100\n",
      "604/604 - 32s - loss: 3.0093e-04 - root_mean_squared_error: 0.0173 - val_loss: 4.3772e-05 - val_root_mean_squared_error: 0.0066\n",
      "Epoch 65/100\n",
      "604/604 - 36s - loss: 3.0138e-04 - root_mean_squared_error: 0.0174 - val_loss: 4.4849e-05 - val_root_mean_squared_error: 0.0067\n",
      "Epoch 66/100\n",
      "604/604 - 36s - loss: 2.9981e-04 - root_mean_squared_error: 0.0173 - val_loss: 6.1687e-05 - val_root_mean_squared_error: 0.0079\n",
      "Epoch 67/100\n",
      "604/604 - 35s - loss: 2.9969e-04 - root_mean_squared_error: 0.0173 - val_loss: 5.0213e-05 - val_root_mean_squared_error: 0.0071\n",
      "Epoch 68/100\n",
      "604/604 - 34s - loss: 2.9844e-04 - root_mean_squared_error: 0.0173 - val_loss: 5.6288e-05 - val_root_mean_squared_error: 0.0075\n",
      "Epoch 69/100\n",
      "604/604 - 29s - loss: 2.9822e-04 - root_mean_squared_error: 0.0173 - val_loss: 4.8877e-05 - val_root_mean_squared_error: 0.0070\n",
      "Epoch 70/100\n",
      "604/604 - 34s - loss: 2.9794e-04 - root_mean_squared_error: 0.0173 - val_loss: 4.2504e-05 - val_root_mean_squared_error: 0.0065\n",
      "Epoch 71/100\n",
      "604/604 - 28s - loss: 2.9704e-04 - root_mean_squared_error: 0.0172 - val_loss: 4.7165e-05 - val_root_mean_squared_error: 0.0069\n",
      "Epoch 72/100\n",
      "604/604 - 35s - loss: 2.9559e-04 - root_mean_squared_error: 0.0172 - val_loss: 6.0238e-05 - val_root_mean_squared_error: 0.0078\n",
      "Epoch 73/100\n",
      "604/604 - 36s - loss: 2.9640e-04 - root_mean_squared_error: 0.0172 - val_loss: 5.8298e-05 - val_root_mean_squared_error: 0.0076\n",
      "Epoch 74/100\n",
      "604/604 - 35s - loss: 2.9422e-04 - root_mean_squared_error: 0.0172 - val_loss: 5.1600e-05 - val_root_mean_squared_error: 0.0072\n",
      "Epoch 75/100\n",
      "604/604 - 36s - loss: 2.9519e-04 - root_mean_squared_error: 0.0172 - val_loss: 5.6214e-05 - val_root_mean_squared_error: 0.0075\n",
      "Epoch 76/100\n",
      "604/604 - 38s - loss: 2.9385e-04 - root_mean_squared_error: 0.0171 - val_loss: 5.2697e-05 - val_root_mean_squared_error: 0.0073\n",
      "Epoch 77/100\n",
      "604/604 - 38s - loss: 2.9297e-04 - root_mean_squared_error: 0.0171 - val_loss: 5.1334e-05 - val_root_mean_squared_error: 0.0072\n",
      "Epoch 78/100\n",
      "604/604 - 37s - loss: 2.9238e-04 - root_mean_squared_error: 0.0171 - val_loss: 5.1723e-05 - val_root_mean_squared_error: 0.0072\n",
      "Epoch 79/100\n",
      "604/604 - 36s - loss: 2.9178e-04 - root_mean_squared_error: 0.0171 - val_loss: 3.5093e-05 - val_root_mean_squared_error: 0.0059\n",
      "Epoch 80/100\n",
      "604/604 - 35s - loss: 2.9103e-04 - root_mean_squared_error: 0.0171 - val_loss: 4.4303e-05 - val_root_mean_squared_error: 0.0067\n",
      "Epoch 81/100\n",
      "604/604 - 36s - loss: 2.9159e-04 - root_mean_squared_error: 0.0171 - val_loss: 4.4289e-05 - val_root_mean_squared_error: 0.0067\n",
      "Epoch 82/100\n",
      "604/604 - 36s - loss: 2.9005e-04 - root_mean_squared_error: 0.0170 - val_loss: 5.6865e-05 - val_root_mean_squared_error: 0.0075\n",
      "Epoch 83/100\n",
      "604/604 - 36s - loss: 2.9069e-04 - root_mean_squared_error: 0.0170 - val_loss: 4.8225e-05 - val_root_mean_squared_error: 0.0069\n",
      "Epoch 84/100\n",
      "604/604 - 36s - loss: 2.8926e-04 - root_mean_squared_error: 0.0170 - val_loss: 3.8356e-05 - val_root_mean_squared_error: 0.0062\n",
      "Epoch 85/100\n",
      "604/604 - 35s - loss: 2.8902e-04 - root_mean_squared_error: 0.0170 - val_loss: 4.5780e-05 - val_root_mean_squared_error: 0.0068\n",
      "Epoch 86/100\n",
      "604/604 - 36s - loss: 2.8823e-04 - root_mean_squared_error: 0.0170 - val_loss: 3.6069e-05 - val_root_mean_squared_error: 0.0060\n",
      "Epoch 87/100\n",
      "604/604 - 35s - loss: 2.8808e-04 - root_mean_squared_error: 0.0170 - val_loss: 4.7299e-05 - val_root_mean_squared_error: 0.0069\n",
      "Epoch 88/100\n",
      "604/604 - 35s - loss: 2.8740e-04 - root_mean_squared_error: 0.0170 - val_loss: 6.1787e-05 - val_root_mean_squared_error: 0.0079\n",
      "Epoch 89/100\n",
      "604/604 - 35s - loss: 2.8704e-04 - root_mean_squared_error: 0.0169 - val_loss: 5.5061e-05 - val_root_mean_squared_error: 0.0074\n",
      "Epoch 90/100\n",
      "604/604 - 36s - loss: 2.8706e-04 - root_mean_squared_error: 0.0169 - val_loss: 5.9726e-05 - val_root_mean_squared_error: 0.0077\n",
      "Epoch 91/100\n",
      "604/604 - 40s - loss: 2.8642e-04 - root_mean_squared_error: 0.0169 - val_loss: 4.6202e-05 - val_root_mean_squared_error: 0.0068\n",
      "Epoch 92/100\n",
      "604/604 - 36s - loss: 2.8555e-04 - root_mean_squared_error: 0.0169 - val_loss: 3.2973e-05 - val_root_mean_squared_error: 0.0057\n",
      "Epoch 93/100\n",
      "604/604 - 36s - loss: 2.8473e-04 - root_mean_squared_error: 0.0169 - val_loss: 4.6950e-05 - val_root_mean_squared_error: 0.0069\n",
      "Epoch 94/100\n",
      "604/604 - 36s - loss: 2.8513e-04 - root_mean_squared_error: 0.0169 - val_loss: 5.0853e-05 - val_root_mean_squared_error: 0.0071\n",
      "Epoch 95/100\n",
      "604/604 - 37s - loss: 2.8477e-04 - root_mean_squared_error: 0.0169 - val_loss: 4.3764e-05 - val_root_mean_squared_error: 0.0066\n",
      "Epoch 96/100\n",
      "604/604 - 36s - loss: 2.8433e-04 - root_mean_squared_error: 0.0169 - val_loss: 4.0641e-05 - val_root_mean_squared_error: 0.0064\n",
      "Epoch 97/100\n",
      "604/604 - 37s - loss: 2.8300e-04 - root_mean_squared_error: 0.0168 - val_loss: 5.4908e-05 - val_root_mean_squared_error: 0.0074\n",
      "Epoch 98/100\n",
      "604/604 - 37s - loss: 2.8260e-04 - root_mean_squared_error: 0.0168 - val_loss: 4.7994e-05 - val_root_mean_squared_error: 0.0069\n",
      "Epoch 99/100\n",
      "604/604 - 37s - loss: 2.8315e-04 - root_mean_squared_error: 0.0168 - val_loss: 3.3944e-05 - val_root_mean_squared_error: 0.0058\n",
      "Epoch 100/100\n",
      "604/604 - 37s - loss: 2.8231e-04 - root_mean_squared_error: 0.0168 - val_loss: 5.3853e-05 - val_root_mean_squared_error: 0.0073\n"
     ]
    }
   ],
   "source": [
    "import tensorflow as tf\n",
    "from tensorflow import keras\n",
    "from tensorflow.keras import layers\n",
    "from keras.layers import Input,LSTM,Dropout,Dense\n",
    "\n",
    "\n",
    "\n",
    "# create and fit the LSTM network\n",
    "\n",
    "model = keras.Sequential()\n",
    "model.add(LSTM(100,input_shape=(5,5),return_sequences=True))\n",
    "model.add(Dropout(0.2))\n",
    "model.add(LSTM(100,input_shape=(5,5),return_sequences=True))\n",
    "model.add(Dropout(0.2))\n",
    "model.add(LSTM(100,input_shape=(5,5),return_sequences=False))\n",
    "model.add(Dropout(0.2))\n",
    "model.add(Dense(5,activation='linear'))\n",
    "model.compile(optimizer='rmsprop',loss='mean_squared_error',metrics=[tf.keras.metrics.RootMeanSquaredError()])\n",
    "\n",
    "history = model.fit(train_X, train_Y, epochs=100, batch_size=512, verbose=2, validation_data=(test_X, test_Y))"
   ]
  },
  {
   "cell_type": "code",
   "execution_count": 10,
   "metadata": {},
   "outputs": [],
   "source": [
    "testPredict = model.predict(test_X)"
   ]
  },
  {
   "cell_type": "code",
   "execution_count": 14,
   "metadata": {},
   "outputs": [],
   "source": [
    "newtestPredict = scaler.inverse_transform(testPredict)\n",
    "newtest_Y = scaler.inverse_transform(test_Y)"
   ]
  },
  {
   "cell_type": "code",
   "execution_count": 15,
   "metadata": {},
   "outputs": [
    {
     "name": "stdout",
     "output_type": "stream",
     "text": [
      "Test Score: 0.19544 RMSE\n"
     ]
    }
   ],
   "source": [
    "testScore = sqrt(mean_squared_error(newtest_Y, newtestPredict))\n",
    "print('Test Score: %.5f RMSE' % (testScore))"
   ]
  },
  {
   "cell_type": "code",
   "execution_count": null,
   "metadata": {},
   "outputs": [],
   "source": []
  }
 ],
 "metadata": {
  "kernelspec": {
   "display_name": "Python 3",
   "language": "python",
   "name": "python3"
  },
  "language_info": {
   "codemirror_mode": {
    "name": "ipython",
    "version": 3
   },
   "file_extension": ".py",
   "mimetype": "text/x-python",
   "name": "python",
   "nbconvert_exporter": "python",
   "pygments_lexer": "ipython3",
   "version": "3.8.3"
  }
 },
 "nbformat": 4,
 "nbformat_minor": 4
}
