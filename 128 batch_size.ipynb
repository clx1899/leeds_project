{
 "cells": [
  {
   "cell_type": "code",
   "execution_count": 1,
   "metadata": {},
   "outputs": [],
   "source": [
    "from test import EigenData\n",
    "import numpy as np\n",
    "import scipy.io\n",
    "import h5py\n",
    "from sklearn.preprocessing import MinMaxScaler\n",
    "from sklearn.metrics import mean_squared_error\n",
    "from math import sqrt\n",
    "import matplotlib.pyplot as plt\n",
    "from mpl_toolkits.axes_grid1 import make_axes_locatable\n",
    "import torch\n",
    "%matplotlib inline"
   ]
  },
  {
   "cell_type": "code",
   "execution_count": 2,
   "metadata": {},
   "outputs": [
    {
     "name": "stdout",
     "output_type": "stream",
     "text": [
      "b (5, 33600)\n",
      "(100, 5) (5, 33600)\n",
      "--> (100, 33600)\n",
      "c (5, 33600)\n",
      "(100, 5) (5, 33600)\n",
      "--> (100, 33600)\n",
      "d (5, 33600)\n",
      "(100, 5) (5, 33600)\n",
      "--> (100, 33600)\n",
      "e (5, 33600)\n",
      "(100, 5) (5, 33600)\n",
      "--> (100, 33600)\n",
      "f (5, 33600)\n",
      "(100, 5) (5, 33600)\n",
      "--> (100, 33600)\n",
      "g (6, 33600)\n",
      "(100, 6) (6, 33600)\n",
      "--> (100, 33600)\n",
      "h (5, 33600)\n",
      "(100, 5) (5, 33600)\n",
      "--> (100, 33600)\n",
      "i (6, 33600)\n",
      "(100, 6) (6, 33600)\n",
      "--> (100, 33600)\n",
      "j (5, 33600)\n",
      "(100, 5) (5, 33600)\n",
      "--> (100, 33600)\n",
      "k (5, 33600)\n",
      "(100, 5) (5, 33600)\n",
      "--> (100, 33600)\n",
      "l (5, 33600)\n",
      "(100, 5) (5, 33600)\n",
      "--> (100, 33600)\n",
      "m (5, 33600)\n",
      "(100, 5) (5, 33600)\n",
      "--> (100, 33600)\n",
      "(403200, 5)\n"
     ]
    }
   ],
   "source": [
    "data = EigenData()\n",
    "eigenworms = data.get_eigenworms('EigenWorms.mat')\n",
    "\n",
    "footage = data.get_footage('20150814-All-PNAS2011-DataStitched .mat')\n",
    "newdata = torch.rand(33600,5)\n",
    "for k in footage.keys():\n",
    "    print(k, footage[k].shape)\n",
    "    arr1=footage[k]\n",
    "\n",
    "    arr2=arr1[:5,]\n",
    "\n",
    "    r = data.reconstruct(footage[k])\n",
    "    print('-->', r.shape)\n",
    "    dataset1 = arr2.transpose()\n",
    "\n",
    "    newdata = np.concatenate((newdata,dataset1),axis=0)\n",
    "newdata = newdata[33600:,]\n",
    "print(newdata.shape)"
   ]
  },
  {
   "cell_type": "code",
   "execution_count": 3,
   "metadata": {},
   "outputs": [],
   "source": [
    "first_5_eigenworms = eigenworms[0:5,:]\n",
    "eig_worm_0 = eigenworms[0,:]\n",
    "eig_worm_1 = eigenworms[1,:]\n",
    "eig_worm_2 = eigenworms[2,:]\n",
    "eig_worm_3 = eigenworms[3,:]\n",
    "eig_worm_4 = eigenworms[4,:]"
   ]
  },
  {
   "cell_type": "code",
   "execution_count": 4,
   "metadata": {},
   "outputs": [
    {
     "name": "stdout",
     "output_type": "stream",
     "text": [
      "(386422, 5)\n",
      "386422\n"
     ]
    }
   ],
   "source": [
    "data1=newdata[~np.isnan(newdata).any(axis=1)]\n",
    "data1 = data1.astype('float32')\n",
    "print(data1.shape)\n",
    "print(len(data1))"
   ]
  },
  {
   "cell_type": "code",
   "execution_count": 5,
   "metadata": {},
   "outputs": [],
   "source": [
    "scaler = MinMaxScaler(feature_range=(0, 1))\n",
    "data1 = scaler.fit_transform(data1)"
   ]
  },
  {
   "cell_type": "code",
   "execution_count": 6,
   "metadata": {},
   "outputs": [],
   "source": [
    "def create_dataset(dataset, look_back=5):\n",
    "    dataX, dataY = [], []\n",
    "    for i in range(len(dataset) - look_back):\n",
    "        a = dataset[i:(i + look_back)]\n",
    "        dataX.append(a)\n",
    "        dataY.append(dataset[i + look_back])\n",
    "    return np.array(dataX), np.array(dataY)"
   ]
  },
  {
   "cell_type": "code",
   "execution_count": 7,
   "metadata": {},
   "outputs": [
    {
     "name": "stdout",
     "output_type": "stream",
     "text": [
      "(386417, 5, 5)\n",
      "(386417, 5)\n"
     ]
    }
   ],
   "source": [
    "data_X, data_Y = create_dataset(data1)\n",
    "\n",
    "print(data_X.shape)\n",
    "print(data_Y.shape)"
   ]
  },
  {
   "cell_type": "code",
   "execution_count": 8,
   "metadata": {},
   "outputs": [
    {
     "name": "stdout",
     "output_type": "stream",
     "text": [
      "(309133, 5, 5)\n",
      "(309133, 5)\n",
      "(77284, 5, 5)\n",
      "(77284, 5)\n"
     ]
    }
   ],
   "source": [
    "train_size = int(len(data_X) * 0.8)\n",
    "test_size = len(data_X) - train_size\n",
    "train_X = data_X[:train_size]\n",
    "train_Y = data_Y[:train_size]\n",
    "test_X = data_X[train_size:]\n",
    "test_Y = data_Y[train_size:]\n",
    "\n",
    "print(train_X.shape)\n",
    "print(train_Y.shape)\n",
    "print(test_X.shape)\n",
    "print(test_Y.shape)"
   ]
  },
  {
   "cell_type": "code",
   "execution_count": 9,
   "metadata": {},
   "outputs": [
    {
     "name": "stdout",
     "output_type": "stream",
     "text": [
      "Epoch 1/100\n",
      "2416/2416 - 44s - loss: 0.0048 - root_mean_squared_error: 0.0689 - val_loss: 5.3613e-04 - val_root_mean_squared_error: 0.0232\n",
      "Epoch 2/100\n",
      "2416/2416 - 35s - loss: 9.5445e-04 - root_mean_squared_error: 0.0309 - val_loss: 3.9471e-04 - val_root_mean_squared_error: 0.0199\n",
      "Epoch 3/100\n",
      "2416/2416 - 35s - loss: 6.0590e-04 - root_mean_squared_error: 0.0246 - val_loss: 3.1042e-04 - val_root_mean_squared_error: 0.0176\n",
      "Epoch 4/100\n",
      "2416/2416 - 35s - loss: 5.0928e-04 - root_mean_squared_error: 0.0226 - val_loss: 2.9258e-04 - val_root_mean_squared_error: 0.0171\n",
      "Epoch 5/100\n",
      "2416/2416 - 35s - loss: 4.7110e-04 - root_mean_squared_error: 0.0217 - val_loss: 2.7681e-04 - val_root_mean_squared_error: 0.0166\n",
      "Epoch 6/100\n",
      "2416/2416 - 36s - loss: 4.4630e-04 - root_mean_squared_error: 0.0211 - val_loss: 2.9293e-04 - val_root_mean_squared_error: 0.0171\n",
      "Epoch 7/100\n",
      "2416/2416 - 37s - loss: 4.2680e-04 - root_mean_squared_error: 0.0207 - val_loss: 1.1173e-04 - val_root_mean_squared_error: 0.0106\n",
      "Epoch 8/100\n",
      "2416/2416 - 35s - loss: 4.1188e-04 - root_mean_squared_error: 0.0203 - val_loss: 2.1603e-04 - val_root_mean_squared_error: 0.0147\n",
      "Epoch 9/100\n",
      "2416/2416 - 35s - loss: 4.0179e-04 - root_mean_squared_error: 0.0200 - val_loss: 1.9871e-04 - val_root_mean_squared_error: 0.0141\n",
      "Epoch 10/100\n",
      "2416/2416 - 35s - loss: 3.9154e-04 - root_mean_squared_error: 0.0198 - val_loss: 1.8926e-04 - val_root_mean_squared_error: 0.0138\n",
      "Epoch 11/100\n",
      "2416/2416 - 38s - loss: 3.8340e-04 - root_mean_squared_error: 0.0196 - val_loss: 2.0225e-04 - val_root_mean_squared_error: 0.0142\n",
      "Epoch 12/100\n",
      "2416/2416 - 37s - loss: 3.7573e-04 - root_mean_squared_error: 0.0194 - val_loss: 1.4225e-04 - val_root_mean_squared_error: 0.0119\n",
      "Epoch 13/100\n",
      "2416/2416 - 36s - loss: 3.6996e-04 - root_mean_squared_error: 0.0192 - val_loss: 1.8730e-04 - val_root_mean_squared_error: 0.0137\n",
      "Epoch 14/100\n",
      "2416/2416 - 36s - loss: 3.6495e-04 - root_mean_squared_error: 0.0191 - val_loss: 1.6022e-04 - val_root_mean_squared_error: 0.0127\n",
      "Epoch 15/100\n",
      "2416/2416 - 37s - loss: 3.5995e-04 - root_mean_squared_error: 0.0190 - val_loss: 1.5802e-04 - val_root_mean_squared_error: 0.0126\n",
      "Epoch 16/100\n",
      "2416/2416 - 36s - loss: 3.5638e-04 - root_mean_squared_error: 0.0189 - val_loss: 2.0496e-04 - val_root_mean_squared_error: 0.0143\n",
      "Epoch 17/100\n",
      "2416/2416 - 37s - loss: 3.5252e-04 - root_mean_squared_error: 0.0188 - val_loss: 8.5919e-05 - val_root_mean_squared_error: 0.0093\n",
      "Epoch 18/100\n",
      "2416/2416 - 36s - loss: 3.4860e-04 - root_mean_squared_error: 0.0187 - val_loss: 1.5315e-04 - val_root_mean_squared_error: 0.0124\n",
      "Epoch 19/100\n",
      "2416/2416 - 36s - loss: 3.4582e-04 - root_mean_squared_error: 0.0186 - val_loss: 9.0184e-05 - val_root_mean_squared_error: 0.0095\n",
      "Epoch 20/100\n",
      "2416/2416 - 36s - loss: 3.4252e-04 - root_mean_squared_error: 0.0185 - val_loss: 1.1751e-04 - val_root_mean_squared_error: 0.0108\n",
      "Epoch 21/100\n",
      "2416/2416 - 37s - loss: 3.3990e-04 - root_mean_squared_error: 0.0184 - val_loss: 1.0032e-04 - val_root_mean_squared_error: 0.0100\n",
      "Epoch 22/100\n",
      "2416/2416 - 36s - loss: 3.3663e-04 - root_mean_squared_error: 0.0183 - val_loss: 1.3156e-04 - val_root_mean_squared_error: 0.0115\n",
      "Epoch 23/100\n",
      "2416/2416 - 37s - loss: 3.3375e-04 - root_mean_squared_error: 0.0183 - val_loss: 1.8241e-04 - val_root_mean_squared_error: 0.0135\n",
      "Epoch 24/100\n",
      "2416/2416 - 36s - loss: 3.3235e-04 - root_mean_squared_error: 0.0182 - val_loss: 1.4778e-04 - val_root_mean_squared_error: 0.0122\n",
      "Epoch 25/100\n",
      "2416/2416 - 36s - loss: 3.3037e-04 - root_mean_squared_error: 0.0182 - val_loss: 9.4150e-05 - val_root_mean_squared_error: 0.0097\n",
      "Epoch 26/100\n",
      "2416/2416 - 36s - loss: 3.2809e-04 - root_mean_squared_error: 0.0181 - val_loss: 1.3292e-04 - val_root_mean_squared_error: 0.0115\n",
      "Epoch 27/100\n",
      "2416/2416 - 36s - loss: 3.2582e-04 - root_mean_squared_error: 0.0181 - val_loss: 1.0604e-04 - val_root_mean_squared_error: 0.0103\n",
      "Epoch 28/100\n",
      "2416/2416 - 36s - loss: 3.2368e-04 - root_mean_squared_error: 0.0180 - val_loss: 1.4163e-04 - val_root_mean_squared_error: 0.0119\n",
      "Epoch 29/100\n",
      "2416/2416 - 35s - loss: 3.2173e-04 - root_mean_squared_error: 0.0179 - val_loss: 1.6157e-04 - val_root_mean_squared_error: 0.0127\n",
      "Epoch 30/100\n",
      "2416/2416 - 36s - loss: 3.2009e-04 - root_mean_squared_error: 0.0179 - val_loss: 8.8546e-05 - val_root_mean_squared_error: 0.0094\n",
      "Epoch 31/100\n",
      "2416/2416 - 36s - loss: 3.1793e-04 - root_mean_squared_error: 0.0178 - val_loss: 1.2515e-04 - val_root_mean_squared_error: 0.0112\n",
      "Epoch 32/100\n",
      "2416/2416 - 37s - loss: 3.1707e-04 - root_mean_squared_error: 0.0178 - val_loss: 1.1954e-04 - val_root_mean_squared_error: 0.0109\n",
      "Epoch 33/100\n",
      "2416/2416 - 36s - loss: 3.1384e-04 - root_mean_squared_error: 0.0177 - val_loss: 1.2507e-04 - val_root_mean_squared_error: 0.0112\n",
      "Epoch 34/100\n",
      "2416/2416 - 36s - loss: 3.1253e-04 - root_mean_squared_error: 0.0177 - val_loss: 1.1339e-04 - val_root_mean_squared_error: 0.0106\n",
      "Epoch 35/100\n",
      "2416/2416 - 35s - loss: 3.1079e-04 - root_mean_squared_error: 0.0176 - val_loss: 1.3217e-04 - val_root_mean_squared_error: 0.0115\n",
      "Epoch 36/100\n",
      "2416/2416 - 35s - loss: 3.1115e-04 - root_mean_squared_error: 0.0176 - val_loss: 1.3973e-04 - val_root_mean_squared_error: 0.0118\n",
      "Epoch 37/100\n",
      "2416/2416 - 36s - loss: 3.0883e-04 - root_mean_squared_error: 0.0176 - val_loss: 1.3142e-04 - val_root_mean_squared_error: 0.0115\n",
      "Epoch 38/100\n",
      "2416/2416 - 36s - loss: 3.0900e-04 - root_mean_squared_error: 0.0176 - val_loss: 1.0738e-04 - val_root_mean_squared_error: 0.0104\n",
      "Epoch 39/100\n",
      "2416/2416 - 36s - loss: 3.0575e-04 - root_mean_squared_error: 0.0175 - val_loss: 1.2268e-04 - val_root_mean_squared_error: 0.0111\n",
      "Epoch 40/100\n",
      "2416/2416 - 36s - loss: 3.0469e-04 - root_mean_squared_error: 0.0175 - val_loss: 1.2425e-04 - val_root_mean_squared_error: 0.0111\n",
      "Epoch 41/100\n",
      "2416/2416 - 35s - loss: 3.0276e-04 - root_mean_squared_error: 0.0174 - val_loss: 1.0346e-04 - val_root_mean_squared_error: 0.0102\n",
      "Epoch 42/100\n",
      "2416/2416 - 37s - loss: 3.0200e-04 - root_mean_squared_error: 0.0174 - val_loss: 1.0295e-04 - val_root_mean_squared_error: 0.0101\n",
      "Epoch 43/100\n",
      "2416/2416 - 36s - loss: 3.0143e-04 - root_mean_squared_error: 0.0174 - val_loss: 1.6847e-04 - val_root_mean_squared_error: 0.0130\n",
      "Epoch 44/100\n",
      "2416/2416 - 36s - loss: 2.9975e-04 - root_mean_squared_error: 0.0173 - val_loss: 1.3640e-04 - val_root_mean_squared_error: 0.0117\n",
      "Epoch 45/100\n",
      "2416/2416 - 36s - loss: 2.9968e-04 - root_mean_squared_error: 0.0173 - val_loss: 1.2170e-04 - val_root_mean_squared_error: 0.0110\n",
      "Epoch 46/100\n",
      "2416/2416 - 37s - loss: 2.9767e-04 - root_mean_squared_error: 0.0173 - val_loss: 1.1418e-04 - val_root_mean_squared_error: 0.0107\n",
      "Epoch 47/100\n",
      "2416/2416 - 36s - loss: 2.9767e-04 - root_mean_squared_error: 0.0173 - val_loss: 7.5793e-05 - val_root_mean_squared_error: 0.0087\n",
      "Epoch 48/100\n",
      "2416/2416 - 36s - loss: 2.9519e-04 - root_mean_squared_error: 0.0172 - val_loss: 8.2441e-05 - val_root_mean_squared_error: 0.0091\n",
      "Epoch 49/100\n",
      "2416/2416 - 36s - loss: 2.9460e-04 - root_mean_squared_error: 0.0172 - val_loss: 9.3310e-05 - val_root_mean_squared_error: 0.0097\n",
      "Epoch 50/100\n",
      "2416/2416 - 36s - loss: 2.9309e-04 - root_mean_squared_error: 0.0171 - val_loss: 1.2739e-04 - val_root_mean_squared_error: 0.0113\n",
      "Epoch 51/100\n",
      "2416/2416 - 36s - loss: 2.9199e-04 - root_mean_squared_error: 0.0171 - val_loss: 1.1026e-04 - val_root_mean_squared_error: 0.0105\n",
      "Epoch 52/100\n",
      "2416/2416 - 36s - loss: 2.9225e-04 - root_mean_squared_error: 0.0171 - val_loss: 1.3782e-04 - val_root_mean_squared_error: 0.0117\n",
      "Epoch 53/100\n",
      "2416/2416 - 38s - loss: 2.9001e-04 - root_mean_squared_error: 0.0170 - val_loss: 6.5829e-05 - val_root_mean_squared_error: 0.0081\n",
      "Epoch 54/100\n",
      "2416/2416 - 37s - loss: 2.8923e-04 - root_mean_squared_error: 0.0170 - val_loss: 8.6777e-05 - val_root_mean_squared_error: 0.0093\n",
      "Epoch 55/100\n",
      "2416/2416 - 36s - loss: 2.8824e-04 - root_mean_squared_error: 0.0170 - val_loss: 1.3296e-04 - val_root_mean_squared_error: 0.0115\n",
      "Epoch 56/100\n",
      "2416/2416 - 36s - loss: 2.8797e-04 - root_mean_squared_error: 0.0170 - val_loss: 5.4797e-05 - val_root_mean_squared_error: 0.0074\n",
      "Epoch 57/100\n",
      "2416/2416 - 35s - loss: 2.8721e-04 - root_mean_squared_error: 0.0169 - val_loss: 6.8440e-05 - val_root_mean_squared_error: 0.0083\n",
      "Epoch 58/100\n",
      "2416/2416 - 35s - loss: 2.8639e-04 - root_mean_squared_error: 0.0169 - val_loss: 8.6100e-05 - val_root_mean_squared_error: 0.0093\n"
     ]
    },
    {
     "name": "stdout",
     "output_type": "stream",
     "text": [
      "Epoch 59/100\n",
      "2416/2416 - 35s - loss: 2.8516e-04 - root_mean_squared_error: 0.0169 - val_loss: 7.9962e-05 - val_root_mean_squared_error: 0.0089\n",
      "Epoch 60/100\n",
      "2416/2416 - 35s - loss: 2.8528e-04 - root_mean_squared_error: 0.0169 - val_loss: 1.1226e-04 - val_root_mean_squared_error: 0.0106\n",
      "Epoch 61/100\n",
      "2416/2416 - 35s - loss: 2.8416e-04 - root_mean_squared_error: 0.0169 - val_loss: 1.1222e-04 - val_root_mean_squared_error: 0.0106\n",
      "Epoch 62/100\n",
      "2416/2416 - 36s - loss: 2.8260e-04 - root_mean_squared_error: 0.0168 - val_loss: 6.7599e-05 - val_root_mean_squared_error: 0.0082\n",
      "Epoch 63/100\n",
      "2416/2416 - 36s - loss: 2.8267e-04 - root_mean_squared_error: 0.0168 - val_loss: 8.5431e-05 - val_root_mean_squared_error: 0.0092\n",
      "Epoch 64/100\n",
      "2416/2416 - 37s - loss: 2.8320e-04 - root_mean_squared_error: 0.0168 - val_loss: 8.2136e-05 - val_root_mean_squared_error: 0.0091\n",
      "Epoch 65/100\n",
      "2416/2416 - 36s - loss: 2.8136e-04 - root_mean_squared_error: 0.0168 - val_loss: 9.0633e-05 - val_root_mean_squared_error: 0.0095\n",
      "Epoch 66/100\n",
      "2416/2416 - 36s - loss: 2.8060e-04 - root_mean_squared_error: 0.0168 - val_loss: 7.0892e-05 - val_root_mean_squared_error: 0.0084\n",
      "Epoch 67/100\n",
      "2416/2416 - 36s - loss: 2.7962e-04 - root_mean_squared_error: 0.0167 - val_loss: 6.3327e-05 - val_root_mean_squared_error: 0.0080\n",
      "Epoch 68/100\n",
      "2416/2416 - 35s - loss: 2.7884e-04 - root_mean_squared_error: 0.0167 - val_loss: 9.6618e-05 - val_root_mean_squared_error: 0.0098\n",
      "Epoch 69/100\n",
      "2416/2416 - 35s - loss: 2.7785e-04 - root_mean_squared_error: 0.0167 - val_loss: 1.2605e-04 - val_root_mean_squared_error: 0.0112\n",
      "Epoch 70/100\n",
      "2416/2416 - 35s - loss: 2.7825e-04 - root_mean_squared_error: 0.0167 - val_loss: 1.0053e-04 - val_root_mean_squared_error: 0.0100\n",
      "Epoch 71/100\n",
      "2416/2416 - 35s - loss: 2.7717e-04 - root_mean_squared_error: 0.0166 - val_loss: 4.6250e-05 - val_root_mean_squared_error: 0.0068\n",
      "Epoch 72/100\n",
      "2416/2416 - 35s - loss: 2.7690e-04 - root_mean_squared_error: 0.0166 - val_loss: 7.3754e-05 - val_root_mean_squared_error: 0.0086\n",
      "Epoch 73/100\n",
      "2416/2416 - 35s - loss: 2.7535e-04 - root_mean_squared_error: 0.0166 - val_loss: 7.2956e-05 - val_root_mean_squared_error: 0.0085\n",
      "Epoch 74/100\n",
      "2416/2416 - 35s - loss: 2.7617e-04 - root_mean_squared_error: 0.0166 - val_loss: 8.9527e-05 - val_root_mean_squared_error: 0.0095\n",
      "Epoch 75/100\n",
      "2416/2416 - 36s - loss: 2.7439e-04 - root_mean_squared_error: 0.0166 - val_loss: 5.7780e-05 - val_root_mean_squared_error: 0.0076\n",
      "Epoch 76/100\n",
      "2416/2416 - 36s - loss: 2.7336e-04 - root_mean_squared_error: 0.0165 - val_loss: 9.9753e-05 - val_root_mean_squared_error: 0.0100\n",
      "Epoch 77/100\n",
      "2416/2416 - 36s - loss: 2.7390e-04 - root_mean_squared_error: 0.0166 - val_loss: 5.0876e-05 - val_root_mean_squared_error: 0.0071\n",
      "Epoch 78/100\n",
      "2416/2416 - 36s - loss: 2.7238e-04 - root_mean_squared_error: 0.0165 - val_loss: 9.2184e-05 - val_root_mean_squared_error: 0.0096\n",
      "Epoch 79/100\n",
      "2416/2416 - 36s - loss: 2.7216e-04 - root_mean_squared_error: 0.0165 - val_loss: 7.0364e-05 - val_root_mean_squared_error: 0.0084\n",
      "Epoch 80/100\n",
      "2416/2416 - 35s - loss: 2.7182e-04 - root_mean_squared_error: 0.0165 - val_loss: 8.7891e-05 - val_root_mean_squared_error: 0.0094\n",
      "Epoch 81/100\n",
      "2416/2416 - 35s - loss: 2.7087e-04 - root_mean_squared_error: 0.0165 - val_loss: 6.3528e-05 - val_root_mean_squared_error: 0.0080\n",
      "Epoch 82/100\n",
      "2416/2416 - 36s - loss: 2.7101e-04 - root_mean_squared_error: 0.0165 - val_loss: 7.7535e-05 - val_root_mean_squared_error: 0.0088\n",
      "Epoch 83/100\n",
      "2416/2416 - 36s - loss: 2.7059e-04 - root_mean_squared_error: 0.0164 - val_loss: 1.2084e-04 - val_root_mean_squared_error: 0.0110\n",
      "Epoch 84/100\n",
      "2416/2416 - 37s - loss: 2.6973e-04 - root_mean_squared_error: 0.0164 - val_loss: 8.0440e-05 - val_root_mean_squared_error: 0.0090\n",
      "Epoch 85/100\n",
      "2416/2416 - 37s - loss: 2.6885e-04 - root_mean_squared_error: 0.0164 - val_loss: 6.8411e-05 - val_root_mean_squared_error: 0.0083\n",
      "Epoch 86/100\n",
      "2416/2416 - 37s - loss: 2.6883e-04 - root_mean_squared_error: 0.0164 - val_loss: 1.1334e-04 - val_root_mean_squared_error: 0.0106\n",
      "Epoch 87/100\n",
      "2416/2416 - 37s - loss: 2.6852e-04 - root_mean_squared_error: 0.0164 - val_loss: 1.5194e-04 - val_root_mean_squared_error: 0.0123\n",
      "Epoch 88/100\n",
      "2416/2416 - 38s - loss: 2.6769e-04 - root_mean_squared_error: 0.0164 - val_loss: 4.0382e-05 - val_root_mean_squared_error: 0.0064\n",
      "Epoch 89/100\n",
      "2416/2416 - 36s - loss: 2.6705e-04 - root_mean_squared_error: 0.0163 - val_loss: 7.4454e-05 - val_root_mean_squared_error: 0.0086\n",
      "Epoch 90/100\n",
      "2416/2416 - 36s - loss: 2.6711e-04 - root_mean_squared_error: 0.0163 - val_loss: 5.4014e-05 - val_root_mean_squared_error: 0.0073\n",
      "Epoch 91/100\n",
      "2416/2416 - 35s - loss: 2.6600e-04 - root_mean_squared_error: 0.0163 - val_loss: 8.0126e-05 - val_root_mean_squared_error: 0.0090\n",
      "Epoch 92/100\n",
      "2416/2416 - 37s - loss: 2.6549e-04 - root_mean_squared_error: 0.0163 - val_loss: 5.3515e-05 - val_root_mean_squared_error: 0.0073\n",
      "Epoch 93/100\n",
      "2416/2416 - 35s - loss: 2.6519e-04 - root_mean_squared_error: 0.0163 - val_loss: 6.7703e-05 - val_root_mean_squared_error: 0.0082\n",
      "Epoch 94/100\n",
      "2416/2416 - 36s - loss: 2.6388e-04 - root_mean_squared_error: 0.0162 - val_loss: 8.6569e-05 - val_root_mean_squared_error: 0.0093\n",
      "Epoch 95/100\n",
      "2416/2416 - 36s - loss: 2.6411e-04 - root_mean_squared_error: 0.0163 - val_loss: 5.2031e-05 - val_root_mean_squared_error: 0.0072\n",
      "Epoch 96/100\n",
      "2416/2416 - 36s - loss: 2.6411e-04 - root_mean_squared_error: 0.0163 - val_loss: 3.6025e-05 - val_root_mean_squared_error: 0.0060\n",
      "Epoch 97/100\n",
      "2416/2416 - 36s - loss: 2.6418e-04 - root_mean_squared_error: 0.0163 - val_loss: 4.8020e-05 - val_root_mean_squared_error: 0.0069\n",
      "Epoch 98/100\n",
      "2416/2416 - 36s - loss: 2.6277e-04 - root_mean_squared_error: 0.0162 - val_loss: 7.9953e-05 - val_root_mean_squared_error: 0.0089\n",
      "Epoch 99/100\n",
      "2416/2416 - 35s - loss: 2.6332e-04 - root_mean_squared_error: 0.0162 - val_loss: 4.5637e-05 - val_root_mean_squared_error: 0.0068\n",
      "Epoch 100/100\n",
      "2416/2416 - 35s - loss: 2.6171e-04 - root_mean_squared_error: 0.0162 - val_loss: 6.9490e-05 - val_root_mean_squared_error: 0.0083\n"
     ]
    }
   ],
   "source": [
    "import tensorflow as tf\n",
    "from tensorflow import keras\n",
    "from tensorflow.keras import layers\n",
    "from keras.layers import Input,LSTM,Dropout,Dense\n",
    "\n",
    "\n",
    "\n",
    "# create and fit the LSTM network\n",
    "\n",
    "model = keras.Sequential()\n",
    "model.add(LSTM(100,input_shape=(5,5),return_sequences=True))\n",
    "model.add(Dropout(0.2))\n",
    "model.add(LSTM(100,input_shape=(5,5),return_sequences=True))\n",
    "model.add(Dropout(0.2))\n",
    "model.add(LSTM(100,input_shape=(5,5),return_sequences=True))\n",
    "model.add(Dropout(0.2))\n",
    "model.add(LSTM(100,input_shape=(5,5),return_sequences=False))\n",
    "model.add(Dropout(0.2))\n",
    "model.add(Dense(5,activation='linear'))\n",
    "model.compile(optimizer='rmsprop',loss='mean_squared_error',metrics=[tf.keras.metrics.RootMeanSquaredError()])\n",
    "\n",
    "history = model.fit(train_X, train_Y, epochs=100, batch_size=128, verbose=2, validation_data=(test_X, test_Y))"
   ]
  },
  {
   "cell_type": "code",
   "execution_count": 10,
   "metadata": {},
   "outputs": [],
   "source": [
    "testPredict = model.predict(test_X)"
   ]
  },
  {
   "cell_type": "code",
   "execution_count": 11,
   "metadata": {},
   "outputs": [],
   "source": [
    "newtestPredict = scaler.inverse_transform(testPredict)\n",
    "newtest_Y = scaler.inverse_transform(test_Y)"
   ]
  },
  {
   "cell_type": "code",
   "execution_count": 12,
   "metadata": {},
   "outputs": [
    {
     "name": "stdout",
     "output_type": "stream",
     "text": [
      "Test Score: 0.29755 RMSE\n"
     ]
    }
   ],
   "source": [
    "testScore = sqrt(mean_squared_error(newtest_Y, newtestPredict))\n",
    "print('Test Score: %.5f RMSE' % (testScore))"
   ]
  },
  {
   "cell_type": "code",
   "execution_count": null,
   "metadata": {},
   "outputs": [],
   "source": []
  }
 ],
 "metadata": {
  "kernelspec": {
   "display_name": "Python 3",
   "language": "python",
   "name": "python3"
  },
  "language_info": {
   "codemirror_mode": {
    "name": "ipython",
    "version": 3
   },
   "file_extension": ".py",
   "mimetype": "text/x-python",
   "name": "python",
   "nbconvert_exporter": "python",
   "pygments_lexer": "ipython3",
   "version": "3.8.3"
  }
 },
 "nbformat": 4,
 "nbformat_minor": 4
}
