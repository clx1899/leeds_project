{
 "cells": [
  {
   "cell_type": "code",
   "execution_count": 1,
   "metadata": {},
   "outputs": [],
   "source": [
    "from test import EigenData\n",
    "import numpy as np\n",
    "import scipy.io\n",
    "import h5py\n",
    "from sklearn.preprocessing import MinMaxScaler\n",
    "from sklearn.metrics import mean_squared_error\n",
    "from math import sqrt\n",
    "import matplotlib.pyplot as plt\n",
    "from mpl_toolkits.axes_grid1 import make_axes_locatable\n",
    "import torch\n",
    "%matplotlib inline"
   ]
  },
  {
   "cell_type": "code",
   "execution_count": 2,
   "metadata": {},
   "outputs": [
    {
     "name": "stdout",
     "output_type": "stream",
     "text": [
      "b (5, 33600)\n",
      "(100, 5) (5, 33600)\n",
      "--> (100, 33600)\n",
      "c (5, 33600)\n",
      "(100, 5) (5, 33600)\n",
      "--> (100, 33600)\n",
      "d (5, 33600)\n",
      "(100, 5) (5, 33600)\n",
      "--> (100, 33600)\n",
      "e (5, 33600)\n",
      "(100, 5) (5, 33600)\n",
      "--> (100, 33600)\n",
      "f (5, 33600)\n",
      "(100, 5) (5, 33600)\n",
      "--> (100, 33600)\n",
      "g (6, 33600)\n",
      "(100, 6) (6, 33600)\n",
      "--> (100, 33600)\n",
      "h (5, 33600)\n",
      "(100, 5) (5, 33600)\n",
      "--> (100, 33600)\n",
      "i (6, 33600)\n",
      "(100, 6) (6, 33600)\n",
      "--> (100, 33600)\n",
      "j (5, 33600)\n",
      "(100, 5) (5, 33600)\n",
      "--> (100, 33600)\n",
      "k (5, 33600)\n",
      "(100, 5) (5, 33600)\n",
      "--> (100, 33600)\n",
      "l (5, 33600)\n",
      "(100, 5) (5, 33600)\n",
      "--> (100, 33600)\n",
      "m (5, 33600)\n",
      "(100, 5) (5, 33600)\n",
      "--> (100, 33600)\n",
      "(403200, 5)\n"
     ]
    }
   ],
   "source": [
    "data = EigenData()\n",
    "eigenworms = data.get_eigenworms('EigenWorms.mat')\n",
    "\n",
    "footage = data.get_footage('20150814-All-PNAS2011-DataStitched .mat')\n",
    "newdata = torch.rand(33600,5)\n",
    "for k in footage.keys():\n",
    "    print(k, footage[k].shape)\n",
    "    arr1=footage[k]\n",
    "\n",
    "    arr2=arr1[:5,]\n",
    "\n",
    "    r = data.reconstruct(footage[k])\n",
    "    print('-->', r.shape)\n",
    "    dataset1 = arr2.transpose()\n",
    "\n",
    "    newdata = np.concatenate((newdata,dataset1),axis=0)\n",
    "newdata = newdata[33600:,]\n",
    "print(newdata.shape)"
   ]
  },
  {
   "cell_type": "code",
   "execution_count": 3,
   "metadata": {},
   "outputs": [],
   "source": [
    "first_5_eigenworms = eigenworms[0:5,:]\n",
    "eig_worm_0 = eigenworms[0,:]\n",
    "eig_worm_1 = eigenworms[1,:]\n",
    "eig_worm_2 = eigenworms[2,:]\n",
    "eig_worm_3 = eigenworms[3,:]\n",
    "eig_worm_4 = eigenworms[4,:]"
   ]
  },
  {
   "cell_type": "code",
   "execution_count": 4,
   "metadata": {},
   "outputs": [
    {
     "name": "stdout",
     "output_type": "stream",
     "text": [
      "(386422, 5)\n",
      "386422\n"
     ]
    }
   ],
   "source": [
    "data1=newdata[~np.isnan(newdata).any(axis=1)]\n",
    "data1 = data1.astype('float32')\n",
    "print(data1.shape)\n",
    "print(len(data1))"
   ]
  },
  {
   "cell_type": "code",
   "execution_count": 5,
   "metadata": {},
   "outputs": [],
   "source": [
    "scaler = MinMaxScaler(feature_range=(0, 1))\n",
    "data1 = scaler.fit_transform(data1)"
   ]
  },
  {
   "cell_type": "code",
   "execution_count": 6,
   "metadata": {},
   "outputs": [],
   "source": [
    "def create_dataset(dataset, look_back=10):\n",
    "    dataX, dataY = [], []\n",
    "    for i in range(len(dataset) - look_back):\n",
    "        a = dataset[i:(i + look_back)]\n",
    "        dataX.append(a)\n",
    "        dataY.append(dataset[i + look_back])\n",
    "    return np.array(dataX), np.array(dataY)"
   ]
  },
  {
   "cell_type": "code",
   "execution_count": 7,
   "metadata": {},
   "outputs": [
    {
     "name": "stdout",
     "output_type": "stream",
     "text": [
      "(386412, 10, 5)\n",
      "(386412, 5)\n"
     ]
    }
   ],
   "source": [
    "data_X, data_Y = create_dataset(data1)\n",
    "\n",
    "print(data_X.shape)\n",
    "print(data_Y.shape)"
   ]
  },
  {
   "cell_type": "code",
   "execution_count": 8,
   "metadata": {},
   "outputs": [
    {
     "name": "stdout",
     "output_type": "stream",
     "text": [
      "(309129, 10, 5)\n",
      "(309129, 5)\n",
      "(77283, 10, 5)\n",
      "(77283, 5)\n"
     ]
    }
   ],
   "source": [
    "train_size = int(len(data_X) * 0.8)\n",
    "test_size = len(data_X) - train_size\n",
    "train_X = data_X[:train_size]\n",
    "train_Y = data_Y[:train_size]\n",
    "test_X = data_X[train_size:]\n",
    "test_Y = data_Y[train_size:]\n",
    "\n",
    "print(train_X.shape)\n",
    "print(train_Y.shape)\n",
    "print(test_X.shape)\n",
    "print(test_Y.shape)"
   ]
  },
  {
   "cell_type": "code",
   "execution_count": 9,
   "metadata": {},
   "outputs": [
    {
     "name": "stdout",
     "output_type": "stream",
     "text": [
      "Epoch 1/100\n",
      "604/604 - 59s - loss: 0.0090 - root_mean_squared_error: 0.0946 - val_loss: 0.0012 - val_root_mean_squared_error: 0.0351\n",
      "Epoch 2/100\n",
      "604/604 - 55s - loss: 0.0027 - root_mean_squared_error: 0.0518 - val_loss: 6.5237e-04 - val_root_mean_squared_error: 0.0255\n",
      "Epoch 3/100\n",
      "604/604 - 54s - loss: 0.0017 - root_mean_squared_error: 0.0409 - val_loss: 2.6069e-04 - val_root_mean_squared_error: 0.0161\n",
      "Epoch 4/100\n",
      "604/604 - 54s - loss: 0.0012 - root_mean_squared_error: 0.0348 - val_loss: 1.8140e-04 - val_root_mean_squared_error: 0.0135\n",
      "Epoch 5/100\n",
      "604/604 - 54s - loss: 9.5876e-04 - root_mean_squared_error: 0.0310 - val_loss: 4.5053e-04 - val_root_mean_squared_error: 0.0212\n",
      "Epoch 6/100\n",
      "604/604 - 54s - loss: 7.9253e-04 - root_mean_squared_error: 0.0282 - val_loss: 1.3377e-04 - val_root_mean_squared_error: 0.0116\n",
      "Epoch 7/100\n",
      "604/604 - 54s - loss: 6.7369e-04 - root_mean_squared_error: 0.0260 - val_loss: 1.6104e-04 - val_root_mean_squared_error: 0.0127\n",
      "Epoch 8/100\n",
      "604/604 - 54s - loss: 5.8271e-04 - root_mean_squared_error: 0.0241 - val_loss: 1.1967e-04 - val_root_mean_squared_error: 0.0109\n",
      "Epoch 9/100\n",
      "604/604 - 54s - loss: 5.1664e-04 - root_mean_squared_error: 0.0227 - val_loss: 1.4098e-04 - val_root_mean_squared_error: 0.0119\n",
      "Epoch 10/100\n",
      "604/604 - 55s - loss: 4.7102e-04 - root_mean_squared_error: 0.0217 - val_loss: 2.0562e-04 - val_root_mean_squared_error: 0.0143\n",
      "Epoch 11/100\n",
      "604/604 - 54s - loss: 4.3889e-04 - root_mean_squared_error: 0.0209 - val_loss: 1.7311e-04 - val_root_mean_squared_error: 0.0132\n",
      "Epoch 12/100\n",
      "604/604 - 55s - loss: 4.1566e-04 - root_mean_squared_error: 0.0204 - val_loss: 1.2971e-04 - val_root_mean_squared_error: 0.0114\n",
      "Epoch 13/100\n",
      "604/604 - 55s - loss: 4.0091e-04 - root_mean_squared_error: 0.0200 - val_loss: 9.1287e-05 - val_root_mean_squared_error: 0.0096\n",
      "Epoch 14/100\n",
      "604/604 - 54s - loss: 3.8914e-04 - root_mean_squared_error: 0.0197 - val_loss: 7.9736e-05 - val_root_mean_squared_error: 0.0089\n",
      "Epoch 15/100\n",
      "604/604 - 54s - loss: 3.8004e-04 - root_mean_squared_error: 0.0195 - val_loss: 8.8835e-05 - val_root_mean_squared_error: 0.0094\n",
      "Epoch 16/100\n",
      "604/604 - 54s - loss: 3.7261e-04 - root_mean_squared_error: 0.0193 - val_loss: 9.2304e-05 - val_root_mean_squared_error: 0.0096\n",
      "Epoch 17/100\n",
      "604/604 - 54s - loss: 3.6562e-04 - root_mean_squared_error: 0.0191 - val_loss: 1.0851e-04 - val_root_mean_squared_error: 0.0104\n",
      "Epoch 18/100\n",
      "604/604 - 54s - loss: 3.5984e-04 - root_mean_squared_error: 0.0190 - val_loss: 1.0040e-04 - val_root_mean_squared_error: 0.0100\n",
      "Epoch 19/100\n",
      "604/604 - 54s - loss: 3.5393e-04 - root_mean_squared_error: 0.0188 - val_loss: 8.0432e-05 - val_root_mean_squared_error: 0.0090\n",
      "Epoch 20/100\n",
      "604/604 - 54s - loss: 3.5037e-04 - root_mean_squared_error: 0.0187 - val_loss: 5.0151e-05 - val_root_mean_squared_error: 0.0071\n",
      "Epoch 21/100\n",
      "604/604 - 54s - loss: 3.4618e-04 - root_mean_squared_error: 0.0186 - val_loss: 6.9741e-05 - val_root_mean_squared_error: 0.0084\n",
      "Epoch 22/100\n",
      "604/604 - 54s - loss: 3.4155e-04 - root_mean_squared_error: 0.0185 - val_loss: 8.5493e-05 - val_root_mean_squared_error: 0.0092\n",
      "Epoch 23/100\n",
      "604/604 - 54s - loss: 3.3737e-04 - root_mean_squared_error: 0.0184 - val_loss: 1.3927e-04 - val_root_mean_squared_error: 0.0118\n",
      "Epoch 24/100\n",
      "604/604 - 54s - loss: 3.3457e-04 - root_mean_squared_error: 0.0183 - val_loss: 1.3025e-04 - val_root_mean_squared_error: 0.0114\n",
      "Epoch 25/100\n",
      "604/604 - 54s - loss: 3.3286e-04 - root_mean_squared_error: 0.0182 - val_loss: 4.6716e-05 - val_root_mean_squared_error: 0.0068\n",
      "Epoch 26/100\n",
      "604/604 - 54s - loss: 3.2899e-04 - root_mean_squared_error: 0.0181 - val_loss: 7.8584e-05 - val_root_mean_squared_error: 0.0089\n",
      "Epoch 27/100\n",
      "604/604 - 54s - loss: 3.2563e-04 - root_mean_squared_error: 0.0180 - val_loss: 9.6478e-05 - val_root_mean_squared_error: 0.0098\n",
      "Epoch 28/100\n",
      "604/604 - 55s - loss: 3.2390e-04 - root_mean_squared_error: 0.0180 - val_loss: 7.8055e-05 - val_root_mean_squared_error: 0.0088\n",
      "Epoch 29/100\n",
      "604/604 - 54s - loss: 3.2132e-04 - root_mean_squared_error: 0.0179 - val_loss: 6.4845e-05 - val_root_mean_squared_error: 0.0081\n",
      "Epoch 30/100\n",
      "604/604 - 54s - loss: 3.1834e-04 - root_mean_squared_error: 0.0178 - val_loss: 7.1102e-05 - val_root_mean_squared_error: 0.0084\n",
      "Epoch 31/100\n",
      "604/604 - 54s - loss: 3.1678e-04 - root_mean_squared_error: 0.0178 - val_loss: 9.3068e-05 - val_root_mean_squared_error: 0.0096\n",
      "Epoch 32/100\n",
      "604/604 - 54s - loss: 3.1426e-04 - root_mean_squared_error: 0.0177 - val_loss: 9.3564e-05 - val_root_mean_squared_error: 0.0097\n",
      "Epoch 33/100\n",
      "604/604 - 54s - loss: 3.1202e-04 - root_mean_squared_error: 0.0177 - val_loss: 7.3154e-05 - val_root_mean_squared_error: 0.0086\n",
      "Epoch 34/100\n",
      "604/604 - 54s - loss: 3.1104e-04 - root_mean_squared_error: 0.0176 - val_loss: 1.1700e-04 - val_root_mean_squared_error: 0.0108\n",
      "Epoch 35/100\n",
      "604/604 - 54s - loss: 3.0904e-04 - root_mean_squared_error: 0.0176 - val_loss: 6.5036e-05 - val_root_mean_squared_error: 0.0081\n",
      "Epoch 36/100\n",
      "604/604 - 54s - loss: 3.0709e-04 - root_mean_squared_error: 0.0175 - val_loss: 8.1662e-05 - val_root_mean_squared_error: 0.0090\n",
      "Epoch 37/100\n",
      "604/604 - 54s - loss: 3.0582e-04 - root_mean_squared_error: 0.0175 - val_loss: 1.2574e-04 - val_root_mean_squared_error: 0.0112\n",
      "Epoch 38/100\n",
      "604/604 - 54s - loss: 3.0391e-04 - root_mean_squared_error: 0.0174 - val_loss: 6.4097e-05 - val_root_mean_squared_error: 0.0080\n",
      "Epoch 39/100\n",
      "604/604 - 54s - loss: 3.0293e-04 - root_mean_squared_error: 0.0174 - val_loss: 5.4554e-05 - val_root_mean_squared_error: 0.0074\n",
      "Epoch 40/100\n",
      "604/604 - 55s - loss: 3.0172e-04 - root_mean_squared_error: 0.0174 - val_loss: 5.3168e-05 - val_root_mean_squared_error: 0.0073\n",
      "Epoch 41/100\n",
      "604/604 - 54s - loss: 2.9955e-04 - root_mean_squared_error: 0.0173 - val_loss: 6.1542e-05 - val_root_mean_squared_error: 0.0078\n",
      "Epoch 42/100\n",
      "604/604 - 54s - loss: 2.9831e-04 - root_mean_squared_error: 0.0173 - val_loss: 5.5034e-05 - val_root_mean_squared_error: 0.0074\n",
      "Epoch 43/100\n",
      "604/604 - 55s - loss: 2.9777e-04 - root_mean_squared_error: 0.0173 - val_loss: 7.4433e-05 - val_root_mean_squared_error: 0.0086\n",
      "Epoch 44/100\n",
      "604/604 - 55s - loss: 2.9615e-04 - root_mean_squared_error: 0.0172 - val_loss: 4.7121e-05 - val_root_mean_squared_error: 0.0069\n",
      "Epoch 45/100\n",
      "604/604 - 54s - loss: 2.9557e-04 - root_mean_squared_error: 0.0172 - val_loss: 6.1234e-05 - val_root_mean_squared_error: 0.0078\n",
      "Epoch 46/100\n",
      "604/604 - 54s - loss: 2.9353e-04 - root_mean_squared_error: 0.0171 - val_loss: 9.0307e-05 - val_root_mean_squared_error: 0.0095\n",
      "Epoch 47/100\n",
      "604/604 - 54s - loss: 2.9262e-04 - root_mean_squared_error: 0.0171 - val_loss: 6.7425e-05 - val_root_mean_squared_error: 0.0082\n",
      "Epoch 48/100\n",
      "604/604 - 54s - loss: 2.9097e-04 - root_mean_squared_error: 0.0171 - val_loss: 7.5760e-05 - val_root_mean_squared_error: 0.0087\n",
      "Epoch 49/100\n",
      "604/604 - 54s - loss: 2.9034e-04 - root_mean_squared_error: 0.0170 - val_loss: 8.2046e-05 - val_root_mean_squared_error: 0.0091\n",
      "Epoch 50/100\n",
      "604/604 - 54s - loss: 2.8940e-04 - root_mean_squared_error: 0.0170 - val_loss: 7.2220e-05 - val_root_mean_squared_error: 0.0085\n",
      "Epoch 51/100\n",
      "604/604 - 55s - loss: 2.8865e-04 - root_mean_squared_error: 0.0170 - val_loss: 6.1515e-05 - val_root_mean_squared_error: 0.0078\n",
      "Epoch 52/100\n",
      "604/604 - 55s - loss: 2.8760e-04 - root_mean_squared_error: 0.0170 - val_loss: 9.1120e-05 - val_root_mean_squared_error: 0.0095\n",
      "Epoch 53/100\n",
      "604/604 - 54s - loss: 2.8673e-04 - root_mean_squared_error: 0.0169 - val_loss: 4.5391e-05 - val_root_mean_squared_error: 0.0067\n",
      "Epoch 54/100\n",
      "604/604 - 54s - loss: 2.8575e-04 - root_mean_squared_error: 0.0169 - val_loss: 4.1900e-05 - val_root_mean_squared_error: 0.0065\n",
      "Epoch 55/100\n",
      "604/604 - 54s - loss: 2.8638e-04 - root_mean_squared_error: 0.0169 - val_loss: 4.4884e-05 - val_root_mean_squared_error: 0.0067\n",
      "Epoch 56/100\n",
      "604/604 - 57s - loss: 2.8391e-04 - root_mean_squared_error: 0.0168 - val_loss: 5.0450e-05 - val_root_mean_squared_error: 0.0071\n",
      "Epoch 57/100\n",
      "604/604 - 56s - loss: 2.8312e-04 - root_mean_squared_error: 0.0168 - val_loss: 5.2563e-05 - val_root_mean_squared_error: 0.0073\n",
      "Epoch 58/100\n",
      "604/604 - 56s - loss: 2.8322e-04 - root_mean_squared_error: 0.0168 - val_loss: 5.8613e-05 - val_root_mean_squared_error: 0.0077\n",
      "Epoch 59/100\n",
      "604/604 - 58s - loss: 2.8253e-04 - root_mean_squared_error: 0.0168 - val_loss: 4.5337e-05 - val_root_mean_squared_error: 0.0067\n"
     ]
    },
    {
     "name": "stdout",
     "output_type": "stream",
     "text": [
      "Epoch 60/100\n",
      "604/604 - 58s - loss: 2.8153e-04 - root_mean_squared_error: 0.0168 - val_loss: 6.6723e-05 - val_root_mean_squared_error: 0.0082\n",
      "Epoch 61/100\n",
      "604/604 - 56s - loss: 2.8090e-04 - root_mean_squared_error: 0.0168 - val_loss: 4.2129e-05 - val_root_mean_squared_error: 0.0065\n",
      "Epoch 62/100\n",
      "604/604 - 55s - loss: 2.8012e-04 - root_mean_squared_error: 0.0167 - val_loss: 4.4683e-05 - val_root_mean_squared_error: 0.0067\n",
      "Epoch 63/100\n",
      "604/604 - 57s - loss: 2.7857e-04 - root_mean_squared_error: 0.0167 - val_loss: 4.5733e-05 - val_root_mean_squared_error: 0.0068\n",
      "Epoch 64/100\n",
      "604/604 - 59s - loss: 2.7854e-04 - root_mean_squared_error: 0.0167 - val_loss: 4.1762e-05 - val_root_mean_squared_error: 0.0065\n",
      "Epoch 65/100\n",
      "604/604 - 59s - loss: 2.7850e-04 - root_mean_squared_error: 0.0167 - val_loss: 6.9041e-05 - val_root_mean_squared_error: 0.0083\n",
      "Epoch 66/100\n",
      "604/604 - 59s - loss: 2.7760e-04 - root_mean_squared_error: 0.0167 - val_loss: 3.9581e-05 - val_root_mean_squared_error: 0.0063\n",
      "Epoch 67/100\n",
      "604/604 - 57s - loss: 2.7653e-04 - root_mean_squared_error: 0.0166 - val_loss: 4.6210e-05 - val_root_mean_squared_error: 0.0068\n",
      "Epoch 68/100\n",
      "604/604 - 55s - loss: 2.7643e-04 - root_mean_squared_error: 0.0166 - val_loss: 5.4844e-05 - val_root_mean_squared_error: 0.0074\n",
      "Epoch 69/100\n",
      "604/604 - 54s - loss: 2.7563e-04 - root_mean_squared_error: 0.0166 - val_loss: 5.7906e-05 - val_root_mean_squared_error: 0.0076\n",
      "Epoch 70/100\n",
      "604/604 - 54s - loss: 2.7493e-04 - root_mean_squared_error: 0.0166 - val_loss: 5.0033e-05 - val_root_mean_squared_error: 0.0071\n",
      "Epoch 71/100\n",
      "604/604 - 54s - loss: 2.7514e-04 - root_mean_squared_error: 0.0166 - val_loss: 3.4158e-05 - val_root_mean_squared_error: 0.0058\n",
      "Epoch 72/100\n",
      "604/604 - 54s - loss: 2.7366e-04 - root_mean_squared_error: 0.0165 - val_loss: 5.5354e-05 - val_root_mean_squared_error: 0.0074\n",
      "Epoch 73/100\n",
      "604/604 - 56s - loss: 2.7274e-04 - root_mean_squared_error: 0.0165 - val_loss: 5.2488e-05 - val_root_mean_squared_error: 0.0072\n",
      "Epoch 74/100\n",
      "604/604 - 57s - loss: 2.7353e-04 - root_mean_squared_error: 0.0165 - val_loss: 4.9283e-05 - val_root_mean_squared_error: 0.0070\n",
      "Epoch 75/100\n",
      "604/604 - 58s - loss: 2.7307e-04 - root_mean_squared_error: 0.0165 - val_loss: 5.0651e-05 - val_root_mean_squared_error: 0.0071\n",
      "Epoch 76/100\n",
      "604/604 - 54s - loss: 2.7160e-04 - root_mean_squared_error: 0.0165 - val_loss: 3.9323e-05 - val_root_mean_squared_error: 0.0063\n",
      "Epoch 77/100\n",
      "604/604 - 56s - loss: 2.7189e-04 - root_mean_squared_error: 0.0165 - val_loss: 5.7081e-05 - val_root_mean_squared_error: 0.0076\n",
      "Epoch 78/100\n",
      "604/604 - 57s - loss: 2.7036e-04 - root_mean_squared_error: 0.0164 - val_loss: 6.2129e-05 - val_root_mean_squared_error: 0.0079\n",
      "Epoch 79/100\n",
      "604/604 - 56s - loss: 2.6976e-04 - root_mean_squared_error: 0.0164 - val_loss: 4.1645e-05 - val_root_mean_squared_error: 0.0065\n",
      "Epoch 80/100\n",
      "604/604 - 57s - loss: 2.7031e-04 - root_mean_squared_error: 0.0164 - val_loss: 5.7961e-05 - val_root_mean_squared_error: 0.0076\n",
      "Epoch 81/100\n",
      "604/604 - 57s - loss: 2.6949e-04 - root_mean_squared_error: 0.0164 - val_loss: 4.4863e-05 - val_root_mean_squared_error: 0.0067\n",
      "Epoch 82/100\n",
      "604/604 - 56s - loss: 2.6797e-04 - root_mean_squared_error: 0.0164 - val_loss: 3.8894e-05 - val_root_mean_squared_error: 0.0062\n",
      "Epoch 83/100\n",
      "604/604 - 55s - loss: 2.6837e-04 - root_mean_squared_error: 0.0164 - val_loss: 6.7182e-05 - val_root_mean_squared_error: 0.0082\n",
      "Epoch 84/100\n",
      "604/604 - 54s - loss: 2.6814e-04 - root_mean_squared_error: 0.0164 - val_loss: 5.6233e-05 - val_root_mean_squared_error: 0.0075\n",
      "Epoch 85/100\n",
      "604/604 - 54s - loss: 2.6718e-04 - root_mean_squared_error: 0.0163 - val_loss: 3.2189e-05 - val_root_mean_squared_error: 0.0057\n",
      "Epoch 86/100\n",
      "604/604 - 54s - loss: 2.6761e-04 - root_mean_squared_error: 0.0164 - val_loss: 4.9972e-05 - val_root_mean_squared_error: 0.0071\n",
      "Epoch 87/100\n",
      "604/604 - 54s - loss: 2.6713e-04 - root_mean_squared_error: 0.0163 - val_loss: 3.3685e-05 - val_root_mean_squared_error: 0.0058\n",
      "Epoch 88/100\n",
      "604/604 - 54s - loss: 2.6687e-04 - root_mean_squared_error: 0.0163 - val_loss: 4.4712e-05 - val_root_mean_squared_error: 0.0067\n",
      "Epoch 89/100\n",
      "604/604 - 54s - loss: 2.6625e-04 - root_mean_squared_error: 0.0163 - val_loss: 4.0351e-05 - val_root_mean_squared_error: 0.0064\n",
      "Epoch 90/100\n",
      "604/604 - 54s - loss: 2.6509e-04 - root_mean_squared_error: 0.0163 - val_loss: 3.6547e-05 - val_root_mean_squared_error: 0.0060\n",
      "Epoch 91/100\n",
      "604/604 - 54s - loss: 2.6620e-04 - root_mean_squared_error: 0.0163 - val_loss: 6.2184e-05 - val_root_mean_squared_error: 0.0079\n",
      "Epoch 92/100\n",
      "604/604 - 54s - loss: 2.6535e-04 - root_mean_squared_error: 0.0163 - val_loss: 3.3552e-05 - val_root_mean_squared_error: 0.0058\n",
      "Epoch 93/100\n",
      "604/604 - 54s - loss: 2.6381e-04 - root_mean_squared_error: 0.0162 - val_loss: 3.0401e-05 - val_root_mean_squared_error: 0.0055\n",
      "Epoch 94/100\n",
      "604/604 - 54s - loss: 2.6407e-04 - root_mean_squared_error: 0.0163 - val_loss: 4.6722e-05 - val_root_mean_squared_error: 0.0068\n",
      "Epoch 95/100\n",
      "604/604 - 54s - loss: 2.6465e-04 - root_mean_squared_error: 0.0163 - val_loss: 4.3261e-05 - val_root_mean_squared_error: 0.0066\n",
      "Epoch 96/100\n",
      "604/604 - 55s - loss: 2.6298e-04 - root_mean_squared_error: 0.0162 - val_loss: 4.2405e-05 - val_root_mean_squared_error: 0.0065\n",
      "Epoch 97/100\n",
      "604/604 - 57s - loss: 2.6325e-04 - root_mean_squared_error: 0.0162 - val_loss: 4.7465e-05 - val_root_mean_squared_error: 0.0069\n",
      "Epoch 98/100\n",
      "604/604 - 56s - loss: 2.6357e-04 - root_mean_squared_error: 0.0162 - val_loss: 3.9309e-05 - val_root_mean_squared_error: 0.0063\n",
      "Epoch 99/100\n",
      "604/604 - 55s - loss: 2.6273e-04 - root_mean_squared_error: 0.0162 - val_loss: 3.3593e-05 - val_root_mean_squared_error: 0.0058\n",
      "Epoch 100/100\n",
      "604/604 - 55s - loss: 2.6083e-04 - root_mean_squared_error: 0.0162 - val_loss: 2.7347e-05 - val_root_mean_squared_error: 0.0052\n"
     ]
    }
   ],
   "source": [
    "import tensorflow as tf\n",
    "from tensorflow import keras\n",
    "from tensorflow.keras import layers\n",
    "from keras.layers import Input,LSTM,Dropout,Dense\n",
    "\n",
    "\n",
    "\n",
    "# create and fit the LSTM network\n",
    "\n",
    "model = keras.Sequential()\n",
    "model.add(LSTM(100,input_shape=(10,5),return_sequences=True))\n",
    "model.add(Dropout(0.2))\n",
    "model.add(LSTM(100,input_shape=(10,5),return_sequences=True))\n",
    "model.add(Dropout(0.2))\n",
    "model.add(LSTM(100,input_shape=(10,5),return_sequences=False))\n",
    "model.add(Dropout(0.2))\n",
    "model.add(Dense(5,activation='linear'))\n",
    "model.compile(optimizer='rmsprop',loss='mean_squared_error',metrics=[tf.keras.metrics.RootMeanSquaredError()])\n",
    "\n",
    "history = model.fit(train_X, train_Y, epochs=100, batch_size=512, verbose=2, validation_data=(test_X, test_Y))"
   ]
  },
  {
   "cell_type": "code",
   "execution_count": 10,
   "metadata": {},
   "outputs": [],
   "source": [
    "testPredict = model.predict(test_X)"
   ]
  },
  {
   "cell_type": "code",
   "execution_count": 11,
   "metadata": {},
   "outputs": [],
   "source": [
    "newtestPredict = scaler.inverse_transform(testPredict)\n",
    "newtest_Y = scaler.inverse_transform(test_Y)"
   ]
  },
  {
   "cell_type": "code",
   "execution_count": 12,
   "metadata": {},
   "outputs": [
    {
     "name": "stdout",
     "output_type": "stream",
     "text": [
      "Test Score: 0.15731 RMSE\n"
     ]
    }
   ],
   "source": [
    "testScore = sqrt(mean_squared_error(newtest_Y, newtestPredict))\n",
    "print('Test Score: %.5f RMSE' % (testScore))"
   ]
  },
  {
   "cell_type": "code",
   "execution_count": null,
   "metadata": {},
   "outputs": [],
   "source": []
  }
 ],
 "metadata": {
  "kernelspec": {
   "display_name": "Python 3",
   "language": "python",
   "name": "python3"
  },
  "language_info": {
   "codemirror_mode": {
    "name": "ipython",
    "version": 3
   },
   "file_extension": ".py",
   "mimetype": "text/x-python",
   "name": "python",
   "nbconvert_exporter": "python",
   "pygments_lexer": "ipython3",
   "version": "3.8.3"
  }
 },
 "nbformat": 4,
 "nbformat_minor": 4
}
