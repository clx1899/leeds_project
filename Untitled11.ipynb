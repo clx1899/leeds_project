{
 "cells": [
  {
   "cell_type": "code",
   "execution_count": 1,
   "metadata": {},
   "outputs": [],
   "source": [
    "from test import EigenData\n",
    "import numpy as np\n",
    "import scipy.io\n",
    "import h5py\n",
    "from sklearn.preprocessing import MinMaxScaler\n",
    "from sklearn.metrics import mean_squared_error\n",
    "from math import sqrt\n",
    "import matplotlib.pyplot as plt\n",
    "from mpl_toolkits.axes_grid1 import make_axes_locatable\n",
    "import torch\n",
    "%matplotlib inline"
   ]
  },
  {
   "cell_type": "code",
   "execution_count": 2,
   "metadata": {},
   "outputs": [
    {
     "name": "stdout",
     "output_type": "stream",
     "text": [
      "b (5, 33600)\n",
      "(100, 5) (5, 33600)\n",
      "--> (100, 33600)\n",
      "c (5, 33600)\n",
      "(100, 5) (5, 33600)\n",
      "--> (100, 33600)\n",
      "d (5, 33600)\n",
      "(100, 5) (5, 33600)\n",
      "--> (100, 33600)\n",
      "e (5, 33600)\n",
      "(100, 5) (5, 33600)\n",
      "--> (100, 33600)\n",
      "f (5, 33600)\n",
      "(100, 5) (5, 33600)\n",
      "--> (100, 33600)\n",
      "g (6, 33600)\n",
      "(100, 6) (6, 33600)\n",
      "--> (100, 33600)\n",
      "h (5, 33600)\n",
      "(100, 5) (5, 33600)\n",
      "--> (100, 33600)\n",
      "i (6, 33600)\n",
      "(100, 6) (6, 33600)\n",
      "--> (100, 33600)\n",
      "j (5, 33600)\n",
      "(100, 5) (5, 33600)\n",
      "--> (100, 33600)\n",
      "k (5, 33600)\n",
      "(100, 5) (5, 33600)\n",
      "--> (100, 33600)\n",
      "l (5, 33600)\n",
      "(100, 5) (5, 33600)\n",
      "--> (100, 33600)\n",
      "m (5, 33600)\n",
      "(100, 5) (5, 33600)\n",
      "--> (100, 33600)\n",
      "(403200, 5)\n"
     ]
    }
   ],
   "source": [
    "data = EigenData()\n",
    "eigenworms = data.get_eigenworms('EigenWorms.mat')\n",
    "\n",
    "footage = data.get_footage('20150814-All-PNAS2011-DataStitched .mat')\n",
    "newdata = torch.rand(33600,5)\n",
    "for k in footage.keys():\n",
    "    print(k, footage[k].shape)\n",
    "    arr1=footage[k]\n",
    "\n",
    "    arr2=arr1[:5,]\n",
    "\n",
    "    r = data.reconstruct(footage[k])\n",
    "    print('-->', r.shape)\n",
    "    dataset1 = arr2.transpose()\n",
    "\n",
    "    newdata = np.concatenate((newdata,dataset1),axis=0)\n",
    "newdata = newdata[33600:,]\n",
    "print(newdata.shape)"
   ]
  },
  {
   "cell_type": "code",
   "execution_count": 3,
   "metadata": {},
   "outputs": [],
   "source": [
    "first_5_eigenworms = eigenworms[0:5,:]\n",
    "eig_worm_0 = eigenworms[0,:]\n",
    "eig_worm_1 = eigenworms[1,:]\n",
    "eig_worm_2 = eigenworms[2,:]\n",
    "eig_worm_3 = eigenworms[3,:]\n",
    "eig_worm_4 = eigenworms[4,:]"
   ]
  },
  {
   "cell_type": "code",
   "execution_count": 4,
   "metadata": {},
   "outputs": [
    {
     "name": "stdout",
     "output_type": "stream",
     "text": [
      "(386422, 5)\n",
      "386422\n"
     ]
    }
   ],
   "source": [
    "data1=newdata[~np.isnan(newdata).any(axis=1)]\n",
    "data1 = data1.astype('float32')\n",
    "print(data1.shape)\n",
    "print(len(data1))"
   ]
  },
  {
   "cell_type": "code",
   "execution_count": 5,
   "metadata": {},
   "outputs": [],
   "source": [
    "scaler = MinMaxScaler(feature_range=(0, 1))\n",
    "data1 = scaler.fit_transform(data1)"
   ]
  },
  {
   "cell_type": "code",
   "execution_count": 6,
   "metadata": {},
   "outputs": [],
   "source": [
    "def create_dataset(dataset, look_back=1):\n",
    "    dataX, dataY = [], []\n",
    "    for i in range(len(dataset) - look_back):\n",
    "        a = dataset[i:(i + look_back)]\n",
    "        dataX.append(a)\n",
    "        dataY.append(dataset[i + look_back])\n",
    "    return np.array(dataX), np.array(dataY)"
   ]
  },
  {
   "cell_type": "code",
   "execution_count": 7,
   "metadata": {},
   "outputs": [
    {
     "name": "stdout",
     "output_type": "stream",
     "text": [
      "(386421, 1, 5)\n",
      "(386421, 5)\n"
     ]
    }
   ],
   "source": [
    "data_X, data_Y = create_dataset(data1)\n",
    "\n",
    "print(data_X.shape)\n",
    "print(data_Y.shape)"
   ]
  },
  {
   "cell_type": "code",
   "execution_count": 8,
   "metadata": {},
   "outputs": [
    {
     "name": "stdout",
     "output_type": "stream",
     "text": [
      "(309136, 1, 5)\n",
      "(309136, 5)\n",
      "(77285, 1, 5)\n",
      "(77285, 5)\n"
     ]
    }
   ],
   "source": [
    "train_size = int(len(data_X) * 0.8)\n",
    "test_size = len(data_X) - train_size\n",
    "train_X = data_X[:train_size]\n",
    "train_Y = data_Y[:train_size]\n",
    "test_X = data_X[train_size:]\n",
    "test_Y = data_Y[train_size:]\n",
    "\n",
    "print(train_X.shape)\n",
    "print(train_Y.shape)\n",
    "print(test_X.shape)\n",
    "print(test_Y.shape)"
   ]
  },
  {
   "cell_type": "code",
   "execution_count": 9,
   "metadata": {},
   "outputs": [
    {
     "name": "stdout",
     "output_type": "stream",
     "text": [
      "Epoch 1/100\n",
      "604/604 - 10s - loss: 0.0151 - root_mean_squared_error: 0.1228 - val_loss: 0.0052 - val_root_mean_squared_error: 0.0722\n",
      "Epoch 2/100\n",
      "604/604 - 5s - loss: 0.0034 - root_mean_squared_error: 0.0581 - val_loss: 5.0719e-04 - val_root_mean_squared_error: 0.0225\n",
      "Epoch 3/100\n",
      "604/604 - 5s - loss: 0.0016 - root_mean_squared_error: 0.0401 - val_loss: 3.7294e-04 - val_root_mean_squared_error: 0.0193\n",
      "Epoch 4/100\n",
      "604/604 - 5s - loss: 0.0013 - root_mean_squared_error: 0.0356 - val_loss: 4.2219e-04 - val_root_mean_squared_error: 0.0205\n",
      "Epoch 5/100\n",
      "604/604 - 6s - loss: 0.0011 - root_mean_squared_error: 0.0334 - val_loss: 4.7676e-04 - val_root_mean_squared_error: 0.0218\n",
      "Epoch 6/100\n",
      "604/604 - 5s - loss: 0.0010 - root_mean_squared_error: 0.0319 - val_loss: 3.1506e-04 - val_root_mean_squared_error: 0.0177\n",
      "Epoch 7/100\n",
      "604/604 - 5s - loss: 9.3952e-04 - root_mean_squared_error: 0.0307 - val_loss: 2.8659e-04 - val_root_mean_squared_error: 0.0169\n",
      "Epoch 8/100\n",
      "604/604 - 5s - loss: 8.8301e-04 - root_mean_squared_error: 0.0297 - val_loss: 3.6306e-04 - val_root_mean_squared_error: 0.0191\n",
      "Epoch 9/100\n",
      "604/604 - 5s - loss: 8.4389e-04 - root_mean_squared_error: 0.0290 - val_loss: 4.5912e-04 - val_root_mean_squared_error: 0.0214\n",
      "Epoch 10/100\n",
      "604/604 - 5s - loss: 8.1774e-04 - root_mean_squared_error: 0.0286 - val_loss: 3.5342e-04 - val_root_mean_squared_error: 0.0188\n",
      "Epoch 11/100\n",
      "604/604 - 5s - loss: 8.0250e-04 - root_mean_squared_error: 0.0283 - val_loss: 2.9786e-04 - val_root_mean_squared_error: 0.0173\n",
      "Epoch 12/100\n",
      "604/604 - 5s - loss: 7.9311e-04 - root_mean_squared_error: 0.0282 - val_loss: 2.9899e-04 - val_root_mean_squared_error: 0.0173\n",
      "Epoch 13/100\n",
      "604/604 - 5s - loss: 7.8710e-04 - root_mean_squared_error: 0.0281 - val_loss: 3.7240e-04 - val_root_mean_squared_error: 0.0193\n",
      "Epoch 14/100\n",
      "604/604 - 5s - loss: 7.7959e-04 - root_mean_squared_error: 0.0279 - val_loss: 2.9197e-04 - val_root_mean_squared_error: 0.0171\n",
      "Epoch 15/100\n",
      "604/604 - 5s - loss: 7.7477e-04 - root_mean_squared_error: 0.0278 - val_loss: 2.8349e-04 - val_root_mean_squared_error: 0.0168\n",
      "Epoch 16/100\n",
      "604/604 - 5s - loss: 7.7064e-04 - root_mean_squared_error: 0.0278 - val_loss: 2.5755e-04 - val_root_mean_squared_error: 0.0160\n",
      "Epoch 17/100\n",
      "604/604 - 5s - loss: 7.6790e-04 - root_mean_squared_error: 0.0277 - val_loss: 3.1142e-04 - val_root_mean_squared_error: 0.0176\n",
      "Epoch 18/100\n",
      "604/604 - 5s - loss: 7.5923e-04 - root_mean_squared_error: 0.0276 - val_loss: 3.0442e-04 - val_root_mean_squared_error: 0.0174\n",
      "Epoch 19/100\n",
      "604/604 - 5s - loss: 7.5812e-04 - root_mean_squared_error: 0.0275 - val_loss: 3.2161e-04 - val_root_mean_squared_error: 0.0179\n",
      "Epoch 20/100\n",
      "604/604 - 5s - loss: 7.5307e-04 - root_mean_squared_error: 0.0274 - val_loss: 3.6745e-04 - val_root_mean_squared_error: 0.0192\n",
      "Epoch 21/100\n",
      "604/604 - 5s - loss: 7.5108e-04 - root_mean_squared_error: 0.0274 - val_loss: 2.7735e-04 - val_root_mean_squared_error: 0.0167\n",
      "Epoch 22/100\n",
      "604/604 - 5s - loss: 7.4349e-04 - root_mean_squared_error: 0.0273 - val_loss: 2.8934e-04 - val_root_mean_squared_error: 0.0170\n",
      "Epoch 23/100\n",
      "604/604 - 5s - loss: 7.3993e-04 - root_mean_squared_error: 0.0272 - val_loss: 3.1098e-04 - val_root_mean_squared_error: 0.0176\n",
      "Epoch 24/100\n",
      "604/604 - 5s - loss: 7.3600e-04 - root_mean_squared_error: 0.0271 - val_loss: 2.9293e-04 - val_root_mean_squared_error: 0.0171\n",
      "Epoch 25/100\n",
      "604/604 - 5s - loss: 7.3221e-04 - root_mean_squared_error: 0.0271 - val_loss: 3.5668e-04 - val_root_mean_squared_error: 0.0189\n",
      "Epoch 26/100\n",
      "604/604 - 5s - loss: 7.2790e-04 - root_mean_squared_error: 0.0270 - val_loss: 2.7280e-04 - val_root_mean_squared_error: 0.0165\n",
      "Epoch 27/100\n",
      "604/604 - 5s - loss: 7.2247e-04 - root_mean_squared_error: 0.0269 - val_loss: 2.9709e-04 - val_root_mean_squared_error: 0.0172\n",
      "Epoch 28/100\n",
      "604/604 - 5s - loss: 7.1923e-04 - root_mean_squared_error: 0.0268 - val_loss: 2.6348e-04 - val_root_mean_squared_error: 0.0162\n",
      "Epoch 29/100\n",
      "604/604 - 5s - loss: 7.1635e-04 - root_mean_squared_error: 0.0268 - val_loss: 2.5654e-04 - val_root_mean_squared_error: 0.0160\n",
      "Epoch 30/100\n",
      "604/604 - 5s - loss: 7.1279e-04 - root_mean_squared_error: 0.0267 - val_loss: 2.7363e-04 - val_root_mean_squared_error: 0.0165\n",
      "Epoch 31/100\n",
      "604/604 - 5s - loss: 7.0820e-04 - root_mean_squared_error: 0.0266 - val_loss: 2.7996e-04 - val_root_mean_squared_error: 0.0167\n",
      "Epoch 32/100\n",
      "604/604 - 5s - loss: 7.0594e-04 - root_mean_squared_error: 0.0266 - val_loss: 2.6789e-04 - val_root_mean_squared_error: 0.0164\n",
      "Epoch 33/100\n",
      "604/604 - 5s - loss: 7.0576e-04 - root_mean_squared_error: 0.0266 - val_loss: 2.6287e-04 - val_root_mean_squared_error: 0.0162\n",
      "Epoch 34/100\n",
      "604/604 - 5s - loss: 7.0058e-04 - root_mean_squared_error: 0.0265 - val_loss: 2.8161e-04 - val_root_mean_squared_error: 0.0168\n",
      "Epoch 35/100\n",
      "604/604 - 5s - loss: 6.9713e-04 - root_mean_squared_error: 0.0264 - val_loss: 2.7349e-04 - val_root_mean_squared_error: 0.0165\n",
      "Epoch 36/100\n",
      "604/604 - 5s - loss: 6.9592e-04 - root_mean_squared_error: 0.0264 - val_loss: 3.1907e-04 - val_root_mean_squared_error: 0.0179\n",
      "Epoch 37/100\n",
      "604/604 - 5s - loss: 6.9316e-04 - root_mean_squared_error: 0.0263 - val_loss: 2.7709e-04 - val_root_mean_squared_error: 0.0166\n",
      "Epoch 38/100\n",
      "604/604 - 5s - loss: 6.9042e-04 - root_mean_squared_error: 0.0263 - val_loss: 2.9029e-04 - val_root_mean_squared_error: 0.0170\n",
      "Epoch 39/100\n",
      "604/604 - 5s - loss: 6.8876e-04 - root_mean_squared_error: 0.0262 - val_loss: 2.5087e-04 - val_root_mean_squared_error: 0.0158\n",
      "Epoch 40/100\n",
      "604/604 - 5s - loss: 6.8931e-04 - root_mean_squared_error: 0.0263 - val_loss: 2.5894e-04 - val_root_mean_squared_error: 0.0161\n",
      "Epoch 41/100\n",
      "604/604 - 5s - loss: 6.8261e-04 - root_mean_squared_error: 0.0261 - val_loss: 2.6020e-04 - val_root_mean_squared_error: 0.0161\n",
      "Epoch 42/100\n",
      "604/604 - 5s - loss: 6.8305e-04 - root_mean_squared_error: 0.0261 - val_loss: 2.4442e-04 - val_root_mean_squared_error: 0.0156\n",
      "Epoch 43/100\n",
      "604/604 - 5s - loss: 6.8048e-04 - root_mean_squared_error: 0.0261 - val_loss: 2.6754e-04 - val_root_mean_squared_error: 0.0164\n",
      "Epoch 44/100\n",
      "604/604 - 5s - loss: 6.7981e-04 - root_mean_squared_error: 0.0261 - val_loss: 2.5878e-04 - val_root_mean_squared_error: 0.0161\n",
      "Epoch 45/100\n",
      "604/604 - 5s - loss: 6.7741e-04 - root_mean_squared_error: 0.0260 - val_loss: 2.3737e-04 - val_root_mean_squared_error: 0.0154\n",
      "Epoch 46/100\n",
      "604/604 - 5s - loss: 6.7604e-04 - root_mean_squared_error: 0.0260 - val_loss: 2.2313e-04 - val_root_mean_squared_error: 0.0149\n",
      "Epoch 47/100\n",
      "604/604 - 5s - loss: 6.7241e-04 - root_mean_squared_error: 0.0259 - val_loss: 2.4289e-04 - val_root_mean_squared_error: 0.0156\n",
      "Epoch 48/100\n",
      "604/604 - 5s - loss: 6.7467e-04 - root_mean_squared_error: 0.0260 - val_loss: 2.5361e-04 - val_root_mean_squared_error: 0.0159\n",
      "Epoch 49/100\n",
      "604/604 - 5s - loss: 6.6890e-04 - root_mean_squared_error: 0.0259 - val_loss: 2.6126e-04 - val_root_mean_squared_error: 0.0162\n",
      "Epoch 50/100\n",
      "604/604 - 5s - loss: 6.7002e-04 - root_mean_squared_error: 0.0259 - val_loss: 2.4382e-04 - val_root_mean_squared_error: 0.0156\n",
      "Epoch 51/100\n",
      "604/604 - 5s - loss: 6.6611e-04 - root_mean_squared_error: 0.0258 - val_loss: 2.3072e-04 - val_root_mean_squared_error: 0.0152\n",
      "Epoch 52/100\n",
      "604/604 - 5s - loss: 6.6466e-04 - root_mean_squared_error: 0.0258 - val_loss: 2.5934e-04 - val_root_mean_squared_error: 0.0161\n",
      "Epoch 53/100\n",
      "604/604 - 5s - loss: 6.6480e-04 - root_mean_squared_error: 0.0258 - val_loss: 2.5097e-04 - val_root_mean_squared_error: 0.0158\n",
      "Epoch 54/100\n",
      "604/604 - 5s - loss: 6.6225e-04 - root_mean_squared_error: 0.0257 - val_loss: 2.3766e-04 - val_root_mean_squared_error: 0.0154\n",
      "Epoch 55/100\n",
      "604/604 - 5s - loss: 6.5989e-04 - root_mean_squared_error: 0.0257 - val_loss: 2.3003e-04 - val_root_mean_squared_error: 0.0152\n",
      "Epoch 56/100\n",
      "604/604 - 5s - loss: 6.5778e-04 - root_mean_squared_error: 0.0256 - val_loss: 2.6779e-04 - val_root_mean_squared_error: 0.0164\n",
      "Epoch 57/100\n",
      "604/604 - 5s - loss: 6.5840e-04 - root_mean_squared_error: 0.0257 - val_loss: 2.5643e-04 - val_root_mean_squared_error: 0.0160\n",
      "Epoch 58/100\n",
      "604/604 - 5s - loss: 6.5535e-04 - root_mean_squared_error: 0.0256 - val_loss: 2.5375e-04 - val_root_mean_squared_error: 0.0159\n",
      "Epoch 59/100\n",
      "604/604 - 5s - loss: 6.5473e-04 - root_mean_squared_error: 0.0256 - val_loss: 2.4178e-04 - val_root_mean_squared_error: 0.0155\n"
     ]
    },
    {
     "name": "stdout",
     "output_type": "stream",
     "text": [
      "Epoch 60/100\n",
      "604/604 - 5s - loss: 6.5278e-04 - root_mean_squared_error: 0.0255 - val_loss: 2.5125e-04 - val_root_mean_squared_error: 0.0159\n",
      "Epoch 61/100\n",
      "604/604 - 5s - loss: 6.5189e-04 - root_mean_squared_error: 0.0255 - val_loss: 2.4642e-04 - val_root_mean_squared_error: 0.0157\n",
      "Epoch 62/100\n",
      "604/604 - 5s - loss: 6.4907e-04 - root_mean_squared_error: 0.0255 - val_loss: 2.5063e-04 - val_root_mean_squared_error: 0.0158\n",
      "Epoch 63/100\n",
      "604/604 - 5s - loss: 6.4966e-04 - root_mean_squared_error: 0.0255 - val_loss: 2.2417e-04 - val_root_mean_squared_error: 0.0150\n",
      "Epoch 64/100\n",
      "604/604 - 5s - loss: 6.4763e-04 - root_mean_squared_error: 0.0254 - val_loss: 2.2475e-04 - val_root_mean_squared_error: 0.0150\n",
      "Epoch 65/100\n",
      "604/604 - 5s - loss: 6.4578e-04 - root_mean_squared_error: 0.0254 - val_loss: 2.3847e-04 - val_root_mean_squared_error: 0.0154\n",
      "Epoch 66/100\n",
      "604/604 - 5s - loss: 6.4483e-04 - root_mean_squared_error: 0.0254 - val_loss: 2.3295e-04 - val_root_mean_squared_error: 0.0153\n",
      "Epoch 67/100\n",
      "604/604 - 5s - loss: 6.4235e-04 - root_mean_squared_error: 0.0253 - val_loss: 2.3369e-04 - val_root_mean_squared_error: 0.0153\n",
      "Epoch 68/100\n",
      "604/604 - 5s - loss: 6.4159e-04 - root_mean_squared_error: 0.0253 - val_loss: 2.1117e-04 - val_root_mean_squared_error: 0.0145\n",
      "Epoch 69/100\n",
      "604/604 - 5s - loss: 6.3968e-04 - root_mean_squared_error: 0.0253 - val_loss: 2.4172e-04 - val_root_mean_squared_error: 0.0155\n",
      "Epoch 70/100\n",
      "604/604 - 5s - loss: 6.4028e-04 - root_mean_squared_error: 0.0253 - val_loss: 2.2374e-04 - val_root_mean_squared_error: 0.0150\n",
      "Epoch 71/100\n",
      "604/604 - 6s - loss: 6.3806e-04 - root_mean_squared_error: 0.0253 - val_loss: 2.3728e-04 - val_root_mean_squared_error: 0.0154\n",
      "Epoch 72/100\n",
      "604/604 - 5s - loss: 6.3618e-04 - root_mean_squared_error: 0.0252 - val_loss: 2.3030e-04 - val_root_mean_squared_error: 0.0152\n",
      "Epoch 73/100\n",
      "604/604 - 5s - loss: 6.3731e-04 - root_mean_squared_error: 0.0252 - val_loss: 2.2544e-04 - val_root_mean_squared_error: 0.0150\n",
      "Epoch 74/100\n",
      "604/604 - 5s - loss: 6.3290e-04 - root_mean_squared_error: 0.0252 - val_loss: 2.5802e-04 - val_root_mean_squared_error: 0.0161\n",
      "Epoch 75/100\n",
      "604/604 - 5s - loss: 6.3250e-04 - root_mean_squared_error: 0.0251 - val_loss: 2.2774e-04 - val_root_mean_squared_error: 0.0151\n",
      "Epoch 76/100\n",
      "604/604 - 5s - loss: 6.3388e-04 - root_mean_squared_error: 0.0252 - val_loss: 2.3039e-04 - val_root_mean_squared_error: 0.0152\n",
      "Epoch 77/100\n",
      "604/604 - 5s - loss: 6.2993e-04 - root_mean_squared_error: 0.0251 - val_loss: 2.5712e-04 - val_root_mean_squared_error: 0.0160\n",
      "Epoch 78/100\n",
      "604/604 - 5s - loss: 6.3018e-04 - root_mean_squared_error: 0.0251 - val_loss: 2.1877e-04 - val_root_mean_squared_error: 0.0148\n",
      "Epoch 79/100\n",
      "604/604 - 5s - loss: 6.2713e-04 - root_mean_squared_error: 0.0250 - val_loss: 2.2281e-04 - val_root_mean_squared_error: 0.0149\n",
      "Epoch 80/100\n",
      "604/604 - 5s - loss: 6.2670e-04 - root_mean_squared_error: 0.0250 - val_loss: 2.5429e-04 - val_root_mean_squared_error: 0.0159\n",
      "Epoch 81/100\n",
      "604/604 - 5s - loss: 6.2577e-04 - root_mean_squared_error: 0.0250 - val_loss: 2.3056e-04 - val_root_mean_squared_error: 0.0152\n",
      "Epoch 82/100\n",
      "604/604 - 5s - loss: 6.2479e-04 - root_mean_squared_error: 0.0250 - val_loss: 2.2035e-04 - val_root_mean_squared_error: 0.0148\n",
      "Epoch 83/100\n",
      "604/604 - 5s - loss: 6.2324e-04 - root_mean_squared_error: 0.0250 - val_loss: 2.2338e-04 - val_root_mean_squared_error: 0.0149\n",
      "Epoch 84/100\n",
      "604/604 - 5s - loss: 6.2302e-04 - root_mean_squared_error: 0.0250 - val_loss: 2.3429e-04 - val_root_mean_squared_error: 0.0153\n",
      "Epoch 85/100\n",
      "604/604 - 5s - loss: 6.2085e-04 - root_mean_squared_error: 0.0249 - val_loss: 2.2280e-04 - val_root_mean_squared_error: 0.0149\n",
      "Epoch 86/100\n",
      "604/604 - 5s - loss: 6.1928e-04 - root_mean_squared_error: 0.0249 - val_loss: 2.1947e-04 - val_root_mean_squared_error: 0.0148\n",
      "Epoch 87/100\n",
      "604/604 - 5s - loss: 6.1700e-04 - root_mean_squared_error: 0.0248 - val_loss: 2.3099e-04 - val_root_mean_squared_error: 0.0152\n",
      "Epoch 88/100\n",
      "604/604 - 5s - loss: 6.1863e-04 - root_mean_squared_error: 0.0249 - val_loss: 2.2964e-04 - val_root_mean_squared_error: 0.0152\n",
      "Epoch 89/100\n",
      "604/604 - 5s - loss: 6.1815e-04 - root_mean_squared_error: 0.0249 - val_loss: 2.3438e-04 - val_root_mean_squared_error: 0.0153\n",
      "Epoch 90/100\n",
      "604/604 - 5s - loss: 6.1368e-04 - root_mean_squared_error: 0.0248 - val_loss: 2.1744e-04 - val_root_mean_squared_error: 0.0147\n",
      "Epoch 91/100\n",
      "604/604 - 5s - loss: 6.1534e-04 - root_mean_squared_error: 0.0248 - val_loss: 2.1917e-04 - val_root_mean_squared_error: 0.0148\n",
      "Epoch 92/100\n",
      "604/604 - 5s - loss: 6.1176e-04 - root_mean_squared_error: 0.0247 - val_loss: 2.1005e-04 - val_root_mean_squared_error: 0.0145\n",
      "Epoch 93/100\n",
      "604/604 - 5s - loss: 6.1083e-04 - root_mean_squared_error: 0.0247 - val_loss: 2.0050e-04 - val_root_mean_squared_error: 0.0142\n",
      "Epoch 94/100\n",
      "604/604 - 5s - loss: 6.1072e-04 - root_mean_squared_error: 0.0247 - val_loss: 2.2614e-04 - val_root_mean_squared_error: 0.0150\n",
      "Epoch 95/100\n",
      "604/604 - 5s - loss: 6.0959e-04 - root_mean_squared_error: 0.0247 - val_loss: 2.0179e-04 - val_root_mean_squared_error: 0.0142\n",
      "Epoch 96/100\n",
      "604/604 - 5s - loss: 6.0841e-04 - root_mean_squared_error: 0.0247 - val_loss: 2.2315e-04 - val_root_mean_squared_error: 0.0149\n",
      "Epoch 97/100\n",
      "604/604 - 5s - loss: 6.0680e-04 - root_mean_squared_error: 0.0246 - val_loss: 2.3856e-04 - val_root_mean_squared_error: 0.0154\n",
      "Epoch 98/100\n",
      "604/604 - 5s - loss: 6.0692e-04 - root_mean_squared_error: 0.0246 - val_loss: 2.1258e-04 - val_root_mean_squared_error: 0.0146\n",
      "Epoch 99/100\n",
      "604/604 - 5s - loss: 6.0493e-04 - root_mean_squared_error: 0.0246 - val_loss: 2.0579e-04 - val_root_mean_squared_error: 0.0143\n",
      "Epoch 100/100\n",
      "604/604 - 5s - loss: 6.0429e-04 - root_mean_squared_error: 0.0246 - val_loss: 2.3875e-04 - val_root_mean_squared_error: 0.0155\n"
     ]
    }
   ],
   "source": [
    "import tensorflow as tf\n",
    "from tensorflow import keras\n",
    "from tensorflow.keras import layers\n",
    "from keras.layers import Input,LSTM,Dropout,Dense\n",
    "\n",
    "\n",
    "\n",
    "# create and fit the LSTM network\n",
    "\n",
    "model = keras.Sequential()\n",
    "model.add(LSTM(100,input_shape=(1,5),return_sequences=True))\n",
    "model.add(Dropout(0.2))\n",
    "model.add(LSTM(100,input_shape=(1,5),return_sequences=True))\n",
    "model.add(Dropout(0.2))\n",
    "model.add(LSTM(100,input_shape=(1,5),return_sequences=False))\n",
    "model.add(Dropout(0.2))\n",
    "model.add(Dense(5,activation='linear'))\n",
    "model.compile(optimizer='rmsprop',loss='mean_squared_error',metrics=[tf.keras.metrics.RootMeanSquaredError()])\n",
    "\n",
    "history = model.fit(train_X, train_Y, epochs=100, batch_size=512, verbose=2, validation_data=(test_X, test_Y))"
   ]
  },
  {
   "cell_type": "code",
   "execution_count": 10,
   "metadata": {},
   "outputs": [],
   "source": [
    "testPredict = model.predict(test_X)"
   ]
  },
  {
   "cell_type": "code",
   "execution_count": 11,
   "metadata": {},
   "outputs": [],
   "source": [
    "newtestPredict = scaler.inverse_transform(testPredict)\n",
    "newtest_Y = scaler.inverse_transform(test_Y)"
   ]
  },
  {
   "cell_type": "code",
   "execution_count": 12,
   "metadata": {},
   "outputs": [
    {
     "name": "stdout",
     "output_type": "stream",
     "text": [
      "Test Score: 0.45955 RMSE\n"
     ]
    }
   ],
   "source": [
    "testScore = sqrt(mean_squared_error(newtest_Y, newtestPredict))\n",
    "print('Test Score: %.5f RMSE' % (testScore))"
   ]
  },
  {
   "cell_type": "code",
   "execution_count": null,
   "metadata": {},
   "outputs": [],
   "source": []
  }
 ],
 "metadata": {
  "kernelspec": {
   "display_name": "Python 3",
   "language": "python",
   "name": "python3"
  },
  "language_info": {
   "codemirror_mode": {
    "name": "ipython",
    "version": 3
   },
   "file_extension": ".py",
   "mimetype": "text/x-python",
   "name": "python",
   "nbconvert_exporter": "python",
   "pygments_lexer": "ipython3",
   "version": "3.8.3"
  }
 },
 "nbformat": 4,
 "nbformat_minor": 4
}
