{
 "cells": [
  {
   "cell_type": "code",
   "execution_count": 1,
   "metadata": {},
   "outputs": [],
   "source": [
    "from test import EigenData\n",
    "import numpy as np\n",
    "import scipy.io\n",
    "import h5py\n",
    "from sklearn.preprocessing import MinMaxScaler\n",
    "from sklearn.metrics import mean_squared_error\n",
    "from math import sqrt\n",
    "import matplotlib.pyplot as plt\n",
    "from mpl_toolkits.axes_grid1 import make_axes_locatable\n",
    "import torch\n",
    "%matplotlib inline"
   ]
  },
  {
   "cell_type": "code",
   "execution_count": 2,
   "metadata": {},
   "outputs": [
    {
     "name": "stdout",
     "output_type": "stream",
     "text": [
      "b (5, 33600)\n",
      "(100, 5) (5, 33600)\n",
      "--> (100, 33600)\n",
      "c (5, 33600)\n",
      "(100, 5) (5, 33600)\n",
      "--> (100, 33600)\n",
      "d (5, 33600)\n",
      "(100, 5) (5, 33600)\n",
      "--> (100, 33600)\n",
      "e (5, 33600)\n",
      "(100, 5) (5, 33600)\n",
      "--> (100, 33600)\n",
      "f (5, 33600)\n",
      "(100, 5) (5, 33600)\n",
      "--> (100, 33600)\n",
      "g (6, 33600)\n",
      "(100, 6) (6, 33600)\n",
      "--> (100, 33600)\n",
      "h (5, 33600)\n",
      "(100, 5) (5, 33600)\n",
      "--> (100, 33600)\n",
      "i (6, 33600)\n",
      "(100, 6) (6, 33600)\n",
      "--> (100, 33600)\n",
      "j (5, 33600)\n",
      "(100, 5) (5, 33600)\n",
      "--> (100, 33600)\n",
      "k (5, 33600)\n",
      "(100, 5) (5, 33600)\n",
      "--> (100, 33600)\n",
      "l (5, 33600)\n",
      "(100, 5) (5, 33600)\n",
      "--> (100, 33600)\n",
      "m (5, 33600)\n",
      "(100, 5) (5, 33600)\n",
      "--> (100, 33600)\n",
      "(403200, 5)\n"
     ]
    }
   ],
   "source": [
    "data = EigenData()\n",
    "eigenworms = data.get_eigenworms('EigenWorms.mat')\n",
    "\n",
    "footage = data.get_footage('20150814-All-PNAS2011-DataStitched .mat')\n",
    "newdata = torch.rand(33600,5)\n",
    "for k in footage.keys():\n",
    "    print(k, footage[k].shape)\n",
    "    arr1=footage[k]\n",
    "\n",
    "    arr2=arr1[:5,]\n",
    "\n",
    "    r = data.reconstruct(footage[k])\n",
    "    print('-->', r.shape)\n",
    "    dataset1 = arr2.transpose()\n",
    "\n",
    "    newdata = np.concatenate((newdata,dataset1),axis=0)\n",
    "newdata = newdata[33600:,]\n",
    "print(newdata.shape)"
   ]
  },
  {
   "cell_type": "code",
   "execution_count": 3,
   "metadata": {},
   "outputs": [
    {
     "name": "stdout",
     "output_type": "stream",
     "text": [
      "(386422, 5)\n",
      "386422\n"
     ]
    }
   ],
   "source": [
    "data1=newdata[~np.isnan(newdata).any(axis=1)]\n",
    "\n",
    "data1 = data1.astype('float32')\n",
    "print(data1.shape)\n",
    "print(len(data1))"
   ]
  },
  {
   "cell_type": "code",
   "execution_count": 4,
   "metadata": {},
   "outputs": [],
   "source": [
    "def create_dataset(data,n_predictions,n_next):\n",
    "    \n",
    "   \n",
    "    dim = data.shape[1]\n",
    "    train_X, train_Y = [], []\n",
    "    for i in range(data.shape[0]-n_predictions-n_next-1):\n",
    "        a = data[i:(i+n_predictions),:]\n",
    "        train_X.append(a)\n",
    "        tempb = data[(i+n_predictions):(i+n_predictions+n_next),:]\n",
    "        b = []\n",
    "        for j in range(len(tempb)):\n",
    "            for k in range(dim):\n",
    "                b.append(tempb[j,k])\n",
    "        train_Y.append(b)\n",
    "    train_X = np.array(train_X,dtype='float64')\n",
    "    train_Y = np.array(train_Y,dtype='float64')\n",
    "\n",
    "    return train_X, train_Y"
   ]
  },
  {
   "cell_type": "code",
   "execution_count": 6,
   "metadata": {},
   "outputs": [
    {
     "name": "stdout",
     "output_type": "stream",
     "text": [
      "(386414, 5, 5)\n",
      "(386414, 10)\n"
     ]
    }
   ],
   "source": [
    "X, Y = create_dataset(data1,5,2)\n",
    "\n",
    "print(X.shape)\n",
    "print(Y.shape)"
   ]
  },
  {
   "cell_type": "code",
   "execution_count": 7,
   "metadata": {},
   "outputs": [],
   "source": [
    "scaler = MinMaxScaler(feature_range=(0, 1))\n",
    "data1 = scaler.fit_transform(data1)\n",
    "Y = scaler.fit_transform(Y)"
   ]
  },
  {
   "cell_type": "code",
   "execution_count": 8,
   "metadata": {},
   "outputs": [
    {
     "name": "stdout",
     "output_type": "stream",
     "text": [
      "(386414, 5, 5)\n",
      "(386414, 10)\n"
     ]
    }
   ],
   "source": [
    "data_X, data_Y = create_dataset(data1,5,2)\n",
    "\n",
    "print(data_X.shape)\n",
    "print(data_Y.shape)"
   ]
  },
  {
   "cell_type": "code",
   "execution_count": 9,
   "metadata": {},
   "outputs": [
    {
     "name": "stdout",
     "output_type": "stream",
     "text": [
      "(309131, 5, 5)\n",
      "(309131, 10)\n",
      "(77283, 5, 5)\n",
      "(77283, 10)\n"
     ]
    }
   ],
   "source": [
    "train_size = int(len(data_X) * 0.8)\n",
    "test_size = len(data_X) - train_size\n",
    "train_X = data_X[:train_size]\n",
    "train_Y = Y[:train_size]\n",
    "test_X = data_X[train_size:]\n",
    "test_Y = Y[train_size:]\n",
    "\n",
    "print(train_X.shape)\n",
    "print(train_Y.shape)\n",
    "print(test_X.shape)\n",
    "print(test_Y.shape)"
   ]
  },
  {
   "cell_type": "code",
   "execution_count": 10,
   "metadata": {},
   "outputs": [
    {
     "name": "stdout",
     "output_type": "stream",
     "text": [
      "Epoch 1/100\n",
      "604/604 - 32s - loss: 0.0102 - root_mean_squared_error: 0.1008 - val_loss: 0.0020 - val_root_mean_squared_error: 0.0446\n",
      "Epoch 2/100\n",
      "604/604 - 29s - loss: 0.0035 - root_mean_squared_error: 0.0588 - val_loss: 0.0011 - val_root_mean_squared_error: 0.0337\n",
      "Epoch 3/100\n",
      "604/604 - 28s - loss: 0.0020 - root_mean_squared_error: 0.0446 - val_loss: 8.0391e-04 - val_root_mean_squared_error: 0.0284\n",
      "Epoch 4/100\n",
      "604/604 - 28s - loss: 0.0014 - root_mean_squared_error: 0.0375 - val_loss: 4.4536e-04 - val_root_mean_squared_error: 0.0211\n",
      "Epoch 5/100\n",
      "604/604 - 28s - loss: 0.0011 - root_mean_squared_error: 0.0332 - val_loss: 3.9012e-04 - val_root_mean_squared_error: 0.0198\n",
      "Epoch 6/100\n",
      "604/604 - 28s - loss: 9.1118e-04 - root_mean_squared_error: 0.0302 - val_loss: 4.1910e-04 - val_root_mean_squared_error: 0.0205\n",
      "Epoch 7/100\n",
      "604/604 - 28s - loss: 7.8089e-04 - root_mean_squared_error: 0.0279 - val_loss: 3.3136e-04 - val_root_mean_squared_error: 0.0182\n",
      "Epoch 8/100\n",
      "604/604 - 27s - loss: 6.8643e-04 - root_mean_squared_error: 0.0262 - val_loss: 2.0582e-04 - val_root_mean_squared_error: 0.0143\n",
      "Epoch 9/100\n",
      "604/604 - 26s - loss: 6.1885e-04 - root_mean_squared_error: 0.0249 - val_loss: 2.6580e-04 - val_root_mean_squared_error: 0.0163\n",
      "Epoch 10/100\n",
      "604/604 - 26s - loss: 5.7253e-04 - root_mean_squared_error: 0.0239 - val_loss: 2.5877e-04 - val_root_mean_squared_error: 0.0161\n",
      "Epoch 11/100\n",
      "604/604 - 26s - loss: 5.3847e-04 - root_mean_squared_error: 0.0232 - val_loss: 2.0021e-04 - val_root_mean_squared_error: 0.0141\n",
      "Epoch 12/100\n",
      "604/604 - 26s - loss: 5.1708e-04 - root_mean_squared_error: 0.0227 - val_loss: 2.3617e-04 - val_root_mean_squared_error: 0.0154\n",
      "Epoch 13/100\n",
      "604/604 - 26s - loss: 5.0175e-04 - root_mean_squared_error: 0.0224 - val_loss: 2.5809e-04 - val_root_mean_squared_error: 0.0161\n",
      "Epoch 14/100\n",
      "604/604 - 26s - loss: 4.8962e-04 - root_mean_squared_error: 0.0221 - val_loss: 1.8767e-04 - val_root_mean_squared_error: 0.0137\n",
      "Epoch 15/100\n",
      "604/604 - 26s - loss: 4.7918e-04 - root_mean_squared_error: 0.0219 - val_loss: 1.5801e-04 - val_root_mean_squared_error: 0.0126\n",
      "Epoch 16/100\n",
      "604/604 - 26s - loss: 4.7200e-04 - root_mean_squared_error: 0.0217 - val_loss: 1.8718e-04 - val_root_mean_squared_error: 0.0137\n",
      "Epoch 17/100\n",
      "604/604 - 26s - loss: 4.6323e-04 - root_mean_squared_error: 0.0215 - val_loss: 1.9049e-04 - val_root_mean_squared_error: 0.0138\n",
      "Epoch 18/100\n",
      "604/604 - 26s - loss: 4.5599e-04 - root_mean_squared_error: 0.0214 - val_loss: 1.6119e-04 - val_root_mean_squared_error: 0.0127\n",
      "Epoch 19/100\n",
      "604/604 - 26s - loss: 4.5003e-04 - root_mean_squared_error: 0.0212 - val_loss: 1.5893e-04 - val_root_mean_squared_error: 0.0126\n",
      "Epoch 20/100\n",
      "604/604 - 27s - loss: 4.4322e-04 - root_mean_squared_error: 0.0211 - val_loss: 1.2256e-04 - val_root_mean_squared_error: 0.0111\n",
      "Epoch 21/100\n",
      "604/604 - 26s - loss: 4.3795e-04 - root_mean_squared_error: 0.0209 - val_loss: 1.1545e-04 - val_root_mean_squared_error: 0.0107\n",
      "Epoch 22/100\n",
      "604/604 - 26s - loss: 4.3299e-04 - root_mean_squared_error: 0.0208 - val_loss: 1.4534e-04 - val_root_mean_squared_error: 0.0121\n",
      "Epoch 23/100\n",
      "604/604 - 26s - loss: 4.2949e-04 - root_mean_squared_error: 0.0207 - val_loss: 1.3071e-04 - val_root_mean_squared_error: 0.0114\n",
      "Epoch 24/100\n",
      "604/604 - 26s - loss: 4.2425e-04 - root_mean_squared_error: 0.0206 - val_loss: 1.2915e-04 - val_root_mean_squared_error: 0.0114\n",
      "Epoch 25/100\n",
      "604/604 - 26s - loss: 4.1918e-04 - root_mean_squared_error: 0.0205 - val_loss: 9.9901e-05 - val_root_mean_squared_error: 0.0100\n",
      "Epoch 26/100\n",
      "604/604 - 26s - loss: 4.1710e-04 - root_mean_squared_error: 0.0204 - val_loss: 1.0628e-04 - val_root_mean_squared_error: 0.0103\n",
      "Epoch 27/100\n",
      "604/604 - 26s - loss: 4.1396e-04 - root_mean_squared_error: 0.0203 - val_loss: 1.1814e-04 - val_root_mean_squared_error: 0.0109\n",
      "Epoch 28/100\n",
      "604/604 - 26s - loss: 4.1118e-04 - root_mean_squared_error: 0.0203 - val_loss: 1.2624e-04 - val_root_mean_squared_error: 0.0112\n",
      "Epoch 29/100\n",
      "604/604 - 26s - loss: 4.0813e-04 - root_mean_squared_error: 0.0202 - val_loss: 1.0836e-04 - val_root_mean_squared_error: 0.0104\n",
      "Epoch 30/100\n",
      "604/604 - 26s - loss: 4.0449e-04 - root_mean_squared_error: 0.0201 - val_loss: 1.0534e-04 - val_root_mean_squared_error: 0.0103\n",
      "Epoch 31/100\n",
      "604/604 - 26s - loss: 4.0197e-04 - root_mean_squared_error: 0.0200 - val_loss: 7.9727e-05 - val_root_mean_squared_error: 0.0089\n",
      "Epoch 32/100\n",
      "604/604 - 26s - loss: 4.0067e-04 - root_mean_squared_error: 0.0200 - val_loss: 1.4118e-04 - val_root_mean_squared_error: 0.0119\n",
      "Epoch 33/100\n",
      "604/604 - 26s - loss: 3.9665e-04 - root_mean_squared_error: 0.0199 - val_loss: 1.3728e-04 - val_root_mean_squared_error: 0.0117\n",
      "Epoch 34/100\n",
      "604/604 - 26s - loss: 3.9489e-04 - root_mean_squared_error: 0.0199 - val_loss: 8.8188e-05 - val_root_mean_squared_error: 0.0094\n",
      "Epoch 35/100\n",
      "604/604 - 26s - loss: 3.9470e-04 - root_mean_squared_error: 0.0199 - val_loss: 1.0706e-04 - val_root_mean_squared_error: 0.0103\n",
      "Epoch 36/100\n",
      "604/604 - 26s - loss: 3.9107e-04 - root_mean_squared_error: 0.0198 - val_loss: 1.1054e-04 - val_root_mean_squared_error: 0.0105\n",
      "Epoch 37/100\n",
      "604/604 - 26s - loss: 3.8850e-04 - root_mean_squared_error: 0.0197 - val_loss: 1.0926e-04 - val_root_mean_squared_error: 0.0105\n",
      "Epoch 38/100\n",
      "604/604 - 26s - loss: 3.8688e-04 - root_mean_squared_error: 0.0197 - val_loss: 1.1861e-04 - val_root_mean_squared_error: 0.0109\n",
      "Epoch 39/100\n",
      "604/604 - 26s - loss: 3.8559e-04 - root_mean_squared_error: 0.0196 - val_loss: 9.1040e-05 - val_root_mean_squared_error: 0.0095\n",
      "Epoch 40/100\n",
      "604/604 - 26s - loss: 3.8494e-04 - root_mean_squared_error: 0.0196 - val_loss: 9.7522e-05 - val_root_mean_squared_error: 0.0099\n",
      "Epoch 41/100\n",
      "604/604 - 26s - loss: 3.8105e-04 - root_mean_squared_error: 0.0195 - val_loss: 7.9477e-05 - val_root_mean_squared_error: 0.0089\n",
      "Epoch 42/100\n",
      "604/604 - 27s - loss: 3.8047e-04 - root_mean_squared_error: 0.0195 - val_loss: 1.1729e-04 - val_root_mean_squared_error: 0.0108\n",
      "Epoch 43/100\n",
      "604/604 - 26s - loss: 3.7887e-04 - root_mean_squared_error: 0.0195 - val_loss: 7.4386e-05 - val_root_mean_squared_error: 0.0086\n",
      "Epoch 44/100\n",
      "604/604 - 26s - loss: 3.7793e-04 - root_mean_squared_error: 0.0194 - val_loss: 7.9978e-05 - val_root_mean_squared_error: 0.0089\n",
      "Epoch 45/100\n",
      "604/604 - 26s - loss: 3.7616e-04 - root_mean_squared_error: 0.0194 - val_loss: 1.0058e-04 - val_root_mean_squared_error: 0.0100\n",
      "Epoch 46/100\n",
      "604/604 - 26s - loss: 3.7560e-04 - root_mean_squared_error: 0.0194 - val_loss: 9.3725e-05 - val_root_mean_squared_error: 0.0097\n",
      "Epoch 47/100\n",
      "604/604 - 26s - loss: 3.7378e-04 - root_mean_squared_error: 0.0193 - val_loss: 8.3955e-05 - val_root_mean_squared_error: 0.0092\n",
      "Epoch 48/100\n",
      "604/604 - 26s - loss: 3.7216e-04 - root_mean_squared_error: 0.0193 - val_loss: 9.6494e-05 - val_root_mean_squared_error: 0.0098\n",
      "Epoch 49/100\n",
      "604/604 - 26s - loss: 3.7118e-04 - root_mean_squared_error: 0.0193 - val_loss: 1.0016e-04 - val_root_mean_squared_error: 0.0100\n",
      "Epoch 50/100\n",
      "604/604 - 25s - loss: 3.7063e-04 - root_mean_squared_error: 0.0193 - val_loss: 1.2041e-04 - val_root_mean_squared_error: 0.0110\n",
      "Epoch 51/100\n",
      "604/604 - 26s - loss: 3.6894e-04 - root_mean_squared_error: 0.0192 - val_loss: 7.4436e-05 - val_root_mean_squared_error: 0.0086\n",
      "Epoch 52/100\n",
      "604/604 - 26s - loss: 3.6896e-04 - root_mean_squared_error: 0.0192 - val_loss: 1.0591e-04 - val_root_mean_squared_error: 0.0103\n",
      "Epoch 53/100\n",
      "604/604 - 26s - loss: 3.6680e-04 - root_mean_squared_error: 0.0192 - val_loss: 9.5875e-05 - val_root_mean_squared_error: 0.0098\n",
      "Epoch 54/100\n",
      "604/604 - 26s - loss: 3.6528e-04 - root_mean_squared_error: 0.0191 - val_loss: 7.9860e-05 - val_root_mean_squared_error: 0.0089\n",
      "Epoch 55/100\n",
      "604/604 - 26s - loss: 3.6397e-04 - root_mean_squared_error: 0.0191 - val_loss: 8.4572e-05 - val_root_mean_squared_error: 0.0092\n",
      "Epoch 56/100\n",
      "604/604 - 26s - loss: 3.6338e-04 - root_mean_squared_error: 0.0191 - val_loss: 9.9171e-05 - val_root_mean_squared_error: 0.0100\n",
      "Epoch 57/100\n",
      "604/604 - 26s - loss: 3.6243e-04 - root_mean_squared_error: 0.0190 - val_loss: 8.9318e-05 - val_root_mean_squared_error: 0.0095\n",
      "Epoch 58/100\n",
      "604/604 - 26s - loss: 3.6121e-04 - root_mean_squared_error: 0.0190 - val_loss: 7.3120e-05 - val_root_mean_squared_error: 0.0086\n",
      "Epoch 59/100\n",
      "604/604 - 26s - loss: 3.6070e-04 - root_mean_squared_error: 0.0190 - val_loss: 8.0788e-05 - val_root_mean_squared_error: 0.0090\n"
     ]
    },
    {
     "name": "stdout",
     "output_type": "stream",
     "text": [
      "Epoch 60/100\n",
      "604/604 - 26s - loss: 3.6008e-04 - root_mean_squared_error: 0.0190 - val_loss: 7.3443e-05 - val_root_mean_squared_error: 0.0086\n",
      "Epoch 61/100\n",
      "604/604 - 26s - loss: 3.5826e-04 - root_mean_squared_error: 0.0189 - val_loss: 9.9016e-05 - val_root_mean_squared_error: 0.0100\n",
      "Epoch 62/100\n",
      "604/604 - 26s - loss: 3.5672e-04 - root_mean_squared_error: 0.0189 - val_loss: 1.0224e-04 - val_root_mean_squared_error: 0.0101\n",
      "Epoch 63/100\n",
      "604/604 - 26s - loss: 3.5733e-04 - root_mean_squared_error: 0.0189 - val_loss: 9.8434e-05 - val_root_mean_squared_error: 0.0099\n",
      "Epoch 64/100\n",
      "604/604 - 26s - loss: 3.5633e-04 - root_mean_squared_error: 0.0189 - val_loss: 8.6081e-05 - val_root_mean_squared_error: 0.0093\n",
      "Epoch 65/100\n",
      "604/604 - 26s - loss: 3.5490e-04 - root_mean_squared_error: 0.0188 - val_loss: 7.4846e-05 - val_root_mean_squared_error: 0.0087\n",
      "Epoch 66/100\n",
      "604/604 - 26s - loss: 3.5488e-04 - root_mean_squared_error: 0.0188 - val_loss: 8.1576e-05 - val_root_mean_squared_error: 0.0090\n",
      "Epoch 67/100\n",
      "604/604 - 26s - loss: 3.5444e-04 - root_mean_squared_error: 0.0188 - val_loss: 8.9436e-05 - val_root_mean_squared_error: 0.0095\n",
      "Epoch 68/100\n",
      "604/604 - 26s - loss: 3.5334e-04 - root_mean_squared_error: 0.0188 - val_loss: 9.4873e-05 - val_root_mean_squared_error: 0.0097\n",
      "Epoch 69/100\n",
      "604/604 - 26s - loss: 3.5171e-04 - root_mean_squared_error: 0.0188 - val_loss: 1.0817e-04 - val_root_mean_squared_error: 0.0104\n",
      "Epoch 70/100\n",
      "604/604 - 26s - loss: 3.5138e-04 - root_mean_squared_error: 0.0187 - val_loss: 9.6545e-05 - val_root_mean_squared_error: 0.0098\n",
      "Epoch 71/100\n",
      "604/604 - 26s - loss: 3.5060e-04 - root_mean_squared_error: 0.0187 - val_loss: 7.8907e-05 - val_root_mean_squared_error: 0.0089\n",
      "Epoch 72/100\n",
      "604/604 - 26s - loss: 3.4986e-04 - root_mean_squared_error: 0.0187 - val_loss: 9.4706e-05 - val_root_mean_squared_error: 0.0097\n",
      "Epoch 73/100\n",
      "604/604 - 26s - loss: 3.4902e-04 - root_mean_squared_error: 0.0187 - val_loss: 8.6564e-05 - val_root_mean_squared_error: 0.0093\n",
      "Epoch 74/100\n",
      "604/604 - 26s - loss: 3.4878e-04 - root_mean_squared_error: 0.0187 - val_loss: 7.4739e-05 - val_root_mean_squared_error: 0.0086\n",
      "Epoch 75/100\n",
      "604/604 - 26s - loss: 3.4731e-04 - root_mean_squared_error: 0.0186 - val_loss: 1.1060e-04 - val_root_mean_squared_error: 0.0105\n",
      "Epoch 76/100\n",
      "604/604 - 26s - loss: 3.4738e-04 - root_mean_squared_error: 0.0186 - val_loss: 9.6557e-05 - val_root_mean_squared_error: 0.0098\n",
      "Epoch 77/100\n",
      "604/604 - 26s - loss: 3.4670e-04 - root_mean_squared_error: 0.0186 - val_loss: 8.2335e-05 - val_root_mean_squared_error: 0.0091\n",
      "Epoch 78/100\n",
      "604/604 - 25s - loss: 3.4682e-04 - root_mean_squared_error: 0.0186 - val_loss: 7.8982e-05 - val_root_mean_squared_error: 0.0089\n",
      "Epoch 79/100\n",
      "604/604 - 26s - loss: 3.4536e-04 - root_mean_squared_error: 0.0186 - val_loss: 8.6902e-05 - val_root_mean_squared_error: 0.0093\n",
      "Epoch 80/100\n",
      "604/604 - 26s - loss: 3.4415e-04 - root_mean_squared_error: 0.0186 - val_loss: 8.9927e-05 - val_root_mean_squared_error: 0.0095\n",
      "Epoch 81/100\n",
      "604/604 - 26s - loss: 3.4320e-04 - root_mean_squared_error: 0.0185 - val_loss: 7.8660e-05 - val_root_mean_squared_error: 0.0089\n",
      "Epoch 82/100\n",
      "604/604 - 26s - loss: 3.4320e-04 - root_mean_squared_error: 0.0185 - val_loss: 8.3381e-05 - val_root_mean_squared_error: 0.0091\n",
      "Epoch 83/100\n",
      "604/604 - 26s - loss: 3.4339e-04 - root_mean_squared_error: 0.0185 - val_loss: 1.0354e-04 - val_root_mean_squared_error: 0.0102\n",
      "Epoch 84/100\n",
      "604/604 - 26s - loss: 3.4197e-04 - root_mean_squared_error: 0.0185 - val_loss: 7.1694e-05 - val_root_mean_squared_error: 0.0085\n",
      "Epoch 85/100\n",
      "604/604 - 26s - loss: 3.4136e-04 - root_mean_squared_error: 0.0185 - val_loss: 8.9257e-05 - val_root_mean_squared_error: 0.0094\n",
      "Epoch 86/100\n",
      "604/604 - 26s - loss: 3.4021e-04 - root_mean_squared_error: 0.0184 - val_loss: 7.6268e-05 - val_root_mean_squared_error: 0.0087\n",
      "Epoch 87/100\n",
      "604/604 - 26s - loss: 3.4094e-04 - root_mean_squared_error: 0.0185 - val_loss: 8.5823e-05 - val_root_mean_squared_error: 0.0093\n",
      "Epoch 88/100\n",
      "604/604 - 26s - loss: 3.4015e-04 - root_mean_squared_error: 0.0184 - val_loss: 8.4717e-05 - val_root_mean_squared_error: 0.0092\n",
      "Epoch 89/100\n",
      "604/604 - 26s - loss: 3.3997e-04 - root_mean_squared_error: 0.0184 - val_loss: 6.5224e-05 - val_root_mean_squared_error: 0.0081\n",
      "Epoch 90/100\n",
      "604/604 - 26s - loss: 3.3881e-04 - root_mean_squared_error: 0.0184 - val_loss: 6.8707e-05 - val_root_mean_squared_error: 0.0083\n",
      "Epoch 91/100\n",
      "604/604 - 26s - loss: 3.3742e-04 - root_mean_squared_error: 0.0184 - val_loss: 7.6697e-05 - val_root_mean_squared_error: 0.0088\n",
      "Epoch 92/100\n",
      "604/604 - 26s - loss: 3.3714e-04 - root_mean_squared_error: 0.0184 - val_loss: 6.6608e-05 - val_root_mean_squared_error: 0.0082\n",
      "Epoch 93/100\n",
      "604/604 - 26s - loss: 3.3727e-04 - root_mean_squared_error: 0.0184 - val_loss: 5.7268e-05 - val_root_mean_squared_error: 0.0076\n",
      "Epoch 94/100\n",
      "604/604 - 26s - loss: 3.3734e-04 - root_mean_squared_error: 0.0184 - val_loss: 8.3398e-05 - val_root_mean_squared_error: 0.0091\n",
      "Epoch 95/100\n",
      "604/604 - 26s - loss: 3.3614e-04 - root_mean_squared_error: 0.0183 - val_loss: 8.9242e-05 - val_root_mean_squared_error: 0.0094\n",
      "Epoch 96/100\n",
      "604/604 - 26s - loss: 3.3492e-04 - root_mean_squared_error: 0.0183 - val_loss: 6.7951e-05 - val_root_mean_squared_error: 0.0082\n",
      "Epoch 97/100\n",
      "604/604 - 26s - loss: 3.3436e-04 - root_mean_squared_error: 0.0183 - val_loss: 8.7317e-05 - val_root_mean_squared_error: 0.0093\n",
      "Epoch 98/100\n",
      "604/604 - 26s - loss: 3.3456e-04 - root_mean_squared_error: 0.0183 - val_loss: 9.1032e-05 - val_root_mean_squared_error: 0.0095\n",
      "Epoch 99/100\n",
      "604/604 - 26s - loss: 3.3406e-04 - root_mean_squared_error: 0.0183 - val_loss: 9.1953e-05 - val_root_mean_squared_error: 0.0096\n",
      "Epoch 100/100\n",
      "604/604 - 26s - loss: 3.3478e-04 - root_mean_squared_error: 0.0183 - val_loss: 5.8939e-05 - val_root_mean_squared_error: 0.0077\n"
     ]
    }
   ],
   "source": [
    "import tensorflow as tf\n",
    "from tensorflow import keras\n",
    "from tensorflow.keras import layers\n",
    "from keras.layers import Input,LSTM,Dropout,Dense\n",
    "\n",
    "\n",
    "timesteps = 5\n",
    "# create and fit the LSTM network\n",
    "\n",
    "model = keras.Sequential()\n",
    "model.add(LSTM(100,input_shape=(timesteps,5),return_sequences=True))\n",
    "model.add(Dropout(0.2))\n",
    "model.add(LSTM(100,input_shape=(timesteps,5),return_sequences=True))\n",
    "model.add(Dropout(0.2))\n",
    "model.add(LSTM(100,input_shape=(timesteps,5),return_sequences=False))\n",
    "model.add(Dropout(0.2))\n",
    "model.add(Dense(10,activation='linear'))\n",
    "model.compile(optimizer='rmsprop',loss='mean_squared_error',metrics=[tf.keras.metrics.RootMeanSquaredError()])\n",
    "\n",
    "history = model.fit(train_X, train_Y, epochs=100, batch_size=512, verbose=2, validation_data=(test_X, test_Y))"
   ]
  },
  {
   "cell_type": "code",
   "execution_count": 11,
   "metadata": {},
   "outputs": [],
   "source": [
    "testPredict = model.predict(test_X)"
   ]
  },
  {
   "cell_type": "code",
   "execution_count": 12,
   "metadata": {},
   "outputs": [],
   "source": [
    "newtestPredict = scaler.inverse_transform(testPredict)\n",
    "newtest_Y = scaler.inverse_transform(test_Y)"
   ]
  },
  {
   "cell_type": "code",
   "execution_count": 13,
   "metadata": {},
   "outputs": [
    {
     "name": "stdout",
     "output_type": "stream",
     "text": [
      "Test Score: 0.25440 RMSE\n"
     ]
    }
   ],
   "source": [
    "testScore = sqrt(mean_squared_error(newtest_Y, newtestPredict))\n",
    "print('Test Score: %.5f RMSE' % (testScore))"
   ]
  },
  {
   "cell_type": "code",
   "execution_count": null,
   "metadata": {},
   "outputs": [],
   "source": []
  }
 ],
 "metadata": {
  "kernelspec": {
   "display_name": "Python 3",
   "language": "python",
   "name": "python3"
  },
  "language_info": {
   "codemirror_mode": {
    "name": "ipython",
    "version": 3
   },
   "file_extension": ".py",
   "mimetype": "text/x-python",
   "name": "python",
   "nbconvert_exporter": "python",
   "pygments_lexer": "ipython3",
   "version": "3.8.3"
  }
 },
 "nbformat": 4,
 "nbformat_minor": 4
}
