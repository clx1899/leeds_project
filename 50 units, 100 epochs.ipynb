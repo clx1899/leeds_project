{
 "cells": [
  {
   "cell_type": "code",
   "execution_count": 1,
   "metadata": {},
   "outputs": [],
   "source": [
    "from test import EigenData\n",
    "import numpy as np\n",
    "import scipy.io\n",
    "import h5py\n",
    "from sklearn.preprocessing import MinMaxScaler\n",
    "from sklearn.metrics import mean_squared_error\n",
    "from math import sqrt\n",
    "import matplotlib.pyplot as plt\n",
    "from mpl_toolkits.axes_grid1 import make_axes_locatable\n",
    "import torch\n",
    "%matplotlib inline"
   ]
  },
  {
   "cell_type": "code",
   "execution_count": 2,
   "metadata": {},
   "outputs": [
    {
     "name": "stdout",
     "output_type": "stream",
     "text": [
      "b (5, 33600)\n",
      "(100, 5) (5, 33600)\n",
      "--> (100, 33600)\n",
      "c (5, 33600)\n",
      "(100, 5) (5, 33600)\n",
      "--> (100, 33600)\n",
      "d (5, 33600)\n",
      "(100, 5) (5, 33600)\n",
      "--> (100, 33600)\n",
      "e (5, 33600)\n",
      "(100, 5) (5, 33600)\n",
      "--> (100, 33600)\n",
      "f (5, 33600)\n",
      "(100, 5) (5, 33600)\n",
      "--> (100, 33600)\n",
      "g (6, 33600)\n",
      "(100, 6) (6, 33600)\n",
      "--> (100, 33600)\n",
      "h (5, 33600)\n",
      "(100, 5) (5, 33600)\n",
      "--> (100, 33600)\n",
      "i (6, 33600)\n",
      "(100, 6) (6, 33600)\n",
      "--> (100, 33600)\n",
      "j (5, 33600)\n",
      "(100, 5) (5, 33600)\n",
      "--> (100, 33600)\n",
      "k (5, 33600)\n",
      "(100, 5) (5, 33600)\n",
      "--> (100, 33600)\n",
      "l (5, 33600)\n",
      "(100, 5) (5, 33600)\n",
      "--> (100, 33600)\n",
      "m (5, 33600)\n",
      "(100, 5) (5, 33600)\n",
      "--> (100, 33600)\n",
      "(403200, 5)\n"
     ]
    }
   ],
   "source": [
    "data = EigenData()\n",
    "eigenworms = data.get_eigenworms('EigenWorms.mat')\n",
    "\n",
    "footage = data.get_footage('20150814-All-PNAS2011-DataStitched .mat')\n",
    "newdata = torch.rand(33600,5)\n",
    "for k in footage.keys():\n",
    "    print(k, footage[k].shape)\n",
    "    arr1=footage[k]\n",
    "\n",
    "    arr2=arr1[:5,]\n",
    "\n",
    "    r = data.reconstruct(footage[k])\n",
    "    print('-->', r.shape)\n",
    "    dataset1 = arr2.transpose()\n",
    "\n",
    "    newdata = np.concatenate((newdata,dataset1),axis=0)\n",
    "newdata = newdata[33600:,]\n",
    "print(newdata.shape)"
   ]
  },
  {
   "cell_type": "code",
   "execution_count": 3,
   "metadata": {},
   "outputs": [],
   "source": [
    "first_5_eigenworms = eigenworms[0:5,:]\n",
    "eig_worm_0 = eigenworms[0,:]\n",
    "eig_worm_1 = eigenworms[1,:]\n",
    "eig_worm_2 = eigenworms[2,:]\n",
    "eig_worm_3 = eigenworms[3,:]\n",
    "eig_worm_4 = eigenworms[4,:]"
   ]
  },
  {
   "cell_type": "code",
   "execution_count": 4,
   "metadata": {},
   "outputs": [
    {
     "name": "stdout",
     "output_type": "stream",
     "text": [
      "(386422, 5)\n",
      "386422\n"
     ]
    }
   ],
   "source": [
    "data1=newdata[~np.isnan(newdata).any(axis=1)]\n",
    "data1 = data1.astype('float32')\n",
    "print(data1.shape)\n",
    "print(len(data1))"
   ]
  },
  {
   "cell_type": "code",
   "execution_count": 5,
   "metadata": {},
   "outputs": [],
   "source": [
    "scaler = MinMaxScaler(feature_range=(0, 1))\n",
    "data1 = scaler.fit_transform(data1)"
   ]
  },
  {
   "cell_type": "code",
   "execution_count": 6,
   "metadata": {},
   "outputs": [],
   "source": [
    "def create_dataset(dataset, look_back=5):\n",
    "    dataX, dataY = [], []\n",
    "    for i in range(len(dataset) - look_back):\n",
    "        a = dataset[i:(i + look_back)]\n",
    "        dataX.append(a)\n",
    "        dataY.append(dataset[i + look_back])\n",
    "    return np.array(dataX), np.array(dataY)"
   ]
  },
  {
   "cell_type": "code",
   "execution_count": 7,
   "metadata": {},
   "outputs": [
    {
     "name": "stdout",
     "output_type": "stream",
     "text": [
      "(386417, 5, 5)\n",
      "(386417, 5)\n"
     ]
    }
   ],
   "source": [
    "data_X, data_Y = create_dataset(data1)\n",
    "\n",
    "print(data_X.shape)\n",
    "print(data_Y.shape)"
   ]
  },
  {
   "cell_type": "code",
   "execution_count": 8,
   "metadata": {},
   "outputs": [
    {
     "name": "stdout",
     "output_type": "stream",
     "text": [
      "(309133, 5, 5)\n",
      "(309133, 5)\n",
      "(77284, 5, 5)\n",
      "(77284, 5)\n"
     ]
    }
   ],
   "source": [
    "train_size = int(len(data_X) * 0.8)\n",
    "test_size = len(data_X) - train_size\n",
    "train_X = data_X[:train_size]\n",
    "train_Y = data_Y[:train_size]\n",
    "test_X = data_X[train_size:]\n",
    "test_Y = data_Y[train_size:]\n",
    "\n",
    "print(train_X.shape)\n",
    "print(train_Y.shape)\n",
    "print(test_X.shape)\n",
    "print(test_Y.shape)"
   ]
  },
  {
   "cell_type": "code",
   "execution_count": 9,
   "metadata": {},
   "outputs": [
    {
     "name": "stdout",
     "output_type": "stream",
     "text": [
      "Epoch 1/100\n",
      "604/604 - 22s - loss: 0.0127 - root_mean_squared_error: 0.1127 - val_loss: 0.0030 - val_root_mean_squared_error: 0.0546\n",
      "Epoch 2/100\n",
      "604/604 - 15s - loss: 0.0048 - root_mean_squared_error: 0.0692 - val_loss: 0.0016 - val_root_mean_squared_error: 0.0397\n",
      "Epoch 3/100\n",
      "604/604 - 15s - loss: 0.0028 - root_mean_squared_error: 0.0534 - val_loss: 0.0011 - val_root_mean_squared_error: 0.0334\n",
      "Epoch 4/100\n",
      "604/604 - 15s - loss: 0.0018 - root_mean_squared_error: 0.0421 - val_loss: 4.3814e-04 - val_root_mean_squared_error: 0.0209\n",
      "Epoch 5/100\n",
      "604/604 - 15s - loss: 0.0013 - root_mean_squared_error: 0.0359 - val_loss: 2.5846e-04 - val_root_mean_squared_error: 0.0161\n",
      "Epoch 6/100\n",
      "604/604 - 15s - loss: 0.0010 - root_mean_squared_error: 0.0322 - val_loss: 2.1921e-04 - val_root_mean_squared_error: 0.0148\n",
      "Epoch 7/100\n",
      "604/604 - 15s - loss: 9.0680e-04 - root_mean_squared_error: 0.0301 - val_loss: 2.5632e-04 - val_root_mean_squared_error: 0.0160\n",
      "Epoch 8/100\n",
      "604/604 - 15s - loss: 8.4470e-04 - root_mean_squared_error: 0.0291 - val_loss: 2.6994e-04 - val_root_mean_squared_error: 0.0164\n",
      "Epoch 9/100\n",
      "604/604 - 15s - loss: 8.1092e-04 - root_mean_squared_error: 0.0285 - val_loss: 1.5086e-04 - val_root_mean_squared_error: 0.0123\n",
      "Epoch 10/100\n",
      "604/604 - 15s - loss: 7.8821e-04 - root_mean_squared_error: 0.0281 - val_loss: 1.6297e-04 - val_root_mean_squared_error: 0.0128\n",
      "Epoch 11/100\n",
      "604/604 - 15s - loss: 7.6891e-04 - root_mean_squared_error: 0.0277 - val_loss: 1.5082e-04 - val_root_mean_squared_error: 0.0123\n",
      "Epoch 12/100\n",
      "604/604 - 15s - loss: 7.5920e-04 - root_mean_squared_error: 0.0276 - val_loss: 1.1781e-04 - val_root_mean_squared_error: 0.0109\n",
      "Epoch 13/100\n",
      "604/604 - 15s - loss: 7.4257e-04 - root_mean_squared_error: 0.0273 - val_loss: 1.4051e-04 - val_root_mean_squared_error: 0.0119\n",
      "Epoch 14/100\n",
      "604/604 - 15s - loss: 7.3308e-04 - root_mean_squared_error: 0.0271 - val_loss: 1.2024e-04 - val_root_mean_squared_error: 0.0110\n",
      "Epoch 15/100\n",
      "604/604 - 15s - loss: 7.2412e-04 - root_mean_squared_error: 0.0269 - val_loss: 1.2183e-04 - val_root_mean_squared_error: 0.0110\n",
      "Epoch 16/100\n",
      "604/604 - 15s - loss: 7.1510e-04 - root_mean_squared_error: 0.0267 - val_loss: 1.9648e-04 - val_root_mean_squared_error: 0.0140\n",
      "Epoch 17/100\n",
      "604/604 - 15s - loss: 7.0683e-04 - root_mean_squared_error: 0.0266 - val_loss: 1.6340e-04 - val_root_mean_squared_error: 0.0128\n",
      "Epoch 18/100\n",
      "604/604 - 15s - loss: 6.9904e-04 - root_mean_squared_error: 0.0264 - val_loss: 9.8857e-05 - val_root_mean_squared_error: 0.0099\n",
      "Epoch 19/100\n",
      "604/604 - 15s - loss: 6.9254e-04 - root_mean_squared_error: 0.0263 - val_loss: 1.1555e-04 - val_root_mean_squared_error: 0.0107\n",
      "Epoch 20/100\n",
      "604/604 - 15s - loss: 6.8427e-04 - root_mean_squared_error: 0.0262 - val_loss: 1.0798e-04 - val_root_mean_squared_error: 0.0104\n",
      "Epoch 21/100\n",
      "604/604 - 15s - loss: 6.7984e-04 - root_mean_squared_error: 0.0261 - val_loss: 1.1325e-04 - val_root_mean_squared_error: 0.0106\n",
      "Epoch 22/100\n",
      "604/604 - 15s - loss: 6.7420e-04 - root_mean_squared_error: 0.0260 - val_loss: 1.2494e-04 - val_root_mean_squared_error: 0.0112\n",
      "Epoch 23/100\n",
      "604/604 - 15s - loss: 6.6781e-04 - root_mean_squared_error: 0.0258 - val_loss: 1.1845e-04 - val_root_mean_squared_error: 0.0109\n",
      "Epoch 24/100\n",
      "604/604 - 15s - loss: 6.6307e-04 - root_mean_squared_error: 0.0258 - val_loss: 7.2481e-05 - val_root_mean_squared_error: 0.0085\n",
      "Epoch 25/100\n",
      "604/604 - 15s - loss: 6.5882e-04 - root_mean_squared_error: 0.0257 - val_loss: 1.2376e-04 - val_root_mean_squared_error: 0.0111\n",
      "Epoch 26/100\n",
      "604/604 - 15s - loss: 6.5473e-04 - root_mean_squared_error: 0.0256 - val_loss: 1.1172e-04 - val_root_mean_squared_error: 0.0106\n",
      "Epoch 27/100\n",
      "604/604 - 15s - loss: 6.4925e-04 - root_mean_squared_error: 0.0255 - val_loss: 9.8726e-05 - val_root_mean_squared_error: 0.0099\n",
      "Epoch 28/100\n",
      "604/604 - 15s - loss: 6.4730e-04 - root_mean_squared_error: 0.0254 - val_loss: 1.0692e-04 - val_root_mean_squared_error: 0.0103\n",
      "Epoch 29/100\n",
      "604/604 - 15s - loss: 6.4353e-04 - root_mean_squared_error: 0.0254 - val_loss: 1.0394e-04 - val_root_mean_squared_error: 0.0102\n",
      "Epoch 30/100\n",
      "604/604 - 15s - loss: 6.3968e-04 - root_mean_squared_error: 0.0253 - val_loss: 9.8175e-05 - val_root_mean_squared_error: 0.0099\n",
      "Epoch 31/100\n",
      "604/604 - 15s - loss: 6.3643e-04 - root_mean_squared_error: 0.0252 - val_loss: 1.0373e-04 - val_root_mean_squared_error: 0.0102\n",
      "Epoch 32/100\n",
      "604/604 - 15s - loss: 6.3381e-04 - root_mean_squared_error: 0.0252 - val_loss: 1.2121e-04 - val_root_mean_squared_error: 0.0110\n",
      "Epoch 33/100\n",
      "604/604 - 15s - loss: 6.3125e-04 - root_mean_squared_error: 0.0251 - val_loss: 9.6678e-05 - val_root_mean_squared_error: 0.0098\n",
      "Epoch 34/100\n",
      "604/604 - 15s - loss: 6.2683e-04 - root_mean_squared_error: 0.0250 - val_loss: 9.6494e-05 - val_root_mean_squared_error: 0.0098\n",
      "Epoch 35/100\n",
      "604/604 - 15s - loss: 6.2382e-04 - root_mean_squared_error: 0.0250 - val_loss: 7.5681e-05 - val_root_mean_squared_error: 0.0087\n",
      "Epoch 36/100\n",
      "604/604 - 15s - loss: 6.2171e-04 - root_mean_squared_error: 0.0249 - val_loss: 1.0267e-04 - val_root_mean_squared_error: 0.0101\n",
      "Epoch 37/100\n",
      "604/604 - 15s - loss: 6.1918e-04 - root_mean_squared_error: 0.0249 - val_loss: 8.9935e-05 - val_root_mean_squared_error: 0.0095\n",
      "Epoch 38/100\n",
      "604/604 - 15s - loss: 6.1515e-04 - root_mean_squared_error: 0.0248 - val_loss: 6.9548e-05 - val_root_mean_squared_error: 0.0083\n",
      "Epoch 39/100\n",
      "604/604 - 15s - loss: 6.1314e-04 - root_mean_squared_error: 0.0248 - val_loss: 1.2402e-04 - val_root_mean_squared_error: 0.0111\n",
      "Epoch 40/100\n",
      "604/604 - 15s - loss: 6.1164e-04 - root_mean_squared_error: 0.0247 - val_loss: 7.6808e-05 - val_root_mean_squared_error: 0.0088\n",
      "Epoch 41/100\n",
      "604/604 - 15s - loss: 6.0938e-04 - root_mean_squared_error: 0.0247 - val_loss: 1.0067e-04 - val_root_mean_squared_error: 0.0100\n",
      "Epoch 42/100\n",
      "604/604 - 15s - loss: 6.0572e-04 - root_mean_squared_error: 0.0246 - val_loss: 7.8452e-05 - val_root_mean_squared_error: 0.0089\n",
      "Epoch 43/100\n",
      "604/604 - 15s - loss: 6.0656e-04 - root_mean_squared_error: 0.0246 - val_loss: 7.7995e-05 - val_root_mean_squared_error: 0.0088\n",
      "Epoch 44/100\n",
      "604/604 - 15s - loss: 6.0410e-04 - root_mean_squared_error: 0.0246 - val_loss: 1.4992e-04 - val_root_mean_squared_error: 0.0122\n",
      "Epoch 45/100\n",
      "604/604 - 15s - loss: 6.0201e-04 - root_mean_squared_error: 0.0245 - val_loss: 8.2306e-05 - val_root_mean_squared_error: 0.0091\n",
      "Epoch 46/100\n",
      "604/604 - 15s - loss: 6.0263e-04 - root_mean_squared_error: 0.0245 - val_loss: 6.6989e-05 - val_root_mean_squared_error: 0.0082\n",
      "Epoch 47/100\n",
      "604/604 - 15s - loss: 5.9741e-04 - root_mean_squared_error: 0.0244 - val_loss: 1.0412e-04 - val_root_mean_squared_error: 0.0102\n",
      "Epoch 48/100\n",
      "604/604 - 15s - loss: 5.9699e-04 - root_mean_squared_error: 0.0244 - val_loss: 7.9082e-05 - val_root_mean_squared_error: 0.0089\n",
      "Epoch 49/100\n",
      "604/604 - 15s - loss: 5.9503e-04 - root_mean_squared_error: 0.0244 - val_loss: 7.0648e-05 - val_root_mean_squared_error: 0.0084\n",
      "Epoch 50/100\n",
      "604/604 - 15s - loss: 5.9352e-04 - root_mean_squared_error: 0.0244 - val_loss: 6.0964e-05 - val_root_mean_squared_error: 0.0078\n",
      "Epoch 51/100\n",
      "604/604 - 15s - loss: 5.9094e-04 - root_mean_squared_error: 0.0243 - val_loss: 9.4904e-05 - val_root_mean_squared_error: 0.0097\n",
      "Epoch 52/100\n",
      "604/604 - 15s - loss: 5.8845e-04 - root_mean_squared_error: 0.0243 - val_loss: 6.4039e-05 - val_root_mean_squared_error: 0.0080\n",
      "Epoch 53/100\n",
      "604/604 - 15s - loss: 5.8919e-04 - root_mean_squared_error: 0.0243 - val_loss: 6.1792e-05 - val_root_mean_squared_error: 0.0079\n",
      "Epoch 54/100\n",
      "604/604 - 15s - loss: 5.8679e-04 - root_mean_squared_error: 0.0242 - val_loss: 6.9885e-05 - val_root_mean_squared_error: 0.0084\n",
      "Epoch 55/100\n",
      "604/604 - 15s - loss: 5.8562e-04 - root_mean_squared_error: 0.0242 - val_loss: 7.5350e-05 - val_root_mean_squared_error: 0.0087\n",
      "Epoch 56/100\n",
      "604/604 - 15s - loss: 5.8258e-04 - root_mean_squared_error: 0.0241 - val_loss: 7.8412e-05 - val_root_mean_squared_error: 0.0089\n",
      "Epoch 57/100\n",
      "604/604 - 15s - loss: 5.8377e-04 - root_mean_squared_error: 0.0242 - val_loss: 7.1782e-05 - val_root_mean_squared_error: 0.0085\n",
      "Epoch 58/100\n",
      "604/604 - 15s - loss: 5.8112e-04 - root_mean_squared_error: 0.0241 - val_loss: 7.9025e-05 - val_root_mean_squared_error: 0.0089\n",
      "Epoch 59/100\n",
      "604/604 - 15s - loss: 5.7863e-04 - root_mean_squared_error: 0.0241 - val_loss: 6.7386e-05 - val_root_mean_squared_error: 0.0082\n"
     ]
    },
    {
     "name": "stdout",
     "output_type": "stream",
     "text": [
      "Epoch 60/100\n",
      "604/604 - 15s - loss: 5.7790e-04 - root_mean_squared_error: 0.0240 - val_loss: 7.3953e-05 - val_root_mean_squared_error: 0.0086\n",
      "Epoch 61/100\n",
      "604/604 - 15s - loss: 5.7706e-04 - root_mean_squared_error: 0.0240 - val_loss: 5.7724e-05 - val_root_mean_squared_error: 0.0076\n",
      "Epoch 62/100\n",
      "604/604 - 15s - loss: 5.7612e-04 - root_mean_squared_error: 0.0240 - val_loss: 7.9465e-05 - val_root_mean_squared_error: 0.0089\n",
      "Epoch 63/100\n",
      "604/604 - 15s - loss: 5.7380e-04 - root_mean_squared_error: 0.0240 - val_loss: 9.5672e-05 - val_root_mean_squared_error: 0.0098\n",
      "Epoch 64/100\n",
      "604/604 - 15s - loss: 5.7263e-04 - root_mean_squared_error: 0.0239 - val_loss: 7.5907e-05 - val_root_mean_squared_error: 0.0087\n",
      "Epoch 65/100\n",
      "604/604 - 15s - loss: 5.7162e-04 - root_mean_squared_error: 0.0239 - val_loss: 6.2802e-05 - val_root_mean_squared_error: 0.0079\n",
      "Epoch 66/100\n",
      "604/604 - 15s - loss: 5.7077e-04 - root_mean_squared_error: 0.0239 - val_loss: 1.0160e-04 - val_root_mean_squared_error: 0.0101\n",
      "Epoch 67/100\n",
      "604/604 - 15s - loss: 5.6841e-04 - root_mean_squared_error: 0.0238 - val_loss: 6.9883e-05 - val_root_mean_squared_error: 0.0084\n",
      "Epoch 68/100\n",
      "604/604 - 15s - loss: 5.6890e-04 - root_mean_squared_error: 0.0239 - val_loss: 5.9676e-05 - val_root_mean_squared_error: 0.0077\n",
      "Epoch 69/100\n",
      "604/604 - 15s - loss: 5.6586e-04 - root_mean_squared_error: 0.0238 - val_loss: 6.1773e-05 - val_root_mean_squared_error: 0.0079\n",
      "Epoch 70/100\n",
      "604/604 - 15s - loss: 5.6491e-04 - root_mean_squared_error: 0.0238 - val_loss: 1.1872e-04 - val_root_mean_squared_error: 0.0109\n",
      "Epoch 71/100\n",
      "604/604 - 15s - loss: 5.6492e-04 - root_mean_squared_error: 0.0238 - val_loss: 6.2226e-05 - val_root_mean_squared_error: 0.0079\n",
      "Epoch 72/100\n",
      "604/604 - 15s - loss: 5.6243e-04 - root_mean_squared_error: 0.0237 - val_loss: 7.4865e-05 - val_root_mean_squared_error: 0.0087\n",
      "Epoch 73/100\n",
      "604/604 - 15s - loss: 5.6112e-04 - root_mean_squared_error: 0.0237 - val_loss: 6.7686e-05 - val_root_mean_squared_error: 0.0082\n",
      "Epoch 74/100\n",
      "604/604 - 15s - loss: 5.5957e-04 - root_mean_squared_error: 0.0237 - val_loss: 6.8374e-05 - val_root_mean_squared_error: 0.0083\n",
      "Epoch 75/100\n",
      "604/604 - 15s - loss: 5.5869e-04 - root_mean_squared_error: 0.0236 - val_loss: 7.2167e-05 - val_root_mean_squared_error: 0.0085\n",
      "Epoch 76/100\n",
      "604/604 - 15s - loss: 5.5746e-04 - root_mean_squared_error: 0.0236 - val_loss: 9.5241e-05 - val_root_mean_squared_error: 0.0098\n",
      "Epoch 77/100\n",
      "604/604 - 15s - loss: 5.5629e-04 - root_mean_squared_error: 0.0236 - val_loss: 7.4079e-05 - val_root_mean_squared_error: 0.0086\n",
      "Epoch 78/100\n",
      "604/604 - 16s - loss: 5.5364e-04 - root_mean_squared_error: 0.0235 - val_loss: 6.0734e-05 - val_root_mean_squared_error: 0.0078\n",
      "Epoch 79/100\n",
      "604/604 - 15s - loss: 5.5444e-04 - root_mean_squared_error: 0.0235 - val_loss: 6.6523e-05 - val_root_mean_squared_error: 0.0082\n",
      "Epoch 80/100\n",
      "604/604 - 15s - loss: 5.5310e-04 - root_mean_squared_error: 0.0235 - val_loss: 5.5118e-05 - val_root_mean_squared_error: 0.0074\n",
      "Epoch 81/100\n",
      "604/604 - 15s - loss: 5.5185e-04 - root_mean_squared_error: 0.0235 - val_loss: 6.9049e-05 - val_root_mean_squared_error: 0.0083\n",
      "Epoch 82/100\n",
      "604/604 - 15s - loss: 5.5092e-04 - root_mean_squared_error: 0.0235 - val_loss: 7.3096e-05 - val_root_mean_squared_error: 0.0085\n",
      "Epoch 83/100\n",
      "604/604 - 15s - loss: 5.5029e-04 - root_mean_squared_error: 0.0235 - val_loss: 6.1485e-05 - val_root_mean_squared_error: 0.0078\n",
      "Epoch 84/100\n",
      "604/604 - 15s - loss: 5.5031e-04 - root_mean_squared_error: 0.0235 - val_loss: 1.0298e-04 - val_root_mean_squared_error: 0.0101\n",
      "Epoch 85/100\n",
      "604/604 - 15s - loss: 5.4878e-04 - root_mean_squared_error: 0.0234 - val_loss: 6.3465e-05 - val_root_mean_squared_error: 0.0080\n",
      "Epoch 86/100\n",
      "604/604 - 15s - loss: 5.4828e-04 - root_mean_squared_error: 0.0234 - val_loss: 7.4629e-05 - val_root_mean_squared_error: 0.0086\n",
      "Epoch 87/100\n",
      "604/604 - 15s - loss: 5.4695e-04 - root_mean_squared_error: 0.0234 - val_loss: 5.7428e-05 - val_root_mean_squared_error: 0.0076\n",
      "Epoch 88/100\n",
      "604/604 - 15s - loss: 5.4484e-04 - root_mean_squared_error: 0.0233 - val_loss: 5.3245e-05 - val_root_mean_squared_error: 0.0073\n",
      "Epoch 89/100\n",
      "604/604 - 15s - loss: 5.4376e-04 - root_mean_squared_error: 0.0233 - val_loss: 6.5295e-05 - val_root_mean_squared_error: 0.0081\n",
      "Epoch 90/100\n",
      "604/604 - 15s - loss: 5.4466e-04 - root_mean_squared_error: 0.0233 - val_loss: 7.0879e-05 - val_root_mean_squared_error: 0.0084\n",
      "Epoch 91/100\n",
      "604/604 - 15s - loss: 5.4195e-04 - root_mean_squared_error: 0.0233 - val_loss: 6.1204e-05 - val_root_mean_squared_error: 0.0078\n",
      "Epoch 92/100\n",
      "604/604 - 15s - loss: 5.4199e-04 - root_mean_squared_error: 0.0233 - val_loss: 5.4689e-05 - val_root_mean_squared_error: 0.0074\n",
      "Epoch 93/100\n",
      "604/604 - 15s - loss: 5.3935e-04 - root_mean_squared_error: 0.0232 - val_loss: 6.1360e-05 - val_root_mean_squared_error: 0.0078\n",
      "Epoch 94/100\n",
      "604/604 - 15s - loss: 5.4039e-04 - root_mean_squared_error: 0.0232 - val_loss: 7.9502e-05 - val_root_mean_squared_error: 0.0089\n",
      "Epoch 95/100\n",
      "604/604 - 15s - loss: 5.3936e-04 - root_mean_squared_error: 0.0232 - val_loss: 5.8140e-05 - val_root_mean_squared_error: 0.0076\n",
      "Epoch 96/100\n",
      "604/604 - 15s - loss: 5.3787e-04 - root_mean_squared_error: 0.0232 - val_loss: 5.9919e-05 - val_root_mean_squared_error: 0.0077\n",
      "Epoch 97/100\n",
      "604/604 - 15s - loss: 5.3622e-04 - root_mean_squared_error: 0.0232 - val_loss: 6.1563e-05 - val_root_mean_squared_error: 0.0078\n",
      "Epoch 98/100\n",
      "604/604 - 15s - loss: 5.3475e-04 - root_mean_squared_error: 0.0231 - val_loss: 6.5092e-05 - val_root_mean_squared_error: 0.0081\n",
      "Epoch 99/100\n",
      "604/604 - 15s - loss: 5.3342e-04 - root_mean_squared_error: 0.0231 - val_loss: 7.0635e-05 - val_root_mean_squared_error: 0.0084\n",
      "Epoch 100/100\n",
      "604/604 - 15s - loss: 5.3355e-04 - root_mean_squared_error: 0.0231 - val_loss: 6.0657e-05 - val_root_mean_squared_error: 0.0078\n"
     ]
    }
   ],
   "source": [
    "import tensorflow as tf\n",
    "from tensorflow import keras\n",
    "from tensorflow.keras import layers\n",
    "from keras.layers import Input,LSTM,Dropout,Dense\n",
    "\n",
    "\n",
    "\n",
    "# create and fit the LSTM network\n",
    "\n",
    "model = keras.Sequential()\n",
    "model.add(LSTM(50,input_shape=(5,5),return_sequences=True))\n",
    "model.add(Dropout(0.2))\n",
    "model.add(LSTM(50,input_shape=(5,5),return_sequences=True))\n",
    "model.add(Dropout(0.2))\n",
    "model.add(LSTM(50,input_shape=(5,5),return_sequences=True))\n",
    "model.add(Dropout(0.2))\n",
    "model.add(LSTM(50,input_shape=(5,5),return_sequences=False))\n",
    "model.add(Dropout(0.2))\n",
    "model.add(Dense(5,activation='linear'))\n",
    "model.compile(optimizer='rmsprop',loss='mean_squared_error',metrics=[tf.keras.metrics.RootMeanSquaredError()])\n",
    "\n",
    "history = model.fit(train_X, train_Y, epochs=100, batch_size=512, verbose=2, validation_data=(test_X, test_Y))"
   ]
  },
  {
   "cell_type": "code",
   "execution_count": 10,
   "metadata": {},
   "outputs": [
    {
     "data": {
      "image/png": "[encoded data removed]",
      "text/plain": [
       "<Figure size 432x288 with 1 Axes>"
      ]
     },
     "metadata": {
      "needs_background": "light"
     },
     "output_type": "display_data"
    }
   ],
   "source": [
    "epochs=range(len(history.history['loss']))\n",
    "plt.figure()\n",
    "plt.plot(epochs,history.history['loss'],'b',label='Training loss')\n",
    "plt.plot(epochs,history.history['val_loss'],'r',label='Test loss')\n",
    "plt.title('Training and Test loss')\n",
    "plt.legend()\n",
    "plt.show()"
   ]
  },
  {
   "cell_type": "code",
   "execution_count": 11,
   "metadata": {},
   "outputs": [
    {
     "data": {
      "image/png": "[encoded data removed]",
      "text/plain": [
       "<Figure size 432x288 with 1 Axes>"
      ]
     },
     "metadata": {
      "needs_background": "light"
     },
     "output_type": "display_data"
    }
   ],
   "source": [
    "epochs=range(len(history.history['root_mean_squared_error']))\n",
    "plt.figure()\n",
    "plt.plot(epochs,history.history['root_mean_squared_error'],'b',label='Training rmse')\n",
    "plt.plot(epochs,history.history['val_root_mean_squared_error'],'r',label='Test rmse')\n",
    "plt.title('Training and Test rmse')\n",
    "plt.legend()\n",
    "plt.show()"
   ]
  },
  {
   "cell_type": "code",
   "execution_count": 12,
   "metadata": {},
   "outputs": [],
   "source": [
    "testPredict = model.predict(test_X)"
   ]
  },
  {
   "cell_type": "code",
   "execution_count": 15,
   "metadata": {},
   "outputs": [],
   "source": [
    "newtestPredict = scaler.inverse_transform(testPredict)\n",
    "newtest_Y = scaler.inverse_transform(test_Y)"
   ]
  },
  {
   "cell_type": "code",
   "execution_count": 16,
   "metadata": {},
   "outputs": [
    {
     "name": "stdout",
     "output_type": "stream",
     "text": [
      "Test Score: 0.28337 RMSE\n"
     ]
    }
   ],
   "source": [
    "testScore = sqrt(mean_squared_error(newtest_Y, newtestPredict))\n",
    "print('Test Score: %.5f RMSE' % (testScore))"
   ]
  },
  {
   "cell_type": "code",
   "execution_count": null,
   "metadata": {},
   "outputs": [],
   "source": []
  }
 ],
 "metadata": {
  "kernelspec": {
   "display_name": "Python 3",
   "language": "python",
   "name": "python3"
  },
  "language_info": {
   "codemirror_mode": {
    "name": "ipython",
    "version": 3
   },
   "file_extension": ".py",
   "mimetype": "text/x-python",
   "name": "python",
   "nbconvert_exporter": "python",
   "pygments_lexer": "ipython3",
   "version": "3.8.3"
  }
 },
 "nbformat": 4,
 "nbformat_minor": 4
}
