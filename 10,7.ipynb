{
 "cells": [
  {
   "cell_type": "code",
   "execution_count": 1,
   "metadata": {},
   "outputs": [],
   "source": [
    "from test import EigenData\n",
    "import numpy as np\n",
    "import scipy.io\n",
    "import h5py\n",
    "from sklearn.preprocessing import MinMaxScaler\n",
    "from sklearn.metrics import mean_squared_error\n",
    "from math import sqrt\n",
    "import matplotlib.pyplot as plt\n",
    "from mpl_toolkits.axes_grid1 import make_axes_locatable\n",
    "import torch\n",
    "%matplotlib inline"
   ]
  },
  {
   "cell_type": "code",
   "execution_count": 2,
   "metadata": {},
   "outputs": [
    {
     "name": "stdout",
     "output_type": "stream",
     "text": [
      "b (5, 33600)\n",
      "(100, 5) (5, 33600)\n",
      "--> (100, 33600)\n",
      "c (5, 33600)\n",
      "(100, 5) (5, 33600)\n",
      "--> (100, 33600)\n",
      "d (5, 33600)\n",
      "(100, 5) (5, 33600)\n",
      "--> (100, 33600)\n",
      "e (5, 33600)\n",
      "(100, 5) (5, 33600)\n",
      "--> (100, 33600)\n",
      "f (5, 33600)\n",
      "(100, 5) (5, 33600)\n",
      "--> (100, 33600)\n",
      "g (6, 33600)\n",
      "(100, 6) (6, 33600)\n",
      "--> (100, 33600)\n",
      "h (5, 33600)\n",
      "(100, 5) (5, 33600)\n",
      "--> (100, 33600)\n",
      "i (6, 33600)\n",
      "(100, 6) (6, 33600)\n",
      "--> (100, 33600)\n",
      "j (5, 33600)\n",
      "(100, 5) (5, 33600)\n",
      "--> (100, 33600)\n",
      "k (5, 33600)\n",
      "(100, 5) (5, 33600)\n",
      "--> (100, 33600)\n",
      "l (5, 33600)\n",
      "(100, 5) (5, 33600)\n",
      "--> (100, 33600)\n",
      "m (5, 33600)\n",
      "(100, 5) (5, 33600)\n",
      "--> (100, 33600)\n",
      "(403200, 5)\n"
     ]
    }
   ],
   "source": [
    "data = EigenData()\n",
    "eigenworms = data.get_eigenworms('EigenWorms.mat')\n",
    "\n",
    "footage = data.get_footage('20150814-All-PNAS2011-DataStitched .mat')\n",
    "newdata = torch.rand(33600,5)\n",
    "for k in footage.keys():\n",
    "    print(k, footage[k].shape)\n",
    "    arr1=footage[k]\n",
    "\n",
    "    arr2=arr1[:5,]\n",
    "\n",
    "    r = data.reconstruct(footage[k])\n",
    "    print('-->', r.shape)\n",
    "    dataset1 = arr2.transpose()\n",
    "\n",
    "    newdata = np.concatenate((newdata,dataset1),axis=0)\n",
    "newdata = newdata[33600:,]\n",
    "print(newdata.shape)"
   ]
  },
  {
   "cell_type": "code",
   "execution_count": 3,
   "metadata": {},
   "outputs": [
    {
     "name": "stdout",
     "output_type": "stream",
     "text": [
      "(386422, 5)\n",
      "386422\n"
     ]
    }
   ],
   "source": [
    "data1=newdata[~np.isnan(newdata).any(axis=1)]\n",
    "\n",
    "data1 = data1.astype('float32')\n",
    "print(data1.shape)\n",
    "print(len(data1))"
   ]
  },
  {
   "cell_type": "code",
   "execution_count": 4,
   "metadata": {},
   "outputs": [],
   "source": [
    "def create_dataset(data,n_predictions,n_next):\n",
    "    \n",
    "   \n",
    "    dim = data.shape[1]\n",
    "    train_X, train_Y = [], []\n",
    "    for i in range(data.shape[0]-n_predictions-n_next-1):\n",
    "        a = data[i:(i+n_predictions),:]\n",
    "        train_X.append(a)\n",
    "        tempb = data[(i+n_predictions):(i+n_predictions+n_next),:]\n",
    "        b = []\n",
    "        for j in range(len(tempb)):\n",
    "            for k in range(dim):\n",
    "                b.append(tempb[j,k])\n",
    "        train_Y.append(b)\n",
    "    train_X = np.array(train_X,dtype='float64')\n",
    "    train_Y = np.array(train_Y,dtype='float64')\n",
    "\n",
    "    return train_X, train_Y"
   ]
  },
  {
   "cell_type": "code",
   "execution_count": 5,
   "metadata": {},
   "outputs": [
    {
     "name": "stdout",
     "output_type": "stream",
     "text": [
      "(386404, 10, 5)\n",
      "(386404, 35)\n"
     ]
    }
   ],
   "source": [
    "X, Y = create_dataset(data1,10,7)\n",
    "\n",
    "print(X.shape)\n",
    "print(Y.shape)"
   ]
  },
  {
   "cell_type": "code",
   "execution_count": 6,
   "metadata": {},
   "outputs": [],
   "source": [
    "scaler = MinMaxScaler(feature_range=(0, 1))\n",
    "data1 = scaler.fit_transform(data1)\n",
    "Y = scaler.fit_transform(Y)"
   ]
  },
  {
   "cell_type": "code",
   "execution_count": 7,
   "metadata": {},
   "outputs": [
    {
     "name": "stdout",
     "output_type": "stream",
     "text": [
      "(386404, 10, 5)\n",
      "(386404, 35)\n"
     ]
    }
   ],
   "source": [
    "data_X, data_Y = create_dataset(data1,10,7)\n",
    "\n",
    "print(data_X.shape)\n",
    "print(data_Y.shape)"
   ]
  },
  {
   "cell_type": "code",
   "execution_count": 8,
   "metadata": {},
   "outputs": [
    {
     "name": "stdout",
     "output_type": "stream",
     "text": [
      "(309123, 10, 5)\n",
      "(309123, 35)\n",
      "(77281, 10, 5)\n",
      "(77281, 35)\n"
     ]
    }
   ],
   "source": [
    "train_size = int(len(data_X) * 0.8)\n",
    "test_size = len(data_X) - train_size\n",
    "train_X = data_X[:train_size]\n",
    "train_Y = Y[:train_size]\n",
    "test_X = data_X[train_size:]\n",
    "test_Y = Y[train_size:]\n",
    "\n",
    "print(train_X.shape)\n",
    "print(train_Y.shape)\n",
    "print(test_X.shape)\n",
    "print(test_Y.shape)"
   ]
  },
  {
   "cell_type": "code",
   "execution_count": 9,
   "metadata": {},
   "outputs": [
    {
     "name": "stdout",
     "output_type": "stream",
     "text": [
      "Epoch 1/100\n",
      "604/604 - 62s - loss: 0.0139 - root_mean_squared_error: 0.1178 - val_loss: 0.0052 - val_root_mean_squared_error: 0.0719\n",
      "Epoch 2/100\n",
      "604/604 - 56s - loss: 0.0049 - root_mean_squared_error: 0.0699 - val_loss: 0.0022 - val_root_mean_squared_error: 0.0467\n",
      "Epoch 3/100\n",
      "604/604 - 56s - loss: 0.0033 - root_mean_squared_error: 0.0572 - val_loss: 0.0016 - val_root_mean_squared_error: 0.0401\n",
      "Epoch 4/100\n",
      "604/604 - 55s - loss: 0.0025 - root_mean_squared_error: 0.0503 - val_loss: 0.0016 - val_root_mean_squared_error: 0.0401\n",
      "Epoch 5/100\n",
      "604/604 - 56s - loss: 0.0021 - root_mean_squared_error: 0.0460 - val_loss: 0.0013 - val_root_mean_squared_error: 0.0363\n",
      "Epoch 6/100\n",
      "604/604 - 56s - loss: 0.0018 - root_mean_squared_error: 0.0429 - val_loss: 9.7863e-04 - val_root_mean_squared_error: 0.0313\n",
      "Epoch 7/100\n",
      "604/604 - 56s - loss: 0.0016 - root_mean_squared_error: 0.0406 - val_loss: 8.8980e-04 - val_root_mean_squared_error: 0.0298\n",
      "Epoch 8/100\n",
      "604/604 - 56s - loss: 0.0015 - root_mean_squared_error: 0.0388 - val_loss: 9.0627e-04 - val_root_mean_squared_error: 0.0301\n",
      "Epoch 9/100\n",
      "604/604 - 56s - loss: 0.0014 - root_mean_squared_error: 0.0374 - val_loss: 8.7283e-04 - val_root_mean_squared_error: 0.0295\n",
      "Epoch 10/100\n",
      "604/604 - 57s - loss: 0.0013 - root_mean_squared_error: 0.0364 - val_loss: 7.4297e-04 - val_root_mean_squared_error: 0.0273\n",
      "Epoch 11/100\n",
      "604/604 - 56s - loss: 0.0013 - root_mean_squared_error: 0.0357 - val_loss: 6.9172e-04 - val_root_mean_squared_error: 0.0263\n",
      "Epoch 12/100\n",
      "604/604 - 56s - loss: 0.0012 - root_mean_squared_error: 0.0351 - val_loss: 7.7549e-04 - val_root_mean_squared_error: 0.0278\n",
      "Epoch 13/100\n",
      "604/604 - 56s - loss: 0.0012 - root_mean_squared_error: 0.0346 - val_loss: 7.9527e-04 - val_root_mean_squared_error: 0.0282\n",
      "Epoch 14/100\n",
      "604/604 - 55s - loss: 0.0012 - root_mean_squared_error: 0.0342 - val_loss: 7.0909e-04 - val_root_mean_squared_error: 0.0266\n",
      "Epoch 15/100\n",
      "604/604 - 56s - loss: 0.0011 - root_mean_squared_error: 0.0339 - val_loss: 6.6782e-04 - val_root_mean_squared_error: 0.0258\n",
      "Epoch 16/100\n",
      "604/604 - 55s - loss: 0.0011 - root_mean_squared_error: 0.0336 - val_loss: 6.8057e-04 - val_root_mean_squared_error: 0.0261\n",
      "Epoch 17/100\n",
      "604/604 - 55s - loss: 0.0011 - root_mean_squared_error: 0.0333 - val_loss: 6.3002e-04 - val_root_mean_squared_error: 0.0251\n",
      "Epoch 18/100\n",
      "604/604 - 54s - loss: 0.0011 - root_mean_squared_error: 0.0332 - val_loss: 6.9657e-04 - val_root_mean_squared_error: 0.0264\n",
      "Epoch 19/100\n",
      "604/604 - 58s - loss: 0.0011 - root_mean_squared_error: 0.0329 - val_loss: 6.2055e-04 - val_root_mean_squared_error: 0.0249\n",
      "Epoch 20/100\n",
      "604/604 - 56s - loss: 0.0011 - root_mean_squared_error: 0.0327 - val_loss: 6.0132e-04 - val_root_mean_squared_error: 0.0245\n",
      "Epoch 21/100\n",
      "604/604 - 57s - loss: 0.0011 - root_mean_squared_error: 0.0325 - val_loss: 6.2077e-04 - val_root_mean_squared_error: 0.0249\n",
      "Epoch 22/100\n",
      "604/604 - 57s - loss: 0.0010 - root_mean_squared_error: 0.0324 - val_loss: 6.9789e-04 - val_root_mean_squared_error: 0.0264\n",
      "Epoch 23/100\n",
      "604/604 - 56s - loss: 0.0010 - root_mean_squared_error: 0.0322 - val_loss: 6.0300e-04 - val_root_mean_squared_error: 0.0246\n",
      "Epoch 24/100\n",
      "604/604 - 55s - loss: 0.0010 - root_mean_squared_error: 0.0321 - val_loss: 6.1062e-04 - val_root_mean_squared_error: 0.0247\n",
      "Epoch 25/100\n",
      "604/604 - 56s - loss: 0.0010 - root_mean_squared_error: 0.0320 - val_loss: 6.1779e-04 - val_root_mean_squared_error: 0.0249\n",
      "Epoch 26/100\n",
      "604/604 - 57s - loss: 0.0010 - root_mean_squared_error: 0.0318 - val_loss: 6.2483e-04 - val_root_mean_squared_error: 0.0250\n",
      "Epoch 27/100\n",
      "604/604 - 61s - loss: 0.0010 - root_mean_squared_error: 0.0318 - val_loss: 5.9618e-04 - val_root_mean_squared_error: 0.0244\n",
      "Epoch 28/100\n",
      "604/604 - 62s - loss: 0.0010 - root_mean_squared_error: 0.0316 - val_loss: 5.7211e-04 - val_root_mean_squared_error: 0.0239\n",
      "Epoch 29/100\n",
      "604/604 - 56s - loss: 9.9512e-04 - root_mean_squared_error: 0.0315 - val_loss: 5.6593e-04 - val_root_mean_squared_error: 0.0238\n",
      "Epoch 30/100\n",
      "604/604 - 54s - loss: 9.8864e-04 - root_mean_squared_error: 0.0314 - val_loss: 6.1153e-04 - val_root_mean_squared_error: 0.0247\n",
      "Epoch 31/100\n",
      "604/604 - 54s - loss: 9.8446e-04 - root_mean_squared_error: 0.0314 - val_loss: 5.7982e-04 - val_root_mean_squared_error: 0.0241\n",
      "Epoch 32/100\n",
      "604/604 - 55s - loss: 9.7759e-04 - root_mean_squared_error: 0.0313 - val_loss: 5.6961e-04 - val_root_mean_squared_error: 0.0239\n",
      "Epoch 33/100\n",
      "604/604 - 54s - loss: 9.7101e-04 - root_mean_squared_error: 0.0312 - val_loss: 5.5665e-04 - val_root_mean_squared_error: 0.0236\n",
      "Epoch 34/100\n",
      "604/604 - 54s - loss: 9.6783e-04 - root_mean_squared_error: 0.0311 - val_loss: 5.9025e-04 - val_root_mean_squared_error: 0.0243\n",
      "Epoch 35/100\n",
      "604/604 - 54s - loss: 9.6165e-04 - root_mean_squared_error: 0.0310 - val_loss: 5.6625e-04 - val_root_mean_squared_error: 0.0238\n",
      "Epoch 36/100\n",
      "604/604 - 54s - loss: 9.6090e-04 - root_mean_squared_error: 0.0310 - val_loss: 5.6518e-04 - val_root_mean_squared_error: 0.0238\n",
      "Epoch 37/100\n",
      "604/604 - 55s - loss: 9.5512e-04 - root_mean_squared_error: 0.0309 - val_loss: 5.8476e-04 - val_root_mean_squared_error: 0.0242\n",
      "Epoch 38/100\n",
      "604/604 - 54s - loss: 9.4885e-04 - root_mean_squared_error: 0.0308 - val_loss: 5.3852e-04 - val_root_mean_squared_error: 0.0232\n",
      "Epoch 39/100\n",
      "604/604 - 54s - loss: 9.4493e-04 - root_mean_squared_error: 0.0307 - val_loss: 5.3405e-04 - val_root_mean_squared_error: 0.0231\n",
      "Epoch 40/100\n",
      "604/604 - 54s - loss: 9.4452e-04 - root_mean_squared_error: 0.0307 - val_loss: 5.2998e-04 - val_root_mean_squared_error: 0.0230\n",
      "Epoch 41/100\n",
      "604/604 - 54s - loss: 9.3975e-04 - root_mean_squared_error: 0.0307 - val_loss: 5.2737e-04 - val_root_mean_squared_error: 0.0230\n",
      "Epoch 42/100\n",
      "604/604 - 55s - loss: 9.3478e-04 - root_mean_squared_error: 0.0306 - val_loss: 5.5511e-04 - val_root_mean_squared_error: 0.0236\n",
      "Epoch 43/100\n",
      "604/604 - 55s - loss: 9.3262e-04 - root_mean_squared_error: 0.0305 - val_loss: 5.4068e-04 - val_root_mean_squared_error: 0.0233\n",
      "Epoch 44/100\n",
      "604/604 - 55s - loss: 9.2895e-04 - root_mean_squared_error: 0.0305 - val_loss: 5.4524e-04 - val_root_mean_squared_error: 0.0234\n",
      "Epoch 45/100\n",
      "604/604 - 54s - loss: 9.2398e-04 - root_mean_squared_error: 0.0304 - val_loss: 5.3776e-04 - val_root_mean_squared_error: 0.0232\n",
      "Epoch 46/100\n",
      "604/604 - 54s - loss: 9.2495e-04 - root_mean_squared_error: 0.0304 - val_loss: 5.2779e-04 - val_root_mean_squared_error: 0.0230\n",
      "Epoch 47/100\n",
      "604/604 - 54s - loss: 9.1766e-04 - root_mean_squared_error: 0.0303 - val_loss: 5.3019e-04 - val_root_mean_squared_error: 0.0230\n",
      "Epoch 48/100\n",
      "604/604 - 55s - loss: 9.1514e-04 - root_mean_squared_error: 0.0303 - val_loss: 5.5138e-04 - val_root_mean_squared_error: 0.0235\n",
      "Epoch 49/100\n",
      "604/604 - 55s - loss: 9.1243e-04 - root_mean_squared_error: 0.0302 - val_loss: 5.2570e-04 - val_root_mean_squared_error: 0.0229\n",
      "Epoch 50/100\n",
      "604/604 - 54s - loss: 9.1228e-04 - root_mean_squared_error: 0.0302 - val_loss: 5.4536e-04 - val_root_mean_squared_error: 0.0234\n",
      "Epoch 51/100\n",
      "604/604 - 55s - loss: 9.0905e-04 - root_mean_squared_error: 0.0302 - val_loss: 5.4983e-04 - val_root_mean_squared_error: 0.0234\n",
      "Epoch 52/100\n",
      "604/604 - 55s - loss: 9.0492e-04 - root_mean_squared_error: 0.0301 - val_loss: 5.3739e-04 - val_root_mean_squared_error: 0.0232\n",
      "Epoch 53/100\n",
      "604/604 - 54s - loss: 9.0305e-04 - root_mean_squared_error: 0.0301 - val_loss: 5.3450e-04 - val_root_mean_squared_error: 0.0231\n",
      "Epoch 54/100\n",
      "604/604 - 54s - loss: 8.9865e-04 - root_mean_squared_error: 0.0300 - val_loss: 5.1665e-04 - val_root_mean_squared_error: 0.0227\n",
      "Epoch 55/100\n",
      "604/604 - 54s - loss: 8.9872e-04 - root_mean_squared_error: 0.0300 - val_loss: 5.0568e-04 - val_root_mean_squared_error: 0.0225\n",
      "Epoch 56/100\n",
      "604/604 - 54s - loss: 8.9567e-04 - root_mean_squared_error: 0.0299 - val_loss: 5.0923e-04 - val_root_mean_squared_error: 0.0226\n",
      "Epoch 57/100\n",
      "604/604 - 54s - loss: 8.9554e-04 - root_mean_squared_error: 0.0299 - val_loss: 5.1791e-04 - val_root_mean_squared_error: 0.0228\n",
      "Epoch 58/100\n",
      "604/604 - 54s - loss: 8.9149e-04 - root_mean_squared_error: 0.0299 - val_loss: 5.3549e-04 - val_root_mean_squared_error: 0.0231\n",
      "Epoch 59/100\n",
      "604/604 - 54s - loss: 8.8881e-04 - root_mean_squared_error: 0.0298 - val_loss: 5.1568e-04 - val_root_mean_squared_error: 0.0227\n",
      "Epoch 60/100\n",
      "604/604 - 54s - loss: 8.8625e-04 - root_mean_squared_error: 0.0298 - val_loss: 5.2527e-04 - val_root_mean_squared_error: 0.0229\n"
     ]
    },
    {
     "name": "stdout",
     "output_type": "stream",
     "text": [
      "Epoch 61/100\n",
      "604/604 - 54s - loss: 8.8576e-04 - root_mean_squared_error: 0.0298 - val_loss: 5.0639e-04 - val_root_mean_squared_error: 0.0225\n",
      "Epoch 62/100\n",
      "604/604 - 54s - loss: 8.8419e-04 - root_mean_squared_error: 0.0297 - val_loss: 5.2431e-04 - val_root_mean_squared_error: 0.0229\n",
      "Epoch 63/100\n",
      "604/604 - 54s - loss: 8.8183e-04 - root_mean_squared_error: 0.0297 - val_loss: 5.1052e-04 - val_root_mean_squared_error: 0.0226\n",
      "Epoch 64/100\n",
      "604/604 - 54s - loss: 8.8080e-04 - root_mean_squared_error: 0.0297 - val_loss: 5.1616e-04 - val_root_mean_squared_error: 0.0227\n",
      "Epoch 65/100\n",
      "604/604 - 54s - loss: 8.7927e-04 - root_mean_squared_error: 0.0297 - val_loss: 5.1248e-04 - val_root_mean_squared_error: 0.0226\n",
      "Epoch 66/100\n",
      "604/604 - 54s - loss: 8.7584e-04 - root_mean_squared_error: 0.0296 - val_loss: 5.1701e-04 - val_root_mean_squared_error: 0.0227\n",
      "Epoch 67/100\n",
      "604/604 - 54s - loss: 8.7355e-04 - root_mean_squared_error: 0.0296 - val_loss: 5.0794e-04 - val_root_mean_squared_error: 0.0225\n",
      "Epoch 68/100\n",
      "604/604 - 55s - loss: 8.7219e-04 - root_mean_squared_error: 0.0295 - val_loss: 5.0726e-04 - val_root_mean_squared_error: 0.0225\n",
      "Epoch 69/100\n",
      "604/604 - 55s - loss: 8.7198e-04 - root_mean_squared_error: 0.0295 - val_loss: 5.2245e-04 - val_root_mean_squared_error: 0.0229\n",
      "Epoch 70/100\n",
      "604/604 - 54s - loss: 8.6957e-04 - root_mean_squared_error: 0.0295 - val_loss: 5.0803e-04 - val_root_mean_squared_error: 0.0225\n",
      "Epoch 71/100\n",
      "604/604 - 54s - loss: 8.6830e-04 - root_mean_squared_error: 0.0295 - val_loss: 5.3273e-04 - val_root_mean_squared_error: 0.0231\n",
      "Epoch 72/100\n",
      "604/604 - 54s - loss: 8.6487e-04 - root_mean_squared_error: 0.0294 - val_loss: 5.0266e-04 - val_root_mean_squared_error: 0.0224\n",
      "Epoch 73/100\n",
      "604/604 - 54s - loss: 8.6319e-04 - root_mean_squared_error: 0.0294 - val_loss: 5.0974e-04 - val_root_mean_squared_error: 0.0226\n",
      "Epoch 74/100\n",
      "604/604 - 55s - loss: 8.6333e-04 - root_mean_squared_error: 0.0294 - val_loss: 5.1471e-04 - val_root_mean_squared_error: 0.0227\n",
      "Epoch 75/100\n",
      "604/604 - 54s - loss: 8.6261e-04 - root_mean_squared_error: 0.0294 - val_loss: 5.2496e-04 - val_root_mean_squared_error: 0.0229\n",
      "Epoch 76/100\n",
      "604/604 - 54s - loss: 8.6151e-04 - root_mean_squared_error: 0.0294 - val_loss: 5.0752e-04 - val_root_mean_squared_error: 0.0225\n",
      "Epoch 77/100\n",
      "604/604 - 54s - loss: 8.5931e-04 - root_mean_squared_error: 0.0293 - val_loss: 5.1908e-04 - val_root_mean_squared_error: 0.0228\n",
      "Epoch 78/100\n",
      "604/604 - 54s - loss: 8.5666e-04 - root_mean_squared_error: 0.0293 - val_loss: 5.1953e-04 - val_root_mean_squared_error: 0.0228\n",
      "Epoch 79/100\n",
      "604/604 - 54s - loss: 8.5531e-04 - root_mean_squared_error: 0.0292 - val_loss: 5.0853e-04 - val_root_mean_squared_error: 0.0226\n",
      "Epoch 80/100\n",
      "604/604 - 54s - loss: 8.5368e-04 - root_mean_squared_error: 0.0292 - val_loss: 4.9918e-04 - val_root_mean_squared_error: 0.0223\n",
      "Epoch 81/100\n",
      "604/604 - 54s - loss: 8.5192e-04 - root_mean_squared_error: 0.0292 - val_loss: 5.2628e-04 - val_root_mean_squared_error: 0.0229\n",
      "Epoch 82/100\n",
      "604/604 - 54s - loss: 8.5326e-04 - root_mean_squared_error: 0.0292 - val_loss: 5.1334e-04 - val_root_mean_squared_error: 0.0227\n",
      "Epoch 83/100\n",
      "604/604 - 54s - loss: 8.4960e-04 - root_mean_squared_error: 0.0291 - val_loss: 4.9662e-04 - val_root_mean_squared_error: 0.0223\n",
      "Epoch 84/100\n",
      "604/604 - 54s - loss: 8.4803e-04 - root_mean_squared_error: 0.0291 - val_loss: 5.1309e-04 - val_root_mean_squared_error: 0.0227\n",
      "Epoch 85/100\n",
      "604/604 - 54s - loss: 8.4819e-04 - root_mean_squared_error: 0.0291 - val_loss: 5.2212e-04 - val_root_mean_squared_error: 0.0228\n",
      "Epoch 86/100\n",
      "604/604 - 54s - loss: 8.4733e-04 - root_mean_squared_error: 0.0291 - val_loss: 5.1932e-04 - val_root_mean_squared_error: 0.0228\n",
      "Epoch 87/100\n",
      "604/604 - 55s - loss: 8.4503e-04 - root_mean_squared_error: 0.0291 - val_loss: 5.0502e-04 - val_root_mean_squared_error: 0.0225\n",
      "Epoch 88/100\n",
      "604/604 - 54s - loss: 8.4388e-04 - root_mean_squared_error: 0.0290 - val_loss: 5.0242e-04 - val_root_mean_squared_error: 0.0224\n",
      "Epoch 89/100\n",
      "604/604 - 54s - loss: 8.4222e-04 - root_mean_squared_error: 0.0290 - val_loss: 4.8571e-04 - val_root_mean_squared_error: 0.0220\n",
      "Epoch 90/100\n",
      "604/604 - 54s - loss: 8.4064e-04 - root_mean_squared_error: 0.0290 - val_loss: 5.1748e-04 - val_root_mean_squared_error: 0.0227\n",
      "Epoch 91/100\n",
      "604/604 - 54s - loss: 8.3976e-04 - root_mean_squared_error: 0.0290 - val_loss: 5.0345e-04 - val_root_mean_squared_error: 0.0224\n",
      "Epoch 92/100\n",
      "604/604 - 54s - loss: 8.3973e-04 - root_mean_squared_error: 0.0290 - val_loss: 5.0496e-04 - val_root_mean_squared_error: 0.0225\n",
      "Epoch 93/100\n",
      "604/604 - 54s - loss: 8.3734e-04 - root_mean_squared_error: 0.0289 - val_loss: 5.0901e-04 - val_root_mean_squared_error: 0.0226\n",
      "Epoch 94/100\n",
      "604/604 - 54s - loss: 8.3848e-04 - root_mean_squared_error: 0.0290 - val_loss: 5.3467e-04 - val_root_mean_squared_error: 0.0231\n",
      "Epoch 95/100\n",
      "604/604 - 54s - loss: 8.3542e-04 - root_mean_squared_error: 0.0289 - val_loss: 5.0161e-04 - val_root_mean_squared_error: 0.0224\n",
      "Epoch 96/100\n",
      "604/604 - 54s - loss: 8.3581e-04 - root_mean_squared_error: 0.0289 - val_loss: 4.9872e-04 - val_root_mean_squared_error: 0.0223\n",
      "Epoch 97/100\n",
      "604/604 - 59s - loss: 8.3385e-04 - root_mean_squared_error: 0.0289 - val_loss: 5.1182e-04 - val_root_mean_squared_error: 0.0226\n",
      "Epoch 98/100\n",
      "604/604 - 57s - loss: 8.3136e-04 - root_mean_squared_error: 0.0288 - val_loss: 4.9214e-04 - val_root_mean_squared_error: 0.0222\n",
      "Epoch 99/100\n",
      "604/604 - 56s - loss: 8.3023e-04 - root_mean_squared_error: 0.0288 - val_loss: 5.0669e-04 - val_root_mean_squared_error: 0.0225\n",
      "Epoch 100/100\n",
      "604/604 - 55s - loss: 8.3003e-04 - root_mean_squared_error: 0.0288 - val_loss: 4.8628e-04 - val_root_mean_squared_error: 0.0221\n"
     ]
    }
   ],
   "source": [
    "import tensorflow as tf\n",
    "from tensorflow import keras\n",
    "from tensorflow.keras import layers\n",
    "from keras.layers import Input,LSTM,Dropout,Dense\n",
    "\n",
    "\n",
    "timesteps = 10\n",
    "# create and fit the LSTM network\n",
    "\n",
    "model = keras.Sequential()\n",
    "model.add(LSTM(100,input_shape=(timesteps,5),return_sequences=True))\n",
    "model.add(Dropout(0.2))\n",
    "model.add(LSTM(100,input_shape=(timesteps,5),return_sequences=True))\n",
    "model.add(Dropout(0.2))\n",
    "model.add(LSTM(100,input_shape=(timesteps,5),return_sequences=False))\n",
    "model.add(Dropout(0.2))\n",
    "model.add(Dense(35,activation='linear'))\n",
    "model.compile(optimizer='rmsprop',loss='mean_squared_error',metrics=[tf.keras.metrics.RootMeanSquaredError()])\n",
    "\n",
    "history = model.fit(train_X, train_Y, epochs=100, batch_size=512, verbose=2, validation_data=(test_X, test_Y))"
   ]
  },
  {
   "cell_type": "code",
   "execution_count": 10,
   "metadata": {},
   "outputs": [],
   "source": [
    "testPredict = model.predict(test_X)"
   ]
  },
  {
   "cell_type": "code",
   "execution_count": 11,
   "metadata": {},
   "outputs": [],
   "source": [
    "newtestPredict = scaler.inverse_transform(testPredict)\n",
    "newtest_Y = scaler.inverse_transform(test_Y)"
   ]
  },
  {
   "cell_type": "code",
   "execution_count": 12,
   "metadata": {},
   "outputs": [
    {
     "name": "stdout",
     "output_type": "stream",
     "text": [
      "Test Score: 0.61616 RMSE\n"
     ]
    }
   ],
   "source": [
    "testScore = sqrt(mean_squared_error(newtest_Y, newtestPredict))\n",
    "print('Test Score: %.5f RMSE' % (testScore))"
   ]
  },
  {
   "cell_type": "code",
   "execution_count": null,
   "metadata": {},
   "outputs": [],
   "source": []
  }
 ],
 "metadata": {
  "kernelspec": {
   "display_name": "Python 3",
   "language": "python",
   "name": "python3"
  },
  "language_info": {
   "codemirror_mode": {
    "name": "ipython",
    "version": 3
   },
   "file_extension": ".py",
   "mimetype": "text/x-python",
   "name": "python",
   "nbconvert_exporter": "python",
   "pygments_lexer": "ipython3",
   "version": "3.8.3"
  }
 },
 "nbformat": 4,
 "nbformat_minor": 4
}
