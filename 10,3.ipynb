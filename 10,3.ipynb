{
 "cells": [
  {
   "cell_type": "code",
   "execution_count": 1,
   "metadata": {},
   "outputs": [],
   "source": [
    "from test import EigenData\n",
    "import numpy as np\n",
    "import scipy.io\n",
    "import h5py\n",
    "from sklearn.preprocessing import MinMaxScaler\n",
    "from sklearn.metrics import mean_squared_error\n",
    "from math import sqrt\n",
    "import matplotlib.pyplot as plt\n",
    "from mpl_toolkits.axes_grid1 import make_axes_locatable\n",
    "import torch\n",
    "%matplotlib inline"
   ]
  },
  {
   "cell_type": "code",
   "execution_count": 2,
   "metadata": {},
   "outputs": [
    {
     "name": "stdout",
     "output_type": "stream",
     "text": [
      "b (5, 33600)\n",
      "(100, 5) (5, 33600)\n",
      "--> (100, 33600)\n",
      "c (5, 33600)\n",
      "(100, 5) (5, 33600)\n",
      "--> (100, 33600)\n",
      "d (5, 33600)\n",
      "(100, 5) (5, 33600)\n",
      "--> (100, 33600)\n",
      "e (5, 33600)\n",
      "(100, 5) (5, 33600)\n",
      "--> (100, 33600)\n",
      "f (5, 33600)\n",
      "(100, 5) (5, 33600)\n",
      "--> (100, 33600)\n",
      "g (6, 33600)\n",
      "(100, 6) (6, 33600)\n",
      "--> (100, 33600)\n",
      "h (5, 33600)\n",
      "(100, 5) (5, 33600)\n",
      "--> (100, 33600)\n",
      "i (6, 33600)\n",
      "(100, 6) (6, 33600)\n",
      "--> (100, 33600)\n",
      "j (5, 33600)\n",
      "(100, 5) (5, 33600)\n",
      "--> (100, 33600)\n",
      "k (5, 33600)\n",
      "(100, 5) (5, 33600)\n",
      "--> (100, 33600)\n",
      "l (5, 33600)\n",
      "(100, 5) (5, 33600)\n",
      "--> (100, 33600)\n",
      "m (5, 33600)\n",
      "(100, 5) (5, 33600)\n",
      "--> (100, 33600)\n",
      "(403200, 5)\n"
     ]
    }
   ],
   "source": [
    "data = EigenData()\n",
    "eigenworms = data.get_eigenworms('EigenWorms.mat')\n",
    "\n",
    "footage = data.get_footage('20150814-All-PNAS2011-DataStitched .mat')\n",
    "newdata = torch.rand(33600,5)\n",
    "for k in footage.keys():\n",
    "    print(k, footage[k].shape)\n",
    "    arr1=footage[k]\n",
    "\n",
    "    arr2=arr1[:5,]\n",
    "\n",
    "    r = data.reconstruct(footage[k])\n",
    "    print('-->', r.shape)\n",
    "    dataset1 = arr2.transpose()\n",
    "\n",
    "    newdata = np.concatenate((newdata,dataset1),axis=0)\n",
    "newdata = newdata[33600:,]\n",
    "print(newdata.shape)"
   ]
  },
  {
   "cell_type": "code",
   "execution_count": 3,
   "metadata": {},
   "outputs": [
    {
     "name": "stdout",
     "output_type": "stream",
     "text": [
      "(386422, 5)\n",
      "386422\n"
     ]
    }
   ],
   "source": [
    "data1=newdata[~np.isnan(newdata).any(axis=1)]\n",
    "\n",
    "data1 = data1.astype('float32')\n",
    "print(data1.shape)\n",
    "print(len(data1))"
   ]
  },
  {
   "cell_type": "code",
   "execution_count": 4,
   "metadata": {},
   "outputs": [],
   "source": [
    "def create_dataset(data,n_predictions,n_next):\n",
    "    \n",
    "   \n",
    "    dim = data.shape[1]\n",
    "    train_X, train_Y = [], []\n",
    "    for i in range(data.shape[0]-n_predictions-n_next-1):\n",
    "        a = data[i:(i+n_predictions),:]\n",
    "        train_X.append(a)\n",
    "        tempb = data[(i+n_predictions):(i+n_predictions+n_next),:]\n",
    "        b = []\n",
    "        for j in range(len(tempb)):\n",
    "            for k in range(dim):\n",
    "                b.append(tempb[j,k])\n",
    "        train_Y.append(b)\n",
    "    train_X = np.array(train_X,dtype='float64')\n",
    "    train_Y = np.array(train_Y,dtype='float64')\n",
    "\n",
    "    return train_X, train_Y"
   ]
  },
  {
   "cell_type": "code",
   "execution_count": 5,
   "metadata": {},
   "outputs": [
    {
     "name": "stdout",
     "output_type": "stream",
     "text": [
      "(386408, 10, 5)\n",
      "(386408, 15)\n"
     ]
    }
   ],
   "source": [
    "X, Y = create_dataset(data1,10,3)\n",
    "\n",
    "print(X.shape)\n",
    "print(Y.shape)"
   ]
  },
  {
   "cell_type": "code",
   "execution_count": 6,
   "metadata": {},
   "outputs": [],
   "source": [
    "scaler = MinMaxScaler(feature_range=(0, 1))\n",
    "data1 = scaler.fit_transform(data1)\n",
    "Y = scaler.fit_transform(Y)"
   ]
  },
  {
   "cell_type": "code",
   "execution_count": 7,
   "metadata": {},
   "outputs": [
    {
     "name": "stdout",
     "output_type": "stream",
     "text": [
      "(386408, 10, 5)\n",
      "(386408, 15)\n"
     ]
    }
   ],
   "source": [
    "data_X, data_Y = create_dataset(data1,10,3)\n",
    "\n",
    "print(data_X.shape)\n",
    "print(data_Y.shape)"
   ]
  },
  {
   "cell_type": "code",
   "execution_count": 8,
   "metadata": {},
   "outputs": [
    {
     "name": "stdout",
     "output_type": "stream",
     "text": [
      "(309126, 10, 5)\n",
      "(309126, 15)\n",
      "(77282, 10, 5)\n",
      "(77282, 15)\n"
     ]
    }
   ],
   "source": [
    "train_size = int(len(data_X) * 0.8)\n",
    "test_size = len(data_X) - train_size\n",
    "train_X = data_X[:train_size]\n",
    "train_Y = Y[:train_size]\n",
    "test_X = data_X[train_size:]\n",
    "test_Y = Y[train_size:]\n",
    "\n",
    "print(train_X.shape)\n",
    "print(train_Y.shape)\n",
    "print(test_X.shape)\n",
    "print(test_Y.shape)"
   ]
  },
  {
   "cell_type": "code",
   "execution_count": 9,
   "metadata": {},
   "outputs": [
    {
     "name": "stdout",
     "output_type": "stream",
     "text": [
      "Epoch 1/100\n",
      "604/604 - 57s - loss: 0.0116 - root_mean_squared_error: 0.1076 - val_loss: 0.0021 - val_root_mean_squared_error: 0.0463\n",
      "Epoch 2/100\n",
      "604/604 - 53s - loss: 0.0034 - root_mean_squared_error: 0.0580 - val_loss: 0.0012 - val_root_mean_squared_error: 0.0345\n",
      "Epoch 3/100\n",
      "604/604 - 53s - loss: 0.0020 - root_mean_squared_error: 0.0452 - val_loss: 8.2539e-04 - val_root_mean_squared_error: 0.0287\n",
      "Epoch 4/100\n",
      "604/604 - 52s - loss: 0.0015 - root_mean_squared_error: 0.0383 - val_loss: 4.2953e-04 - val_root_mean_squared_error: 0.0207\n",
      "Epoch 5/100\n",
      "604/604 - 53s - loss: 0.0012 - root_mean_squared_error: 0.0342 - val_loss: 6.8930e-04 - val_root_mean_squared_error: 0.0263\n",
      "Epoch 6/100\n",
      "604/604 - 53s - loss: 9.7191e-04 - root_mean_squared_error: 0.0312 - val_loss: 4.7998e-04 - val_root_mean_squared_error: 0.0219\n",
      "Epoch 7/100\n",
      "604/604 - 53s - loss: 8.4088e-04 - root_mean_squared_error: 0.0290 - val_loss: 4.1655e-04 - val_root_mean_squared_error: 0.0204\n",
      "Epoch 8/100\n",
      "604/604 - 53s - loss: 7.3978e-04 - root_mean_squared_error: 0.0272 - val_loss: 2.5723e-04 - val_root_mean_squared_error: 0.0160\n",
      "Epoch 9/100\n",
      "604/604 - 53s - loss: 6.6912e-04 - root_mean_squared_error: 0.0259 - val_loss: 2.2576e-04 - val_root_mean_squared_error: 0.0150\n",
      "Epoch 10/100\n",
      "604/604 - 53s - loss: 6.1803e-04 - root_mean_squared_error: 0.0249 - val_loss: 1.8671e-04 - val_root_mean_squared_error: 0.0137\n",
      "Epoch 11/100\n",
      "604/604 - 53s - loss: 5.8334e-04 - root_mean_squared_error: 0.0242 - val_loss: 1.7057e-04 - val_root_mean_squared_error: 0.0131\n",
      "Epoch 12/100\n",
      "604/604 - 53s - loss: 5.6007e-04 - root_mean_squared_error: 0.0237 - val_loss: 2.7073e-04 - val_root_mean_squared_error: 0.0165\n",
      "Epoch 13/100\n",
      "604/604 - 55s - loss: 5.4006e-04 - root_mean_squared_error: 0.0232 - val_loss: 2.9346e-04 - val_root_mean_squared_error: 0.0171\n",
      "Epoch 14/100\n",
      "604/604 - 54s - loss: 5.2996e-04 - root_mean_squared_error: 0.0230 - val_loss: 2.0423e-04 - val_root_mean_squared_error: 0.0143\n",
      "Epoch 15/100\n",
      "604/604 - 53s - loss: 5.1610e-04 - root_mean_squared_error: 0.0227 - val_loss: 2.4877e-04 - val_root_mean_squared_error: 0.0158\n",
      "Epoch 16/100\n",
      "604/604 - 53s - loss: 5.0858e-04 - root_mean_squared_error: 0.0226 - val_loss: 1.6018e-04 - val_root_mean_squared_error: 0.0127\n",
      "Epoch 17/100\n",
      "604/604 - 53s - loss: 4.9987e-04 - root_mean_squared_error: 0.0224 - val_loss: 1.6808e-04 - val_root_mean_squared_error: 0.0130\n",
      "Epoch 18/100\n",
      "604/604 - 53s - loss: 4.9204e-04 - root_mean_squared_error: 0.0222 - val_loss: 2.2450e-04 - val_root_mean_squared_error: 0.0150\n",
      "Epoch 19/100\n",
      "604/604 - 53s - loss: 4.8484e-04 - root_mean_squared_error: 0.0220 - val_loss: 2.0654e-04 - val_root_mean_squared_error: 0.0144\n",
      "Epoch 20/100\n",
      "604/604 - 53s - loss: 4.8001e-04 - root_mean_squared_error: 0.0219 - val_loss: 1.4269e-04 - val_root_mean_squared_error: 0.0119\n",
      "Epoch 21/100\n",
      "604/604 - 53s - loss: 4.7226e-04 - root_mean_squared_error: 0.0217 - val_loss: 1.4251e-04 - val_root_mean_squared_error: 0.0119\n",
      "Epoch 22/100\n",
      "604/604 - 53s - loss: 4.6916e-04 - root_mean_squared_error: 0.0217 - val_loss: 1.7955e-04 - val_root_mean_squared_error: 0.0134\n",
      "Epoch 23/100\n",
      "604/604 - 53s - loss: 4.6423e-04 - root_mean_squared_error: 0.0215 - val_loss: 1.6195e-04 - val_root_mean_squared_error: 0.0127\n",
      "Epoch 24/100\n",
      "604/604 - 53s - loss: 4.6011e-04 - root_mean_squared_error: 0.0215 - val_loss: 1.5333e-04 - val_root_mean_squared_error: 0.0124\n",
      "Epoch 25/100\n",
      "604/604 - 53s - loss: 4.5632e-04 - root_mean_squared_error: 0.0214 - val_loss: 2.1010e-04 - val_root_mean_squared_error: 0.0145\n",
      "Epoch 26/100\n",
      "604/604 - 53s - loss: 4.5161e-04 - root_mean_squared_error: 0.0213 - val_loss: 1.6333e-04 - val_root_mean_squared_error: 0.0128\n",
      "Epoch 27/100\n",
      "604/604 - 53s - loss: 4.4828e-04 - root_mean_squared_error: 0.0212 - val_loss: 1.4205e-04 - val_root_mean_squared_error: 0.0119\n",
      "Epoch 28/100\n",
      "604/604 - 53s - loss: 4.4588e-04 - root_mean_squared_error: 0.0211 - val_loss: 1.1504e-04 - val_root_mean_squared_error: 0.0107\n",
      "Epoch 29/100\n",
      "604/604 - 54s - loss: 4.4314e-04 - root_mean_squared_error: 0.0211 - val_loss: 1.7145e-04 - val_root_mean_squared_error: 0.0131\n",
      "Epoch 30/100\n",
      "604/604 - 53s - loss: 4.3926e-04 - root_mean_squared_error: 0.0210 - val_loss: 1.5896e-04 - val_root_mean_squared_error: 0.0126\n",
      "Epoch 31/100\n",
      "604/604 - 53s - loss: 4.3665e-04 - root_mean_squared_error: 0.0209 - val_loss: 2.0425e-04 - val_root_mean_squared_error: 0.0143\n",
      "Epoch 32/100\n",
      "604/604 - 53s - loss: 4.3557e-04 - root_mean_squared_error: 0.0209 - val_loss: 1.4538e-04 - val_root_mean_squared_error: 0.0121\n",
      "Epoch 33/100\n",
      "604/604 - 53s - loss: 4.3266e-04 - root_mean_squared_error: 0.0208 - val_loss: 1.6903e-04 - val_root_mean_squared_error: 0.0130\n",
      "Epoch 34/100\n",
      "604/604 - 53s - loss: 4.2894e-04 - root_mean_squared_error: 0.0207 - val_loss: 1.3922e-04 - val_root_mean_squared_error: 0.0118\n",
      "Epoch 35/100\n",
      "604/604 - 53s - loss: 4.2618e-04 - root_mean_squared_error: 0.0206 - val_loss: 1.1580e-04 - val_root_mean_squared_error: 0.0108\n",
      "Epoch 36/100\n",
      "604/604 - 53s - loss: 4.2458e-04 - root_mean_squared_error: 0.0206 - val_loss: 1.1762e-04 - val_root_mean_squared_error: 0.0108\n",
      "Epoch 37/100\n",
      "604/604 - 53s - loss: 4.2295e-04 - root_mean_squared_error: 0.0206 - val_loss: 1.9720e-04 - val_root_mean_squared_error: 0.0140\n",
      "Epoch 38/100\n",
      "604/604 - 53s - loss: 4.1999e-04 - root_mean_squared_error: 0.0205 - val_loss: 1.7727e-04 - val_root_mean_squared_error: 0.0133\n",
      "Epoch 39/100\n",
      "604/604 - 53s - loss: 4.2009e-04 - root_mean_squared_error: 0.0205 - val_loss: 1.3360e-04 - val_root_mean_squared_error: 0.0116\n",
      "Epoch 40/100\n",
      "604/604 - 53s - loss: 4.1644e-04 - root_mean_squared_error: 0.0204 - val_loss: 1.2351e-04 - val_root_mean_squared_error: 0.0111\n",
      "Epoch 41/100\n",
      "604/604 - 53s - loss: 4.1478e-04 - root_mean_squared_error: 0.0204 - val_loss: 1.1951e-04 - val_root_mean_squared_error: 0.0109\n",
      "Epoch 42/100\n",
      "604/604 - 53s - loss: 4.1359e-04 - root_mean_squared_error: 0.0203 - val_loss: 1.0723e-04 - val_root_mean_squared_error: 0.0104\n",
      "Epoch 43/100\n",
      "604/604 - 53s - loss: 4.1223e-04 - root_mean_squared_error: 0.0203 - val_loss: 1.1258e-04 - val_root_mean_squared_error: 0.0106\n",
      "Epoch 44/100\n",
      "604/604 - 53s - loss: 4.1027e-04 - root_mean_squared_error: 0.0203 - val_loss: 1.3726e-04 - val_root_mean_squared_error: 0.0117\n",
      "Epoch 45/100\n",
      "604/604 - 53s - loss: 4.0832e-04 - root_mean_squared_error: 0.0202 - val_loss: 1.1187e-04 - val_root_mean_squared_error: 0.0106\n",
      "Epoch 46/100\n",
      "604/604 - 53s - loss: 4.0770e-04 - root_mean_squared_error: 0.0202 - val_loss: 1.4437e-04 - val_root_mean_squared_error: 0.0120\n",
      "Epoch 47/100\n",
      "604/604 - 53s - loss: 4.0546e-04 - root_mean_squared_error: 0.0201 - val_loss: 1.0871e-04 - val_root_mean_squared_error: 0.0104\n",
      "Epoch 48/100\n",
      "604/604 - 53s - loss: 4.0504e-04 - root_mean_squared_error: 0.0201 - val_loss: 1.2426e-04 - val_root_mean_squared_error: 0.0111\n",
      "Epoch 49/100\n",
      "604/604 - 53s - loss: 4.0272e-04 - root_mean_squared_error: 0.0201 - val_loss: 1.3397e-04 - val_root_mean_squared_error: 0.0116\n",
      "Epoch 50/100\n",
      "604/604 - 53s - loss: 4.0175e-04 - root_mean_squared_error: 0.0200 - val_loss: 1.0278e-04 - val_root_mean_squared_error: 0.0101\n",
      "Epoch 51/100\n",
      "604/604 - 53s - loss: 4.0081e-04 - root_mean_squared_error: 0.0200 - val_loss: 1.2156e-04 - val_root_mean_squared_error: 0.0110\n",
      "Epoch 52/100\n",
      "604/604 - 53s - loss: 3.9971e-04 - root_mean_squared_error: 0.0200 - val_loss: 1.2328e-04 - val_root_mean_squared_error: 0.0111\n",
      "Epoch 53/100\n",
      "604/604 - 53s - loss: 3.9817e-04 - root_mean_squared_error: 0.0200 - val_loss: 1.1230e-04 - val_root_mean_squared_error: 0.0106\n",
      "Epoch 54/100\n",
      "604/604 - 53s - loss: 3.9774e-04 - root_mean_squared_error: 0.0199 - val_loss: 1.1661e-04 - val_root_mean_squared_error: 0.0108\n",
      "Epoch 55/100\n",
      "604/604 - 53s - loss: 3.9583e-04 - root_mean_squared_error: 0.0199 - val_loss: 1.1942e-04 - val_root_mean_squared_error: 0.0109\n",
      "Epoch 56/100\n",
      "604/604 - 54s - loss: 3.9458e-04 - root_mean_squared_error: 0.0199 - val_loss: 1.0553e-04 - val_root_mean_squared_error: 0.0103\n",
      "Epoch 57/100\n",
      "604/604 - 53s - loss: 3.9447e-04 - root_mean_squared_error: 0.0199 - val_loss: 1.2427e-04 - val_root_mean_squared_error: 0.0111\n",
      "Epoch 58/100\n",
      "604/604 - 53s - loss: 3.9180e-04 - root_mean_squared_error: 0.0198 - val_loss: 1.3342e-04 - val_root_mean_squared_error: 0.0116\n",
      "Epoch 59/100\n",
      "604/604 - 53s - loss: 3.9227e-04 - root_mean_squared_error: 0.0198 - val_loss: 1.1639e-04 - val_root_mean_squared_error: 0.0108\n"
     ]
    },
    {
     "name": "stdout",
     "output_type": "stream",
     "text": [
      "Epoch 60/100\n",
      "604/604 - 53s - loss: 3.9011e-04 - root_mean_squared_error: 0.0198 - val_loss: 1.1936e-04 - val_root_mean_squared_error: 0.0109\n",
      "Epoch 61/100\n",
      "604/604 - 53s - loss: 3.8976e-04 - root_mean_squared_error: 0.0197 - val_loss: 1.2571e-04 - val_root_mean_squared_error: 0.0112\n",
      "Epoch 62/100\n",
      "604/604 - 53s - loss: 3.8957e-04 - root_mean_squared_error: 0.0197 - val_loss: 1.3397e-04 - val_root_mean_squared_error: 0.0116\n",
      "Epoch 63/100\n",
      "604/604 - 53s - loss: 3.8801e-04 - root_mean_squared_error: 0.0197 - val_loss: 1.1879e-04 - val_root_mean_squared_error: 0.0109\n",
      "Epoch 64/100\n",
      "604/604 - 53s - loss: 3.8665e-04 - root_mean_squared_error: 0.0197 - val_loss: 1.0026e-04 - val_root_mean_squared_error: 0.0100\n",
      "Epoch 65/100\n",
      "604/604 - 53s - loss: 3.8538e-04 - root_mean_squared_error: 0.0196 - val_loss: 9.7287e-05 - val_root_mean_squared_error: 0.0099\n",
      "Epoch 66/100\n",
      "604/604 - 53s - loss: 3.8566e-04 - root_mean_squared_error: 0.0196 - val_loss: 1.2087e-04 - val_root_mean_squared_error: 0.0110\n",
      "Epoch 67/100\n",
      "604/604 - 54s - loss: 3.8438e-04 - root_mean_squared_error: 0.0196 - val_loss: 9.5816e-05 - val_root_mean_squared_error: 0.0098\n",
      "Epoch 68/100\n",
      "604/604 - 56s - loss: 3.8376e-04 - root_mean_squared_error: 0.0196 - val_loss: 1.1155e-04 - val_root_mean_squared_error: 0.0106\n",
      "Epoch 69/100\n",
      "604/604 - 55s - loss: 3.8234e-04 - root_mean_squared_error: 0.0196 - val_loss: 9.2794e-05 - val_root_mean_squared_error: 0.0096\n",
      "Epoch 70/100\n",
      "604/604 - 55s - loss: 3.8186e-04 - root_mean_squared_error: 0.0195 - val_loss: 1.1981e-04 - val_root_mean_squared_error: 0.0109\n",
      "Epoch 71/100\n",
      "604/604 - 55s - loss: 3.8137e-04 - root_mean_squared_error: 0.0195 - val_loss: 1.2548e-04 - val_root_mean_squared_error: 0.0112\n",
      "Epoch 72/100\n",
      "604/604 - 56s - loss: 3.8028e-04 - root_mean_squared_error: 0.0195 - val_loss: 1.0134e-04 - val_root_mean_squared_error: 0.0101\n",
      "Epoch 73/100\n",
      "604/604 - 54s - loss: 3.7872e-04 - root_mean_squared_error: 0.0195 - val_loss: 1.2510e-04 - val_root_mean_squared_error: 0.0112\n",
      "Epoch 74/100\n",
      "604/604 - 54s - loss: 3.7848e-04 - root_mean_squared_error: 0.0195 - val_loss: 1.0115e-04 - val_root_mean_squared_error: 0.0101\n",
      "Epoch 75/100\n",
      "604/604 - 55s - loss: 3.7693e-04 - root_mean_squared_error: 0.0194 - val_loss: 1.0357e-04 - val_root_mean_squared_error: 0.0102\n",
      "Epoch 76/100\n",
      "604/604 - 55s - loss: 3.7789e-04 - root_mean_squared_error: 0.0194 - val_loss: 1.0967e-04 - val_root_mean_squared_error: 0.0105\n",
      "Epoch 77/100\n",
      "604/604 - 54s - loss: 3.7614e-04 - root_mean_squared_error: 0.0194 - val_loss: 1.0995e-04 - val_root_mean_squared_error: 0.0105\n",
      "Epoch 78/100\n",
      "604/604 - 55s - loss: 3.7717e-04 - root_mean_squared_error: 0.0194 - val_loss: 1.0114e-04 - val_root_mean_squared_error: 0.0101\n",
      "Epoch 79/100\n",
      "604/604 - 54s - loss: 3.7545e-04 - root_mean_squared_error: 0.0194 - val_loss: 1.0125e-04 - val_root_mean_squared_error: 0.0101\n",
      "Epoch 80/100\n",
      "604/604 - 54s - loss: 3.7548e-04 - root_mean_squared_error: 0.0194 - val_loss: 1.0728e-04 - val_root_mean_squared_error: 0.0104\n",
      "Epoch 81/100\n",
      "604/604 - 54s - loss: 3.7519e-04 - root_mean_squared_error: 0.0194 - val_loss: 9.4046e-05 - val_root_mean_squared_error: 0.0097\n",
      "Epoch 82/100\n",
      "604/604 - 54s - loss: 3.7350e-04 - root_mean_squared_error: 0.0193 - val_loss: 1.0927e-04 - val_root_mean_squared_error: 0.0105\n",
      "Epoch 83/100\n",
      "604/604 - 53s - loss: 3.7350e-04 - root_mean_squared_error: 0.0193 - val_loss: 1.0083e-04 - val_root_mean_squared_error: 0.0100\n",
      "Epoch 84/100\n",
      "604/604 - 53s - loss: 3.7281e-04 - root_mean_squared_error: 0.0193 - val_loss: 1.1318e-04 - val_root_mean_squared_error: 0.0106\n",
      "Epoch 85/100\n",
      "604/604 - 53s - loss: 3.7202e-04 - root_mean_squared_error: 0.0193 - val_loss: 9.9295e-05 - val_root_mean_squared_error: 0.0100\n",
      "Epoch 86/100\n",
      "604/604 - 53s - loss: 3.7109e-04 - root_mean_squared_error: 0.0193 - val_loss: 9.0874e-05 - val_root_mean_squared_error: 0.0095\n",
      "Epoch 87/100\n",
      "604/604 - 53s - loss: 3.7071e-04 - root_mean_squared_error: 0.0193 - val_loss: 9.4370e-05 - val_root_mean_squared_error: 0.0097\n",
      "Epoch 88/100\n",
      "604/604 - 53s - loss: 3.7007e-04 - root_mean_squared_error: 0.0192 - val_loss: 9.9176e-05 - val_root_mean_squared_error: 0.0100\n",
      "Epoch 89/100\n",
      "604/604 - 53s - loss: 3.7007e-04 - root_mean_squared_error: 0.0192 - val_loss: 9.6480e-05 - val_root_mean_squared_error: 0.0098\n",
      "Epoch 90/100\n",
      "604/604 - 53s - loss: 3.6928e-04 - root_mean_squared_error: 0.0192 - val_loss: 1.0598e-04 - val_root_mean_squared_error: 0.0103\n",
      "Epoch 91/100\n",
      "604/604 - 53s - loss: 3.6858e-04 - root_mean_squared_error: 0.0192 - val_loss: 1.1556e-04 - val_root_mean_squared_error: 0.0107\n",
      "Epoch 92/100\n",
      "604/604 - 55s - loss: 3.6883e-04 - root_mean_squared_error: 0.0192 - val_loss: 8.9193e-05 - val_root_mean_squared_error: 0.0094\n",
      "Epoch 93/100\n",
      "604/604 - 54s - loss: 3.6664e-04 - root_mean_squared_error: 0.0191 - val_loss: 9.6829e-05 - val_root_mean_squared_error: 0.0098\n",
      "Epoch 94/100\n",
      "604/604 - 56s - loss: 3.6659e-04 - root_mean_squared_error: 0.0191 - val_loss: 1.0816e-04 - val_root_mean_squared_error: 0.0104\n",
      "Epoch 95/100\n",
      "604/604 - 55s - loss: 3.6684e-04 - root_mean_squared_error: 0.0192 - val_loss: 9.5978e-05 - val_root_mean_squared_error: 0.0098\n",
      "Epoch 96/100\n",
      "604/604 - 53s - loss: 3.6503e-04 - root_mean_squared_error: 0.0191 - val_loss: 9.0425e-05 - val_root_mean_squared_error: 0.0095\n",
      "Epoch 97/100\n",
      "604/604 - 54s - loss: 3.6496e-04 - root_mean_squared_error: 0.0191 - val_loss: 9.3047e-05 - val_root_mean_squared_error: 0.0096\n",
      "Epoch 98/100\n",
      "604/604 - 54s - loss: 3.6509e-04 - root_mean_squared_error: 0.0191 - val_loss: 9.4535e-05 - val_root_mean_squared_error: 0.0097\n",
      "Epoch 99/100\n",
      "604/604 - 54s - loss: 3.6547e-04 - root_mean_squared_error: 0.0191 - val_loss: 8.5143e-05 - val_root_mean_squared_error: 0.0092\n",
      "Epoch 100/100\n",
      "604/604 - 54s - loss: 3.6336e-04 - root_mean_squared_error: 0.0191 - val_loss: 1.1389e-04 - val_root_mean_squared_error: 0.0107\n"
     ]
    }
   ],
   "source": [
    "import tensorflow as tf\n",
    "from tensorflow import keras\n",
    "from tensorflow.keras import layers\n",
    "from keras.layers import Input,LSTM,Dropout,Dense\n",
    "\n",
    "\n",
    "timesteps = 10\n",
    "# create and fit the LSTM network\n",
    "\n",
    "model = keras.Sequential()\n",
    "model.add(LSTM(100,input_shape=(timesteps,5),return_sequences=True))\n",
    "model.add(Dropout(0.2))\n",
    "model.add(LSTM(100,input_shape=(timesteps,5),return_sequences=True))\n",
    "model.add(Dropout(0.2))\n",
    "model.add(LSTM(100,input_shape=(timesteps,5),return_sequences=False))\n",
    "model.add(Dropout(0.2))\n",
    "model.add(Dense(15,activation='linear'))\n",
    "model.compile(optimizer='rmsprop',loss='mean_squared_error',metrics=[tf.keras.metrics.RootMeanSquaredError()])\n",
    "\n",
    "history = model.fit(train_X, train_Y, epochs=100, batch_size=512, verbose=2, validation_data=(test_X, test_Y))"
   ]
  },
  {
   "cell_type": "code",
   "execution_count": 10,
   "metadata": {},
   "outputs": [],
   "source": [
    "testPredict = model.predict(test_X)"
   ]
  },
  {
   "cell_type": "code",
   "execution_count": 11,
   "metadata": {},
   "outputs": [],
   "source": [
    "newtestPredict = scaler.inverse_transform(testPredict)\n",
    "newtest_Y = scaler.inverse_transform(test_Y)"
   ]
  },
  {
   "cell_type": "code",
   "execution_count": 12,
   "metadata": {},
   "outputs": [
    {
     "name": "stdout",
     "output_type": "stream",
     "text": [
      "Test Score: 0.32424 RMSE\n"
     ]
    }
   ],
   "source": [
    "testScore = sqrt(mean_squared_error(newtest_Y, newtestPredict))\n",
    "print('Test Score: %.5f RMSE' % (testScore))"
   ]
  },
  {
   "cell_type": "code",
   "execution_count": null,
   "metadata": {},
   "outputs": [],
   "source": []
  }
 ],
 "metadata": {
  "kernelspec": {
   "display_name": "Python 3",
   "language": "python",
   "name": "python3"
  },
  "language_info": {
   "codemirror_mode": {
    "name": "ipython",
    "version": 3
   },
   "file_extension": ".py",
   "mimetype": "text/x-python",
   "name": "python",
   "nbconvert_exporter": "python",
   "pygments_lexer": "ipython3",
   "version": "3.8.3"
  }
 },
 "nbformat": 4,
 "nbformat_minor": 4
}
