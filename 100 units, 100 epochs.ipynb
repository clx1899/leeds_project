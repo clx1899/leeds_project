{
 "cells": [
  {
   "cell_type": "code",
   "execution_count": 1,
   "metadata": {},
   "outputs": [],
   "source": [
    "from test import EigenData\n",
    "import numpy as np\n",
    "import scipy.io\n",
    "import h5py\n",
    "from sklearn.preprocessing import MinMaxScaler\n",
    "from sklearn.metrics import mean_squared_error\n",
    "from math import sqrt\n",
    "import matplotlib.pyplot as plt\n",
    "from mpl_toolkits.axes_grid1 import make_axes_locatable\n",
    "import torch\n",
    "%matplotlib inline"
   ]
  },
  {
   "cell_type": "code",
   "execution_count": 2,
   "metadata": {},
   "outputs": [
    {
     "name": "stdout",
     "output_type": "stream",
     "text": [
      "b (5, 33600)\n",
      "(100, 5) (5, 33600)\n",
      "--> (100, 33600)\n",
      "c (5, 33600)\n",
      "(100, 5) (5, 33600)\n",
      "--> (100, 33600)\n",
      "d (5, 33600)\n",
      "(100, 5) (5, 33600)\n",
      "--> (100, 33600)\n",
      "e (5, 33600)\n",
      "(100, 5) (5, 33600)\n",
      "--> (100, 33600)\n",
      "f (5, 33600)\n",
      "(100, 5) (5, 33600)\n",
      "--> (100, 33600)\n",
      "g (6, 33600)\n",
      "(100, 6) (6, 33600)\n",
      "--> (100, 33600)\n",
      "h (5, 33600)\n",
      "(100, 5) (5, 33600)\n",
      "--> (100, 33600)\n",
      "i (6, 33600)\n",
      "(100, 6) (6, 33600)\n",
      "--> (100, 33600)\n",
      "j (5, 33600)\n",
      "(100, 5) (5, 33600)\n",
      "--> (100, 33600)\n",
      "k (5, 33600)\n",
      "(100, 5) (5, 33600)\n",
      "--> (100, 33600)\n",
      "l (5, 33600)\n",
      "(100, 5) (5, 33600)\n",
      "--> (100, 33600)\n",
      "m (5, 33600)\n",
      "(100, 5) (5, 33600)\n",
      "--> (100, 33600)\n",
      "(403200, 5)\n"
     ]
    }
   ],
   "source": [
    "data = EigenData()\n",
    "eigenworms = data.get_eigenworms('EigenWorms.mat')\n",
    "\n",
    "footage = data.get_footage('20150814-All-PNAS2011-DataStitched .mat')\n",
    "newdata = torch.rand(33600,5)\n",
    "for k in footage.keys():\n",
    "    print(k, footage[k].shape)\n",
    "    arr1=footage[k]\n",
    "\n",
    "    arr2=arr1[:5,]\n",
    "\n",
    "    r = data.reconstruct(footage[k])\n",
    "    print('-->', r.shape)\n",
    "    dataset1 = arr2.transpose()\n",
    "\n",
    "    newdata = np.concatenate((newdata,dataset1),axis=0)\n",
    "newdata = newdata[33600:,]\n",
    "print(newdata.shape)"
   ]
  },
  {
   "cell_type": "code",
   "execution_count": 3,
   "metadata": {},
   "outputs": [],
   "source": [
    "first_5_eigenworms = eigenworms[0:5,:]\n",
    "eig_worm_0 = eigenworms[0,:]\n",
    "eig_worm_1 = eigenworms[1,:]\n",
    "eig_worm_2 = eigenworms[2,:]\n",
    "eig_worm_3 = eigenworms[3,:]\n",
    "eig_worm_4 = eigenworms[4,:]"
   ]
  },
  {
   "cell_type": "code",
   "execution_count": 4,
   "metadata": {},
   "outputs": [
    {
     "name": "stdout",
     "output_type": "stream",
     "text": [
      "(386422, 5)\n",
      "386422\n"
     ]
    }
   ],
   "source": [
    "data1=newdata[~np.isnan(newdata).any(axis=1)]\n",
    "data1 = data1.astype('float32')\n",
    "print(data1.shape)\n",
    "print(len(data1))"
   ]
  },
  {
   "cell_type": "code",
   "execution_count": 5,
   "metadata": {},
   "outputs": [],
   "source": [
    "scaler = MinMaxScaler(feature_range=(0, 1))\n",
    "data1 = scaler.fit_transform(data1)"
   ]
  },
  {
   "cell_type": "code",
   "execution_count": 6,
   "metadata": {},
   "outputs": [],
   "source": [
    "def create_dataset(dataset, look_back=5):\n",
    "    dataX, dataY = [], []\n",
    "    for i in range(len(dataset) - look_back):\n",
    "        a = dataset[i:(i + look_back)]\n",
    "        dataX.append(a)\n",
    "        dataY.append(dataset[i + look_back])\n",
    "    return np.array(dataX), np.array(dataY)"
   ]
  },
  {
   "cell_type": "code",
   "execution_count": 7,
   "metadata": {},
   "outputs": [
    {
     "name": "stdout",
     "output_type": "stream",
     "text": [
      "(386417, 5, 5)\n",
      "(386417, 5)\n"
     ]
    }
   ],
   "source": [
    "data_X, data_Y = create_dataset(data1)\n",
    "\n",
    "print(data_X.shape)\n",
    "print(data_Y.shape)"
   ]
  },
  {
   "cell_type": "code",
   "execution_count": 8,
   "metadata": {},
   "outputs": [
    {
     "name": "stdout",
     "output_type": "stream",
     "text": [
      "(309133, 5, 5)\n",
      "(309133, 5)\n",
      "(77284, 5, 5)\n",
      "(77284, 5)\n"
     ]
    }
   ],
   "source": [
    "train_size = int(len(data_X) * 0.8)\n",
    "test_size = len(data_X) - train_size\n",
    "train_X = data_X[:train_size]\n",
    "train_Y = data_Y[:train_size]\n",
    "test_X = data_X[train_size:]\n",
    "test_Y = data_Y[train_size:]\n",
    "\n",
    "print(train_X.shape)\n",
    "print(train_Y.shape)\n",
    "print(test_X.shape)\n",
    "print(test_Y.shape)"
   ]
  },
  {
   "cell_type": "code",
   "execution_count": 9,
   "metadata": {},
   "outputs": [
    {
     "name": "stdout",
     "output_type": "stream",
     "text": [
      "Epoch 1/100\n",
      "604/604 - 41s - loss: 0.0106 - root_mean_squared_error: 0.1028 - val_loss: 0.0030 - val_root_mean_squared_error: 0.0546\n",
      "Epoch 2/100\n",
      "604/604 - 35s - loss: 0.0037 - root_mean_squared_error: 0.0609 - val_loss: 8.7307e-04 - val_root_mean_squared_error: 0.0295\n",
      "Epoch 3/100\n",
      "604/604 - 35s - loss: 0.0020 - root_mean_squared_error: 0.0448 - val_loss: 0.0010 - val_root_mean_squared_error: 0.0320\n",
      "Epoch 4/100\n",
      "604/604 - 36s - loss: 0.0014 - root_mean_squared_error: 0.0375 - val_loss: 5.7487e-04 - val_root_mean_squared_error: 0.0240\n",
      "Epoch 5/100\n",
      "604/604 - 35s - loss: 0.0011 - root_mean_squared_error: 0.0335 - val_loss: 6.7094e-04 - val_root_mean_squared_error: 0.0259\n",
      "Epoch 6/100\n",
      "604/604 - 35s - loss: 9.2912e-04 - root_mean_squared_error: 0.0305 - val_loss: 2.2931e-04 - val_root_mean_squared_error: 0.0151\n",
      "Epoch 7/100\n",
      "604/604 - 35s - loss: 7.9774e-04 - root_mean_squared_error: 0.0282 - val_loss: 3.0414e-04 - val_root_mean_squared_error: 0.0174\n",
      "Epoch 8/100\n",
      "604/604 - 36s - loss: 6.9787e-04 - root_mean_squared_error: 0.0264 - val_loss: 1.8933e-04 - val_root_mean_squared_error: 0.0138\n",
      "Epoch 9/100\n",
      "604/604 - 35s - loss: 6.2337e-04 - root_mean_squared_error: 0.0250 - val_loss: 2.4632e-04 - val_root_mean_squared_error: 0.0157\n",
      "Epoch 10/100\n",
      "604/604 - 35s - loss: 5.7076e-04 - root_mean_squared_error: 0.0239 - val_loss: 2.1756e-04 - val_root_mean_squared_error: 0.0148\n",
      "Epoch 11/100\n",
      "604/604 - 35s - loss: 5.3232e-04 - root_mean_squared_error: 0.0231 - val_loss: 2.2214e-04 - val_root_mean_squared_error: 0.0149\n",
      "Epoch 12/100\n",
      "604/604 - 36s - loss: 5.0894e-04 - root_mean_squared_error: 0.0226 - val_loss: 1.5514e-04 - val_root_mean_squared_error: 0.0125\n",
      "Epoch 13/100\n",
      "604/604 - 35s - loss: 4.8921e-04 - root_mean_squared_error: 0.0221 - val_loss: 1.2719e-04 - val_root_mean_squared_error: 0.0113\n",
      "Epoch 14/100\n",
      "604/604 - 35s - loss: 4.7624e-04 - root_mean_squared_error: 0.0218 - val_loss: 1.9712e-04 - val_root_mean_squared_error: 0.0140\n",
      "Epoch 15/100\n",
      "604/604 - 35s - loss: 4.6565e-04 - root_mean_squared_error: 0.0216 - val_loss: 1.4852e-04 - val_root_mean_squared_error: 0.0122\n",
      "Epoch 16/100\n",
      "604/604 - 35s - loss: 4.5583e-04 - root_mean_squared_error: 0.0214 - val_loss: 1.2039e-04 - val_root_mean_squared_error: 0.0110\n",
      "Epoch 17/100\n",
      "604/604 - 36s - loss: 4.4659e-04 - root_mean_squared_error: 0.0211 - val_loss: 1.1600e-04 - val_root_mean_squared_error: 0.0108\n",
      "Epoch 18/100\n",
      "604/604 - 36s - loss: 4.3980e-04 - root_mean_squared_error: 0.0210 - val_loss: 9.3023e-05 - val_root_mean_squared_error: 0.0096\n",
      "Epoch 19/100\n",
      "604/604 - 35s - loss: 4.3338e-04 - root_mean_squared_error: 0.0208 - val_loss: 1.1964e-04 - val_root_mean_squared_error: 0.0109\n",
      "Epoch 20/100\n",
      "604/604 - 34s - loss: 4.2653e-04 - root_mean_squared_error: 0.0207 - val_loss: 1.0488e-04 - val_root_mean_squared_error: 0.0102\n",
      "Epoch 21/100\n",
      "604/604 - 34s - loss: 4.2195e-04 - root_mean_squared_error: 0.0205 - val_loss: 1.2285e-04 - val_root_mean_squared_error: 0.0111\n",
      "Epoch 22/100\n",
      "604/604 - 34s - loss: 4.1667e-04 - root_mean_squared_error: 0.0204 - val_loss: 9.9379e-05 - val_root_mean_squared_error: 0.0100\n",
      "Epoch 23/100\n",
      "604/604 - 34s - loss: 4.1176e-04 - root_mean_squared_error: 0.0203 - val_loss: 9.2433e-05 - val_root_mean_squared_error: 0.0096\n",
      "Epoch 24/100\n",
      "604/604 - 34s - loss: 4.0681e-04 - root_mean_squared_error: 0.0202 - val_loss: 8.1086e-05 - val_root_mean_squared_error: 0.0090\n",
      "Epoch 25/100\n",
      "604/604 - 34s - loss: 4.0530e-04 - root_mean_squared_error: 0.0201 - val_loss: 7.0503e-05 - val_root_mean_squared_error: 0.0084\n",
      "Epoch 26/100\n",
      "604/604 - 35s - loss: 4.0059e-04 - root_mean_squared_error: 0.0200 - val_loss: 7.1593e-05 - val_root_mean_squared_error: 0.0085\n",
      "Epoch 27/100\n",
      "604/604 - 35s - loss: 3.9631e-04 - root_mean_squared_error: 0.0199 - val_loss: 1.2522e-04 - val_root_mean_squared_error: 0.0112\n",
      "Epoch 28/100\n",
      "604/604 - 34s - loss: 3.9349e-04 - root_mean_squared_error: 0.0198 - val_loss: 9.8224e-05 - val_root_mean_squared_error: 0.0099\n",
      "Epoch 29/100\n",
      "604/604 - 34s - loss: 3.9021e-04 - root_mean_squared_error: 0.0198 - val_loss: 1.2511e-04 - val_root_mean_squared_error: 0.0112\n",
      "Epoch 30/100\n",
      "604/604 - 34s - loss: 3.8699e-04 - root_mean_squared_error: 0.0197 - val_loss: 1.1190e-04 - val_root_mean_squared_error: 0.0106\n",
      "Epoch 31/100\n",
      "604/604 - 34s - loss: 3.8495e-04 - root_mean_squared_error: 0.0196 - val_loss: 1.1961e-04 - val_root_mean_squared_error: 0.0109\n",
      "Epoch 32/100\n",
      "604/604 - 34s - loss: 3.8109e-04 - root_mean_squared_error: 0.0195 - val_loss: 7.9882e-05 - val_root_mean_squared_error: 0.0089\n",
      "Epoch 33/100\n",
      "604/604 - 34s - loss: 3.8072e-04 - root_mean_squared_error: 0.0195 - val_loss: 7.4055e-05 - val_root_mean_squared_error: 0.0086\n",
      "Epoch 34/100\n",
      "604/604 - 35s - loss: 3.7807e-04 - root_mean_squared_error: 0.0194 - val_loss: 8.6434e-05 - val_root_mean_squared_error: 0.0093\n",
      "Epoch 35/100\n",
      "604/604 - 34s - loss: 3.7663e-04 - root_mean_squared_error: 0.0194 - val_loss: 5.6822e-05 - val_root_mean_squared_error: 0.0075\n",
      "Epoch 36/100\n",
      "604/604 - 34s - loss: 3.7362e-04 - root_mean_squared_error: 0.0193 - val_loss: 8.2655e-05 - val_root_mean_squared_error: 0.0091\n",
      "Epoch 37/100\n",
      "604/604 - 34s - loss: 3.7113e-04 - root_mean_squared_error: 0.0193 - val_loss: 6.6244e-05 - val_root_mean_squared_error: 0.0081\n",
      "Epoch 38/100\n",
      "604/604 - 34s - loss: 3.6842e-04 - root_mean_squared_error: 0.0192 - val_loss: 7.5910e-05 - val_root_mean_squared_error: 0.0087\n",
      "Epoch 39/100\n",
      "604/604 - 34s - loss: 3.6752e-04 - root_mean_squared_error: 0.0192 - val_loss: 1.0281e-04 - val_root_mean_squared_error: 0.0101\n",
      "Epoch 40/100\n",
      "604/604 - 34s - loss: 3.6472e-04 - root_mean_squared_error: 0.0191 - val_loss: 9.0171e-05 - val_root_mean_squared_error: 0.0095\n",
      "Epoch 41/100\n",
      "604/604 - 34s - loss: 3.6404e-04 - root_mean_squared_error: 0.0191 - val_loss: 1.1711e-04 - val_root_mean_squared_error: 0.0108\n",
      "Epoch 42/100\n",
      "604/604 - 34s - loss: 3.6269e-04 - root_mean_squared_error: 0.0190 - val_loss: 6.9110e-05 - val_root_mean_squared_error: 0.0083\n",
      "Epoch 43/100\n",
      "604/604 - 34s - loss: 3.6054e-04 - root_mean_squared_error: 0.0190 - val_loss: 5.2063e-05 - val_root_mean_squared_error: 0.0072\n",
      "Epoch 44/100\n",
      "604/604 - 34s - loss: 3.5931e-04 - root_mean_squared_error: 0.0190 - val_loss: 7.4734e-05 - val_root_mean_squared_error: 0.0086\n",
      "Epoch 45/100\n",
      "604/604 - 34s - loss: 3.5718e-04 - root_mean_squared_error: 0.0189 - val_loss: 6.9392e-05 - val_root_mean_squared_error: 0.0083\n",
      "Epoch 46/100\n",
      "604/604 - 34s - loss: 3.5665e-04 - root_mean_squared_error: 0.0189 - val_loss: 7.8928e-05 - val_root_mean_squared_error: 0.0089\n",
      "Epoch 47/100\n",
      "604/604 - 34s - loss: 3.5426e-04 - root_mean_squared_error: 0.0188 - val_loss: 6.9641e-05 - val_root_mean_squared_error: 0.0083\n",
      "Epoch 48/100\n",
      "604/604 - 34s - loss: 3.5316e-04 - root_mean_squared_error: 0.0188 - val_loss: 7.2446e-05 - val_root_mean_squared_error: 0.0085\n",
      "Epoch 49/100\n",
      "604/604 - 35s - loss: 3.5272e-04 - root_mean_squared_error: 0.0188 - val_loss: 1.0412e-04 - val_root_mean_squared_error: 0.0102\n",
      "Epoch 50/100\n",
      "604/604 - 34s - loss: 3.4967e-04 - root_mean_squared_error: 0.0187 - val_loss: 8.3704e-05 - val_root_mean_squared_error: 0.0091\n",
      "Epoch 51/100\n",
      "604/604 - 34s - loss: 3.4830e-04 - root_mean_squared_error: 0.0187 - val_loss: 8.2429e-05 - val_root_mean_squared_error: 0.0091\n",
      "Epoch 52/100\n",
      "604/604 - 34s - loss: 3.4827e-04 - root_mean_squared_error: 0.0187 - val_loss: 5.0800e-05 - val_root_mean_squared_error: 0.0071\n",
      "Epoch 53/100\n",
      "604/604 - 34s - loss: 3.4607e-04 - root_mean_squared_error: 0.0186 - val_loss: 6.8886e-05 - val_root_mean_squared_error: 0.0083\n",
      "Epoch 54/100\n",
      "604/604 - 34s - loss: 3.4533e-04 - root_mean_squared_error: 0.0186 - val_loss: 6.2972e-05 - val_root_mean_squared_error: 0.0079\n",
      "Epoch 55/100\n",
      "604/604 - 34s - loss: 3.4297e-04 - root_mean_squared_error: 0.0185 - val_loss: 5.9664e-05 - val_root_mean_squared_error: 0.0077\n",
      "Epoch 56/100\n",
      "604/604 - 34s - loss: 3.4318e-04 - root_mean_squared_error: 0.0185 - val_loss: 6.3443e-05 - val_root_mean_squared_error: 0.0080\n",
      "Epoch 57/100\n",
      "604/604 - 34s - loss: 3.4151e-04 - root_mean_squared_error: 0.0185 - val_loss: 5.9674e-05 - val_root_mean_squared_error: 0.0077\n",
      "Epoch 58/100\n",
      "604/604 - 34s - loss: 3.4075e-04 - root_mean_squared_error: 0.0185 - val_loss: 9.8437e-05 - val_root_mean_squared_error: 0.0099\n",
      "Epoch 59/100\n",
      "604/604 - 34s - loss: 3.3914e-04 - root_mean_squared_error: 0.0184 - val_loss: 6.5144e-05 - val_root_mean_squared_error: 0.0081\n"
     ]
    },
    {
     "name": "stdout",
     "output_type": "stream",
     "text": [
      "Epoch 60/100\n",
      "604/604 - 34s - loss: 3.3848e-04 - root_mean_squared_error: 0.0184 - val_loss: 8.2840e-05 - val_root_mean_squared_error: 0.0091\n",
      "Epoch 61/100\n",
      "604/604 - 34s - loss: 3.3808e-04 - root_mean_squared_error: 0.0184 - val_loss: 5.2964e-05 - val_root_mean_squared_error: 0.0073\n",
      "Epoch 62/100\n",
      "604/604 - 34s - loss: 3.3687e-04 - root_mean_squared_error: 0.0184 - val_loss: 5.8104e-05 - val_root_mean_squared_error: 0.0076\n",
      "Epoch 63/100\n",
      "604/604 - 34s - loss: 3.3506e-04 - root_mean_squared_error: 0.0183 - val_loss: 8.2450e-05 - val_root_mean_squared_error: 0.0091\n",
      "Epoch 64/100\n",
      "604/604 - 34s - loss: 3.3486e-04 - root_mean_squared_error: 0.0183 - val_loss: 7.8569e-05 - val_root_mean_squared_error: 0.0089\n",
      "Epoch 65/100\n",
      "604/604 - 34s - loss: 3.3400e-04 - root_mean_squared_error: 0.0183 - val_loss: 4.9833e-05 - val_root_mean_squared_error: 0.0071\n",
      "Epoch 66/100\n",
      "604/604 - 34s - loss: 3.3305e-04 - root_mean_squared_error: 0.0182 - val_loss: 7.1987e-05 - val_root_mean_squared_error: 0.0085\n",
      "Epoch 67/100\n",
      "604/604 - 34s - loss: 3.3190e-04 - root_mean_squared_error: 0.0182 - val_loss: 4.5555e-05 - val_root_mean_squared_error: 0.0067\n",
      "Epoch 68/100\n",
      "604/604 - 34s - loss: 3.3177e-04 - root_mean_squared_error: 0.0182 - val_loss: 4.4096e-05 - val_root_mean_squared_error: 0.0066\n",
      "Epoch 69/100\n",
      "604/604 - 36s - loss: 3.3000e-04 - root_mean_squared_error: 0.0182 - val_loss: 5.9730e-05 - val_root_mean_squared_error: 0.0077\n",
      "Epoch 70/100\n",
      "604/604 - 35s - loss: 3.2884e-04 - root_mean_squared_error: 0.0181 - val_loss: 8.3423e-05 - val_root_mean_squared_error: 0.0091\n",
      "Epoch 71/100\n",
      "604/604 - 34s - loss: 3.2823e-04 - root_mean_squared_error: 0.0181 - val_loss: 5.5401e-05 - val_root_mean_squared_error: 0.0074\n",
      "Epoch 72/100\n",
      "604/604 - 35s - loss: 3.2733e-04 - root_mean_squared_error: 0.0181 - val_loss: 6.1104e-05 - val_root_mean_squared_error: 0.0078\n",
      "Epoch 73/100\n",
      "604/604 - 35s - loss: 3.2749e-04 - root_mean_squared_error: 0.0181 - val_loss: 5.0987e-05 - val_root_mean_squared_error: 0.0071\n",
      "Epoch 74/100\n",
      "604/604 - 35s - loss: 3.2572e-04 - root_mean_squared_error: 0.0180 - val_loss: 5.3625e-05 - val_root_mean_squared_error: 0.0073\n",
      "Epoch 75/100\n",
      "604/604 - 35s - loss: 3.2458e-04 - root_mean_squared_error: 0.0180 - val_loss: 5.3460e-05 - val_root_mean_squared_error: 0.0073\n",
      "Epoch 76/100\n",
      "604/604 - 35s - loss: 3.2470e-04 - root_mean_squared_error: 0.0180 - val_loss: 5.7136e-05 - val_root_mean_squared_error: 0.0076\n",
      "Epoch 77/100\n",
      "604/604 - 35s - loss: 3.2476e-04 - root_mean_squared_error: 0.0180 - val_loss: 4.5456e-05 - val_root_mean_squared_error: 0.0067\n",
      "Epoch 78/100\n",
      "604/604 - 35s - loss: 3.2208e-04 - root_mean_squared_error: 0.0179 - val_loss: 5.6347e-05 - val_root_mean_squared_error: 0.0075\n",
      "Epoch 79/100\n",
      "604/604 - 35s - loss: 3.2311e-04 - root_mean_squared_error: 0.0180 - val_loss: 4.3266e-05 - val_root_mean_squared_error: 0.0066\n",
      "Epoch 80/100\n",
      "604/604 - 35s - loss: 3.2199e-04 - root_mean_squared_error: 0.0179 - val_loss: 6.5889e-05 - val_root_mean_squared_error: 0.0081\n",
      "Epoch 81/100\n",
      "604/604 - 35s - loss: 3.2043e-04 - root_mean_squared_error: 0.0179 - val_loss: 6.0094e-05 - val_root_mean_squared_error: 0.0078\n",
      "Epoch 82/100\n",
      "604/604 - 35s - loss: 3.2030e-04 - root_mean_squared_error: 0.0179 - val_loss: 4.1561e-05 - val_root_mean_squared_error: 0.0064\n",
      "Epoch 83/100\n",
      "604/604 - 35s - loss: 3.1871e-04 - root_mean_squared_error: 0.0179 - val_loss: 6.1423e-05 - val_root_mean_squared_error: 0.0078\n",
      "Epoch 84/100\n",
      "604/604 - 35s - loss: 3.1767e-04 - root_mean_squared_error: 0.0178 - val_loss: 4.4753e-05 - val_root_mean_squared_error: 0.0067\n",
      "Epoch 85/100\n",
      "604/604 - 35s - loss: 3.1871e-04 - root_mean_squared_error: 0.0179 - val_loss: 3.7625e-05 - val_root_mean_squared_error: 0.0061\n",
      "Epoch 86/100\n",
      "604/604 - 35s - loss: 3.1674e-04 - root_mean_squared_error: 0.0178 - val_loss: 4.6601e-05 - val_root_mean_squared_error: 0.0068\n",
      "Epoch 87/100\n",
      "604/604 - 35s - loss: 3.1785e-04 - root_mean_squared_error: 0.0178 - val_loss: 4.3619e-05 - val_root_mean_squared_error: 0.0066\n",
      "Epoch 88/100\n",
      "604/604 - 34s - loss: 3.1589e-04 - root_mean_squared_error: 0.0178 - val_loss: 4.5342e-05 - val_root_mean_squared_error: 0.0067\n",
      "Epoch 89/100\n",
      "604/604 - 34s - loss: 3.1546e-04 - root_mean_squared_error: 0.0178 - val_loss: 4.5413e-05 - val_root_mean_squared_error: 0.0067\n",
      "Epoch 90/100\n",
      "604/604 - 35s - loss: 3.1453e-04 - root_mean_squared_error: 0.0177 - val_loss: 4.6073e-05 - val_root_mean_squared_error: 0.0068\n",
      "Epoch 91/100\n",
      "604/604 - 34s - loss: 3.1394e-04 - root_mean_squared_error: 0.0177 - val_loss: 5.7667e-05 - val_root_mean_squared_error: 0.0076\n",
      "Epoch 92/100\n",
      "604/604 - 34s - loss: 3.1350e-04 - root_mean_squared_error: 0.0177 - val_loss: 6.0942e-05 - val_root_mean_squared_error: 0.0078\n",
      "Epoch 93/100\n",
      "604/604 - 34s - loss: 3.1351e-04 - root_mean_squared_error: 0.0177 - val_loss: 4.4719e-05 - val_root_mean_squared_error: 0.0067\n",
      "Epoch 94/100\n",
      "604/604 - 34s - loss: 3.1226e-04 - root_mean_squared_error: 0.0177 - val_loss: 3.9967e-05 - val_root_mean_squared_error: 0.0063\n",
      "Epoch 95/100\n",
      "604/604 - 34s - loss: 3.1146e-04 - root_mean_squared_error: 0.0176 - val_loss: 4.8428e-05 - val_root_mean_squared_error: 0.0070\n",
      "Epoch 96/100\n",
      "604/604 - 34s - loss: 3.1106e-04 - root_mean_squared_error: 0.0176 - val_loss: 3.9287e-05 - val_root_mean_squared_error: 0.0063\n",
      "Epoch 97/100\n",
      "604/604 - 34s - loss: 3.1089e-04 - root_mean_squared_error: 0.0176 - val_loss: 5.8308e-05 - val_root_mean_squared_error: 0.0076\n",
      "Epoch 98/100\n",
      "604/604 - 35s - loss: 3.1048e-04 - root_mean_squared_error: 0.0176 - val_loss: 5.8984e-05 - val_root_mean_squared_error: 0.0077\n",
      "Epoch 99/100\n",
      "604/604 - 34s - loss: 3.0934e-04 - root_mean_squared_error: 0.0176 - val_loss: 5.2512e-05 - val_root_mean_squared_error: 0.0072\n",
      "Epoch 100/100\n",
      "604/604 - 34s - loss: 3.0823e-04 - root_mean_squared_error: 0.0176 - val_loss: 4.1680e-05 - val_root_mean_squared_error: 0.0065\n"
     ]
    }
   ],
   "source": [
    "import tensorflow as tf\n",
    "from tensorflow import keras\n",
    "from tensorflow.keras import layers\n",
    "from keras.layers import Input,LSTM,Dropout,Dense\n",
    "\n",
    "\n",
    "\n",
    "# create and fit the LSTM network\n",
    "\n",
    "model = keras.Sequential()\n",
    "model.add(LSTM(100,input_shape=(5,5),return_sequences=True))\n",
    "model.add(Dropout(0.2))\n",
    "model.add(LSTM(100,input_shape=(5,5),return_sequences=True))\n",
    "model.add(Dropout(0.2))\n",
    "model.add(LSTM(100,input_shape=(5,5),return_sequences=True))\n",
    "model.add(Dropout(0.2))\n",
    "model.add(LSTM(100,input_shape=(5,5),return_sequences=False))\n",
    "model.add(Dropout(0.2))\n",
    "model.add(Dense(5,activation='linear'))\n",
    "model.compile(optimizer='rmsprop',loss='mean_squared_error',metrics=[tf.keras.metrics.RootMeanSquaredError()])\n",
    "\n",
    "history = model.fit(train_X, train_Y, epochs=100, batch_size=512, verbose=2, validation_data=(test_X, test_Y))"
   ]
  },
  {
   "cell_type": "code",
   "execution_count": 10,
   "metadata": {},
   "outputs": [
    {
     "data": {
      "image/png": "[encoded data removed]",
      "text/plain": [
       "<Figure size 432x288 with 1 Axes>"
      ]
     },
     "metadata": {
      "needs_background": "light"
     },
     "output_type": "display_data"
    }
   ],
   "source": [
    "epochs=range(len(history.history['loss']))\n",
    "plt.figure()\n",
    "plt.plot(epochs,history.history['loss'],'b',label='Training loss')\n",
    "plt.plot(epochs,history.history['val_loss'],'r',label='Test loss')\n",
    "plt.title('Training and Test loss')\n",
    "plt.legend()\n",
    "plt.show()"
   ]
  },
  {
   "cell_type": "code",
   "execution_count": 11,
   "metadata": {},
   "outputs": [
    {
     "data": {
      "image/png": "[encoded data removed]",
      "text/plain": [
       "<Figure size 432x288 with 1 Axes>"
      ]
     },
     "metadata": {
      "needs_background": "light"
     },
     "output_type": "display_data"
    }
   ],
   "source": [
    "epochs=range(len(history.history['root_mean_squared_error']))\n",
    "plt.figure()\n",
    "plt.plot(epochs,history.history['root_mean_squared_error'],'b',label='Training rmse')\n",
    "plt.plot(epochs,history.history['val_root_mean_squared_error'],'r',label='Test rmse')\n",
    "plt.title('Training and Test rmse')\n",
    "plt.legend()\n",
    "plt.show()"
   ]
  },
  {
   "cell_type": "code",
   "execution_count": 12,
   "metadata": {},
   "outputs": [],
   "source": [
    "testPredict = model.predict(test_X)"
   ]
  },
  {
   "cell_type": "code",
   "execution_count": 13,
   "metadata": {},
   "outputs": [
    {
     "name": "stdout",
     "output_type": "stream",
     "text": [
      "(77284, 5)\n",
      "(77284, 5)\n"
     ]
    }
   ],
   "source": [
    "print(testPredict.shape)\n",
    "print(test_Y.shape)"
   ]
  },
  {
   "cell_type": "code",
   "execution_count": 14,
   "metadata": {},
   "outputs": [
    {
     "name": "stdout",
     "output_type": "stream",
     "text": [
      "Test Score: 0.00646 RMSE\n"
     ]
    }
   ],
   "source": [
    "testScore = sqrt(mean_squared_error(test_Y, testPredict))\n",
    "print('Test Score: %.5f RMSE' % (testScore))"
   ]
  },
  {
   "cell_type": "code",
   "execution_count": 15,
   "metadata": {},
   "outputs": [],
   "source": [
    "newtestPredict = scaler.inverse_transform(testPredict)\n",
    "newtest_Y = scaler.inverse_transform(test_Y)"
   ]
  },
  {
   "cell_type": "code",
   "execution_count": 16,
   "metadata": {},
   "outputs": [
    {
     "name": "stdout",
     "output_type": "stream",
     "text": [
      "Test Score: 0.20688 RMSE\n"
     ]
    }
   ],
   "source": [
    "testScore = sqrt(mean_squared_error(newtest_Y, newtestPredict))\n",
    "print('Test Score: %.5f RMSE' % (testScore))"
   ]
  },
  {
   "cell_type": "code",
   "execution_count": null,
   "metadata": {},
   "outputs": [],
   "source": []
  }
 ],
 "metadata": {
  "kernelspec": {
   "display_name": "Python 3",
   "language": "python",
   "name": "python3"
  },
  "language_info": {
   "codemirror_mode": {
    "name": "ipython",
    "version": 3
   },
   "file_extension": ".py",
   "mimetype": "text/x-python",
   "name": "python",
   "nbconvert_exporter": "python",
   "pygments_lexer": "ipython3",
   "version": "3.8.3"
  }
 },
 "nbformat": 4,
 "nbformat_minor": 4
}
