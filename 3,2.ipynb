{
 "cells": [
  {
   "cell_type": "code",
   "execution_count": 14,
   "metadata": {},
   "outputs": [],
   "source": [
    "from test import EigenData\n",
    "import numpy as np\n",
    "import scipy.io\n",
    "import h5py\n",
    "from sklearn.preprocessing import MinMaxScaler\n",
    "from sklearn.metrics import mean_squared_error\n",
    "from math import sqrt\n",
    "import matplotlib.pyplot as plt\n",
    "from mpl_toolkits.axes_grid1 import make_axes_locatable\n",
    "import torch\n",
    "%matplotlib inline"
   ]
  },
  {
   "cell_type": "code",
   "execution_count": 15,
   "metadata": {},
   "outputs": [
    {
     "name": "stdout",
     "output_type": "stream",
     "text": [
      "b (5, 33600)\n",
      "(100, 5) (5, 33600)\n",
      "--> (100, 33600)\n",
      "c (5, 33600)\n",
      "(100, 5) (5, 33600)\n",
      "--> (100, 33600)\n",
      "d (5, 33600)\n",
      "(100, 5) (5, 33600)\n",
      "--> (100, 33600)\n",
      "e (5, 33600)\n",
      "(100, 5) (5, 33600)\n",
      "--> (100, 33600)\n",
      "f (5, 33600)\n",
      "(100, 5) (5, 33600)\n",
      "--> (100, 33600)\n",
      "g (6, 33600)\n",
      "(100, 6) (6, 33600)\n",
      "--> (100, 33600)\n",
      "h (5, 33600)\n",
      "(100, 5) (5, 33600)\n",
      "--> (100, 33600)\n",
      "i (6, 33600)\n",
      "(100, 6) (6, 33600)\n",
      "--> (100, 33600)\n",
      "j (5, 33600)\n",
      "(100, 5) (5, 33600)\n",
      "--> (100, 33600)\n",
      "k (5, 33600)\n",
      "(100, 5) (5, 33600)\n",
      "--> (100, 33600)\n",
      "l (5, 33600)\n",
      "(100, 5) (5, 33600)\n",
      "--> (100, 33600)\n",
      "m (5, 33600)\n",
      "(100, 5) (5, 33600)\n",
      "--> (100, 33600)\n",
      "(403200, 5)\n"
     ]
    }
   ],
   "source": [
    "data = EigenData()\n",
    "eigenworms = data.get_eigenworms('EigenWorms.mat')\n",
    "\n",
    "footage = data.get_footage('20150814-All-PNAS2011-DataStitched .mat')\n",
    "newdata = torch.rand(33600,5)\n",
    "for k in footage.keys():\n",
    "    print(k, footage[k].shape)\n",
    "    arr1=footage[k]\n",
    "\n",
    "    arr2=arr1[:5,]\n",
    "\n",
    "    r = data.reconstruct(footage[k])\n",
    "    print('-->', r.shape)\n",
    "    dataset1 = arr2.transpose()\n",
    "\n",
    "    newdata = np.concatenate((newdata,dataset1),axis=0)\n",
    "newdata = newdata[33600:,]\n",
    "print(newdata.shape)"
   ]
  },
  {
   "cell_type": "code",
   "execution_count": 16,
   "metadata": {},
   "outputs": [],
   "source": [
    "first_5_eigenworms = eigenworms[0:5,:]\n",
    "eig_worm_0 = eigenworms[0,:]\n",
    "eig_worm_1 = eigenworms[1,:]\n",
    "eig_worm_2 = eigenworms[2,:]\n",
    "eig_worm_3 = eigenworms[3,:]\n",
    "eig_worm_4 = eigenworms[4,:]"
   ]
  },
  {
   "cell_type": "code",
   "execution_count": 17,
   "metadata": {},
   "outputs": [
    {
     "name": "stdout",
     "output_type": "stream",
     "text": [
      "(386422, 5)\n",
      "386422\n"
     ]
    }
   ],
   "source": [
    "data1=newdata[~np.isnan(newdata).any(axis=1)]\n",
    "\n",
    "data1 = data1.astype('float32')\n",
    "print(data1.shape)\n",
    "print(len(data1))"
   ]
  },
  {
   "cell_type": "code",
   "execution_count": 18,
   "metadata": {},
   "outputs": [],
   "source": [
    "def create_dataset(data,n_predictions,n_next):\n",
    "    \n",
    "   \n",
    "    dim = data.shape[1]\n",
    "    train_X, train_Y = [], []\n",
    "    for i in range(data.shape[0]-n_predictions-n_next-1):\n",
    "        a = data[i:(i+n_predictions),:]\n",
    "        train_X.append(a)\n",
    "        tempb = data[(i+n_predictions):(i+n_predictions+n_next),:]\n",
    "        b = []\n",
    "        for j in range(len(tempb)):\n",
    "            for k in range(dim):\n",
    "                b.append(tempb[j,k])\n",
    "        train_Y.append(b)\n",
    "    train_X = np.array(train_X,dtype='float64')\n",
    "    train_Y = np.array(train_Y,dtype='float64')\n",
    "\n",
    "    return train_X, train_Y"
   ]
  },
  {
   "cell_type": "code",
   "execution_count": 19,
   "metadata": {},
   "outputs": [
    {
     "name": "stdout",
     "output_type": "stream",
     "text": [
      "(386416, 3, 5)\n",
      "(386416, 10)\n"
     ]
    }
   ],
   "source": [
    "X, Y = create_dataset(data1,3,2)\n",
    "\n",
    "print(X.shape)\n",
    "print(Y.shape)"
   ]
  },
  {
   "cell_type": "code",
   "execution_count": 20,
   "metadata": {},
   "outputs": [],
   "source": [
    "scaler = MinMaxScaler(feature_range=(0, 1))\n",
    "data1 = scaler.fit_transform(data1)\n",
    "Y = scaler.fit_transform(Y)"
   ]
  },
  {
   "cell_type": "code",
   "execution_count": 21,
   "metadata": {},
   "outputs": [
    {
     "name": "stdout",
     "output_type": "stream",
     "text": [
      "(386416, 3, 5)\n",
      "(386416, 10)\n"
     ]
    }
   ],
   "source": [
    "data_X, data_Y = create_dataset(data1,3,2)\n",
    "\n",
    "print(data_X.shape)\n",
    "print(data_Y.shape)"
   ]
  },
  {
   "cell_type": "code",
   "execution_count": 22,
   "metadata": {},
   "outputs": [
    {
     "name": "stdout",
     "output_type": "stream",
     "text": [
      "(309132, 3, 5)\n",
      "(309132, 10)\n",
      "(77284, 3, 5)\n",
      "(77284, 10)\n"
     ]
    }
   ],
   "source": [
    "train_size = int(len(data_X) * 0.8)\n",
    "test_size = len(data_X) - train_size\n",
    "train_X = data_X[:train_size]\n",
    "train_Y = Y[:train_size]\n",
    "test_X = data_X[train_size:]\n",
    "test_Y = Y[train_size:]\n",
    "\n",
    "print(train_X.shape)\n",
    "print(train_Y.shape)\n",
    "print(test_X.shape)\n",
    "print(test_Y.shape)"
   ]
  },
  {
   "cell_type": "code",
   "execution_count": 23,
   "metadata": {},
   "outputs": [
    {
     "name": "stdout",
     "output_type": "stream",
     "text": [
      "Epoch 1/100\n",
      "604/604 - 19s - loss: 0.0102 - root_mean_squared_error: 0.1008 - val_loss: 0.0026 - val_root_mean_squared_error: 0.0509\n",
      "Epoch 2/100\n",
      "604/604 - 14s - loss: 0.0039 - root_mean_squared_error: 0.0622 - val_loss: 0.0015 - val_root_mean_squared_error: 0.0385\n",
      "Epoch 3/100\n",
      "604/604 - 14s - loss: 0.0024 - root_mean_squared_error: 0.0490 - val_loss: 7.8976e-04 - val_root_mean_squared_error: 0.0281\n",
      "Epoch 4/100\n",
      "604/604 - 14s - loss: 0.0016 - root_mean_squared_error: 0.0399 - val_loss: 0.0011 - val_root_mean_squared_error: 0.0325\n",
      "Epoch 5/100\n",
      "604/604 - 14s - loss: 0.0012 - root_mean_squared_error: 0.0345 - val_loss: 6.2830e-04 - val_root_mean_squared_error: 0.0251\n",
      "Epoch 6/100\n",
      "604/604 - 14s - loss: 9.6713e-04 - root_mean_squared_error: 0.0311 - val_loss: 2.7537e-04 - val_root_mean_squared_error: 0.0166\n",
      "Epoch 7/100\n",
      "604/604 - 15s - loss: 8.1437e-04 - root_mean_squared_error: 0.0285 - val_loss: 3.9841e-04 - val_root_mean_squared_error: 0.0200\n",
      "Epoch 8/100\n",
      "604/604 - 14s - loss: 7.1017e-04 - root_mean_squared_error: 0.0266 - val_loss: 1.6999e-04 - val_root_mean_squared_error: 0.0130\n",
      "Epoch 9/100\n",
      "604/604 - 14s - loss: 6.4168e-04 - root_mean_squared_error: 0.0253 - val_loss: 2.7959e-04 - val_root_mean_squared_error: 0.0167\n",
      "Epoch 10/100\n",
      "604/604 - 14s - loss: 5.9558e-04 - root_mean_squared_error: 0.0244 - val_loss: 2.4903e-04 - val_root_mean_squared_error: 0.0158\n",
      "Epoch 11/100\n",
      "604/604 - 14s - loss: 5.7001e-04 - root_mean_squared_error: 0.0239 - val_loss: 2.1369e-04 - val_root_mean_squared_error: 0.0146\n",
      "Epoch 12/100\n",
      "604/604 - 14s - loss: 5.5499e-04 - root_mean_squared_error: 0.0236 - val_loss: 2.2612e-04 - val_root_mean_squared_error: 0.0150\n",
      "Epoch 13/100\n",
      "604/604 - 14s - loss: 5.4456e-04 - root_mean_squared_error: 0.0233 - val_loss: 1.9229e-04 - val_root_mean_squared_error: 0.0139\n",
      "Epoch 14/100\n",
      "604/604 - 14s - loss: 5.3470e-04 - root_mean_squared_error: 0.0231 - val_loss: 1.8451e-04 - val_root_mean_squared_error: 0.0136\n",
      "Epoch 15/100\n",
      "604/604 - 14s - loss: 5.2665e-04 - root_mean_squared_error: 0.0229 - val_loss: 2.5876e-04 - val_root_mean_squared_error: 0.0161\n",
      "Epoch 16/100\n",
      "604/604 - 14s - loss: 5.2165e-04 - root_mean_squared_error: 0.0228 - val_loss: 1.6463e-04 - val_root_mean_squared_error: 0.0128\n",
      "Epoch 17/100\n",
      "604/604 - 14s - loss: 5.1647e-04 - root_mean_squared_error: 0.0227 - val_loss: 1.4115e-04 - val_root_mean_squared_error: 0.0119\n",
      "Epoch 18/100\n",
      "604/604 - 14s - loss: 5.1101e-04 - root_mean_squared_error: 0.0226 - val_loss: 1.5186e-04 - val_root_mean_squared_error: 0.0123\n",
      "Epoch 19/100\n",
      "604/604 - 14s - loss: 5.0514e-04 - root_mean_squared_error: 0.0225 - val_loss: 1.9616e-04 - val_root_mean_squared_error: 0.0140\n",
      "Epoch 20/100\n",
      "604/604 - 14s - loss: 5.0166e-04 - root_mean_squared_error: 0.0224 - val_loss: 1.6098e-04 - val_root_mean_squared_error: 0.0127\n",
      "Epoch 21/100\n",
      "604/604 - 14s - loss: 4.9643e-04 - root_mean_squared_error: 0.0223 - val_loss: 1.9748e-04 - val_root_mean_squared_error: 0.0141\n",
      "Epoch 22/100\n",
      "604/604 - 14s - loss: 4.9349e-04 - root_mean_squared_error: 0.0222 - val_loss: 1.2822e-04 - val_root_mean_squared_error: 0.0113\n",
      "Epoch 23/100\n",
      "604/604 - 14s - loss: 4.8989e-04 - root_mean_squared_error: 0.0221 - val_loss: 2.0536e-04 - val_root_mean_squared_error: 0.0143\n",
      "Epoch 24/100\n",
      "604/604 - 14s - loss: 4.8597e-04 - root_mean_squared_error: 0.0220 - val_loss: 1.5758e-04 - val_root_mean_squared_error: 0.0126\n",
      "Epoch 25/100\n",
      "604/604 - 14s - loss: 4.8222e-04 - root_mean_squared_error: 0.0220 - val_loss: 1.3378e-04 - val_root_mean_squared_error: 0.0116\n",
      "Epoch 26/100\n",
      "604/604 - 14s - loss: 4.7927e-04 - root_mean_squared_error: 0.0219 - val_loss: 1.8995e-04 - val_root_mean_squared_error: 0.0138\n",
      "Epoch 27/100\n",
      "604/604 - 14s - loss: 4.7610e-04 - root_mean_squared_error: 0.0218 - val_loss: 1.8464e-04 - val_root_mean_squared_error: 0.0136\n",
      "Epoch 28/100\n",
      "604/604 - 14s - loss: 4.7358e-04 - root_mean_squared_error: 0.0218 - val_loss: 1.5777e-04 - val_root_mean_squared_error: 0.0126\n",
      "Epoch 29/100\n",
      "604/604 - 14s - loss: 4.7125e-04 - root_mean_squared_error: 0.0217 - val_loss: 1.2081e-04 - val_root_mean_squared_error: 0.0110\n",
      "Epoch 30/100\n",
      "604/604 - 14s - loss: 4.6852e-04 - root_mean_squared_error: 0.0216 - val_loss: 1.2448e-04 - val_root_mean_squared_error: 0.0112\n",
      "Epoch 31/100\n",
      "604/604 - 14s - loss: 4.6481e-04 - root_mean_squared_error: 0.0216 - val_loss: 1.4407e-04 - val_root_mean_squared_error: 0.0120\n",
      "Epoch 32/100\n",
      "604/604 - 14s - loss: 4.6184e-04 - root_mean_squared_error: 0.0215 - val_loss: 1.2014e-04 - val_root_mean_squared_error: 0.0110\n",
      "Epoch 33/100\n",
      "604/604 - 14s - loss: 4.5990e-04 - root_mean_squared_error: 0.0214 - val_loss: 1.2915e-04 - val_root_mean_squared_error: 0.0114\n",
      "Epoch 34/100\n",
      "604/604 - 14s - loss: 4.5793e-04 - root_mean_squared_error: 0.0214 - val_loss: 1.1473e-04 - val_root_mean_squared_error: 0.0107\n",
      "Epoch 35/100\n",
      "604/604 - 14s - loss: 4.5572e-04 - root_mean_squared_error: 0.0213 - val_loss: 1.3309e-04 - val_root_mean_squared_error: 0.0115\n",
      "Epoch 36/100\n",
      "604/604 - 14s - loss: 4.5399e-04 - root_mean_squared_error: 0.0213 - val_loss: 1.0639e-04 - val_root_mean_squared_error: 0.0103\n",
      "Epoch 37/100\n",
      "604/604 - 14s - loss: 4.5091e-04 - root_mean_squared_error: 0.0212 - val_loss: 1.1569e-04 - val_root_mean_squared_error: 0.0108\n",
      "Epoch 38/100\n",
      "604/604 - 14s - loss: 4.4889e-04 - root_mean_squared_error: 0.0212 - val_loss: 1.1952e-04 - val_root_mean_squared_error: 0.0109\n",
      "Epoch 39/100\n",
      "604/604 - 14s - loss: 4.4731e-04 - root_mean_squared_error: 0.0211 - val_loss: 1.3471e-04 - val_root_mean_squared_error: 0.0116\n",
      "Epoch 40/100\n",
      "604/604 - 14s - loss: 4.4488e-04 - root_mean_squared_error: 0.0211 - val_loss: 1.3102e-04 - val_root_mean_squared_error: 0.0114\n",
      "Epoch 41/100\n",
      "604/604 - 14s - loss: 4.4316e-04 - root_mean_squared_error: 0.0211 - val_loss: 1.3535e-04 - val_root_mean_squared_error: 0.0116\n",
      "Epoch 42/100\n",
      "604/604 - 14s - loss: 4.4215e-04 - root_mean_squared_error: 0.0210 - val_loss: 1.0932e-04 - val_root_mean_squared_error: 0.0105\n",
      "Epoch 43/100\n",
      "604/604 - 14s - loss: 4.3991e-04 - root_mean_squared_error: 0.0210 - val_loss: 1.0423e-04 - val_root_mean_squared_error: 0.0102\n",
      "Epoch 44/100\n",
      "604/604 - 14s - loss: 4.3788e-04 - root_mean_squared_error: 0.0209 - val_loss: 8.9490e-05 - val_root_mean_squared_error: 0.0095\n",
      "Epoch 45/100\n",
      "604/604 - 14s - loss: 4.3552e-04 - root_mean_squared_error: 0.0209 - val_loss: 1.1175e-04 - val_root_mean_squared_error: 0.0106\n",
      "Epoch 46/100\n",
      "604/604 - 14s - loss: 4.3362e-04 - root_mean_squared_error: 0.0208 - val_loss: 1.1680e-04 - val_root_mean_squared_error: 0.0108\n",
      "Epoch 47/100\n",
      "604/604 - 14s - loss: 4.3144e-04 - root_mean_squared_error: 0.0208 - val_loss: 1.4123e-04 - val_root_mean_squared_error: 0.0119\n",
      "Epoch 48/100\n",
      "604/604 - 14s - loss: 4.2994e-04 - root_mean_squared_error: 0.0207 - val_loss: 1.0712e-04 - val_root_mean_squared_error: 0.0103\n",
      "Epoch 49/100\n",
      "604/604 - 14s - loss: 4.2781e-04 - root_mean_squared_error: 0.0207 - val_loss: 1.2520e-04 - val_root_mean_squared_error: 0.0112\n",
      "Epoch 50/100\n",
      "604/604 - 14s - loss: 4.2623e-04 - root_mean_squared_error: 0.0206 - val_loss: 1.0034e-04 - val_root_mean_squared_error: 0.0100\n",
      "Epoch 51/100\n",
      "604/604 - 14s - loss: 4.2554e-04 - root_mean_squared_error: 0.0206 - val_loss: 1.0645e-04 - val_root_mean_squared_error: 0.0103\n",
      "Epoch 52/100\n",
      "604/604 - 14s - loss: 4.2470e-04 - root_mean_squared_error: 0.0206 - val_loss: 1.2823e-04 - val_root_mean_squared_error: 0.0113\n",
      "Epoch 53/100\n",
      "604/604 - 14s - loss: 4.2230e-04 - root_mean_squared_error: 0.0205 - val_loss: 1.1334e-04 - val_root_mean_squared_error: 0.0106\n",
      "Epoch 54/100\n",
      "604/604 - 14s - loss: 4.2115e-04 - root_mean_squared_error: 0.0205 - val_loss: 1.0612e-04 - val_root_mean_squared_error: 0.0103\n",
      "Epoch 55/100\n",
      "604/604 - 14s - loss: 4.1889e-04 - root_mean_squared_error: 0.0205 - val_loss: 1.1566e-04 - val_root_mean_squared_error: 0.0108\n",
      "Epoch 56/100\n",
      "604/604 - 14s - loss: 4.1801e-04 - root_mean_squared_error: 0.0204 - val_loss: 9.4688e-05 - val_root_mean_squared_error: 0.0097\n",
      "Epoch 57/100\n",
      "604/604 - 14s - loss: 4.1628e-04 - root_mean_squared_error: 0.0204 - val_loss: 1.1817e-04 - val_root_mean_squared_error: 0.0109\n",
      "Epoch 58/100\n",
      "604/604 - 14s - loss: 4.1414e-04 - root_mean_squared_error: 0.0204 - val_loss: 1.0446e-04 - val_root_mean_squared_error: 0.0102\n",
      "Epoch 59/100\n",
      "604/604 - 13s - loss: 4.1277e-04 - root_mean_squared_error: 0.0203 - val_loss: 1.0200e-04 - val_root_mean_squared_error: 0.0101\n"
     ]
    },
    {
     "name": "stdout",
     "output_type": "stream",
     "text": [
      "Epoch 60/100\n",
      "604/604 - 13s - loss: 4.1190e-04 - root_mean_squared_error: 0.0203 - val_loss: 1.0710e-04 - val_root_mean_squared_error: 0.0103\n",
      "Epoch 61/100\n",
      "604/604 - 13s - loss: 4.1052e-04 - root_mean_squared_error: 0.0203 - val_loss: 1.2288e-04 - val_root_mean_squared_error: 0.0111\n",
      "Epoch 62/100\n",
      "604/604 - 14s - loss: 4.0948e-04 - root_mean_squared_error: 0.0202 - val_loss: 1.1121e-04 - val_root_mean_squared_error: 0.0105\n",
      "Epoch 63/100\n",
      "604/604 - 14s - loss: 4.0803e-04 - root_mean_squared_error: 0.0202 - val_loss: 1.0253e-04 - val_root_mean_squared_error: 0.0101\n",
      "Epoch 64/100\n",
      "604/604 - 14s - loss: 4.0681e-04 - root_mean_squared_error: 0.0202 - val_loss: 1.1476e-04 - val_root_mean_squared_error: 0.0107\n",
      "Epoch 65/100\n",
      "604/604 - 14s - loss: 4.0508e-04 - root_mean_squared_error: 0.0201 - val_loss: 9.3537e-05 - val_root_mean_squared_error: 0.0097\n",
      "Epoch 66/100\n",
      "604/604 - 14s - loss: 4.0544e-04 - root_mean_squared_error: 0.0201 - val_loss: 1.1935e-04 - val_root_mean_squared_error: 0.0109\n",
      "Epoch 67/100\n",
      "604/604 - 14s - loss: 4.0326e-04 - root_mean_squared_error: 0.0201 - val_loss: 1.0665e-04 - val_root_mean_squared_error: 0.0103\n",
      "Epoch 68/100\n",
      "604/604 - 14s - loss: 4.0254e-04 - root_mean_squared_error: 0.0201 - val_loss: 9.8543e-05 - val_root_mean_squared_error: 0.0099\n",
      "Epoch 69/100\n",
      "604/604 - 14s - loss: 4.0125e-04 - root_mean_squared_error: 0.0200 - val_loss: 1.0251e-04 - val_root_mean_squared_error: 0.0101\n",
      "Epoch 70/100\n",
      "604/604 - 14s - loss: 3.9949e-04 - root_mean_squared_error: 0.0200 - val_loss: 1.0821e-04 - val_root_mean_squared_error: 0.0104\n",
      "Epoch 71/100\n",
      "604/604 - 14s - loss: 3.9985e-04 - root_mean_squared_error: 0.0200 - val_loss: 1.0767e-04 - val_root_mean_squared_error: 0.0104\n",
      "Epoch 72/100\n",
      "604/604 - 14s - loss: 3.9876e-04 - root_mean_squared_error: 0.0200 - val_loss: 1.0058e-04 - val_root_mean_squared_error: 0.0100\n",
      "Epoch 73/100\n",
      "604/604 - 14s - loss: 3.9786e-04 - root_mean_squared_error: 0.0199 - val_loss: 1.0874e-04 - val_root_mean_squared_error: 0.0104\n",
      "Epoch 74/100\n",
      "604/604 - 14s - loss: 3.9604e-04 - root_mean_squared_error: 0.0199 - val_loss: 7.7370e-05 - val_root_mean_squared_error: 0.0088\n",
      "Epoch 75/100\n",
      "604/604 - 14s - loss: 3.9510e-04 - root_mean_squared_error: 0.0199 - val_loss: 9.4950e-05 - val_root_mean_squared_error: 0.0097\n",
      "Epoch 76/100\n",
      "604/604 - 14s - loss: 3.9485e-04 - root_mean_squared_error: 0.0199 - val_loss: 7.9611e-05 - val_root_mean_squared_error: 0.0089\n",
      "Epoch 77/100\n",
      "604/604 - 14s - loss: 3.9455e-04 - root_mean_squared_error: 0.0199 - val_loss: 8.1633e-05 - val_root_mean_squared_error: 0.0090\n",
      "Epoch 78/100\n",
      "604/604 - 14s - loss: 3.9175e-04 - root_mean_squared_error: 0.0198 - val_loss: 1.0287e-04 - val_root_mean_squared_error: 0.0101\n",
      "Epoch 79/100\n",
      "604/604 - 14s - loss: 3.9233e-04 - root_mean_squared_error: 0.0198 - val_loss: 1.1563e-04 - val_root_mean_squared_error: 0.0108\n",
      "Epoch 80/100\n",
      "604/604 - 14s - loss: 3.9149e-04 - root_mean_squared_error: 0.0198 - val_loss: 9.2530e-05 - val_root_mean_squared_error: 0.0096\n",
      "Epoch 81/100\n",
      "604/604 - 14s - loss: 3.9103e-04 - root_mean_squared_error: 0.0198 - val_loss: 7.7095e-05 - val_root_mean_squared_error: 0.0088\n",
      "Epoch 82/100\n",
      "604/604 - 14s - loss: 3.8987e-04 - root_mean_squared_error: 0.0197 - val_loss: 9.3359e-05 - val_root_mean_squared_error: 0.0097\n",
      "Epoch 83/100\n",
      "604/604 - 14s - loss: 3.8915e-04 - root_mean_squared_error: 0.0197 - val_loss: 8.2722e-05 - val_root_mean_squared_error: 0.0091\n",
      "Epoch 84/100\n",
      "604/604 - 14s - loss: 3.8785e-04 - root_mean_squared_error: 0.0197 - val_loss: 1.0240e-04 - val_root_mean_squared_error: 0.0101\n",
      "Epoch 85/100\n",
      "604/604 - 14s - loss: 3.8834e-04 - root_mean_squared_error: 0.0197 - val_loss: 1.0734e-04 - val_root_mean_squared_error: 0.0104\n",
      "Epoch 86/100\n",
      "604/604 - 14s - loss: 3.8646e-04 - root_mean_squared_error: 0.0197 - val_loss: 7.9360e-05 - val_root_mean_squared_error: 0.0089\n",
      "Epoch 87/100\n",
      "604/604 - 14s - loss: 3.8576e-04 - root_mean_squared_error: 0.0196 - val_loss: 9.0442e-05 - val_root_mean_squared_error: 0.0095\n",
      "Epoch 88/100\n",
      "604/604 - 13s - loss: 3.8558e-04 - root_mean_squared_error: 0.0196 - val_loss: 9.0706e-05 - val_root_mean_squared_error: 0.0095\n",
      "Epoch 89/100\n",
      "604/604 - 14s - loss: 3.8535e-04 - root_mean_squared_error: 0.0196 - val_loss: 8.9385e-05 - val_root_mean_squared_error: 0.0095\n",
      "Epoch 90/100\n",
      "604/604 - 14s - loss: 3.8376e-04 - root_mean_squared_error: 0.0196 - val_loss: 8.0982e-05 - val_root_mean_squared_error: 0.0090\n",
      "Epoch 91/100\n",
      "604/604 - 14s - loss: 3.8308e-04 - root_mean_squared_error: 0.0196 - val_loss: 1.0676e-04 - val_root_mean_squared_error: 0.0103\n",
      "Epoch 92/100\n",
      "604/604 - 14s - loss: 3.8265e-04 - root_mean_squared_error: 0.0196 - val_loss: 9.2912e-05 - val_root_mean_squared_error: 0.0096\n",
      "Epoch 93/100\n",
      "604/604 - 14s - loss: 3.8211e-04 - root_mean_squared_error: 0.0195 - val_loss: 1.0526e-04 - val_root_mean_squared_error: 0.0103\n",
      "Epoch 94/100\n",
      "604/604 - 14s - loss: 3.8105e-04 - root_mean_squared_error: 0.0195 - val_loss: 9.3448e-05 - val_root_mean_squared_error: 0.0097\n",
      "Epoch 95/100\n",
      "604/604 - 14s - loss: 3.8045e-04 - root_mean_squared_error: 0.0195 - val_loss: 8.8538e-05 - val_root_mean_squared_error: 0.0094\n",
      "Epoch 96/100\n",
      "604/604 - 14s - loss: 3.7921e-04 - root_mean_squared_error: 0.0195 - val_loss: 8.6752e-05 - val_root_mean_squared_error: 0.0093\n",
      "Epoch 97/100\n",
      "604/604 - 14s - loss: 3.7964e-04 - root_mean_squared_error: 0.0195 - val_loss: 8.5634e-05 - val_root_mean_squared_error: 0.0093\n",
      "Epoch 98/100\n",
      "604/604 - 14s - loss: 3.7845e-04 - root_mean_squared_error: 0.0195 - val_loss: 8.2783e-05 - val_root_mean_squared_error: 0.0091\n",
      "Epoch 99/100\n",
      "604/604 - 14s - loss: 3.7923e-04 - root_mean_squared_error: 0.0195 - val_loss: 8.0916e-05 - val_root_mean_squared_error: 0.0090\n",
      "Epoch 100/100\n",
      "604/604 - 14s - loss: 3.7684e-04 - root_mean_squared_error: 0.0194 - val_loss: 8.6321e-05 - val_root_mean_squared_error: 0.0093\n"
     ]
    }
   ],
   "source": [
    "import tensorflow as tf\n",
    "from tensorflow import keras\n",
    "from tensorflow.keras import layers\n",
    "from keras.layers import Input,LSTM,Dropout,Dense\n",
    "\n",
    "\n",
    "timesteps = 3\n",
    "# create and fit the LSTM network\n",
    "\n",
    "model = keras.Sequential()\n",
    "model.add(LSTM(100,input_shape=(timesteps,5),return_sequences=True))\n",
    "model.add(Dropout(0.2))\n",
    "model.add(LSTM(100,input_shape=(timesteps,5),return_sequences=True))\n",
    "model.add(Dropout(0.2))\n",
    "model.add(LSTM(100,input_shape=(timesteps,5),return_sequences=False))\n",
    "model.add(Dropout(0.2))\n",
    "model.add(Dense(10,activation='linear'))\n",
    "model.compile(optimizer='rmsprop',loss='mean_squared_error',metrics=[tf.keras.metrics.RootMeanSquaredError()])\n",
    "\n",
    "history = model.fit(train_X, train_Y, epochs=100, batch_size=512, verbose=2, validation_data=(test_X, test_Y))"
   ]
  },
  {
   "cell_type": "code",
   "execution_count": 24,
   "metadata": {},
   "outputs": [],
   "source": [
    "testPredict = model.predict(test_X)"
   ]
  },
  {
   "cell_type": "code",
   "execution_count": 25,
   "metadata": {},
   "outputs": [],
   "source": [
    "newtestPredict = scaler.inverse_transform(testPredict)\n",
    "newtest_Y = scaler.inverse_transform(test_Y)"
   ]
  },
  {
   "cell_type": "code",
   "execution_count": 26,
   "metadata": {},
   "outputs": [
    {
     "name": "stdout",
     "output_type": "stream",
     "text": [
      "Test Score: 0.30611 RMSE\n"
     ]
    }
   ],
   "source": [
    "testScore = sqrt(mean_squared_error(newtest_Y, newtestPredict))\n",
    "print('Test Score: %.5f RMSE' % (testScore))"
   ]
  },
  {
   "cell_type": "code",
   "execution_count": null,
   "metadata": {},
   "outputs": [],
   "source": []
  }
 ],
 "metadata": {
  "kernelspec": {
   "display_name": "Python 3",
   "language": "python",
   "name": "python3"
  },
  "language_info": {
   "codemirror_mode": {
    "name": "ipython",
    "version": 3
   },
   "file_extension": ".py",
   "mimetype": "text/x-python",
   "name": "python",
   "nbconvert_exporter": "python",
   "pygments_lexer": "ipython3",
   "version": "3.8.3"
  }
 },
 "nbformat": 4,
 "nbformat_minor": 4
}
