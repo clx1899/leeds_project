{
 "cells": [
  {
   "cell_type": "code",
   "execution_count": 1,
   "metadata": {},
   "outputs": [],
   "source": [
    "from test import EigenData\n",
    "import numpy as np\n",
    "import scipy.io\n",
    "import h5py\n",
    "from sklearn.preprocessing import MinMaxScaler\n",
    "from sklearn.metrics import mean_squared_error\n",
    "from math import sqrt\n",
    "import matplotlib.pyplot as plt\n",
    "from mpl_toolkits.axes_grid1 import make_axes_locatable\n",
    "import torch\n",
    "%matplotlib inline"
   ]
  },
  {
   "cell_type": "code",
   "execution_count": 2,
   "metadata": {},
   "outputs": [
    {
     "name": "stdout",
     "output_type": "stream",
     "text": [
      "b (5, 33600)\n",
      "(100, 5) (5, 33600)\n",
      "--> (100, 33600)\n",
      "c (5, 33600)\n",
      "(100, 5) (5, 33600)\n",
      "--> (100, 33600)\n",
      "d (5, 33600)\n",
      "(100, 5) (5, 33600)\n",
      "--> (100, 33600)\n",
      "e (5, 33600)\n",
      "(100, 5) (5, 33600)\n",
      "--> (100, 33600)\n",
      "f (5, 33600)\n",
      "(100, 5) (5, 33600)\n",
      "--> (100, 33600)\n",
      "g (6, 33600)\n",
      "(100, 6) (6, 33600)\n",
      "--> (100, 33600)\n",
      "h (5, 33600)\n",
      "(100, 5) (5, 33600)\n",
      "--> (100, 33600)\n",
      "i (6, 33600)\n",
      "(100, 6) (6, 33600)\n",
      "--> (100, 33600)\n",
      "j (5, 33600)\n",
      "(100, 5) (5, 33600)\n",
      "--> (100, 33600)\n",
      "k (5, 33600)\n",
      "(100, 5) (5, 33600)\n",
      "--> (100, 33600)\n",
      "l (5, 33600)\n",
      "(100, 5) (5, 33600)\n",
      "--> (100, 33600)\n",
      "m (5, 33600)\n",
      "(100, 5) (5, 33600)\n",
      "--> (100, 33600)\n",
      "(403200, 5)\n"
     ]
    }
   ],
   "source": [
    "data = EigenData()\n",
    "eigenworms = data.get_eigenworms('EigenWorms.mat')\n",
    "\n",
    "footage = data.get_footage('20150814-All-PNAS2011-DataStitched .mat')\n",
    "newdata = torch.rand(33600,5)\n",
    "for k in footage.keys():\n",
    "    print(k, footage[k].shape)\n",
    "    arr1=footage[k]\n",
    "\n",
    "    arr2=arr1[:5,]\n",
    "\n",
    "    r = data.reconstruct(footage[k])\n",
    "    print('-->', r.shape)\n",
    "    dataset1 = arr2.transpose()\n",
    "\n",
    "    newdata = np.concatenate((newdata,dataset1),axis=0)\n",
    "newdata = newdata[33600:,]\n",
    "print(newdata.shape)"
   ]
  },
  {
   "cell_type": "code",
   "execution_count": 3,
   "metadata": {},
   "outputs": [],
   "source": [
    "first_5_eigenworms = eigenworms[0:5,:]\n",
    "eig_worm_0 = eigenworms[0,:]\n",
    "eig_worm_1 = eigenworms[1,:]\n",
    "eig_worm_2 = eigenworms[2,:]\n",
    "eig_worm_3 = eigenworms[3,:]\n",
    "eig_worm_4 = eigenworms[4,:]"
   ]
  },
  {
   "cell_type": "code",
   "execution_count": 4,
   "metadata": {},
   "outputs": [
    {
     "name": "stdout",
     "output_type": "stream",
     "text": [
      "(386422, 5)\n",
      "386422\n"
     ]
    }
   ],
   "source": [
    "data1=newdata[~np.isnan(newdata).any(axis=1)]\n",
    "data1 = data1.astype('float32')\n",
    "print(data1.shape)\n",
    "print(len(data1))"
   ]
  },
  {
   "cell_type": "code",
   "execution_count": 5,
   "metadata": {},
   "outputs": [],
   "source": [
    "scaler = MinMaxScaler(feature_range=(0, 1))\n",
    "data1 = scaler.fit_transform(data1)"
   ]
  },
  {
   "cell_type": "code",
   "execution_count": 6,
   "metadata": {},
   "outputs": [],
   "source": [
    "def create_dataset(dataset, look_back=5):\n",
    "    dataX, dataY = [], []\n",
    "    for i in range(len(dataset) - look_back):\n",
    "        a = dataset[i:(i + look_back)]\n",
    "        dataX.append(a)\n",
    "        dataY.append(dataset[i + look_back])\n",
    "    return np.array(dataX), np.array(dataY)"
   ]
  },
  {
   "cell_type": "code",
   "execution_count": 7,
   "metadata": {},
   "outputs": [
    {
     "name": "stdout",
     "output_type": "stream",
     "text": [
      "(386417, 5, 5)\n",
      "(386417, 5)\n"
     ]
    }
   ],
   "source": [
    "data_X, data_Y = create_dataset(data1)\n",
    "\n",
    "print(data_X.shape)\n",
    "print(data_Y.shape)"
   ]
  },
  {
   "cell_type": "code",
   "execution_count": 8,
   "metadata": {},
   "outputs": [
    {
     "name": "stdout",
     "output_type": "stream",
     "text": [
      "(309133, 5, 5)\n",
      "(309133, 5)\n",
      "(77284, 5, 5)\n",
      "(77284, 5)\n"
     ]
    }
   ],
   "source": [
    "train_size = int(len(data_X) * 0.8)\n",
    "test_size = len(data_X) - train_size\n",
    "train_X = data_X[:train_size]\n",
    "train_Y = data_Y[:train_size]\n",
    "test_X = data_X[train_size:]\n",
    "test_Y = data_Y[train_size:]\n",
    "\n",
    "print(train_X.shape)\n",
    "print(train_Y.shape)\n",
    "print(test_X.shape)\n",
    "print(test_Y.shape)"
   ]
  },
  {
   "cell_type": "code",
   "execution_count": 9,
   "metadata": {},
   "outputs": [
    {
     "name": "stdout",
     "output_type": "stream",
     "text": [
      "Epoch 1/100\n",
      "604/604 - 107s - loss: 0.0106 - root_mean_squared_error: 0.1030 - val_loss: 0.0019 - val_root_mean_squared_error: 0.0437\n",
      "Epoch 2/100\n",
      "604/604 - 98s - loss: 0.0027 - root_mean_squared_error: 0.0518 - val_loss: 0.0012 - val_root_mean_squared_error: 0.0346\n",
      "Epoch 3/100\n",
      "604/604 - 103s - loss: 0.0016 - root_mean_squared_error: 0.0395 - val_loss: 6.8407e-04 - val_root_mean_squared_error: 0.0262\n",
      "Epoch 4/100\n",
      "604/604 - 102s - loss: 0.0012 - root_mean_squared_error: 0.0346 - val_loss: 5.5619e-04 - val_root_mean_squared_error: 0.0236\n",
      "Epoch 5/100\n",
      "604/604 - 103s - loss: 9.8982e-04 - root_mean_squared_error: 0.0315 - val_loss: 2.9254e-04 - val_root_mean_squared_error: 0.0171\n",
      "Epoch 6/100\n",
      "604/604 - 102s - loss: 8.5333e-04 - root_mean_squared_error: 0.0292 - val_loss: 4.0421e-04 - val_root_mean_squared_error: 0.0201\n",
      "Epoch 7/100\n",
      "604/604 - 99s - loss: 7.5475e-04 - root_mean_squared_error: 0.0275 - val_loss: 5.1557e-04 - val_root_mean_squared_error: 0.0227\n",
      "Epoch 8/100\n",
      "604/604 - 96s - loss: 6.7594e-04 - root_mean_squared_error: 0.0260 - val_loss: 4.6605e-04 - val_root_mean_squared_error: 0.0216\n",
      "Epoch 9/100\n",
      "604/604 - 97s - loss: 6.1252e-04 - root_mean_squared_error: 0.0247 - val_loss: 3.2094e-04 - val_root_mean_squared_error: 0.0179\n",
      "Epoch 10/100\n",
      "604/604 - 97s - loss: 5.5968e-04 - root_mean_squared_error: 0.0237 - val_loss: 1.7190e-04 - val_root_mean_squared_error: 0.0131\n",
      "Epoch 11/100\n",
      "604/604 - 98s - loss: 5.0982e-04 - root_mean_squared_error: 0.0226 - val_loss: 4.7423e-04 - val_root_mean_squared_error: 0.0218\n",
      "Epoch 12/100\n",
      "604/604 - 100s - loss: 4.7347e-04 - root_mean_squared_error: 0.0218 - val_loss: 2.4339e-04 - val_root_mean_squared_error: 0.0156\n",
      "Epoch 13/100\n",
      "604/604 - 97s - loss: 4.3783e-04 - root_mean_squared_error: 0.0209 - val_loss: 1.5283e-04 - val_root_mean_squared_error: 0.0124\n",
      "Epoch 14/100\n",
      "604/604 - 97s - loss: 4.0936e-04 - root_mean_squared_error: 0.0202 - val_loss: 1.2768e-04 - val_root_mean_squared_error: 0.0113\n",
      "Epoch 15/100\n",
      "604/604 - 97s - loss: 3.8455e-04 - root_mean_squared_error: 0.0196 - val_loss: 1.7840e-04 - val_root_mean_squared_error: 0.0134\n",
      "Epoch 16/100\n",
      "604/604 - 97s - loss: 3.6352e-04 - root_mean_squared_error: 0.0191 - val_loss: 1.7511e-04 - val_root_mean_squared_error: 0.0132\n",
      "Epoch 17/100\n",
      "604/604 - 97s - loss: 3.4522e-04 - root_mean_squared_error: 0.0186 - val_loss: 1.2688e-04 - val_root_mean_squared_error: 0.0113\n",
      "Epoch 18/100\n",
      "604/604 - 97s - loss: 3.3159e-04 - root_mean_squared_error: 0.0182 - val_loss: 1.2634e-04 - val_root_mean_squared_error: 0.0112\n",
      "Epoch 19/100\n",
      "604/604 - 97s - loss: 3.1918e-04 - root_mean_squared_error: 0.0179 - val_loss: 9.5675e-05 - val_root_mean_squared_error: 0.0098\n",
      "Epoch 20/100\n",
      "604/604 - 98s - loss: 3.1050e-04 - root_mean_squared_error: 0.0176 - val_loss: 1.4520e-04 - val_root_mean_squared_error: 0.0121\n",
      "Epoch 21/100\n",
      "604/604 - 97s - loss: 3.0347e-04 - root_mean_squared_error: 0.0174 - val_loss: 1.1944e-04 - val_root_mean_squared_error: 0.0109\n",
      "Epoch 22/100\n",
      "604/604 - 97s - loss: 2.9616e-04 - root_mean_squared_error: 0.0172 - val_loss: 1.5163e-04 - val_root_mean_squared_error: 0.0123\n",
      "Epoch 23/100\n",
      "604/604 - 97s - loss: 2.9115e-04 - root_mean_squared_error: 0.0171 - val_loss: 1.1818e-04 - val_root_mean_squared_error: 0.0109\n",
      "Epoch 24/100\n",
      "604/604 - 97s - loss: 2.8649e-04 - root_mean_squared_error: 0.0169 - val_loss: 1.6296e-04 - val_root_mean_squared_error: 0.0128\n",
      "Epoch 25/100\n",
      "604/604 - 96s - loss: 2.8069e-04 - root_mean_squared_error: 0.0168 - val_loss: 1.4660e-04 - val_root_mean_squared_error: 0.0121\n",
      "Epoch 26/100\n",
      "604/604 - 97s - loss: 2.7696e-04 - root_mean_squared_error: 0.0166 - val_loss: 1.4396e-04 - val_root_mean_squared_error: 0.0120\n",
      "Epoch 27/100\n",
      "604/604 - 96s - loss: 2.7277e-04 - root_mean_squared_error: 0.0165 - val_loss: 1.1233e-04 - val_root_mean_squared_error: 0.0106\n",
      "Epoch 28/100\n",
      "604/604 - 97s - loss: 2.6942e-04 - root_mean_squared_error: 0.0164 - val_loss: 1.1305e-04 - val_root_mean_squared_error: 0.0106\n",
      "Epoch 29/100\n",
      "604/604 - 107s - loss: 2.6619e-04 - root_mean_squared_error: 0.0163 - val_loss: 1.5763e-04 - val_root_mean_squared_error: 0.0126\n",
      "Epoch 30/100\n",
      "604/604 - 113s - loss: 2.6371e-04 - root_mean_squared_error: 0.0162 - val_loss: 1.0696e-04 - val_root_mean_squared_error: 0.0103\n",
      "Epoch 31/100\n",
      "604/604 - 107s - loss: 2.6066e-04 - root_mean_squared_error: 0.0161 - val_loss: 1.1730e-04 - val_root_mean_squared_error: 0.0108\n",
      "Epoch 32/100\n",
      "604/604 - 107s - loss: 2.5786e-04 - root_mean_squared_error: 0.0161 - val_loss: 8.2934e-05 - val_root_mean_squared_error: 0.0091\n",
      "Epoch 33/100\n",
      "604/604 - 108s - loss: 2.5527e-04 - root_mean_squared_error: 0.0160 - val_loss: 1.0652e-04 - val_root_mean_squared_error: 0.0103\n",
      "Epoch 34/100\n",
      "604/604 - 106s - loss: 2.5158e-04 - root_mean_squared_error: 0.0159 - val_loss: 1.4320e-04 - val_root_mean_squared_error: 0.0120\n",
      "Epoch 35/100\n",
      "604/604 - 107s - loss: 2.4947e-04 - root_mean_squared_error: 0.0158 - val_loss: 6.0692e-05 - val_root_mean_squared_error: 0.0078\n",
      "Epoch 36/100\n",
      "604/604 - 107s - loss: 2.4697e-04 - root_mean_squared_error: 0.0157 - val_loss: 1.0687e-04 - val_root_mean_squared_error: 0.0103\n",
      "Epoch 37/100\n",
      "604/604 - 106s - loss: 2.4520e-04 - root_mean_squared_error: 0.0157 - val_loss: 1.1319e-04 - val_root_mean_squared_error: 0.0106\n",
      "Epoch 38/100\n",
      "604/604 - 111s - loss: 2.4308e-04 - root_mean_squared_error: 0.0156 - val_loss: 5.8297e-05 - val_root_mean_squared_error: 0.0076\n",
      "Epoch 39/100\n",
      "604/604 - 108s - loss: 2.4087e-04 - root_mean_squared_error: 0.0155 - val_loss: 1.2121e-04 - val_root_mean_squared_error: 0.0110\n",
      "Epoch 40/100\n",
      "604/604 - 107s - loss: 2.3965e-04 - root_mean_squared_error: 0.0155 - val_loss: 5.4796e-05 - val_root_mean_squared_error: 0.0074\n",
      "Epoch 41/100\n",
      "604/604 - 104s - loss: 2.3769e-04 - root_mean_squared_error: 0.0154 - val_loss: 4.4189e-05 - val_root_mean_squared_error: 0.0066\n",
      "Epoch 42/100\n",
      "604/604 - 97s - loss: 2.3603e-04 - root_mean_squared_error: 0.0154 - val_loss: 8.0089e-05 - val_root_mean_squared_error: 0.0089\n",
      "Epoch 43/100\n",
      "604/604 - 97s - loss: 2.3457e-04 - root_mean_squared_error: 0.0153 - val_loss: 5.9997e-05 - val_root_mean_squared_error: 0.0077\n",
      "Epoch 44/100\n",
      "604/604 - 98s - loss: 2.3170e-04 - root_mean_squared_error: 0.0152 - val_loss: 8.9745e-05 - val_root_mean_squared_error: 0.0095\n",
      "Epoch 45/100\n",
      "604/604 - 97s - loss: 2.3083e-04 - root_mean_squared_error: 0.0152 - val_loss: 8.1048e-05 - val_root_mean_squared_error: 0.0090\n",
      "Epoch 46/100\n",
      "604/604 - 97s - loss: 2.2971e-04 - root_mean_squared_error: 0.0152 - val_loss: 6.1581e-05 - val_root_mean_squared_error: 0.0078\n",
      "Epoch 47/100\n",
      "604/604 - 97s - loss: 2.2731e-04 - root_mean_squared_error: 0.0151 - val_loss: 8.9998e-05 - val_root_mean_squared_error: 0.0095\n",
      "Epoch 48/100\n",
      "604/604 - 98s - loss: 2.2710e-04 - root_mean_squared_error: 0.0151 - val_loss: 6.8546e-05 - val_root_mean_squared_error: 0.0083\n",
      "Epoch 49/100\n",
      "604/604 - 98s - loss: 2.2619e-04 - root_mean_squared_error: 0.0150 - val_loss: 7.0732e-05 - val_root_mean_squared_error: 0.0084\n",
      "Epoch 50/100\n",
      "604/604 - 107s - loss: 2.2375e-04 - root_mean_squared_error: 0.0150 - val_loss: 6.6519e-05 - val_root_mean_squared_error: 0.0082\n",
      "Epoch 51/100\n",
      "604/604 - 108s - loss: 2.2290e-04 - root_mean_squared_error: 0.0149 - val_loss: 1.1104e-04 - val_root_mean_squared_error: 0.0105\n",
      "Epoch 52/100\n",
      "604/604 - 109s - loss: 2.2163e-04 - root_mean_squared_error: 0.0149 - val_loss: 8.2998e-05 - val_root_mean_squared_error: 0.0091\n",
      "Epoch 53/100\n",
      "604/604 - 106s - loss: 2.2040e-04 - root_mean_squared_error: 0.0148 - val_loss: 5.5355e-05 - val_root_mean_squared_error: 0.0074\n",
      "Epoch 54/100\n",
      "604/604 - 107s - loss: 2.1914e-04 - root_mean_squared_error: 0.0148 - val_loss: 6.5832e-05 - val_root_mean_squared_error: 0.0081\n",
      "Epoch 55/100\n",
      "604/604 - 107s - loss: 2.1793e-04 - root_mean_squared_error: 0.0148 - val_loss: 6.6461e-05 - val_root_mean_squared_error: 0.0082\n",
      "Epoch 56/100\n",
      "604/604 - 105s - loss: 2.1683e-04 - root_mean_squared_error: 0.0147 - val_loss: 7.9874e-05 - val_root_mean_squared_error: 0.0089\n",
      "Epoch 57/100\n",
      "604/604 - 100s - loss: 2.1555e-04 - root_mean_squared_error: 0.0147 - val_loss: 7.8092e-05 - val_root_mean_squared_error: 0.0088\n",
      "Epoch 58/100\n",
      "604/604 - 103s - loss: 2.1470e-04 - root_mean_squared_error: 0.0147 - val_loss: 9.3343e-05 - val_root_mean_squared_error: 0.0097\n",
      "Epoch 59/100\n",
      "604/604 - 103s - loss: 2.1412e-04 - root_mean_squared_error: 0.0146 - val_loss: 7.9414e-05 - val_root_mean_squared_error: 0.0089\n"
     ]
    },
    {
     "name": "stdout",
     "output_type": "stream",
     "text": [
      "Epoch 60/100\n",
      "604/604 - 100s - loss: 2.1223e-04 - root_mean_squared_error: 0.0146 - val_loss: 5.7546e-05 - val_root_mean_squared_error: 0.0076\n",
      "Epoch 61/100\n",
      "604/604 - 100s - loss: 2.1218e-04 - root_mean_squared_error: 0.0146 - val_loss: 5.2322e-05 - val_root_mean_squared_error: 0.0072\n",
      "Epoch 62/100\n",
      "604/604 - 99s - loss: 2.1073e-04 - root_mean_squared_error: 0.0145 - val_loss: 8.0605e-05 - val_root_mean_squared_error: 0.0090\n",
      "Epoch 63/100\n",
      "604/604 - 101s - loss: 2.0984e-04 - root_mean_squared_error: 0.0145 - val_loss: 5.9572e-05 - val_root_mean_squared_error: 0.0077\n",
      "Epoch 64/100\n",
      "604/604 - 102s - loss: 2.0882e-04 - root_mean_squared_error: 0.0145 - val_loss: 7.1096e-05 - val_root_mean_squared_error: 0.0084\n",
      "Epoch 65/100\n",
      "604/604 - 118s - loss: 2.0813e-04 - root_mean_squared_error: 0.0144 - val_loss: 5.8014e-05 - val_root_mean_squared_error: 0.0076\n",
      "Epoch 66/100\n",
      "604/604 - 119s - loss: 2.0737e-04 - root_mean_squared_error: 0.0144 - val_loss: 5.7873e-05 - val_root_mean_squared_error: 0.0076\n",
      "Epoch 67/100\n",
      "604/604 - 106s - loss: 2.0653e-04 - root_mean_squared_error: 0.0144 - val_loss: 8.1161e-05 - val_root_mean_squared_error: 0.0090\n",
      "Epoch 68/100\n",
      "604/604 - 106s - loss: 2.0560e-04 - root_mean_squared_error: 0.0143 - val_loss: 3.9532e-05 - val_root_mean_squared_error: 0.0063\n",
      "Epoch 69/100\n",
      "604/604 - 106s - loss: 2.0510e-04 - root_mean_squared_error: 0.0143 - val_loss: 5.8485e-05 - val_root_mean_squared_error: 0.0076\n",
      "Epoch 70/100\n",
      "604/604 - 108s - loss: 2.0376e-04 - root_mean_squared_error: 0.0143 - val_loss: 5.3604e-05 - val_root_mean_squared_error: 0.0073\n",
      "Epoch 71/100\n",
      "604/604 - 106s - loss: 2.0287e-04 - root_mean_squared_error: 0.0142 - val_loss: 4.9739e-05 - val_root_mean_squared_error: 0.0071\n",
      "Epoch 72/100\n",
      "604/604 - 105s - loss: 2.0272e-04 - root_mean_squared_error: 0.0142 - val_loss: 4.4145e-05 - val_root_mean_squared_error: 0.0066\n",
      "Epoch 73/100\n",
      "604/604 - 108s - loss: 2.0220e-04 - root_mean_squared_error: 0.0142 - val_loss: 5.4961e-05 - val_root_mean_squared_error: 0.0074\n",
      "Epoch 74/100\n",
      "604/604 - 107s - loss: 2.0103e-04 - root_mean_squared_error: 0.0142 - val_loss: 5.2203e-05 - val_root_mean_squared_error: 0.0072\n",
      "Epoch 75/100\n",
      "604/604 - 108s - loss: 2.0103e-04 - root_mean_squared_error: 0.0142 - val_loss: 6.2392e-05 - val_root_mean_squared_error: 0.0079\n",
      "Epoch 76/100\n",
      "604/604 - 107s - loss: 2.0000e-04 - root_mean_squared_error: 0.0141 - val_loss: 6.4488e-05 - val_root_mean_squared_error: 0.0080\n",
      "Epoch 77/100\n",
      "604/604 - 105s - loss: 1.9947e-04 - root_mean_squared_error: 0.0141 - val_loss: 4.8195e-05 - val_root_mean_squared_error: 0.0069\n",
      "Epoch 78/100\n",
      "604/604 - 101s - loss: 1.9796e-04 - root_mean_squared_error: 0.0141 - val_loss: 6.5572e-05 - val_root_mean_squared_error: 0.0081\n",
      "Epoch 79/100\n",
      "604/604 - 97s - loss: 1.9833e-04 - root_mean_squared_error: 0.0141 - val_loss: 4.2763e-05 - val_root_mean_squared_error: 0.0065\n",
      "Epoch 80/100\n",
      "604/604 - 97s - loss: 1.9707e-04 - root_mean_squared_error: 0.0140 - val_loss: 6.0170e-05 - val_root_mean_squared_error: 0.0078\n",
      "Epoch 81/100\n",
      "604/604 - 97s - loss: 1.9687e-04 - root_mean_squared_error: 0.0140 - val_loss: 4.3075e-05 - val_root_mean_squared_error: 0.0066\n",
      "Epoch 82/100\n",
      "604/604 - 98s - loss: 1.9572e-04 - root_mean_squared_error: 0.0140 - val_loss: 4.4063e-05 - val_root_mean_squared_error: 0.0066\n",
      "Epoch 83/100\n",
      "604/604 - 97s - loss: 1.9564e-04 - root_mean_squared_error: 0.0140 - val_loss: 3.6789e-05 - val_root_mean_squared_error: 0.0061\n",
      "Epoch 84/100\n",
      "604/604 - 97s - loss: 1.9547e-04 - root_mean_squared_error: 0.0140 - val_loss: 5.7708e-05 - val_root_mean_squared_error: 0.0076\n",
      "Epoch 85/100\n",
      "604/604 - 97s - loss: 1.9397e-04 - root_mean_squared_error: 0.0139 - val_loss: 4.5132e-05 - val_root_mean_squared_error: 0.0067\n",
      "Epoch 86/100\n",
      "604/604 - 99s - loss: 1.9372e-04 - root_mean_squared_error: 0.0139 - val_loss: 5.3704e-05 - val_root_mean_squared_error: 0.0073\n",
      "Epoch 87/100\n",
      "604/604 - 95s - loss: 1.9378e-04 - root_mean_squared_error: 0.0139 - val_loss: 4.9712e-05 - val_root_mean_squared_error: 0.0071\n",
      "Epoch 88/100\n",
      "604/604 - 93s - loss: 1.9276e-04 - root_mean_squared_error: 0.0139 - val_loss: 4.5125e-05 - val_root_mean_squared_error: 0.0067\n",
      "Epoch 89/100\n",
      "604/604 - 100s - loss: 1.9199e-04 - root_mean_squared_error: 0.0139 - val_loss: 5.3167e-05 - val_root_mean_squared_error: 0.0073\n",
      "Epoch 90/100\n",
      "604/604 - 101s - loss: 1.9199e-04 - root_mean_squared_error: 0.0139 - val_loss: 5.9823e-05 - val_root_mean_squared_error: 0.0077\n",
      "Epoch 91/100\n",
      "604/604 - 104s - loss: 1.9086e-04 - root_mean_squared_error: 0.0138 - val_loss: 3.8306e-05 - val_root_mean_squared_error: 0.0062\n",
      "Epoch 92/100\n",
      "604/604 - 102s - loss: 1.9101e-04 - root_mean_squared_error: 0.0138 - val_loss: 4.8832e-05 - val_root_mean_squared_error: 0.0070\n",
      "Epoch 93/100\n",
      "604/604 - 104s - loss: 1.8985e-04 - root_mean_squared_error: 0.0138 - val_loss: 3.6284e-05 - val_root_mean_squared_error: 0.0060\n",
      "Epoch 94/100\n",
      "604/604 - 99s - loss: 1.9008e-04 - root_mean_squared_error: 0.0138 - val_loss: 4.3165e-05 - val_root_mean_squared_error: 0.0066\n",
      "Epoch 95/100\n",
      "604/604 - 99s - loss: 1.8897e-04 - root_mean_squared_error: 0.0137 - val_loss: 5.5958e-05 - val_root_mean_squared_error: 0.0075\n",
      "Epoch 96/100\n",
      "604/604 - 100s - loss: 1.8877e-04 - root_mean_squared_error: 0.0137 - val_loss: 4.4669e-05 - val_root_mean_squared_error: 0.0067\n",
      "Epoch 97/100\n",
      "604/604 - 98s - loss: 1.8821e-04 - root_mean_squared_error: 0.0137 - val_loss: 4.9113e-05 - val_root_mean_squared_error: 0.0070\n",
      "Epoch 98/100\n",
      "604/604 - 101s - loss: 1.8823e-04 - root_mean_squared_error: 0.0137 - val_loss: 7.7069e-05 - val_root_mean_squared_error: 0.0088\n",
      "Epoch 99/100\n",
      "604/604 - 101s - loss: 1.8720e-04 - root_mean_squared_error: 0.0137 - val_loss: 4.2953e-05 - val_root_mean_squared_error: 0.0066\n",
      "Epoch 100/100\n",
      "604/604 - 102s - loss: 1.8700e-04 - root_mean_squared_error: 0.0137 - val_loss: 6.0719e-05 - val_root_mean_squared_error: 0.0078\n"
     ]
    }
   ],
   "source": [
    "import tensorflow as tf\n",
    "from tensorflow import keras\n",
    "from tensorflow.keras import layers\n",
    "from keras.layers import Input,LSTM,Dropout,Dense\n",
    "\n",
    "\n",
    "\n",
    "# create and fit the LSTM network\n",
    "\n",
    "model = keras.Sequential()\n",
    "model.add(LSTM(200,input_shape=(5,5),return_sequences=True))\n",
    "model.add(Dropout(0.2))\n",
    "model.add(LSTM(200,input_shape=(5,5),return_sequences=True))\n",
    "model.add(Dropout(0.2))\n",
    "model.add(LSTM(200,input_shape=(5,5),return_sequences=True))\n",
    "model.add(Dropout(0.2))\n",
    "model.add(LSTM(200,input_shape=(5,5),return_sequences=False))\n",
    "model.add(Dropout(0.2))\n",
    "model.add(Dense(5,activation='linear'))\n",
    "model.compile(optimizer='rmsprop',loss='mean_squared_error',metrics=[tf.keras.metrics.RootMeanSquaredError()])\n",
    "\n",
    "history = model.fit(train_X, train_Y, epochs=100, batch_size=512, verbose=2, validation_data=(test_X, test_Y))"
   ]
  },
  {
   "cell_type": "code",
   "execution_count": 10,
   "metadata": {},
   "outputs": [
    {
     "data": {
      "image/png": "[encoded data removed]",
      "text/plain": [
       "<Figure size 432x288 with 1 Axes>"
      ]
     },
     "metadata": {
      "needs_background": "light"
     },
     "output_type": "display_data"
    }
   ],
   "source": [
    "epochs=range(len(history.history['loss']))\n",
    "plt.figure()\n",
    "plt.plot(epochs,history.history['loss'],'b',label='Training loss')\n",
    "plt.plot(epochs,history.history['val_loss'],'r',label='Test loss')\n",
    "plt.title('Training and Test loss')\n",
    "plt.legend()\n",
    "plt.show()"
   ]
  },
  {
   "cell_type": "code",
   "execution_count": 11,
   "metadata": {},
   "outputs": [
    {
     "data": {
      "image/png": "[encoded data removed]",
      "text/plain": [
       "<Figure size 432x288 with 1 Axes>"
      ]
     },
     "metadata": {
      "needs_background": "light"
     },
     "output_type": "display_data"
    }
   ],
   "source": [
    "epochs=range(len(history.history['root_mean_squared_error']))\n",
    "plt.figure()\n",
    "plt.plot(epochs,history.history['root_mean_squared_error'],'b',label='Training rmse')\n",
    "plt.plot(epochs,history.history['val_root_mean_squared_error'],'r',label='Test rmse')\n",
    "plt.title('Training and Test rmse')\n",
    "plt.legend()\n",
    "plt.show()"
   ]
  },
  {
   "cell_type": "code",
   "execution_count": 12,
   "metadata": {},
   "outputs": [],
   "source": [
    "testPredict = model.predict(test_X)"
   ]
  },
  {
   "cell_type": "code",
   "execution_count": 13,
   "metadata": {},
   "outputs": [],
   "source": [
    "newtestPredict = scaler.inverse_transform(testPredict)\n",
    "newtest_Y = scaler.inverse_transform(test_Y)"
   ]
  },
  {
   "cell_type": "code",
   "execution_count": 14,
   "metadata": {},
   "outputs": [
    {
     "name": "stdout",
     "output_type": "stream",
     "text": [
      "Test Score: 0.23941 RMSE\n"
     ]
    }
   ],
   "source": [
    "testScore = sqrt(mean_squared_error(newtest_Y, newtestPredict))\n",
    "print('Test Score: %.5f RMSE' % (testScore))"
   ]
  },
  {
   "cell_type": "code",
   "execution_count": null,
   "metadata": {},
   "outputs": [],
   "source": []
  }
 ],
 "metadata": {
  "kernelspec": {
   "display_name": "Python 3",
   "language": "python",
   "name": "python3"
  },
  "language_info": {
   "codemirror_mode": {
    "name": "ipython",
    "version": 3
   },
   "file_extension": ".py",
   "mimetype": "text/x-python",
   "name": "python",
   "nbconvert_exporter": "python",
   "pygments_lexer": "ipython3",
   "version": "3.8.3"
  }
 },
 "nbformat": 4,
 "nbformat_minor": 4
}
