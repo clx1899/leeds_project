{
 "cells": [
  {
   "cell_type": "code",
   "execution_count": 1,
   "metadata": {},
   "outputs": [],
   "source": [
    "from test import EigenData\n",
    "import numpy as np\n",
    "import scipy.io\n",
    "import h5py\n",
    "from sklearn.preprocessing import MinMaxScaler\n",
    "from sklearn.metrics import mean_squared_error\n",
    "from math import sqrt\n",
    "import matplotlib.pyplot as plt\n",
    "from mpl_toolkits.axes_grid1 import make_axes_locatable\n",
    "import torch\n",
    "%matplotlib inline"
   ]
  },
  {
   "cell_type": "code",
   "execution_count": 2,
   "metadata": {},
   "outputs": [
    {
     "name": "stdout",
     "output_type": "stream",
     "text": [
      "b (5, 33600)\n",
      "(100, 5) (5, 33600)\n",
      "--> (100, 33600)\n",
      "c (5, 33600)\n",
      "(100, 5) (5, 33600)\n",
      "--> (100, 33600)\n",
      "d (5, 33600)\n",
      "(100, 5) (5, 33600)\n",
      "--> (100, 33600)\n",
      "e (5, 33600)\n",
      "(100, 5) (5, 33600)\n",
      "--> (100, 33600)\n",
      "f (5, 33600)\n",
      "(100, 5) (5, 33600)\n",
      "--> (100, 33600)\n",
      "g (6, 33600)\n",
      "(100, 6) (6, 33600)\n",
      "--> (100, 33600)\n",
      "h (5, 33600)\n",
      "(100, 5) (5, 33600)\n",
      "--> (100, 33600)\n",
      "i (6, 33600)\n",
      "(100, 6) (6, 33600)\n",
      "--> (100, 33600)\n",
      "j (5, 33600)\n",
      "(100, 5) (5, 33600)\n",
      "--> (100, 33600)\n",
      "k (5, 33600)\n",
      "(100, 5) (5, 33600)\n",
      "--> (100, 33600)\n",
      "l (5, 33600)\n",
      "(100, 5) (5, 33600)\n",
      "--> (100, 33600)\n",
      "m (5, 33600)\n",
      "(100, 5) (5, 33600)\n",
      "--> (100, 33600)\n",
      "(403200, 5)\n"
     ]
    }
   ],
   "source": [
    "data = EigenData()\n",
    "eigenworms = data.get_eigenworms('EigenWorms.mat')\n",
    "\n",
    "footage = data.get_footage('20150814-All-PNAS2011-DataStitched .mat')\n",
    "newdata = torch.rand(33600,5)\n",
    "for k in footage.keys():\n",
    "    print(k, footage[k].shape)\n",
    "    arr1=footage[k]\n",
    "\n",
    "    arr2=arr1[:5,]\n",
    "\n",
    "    r = data.reconstruct(footage[k])\n",
    "    print('-->', r.shape)\n",
    "    dataset1 = arr2.transpose()\n",
    "\n",
    "    newdata = np.concatenate((newdata,dataset1),axis=0)\n",
    "newdata = newdata[33600:,]\n",
    "print(newdata.shape)"
   ]
  },
  {
   "cell_type": "code",
   "execution_count": 3,
   "metadata": {},
   "outputs": [
    {
     "name": "stdout",
     "output_type": "stream",
     "text": [
      "(386422, 5)\n",
      "386422\n"
     ]
    }
   ],
   "source": [
    "data1=newdata[~np.isnan(newdata).any(axis=1)]\n",
    "\n",
    "data1 = data1.astype('float32')\n",
    "print(data1.shape)\n",
    "print(len(data1))"
   ]
  },
  {
   "cell_type": "code",
   "execution_count": 4,
   "metadata": {},
   "outputs": [],
   "source": [
    "def create_dataset(data,n_predictions,n_next):\n",
    "    \n",
    "   \n",
    "    dim = data.shape[1]\n",
    "    train_X, train_Y = [], []\n",
    "    for i in range(data.shape[0]-n_predictions-n_next-1):\n",
    "        a = data[i:(i+n_predictions),:]\n",
    "        train_X.append(a)\n",
    "        tempb = data[(i+n_predictions):(i+n_predictions+n_next),:]\n",
    "        b = []\n",
    "        for j in range(len(tempb)):\n",
    "            for k in range(dim):\n",
    "                b.append(tempb[j,k])\n",
    "        train_Y.append(b)\n",
    "    train_X = np.array(train_X,dtype='float64')\n",
    "    train_Y = np.array(train_Y,dtype='float64')\n",
    "\n",
    "    return train_X, train_Y"
   ]
  },
  {
   "cell_type": "code",
   "execution_count": 5,
   "metadata": {},
   "outputs": [
    {
     "name": "stdout",
     "output_type": "stream",
     "text": [
      "(386407, 10, 5)\n",
      "(386407, 20)\n"
     ]
    }
   ],
   "source": [
    "X, Y = create_dataset(data1,10,4)\n",
    "\n",
    "print(X.shape)\n",
    "print(Y.shape)"
   ]
  },
  {
   "cell_type": "code",
   "execution_count": 6,
   "metadata": {},
   "outputs": [],
   "source": [
    "scaler = MinMaxScaler(feature_range=(0, 1))\n",
    "data1 = scaler.fit_transform(data1)\n",
    "Y = scaler.fit_transform(Y)"
   ]
  },
  {
   "cell_type": "code",
   "execution_count": 7,
   "metadata": {},
   "outputs": [
    {
     "name": "stdout",
     "output_type": "stream",
     "text": [
      "(386407, 10, 5)\n",
      "(386407, 20)\n"
     ]
    }
   ],
   "source": [
    "data_X, data_Y = create_dataset(data1,10,4)\n",
    "\n",
    "print(data_X.shape)\n",
    "print(data_Y.shape)"
   ]
  },
  {
   "cell_type": "code",
   "execution_count": 8,
   "metadata": {},
   "outputs": [
    {
     "name": "stdout",
     "output_type": "stream",
     "text": [
      "(309125, 10, 5)\n",
      "(309125, 20)\n",
      "(77282, 10, 5)\n",
      "(77282, 20)\n"
     ]
    }
   ],
   "source": [
    "train_size = int(len(data_X) * 0.8)\n",
    "test_size = len(data_X) - train_size\n",
    "train_X = data_X[:train_size]\n",
    "train_Y = Y[:train_size]\n",
    "test_X = data_X[train_size:]\n",
    "test_Y = Y[train_size:]\n",
    "\n",
    "print(train_X.shape)\n",
    "print(train_Y.shape)\n",
    "print(test_X.shape)\n",
    "print(test_Y.shape)"
   ]
  },
  {
   "cell_type": "code",
   "execution_count": 9,
   "metadata": {},
   "outputs": [
    {
     "name": "stdout",
     "output_type": "stream",
     "text": [
      "Epoch 1/100\n",
      "604/604 - 59s - loss: 0.0121 - root_mean_squared_error: 0.1102 - val_loss: 0.0035 - val_root_mean_squared_error: 0.0590\n",
      "Epoch 2/100\n",
      "604/604 - 54s - loss: 0.0037 - root_mean_squared_error: 0.0606 - val_loss: 0.0015 - val_root_mean_squared_error: 0.0381\n",
      "Epoch 3/100\n",
      "604/604 - 53s - loss: 0.0023 - root_mean_squared_error: 0.0479 - val_loss: 8.4438e-04 - val_root_mean_squared_error: 0.0291\n",
      "Epoch 4/100\n",
      "604/604 - 53s - loss: 0.0017 - root_mean_squared_error: 0.0410 - val_loss: 8.3954e-04 - val_root_mean_squared_error: 0.0290\n",
      "Epoch 5/100\n",
      "604/604 - 53s - loss: 0.0014 - root_mean_squared_error: 0.0368 - val_loss: 5.9119e-04 - val_root_mean_squared_error: 0.0243\n",
      "Epoch 6/100\n",
      "604/604 - 54s - loss: 0.0011 - root_mean_squared_error: 0.0339 - val_loss: 4.2006e-04 - val_root_mean_squared_error: 0.0205\n",
      "Epoch 7/100\n",
      "604/604 - 53s - loss: 0.0010 - root_mean_squared_error: 0.0316 - val_loss: 4.8727e-04 - val_root_mean_squared_error: 0.0221\n",
      "Epoch 8/100\n",
      "604/604 - 53s - loss: 8.9353e-04 - root_mean_squared_error: 0.0299 - val_loss: 3.3262e-04 - val_root_mean_squared_error: 0.0182\n",
      "Epoch 9/100\n",
      "604/604 - 53s - loss: 8.1416e-04 - root_mean_squared_error: 0.0285 - val_loss: 4.0212e-04 - val_root_mean_squared_error: 0.0201\n",
      "Epoch 10/100\n",
      "604/604 - 56s - loss: 7.5806e-04 - root_mean_squared_error: 0.0275 - val_loss: 3.5058e-04 - val_root_mean_squared_error: 0.0187\n",
      "Epoch 11/100\n",
      "604/604 - 57s - loss: 7.1738e-04 - root_mean_squared_error: 0.0268 - val_loss: 2.9765e-04 - val_root_mean_squared_error: 0.0173\n",
      "Epoch 12/100\n",
      "604/604 - 56s - loss: 6.9178e-04 - root_mean_squared_error: 0.0263 - val_loss: 2.9501e-04 - val_root_mean_squared_error: 0.0172\n",
      "Epoch 13/100\n",
      "604/604 - 56s - loss: 6.6909e-04 - root_mean_squared_error: 0.0259 - val_loss: 3.1086e-04 - val_root_mean_squared_error: 0.0176\n",
      "Epoch 14/100\n",
      "604/604 - 56s - loss: 6.5451e-04 - root_mean_squared_error: 0.0256 - val_loss: 2.8021e-04 - val_root_mean_squared_error: 0.0167\n",
      "Epoch 15/100\n",
      "604/604 - 56s - loss: 6.3952e-04 - root_mean_squared_error: 0.0253 - val_loss: 2.6465e-04 - val_root_mean_squared_error: 0.0163\n",
      "Epoch 16/100\n",
      "604/604 - 64s - loss: 6.2673e-04 - root_mean_squared_error: 0.0250 - val_loss: 3.1933e-04 - val_root_mean_squared_error: 0.0179\n",
      "Epoch 17/100\n",
      "604/604 - 64s - loss: 6.1586e-04 - root_mean_squared_error: 0.0248 - val_loss: 2.8566e-04 - val_root_mean_squared_error: 0.0169\n",
      "Epoch 18/100\n",
      "604/604 - 65s - loss: 6.0658e-04 - root_mean_squared_error: 0.0246 - val_loss: 2.6636e-04 - val_root_mean_squared_error: 0.0163\n",
      "Epoch 19/100\n",
      "604/604 - 67s - loss: 5.9690e-04 - root_mean_squared_error: 0.0244 - val_loss: 2.5638e-04 - val_root_mean_squared_error: 0.0160\n",
      "Epoch 20/100\n",
      "604/604 - 69s - loss: 5.8845e-04 - root_mean_squared_error: 0.0243 - val_loss: 2.5664e-04 - val_root_mean_squared_error: 0.0160\n",
      "Epoch 21/100\n",
      "604/604 - 70s - loss: 5.8280e-04 - root_mean_squared_error: 0.0241 - val_loss: 2.7599e-04 - val_root_mean_squared_error: 0.0166\n",
      "Epoch 22/100\n",
      "604/604 - 60s - loss: 5.7678e-04 - root_mean_squared_error: 0.0240 - val_loss: 2.6745e-04 - val_root_mean_squared_error: 0.0164\n",
      "Epoch 23/100\n",
      "604/604 - 54s - loss: 5.6978e-04 - root_mean_squared_error: 0.0239 - val_loss: 2.1604e-04 - val_root_mean_squared_error: 0.0147\n",
      "Epoch 24/100\n",
      "604/604 - 59s - loss: 5.6491e-04 - root_mean_squared_error: 0.0238 - val_loss: 2.1726e-04 - val_root_mean_squared_error: 0.0147\n",
      "Epoch 25/100\n",
      "604/604 - 69s - loss: 5.5913e-04 - root_mean_squared_error: 0.0236 - val_loss: 2.4241e-04 - val_root_mean_squared_error: 0.0156\n",
      "Epoch 26/100\n",
      "604/604 - 68s - loss: 5.5288e-04 - root_mean_squared_error: 0.0235 - val_loss: 2.2721e-04 - val_root_mean_squared_error: 0.0151\n",
      "Epoch 27/100\n",
      "604/604 - 68s - loss: 5.4935e-04 - root_mean_squared_error: 0.0234 - val_loss: 2.0184e-04 - val_root_mean_squared_error: 0.0142\n",
      "Epoch 28/100\n",
      "604/604 - 68s - loss: 5.4632e-04 - root_mean_squared_error: 0.0234 - val_loss: 2.0906e-04 - val_root_mean_squared_error: 0.0145\n",
      "Epoch 29/100\n",
      "604/604 - 66s - loss: 5.4264e-04 - root_mean_squared_error: 0.0233 - val_loss: 2.2929e-04 - val_root_mean_squared_error: 0.0151\n",
      "Epoch 30/100\n",
      "604/604 - 56s - loss: 5.3612e-04 - root_mean_squared_error: 0.0232 - val_loss: 2.0378e-04 - val_root_mean_squared_error: 0.0143\n",
      "Epoch 31/100\n",
      "604/604 - 54s - loss: 5.3447e-04 - root_mean_squared_error: 0.0231 - val_loss: 2.0002e-04 - val_root_mean_squared_error: 0.0141\n",
      "Epoch 32/100\n",
      "604/604 - 54s - loss: 5.3151e-04 - root_mean_squared_error: 0.0231 - val_loss: 1.9400e-04 - val_root_mean_squared_error: 0.0139\n",
      "Epoch 33/100\n",
      "604/604 - 54s - loss: 5.2728e-04 - root_mean_squared_error: 0.0230 - val_loss: 2.0108e-04 - val_root_mean_squared_error: 0.0142\n",
      "Epoch 34/100\n",
      "604/604 - 54s - loss: 5.2493e-04 - root_mean_squared_error: 0.0229 - val_loss: 2.0269e-04 - val_root_mean_squared_error: 0.0142\n",
      "Epoch 35/100\n",
      "604/604 - 54s - loss: 5.2346e-04 - root_mean_squared_error: 0.0229 - val_loss: 2.0794e-04 - val_root_mean_squared_error: 0.0144\n",
      "Epoch 36/100\n",
      "604/604 - 54s - loss: 5.1797e-04 - root_mean_squared_error: 0.0228 - val_loss: 2.6140e-04 - val_root_mean_squared_error: 0.0162\n",
      "Epoch 37/100\n",
      "604/604 - 54s - loss: 5.1588e-04 - root_mean_squared_error: 0.0227 - val_loss: 2.1830e-04 - val_root_mean_squared_error: 0.0148\n",
      "Epoch 38/100\n",
      "604/604 - 64s - loss: 5.1449e-04 - root_mean_squared_error: 0.0227 - val_loss: 1.7884e-04 - val_root_mean_squared_error: 0.0134\n",
      "Epoch 39/100\n",
      "604/604 - 68s - loss: 5.1215e-04 - root_mean_squared_error: 0.0226 - val_loss: 1.7582e-04 - val_root_mean_squared_error: 0.0133\n",
      "Epoch 40/100\n",
      "604/604 - 67s - loss: 5.0877e-04 - root_mean_squared_error: 0.0226 - val_loss: 1.8817e-04 - val_root_mean_squared_error: 0.0137\n",
      "Epoch 41/100\n",
      "604/604 - 65s - loss: 5.0772e-04 - root_mean_squared_error: 0.0225 - val_loss: 2.1650e-04 - val_root_mean_squared_error: 0.0147\n",
      "Epoch 42/100\n",
      "604/604 - 66s - loss: 5.0554e-04 - root_mean_squared_error: 0.0225 - val_loss: 2.0484e-04 - val_root_mean_squared_error: 0.0143\n",
      "Epoch 43/100\n",
      "604/604 - 73s - loss: 5.0240e-04 - root_mean_squared_error: 0.0224 - val_loss: 1.8878e-04 - val_root_mean_squared_error: 0.0137\n",
      "Epoch 44/100\n",
      "604/604 - 69s - loss: 5.0077e-04 - root_mean_squared_error: 0.0224 - val_loss: 2.0258e-04 - val_root_mean_squared_error: 0.0142\n",
      "Epoch 45/100\n",
      "604/604 - 68s - loss: 4.9952e-04 - root_mean_squared_error: 0.0223 - val_loss: 2.1085e-04 - val_root_mean_squared_error: 0.0145\n",
      "Epoch 46/100\n",
      "604/604 - 68s - loss: 4.9809e-04 - root_mean_squared_error: 0.0223 - val_loss: 1.8491e-04 - val_root_mean_squared_error: 0.0136\n",
      "Epoch 47/100\n",
      "604/604 - 71s - loss: 4.9539e-04 - root_mean_squared_error: 0.0223 - val_loss: 1.8148e-04 - val_root_mean_squared_error: 0.0135\n",
      "Epoch 48/100\n",
      "604/604 - 70s - loss: 4.9402e-04 - root_mean_squared_error: 0.0222 - val_loss: 1.8772e-04 - val_root_mean_squared_error: 0.0137\n",
      "Epoch 49/100\n",
      "604/604 - 70s - loss: 4.9190e-04 - root_mean_squared_error: 0.0222 - val_loss: 1.7360e-04 - val_root_mean_squared_error: 0.0132\n",
      "Epoch 50/100\n",
      "604/604 - 66s - loss: 4.9201e-04 - root_mean_squared_error: 0.0222 - val_loss: 1.8633e-04 - val_root_mean_squared_error: 0.0137\n",
      "Epoch 51/100\n",
      "604/604 - 66s - loss: 4.9008e-04 - root_mean_squared_error: 0.0221 - val_loss: 1.8488e-04 - val_root_mean_squared_error: 0.0136\n",
      "Epoch 52/100\n",
      "604/604 - 67s - loss: 4.8737e-04 - root_mean_squared_error: 0.0221 - val_loss: 1.9426e-04 - val_root_mean_squared_error: 0.0139\n",
      "Epoch 53/100\n",
      "604/604 - 70s - loss: 4.8612e-04 - root_mean_squared_error: 0.0220 - val_loss: 1.6506e-04 - val_root_mean_squared_error: 0.0128\n",
      "Epoch 54/100\n",
      "604/604 - 69s - loss: 4.8474e-04 - root_mean_squared_error: 0.0220 - val_loss: 1.6347e-04 - val_root_mean_squared_error: 0.0128\n",
      "Epoch 55/100\n",
      "604/604 - 68s - loss: 4.8311e-04 - root_mean_squared_error: 0.0220 - val_loss: 1.9027e-04 - val_root_mean_squared_error: 0.0138\n",
      "Epoch 56/100\n",
      "604/604 - 67s - loss: 4.8177e-04 - root_mean_squared_error: 0.0219 - val_loss: 1.7998e-04 - val_root_mean_squared_error: 0.0134\n",
      "Epoch 57/100\n",
      "604/604 - 66s - loss: 4.8153e-04 - root_mean_squared_error: 0.0219 - val_loss: 2.0756e-04 - val_root_mean_squared_error: 0.0144\n",
      "Epoch 58/100\n",
      "604/604 - 66s - loss: 4.8069e-04 - root_mean_squared_error: 0.0219 - val_loss: 2.0884e-04 - val_root_mean_squared_error: 0.0145\n",
      "Epoch 59/100\n",
      "604/604 - 65s - loss: 4.7963e-04 - root_mean_squared_error: 0.0219 - val_loss: 1.7629e-04 - val_root_mean_squared_error: 0.0133\n"
     ]
    },
    {
     "name": "stdout",
     "output_type": "stream",
     "text": [
      "Epoch 60/100\n",
      "604/604 - 70s - loss: 4.7707e-04 - root_mean_squared_error: 0.0218 - val_loss: 1.6484e-04 - val_root_mean_squared_error: 0.0128\n",
      "Epoch 61/100\n",
      "604/604 - 68s - loss: 4.7651e-04 - root_mean_squared_error: 0.0218 - val_loss: 1.8547e-04 - val_root_mean_squared_error: 0.0136\n",
      "Epoch 62/100\n",
      "604/604 - 68s - loss: 4.7423e-04 - root_mean_squared_error: 0.0218 - val_loss: 1.7590e-04 - val_root_mean_squared_error: 0.0133\n",
      "Epoch 63/100\n",
      "604/604 - 69s - loss: 4.7370e-04 - root_mean_squared_error: 0.0218 - val_loss: 1.8264e-04 - val_root_mean_squared_error: 0.0135\n",
      "Epoch 64/100\n",
      "604/604 - 70s - loss: 4.7264e-04 - root_mean_squared_error: 0.0217 - val_loss: 1.6708e-04 - val_root_mean_squared_error: 0.0129\n",
      "Epoch 65/100\n",
      "604/604 - 72s - loss: 4.7108e-04 - root_mean_squared_error: 0.0217 - val_loss: 1.6350e-04 - val_root_mean_squared_error: 0.0128\n",
      "Epoch 66/100\n",
      "604/604 - 70s - loss: 4.7060e-04 - root_mean_squared_error: 0.0217 - val_loss: 1.8891e-04 - val_root_mean_squared_error: 0.0137\n",
      "Epoch 67/100\n",
      "604/604 - 69s - loss: 4.6880e-04 - root_mean_squared_error: 0.0217 - val_loss: 1.6444e-04 - val_root_mean_squared_error: 0.0128\n",
      "Epoch 68/100\n",
      "604/604 - 68s - loss: 4.6842e-04 - root_mean_squared_error: 0.0216 - val_loss: 1.7519e-04 - val_root_mean_squared_error: 0.0132\n",
      "Epoch 69/100\n",
      "604/604 - 69s - loss: 4.6737e-04 - root_mean_squared_error: 0.0216 - val_loss: 1.6793e-04 - val_root_mean_squared_error: 0.0130\n",
      "Epoch 70/100\n",
      "604/604 - 69s - loss: 4.6693e-04 - root_mean_squared_error: 0.0216 - val_loss: 1.5871e-04 - val_root_mean_squared_error: 0.0126\n",
      "Epoch 71/100\n",
      "604/604 - 71s - loss: 4.6467e-04 - root_mean_squared_error: 0.0216 - val_loss: 1.6989e-04 - val_root_mean_squared_error: 0.0130\n",
      "Epoch 72/100\n",
      "604/604 - 74s - loss: 4.6574e-04 - root_mean_squared_error: 0.0216 - val_loss: 1.4683e-04 - val_root_mean_squared_error: 0.0121\n",
      "Epoch 73/100\n",
      "604/604 - 70s - loss: 4.6485e-04 - root_mean_squared_error: 0.0216 - val_loss: 1.4922e-04 - val_root_mean_squared_error: 0.0122\n",
      "Epoch 74/100\n",
      "604/604 - 71s - loss: 4.6430e-04 - root_mean_squared_error: 0.0215 - val_loss: 1.6506e-04 - val_root_mean_squared_error: 0.0128\n",
      "Epoch 75/100\n",
      "604/604 - 71s - loss: 4.6262e-04 - root_mean_squared_error: 0.0215 - val_loss: 1.9430e-04 - val_root_mean_squared_error: 0.0139\n",
      "Epoch 76/100\n",
      "604/604 - 71s - loss: 4.6196e-04 - root_mean_squared_error: 0.0215 - val_loss: 1.7917e-04 - val_root_mean_squared_error: 0.0134\n",
      "Epoch 77/100\n",
      "604/604 - 70s - loss: 4.6063e-04 - root_mean_squared_error: 0.0215 - val_loss: 1.6088e-04 - val_root_mean_squared_error: 0.0127\n",
      "Epoch 78/100\n",
      "604/604 - 69s - loss: 4.6095e-04 - root_mean_squared_error: 0.0215 - val_loss: 1.6269e-04 - val_root_mean_squared_error: 0.0128\n",
      "Epoch 79/100\n",
      "604/604 - 71s - loss: 4.6036e-04 - root_mean_squared_error: 0.0215 - val_loss: 1.6505e-04 - val_root_mean_squared_error: 0.0128\n",
      "Epoch 80/100\n",
      "604/604 - 72s - loss: 4.5776e-04 - root_mean_squared_error: 0.0214 - val_loss: 1.5678e-04 - val_root_mean_squared_error: 0.0125\n",
      "Epoch 81/100\n",
      "604/604 - 69s - loss: 4.5752e-04 - root_mean_squared_error: 0.0214 - val_loss: 1.6728e-04 - val_root_mean_squared_error: 0.0129\n",
      "Epoch 82/100\n",
      "604/604 - 70s - loss: 4.5756e-04 - root_mean_squared_error: 0.0214 - val_loss: 1.8235e-04 - val_root_mean_squared_error: 0.0135\n",
      "Epoch 83/100\n",
      "604/604 - 70s - loss: 4.5772e-04 - root_mean_squared_error: 0.0214 - val_loss: 1.6414e-04 - val_root_mean_squared_error: 0.0128\n",
      "Epoch 84/100\n",
      "604/604 - 70s - loss: 4.5567e-04 - root_mean_squared_error: 0.0213 - val_loss: 1.5665e-04 - val_root_mean_squared_error: 0.0125\n",
      "Epoch 85/100\n",
      "604/604 - 71s - loss: 4.5478e-04 - root_mean_squared_error: 0.0213 - val_loss: 1.6706e-04 - val_root_mean_squared_error: 0.0129\n",
      "Epoch 86/100\n",
      "604/604 - 70s - loss: 4.5495e-04 - root_mean_squared_error: 0.0213 - val_loss: 1.5748e-04 - val_root_mean_squared_error: 0.0125\n",
      "Epoch 87/100\n",
      "604/604 - 70s - loss: 4.5395e-04 - root_mean_squared_error: 0.0213 - val_loss: 1.5804e-04 - val_root_mean_squared_error: 0.0126\n",
      "Epoch 88/100\n",
      "604/604 - 71s - loss: 4.5281e-04 - root_mean_squared_error: 0.0213 - val_loss: 1.5372e-04 - val_root_mean_squared_error: 0.0124\n",
      "Epoch 89/100\n",
      "604/604 - 69s - loss: 4.5184e-04 - root_mean_squared_error: 0.0213 - val_loss: 1.7231e-04 - val_root_mean_squared_error: 0.0131\n",
      "Epoch 90/100\n",
      "604/604 - 72s - loss: 4.5178e-04 - root_mean_squared_error: 0.0213 - val_loss: 1.6987e-04 - val_root_mean_squared_error: 0.0130\n",
      "Epoch 91/100\n",
      "604/604 - 70s - loss: 4.5122e-04 - root_mean_squared_error: 0.0212 - val_loss: 1.7362e-04 - val_root_mean_squared_error: 0.0132\n",
      "Epoch 92/100\n",
      "604/604 - 70s - loss: 4.5118e-04 - root_mean_squared_error: 0.0212 - val_loss: 1.4348e-04 - val_root_mean_squared_error: 0.0120\n",
      "Epoch 93/100\n",
      "604/604 - 70s - loss: 4.5097e-04 - root_mean_squared_error: 0.0212 - val_loss: 1.5439e-04 - val_root_mean_squared_error: 0.0124\n",
      "Epoch 94/100\n",
      "604/604 - 70s - loss: 4.4937e-04 - root_mean_squared_error: 0.0212 - val_loss: 1.6438e-04 - val_root_mean_squared_error: 0.0128\n",
      "Epoch 95/100\n",
      "604/604 - 70s - loss: 4.4939e-04 - root_mean_squared_error: 0.0212 - val_loss: 1.6809e-04 - val_root_mean_squared_error: 0.0130\n",
      "Epoch 96/100\n",
      "604/604 - 68s - loss: 4.4774e-04 - root_mean_squared_error: 0.0212 - val_loss: 1.7470e-04 - val_root_mean_squared_error: 0.0132\n",
      "Epoch 97/100\n",
      "604/604 - 70s - loss: 4.4811e-04 - root_mean_squared_error: 0.0212 - val_loss: 1.4430e-04 - val_root_mean_squared_error: 0.0120\n",
      "Epoch 98/100\n",
      "604/604 - 69s - loss: 4.4572e-04 - root_mean_squared_error: 0.0211 - val_loss: 1.6703e-04 - val_root_mean_squared_error: 0.0129\n",
      "Epoch 99/100\n",
      "604/604 - 70s - loss: 4.4698e-04 - root_mean_squared_error: 0.0211 - val_loss: 1.4882e-04 - val_root_mean_squared_error: 0.0122\n",
      "Epoch 100/100\n",
      "604/604 - 72s - loss: 4.4650e-04 - root_mean_squared_error: 0.0211 - val_loss: 1.5428e-04 - val_root_mean_squared_error: 0.0124\n"
     ]
    }
   ],
   "source": [
    "import tensorflow as tf\n",
    "from tensorflow import keras\n",
    "from tensorflow.keras import layers\n",
    "from keras.layers import Input,LSTM,Dropout,Dense\n",
    "\n",
    "\n",
    "timesteps = 10\n",
    "# create and fit the LSTM network\n",
    "\n",
    "model = keras.Sequential()\n",
    "model.add(LSTM(100,input_shape=(timesteps,5),return_sequences=True))\n",
    "model.add(Dropout(0.2))\n",
    "model.add(LSTM(100,input_shape=(timesteps,5),return_sequences=True))\n",
    "model.add(Dropout(0.2))\n",
    "model.add(LSTM(100,input_shape=(timesteps,5),return_sequences=False))\n",
    "model.add(Dropout(0.2))\n",
    "model.add(Dense(20,activation='linear'))\n",
    "model.compile(optimizer='rmsprop',loss='mean_squared_error',metrics=[tf.keras.metrics.RootMeanSquaredError()])\n",
    "\n",
    "history = model.fit(train_X, train_Y, epochs=100, batch_size=512, verbose=2, validation_data=(test_X, test_Y))"
   ]
  },
  {
   "cell_type": "code",
   "execution_count": 10,
   "metadata": {},
   "outputs": [],
   "source": [
    "testPredict = model.predict(test_X)"
   ]
  },
  {
   "cell_type": "code",
   "execution_count": 11,
   "metadata": {},
   "outputs": [],
   "source": [
    "newtestPredict = scaler.inverse_transform(testPredict)\n",
    "newtest_Y = scaler.inverse_transform(test_Y)"
   ]
  },
  {
   "cell_type": "code",
   "execution_count": 12,
   "metadata": {},
   "outputs": [
    {
     "name": "stdout",
     "output_type": "stream",
     "text": [
      "Test Score: 0.39385 RMSE\n"
     ]
    }
   ],
   "source": [
    "testScore = sqrt(mean_squared_error(newtest_Y, newtestPredict))\n",
    "print('Test Score: %.5f RMSE' % (testScore))"
   ]
  },
  {
   "cell_type": "code",
   "execution_count": null,
   "metadata": {},
   "outputs": [],
   "source": []
  }
 ],
 "metadata": {
  "kernelspec": {
   "display_name": "Python 3",
   "language": "python",
   "name": "python3"
  },
  "language_info": {
   "codemirror_mode": {
    "name": "ipython",
    "version": 3
   },
   "file_extension": ".py",
   "mimetype": "text/x-python",
   "name": "python",
   "nbconvert_exporter": "python",
   "pygments_lexer": "ipython3",
   "version": "3.8.3"
  }
 },
 "nbformat": 4,
 "nbformat_minor": 4
}
