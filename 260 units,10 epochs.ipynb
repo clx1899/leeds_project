{
 "cells": [
  {
   "cell_type": "code",
   "execution_count": 33,
   "metadata": {},
   "outputs": [],
   "source": [
    "from test import EigenData\n",
    "import numpy as np\n",
    "import scipy.io\n",
    "import h5py\n",
    "from sklearn.preprocessing import MinMaxScaler\n",
    "from sklearn.metrics import mean_squared_error\n",
    "from math import sqrt\n",
    "import matplotlib.pyplot as plt\n",
    "from mpl_toolkits.axes_grid1 import make_axes_locatable\n",
    "import torch\n",
    "%matplotlib inline"
   ]
  },
  {
   "cell_type": "code",
   "execution_count": 34,
   "metadata": {},
   "outputs": [
    {
     "name": "stdout",
     "output_type": "stream",
     "text": [
      "b (5, 33600)\n",
      "(100, 5) (5, 33600)\n",
      "--> (100, 33600)\n",
      "c (5, 33600)\n",
      "(100, 5) (5, 33600)\n",
      "--> (100, 33600)\n",
      "d (5, 33600)\n",
      "(100, 5) (5, 33600)\n",
      "--> (100, 33600)\n",
      "e (5, 33600)\n",
      "(100, 5) (5, 33600)\n",
      "--> (100, 33600)\n",
      "f (5, 33600)\n",
      "(100, 5) (5, 33600)\n",
      "--> (100, 33600)\n",
      "g (6, 33600)\n",
      "(100, 6) (6, 33600)\n",
      "--> (100, 33600)\n",
      "h (5, 33600)\n",
      "(100, 5) (5, 33600)\n",
      "--> (100, 33600)\n",
      "i (6, 33600)\n",
      "(100, 6) (6, 33600)\n",
      "--> (100, 33600)\n",
      "j (5, 33600)\n",
      "(100, 5) (5, 33600)\n",
      "--> (100, 33600)\n",
      "k (5, 33600)\n",
      "(100, 5) (5, 33600)\n",
      "--> (100, 33600)\n",
      "l (5, 33600)\n",
      "(100, 5) (5, 33600)\n",
      "--> (100, 33600)\n",
      "m (5, 33600)\n",
      "(100, 5) (5, 33600)\n",
      "--> (100, 33600)\n",
      "(403200, 5)\n"
     ]
    }
   ],
   "source": [
    "data = EigenData()\n",
    "eigenworms = data.get_eigenworms('EigenWorms.mat')\n",
    "\n",
    "footage = data.get_footage('20150814-All-PNAS2011-DataStitched .mat')\n",
    "newdata = torch.rand(33600,5)\n",
    "for k in footage.keys():\n",
    "    print(k, footage[k].shape)\n",
    "    arr1=footage[k]\n",
    "\n",
    "    arr2=arr1[:5,]\n",
    "\n",
    "    r = data.reconstruct(footage[k])\n",
    "    print('-->', r.shape)\n",
    "    dataset1 = arr2.transpose()\n",
    "\n",
    "    newdata = np.concatenate((newdata,dataset1),axis=0)\n",
    "newdata = newdata[33600:,]\n",
    "print(newdata.shape)"
   ]
  },
  {
   "cell_type": "code",
   "execution_count": 35,
   "metadata": {},
   "outputs": [],
   "source": [
    "first_5_eigenworms = eigenworms[0:5,:]\n",
    "eig_worm_0 = eigenworms[0,:]\n",
    "eig_worm_1 = eigenworms[1,:]\n",
    "eig_worm_2 = eigenworms[2,:]\n",
    "eig_worm_3 = eigenworms[3,:]\n",
    "eig_worm_4 = eigenworms[4,:]"
   ]
  },
  {
   "cell_type": "code",
   "execution_count": 36,
   "metadata": {},
   "outputs": [
    {
     "name": "stdout",
     "output_type": "stream",
     "text": [
      "(386422, 5)\n",
      "386422\n"
     ]
    }
   ],
   "source": [
    "data1=newdata[~np.isnan(newdata).any(axis=1)]\n",
    "data1 = data1.astype('float32')\n",
    "print(data1.shape)\n",
    "print(len(data1))"
   ]
  },
  {
   "cell_type": "code",
   "execution_count": 37,
   "metadata": {},
   "outputs": [
    {
     "data": {
      "text/plain": [
       "array([[ 1.4645884 ,  3.4350185 , -5.5496044 ,  1.8299438 ,  0.2387301 ],\n",
       "       [ 3.377423  ,  2.5875947 , -5.2607303 ,  1.8659543 ,  0.19665092],\n",
       "       [ 5.0932016 ,  1.3529874 , -4.732354  ,  1.8260412 ,  0.26309967],\n",
       "       [ 6.3521743 , -0.17350073, -3.998286  ,  1.722896  ,  0.30742615],\n",
       "       [ 7.0038657 , -1.8698727 , -3.1179302 ,  1.530652  ,  0.23766   ],\n",
       "       [ 7.0084405 , -3.5411313 , -2.1807349 ,  1.2613432 ,  0.07158714],\n",
       "       [ 6.4451785 , -5.030563  , -1.2584879 ,  0.9667093 , -0.12454028],\n",
       "       [ 5.450592  , -6.2310553 , -0.4163002 ,  0.6915617 , -0.30707514],\n",
       "       [ 4.1618834 , -7.0865927 ,  0.3005985 ,  0.45112544, -0.45510176],\n",
       "       [ 2.6900473 , -7.5774584 ,  0.88540673,  0.25624517, -0.534884  ],\n",
       "       [ 1.0945239 , -7.7054977 ,  1.3633162 ,  0.13241863, -0.53531665],\n",
       "       [-0.6012438 , -7.478858  ,  1.775028  ,  0.1014748 , -0.47314036],\n",
       "       [-2.2966528 , -6.900022  ,  2.1227376 ,  0.15076222, -0.405593  ],\n",
       "       [-3.8898995 , -5.984214  ,  2.3946474 ,  0.21254893, -0.42760172],\n",
       "       [-5.3478007 , -4.754595  ,  2.5598602 ,  0.1852395 , -0.59725755]],\n",
       "      dtype=float32)"
      ]
     },
     "execution_count": 37,
     "metadata": {},
     "output_type": "execute_result"
    }
   ],
   "source": [
    "data1[40:55,]"
   ]
  },
  {
   "cell_type": "code",
   "execution_count": 38,
   "metadata": {},
   "outputs": [],
   "source": [
    "scaler = MinMaxScaler(feature_range=(0, 1))\n",
    "data1 = scaler.fit_transform(data1)"
   ]
  },
  {
   "cell_type": "code",
   "execution_count": 39,
   "metadata": {},
   "outputs": [],
   "source": [
    "def create_dataset(dataset, look_back=5):\n",
    "    dataX, dataY = [], []\n",
    "    for i in range(len(dataset) - look_back):\n",
    "        a = dataset[i:(i + look_back)]\n",
    "        dataX.append(a)\n",
    "        dataY.append(dataset[i + look_back])\n",
    "    return np.array(dataX), np.array(dataY)"
   ]
  },
  {
   "cell_type": "code",
   "execution_count": 40,
   "metadata": {},
   "outputs": [
    {
     "name": "stdout",
     "output_type": "stream",
     "text": [
      "(386417, 5, 5)\n",
      "(386417, 5)\n"
     ]
    }
   ],
   "source": [
    "data_X, data_Y = create_dataset(data1)\n",
    "\n",
    "print(data_X.shape)\n",
    "print(data_Y.shape)"
   ]
  },
  {
   "cell_type": "code",
   "execution_count": 41,
   "metadata": {},
   "outputs": [
    {
     "name": "stdout",
     "output_type": "stream",
     "text": [
      "(309133, 5, 5)\n",
      "(309133, 5)\n",
      "(77284, 5, 5)\n",
      "(77284, 5)\n"
     ]
    }
   ],
   "source": [
    "train_size = int(len(data_X) * 0.8)\n",
    "test_size = len(data_X) - train_size\n",
    "train_X = data_X[:train_size]\n",
    "train_Y = data_Y[:train_size]\n",
    "test_X = data_X[train_size:]\n",
    "test_Y = data_Y[train_size:]\n",
    "\n",
    "print(train_X.shape)\n",
    "print(train_Y.shape)\n",
    "print(test_X.shape)\n",
    "print(test_Y.shape)"
   ]
  },
  {
   "cell_type": "code",
   "execution_count": 42,
   "metadata": {},
   "outputs": [
    {
     "name": "stdout",
     "output_type": "stream",
     "text": [
      "(309133, 5, 5)\n",
      "(309133, 5)\n"
     ]
    }
   ],
   "source": [
    "# reshape input to be [samples, time steps, features]\n",
    "train_X = np.reshape(train_X, (train_X.shape[0], 5, train_X.shape[2]))\n",
    "test_X = np.reshape(test_X, (test_X.shape[0], 5, test_X.shape[2]))\n",
    "\n",
    "print(train_X.shape)\n",
    "print(train_Y.shape)"
   ]
  },
  {
   "cell_type": "code",
   "execution_count": 43,
   "metadata": {},
   "outputs": [
    {
     "name": "stdout",
     "output_type": "stream",
     "text": [
      "Epoch 1/10\n",
      "604/604 - 157s - loss: 0.0097 - root_mean_squared_error: 0.0984 - val_loss: 0.0018 - val_root_mean_squared_error: 0.0418\n",
      "Epoch 2/10\n",
      "604/604 - 149s - loss: 0.0025 - root_mean_squared_error: 0.0496 - val_loss: 8.7772e-04 - val_root_mean_squared_error: 0.0296\n",
      "Epoch 3/10\n",
      "604/604 - 147s - loss: 0.0015 - root_mean_squared_error: 0.0388 - val_loss: 3.5200e-04 - val_root_mean_squared_error: 0.0188\n",
      "Epoch 4/10\n",
      "604/604 - 146s - loss: 0.0012 - root_mean_squared_error: 0.0341 - val_loss: 6.9219e-04 - val_root_mean_squared_error: 0.0263\n",
      "Epoch 5/10\n",
      "604/604 - 144s - loss: 9.6699e-04 - root_mean_squared_error: 0.0311 - val_loss: 9.7226e-04 - val_root_mean_squared_error: 0.0312\n",
      "Epoch 6/10\n",
      "604/604 - 145s - loss: 8.4642e-04 - root_mean_squared_error: 0.0291 - val_loss: 2.5474e-04 - val_root_mean_squared_error: 0.0160\n",
      "Epoch 7/10\n",
      "604/604 - 143s - loss: 7.4983e-04 - root_mean_squared_error: 0.0274 - val_loss: 3.9262e-04 - val_root_mean_squared_error: 0.0198\n",
      "Epoch 8/10\n",
      "604/604 - 145s - loss: 6.7960e-04 - root_mean_squared_error: 0.0261 - val_loss: 2.5909e-04 - val_root_mean_squared_error: 0.0161\n",
      "Epoch 9/10\n",
      "604/604 - 143s - loss: 6.1731e-04 - root_mean_squared_error: 0.0248 - val_loss: 2.5931e-04 - val_root_mean_squared_error: 0.0161\n",
      "Epoch 10/10\n",
      "604/604 - 145s - loss: 5.6578e-04 - root_mean_squared_error: 0.0238 - val_loss: 2.2943e-04 - val_root_mean_squared_error: 0.0151\n"
     ]
    }
   ],
   "source": [
    "import tensorflow as tf\n",
    "from tensorflow import keras\n",
    "from tensorflow.keras import layers\n",
    "from keras.layers import Input,LSTM,Dropout,Dense\n",
    "\n",
    "\n",
    "\n",
    "# create and fit the LSTM network\n",
    "\n",
    "model = keras.Sequential()\n",
    "model.add(LSTM(260,input_shape=(5,5),return_sequences=True))\n",
    "model.add(Dropout(0.2))\n",
    "model.add(LSTM(260,input_shape=(5,5),return_sequences=True))\n",
    "model.add(Dropout(0.2))\n",
    "model.add(LSTM(260,input_shape=(5,5),return_sequences=True))\n",
    "model.add(Dropout(0.2))\n",
    "model.add(LSTM(260,input_shape=(5,5),return_sequences=False))\n",
    "model.add(Dropout(0.2))\n",
    "model.add(Dense(5,activation='linear'))\n",
    "model.compile(optimizer='rmsprop',loss='mean_squared_error',metrics=[tf.keras.metrics.RootMeanSquaredError()])\n",
    "\n",
    "history = model.fit(train_X, train_Y, epochs=10, batch_size=512, verbose=2, validation_data=(test_X, test_Y))"
   ]
  },
  {
   "cell_type": "code",
   "execution_count": 44,
   "metadata": {},
   "outputs": [
    {
     "data": {
      "image/png": "[encoded data removed]",
      "text/plain": [
       "<Figure size 432x288 with 1 Axes>"
      ]
     },
     "metadata": {
      "needs_background": "light"
     },
     "output_type": "display_data"
    }
   ],
   "source": [
    "epochs=range(len(history.history['loss']))\n",
    "plt.figure()\n",
    "plt.plot(epochs,history.history['loss'],'b',label='Training loss')\n",
    "plt.plot(epochs,history.history['val_loss'],'r',label='Test loss')\n",
    "plt.title('Training and Test loss')\n",
    "plt.legend()\n",
    "plt.show()"
   ]
  },
  {
   "cell_type": "code",
   "execution_count": 46,
   "metadata": {},
   "outputs": [],
   "source": [
    "testPredict = model.predict(test_X)"
   ]
  },
  {
   "cell_type": "code",
   "execution_count": 47,
   "metadata": {},
   "outputs": [
    {
     "name": "stdout",
     "output_type": "stream",
     "text": [
      "(77284, 5)\n",
      "(77284, 5)\n"
     ]
    }
   ],
   "source": [
    "print(testPredict.shape)\n",
    "print(test_Y.shape)"
   ]
  },
  {
   "cell_type": "code",
   "execution_count": 50,
   "metadata": {},
   "outputs": [],
   "source": [
    "newtestPredict = scaler.inverse_transform(testPredict)\n",
    "newtest_Y = scaler.inverse_transform(test_Y)"
   ]
  },
  {
   "cell_type": "code",
   "execution_count": 51,
   "metadata": {},
   "outputs": [
    {
     "name": "stdout",
     "output_type": "stream",
     "text": [
      "(77284, 5)\n",
      "(77284, 5)\n"
     ]
    }
   ],
   "source": [
    "print(newtestPredict.shape)\n",
    "print(newtest_Y.shape)"
   ]
  },
  {
   "cell_type": "code",
   "execution_count": 57,
   "metadata": {},
   "outputs": [
    {
     "name": "stdout",
     "output_type": "stream",
     "text": [
      "Test Score: 0.56471 RMSE\n"
     ]
    }
   ],
   "source": [
    "testScore = sqrt(mean_squared_error(newtest_Y, newtestPredict))\n",
    "print('Test Score: %.5f RMSE' % (testScore))"
   ]
  },
  {
   "cell_type": "code",
   "execution_count": null,
   "metadata": {},
   "outputs": [],
   "source": []
  }
 ],
 "metadata": {
  "kernelspec": {
   "display_name": "Python 3",
   "language": "python",
   "name": "python3"
  },
  "language_info": {
   "codemirror_mode": {
    "name": "ipython",
    "version": 3
   },
   "file_extension": ".py",
   "mimetype": "text/x-python",
   "name": "python",
   "nbconvert_exporter": "python",
   "pygments_lexer": "ipython3",
   "version": "3.8.3"
  }
 },
 "nbformat": 4,
 "nbformat_minor": 4
}
