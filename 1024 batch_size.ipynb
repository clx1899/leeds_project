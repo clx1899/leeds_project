{
 "cells": [
  {
   "cell_type": "code",
   "execution_count": 1,
   "metadata": {},
   "outputs": [],
   "source": [
    "from test import EigenData\n",
    "import numpy as np\n",
    "import scipy.io\n",
    "import h5py\n",
    "from sklearn.preprocessing import MinMaxScaler\n",
    "from sklearn.metrics import mean_squared_error\n",
    "from math import sqrt\n",
    "import matplotlib.pyplot as plt\n",
    "from mpl_toolkits.axes_grid1 import make_axes_locatable\n",
    "import torch\n",
    "%matplotlib inline"
   ]
  },
  {
   "cell_type": "code",
   "execution_count": 2,
   "metadata": {},
   "outputs": [
    {
     "name": "stdout",
     "output_type": "stream",
     "text": [
      "b (5, 33600)\n",
      "(100, 5) (5, 33600)\n",
      "--> (100, 33600)\n",
      "c (5, 33600)\n",
      "(100, 5) (5, 33600)\n",
      "--> (100, 33600)\n",
      "d (5, 33600)\n",
      "(100, 5) (5, 33600)\n",
      "--> (100, 33600)\n",
      "e (5, 33600)\n",
      "(100, 5) (5, 33600)\n",
      "--> (100, 33600)\n",
      "f (5, 33600)\n",
      "(100, 5) (5, 33600)\n",
      "--> (100, 33600)\n",
      "g (6, 33600)\n",
      "(100, 6) (6, 33600)\n",
      "--> (100, 33600)\n",
      "h (5, 33600)\n",
      "(100, 5) (5, 33600)\n",
      "--> (100, 33600)\n",
      "i (6, 33600)\n",
      "(100, 6) (6, 33600)\n",
      "--> (100, 33600)\n",
      "j (5, 33600)\n",
      "(100, 5) (5, 33600)\n",
      "--> (100, 33600)\n",
      "k (5, 33600)\n",
      "(100, 5) (5, 33600)\n",
      "--> (100, 33600)\n",
      "l (5, 33600)\n",
      "(100, 5) (5, 33600)\n",
      "--> (100, 33600)\n",
      "m (5, 33600)\n",
      "(100, 5) (5, 33600)\n",
      "--> (100, 33600)\n",
      "(403200, 5)\n"
     ]
    }
   ],
   "source": [
    "data = EigenData()\n",
    "eigenworms = data.get_eigenworms('EigenWorms.mat')\n",
    "\n",
    "footage = data.get_footage('20150814-All-PNAS2011-DataStitched .mat')\n",
    "newdata = torch.rand(33600,5)\n",
    "for k in footage.keys():\n",
    "    print(k, footage[k].shape)\n",
    "    arr1=footage[k]\n",
    "\n",
    "    arr2=arr1[:5,]\n",
    "\n",
    "    r = data.reconstruct(footage[k])\n",
    "    print('-->', r.shape)\n",
    "    dataset1 = arr2.transpose()\n",
    "\n",
    "    newdata = np.concatenate((newdata,dataset1),axis=0)\n",
    "newdata = newdata[33600:,]\n",
    "print(newdata.shape)"
   ]
  },
  {
   "cell_type": "code",
   "execution_count": 3,
   "metadata": {},
   "outputs": [],
   "source": [
    "first_5_eigenworms = eigenworms[0:5,:]\n",
    "eig_worm_0 = eigenworms[0,:]\n",
    "eig_worm_1 = eigenworms[1,:]\n",
    "eig_worm_2 = eigenworms[2,:]\n",
    "eig_worm_3 = eigenworms[3,:]\n",
    "eig_worm_4 = eigenworms[4,:]"
   ]
  },
  {
   "cell_type": "code",
   "execution_count": 4,
   "metadata": {},
   "outputs": [
    {
     "name": "stdout",
     "output_type": "stream",
     "text": [
      "(386422, 5)\n",
      "386422\n"
     ]
    }
   ],
   "source": [
    "data1=newdata[~np.isnan(newdata).any(axis=1)]\n",
    "data1 = data1.astype('float32')\n",
    "print(data1.shape)\n",
    "print(len(data1))"
   ]
  },
  {
   "cell_type": "code",
   "execution_count": 5,
   "metadata": {},
   "outputs": [],
   "source": [
    "scaler = MinMaxScaler(feature_range=(0, 1))\n",
    "data1 = scaler.fit_transform(data1)"
   ]
  },
  {
   "cell_type": "code",
   "execution_count": 6,
   "metadata": {},
   "outputs": [],
   "source": [
    "def create_dataset(dataset, look_back=5):\n",
    "    dataX, dataY = [], []\n",
    "    for i in range(len(dataset) - look_back):\n",
    "        a = dataset[i:(i + look_back)]\n",
    "        dataX.append(a)\n",
    "        dataY.append(dataset[i + look_back])\n",
    "    return np.array(dataX), np.array(dataY)"
   ]
  },
  {
   "cell_type": "code",
   "execution_count": 7,
   "metadata": {},
   "outputs": [
    {
     "name": "stdout",
     "output_type": "stream",
     "text": [
      "(386417, 5, 5)\n",
      "(386417, 5)\n"
     ]
    }
   ],
   "source": [
    "data_X, data_Y = create_dataset(data1)\n",
    "\n",
    "print(data_X.shape)\n",
    "print(data_Y.shape)"
   ]
  },
  {
   "cell_type": "code",
   "execution_count": 8,
   "metadata": {},
   "outputs": [
    {
     "name": "stdout",
     "output_type": "stream",
     "text": [
      "(309133, 5, 5)\n",
      "(309133, 5)\n",
      "(77284, 5, 5)\n",
      "(77284, 5)\n"
     ]
    }
   ],
   "source": [
    "train_size = int(len(data_X) * 0.8)\n",
    "test_size = len(data_X) - train_size\n",
    "train_X = data_X[:train_size]\n",
    "train_Y = data_Y[:train_size]\n",
    "test_X = data_X[train_size:]\n",
    "test_Y = data_Y[train_size:]\n",
    "\n",
    "print(train_X.shape)\n",
    "print(train_Y.shape)\n",
    "print(test_X.shape)\n",
    "print(test_Y.shape)"
   ]
  },
  {
   "cell_type": "code",
   "execution_count": 9,
   "metadata": {},
   "outputs": [
    {
     "name": "stdout",
     "output_type": "stream",
     "text": [
      "Epoch 1/100\n",
      "302/302 - 49s - loss: 0.0147 - root_mean_squared_error: 0.1211 - val_loss: 0.0056 - val_root_mean_squared_error: 0.0750\n",
      "Epoch 2/100\n",
      "302/302 - 41s - loss: 0.0062 - root_mean_squared_error: 0.0789 - val_loss: 0.0034 - val_root_mean_squared_error: 0.0587\n",
      "Epoch 3/100\n",
      "302/302 - 41s - loss: 0.0042 - root_mean_squared_error: 0.0645 - val_loss: 0.0020 - val_root_mean_squared_error: 0.0450\n",
      "Epoch 4/100\n",
      "302/302 - 40s - loss: 0.0028 - root_mean_squared_error: 0.0533 - val_loss: 0.0010 - val_root_mean_squared_error: 0.0321\n",
      "Epoch 5/100\n",
      "302/302 - 39s - loss: 0.0021 - root_mean_squared_error: 0.0456 - val_loss: 5.4463e-04 - val_root_mean_squared_error: 0.0233\n",
      "Epoch 6/100\n",
      "302/302 - 40s - loss: 0.0017 - root_mean_squared_error: 0.0409 - val_loss: 4.1585e-04 - val_root_mean_squared_error: 0.0204\n",
      "Epoch 7/100\n",
      "302/302 - 39s - loss: 0.0014 - root_mean_squared_error: 0.0379 - val_loss: 6.8593e-04 - val_root_mean_squared_error: 0.0262\n",
      "Epoch 8/100\n",
      "302/302 - 39s - loss: 0.0013 - root_mean_squared_error: 0.0355 - val_loss: 2.3865e-04 - val_root_mean_squared_error: 0.0154\n",
      "Epoch 9/100\n",
      "302/302 - 39s - loss: 0.0011 - root_mean_squared_error: 0.0338 - val_loss: 2.5852e-04 - val_root_mean_squared_error: 0.0161\n",
      "Epoch 10/100\n",
      "302/302 - 39s - loss: 0.0010 - root_mean_squared_error: 0.0321 - val_loss: 4.5073e-04 - val_root_mean_squared_error: 0.0212\n",
      "Epoch 11/100\n",
      "302/302 - 39s - loss: 9.3766e-04 - root_mean_squared_error: 0.0306 - val_loss: 4.1906e-04 - val_root_mean_squared_error: 0.0205\n",
      "Epoch 12/100\n",
      "302/302 - 39s - loss: 8.6848e-04 - root_mean_squared_error: 0.0295 - val_loss: 3.0950e-04 - val_root_mean_squared_error: 0.0176\n",
      "Epoch 13/100\n",
      "302/302 - 38s - loss: 7.9993e-04 - root_mean_squared_error: 0.0283 - val_loss: 2.7445e-04 - val_root_mean_squared_error: 0.0166\n",
      "Epoch 14/100\n",
      "302/302 - 38s - loss: 7.4979e-04 - root_mean_squared_error: 0.0274 - val_loss: 4.2593e-04 - val_root_mean_squared_error: 0.0206\n",
      "Epoch 15/100\n",
      "302/302 - 39s - loss: 6.9603e-04 - root_mean_squared_error: 0.0264 - val_loss: 1.8841e-04 - val_root_mean_squared_error: 0.0137\n",
      "Epoch 16/100\n",
      "302/302 - 38s - loss: 6.5714e-04 - root_mean_squared_error: 0.0256 - val_loss: 2.0571e-04 - val_root_mean_squared_error: 0.0143\n",
      "Epoch 17/100\n",
      "302/302 - 39s - loss: 6.1869e-04 - root_mean_squared_error: 0.0249 - val_loss: 2.1724e-04 - val_root_mean_squared_error: 0.0147\n",
      "Epoch 18/100\n",
      "302/302 - 38s - loss: 5.9098e-04 - root_mean_squared_error: 0.0243 - val_loss: 1.2582e-04 - val_root_mean_squared_error: 0.0112\n",
      "Epoch 19/100\n",
      "302/302 - 39s - loss: 5.6485e-04 - root_mean_squared_error: 0.0238 - val_loss: 2.9237e-04 - val_root_mean_squared_error: 0.0171\n",
      "Epoch 20/100\n",
      "302/302 - 39s - loss: 5.4356e-04 - root_mean_squared_error: 0.0233 - val_loss: 2.2879e-04 - val_root_mean_squared_error: 0.0151\n",
      "Epoch 21/100\n",
      "302/302 - 38s - loss: 5.2456e-04 - root_mean_squared_error: 0.0229 - val_loss: 1.9575e-04 - val_root_mean_squared_error: 0.0140\n",
      "Epoch 22/100\n",
      "302/302 - 39s - loss: 5.1234e-04 - root_mean_squared_error: 0.0226 - val_loss: 1.8755e-04 - val_root_mean_squared_error: 0.0137\n",
      "Epoch 23/100\n",
      "302/302 - 38s - loss: 4.9880e-04 - root_mean_squared_error: 0.0223 - val_loss: 1.3630e-04 - val_root_mean_squared_error: 0.0117\n",
      "Epoch 24/100\n",
      "302/302 - 40s - loss: 4.8979e-04 - root_mean_squared_error: 0.0221 - val_loss: 9.9187e-05 - val_root_mean_squared_error: 0.0100\n",
      "Epoch 25/100\n",
      "302/302 - 40s - loss: 4.8259e-04 - root_mean_squared_error: 0.0220 - val_loss: 2.1752e-04 - val_root_mean_squared_error: 0.0147\n",
      "Epoch 26/100\n",
      "302/302 - 41s - loss: 4.7537e-04 - root_mean_squared_error: 0.0218 - val_loss: 1.7392e-04 - val_root_mean_squared_error: 0.0132\n",
      "Epoch 27/100\n",
      "302/302 - 40s - loss: 4.6839e-04 - root_mean_squared_error: 0.0216 - val_loss: 1.7685e-04 - val_root_mean_squared_error: 0.0133\n",
      "Epoch 28/100\n",
      "302/302 - 41s - loss: 4.6301e-04 - root_mean_squared_error: 0.0215 - val_loss: 2.2612e-04 - val_root_mean_squared_error: 0.0150\n",
      "Epoch 29/100\n",
      "302/302 - 42s - loss: 4.5782e-04 - root_mean_squared_error: 0.0214 - val_loss: 1.3615e-04 - val_root_mean_squared_error: 0.0117\n",
      "Epoch 30/100\n",
      "302/302 - 43s - loss: 4.5377e-04 - root_mean_squared_error: 0.0213 - val_loss: 1.5537e-04 - val_root_mean_squared_error: 0.0125\n",
      "Epoch 31/100\n",
      "302/302 - 40s - loss: 4.4858e-04 - root_mean_squared_error: 0.0212 - val_loss: 8.8306e-05 - val_root_mean_squared_error: 0.0094\n",
      "Epoch 32/100\n",
      "302/302 - 42s - loss: 4.4362e-04 - root_mean_squared_error: 0.0211 - val_loss: 1.2831e-04 - val_root_mean_squared_error: 0.0113\n",
      "Epoch 33/100\n",
      "302/302 - 43s - loss: 4.4060e-04 - root_mean_squared_error: 0.0210 - val_loss: 1.0135e-04 - val_root_mean_squared_error: 0.0101\n",
      "Epoch 34/100\n",
      "302/302 - 41s - loss: 4.3663e-04 - root_mean_squared_error: 0.0209 - val_loss: 1.4749e-04 - val_root_mean_squared_error: 0.0121\n",
      "Epoch 35/100\n",
      "302/302 - 40s - loss: 4.3323e-04 - root_mean_squared_error: 0.0208 - val_loss: 9.9002e-05 - val_root_mean_squared_error: 0.0099\n",
      "Epoch 36/100\n",
      "302/302 - 43s - loss: 4.3018e-04 - root_mean_squared_error: 0.0207 - val_loss: 1.8839e-04 - val_root_mean_squared_error: 0.0137\n",
      "Epoch 37/100\n",
      "302/302 - 42s - loss: 4.2775e-04 - root_mean_squared_error: 0.0207 - val_loss: 9.6346e-05 - val_root_mean_squared_error: 0.0098\n",
      "Epoch 38/100\n",
      "302/302 - 41s - loss: 4.2444e-04 - root_mean_squared_error: 0.0206 - val_loss: 1.0882e-04 - val_root_mean_squared_error: 0.0104\n",
      "Epoch 39/100\n",
      "302/302 - 41s - loss: 4.2191e-04 - root_mean_squared_error: 0.0205 - val_loss: 1.2687e-04 - val_root_mean_squared_error: 0.0113\n",
      "Epoch 40/100\n",
      "302/302 - 41s - loss: 4.1922e-04 - root_mean_squared_error: 0.0205 - val_loss: 1.4698e-04 - val_root_mean_squared_error: 0.0121\n",
      "Epoch 41/100\n",
      "302/302 - 41s - loss: 4.1710e-04 - root_mean_squared_error: 0.0204 - val_loss: 1.4036e-04 - val_root_mean_squared_error: 0.0118\n",
      "Epoch 42/100\n",
      "302/302 - 42s - loss: 4.1342e-04 - root_mean_squared_error: 0.0203 - val_loss: 1.0519e-04 - val_root_mean_squared_error: 0.0103\n",
      "Epoch 43/100\n",
      "302/302 - 42s - loss: 4.1184e-04 - root_mean_squared_error: 0.0203 - val_loss: 1.1363e-04 - val_root_mean_squared_error: 0.0107\n",
      "Epoch 44/100\n",
      "302/302 - 42s - loss: 4.0831e-04 - root_mean_squared_error: 0.0202 - val_loss: 8.7283e-05 - val_root_mean_squared_error: 0.0093\n",
      "Epoch 45/100\n",
      "302/302 - 41s - loss: 4.0552e-04 - root_mean_squared_error: 0.0201 - val_loss: 1.1598e-04 - val_root_mean_squared_error: 0.0108\n",
      "Epoch 46/100\n",
      "302/302 - 41s - loss: 4.0474e-04 - root_mean_squared_error: 0.0201 - val_loss: 1.3269e-04 - val_root_mean_squared_error: 0.0115\n",
      "Epoch 47/100\n",
      "302/302 - 41s - loss: 4.0261e-04 - root_mean_squared_error: 0.0201 - val_loss: 9.5915e-05 - val_root_mean_squared_error: 0.0098\n",
      "Epoch 48/100\n",
      "302/302 - 42s - loss: 4.0121e-04 - root_mean_squared_error: 0.0200 - val_loss: 8.6508e-05 - val_root_mean_squared_error: 0.0093\n",
      "Epoch 49/100\n",
      "302/302 - 41s - loss: 3.9832e-04 - root_mean_squared_error: 0.0200 - val_loss: 1.0079e-04 - val_root_mean_squared_error: 0.0100\n",
      "Epoch 50/100\n",
      "302/302 - 41s - loss: 3.9664e-04 - root_mean_squared_error: 0.0199 - val_loss: 9.5427e-05 - val_root_mean_squared_error: 0.0098\n",
      "Epoch 51/100\n",
      "302/302 - 41s - loss: 3.9456e-04 - root_mean_squared_error: 0.0199 - val_loss: 1.5906e-04 - val_root_mean_squared_error: 0.0126\n",
      "Epoch 52/100\n",
      "302/302 - 41s - loss: 3.9365e-04 - root_mean_squared_error: 0.0198 - val_loss: 8.1610e-05 - val_root_mean_squared_error: 0.0090\n",
      "Epoch 53/100\n",
      "302/302 - 42s - loss: 3.9053e-04 - root_mean_squared_error: 0.0198 - val_loss: 1.1588e-04 - val_root_mean_squared_error: 0.0108\n",
      "Epoch 54/100\n",
      "302/302 - 44s - loss: 3.8999e-04 - root_mean_squared_error: 0.0197 - val_loss: 1.0451e-04 - val_root_mean_squared_error: 0.0102\n",
      "Epoch 55/100\n",
      "302/302 - 40s - loss: 3.8898e-04 - root_mean_squared_error: 0.0197 - val_loss: 8.6610e-05 - val_root_mean_squared_error: 0.0093\n",
      "Epoch 56/100\n",
      "302/302 - 42s - loss: 3.8604e-04 - root_mean_squared_error: 0.0196 - val_loss: 1.1087e-04 - val_root_mean_squared_error: 0.0105\n",
      "Epoch 57/100\n",
      "302/302 - 42s - loss: 3.8602e-04 - root_mean_squared_error: 0.0196 - val_loss: 8.5573e-05 - val_root_mean_squared_error: 0.0093\n",
      "Epoch 58/100\n",
      "302/302 - 42s - loss: 3.8246e-04 - root_mean_squared_error: 0.0196 - val_loss: 7.2193e-05 - val_root_mean_squared_error: 0.0085\n",
      "Epoch 59/100\n",
      "302/302 - 41s - loss: 3.8202e-04 - root_mean_squared_error: 0.0195 - val_loss: 8.0612e-05 - val_root_mean_squared_error: 0.0090\n"
     ]
    },
    {
     "name": "stdout",
     "output_type": "stream",
     "text": [
      "Epoch 60/100\n",
      "302/302 - 42s - loss: 3.8094e-04 - root_mean_squared_error: 0.0195 - val_loss: 1.3744e-04 - val_root_mean_squared_error: 0.0117\n",
      "Epoch 61/100\n",
      "302/302 - 41s - loss: 3.7930e-04 - root_mean_squared_error: 0.0195 - val_loss: 9.4667e-05 - val_root_mean_squared_error: 0.0097\n",
      "Epoch 62/100\n",
      "302/302 - 41s - loss: 3.7841e-04 - root_mean_squared_error: 0.0195 - val_loss: 1.2292e-04 - val_root_mean_squared_error: 0.0111\n",
      "Epoch 63/100\n",
      "302/302 - 42s - loss: 3.7692e-04 - root_mean_squared_error: 0.0194 - val_loss: 9.2679e-05 - val_root_mean_squared_error: 0.0096\n",
      "Epoch 64/100\n",
      "302/302 - 42s - loss: 3.7566e-04 - root_mean_squared_error: 0.0194 - val_loss: 9.5798e-05 - val_root_mean_squared_error: 0.0098\n",
      "Epoch 65/100\n",
      "302/302 - 42s - loss: 3.7511e-04 - root_mean_squared_error: 0.0194 - val_loss: 9.5184e-05 - val_root_mean_squared_error: 0.0098\n",
      "Epoch 66/100\n",
      "302/302 - 42s - loss: 3.7331e-04 - root_mean_squared_error: 0.0193 - val_loss: 1.3919e-04 - val_root_mean_squared_error: 0.0118\n",
      "Epoch 67/100\n",
      "302/302 - 42s - loss: 3.7296e-04 - root_mean_squared_error: 0.0193 - val_loss: 6.2483e-05 - val_root_mean_squared_error: 0.0079\n",
      "Epoch 68/100\n",
      "302/302 - 42s - loss: 3.7060e-04 - root_mean_squared_error: 0.0193 - val_loss: 1.2765e-04 - val_root_mean_squared_error: 0.0113\n",
      "Epoch 69/100\n",
      "302/302 - 44s - loss: 3.6919e-04 - root_mean_squared_error: 0.0192 - val_loss: 7.4433e-05 - val_root_mean_squared_error: 0.0086\n",
      "Epoch 70/100\n",
      "302/302 - 43s - loss: 3.6738e-04 - root_mean_squared_error: 0.0192 - val_loss: 8.5275e-05 - val_root_mean_squared_error: 0.0092\n",
      "Epoch 71/100\n",
      "302/302 - 42s - loss: 3.6856e-04 - root_mean_squared_error: 0.0192 - val_loss: 9.1242e-05 - val_root_mean_squared_error: 0.0096\n",
      "Epoch 72/100\n",
      "302/302 - 41s - loss: 3.6721e-04 - root_mean_squared_error: 0.0192 - val_loss: 8.8586e-05 - val_root_mean_squared_error: 0.0094\n",
      "Epoch 73/100\n",
      "302/302 - 43s - loss: 3.6512e-04 - root_mean_squared_error: 0.0191 - val_loss: 8.8434e-05 - val_root_mean_squared_error: 0.0094\n",
      "Epoch 74/100\n",
      "302/302 - 42s - loss: 3.6426e-04 - root_mean_squared_error: 0.0191 - val_loss: 1.0268e-04 - val_root_mean_squared_error: 0.0101\n",
      "Epoch 75/100\n",
      "302/302 - 41s - loss: 3.6273e-04 - root_mean_squared_error: 0.0190 - val_loss: 6.8516e-05 - val_root_mean_squared_error: 0.0083\n",
      "Epoch 76/100\n",
      "302/302 - 41s - loss: 3.6129e-04 - root_mean_squared_error: 0.0190 - val_loss: 7.6534e-05 - val_root_mean_squared_error: 0.0087\n",
      "Epoch 77/100\n",
      "302/302 - 42s - loss: 3.6136e-04 - root_mean_squared_error: 0.0190 - val_loss: 7.0049e-05 - val_root_mean_squared_error: 0.0084\n",
      "Epoch 78/100\n",
      "302/302 - 40s - loss: 3.6134e-04 - root_mean_squared_error: 0.0190 - val_loss: 7.9053e-05 - val_root_mean_squared_error: 0.0089\n",
      "Epoch 79/100\n",
      "302/302 - 41s - loss: 3.5933e-04 - root_mean_squared_error: 0.0190 - val_loss: 8.2551e-05 - val_root_mean_squared_error: 0.0091\n",
      "Epoch 80/100\n",
      "302/302 - 42s - loss: 3.5878e-04 - root_mean_squared_error: 0.0189 - val_loss: 1.1447e-04 - val_root_mean_squared_error: 0.0107\n",
      "Epoch 81/100\n",
      "302/302 - 43s - loss: 3.5736e-04 - root_mean_squared_error: 0.0189 - val_loss: 9.0066e-05 - val_root_mean_squared_error: 0.0095\n",
      "Epoch 82/100\n",
      "302/302 - 41s - loss: 3.5639e-04 - root_mean_squared_error: 0.0189 - val_loss: 7.0925e-05 - val_root_mean_squared_error: 0.0084\n",
      "Epoch 83/100\n",
      "302/302 - 42s - loss: 3.5516e-04 - root_mean_squared_error: 0.0188 - val_loss: 7.4698e-05 - val_root_mean_squared_error: 0.0086\n",
      "Epoch 84/100\n",
      "302/302 - 42s - loss: 3.5464e-04 - root_mean_squared_error: 0.0188 - val_loss: 1.0129e-04 - val_root_mean_squared_error: 0.0101\n",
      "Epoch 85/100\n",
      "302/302 - 41s - loss: 3.5315e-04 - root_mean_squared_error: 0.0188 - val_loss: 8.6710e-05 - val_root_mean_squared_error: 0.0093\n",
      "Epoch 86/100\n",
      "302/302 - 41s - loss: 3.5341e-04 - root_mean_squared_error: 0.0188 - val_loss: 7.2449e-05 - val_root_mean_squared_error: 0.0085\n",
      "Epoch 87/100\n",
      "302/302 - 41s - loss: 3.5283e-04 - root_mean_squared_error: 0.0188 - val_loss: 6.9101e-05 - val_root_mean_squared_error: 0.0083\n",
      "Epoch 88/100\n",
      "302/302 - 41s - loss: 3.5263e-04 - root_mean_squared_error: 0.0188 - val_loss: 8.0659e-05 - val_root_mean_squared_error: 0.0090\n",
      "Epoch 89/100\n",
      "302/302 - 40s - loss: 3.5123e-04 - root_mean_squared_error: 0.0187 - val_loss: 8.3833e-05 - val_root_mean_squared_error: 0.0092\n",
      "Epoch 90/100\n",
      "302/302 - 41s - loss: 3.4863e-04 - root_mean_squared_error: 0.0187 - val_loss: 8.2440e-05 - val_root_mean_squared_error: 0.0091\n",
      "Epoch 91/100\n",
      "302/302 - 42s - loss: 3.4954e-04 - root_mean_squared_error: 0.0187 - val_loss: 6.8074e-05 - val_root_mean_squared_error: 0.0083\n",
      "Epoch 92/100\n",
      "302/302 - 43s - loss: 3.4803e-04 - root_mean_squared_error: 0.0187 - val_loss: 7.1755e-05 - val_root_mean_squared_error: 0.0085\n",
      "Epoch 93/100\n",
      "302/302 - 43s - loss: 3.4755e-04 - root_mean_squared_error: 0.0186 - val_loss: 6.9331e-05 - val_root_mean_squared_error: 0.0083\n",
      "Epoch 94/100\n",
      "302/302 - 42s - loss: 3.4706e-04 - root_mean_squared_error: 0.0186 - val_loss: 7.7794e-05 - val_root_mean_squared_error: 0.0088\n",
      "Epoch 95/100\n",
      "302/302 - 43s - loss: 3.4594e-04 - root_mean_squared_error: 0.0186 - val_loss: 6.1228e-05 - val_root_mean_squared_error: 0.0078\n",
      "Epoch 96/100\n",
      "302/302 - 41s - loss: 3.4519e-04 - root_mean_squared_error: 0.0186 - val_loss: 7.3292e-05 - val_root_mean_squared_error: 0.0086\n",
      "Epoch 97/100\n",
      "302/302 - 42s - loss: 3.4414e-04 - root_mean_squared_error: 0.0186 - val_loss: 7.6861e-05 - val_root_mean_squared_error: 0.0088\n",
      "Epoch 98/100\n",
      "302/302 - 43s - loss: 3.4596e-04 - root_mean_squared_error: 0.0186 - val_loss: 5.7760e-05 - val_root_mean_squared_error: 0.0076\n",
      "Epoch 99/100\n",
      "302/302 - 44s - loss: 3.4306e-04 - root_mean_squared_error: 0.0185 - val_loss: 6.1785e-05 - val_root_mean_squared_error: 0.0079\n",
      "Epoch 100/100\n",
      "302/302 - 43s - loss: 3.4122e-04 - root_mean_squared_error: 0.0185 - val_loss: 6.7979e-05 - val_root_mean_squared_error: 0.0082\n"
     ]
    }
   ],
   "source": [
    "import tensorflow as tf\n",
    "from tensorflow import keras\n",
    "from tensorflow.keras import layers\n",
    "from keras.layers import Input,LSTM,Dropout,Dense\n",
    "\n",
    "\n",
    "\n",
    "# create and fit the LSTM network\n",
    "\n",
    "model = keras.Sequential()\n",
    "model.add(LSTM(100,input_shape=(5,5),return_sequences=True))\n",
    "model.add(Dropout(0.2))\n",
    "model.add(LSTM(100,input_shape=(5,5),return_sequences=True))\n",
    "model.add(Dropout(0.2))\n",
    "model.add(LSTM(100,input_shape=(5,5),return_sequences=True))\n",
    "model.add(Dropout(0.2))\n",
    "model.add(LSTM(100,input_shape=(5,5),return_sequences=False))\n",
    "model.add(Dropout(0.2))\n",
    "model.add(Dense(5,activation='linear'))\n",
    "model.compile(optimizer='rmsprop',loss='mean_squared_error',metrics=[tf.keras.metrics.RootMeanSquaredError()])\n",
    "\n",
    "history = model.fit(train_X, train_Y, epochs=100, batch_size=1024, verbose=2, validation_data=(test_X, test_Y))"
   ]
  },
  {
   "cell_type": "code",
   "execution_count": 10,
   "metadata": {},
   "outputs": [],
   "source": [
    "testPredict = model.predict(test_X)"
   ]
  },
  {
   "cell_type": "code",
   "execution_count": 11,
   "metadata": {},
   "outputs": [
    {
     "name": "stdout",
     "output_type": "stream",
     "text": [
      "(77284, 5)\n",
      "(77284, 5)\n"
     ]
    }
   ],
   "source": [
    "print(testPredict.shape)\n",
    "print(test_Y.shape)"
   ]
  },
  {
   "cell_type": "code",
   "execution_count": 12,
   "metadata": {},
   "outputs": [],
   "source": [
    "newtestPredict = scaler.inverse_transform(testPredict)\n",
    "newtest_Y = scaler.inverse_transform(test_Y)"
   ]
  },
  {
   "cell_type": "code",
   "execution_count": 13,
   "metadata": {},
   "outputs": [
    {
     "name": "stdout",
     "output_type": "stream",
     "text": [
      "Test Score: 0.32686 RMSE\n"
     ]
    }
   ],
   "source": [
    "testScore = sqrt(mean_squared_error(newtest_Y, newtestPredict))\n",
    "print('Test Score: %.5f RMSE' % (testScore))"
   ]
  },
  {
   "cell_type": "code",
   "execution_count": null,
   "metadata": {},
   "outputs": [],
   "source": []
  }
 ],
 "metadata": {
  "kernelspec": {
   "display_name": "Python 3",
   "language": "python",
   "name": "python3"
  },
  "language_info": {
   "codemirror_mode": {
    "name": "ipython",
    "version": 3
   },
   "file_extension": ".py",
   "mimetype": "text/x-python",
   "name": "python",
   "nbconvert_exporter": "python",
   "pygments_lexer": "ipython3",
   "version": "3.8.3"
  }
 },
 "nbformat": 4,
 "nbformat_minor": 4
}
