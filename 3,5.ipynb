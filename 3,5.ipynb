{
 "cells": [
  {
   "cell_type": "code",
   "execution_count": 1,
   "metadata": {},
   "outputs": [],
   "source": [
    "from test import EigenData\n",
    "import numpy as np\n",
    "import scipy.io\n",
    "import h5py\n",
    "from sklearn.preprocessing import MinMaxScaler\n",
    "from sklearn.metrics import mean_squared_error\n",
    "from math import sqrt\n",
    "import matplotlib.pyplot as plt\n",
    "from mpl_toolkits.axes_grid1 import make_axes_locatable\n",
    "import torch\n",
    "%matplotlib inline"
   ]
  },
  {
   "cell_type": "code",
   "execution_count": 2,
   "metadata": {},
   "outputs": [
    {
     "name": "stdout",
     "output_type": "stream",
     "text": [
      "b (5, 33600)\n",
      "(100, 5) (5, 33600)\n",
      "--> (100, 33600)\n",
      "c (5, 33600)\n",
      "(100, 5) (5, 33600)\n",
      "--> (100, 33600)\n",
      "d (5, 33600)\n",
      "(100, 5) (5, 33600)\n",
      "--> (100, 33600)\n",
      "e (5, 33600)\n",
      "(100, 5) (5, 33600)\n",
      "--> (100, 33600)\n",
      "f (5, 33600)\n",
      "(100, 5) (5, 33600)\n",
      "--> (100, 33600)\n",
      "g (6, 33600)\n",
      "(100, 6) (6, 33600)\n",
      "--> (100, 33600)\n",
      "h (5, 33600)\n",
      "(100, 5) (5, 33600)\n",
      "--> (100, 33600)\n",
      "i (6, 33600)\n",
      "(100, 6) (6, 33600)\n",
      "--> (100, 33600)\n",
      "j (5, 33600)\n",
      "(100, 5) (5, 33600)\n",
      "--> (100, 33600)\n",
      "k (5, 33600)\n",
      "(100, 5) (5, 33600)\n",
      "--> (100, 33600)\n",
      "l (5, 33600)\n",
      "(100, 5) (5, 33600)\n",
      "--> (100, 33600)\n",
      "m (5, 33600)\n",
      "(100, 5) (5, 33600)\n",
      "--> (100, 33600)\n",
      "(403200, 5)\n"
     ]
    }
   ],
   "source": [
    "data = EigenData()\n",
    "eigenworms = data.get_eigenworms('EigenWorms.mat')\n",
    "\n",
    "footage = data.get_footage('20150814-All-PNAS2011-DataStitched .mat')\n",
    "newdata = torch.rand(33600,5)\n",
    "for k in footage.keys():\n",
    "    print(k, footage[k].shape)\n",
    "    arr1=footage[k]\n",
    "\n",
    "    arr2=arr1[:5,]\n",
    "\n",
    "    r = data.reconstruct(footage[k])\n",
    "    print('-->', r.shape)\n",
    "    dataset1 = arr2.transpose()\n",
    "\n",
    "    newdata = np.concatenate((newdata,dataset1),axis=0)\n",
    "newdata = newdata[33600:,]\n",
    "print(newdata.shape)"
   ]
  },
  {
   "cell_type": "code",
   "execution_count": 3,
   "metadata": {},
   "outputs": [],
   "source": [
    "first_5_eigenworms = eigenworms[0:5,:]\n",
    "eig_worm_0 = eigenworms[0,:]\n",
    "eig_worm_1 = eigenworms[1,:]\n",
    "eig_worm_2 = eigenworms[2,:]\n",
    "eig_worm_3 = eigenworms[3,:]\n",
    "eig_worm_4 = eigenworms[4,:]"
   ]
  },
  {
   "cell_type": "code",
   "execution_count": 4,
   "metadata": {},
   "outputs": [
    {
     "name": "stdout",
     "output_type": "stream",
     "text": [
      "(386422, 5)\n",
      "386422\n"
     ]
    }
   ],
   "source": [
    "data1=newdata[~np.isnan(newdata).any(axis=1)]\n",
    "\n",
    "data1 = data1.astype('float32')\n",
    "print(data1.shape)\n",
    "print(len(data1))"
   ]
  },
  {
   "cell_type": "code",
   "execution_count": 5,
   "metadata": {},
   "outputs": [],
   "source": [
    "def create_dataset(data,n_predictions,n_next):\n",
    "    \n",
    "   \n",
    "    dim = data.shape[1]\n",
    "    train_X, train_Y = [], []\n",
    "    for i in range(data.shape[0]-n_predictions-n_next-1):\n",
    "        a = data[i:(i+n_predictions),:]\n",
    "        train_X.append(a)\n",
    "        tempb = data[(i+n_predictions):(i+n_predictions+n_next),:]\n",
    "        b = []\n",
    "        for j in range(len(tempb)):\n",
    "            for k in range(dim):\n",
    "                b.append(tempb[j,k])\n",
    "        train_Y.append(b)\n",
    "    train_X = np.array(train_X,dtype='float64')\n",
    "    train_Y = np.array(train_Y,dtype='float64')\n",
    "\n",
    "    return train_X, train_Y"
   ]
  },
  {
   "cell_type": "code",
   "execution_count": 6,
   "metadata": {},
   "outputs": [
    {
     "name": "stdout",
     "output_type": "stream",
     "text": [
      "(386413, 3, 5)\n",
      "(386413, 25)\n"
     ]
    }
   ],
   "source": [
    "X, Y = create_dataset(data1,3,5)\n",
    "print(X.shape)\n",
    "print(Y.shape)"
   ]
  },
  {
   "cell_type": "code",
   "execution_count": 7,
   "metadata": {},
   "outputs": [],
   "source": [
    "scaler = MinMaxScaler(feature_range=(0, 1))\n",
    "data1 = scaler.fit_transform(data1)\n",
    "Y = scaler.fit_transform(Y)"
   ]
  },
  {
   "cell_type": "code",
   "execution_count": 14,
   "metadata": {},
   "outputs": [
    {
     "name": "stdout",
     "output_type": "stream",
     "text": [
      "(386413, 3, 5)\n",
      "(386413, 25)\n"
     ]
    }
   ],
   "source": [
    "data_X, data_Y = create_dataset(data1,3,5)\n",
    "\n",
    "print(data_X.shape)\n",
    "print(data_Y.shape)"
   ]
  },
  {
   "cell_type": "code",
   "execution_count": 15,
   "metadata": {},
   "outputs": [
    {
     "name": "stdout",
     "output_type": "stream",
     "text": [
      "(309130, 3, 5)\n",
      "(309130, 25)\n",
      "(77283, 3, 5)\n",
      "(77283, 25)\n"
     ]
    }
   ],
   "source": [
    "train_size = int(len(data_X) * 0.8)\n",
    "test_size = len(data_X) - train_size\n",
    "train_X = data_X[:train_size]\n",
    "train_Y = Y[:train_size]\n",
    "test_X = data_X[train_size:]\n",
    "test_Y = Y[train_size:]\n",
    "\n",
    "print(train_X.shape)\n",
    "print(train_Y.shape)\n",
    "print(test_X.shape)\n",
    "print(test_Y.shape)"
   ]
  },
  {
   "cell_type": "code",
   "execution_count": 16,
   "metadata": {},
   "outputs": [
    {
     "name": "stdout",
     "output_type": "stream",
     "text": [
      "Epoch 1/100\n",
      "604/604 - 22s - loss: 0.0133 - root_mean_squared_error: 0.1154 - val_loss: 0.0048 - val_root_mean_squared_error: 0.0695\n",
      "Epoch 2/100\n",
      "604/604 - 18s - loss: 0.0056 - root_mean_squared_error: 0.0748 - val_loss: 0.0030 - val_root_mean_squared_error: 0.0551\n",
      "Epoch 3/100\n",
      "604/604 - 18s - loss: 0.0037 - root_mean_squared_error: 0.0605 - val_loss: 0.0015 - val_root_mean_squared_error: 0.0393\n",
      "Epoch 4/100\n",
      "604/604 - 17s - loss: 0.0025 - root_mean_squared_error: 0.0495 - val_loss: 9.6616e-04 - val_root_mean_squared_error: 0.0311\n",
      "Epoch 5/100\n",
      "604/604 - 16s - loss: 0.0019 - root_mean_squared_error: 0.0437 - val_loss: 9.2634e-04 - val_root_mean_squared_error: 0.0304\n",
      "Epoch 6/100\n",
      "604/604 - 17s - loss: 0.0016 - root_mean_squared_error: 0.0403 - val_loss: 8.1463e-04 - val_root_mean_squared_error: 0.0285\n",
      "Epoch 7/100\n",
      "604/604 - 17s - loss: 0.0014 - root_mean_squared_error: 0.0380 - val_loss: 7.6829e-04 - val_root_mean_squared_error: 0.0277\n",
      "Epoch 8/100\n",
      "604/604 - 17s - loss: 0.0013 - root_mean_squared_error: 0.0363 - val_loss: 6.9722e-04 - val_root_mean_squared_error: 0.0264\n",
      "Epoch 9/100\n",
      "604/604 - 17s - loss: 0.0012 - root_mean_squared_error: 0.0353 - val_loss: 7.6016e-04 - val_root_mean_squared_error: 0.0276\n",
      "Epoch 10/100\n",
      "604/604 - 17s - loss: 0.0012 - root_mean_squared_error: 0.0344 - val_loss: 7.2689e-04 - val_root_mean_squared_error: 0.0270\n",
      "Epoch 11/100\n",
      "604/604 - 16s - loss: 0.0012 - root_mean_squared_error: 0.0340 - val_loss: 6.7876e-04 - val_root_mean_squared_error: 0.0261\n",
      "Epoch 12/100\n",
      "604/604 - 16s - loss: 0.0011 - root_mean_squared_error: 0.0336 - val_loss: 6.9661e-04 - val_root_mean_squared_error: 0.0264\n",
      "Epoch 13/100\n",
      "604/604 - 16s - loss: 0.0011 - root_mean_squared_error: 0.0333 - val_loss: 6.6688e-04 - val_root_mean_squared_error: 0.0258\n",
      "Epoch 14/100\n",
      "604/604 - 16s - loss: 0.0011 - root_mean_squared_error: 0.0331 - val_loss: 6.8064e-04 - val_root_mean_squared_error: 0.0261\n",
      "Epoch 15/100\n",
      "604/604 - 16s - loss: 0.0011 - root_mean_squared_error: 0.0328 - val_loss: 5.9078e-04 - val_root_mean_squared_error: 0.0243\n",
      "Epoch 16/100\n",
      "604/604 - 16s - loss: 0.0011 - root_mean_squared_error: 0.0325 - val_loss: 6.0932e-04 - val_root_mean_squared_error: 0.0247\n",
      "Epoch 17/100\n",
      "604/604 - 16s - loss: 0.0010 - root_mean_squared_error: 0.0323 - val_loss: 5.4303e-04 - val_root_mean_squared_error: 0.0233\n",
      "Epoch 18/100\n",
      "604/604 - 16s - loss: 0.0010 - root_mean_squared_error: 0.0320 - val_loss: 5.9943e-04 - val_root_mean_squared_error: 0.0245\n",
      "Epoch 19/100\n",
      "604/604 - 16s - loss: 0.0010 - root_mean_squared_error: 0.0317 - val_loss: 5.1612e-04 - val_root_mean_squared_error: 0.0227\n",
      "Epoch 20/100\n",
      "604/604 - 16s - loss: 9.9042e-04 - root_mean_squared_error: 0.0315 - val_loss: 5.1960e-04 - val_root_mean_squared_error: 0.0228\n",
      "Epoch 21/100\n",
      "604/604 - 16s - loss: 9.7179e-04 - root_mean_squared_error: 0.0312 - val_loss: 5.2845e-04 - val_root_mean_squared_error: 0.0230\n",
      "Epoch 22/100\n",
      "604/604 - 16s - loss: 9.5941e-04 - root_mean_squared_error: 0.0310 - val_loss: 5.2494e-04 - val_root_mean_squared_error: 0.0229\n",
      "Epoch 23/100\n",
      "604/604 - 16s - loss: 9.4480e-04 - root_mean_squared_error: 0.0307 - val_loss: 5.1600e-04 - val_root_mean_squared_error: 0.0227\n",
      "Epoch 24/100\n",
      "604/604 - 16s - loss: 9.3098e-04 - root_mean_squared_error: 0.0305 - val_loss: 4.7666e-04 - val_root_mean_squared_error: 0.0218\n",
      "Epoch 25/100\n",
      "604/604 - 16s - loss: 9.2101e-04 - root_mean_squared_error: 0.0303 - val_loss: 4.8304e-04 - val_root_mean_squared_error: 0.0220\n",
      "Epoch 26/100\n",
      "604/604 - 16s - loss: 9.0946e-04 - root_mean_squared_error: 0.0302 - val_loss: 5.2294e-04 - val_root_mean_squared_error: 0.0229\n",
      "Epoch 27/100\n",
      "604/604 - 16s - loss: 8.9979e-04 - root_mean_squared_error: 0.0300 - val_loss: 4.4811e-04 - val_root_mean_squared_error: 0.0212\n",
      "Epoch 28/100\n",
      "604/604 - 16s - loss: 8.9195e-04 - root_mean_squared_error: 0.0299 - val_loss: 4.5287e-04 - val_root_mean_squared_error: 0.0213\n",
      "Epoch 29/100\n",
      "604/604 - 15s - loss: 8.8090e-04 - root_mean_squared_error: 0.0297 - val_loss: 4.3528e-04 - val_root_mean_squared_error: 0.0209\n",
      "Epoch 30/100\n",
      "604/604 - 16s - loss: 8.7602e-04 - root_mean_squared_error: 0.0296 - val_loss: 4.5099e-04 - val_root_mean_squared_error: 0.0212\n",
      "Epoch 31/100\n",
      "604/604 - 16s - loss: 8.6870e-04 - root_mean_squared_error: 0.0295 - val_loss: 4.4551e-04 - val_root_mean_squared_error: 0.0211\n",
      "Epoch 32/100\n",
      "604/604 - 15s - loss: 8.6283e-04 - root_mean_squared_error: 0.0294 - val_loss: 4.4632e-04 - val_root_mean_squared_error: 0.0211\n",
      "Epoch 33/100\n",
      "604/604 - 16s - loss: 8.5514e-04 - root_mean_squared_error: 0.0292 - val_loss: 4.0222e-04 - val_root_mean_squared_error: 0.0201\n",
      "Epoch 34/100\n",
      "604/604 - 15s - loss: 8.4814e-04 - root_mean_squared_error: 0.0291 - val_loss: 4.0146e-04 - val_root_mean_squared_error: 0.0200\n",
      "Epoch 35/100\n",
      "604/604 - 15s - loss: 8.4288e-04 - root_mean_squared_error: 0.0290 - val_loss: 4.3025e-04 - val_root_mean_squared_error: 0.0207\n",
      "Epoch 36/100\n",
      "604/604 - 15s - loss: 8.3834e-04 - root_mean_squared_error: 0.0290 - val_loss: 4.1913e-04 - val_root_mean_squared_error: 0.0205\n",
      "Epoch 37/100\n",
      "604/604 - 16s - loss: 8.3188e-04 - root_mean_squared_error: 0.0288 - val_loss: 4.0094e-04 - val_root_mean_squared_error: 0.0200\n",
      "Epoch 38/100\n",
      "604/604 - 15s - loss: 8.2997e-04 - root_mean_squared_error: 0.0288 - val_loss: 4.1724e-04 - val_root_mean_squared_error: 0.0204\n",
      "Epoch 39/100\n",
      "604/604 - 16s - loss: 8.2395e-04 - root_mean_squared_error: 0.0287 - val_loss: 4.1975e-04 - val_root_mean_squared_error: 0.0205\n",
      "Epoch 40/100\n",
      "604/604 - 16s - loss: 8.2069e-04 - root_mean_squared_error: 0.0286 - val_loss: 4.3595e-04 - val_root_mean_squared_error: 0.0209\n",
      "Epoch 41/100\n",
      "604/604 - 16s - loss: 8.1588e-04 - root_mean_squared_error: 0.0286 - val_loss: 4.2007e-04 - val_root_mean_squared_error: 0.0205\n",
      "Epoch 42/100\n",
      "604/604 - 16s - loss: 8.1207e-04 - root_mean_squared_error: 0.0285 - val_loss: 4.1160e-04 - val_root_mean_squared_error: 0.0203\n",
      "Epoch 43/100\n",
      "604/604 - 15s - loss: 8.0790e-04 - root_mean_squared_error: 0.0284 - val_loss: 4.0607e-04 - val_root_mean_squared_error: 0.0202\n",
      "Epoch 44/100\n",
      "604/604 - 16s - loss: 8.0278e-04 - root_mean_squared_error: 0.0283 - val_loss: 3.9868e-04 - val_root_mean_squared_error: 0.0200\n",
      "Epoch 45/100\n",
      "604/604 - 16s - loss: 7.9884e-04 - root_mean_squared_error: 0.0283 - val_loss: 4.1624e-04 - val_root_mean_squared_error: 0.0204\n",
      "Epoch 46/100\n",
      "604/604 - 15s - loss: 7.9755e-04 - root_mean_squared_error: 0.0282 - val_loss: 4.4043e-04 - val_root_mean_squared_error: 0.0210\n",
      "Epoch 47/100\n",
      "604/604 - 16s - loss: 7.9578e-04 - root_mean_squared_error: 0.0282 - val_loss: 3.9163e-04 - val_root_mean_squared_error: 0.0198\n",
      "Epoch 48/100\n",
      "604/604 - 16s - loss: 7.9069e-04 - root_mean_squared_error: 0.0281 - val_loss: 3.9608e-04 - val_root_mean_squared_error: 0.0199\n",
      "Epoch 49/100\n",
      "604/604 - 16s - loss: 7.8795e-04 - root_mean_squared_error: 0.0281 - val_loss: 3.9460e-04 - val_root_mean_squared_error: 0.0199\n",
      "Epoch 50/100\n",
      "604/604 - 16s - loss: 7.8584e-04 - root_mean_squared_error: 0.0280 - val_loss: 4.3418e-04 - val_root_mean_squared_error: 0.0208\n",
      "Epoch 51/100\n",
      "604/604 - 15s - loss: 7.8085e-04 - root_mean_squared_error: 0.0279 - val_loss: 3.9976e-04 - val_root_mean_squared_error: 0.0200\n",
      "Epoch 52/100\n",
      "604/604 - 16s - loss: 7.7989e-04 - root_mean_squared_error: 0.0279 - val_loss: 3.7264e-04 - val_root_mean_squared_error: 0.0193\n",
      "Epoch 53/100\n",
      "604/604 - 16s - loss: 7.7706e-04 - root_mean_squared_error: 0.0279 - val_loss: 3.8502e-04 - val_root_mean_squared_error: 0.0196\n",
      "Epoch 54/100\n",
      "604/604 - 16s - loss: 7.7586e-04 - root_mean_squared_error: 0.0279 - val_loss: 4.0476e-04 - val_root_mean_squared_error: 0.0201\n",
      "Epoch 55/100\n",
      "604/604 - 16s - loss: 7.7235e-04 - root_mean_squared_error: 0.0278 - val_loss: 3.9545e-04 - val_root_mean_squared_error: 0.0199\n",
      "Epoch 56/100\n",
      "604/604 - 16s - loss: 7.6965e-04 - root_mean_squared_error: 0.0277 - val_loss: 3.9884e-04 - val_root_mean_squared_error: 0.0200\n",
      "Epoch 57/100\n",
      "604/604 - 16s - loss: 7.6633e-04 - root_mean_squared_error: 0.0277 - val_loss: 3.8202e-04 - val_root_mean_squared_error: 0.0195\n",
      "Epoch 58/100\n",
      "604/604 - 16s - loss: 7.6551e-04 - root_mean_squared_error: 0.0277 - val_loss: 4.2243e-04 - val_root_mean_squared_error: 0.0206\n",
      "Epoch 59/100\n",
      "604/604 - 16s - loss: 7.6179e-04 - root_mean_squared_error: 0.0276 - val_loss: 3.6338e-04 - val_root_mean_squared_error: 0.0191\n"
     ]
    },
    {
     "name": "stdout",
     "output_type": "stream",
     "text": [
      "Epoch 60/100\n",
      "604/604 - 16s - loss: 7.6138e-04 - root_mean_squared_error: 0.0276 - val_loss: 4.1261e-04 - val_root_mean_squared_error: 0.0203\n",
      "Epoch 61/100\n",
      "604/604 - 16s - loss: 7.5871e-04 - root_mean_squared_error: 0.0275 - val_loss: 3.7970e-04 - val_root_mean_squared_error: 0.0195\n",
      "Epoch 62/100\n",
      "604/604 - 16s - loss: 7.5663e-04 - root_mean_squared_error: 0.0275 - val_loss: 4.0636e-04 - val_root_mean_squared_error: 0.0202\n",
      "Epoch 63/100\n",
      "604/604 - 15s - loss: 7.5477e-04 - root_mean_squared_error: 0.0275 - val_loss: 3.5419e-04 - val_root_mean_squared_error: 0.0188\n",
      "Epoch 64/100\n",
      "604/604 - 16s - loss: 7.5143e-04 - root_mean_squared_error: 0.0274 - val_loss: 3.6202e-04 - val_root_mean_squared_error: 0.0190\n",
      "Epoch 65/100\n",
      "604/604 - 16s - loss: 7.5187e-04 - root_mean_squared_error: 0.0274 - val_loss: 3.7253e-04 - val_root_mean_squared_error: 0.0193\n",
      "Epoch 66/100\n",
      "604/604 - 16s - loss: 7.4789e-04 - root_mean_squared_error: 0.0273 - val_loss: 3.6279e-04 - val_root_mean_squared_error: 0.0190\n",
      "Epoch 67/100\n",
      "604/604 - 16s - loss: 7.4618e-04 - root_mean_squared_error: 0.0273 - val_loss: 3.5306e-04 - val_root_mean_squared_error: 0.0188\n",
      "Epoch 68/100\n",
      "604/604 - 16s - loss: 7.4320e-04 - root_mean_squared_error: 0.0273 - val_loss: 3.8122e-04 - val_root_mean_squared_error: 0.0195\n",
      "Epoch 69/100\n",
      "604/604 - 16s - loss: 7.4214e-04 - root_mean_squared_error: 0.0272 - val_loss: 3.6244e-04 - val_root_mean_squared_error: 0.0190\n",
      "Epoch 70/100\n",
      "604/604 - 16s - loss: 7.4057e-04 - root_mean_squared_error: 0.0272 - val_loss: 3.6194e-04 - val_root_mean_squared_error: 0.0190\n",
      "Epoch 71/100\n",
      "604/604 - 16s - loss: 7.4028e-04 - root_mean_squared_error: 0.0272 - val_loss: 3.5922e-04 - val_root_mean_squared_error: 0.0190\n",
      "Epoch 72/100\n",
      "604/604 - 16s - loss: 7.3596e-04 - root_mean_squared_error: 0.0271 - val_loss: 3.7666e-04 - val_root_mean_squared_error: 0.0194\n",
      "Epoch 73/100\n",
      "604/604 - 16s - loss: 7.3460e-04 - root_mean_squared_error: 0.0271 - val_loss: 3.5264e-04 - val_root_mean_squared_error: 0.0188\n",
      "Epoch 74/100\n",
      "604/604 - 16s - loss: 7.3098e-04 - root_mean_squared_error: 0.0270 - val_loss: 3.8895e-04 - val_root_mean_squared_error: 0.0197\n",
      "Epoch 75/100\n",
      "604/604 - 16s - loss: 7.2859e-04 - root_mean_squared_error: 0.0270 - val_loss: 3.6168e-04 - val_root_mean_squared_error: 0.0190\n",
      "Epoch 76/100\n",
      "604/604 - 16s - loss: 7.2470e-04 - root_mean_squared_error: 0.0269 - val_loss: 3.5965e-04 - val_root_mean_squared_error: 0.0190\n",
      "Epoch 77/100\n",
      "604/604 - 16s - loss: 7.2417e-04 - root_mean_squared_error: 0.0269 - val_loss: 3.4035e-04 - val_root_mean_squared_error: 0.0184\n",
      "Epoch 78/100\n",
      "604/604 - 16s - loss: 7.2174e-04 - root_mean_squared_error: 0.0269 - val_loss: 3.3815e-04 - val_root_mean_squared_error: 0.0184\n",
      "Epoch 79/100\n",
      "604/604 - 16s - loss: 7.1907e-04 - root_mean_squared_error: 0.0268 - val_loss: 3.3665e-04 - val_root_mean_squared_error: 0.0183\n",
      "Epoch 80/100\n",
      "604/604 - 16s - loss: 7.1549e-04 - root_mean_squared_error: 0.0267 - val_loss: 3.7901e-04 - val_root_mean_squared_error: 0.0195\n",
      "Epoch 81/100\n",
      "604/604 - 16s - loss: 7.1359e-04 - root_mean_squared_error: 0.0267 - val_loss: 3.5906e-04 - val_root_mean_squared_error: 0.0189\n",
      "Epoch 82/100\n",
      "604/604 - 16s - loss: 7.0791e-04 - root_mean_squared_error: 0.0266 - val_loss: 3.7264e-04 - val_root_mean_squared_error: 0.0193\n",
      "Epoch 83/100\n",
      "604/604 - 16s - loss: 7.0804e-04 - root_mean_squared_error: 0.0266 - val_loss: 3.3326e-04 - val_root_mean_squared_error: 0.0183\n",
      "Epoch 84/100\n",
      "604/604 - 15s - loss: 7.0483e-04 - root_mean_squared_error: 0.0265 - val_loss: 3.6333e-04 - val_root_mean_squared_error: 0.0191\n",
      "Epoch 85/100\n",
      "604/604 - 16s - loss: 7.0211e-04 - root_mean_squared_error: 0.0265 - val_loss: 3.2934e-04 - val_root_mean_squared_error: 0.0181\n",
      "Epoch 86/100\n",
      "604/604 - 16s - loss: 6.9879e-04 - root_mean_squared_error: 0.0264 - val_loss: 3.5392e-04 - val_root_mean_squared_error: 0.0188\n",
      "Epoch 87/100\n",
      "604/604 - 16s - loss: 6.9700e-04 - root_mean_squared_error: 0.0264 - val_loss: 3.5679e-04 - val_root_mean_squared_error: 0.0189\n",
      "Epoch 88/100\n",
      "604/604 - 16s - loss: 6.9152e-04 - root_mean_squared_error: 0.0263 - val_loss: 3.2248e-04 - val_root_mean_squared_error: 0.0180\n",
      "Epoch 89/100\n",
      "604/604 - 16s - loss: 6.9073e-04 - root_mean_squared_error: 0.0263 - val_loss: 3.1078e-04 - val_root_mean_squared_error: 0.0176\n",
      "Epoch 90/100\n",
      "604/604 - 16s - loss: 6.8742e-04 - root_mean_squared_error: 0.0262 - val_loss: 3.4298e-04 - val_root_mean_squared_error: 0.0185\n",
      "Epoch 91/100\n",
      "604/604 - 16s - loss: 6.8704e-04 - root_mean_squared_error: 0.0262 - val_loss: 3.5609e-04 - val_root_mean_squared_error: 0.0189\n",
      "Epoch 92/100\n",
      "604/604 - 16s - loss: 6.8341e-04 - root_mean_squared_error: 0.0261 - val_loss: 3.3868e-04 - val_root_mean_squared_error: 0.0184\n",
      "Epoch 93/100\n",
      "604/604 - 16s - loss: 6.8271e-04 - root_mean_squared_error: 0.0261 - val_loss: 3.1279e-04 - val_root_mean_squared_error: 0.0177\n",
      "Epoch 94/100\n",
      "604/604 - 16s - loss: 6.7892e-04 - root_mean_squared_error: 0.0261 - val_loss: 3.4327e-04 - val_root_mean_squared_error: 0.0185\n",
      "Epoch 95/100\n",
      "604/604 - 16s - loss: 6.7746e-04 - root_mean_squared_error: 0.0260 - val_loss: 3.5151e-04 - val_root_mean_squared_error: 0.0187\n",
      "Epoch 96/100\n",
      "604/604 - 16s - loss: 6.7540e-04 - root_mean_squared_error: 0.0260 - val_loss: 3.1507e-04 - val_root_mean_squared_error: 0.0178\n",
      "Epoch 97/100\n",
      "604/604 - 16s - loss: 6.7541e-04 - root_mean_squared_error: 0.0260 - val_loss: 3.2711e-04 - val_root_mean_squared_error: 0.0181\n",
      "Epoch 98/100\n",
      "604/604 - 16s - loss: 6.7265e-04 - root_mean_squared_error: 0.0259 - val_loss: 3.0948e-04 - val_root_mean_squared_error: 0.0176\n",
      "Epoch 99/100\n",
      "604/604 - 16s - loss: 6.7126e-04 - root_mean_squared_error: 0.0259 - val_loss: 3.0006e-04 - val_root_mean_squared_error: 0.0173\n",
      "Epoch 100/100\n",
      "604/604 - 16s - loss: 6.6868e-04 - root_mean_squared_error: 0.0259 - val_loss: 3.2476e-04 - val_root_mean_squared_error: 0.0180\n"
     ]
    }
   ],
   "source": [
    "import tensorflow as tf\n",
    "from tensorflow import keras\n",
    "from tensorflow.keras import layers\n",
    "from keras.layers import Input,LSTM,Dropout,Dense\n",
    "\n",
    "\n",
    "timesteps = 3\n",
    "# create and fit the LSTM network\n",
    "\n",
    "model = keras.Sequential()\n",
    "model.add(LSTM(100,input_shape=(timesteps,5),return_sequences=True))\n",
    "model.add(Dropout(0.2))\n",
    "model.add(LSTM(100,input_shape=(timesteps,5),return_sequences=True))\n",
    "model.add(Dropout(0.2))\n",
    "model.add(LSTM(100,input_shape=(timesteps,5),return_sequences=False))\n",
    "model.add(Dropout(0.2))\n",
    "model.add(Dense(25,activation='linear'))\n",
    "model.compile(optimizer='rmsprop',loss='mean_squared_error',metrics=[tf.keras.metrics.RootMeanSquaredError()])\n",
    "\n",
    "history = model.fit(train_X, train_Y, epochs=100, batch_size=512, verbose=2, validation_data=(test_X, test_Y))"
   ]
  },
  {
   "cell_type": "code",
   "execution_count": 17,
   "metadata": {},
   "outputs": [],
   "source": [
    "testPredict = model.predict(test_X)"
   ]
  },
  {
   "cell_type": "code",
   "execution_count": 18,
   "metadata": {},
   "outputs": [],
   "source": [
    "newtestPredict = scaler.inverse_transform(testPredict)\n",
    "newtest_Y = scaler.inverse_transform(test_Y)"
   ]
  },
  {
   "cell_type": "code",
   "execution_count": 19,
   "metadata": {},
   "outputs": [
    {
     "name": "stdout",
     "output_type": "stream",
     "text": [
      "Test Score: 0.50921 RMSE\n"
     ]
    }
   ],
   "source": [
    "testScore = sqrt(mean_squared_error(newtest_Y, newtestPredict))\n",
    "print('Test Score: %.5f RMSE' % (testScore))"
   ]
  },
  {
   "cell_type": "code",
   "execution_count": null,
   "metadata": {},
   "outputs": [],
   "source": []
  }
 ],
 "metadata": {
  "kernelspec": {
   "display_name": "Python 3",
   "language": "python",
   "name": "python3"
  },
  "language_info": {
   "codemirror_mode": {
    "name": "ipython",
    "version": 3
   },
   "file_extension": ".py",
   "mimetype": "text/x-python",
   "name": "python",
   "nbconvert_exporter": "python",
   "pygments_lexer": "ipython3",
   "version": "3.8.3"
  }
 },
 "nbformat": 4,
 "nbformat_minor": 4
}
