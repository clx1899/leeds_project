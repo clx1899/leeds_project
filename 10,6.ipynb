{
 "cells": [
  {
   "cell_type": "code",
   "execution_count": 1,
   "metadata": {},
   "outputs": [],
   "source": [
    "from test import EigenData\n",
    "import numpy as np\n",
    "import scipy.io\n",
    "import h5py\n",
    "from sklearn.preprocessing import MinMaxScaler\n",
    "from sklearn.metrics import mean_squared_error\n",
    "from math import sqrt\n",
    "import matplotlib.pyplot as plt\n",
    "from mpl_toolkits.axes_grid1 import make_axes_locatable\n",
    "import torch\n",
    "%matplotlib inline"
   ]
  },
  {
   "cell_type": "code",
   "execution_count": 2,
   "metadata": {},
   "outputs": [
    {
     "name": "stdout",
     "output_type": "stream",
     "text": [
      "b (5, 33600)\n",
      "(100, 5) (5, 33600)\n",
      "--> (100, 33600)\n",
      "c (5, 33600)\n",
      "(100, 5) (5, 33600)\n",
      "--> (100, 33600)\n",
      "d (5, 33600)\n",
      "(100, 5) (5, 33600)\n",
      "--> (100, 33600)\n",
      "e (5, 33600)\n",
      "(100, 5) (5, 33600)\n",
      "--> (100, 33600)\n",
      "f (5, 33600)\n",
      "(100, 5) (5, 33600)\n",
      "--> (100, 33600)\n",
      "g (6, 33600)\n",
      "(100, 6) (6, 33600)\n",
      "--> (100, 33600)\n",
      "h (5, 33600)\n",
      "(100, 5) (5, 33600)\n",
      "--> (100, 33600)\n",
      "i (6, 33600)\n",
      "(100, 6) (6, 33600)\n",
      "--> (100, 33600)\n",
      "j (5, 33600)\n",
      "(100, 5) (5, 33600)\n",
      "--> (100, 33600)\n",
      "k (5, 33600)\n",
      "(100, 5) (5, 33600)\n",
      "--> (100, 33600)\n",
      "l (5, 33600)\n",
      "(100, 5) (5, 33600)\n",
      "--> (100, 33600)\n",
      "m (5, 33600)\n",
      "(100, 5) (5, 33600)\n",
      "--> (100, 33600)\n",
      "(403200, 5)\n"
     ]
    }
   ],
   "source": [
    "data = EigenData()\n",
    "eigenworms = data.get_eigenworms('EigenWorms.mat')\n",
    "\n",
    "footage = data.get_footage('20150814-All-PNAS2011-DataStitched .mat')\n",
    "newdata = torch.rand(33600,5)\n",
    "for k in footage.keys():\n",
    "    print(k, footage[k].shape)\n",
    "    arr1=footage[k]\n",
    "\n",
    "    arr2=arr1[:5,]\n",
    "\n",
    "    r = data.reconstruct(footage[k])\n",
    "    print('-->', r.shape)\n",
    "    dataset1 = arr2.transpose()\n",
    "\n",
    "    newdata = np.concatenate((newdata,dataset1),axis=0)\n",
    "newdata = newdata[33600:,]\n",
    "print(newdata.shape)"
   ]
  },
  {
   "cell_type": "code",
   "execution_count": 3,
   "metadata": {},
   "outputs": [
    {
     "name": "stdout",
     "output_type": "stream",
     "text": [
      "(386422, 5)\n",
      "386422\n"
     ]
    }
   ],
   "source": [
    "data1=newdata[~np.isnan(newdata).any(axis=1)]\n",
    "\n",
    "data1 = data1.astype('float32')\n",
    "print(data1.shape)\n",
    "print(len(data1))"
   ]
  },
  {
   "cell_type": "code",
   "execution_count": 4,
   "metadata": {},
   "outputs": [],
   "source": [
    "def create_dataset(data,n_predictions,n_next):\n",
    "    \n",
    "   \n",
    "    dim = data.shape[1]\n",
    "    train_X, train_Y = [], []\n",
    "    for i in range(data.shape[0]-n_predictions-n_next-1):\n",
    "        a = data[i:(i+n_predictions),:]\n",
    "        train_X.append(a)\n",
    "        tempb = data[(i+n_predictions):(i+n_predictions+n_next),:]\n",
    "        b = []\n",
    "        for j in range(len(tempb)):\n",
    "            for k in range(dim):\n",
    "                b.append(tempb[j,k])\n",
    "        train_Y.append(b)\n",
    "    train_X = np.array(train_X,dtype='float64')\n",
    "    train_Y = np.array(train_Y,dtype='float64')\n",
    "\n",
    "    return train_X, train_Y"
   ]
  },
  {
   "cell_type": "code",
   "execution_count": 5,
   "metadata": {},
   "outputs": [
    {
     "name": "stdout",
     "output_type": "stream",
     "text": [
      "(386405, 10, 5)\n",
      "(386405, 30)\n"
     ]
    }
   ],
   "source": [
    "X, Y = create_dataset(data1,10,6)\n",
    "\n",
    "print(X.shape)\n",
    "print(Y.shape)"
   ]
  },
  {
   "cell_type": "code",
   "execution_count": 6,
   "metadata": {},
   "outputs": [],
   "source": [
    "scaler = MinMaxScaler(feature_range=(0, 1))\n",
    "data1 = scaler.fit_transform(data1)\n",
    "Y = scaler.fit_transform(Y)"
   ]
  },
  {
   "cell_type": "code",
   "execution_count": 7,
   "metadata": {},
   "outputs": [
    {
     "name": "stdout",
     "output_type": "stream",
     "text": [
      "(386405, 10, 5)\n",
      "(386405, 30)\n"
     ]
    }
   ],
   "source": [
    "data_X, data_Y = create_dataset(data1,10,6)\n",
    "\n",
    "print(data_X.shape)\n",
    "print(data_Y.shape)"
   ]
  },
  {
   "cell_type": "code",
   "execution_count": 8,
   "metadata": {},
   "outputs": [
    {
     "name": "stdout",
     "output_type": "stream",
     "text": [
      "(309124, 10, 5)\n",
      "(309124, 30)\n",
      "(77281, 10, 5)\n",
      "(77281, 30)\n"
     ]
    }
   ],
   "source": [
    "train_size = int(len(data_X) * 0.8)\n",
    "test_size = len(data_X) - train_size\n",
    "train_X = data_X[:train_size]\n",
    "train_Y = Y[:train_size]\n",
    "test_X = data_X[train_size:]\n",
    "test_Y = Y[train_size:]\n",
    "\n",
    "print(train_X.shape)\n",
    "print(train_Y.shape)\n",
    "print(test_X.shape)\n",
    "print(test_Y.shape)"
   ]
  },
  {
   "cell_type": "code",
   "execution_count": 9,
   "metadata": {},
   "outputs": [
    {
     "name": "stdout",
     "output_type": "stream",
     "text": [
      "Epoch 1/100\n",
      "604/604 - 64s - loss: 0.0137 - root_mean_squared_error: 0.1170 - val_loss: 0.0038 - val_root_mean_squared_error: 0.0617\n",
      "Epoch 2/100\n",
      "604/604 - 54s - loss: 0.0044 - root_mean_squared_error: 0.0662 - val_loss: 0.0018 - val_root_mean_squared_error: 0.0429\n",
      "Epoch 3/100\n",
      "604/604 - 53s - loss: 0.0029 - root_mean_squared_error: 0.0536 - val_loss: 0.0013 - val_root_mean_squared_error: 0.0359\n",
      "Epoch 4/100\n",
      "604/604 - 53s - loss: 0.0022 - root_mean_squared_error: 0.0469 - val_loss: 0.0015 - val_root_mean_squared_error: 0.0383\n",
      "Epoch 5/100\n",
      "604/604 - 54s - loss: 0.0018 - root_mean_squared_error: 0.0425 - val_loss: 8.4896e-04 - val_root_mean_squared_error: 0.0291\n",
      "Epoch 6/100\n",
      "604/604 - 54s - loss: 0.0016 - root_mean_squared_error: 0.0395 - val_loss: 8.7232e-04 - val_root_mean_squared_error: 0.0295\n",
      "Epoch 7/100\n",
      "604/604 - 53s - loss: 0.0014 - root_mean_squared_error: 0.0373 - val_loss: 7.0280e-04 - val_root_mean_squared_error: 0.0265\n",
      "Epoch 8/100\n",
      "604/604 - 53s - loss: 0.0013 - root_mean_squared_error: 0.0357 - val_loss: 6.2157e-04 - val_root_mean_squared_error: 0.0249\n",
      "Epoch 9/100\n",
      "604/604 - 53s - loss: 0.0012 - root_mean_squared_error: 0.0343 - val_loss: 6.5719e-04 - val_root_mean_squared_error: 0.0256\n",
      "Epoch 10/100\n",
      "604/604 - 53s - loss: 0.0011 - root_mean_squared_error: 0.0334 - val_loss: 6.9043e-04 - val_root_mean_squared_error: 0.0263\n",
      "Epoch 11/100\n",
      "604/604 - 53s - loss: 0.0011 - root_mean_squared_error: 0.0327 - val_loss: 5.5785e-04 - val_root_mean_squared_error: 0.0236\n",
      "Epoch 12/100\n",
      "604/604 - 53s - loss: 0.0010 - root_mean_squared_error: 0.0321 - val_loss: 5.3946e-04 - val_root_mean_squared_error: 0.0232\n",
      "Epoch 13/100\n",
      "604/604 - 53s - loss: 0.0010 - root_mean_squared_error: 0.0316 - val_loss: 5.4754e-04 - val_root_mean_squared_error: 0.0234\n",
      "Epoch 14/100\n",
      "604/604 - 53s - loss: 9.7967e-04 - root_mean_squared_error: 0.0313 - val_loss: 5.3375e-04 - val_root_mean_squared_error: 0.0231\n",
      "Epoch 15/100\n",
      "604/604 - 53s - loss: 9.5820e-04 - root_mean_squared_error: 0.0310 - val_loss: 5.1159e-04 - val_root_mean_squared_error: 0.0226\n",
      "Epoch 16/100\n",
      "604/604 - 53s - loss: 9.4008e-04 - root_mean_squared_error: 0.0307 - val_loss: 5.2110e-04 - val_root_mean_squared_error: 0.0228\n",
      "Epoch 17/100\n",
      "604/604 - 53s - loss: 9.2620e-04 - root_mean_squared_error: 0.0304 - val_loss: 5.9442e-04 - val_root_mean_squared_error: 0.0244\n",
      "Epoch 18/100\n",
      "604/604 - 53s - loss: 9.1484e-04 - root_mean_squared_error: 0.0302 - val_loss: 4.9673e-04 - val_root_mean_squared_error: 0.0223\n",
      "Epoch 19/100\n",
      "604/604 - 53s - loss: 8.9973e-04 - root_mean_squared_error: 0.0300 - val_loss: 5.9301e-04 - val_root_mean_squared_error: 0.0244\n",
      "Epoch 20/100\n",
      "604/604 - 53s - loss: 8.9067e-04 - root_mean_squared_error: 0.0298 - val_loss: 5.0721e-04 - val_root_mean_squared_error: 0.0225\n",
      "Epoch 21/100\n",
      "604/604 - 54s - loss: 8.7913e-04 - root_mean_squared_error: 0.0297 - val_loss: 4.6066e-04 - val_root_mean_squared_error: 0.0215\n",
      "Epoch 22/100\n",
      "604/604 - 54s - loss: 8.7165e-04 - root_mean_squared_error: 0.0295 - val_loss: 4.6378e-04 - val_root_mean_squared_error: 0.0215\n",
      "Epoch 23/100\n",
      "604/604 - 54s - loss: 8.6260e-04 - root_mean_squared_error: 0.0294 - val_loss: 4.7769e-04 - val_root_mean_squared_error: 0.0219\n",
      "Epoch 24/100\n",
      "604/604 - 54s - loss: 8.5643e-04 - root_mean_squared_error: 0.0293 - val_loss: 4.4169e-04 - val_root_mean_squared_error: 0.0210\n",
      "Epoch 25/100\n",
      "604/604 - 54s - loss: 8.4747e-04 - root_mean_squared_error: 0.0291 - val_loss: 5.1941e-04 - val_root_mean_squared_error: 0.0228\n",
      "Epoch 26/100\n",
      "604/604 - 54s - loss: 8.4286e-04 - root_mean_squared_error: 0.0290 - val_loss: 4.5593e-04 - val_root_mean_squared_error: 0.0214\n",
      "Epoch 27/100\n",
      "604/604 - 54s - loss: 8.3614e-04 - root_mean_squared_error: 0.0289 - val_loss: 4.5547e-04 - val_root_mean_squared_error: 0.0213\n",
      "Epoch 28/100\n",
      "604/604 - 54s - loss: 8.2967e-04 - root_mean_squared_error: 0.0288 - val_loss: 4.5111e-04 - val_root_mean_squared_error: 0.0212\n",
      "Epoch 29/100\n",
      "604/604 - 56s - loss: 8.2314e-04 - root_mean_squared_error: 0.0287 - val_loss: 4.6535e-04 - val_root_mean_squared_error: 0.0216\n",
      "Epoch 30/100\n",
      "604/604 - 59s - loss: 8.1904e-04 - root_mean_squared_error: 0.0286 - val_loss: 4.1714e-04 - val_root_mean_squared_error: 0.0204\n",
      "Epoch 31/100\n",
      "604/604 - 56s - loss: 8.1288e-04 - root_mean_squared_error: 0.0285 - val_loss: 4.3232e-04 - val_root_mean_squared_error: 0.0208\n",
      "Epoch 32/100\n",
      "604/604 - 57s - loss: 8.0840e-04 - root_mean_squared_error: 0.0284 - val_loss: 4.5223e-04 - val_root_mean_squared_error: 0.0213\n",
      "Epoch 33/100\n",
      "604/604 - 61s - loss: 8.0473e-04 - root_mean_squared_error: 0.0284 - val_loss: 4.1794e-04 - val_root_mean_squared_error: 0.0204\n",
      "Epoch 34/100\n",
      "604/604 - 59s - loss: 7.9877e-04 - root_mean_squared_error: 0.0283 - val_loss: 4.5040e-04 - val_root_mean_squared_error: 0.0212\n",
      "Epoch 35/100\n",
      "604/604 - 61s - loss: 7.9605e-04 - root_mean_squared_error: 0.0282 - val_loss: 4.3745e-04 - val_root_mean_squared_error: 0.0209\n",
      "Epoch 36/100\n",
      "604/604 - 60s - loss: 7.9290e-04 - root_mean_squared_error: 0.0282 - val_loss: 4.1754e-04 - val_root_mean_squared_error: 0.0204\n",
      "Epoch 37/100\n",
      "604/604 - 59s - loss: 7.8789e-04 - root_mean_squared_error: 0.0281 - val_loss: 4.6229e-04 - val_root_mean_squared_error: 0.0215\n",
      "Epoch 38/100\n",
      "604/604 - 59s - loss: 7.8489e-04 - root_mean_squared_error: 0.0280 - val_loss: 4.4536e-04 - val_root_mean_squared_error: 0.0211\n",
      "Epoch 39/100\n",
      "604/604 - 58s - loss: 7.7995e-04 - root_mean_squared_error: 0.0279 - val_loss: 4.3530e-04 - val_root_mean_squared_error: 0.0209\n",
      "Epoch 40/100\n",
      "604/604 - 58s - loss: 7.7788e-04 - root_mean_squared_error: 0.0279 - val_loss: 3.9471e-04 - val_root_mean_squared_error: 0.0199\n",
      "Epoch 41/100\n",
      "604/604 - 58s - loss: 7.7418e-04 - root_mean_squared_error: 0.0278 - val_loss: 3.9476e-04 - val_root_mean_squared_error: 0.0199\n",
      "Epoch 42/100\n",
      "604/604 - 60s - loss: 7.7108e-04 - root_mean_squared_error: 0.0278 - val_loss: 4.0679e-04 - val_root_mean_squared_error: 0.0202\n",
      "Epoch 43/100\n",
      "604/604 - 58s - loss: 7.7002e-04 - root_mean_squared_error: 0.0277 - val_loss: 3.8132e-04 - val_root_mean_squared_error: 0.0195\n",
      "Epoch 44/100\n",
      "604/604 - 60s - loss: 7.6558e-04 - root_mean_squared_error: 0.0277 - val_loss: 3.8847e-04 - val_root_mean_squared_error: 0.0197\n",
      "Epoch 45/100\n",
      "604/604 - 58s - loss: 7.6275e-04 - root_mean_squared_error: 0.0276 - val_loss: 4.0701e-04 - val_root_mean_squared_error: 0.0202\n",
      "Epoch 46/100\n",
      "604/604 - 57s - loss: 7.6102e-04 - root_mean_squared_error: 0.0276 - val_loss: 4.0936e-04 - val_root_mean_squared_error: 0.0202\n",
      "Epoch 47/100\n",
      "604/604 - 57s - loss: 7.5845e-04 - root_mean_squared_error: 0.0275 - val_loss: 3.9026e-04 - val_root_mean_squared_error: 0.0198\n",
      "Epoch 48/100\n",
      "604/604 - 59s - loss: 7.5536e-04 - root_mean_squared_error: 0.0275 - val_loss: 4.0997e-04 - val_root_mean_squared_error: 0.0202\n",
      "Epoch 49/100\n",
      "604/604 - 58s - loss: 7.5318e-04 - root_mean_squared_error: 0.0274 - val_loss: 4.0240e-04 - val_root_mean_squared_error: 0.0201\n",
      "Epoch 50/100\n",
      "604/604 - 60s - loss: 7.4974e-04 - root_mean_squared_error: 0.0274 - val_loss: 3.9037e-04 - val_root_mean_squared_error: 0.0198\n",
      "Epoch 51/100\n",
      "604/604 - 59s - loss: 7.4926e-04 - root_mean_squared_error: 0.0274 - val_loss: 3.8620e-04 - val_root_mean_squared_error: 0.0197\n",
      "Epoch 52/100\n",
      "604/604 - 57s - loss: 7.4761e-04 - root_mean_squared_error: 0.0273 - val_loss: 4.0538e-04 - val_root_mean_squared_error: 0.0201\n",
      "Epoch 53/100\n",
      "604/604 - 58s - loss: 7.4511e-04 - root_mean_squared_error: 0.0273 - val_loss: 3.8951e-04 - val_root_mean_squared_error: 0.0197\n",
      "Epoch 54/100\n",
      "604/604 - 56s - loss: 7.4255e-04 - root_mean_squared_error: 0.0272 - val_loss: 3.9118e-04 - val_root_mean_squared_error: 0.0198\n",
      "Epoch 55/100\n",
      "604/604 - 58s - loss: 7.4017e-04 - root_mean_squared_error: 0.0272 - val_loss: 3.9167e-04 - val_root_mean_squared_error: 0.0198\n",
      "Epoch 56/100\n",
      "604/604 - 56s - loss: 7.3750e-04 - root_mean_squared_error: 0.0272 - val_loss: 3.7388e-04 - val_root_mean_squared_error: 0.0193\n",
      "Epoch 57/100\n",
      "604/604 - 56s - loss: 7.3572e-04 - root_mean_squared_error: 0.0271 - val_loss: 3.8059e-04 - val_root_mean_squared_error: 0.0195\n",
      "Epoch 58/100\n",
      "604/604 - 56s - loss: 7.3629e-04 - root_mean_squared_error: 0.0271 - val_loss: 3.7546e-04 - val_root_mean_squared_error: 0.0194\n",
      "Epoch 59/100\n",
      "604/604 - 58s - loss: 7.3455e-04 - root_mean_squared_error: 0.0271 - val_loss: 3.9489e-04 - val_root_mean_squared_error: 0.0199\n"
     ]
    },
    {
     "name": "stdout",
     "output_type": "stream",
     "text": [
      "Epoch 60/100\n",
      "604/604 - 54s - loss: 7.3311e-04 - root_mean_squared_error: 0.0271 - val_loss: 3.7755e-04 - val_root_mean_squared_error: 0.0194\n",
      "Epoch 61/100\n",
      "604/604 - 55s - loss: 7.2820e-04 - root_mean_squared_error: 0.0270 - val_loss: 4.0196e-04 - val_root_mean_squared_error: 0.0200\n",
      "Epoch 62/100\n",
      "604/604 - 55s - loss: 7.2745e-04 - root_mean_squared_error: 0.0270 - val_loss: 3.7865e-04 - val_root_mean_squared_error: 0.0195\n",
      "Epoch 63/100\n",
      "604/604 - 56s - loss: 7.2462e-04 - root_mean_squared_error: 0.0269 - val_loss: 3.8036e-04 - val_root_mean_squared_error: 0.0195\n",
      "Epoch 64/100\n",
      "604/604 - 57s - loss: 7.2364e-04 - root_mean_squared_error: 0.0269 - val_loss: 3.8689e-04 - val_root_mean_squared_error: 0.0197\n",
      "Epoch 65/100\n",
      "604/604 - 55s - loss: 7.2335e-04 - root_mean_squared_error: 0.0269 - val_loss: 3.6934e-04 - val_root_mean_squared_error: 0.0192\n",
      "Epoch 66/100\n",
      "604/604 - 54s - loss: 7.2050e-04 - root_mean_squared_error: 0.0268 - val_loss: 3.5482e-04 - val_root_mean_squared_error: 0.0188\n",
      "Epoch 67/100\n",
      "604/604 - 56s - loss: 7.2118e-04 - root_mean_squared_error: 0.0269 - val_loss: 3.7537e-04 - val_root_mean_squared_error: 0.0194\n",
      "Epoch 68/100\n",
      "604/604 - 55s - loss: 7.1941e-04 - root_mean_squared_error: 0.0268 - val_loss: 3.6648e-04 - val_root_mean_squared_error: 0.0191\n",
      "Epoch 69/100\n",
      "604/604 - 57s - loss: 7.1804e-04 - root_mean_squared_error: 0.0268 - val_loss: 3.8574e-04 - val_root_mean_squared_error: 0.0196\n",
      "Epoch 70/100\n",
      "604/604 - 55s - loss: 7.1613e-04 - root_mean_squared_error: 0.0268 - val_loss: 3.9615e-04 - val_root_mean_squared_error: 0.0199\n",
      "Epoch 71/100\n",
      "604/604 - 55s - loss: 7.1355e-04 - root_mean_squared_error: 0.0267 - val_loss: 3.6937e-04 - val_root_mean_squared_error: 0.0192\n",
      "Epoch 72/100\n",
      "604/604 - 54s - loss: 7.1274e-04 - root_mean_squared_error: 0.0267 - val_loss: 3.8527e-04 - val_root_mean_squared_error: 0.0196\n",
      "Epoch 73/100\n",
      "604/604 - 54s - loss: 7.1119e-04 - root_mean_squared_error: 0.0267 - val_loss: 3.6416e-04 - val_root_mean_squared_error: 0.0191\n",
      "Epoch 74/100\n",
      "604/604 - 54s - loss: 7.1149e-04 - root_mean_squared_error: 0.0267 - val_loss: 3.6509e-04 - val_root_mean_squared_error: 0.0191\n",
      "Epoch 75/100\n",
      "604/604 - 55s - loss: 7.0951e-04 - root_mean_squared_error: 0.0266 - val_loss: 3.6336e-04 - val_root_mean_squared_error: 0.0191\n",
      "Epoch 76/100\n",
      "604/604 - 56s - loss: 7.1009e-04 - root_mean_squared_error: 0.0266 - val_loss: 3.7928e-04 - val_root_mean_squared_error: 0.0195\n",
      "Epoch 77/100\n",
      "604/604 - 55s - loss: 7.0534e-04 - root_mean_squared_error: 0.0266 - val_loss: 4.2836e-04 - val_root_mean_squared_error: 0.0207\n",
      "Epoch 78/100\n",
      "604/604 - 55s - loss: 7.0498e-04 - root_mean_squared_error: 0.0266 - val_loss: 3.7482e-04 - val_root_mean_squared_error: 0.0194\n",
      "Epoch 79/100\n",
      "604/604 - 55s - loss: 7.0486e-04 - root_mean_squared_error: 0.0265 - val_loss: 3.6771e-04 - val_root_mean_squared_error: 0.0192\n",
      "Epoch 80/100\n",
      "604/604 - 56s - loss: 7.0413e-04 - root_mean_squared_error: 0.0265 - val_loss: 3.5911e-04 - val_root_mean_squared_error: 0.0190\n",
      "Epoch 81/100\n",
      "604/604 - 56s - loss: 7.0237e-04 - root_mean_squared_error: 0.0265 - val_loss: 3.6673e-04 - val_root_mean_squared_error: 0.0192\n",
      "Epoch 82/100\n",
      "604/604 - 55s - loss: 7.0081e-04 - root_mean_squared_error: 0.0265 - val_loss: 3.7671e-04 - val_root_mean_squared_error: 0.0194\n",
      "Epoch 83/100\n",
      "604/604 - 56s - loss: 6.9952e-04 - root_mean_squared_error: 0.0264 - val_loss: 3.5479e-04 - val_root_mean_squared_error: 0.0188\n",
      "Epoch 84/100\n",
      "604/604 - 54s - loss: 6.9973e-04 - root_mean_squared_error: 0.0265 - val_loss: 3.7875e-04 - val_root_mean_squared_error: 0.0195\n",
      "Epoch 85/100\n",
      "604/604 - 54s - loss: 6.9762e-04 - root_mean_squared_error: 0.0264 - val_loss: 3.8008e-04 - val_root_mean_squared_error: 0.0195\n",
      "Epoch 86/100\n",
      "604/604 - 58s - loss: 6.9596e-04 - root_mean_squared_error: 0.0264 - val_loss: 3.6459e-04 - val_root_mean_squared_error: 0.0191\n",
      "Epoch 87/100\n",
      "604/604 - 55s - loss: 6.9602e-04 - root_mean_squared_error: 0.0264 - val_loss: 3.7945e-04 - val_root_mean_squared_error: 0.0195\n",
      "Epoch 88/100\n",
      "604/604 - 56s - loss: 6.9479e-04 - root_mean_squared_error: 0.0264 - val_loss: 3.4721e-04 - val_root_mean_squared_error: 0.0186\n",
      "Epoch 89/100\n",
      "604/604 - 56s - loss: 6.9372e-04 - root_mean_squared_error: 0.0263 - val_loss: 3.6103e-04 - val_root_mean_squared_error: 0.0190\n",
      "Epoch 90/100\n",
      "604/604 - 54s - loss: 6.9340e-04 - root_mean_squared_error: 0.0263 - val_loss: 3.5527e-04 - val_root_mean_squared_error: 0.0188\n",
      "Epoch 91/100\n",
      "604/604 - 55s - loss: 6.9156e-04 - root_mean_squared_error: 0.0263 - val_loss: 3.7237e-04 - val_root_mean_squared_error: 0.0193\n",
      "Epoch 92/100\n",
      "604/604 - 54s - loss: 6.9108e-04 - root_mean_squared_error: 0.0263 - val_loss: 3.7499e-04 - val_root_mean_squared_error: 0.0194\n",
      "Epoch 93/100\n",
      "604/604 - 54s - loss: 6.8821e-04 - root_mean_squared_error: 0.0262 - val_loss: 3.6862e-04 - val_root_mean_squared_error: 0.0192\n",
      "Epoch 94/100\n",
      "604/604 - 56s - loss: 6.9013e-04 - root_mean_squared_error: 0.0263 - val_loss: 3.6311e-04 - val_root_mean_squared_error: 0.0191\n",
      "Epoch 95/100\n",
      "604/604 - 54s - loss: 6.8862e-04 - root_mean_squared_error: 0.0262 - val_loss: 3.5268e-04 - val_root_mean_squared_error: 0.0188\n",
      "Epoch 96/100\n",
      "604/604 - 54s - loss: 6.8655e-04 - root_mean_squared_error: 0.0262 - val_loss: 3.5872e-04 - val_root_mean_squared_error: 0.0189\n",
      "Epoch 97/100\n",
      "604/604 - 54s - loss: 6.8653e-04 - root_mean_squared_error: 0.0262 - val_loss: 3.6980e-04 - val_root_mean_squared_error: 0.0192\n",
      "Epoch 98/100\n",
      "604/604 - 56s - loss: 6.8489e-04 - root_mean_squared_error: 0.0262 - val_loss: 3.5696e-04 - val_root_mean_squared_error: 0.0189\n",
      "Epoch 99/100\n",
      "604/604 - 55s - loss: 6.8437e-04 - root_mean_squared_error: 0.0262 - val_loss: 3.6061e-04 - val_root_mean_squared_error: 0.0190\n",
      "Epoch 100/100\n",
      "604/604 - 54s - loss: 6.8288e-04 - root_mean_squared_error: 0.0261 - val_loss: 3.4486e-04 - val_root_mean_squared_error: 0.0186\n"
     ]
    }
   ],
   "source": [
    "import tensorflow as tf\n",
    "from tensorflow import keras\n",
    "from tensorflow.keras import layers\n",
    "from keras.layers import Input,LSTM,Dropout,Dense\n",
    "\n",
    "\n",
    "timesteps = 10\n",
    "# create and fit the LSTM network\n",
    "\n",
    "model = keras.Sequential()\n",
    "model.add(LSTM(100,input_shape=(timesteps,5),return_sequences=True))\n",
    "model.add(Dropout(0.2))\n",
    "model.add(LSTM(100,input_shape=(timesteps,5),return_sequences=True))\n",
    "model.add(Dropout(0.2))\n",
    "model.add(LSTM(100,input_shape=(timesteps,5),return_sequences=False))\n",
    "model.add(Dropout(0.2))\n",
    "model.add(Dense(30,activation='linear'))\n",
    "model.compile(optimizer='rmsprop',loss='mean_squared_error',metrics=[tf.keras.metrics.RootMeanSquaredError()])\n",
    "\n",
    "history = model.fit(train_X, train_Y, epochs=100, batch_size=512, verbose=2, validation_data=(test_X, test_Y))"
   ]
  },
  {
   "cell_type": "code",
   "execution_count": 10,
   "metadata": {},
   "outputs": [],
   "source": [
    "testPredict = model.predict(test_X)"
   ]
  },
  {
   "cell_type": "code",
   "execution_count": 11,
   "metadata": {},
   "outputs": [],
   "source": [
    "newtestPredict = scaler.inverse_transform(testPredict)\n",
    "newtest_Y = scaler.inverse_transform(test_Y)"
   ]
  },
  {
   "cell_type": "code",
   "execution_count": 12,
   "metadata": {},
   "outputs": [
    {
     "name": "stdout",
     "output_type": "stream",
     "text": [
      "Test Score: 0.52243 RMSE\n"
     ]
    }
   ],
   "source": [
    "testScore = sqrt(mean_squared_error(newtest_Y, newtestPredict))\n",
    "print('Test Score: %.5f RMSE' % (testScore))"
   ]
  },
  {
   "cell_type": "code",
   "execution_count": null,
   "metadata": {},
   "outputs": [],
   "source": []
  }
 ],
 "metadata": {
  "kernelspec": {
   "display_name": "Python 3",
   "language": "python",
   "name": "python3"
  },
  "language_info": {
   "codemirror_mode": {
    "name": "ipython",
    "version": 3
   },
   "file_extension": ".py",
   "mimetype": "text/x-python",
   "name": "python",
   "nbconvert_exporter": "python",
   "pygments_lexer": "ipython3",
   "version": "3.8.3"
  }
 },
 "nbformat": 4,
 "nbformat_minor": 4
}
