{
 "cells": [
  {
   "cell_type": "code",
   "execution_count": 1,
   "metadata": {},
   "outputs": [],
   "source": [
    "from test import EigenData\n",
    "import numpy as np\n",
    "import scipy.io\n",
    "import h5py\n",
    "from sklearn.preprocessing import MinMaxScaler\n",
    "from sklearn.metrics import mean_squared_error\n",
    "from math import sqrt\n",
    "import matplotlib.pyplot as plt\n",
    "from mpl_toolkits.axes_grid1 import make_axes_locatable\n",
    "import torch\n",
    "%matplotlib inline"
   ]
  },
  {
   "cell_type": "code",
   "execution_count": 2,
   "metadata": {},
   "outputs": [
    {
     "name": "stdout",
     "output_type": "stream",
     "text": [
      "b (5, 33600)\n",
      "(100, 5) (5, 33600)\n",
      "--> (100, 33600)\n",
      "c (5, 33600)\n",
      "(100, 5) (5, 33600)\n",
      "--> (100, 33600)\n",
      "d (5, 33600)\n",
      "(100, 5) (5, 33600)\n",
      "--> (100, 33600)\n",
      "e (5, 33600)\n",
      "(100, 5) (5, 33600)\n",
      "--> (100, 33600)\n",
      "f (5, 33600)\n",
      "(100, 5) (5, 33600)\n",
      "--> (100, 33600)\n",
      "g (6, 33600)\n",
      "(100, 6) (6, 33600)\n",
      "--> (100, 33600)\n",
      "h (5, 33600)\n",
      "(100, 5) (5, 33600)\n",
      "--> (100, 33600)\n",
      "i (6, 33600)\n",
      "(100, 6) (6, 33600)\n",
      "--> (100, 33600)\n",
      "j (5, 33600)\n",
      "(100, 5) (5, 33600)\n",
      "--> (100, 33600)\n",
      "k (5, 33600)\n",
      "(100, 5) (5, 33600)\n",
      "--> (100, 33600)\n",
      "l (5, 33600)\n",
      "(100, 5) (5, 33600)\n",
      "--> (100, 33600)\n",
      "m (5, 33600)\n",
      "(100, 5) (5, 33600)\n",
      "--> (100, 33600)\n",
      "(403200, 5)\n"
     ]
    }
   ],
   "source": [
    "data = EigenData()\n",
    "eigenworms = data.get_eigenworms('EigenWorms.mat')\n",
    "\n",
    "footage = data.get_footage('20150814-All-PNAS2011-DataStitched .mat')\n",
    "newdata = torch.rand(33600,5)\n",
    "for k in footage.keys():\n",
    "    print(k, footage[k].shape)\n",
    "    arr1=footage[k]\n",
    "\n",
    "    arr2=arr1[:5,]\n",
    "\n",
    "    r = data.reconstruct(footage[k])\n",
    "    print('-->', r.shape)\n",
    "    dataset1 = arr2.transpose()\n",
    "\n",
    "    newdata = np.concatenate((newdata,dataset1),axis=0)\n",
    "newdata = newdata[33600:,]\n",
    "print(newdata.shape)"
   ]
  },
  {
   "cell_type": "code",
   "execution_count": 3,
   "metadata": {},
   "outputs": [],
   "source": [
    "first_5_eigenworms = eigenworms[0:5,:]\n",
    "eig_worm_0 = eigenworms[0,:]\n",
    "eig_worm_1 = eigenworms[1,:]\n",
    "eig_worm_2 = eigenworms[2,:]\n",
    "eig_worm_3 = eigenworms[3,:]\n",
    "eig_worm_4 = eigenworms[4,:]"
   ]
  },
  {
   "cell_type": "code",
   "execution_count": 4,
   "metadata": {},
   "outputs": [
    {
     "name": "stdout",
     "output_type": "stream",
     "text": [
      "(386422, 5)\n",
      "386422\n"
     ]
    }
   ],
   "source": [
    "data1=newdata[~np.isnan(newdata).any(axis=1)]\n",
    "data1 = data1.astype('float32')\n",
    "print(data1.shape)\n",
    "print(len(data1))"
   ]
  },
  {
   "cell_type": "code",
   "execution_count": 5,
   "metadata": {},
   "outputs": [],
   "source": [
    "scaler = MinMaxScaler(feature_range=(0, 1))\n",
    "data1 = scaler.fit_transform(data1)"
   ]
  },
  {
   "cell_type": "code",
   "execution_count": 6,
   "metadata": {},
   "outputs": [],
   "source": [
    "def create_dataset(dataset, look_back=5):\n",
    "    dataX, dataY = [], []\n",
    "    for i in range(len(dataset) - look_back):\n",
    "        a = dataset[i:(i + look_back)]\n",
    "        dataX.append(a)\n",
    "        dataY.append(dataset[i + look_back])\n",
    "    return np.array(dataX), np.array(dataY)"
   ]
  },
  {
   "cell_type": "code",
   "execution_count": 7,
   "metadata": {},
   "outputs": [
    {
     "name": "stdout",
     "output_type": "stream",
     "text": [
      "(386417, 5, 5)\n",
      "(386417, 5)\n"
     ]
    }
   ],
   "source": [
    "data_X, data_Y = create_dataset(data1)\n",
    "\n",
    "print(data_X.shape)\n",
    "print(data_Y.shape)"
   ]
  },
  {
   "cell_type": "code",
   "execution_count": 8,
   "metadata": {},
   "outputs": [
    {
     "name": "stdout",
     "output_type": "stream",
     "text": [
      "(309133, 5, 5)\n",
      "(309133, 5)\n",
      "(77284, 5, 5)\n",
      "(77284, 5)\n"
     ]
    }
   ],
   "source": [
    "train_size = int(len(data_X) * 0.8)\n",
    "test_size = len(data_X) - train_size\n",
    "train_X = data_X[:train_size]\n",
    "train_Y = data_Y[:train_size]\n",
    "test_X = data_X[train_size:]\n",
    "test_Y = data_Y[train_size:]\n",
    "\n",
    "print(train_X.shape)\n",
    "print(train_Y.shape)\n",
    "print(test_X.shape)\n",
    "print(test_Y.shape)"
   ]
  },
  {
   "cell_type": "code",
   "execution_count": 9,
   "metadata": {},
   "outputs": [
    {
     "name": "stdout",
     "output_type": "stream",
     "text": [
      "Epoch 1/100\n",
      "604/604 - 52s - loss: 0.0120 - root_mean_squared_error: 0.1094 - val_loss: 0.0044 - val_root_mean_squared_error: 0.0662\n",
      "Epoch 2/100\n",
      "604/604 - 44s - loss: 0.0042 - root_mean_squared_error: 0.0646 - val_loss: 0.0014 - val_root_mean_squared_error: 0.0378\n",
      "Epoch 3/100\n",
      "604/604 - 44s - loss: 0.0022 - root_mean_squared_error: 0.0471 - val_loss: 5.9703e-04 - val_root_mean_squared_error: 0.0244\n",
      "Epoch 4/100\n",
      "604/604 - 44s - loss: 0.0015 - root_mean_squared_error: 0.0390 - val_loss: 6.8111e-04 - val_root_mean_squared_error: 0.0261\n",
      "Epoch 5/100\n",
      "604/604 - 44s - loss: 0.0012 - root_mean_squared_error: 0.0347 - val_loss: 3.5489e-04 - val_root_mean_squared_error: 0.0188\n",
      "Epoch 6/100\n",
      "604/604 - 44s - loss: 0.0010 - root_mean_squared_error: 0.0317 - val_loss: 4.4601e-04 - val_root_mean_squared_error: 0.0211\n",
      "Epoch 7/100\n",
      "604/604 - 44s - loss: 8.6715e-04 - root_mean_squared_error: 0.0294 - val_loss: 2.7391e-04 - val_root_mean_squared_error: 0.0166\n",
      "Epoch 8/100\n",
      "604/604 - 44s - loss: 7.6396e-04 - root_mean_squared_error: 0.0276 - val_loss: 3.6076e-04 - val_root_mean_squared_error: 0.0190\n",
      "Epoch 9/100\n",
      "604/604 - 44s - loss: 6.8801e-04 - root_mean_squared_error: 0.0262 - val_loss: 2.0341e-04 - val_root_mean_squared_error: 0.0143\n",
      "Epoch 10/100\n",
      "604/604 - 44s - loss: 6.3050e-04 - root_mean_squared_error: 0.0251 - val_loss: 2.0987e-04 - val_root_mean_squared_error: 0.0145\n",
      "Epoch 11/100\n",
      "604/604 - 44s - loss: 5.9427e-04 - root_mean_squared_error: 0.0244 - val_loss: 2.6666e-04 - val_root_mean_squared_error: 0.0163\n",
      "Epoch 12/100\n",
      "604/604 - 45s - loss: 5.6690e-04 - root_mean_squared_error: 0.0238 - val_loss: 1.5568e-04 - val_root_mean_squared_error: 0.0125\n",
      "Epoch 13/100\n",
      "604/604 - 44s - loss: 5.4636e-04 - root_mean_squared_error: 0.0234 - val_loss: 1.3444e-04 - val_root_mean_squared_error: 0.0116\n",
      "Epoch 14/100\n",
      "604/604 - 44s - loss: 5.3133e-04 - root_mean_squared_error: 0.0231 - val_loss: 1.6367e-04 - val_root_mean_squared_error: 0.0128\n",
      "Epoch 15/100\n",
      "604/604 - 44s - loss: 5.1865e-04 - root_mean_squared_error: 0.0228 - val_loss: 1.6347e-04 - val_root_mean_squared_error: 0.0128\n",
      "Epoch 16/100\n",
      "604/604 - 44s - loss: 5.0719e-04 - root_mean_squared_error: 0.0225 - val_loss: 1.7998e-04 - val_root_mean_squared_error: 0.0134\n",
      "Epoch 17/100\n",
      "604/604 - 44s - loss: 4.9668e-04 - root_mean_squared_error: 0.0223 - val_loss: 2.1290e-04 - val_root_mean_squared_error: 0.0146\n",
      "Epoch 18/100\n",
      "604/604 - 44s - loss: 4.9154e-04 - root_mean_squared_error: 0.0222 - val_loss: 1.0772e-04 - val_root_mean_squared_error: 0.0104\n",
      "Epoch 19/100\n",
      "604/604 - 44s - loss: 4.8092e-04 - root_mean_squared_error: 0.0219 - val_loss: 1.6855e-04 - val_root_mean_squared_error: 0.0130\n",
      "Epoch 20/100\n",
      "604/604 - 44s - loss: 4.7511e-04 - root_mean_squared_error: 0.0218 - val_loss: 1.0414e-04 - val_root_mean_squared_error: 0.0102\n",
      "Epoch 21/100\n",
      "604/604 - 44s - loss: 4.6859e-04 - root_mean_squared_error: 0.0216 - val_loss: 1.1866e-04 - val_root_mean_squared_error: 0.0109\n",
      "Epoch 22/100\n",
      "604/604 - 44s - loss: 4.6045e-04 - root_mean_squared_error: 0.0215 - val_loss: 7.3610e-05 - val_root_mean_squared_error: 0.0086\n",
      "Epoch 23/100\n",
      "604/604 - 44s - loss: 4.5758e-04 - root_mean_squared_error: 0.0214 - val_loss: 9.6698e-05 - val_root_mean_squared_error: 0.0098\n",
      "Epoch 24/100\n",
      "604/604 - 44s - loss: 4.5111e-04 - root_mean_squared_error: 0.0212 - val_loss: 1.0756e-04 - val_root_mean_squared_error: 0.0104\n",
      "Epoch 25/100\n",
      "604/604 - 44s - loss: 4.4672e-04 - root_mean_squared_error: 0.0211 - val_loss: 1.6077e-04 - val_root_mean_squared_error: 0.0127\n",
      "Epoch 26/100\n",
      "604/604 - 43s - loss: 4.4301e-04 - root_mean_squared_error: 0.0210 - val_loss: 1.5699e-04 - val_root_mean_squared_error: 0.0125\n",
      "Epoch 27/100\n",
      "604/604 - 43s - loss: 4.3822e-04 - root_mean_squared_error: 0.0209 - val_loss: 1.0093e-04 - val_root_mean_squared_error: 0.0100\n",
      "Epoch 28/100\n",
      "604/604 - 43s - loss: 4.3492e-04 - root_mean_squared_error: 0.0209 - val_loss: 1.6900e-04 - val_root_mean_squared_error: 0.0130\n",
      "Epoch 29/100\n",
      "604/604 - 43s - loss: 4.3065e-04 - root_mean_squared_error: 0.0208 - val_loss: 9.3986e-05 - val_root_mean_squared_error: 0.0097\n",
      "Epoch 30/100\n",
      "604/604 - 43s - loss: 4.2792e-04 - root_mean_squared_error: 0.0207 - val_loss: 7.4620e-05 - val_root_mean_squared_error: 0.0086\n",
      "Epoch 31/100\n",
      "604/604 - 44s - loss: 4.2451e-04 - root_mean_squared_error: 0.0206 - val_loss: 9.2617e-05 - val_root_mean_squared_error: 0.0096\n",
      "Epoch 32/100\n",
      "604/604 - 43s - loss: 4.2070e-04 - root_mean_squared_error: 0.0205 - val_loss: 7.5924e-05 - val_root_mean_squared_error: 0.0087\n",
      "Epoch 33/100\n",
      "604/604 - 44s - loss: 4.1772e-04 - root_mean_squared_error: 0.0204 - val_loss: 7.4319e-05 - val_root_mean_squared_error: 0.0086\n",
      "Epoch 34/100\n",
      "604/604 - 44s - loss: 4.1470e-04 - root_mean_squared_error: 0.0204 - val_loss: 8.2636e-05 - val_root_mean_squared_error: 0.0091\n",
      "Epoch 35/100\n",
      "604/604 - 47s - loss: 4.1314e-04 - root_mean_squared_error: 0.0203 - val_loss: 1.2570e-04 - val_root_mean_squared_error: 0.0112\n",
      "Epoch 36/100\n",
      "604/604 - 44s - loss: 4.0978e-04 - root_mean_squared_error: 0.0202 - val_loss: 1.2450e-04 - val_root_mean_squared_error: 0.0112\n",
      "Epoch 37/100\n",
      "604/604 - 43s - loss: 4.0753e-04 - root_mean_squared_error: 0.0202 - val_loss: 8.2107e-05 - val_root_mean_squared_error: 0.0091\n",
      "Epoch 38/100\n",
      "604/604 - 44s - loss: 4.0445e-04 - root_mean_squared_error: 0.0201 - val_loss: 8.3242e-05 - val_root_mean_squared_error: 0.0091\n",
      "Epoch 39/100\n",
      "604/604 - 43s - loss: 4.0191e-04 - root_mean_squared_error: 0.0200 - val_loss: 9.5524e-05 - val_root_mean_squared_error: 0.0098\n",
      "Epoch 40/100\n",
      "604/604 - 44s - loss: 4.0002e-04 - root_mean_squared_error: 0.0200 - val_loss: 1.4345e-04 - val_root_mean_squared_error: 0.0120\n",
      "Epoch 41/100\n",
      "604/604 - 44s - loss: 3.9689e-04 - root_mean_squared_error: 0.0199 - val_loss: 1.1187e-04 - val_root_mean_squared_error: 0.0106\n",
      "Epoch 42/100\n",
      "604/604 - 44s - loss: 3.9622e-04 - root_mean_squared_error: 0.0199 - val_loss: 8.0902e-05 - val_root_mean_squared_error: 0.0090\n",
      "Epoch 43/100\n",
      "604/604 - 43s - loss: 3.9285e-04 - root_mean_squared_error: 0.0198 - val_loss: 9.0622e-05 - val_root_mean_squared_error: 0.0095\n",
      "Epoch 44/100\n",
      "604/604 - 43s - loss: 3.9275e-04 - root_mean_squared_error: 0.0198 - val_loss: 1.2590e-04 - val_root_mean_squared_error: 0.0112\n",
      "Epoch 45/100\n",
      "604/604 - 44s - loss: 3.8978e-04 - root_mean_squared_error: 0.0197 - val_loss: 8.2354e-05 - val_root_mean_squared_error: 0.0091\n",
      "Epoch 46/100\n",
      "604/604 - 44s - loss: 3.8834e-04 - root_mean_squared_error: 0.0197 - val_loss: 9.9563e-05 - val_root_mean_squared_error: 0.0100\n",
      "Epoch 47/100\n",
      "604/604 - 44s - loss: 3.8717e-04 - root_mean_squared_error: 0.0197 - val_loss: 7.9326e-05 - val_root_mean_squared_error: 0.0089\n",
      "Epoch 48/100\n",
      "604/604 - 44s - loss: 3.8384e-04 - root_mean_squared_error: 0.0196 - val_loss: 7.2711e-05 - val_root_mean_squared_error: 0.0085\n",
      "Epoch 49/100\n",
      "604/604 - 44s - loss: 3.8174e-04 - root_mean_squared_error: 0.0195 - val_loss: 6.9596e-05 - val_root_mean_squared_error: 0.0083\n",
      "Epoch 50/100\n",
      "604/604 - 43s - loss: 3.7957e-04 - root_mean_squared_error: 0.0195 - val_loss: 7.2934e-05 - val_root_mean_squared_error: 0.0085\n",
      "Epoch 51/100\n",
      "604/604 - 43s - loss: 3.7923e-04 - root_mean_squared_error: 0.0195 - val_loss: 9.0079e-05 - val_root_mean_squared_error: 0.0095\n",
      "Epoch 52/100\n",
      "604/604 - 44s - loss: 3.7780e-04 - root_mean_squared_error: 0.0194 - val_loss: 8.4237e-05 - val_root_mean_squared_error: 0.0092\n",
      "Epoch 53/100\n",
      "604/604 - 44s - loss: 3.7676e-04 - root_mean_squared_error: 0.0194 - val_loss: 6.0460e-05 - val_root_mean_squared_error: 0.0078\n",
      "Epoch 54/100\n",
      "604/604 - 44s - loss: 3.7521e-04 - root_mean_squared_error: 0.0194 - val_loss: 8.9594e-05 - val_root_mean_squared_error: 0.0095\n",
      "Epoch 55/100\n",
      "604/604 - 44s - loss: 3.7309e-04 - root_mean_squared_error: 0.0193 - val_loss: 9.7967e-05 - val_root_mean_squared_error: 0.0099\n",
      "Epoch 56/100\n",
      "604/604 - 44s - loss: 3.7217e-04 - root_mean_squared_error: 0.0193 - val_loss: 7.8396e-05 - val_root_mean_squared_error: 0.0089\n",
      "Epoch 57/100\n",
      "604/604 - 43s - loss: 3.7024e-04 - root_mean_squared_error: 0.0192 - val_loss: 6.6122e-05 - val_root_mean_squared_error: 0.0081\n",
      "Epoch 58/100\n",
      "604/604 - 43s - loss: 3.7029e-04 - root_mean_squared_error: 0.0192 - val_loss: 8.9014e-05 - val_root_mean_squared_error: 0.0094\n",
      "Epoch 59/100\n",
      "604/604 - 43s - loss: 3.6935e-04 - root_mean_squared_error: 0.0192 - val_loss: 6.7889e-05 - val_root_mean_squared_error: 0.0082\n"
     ]
    },
    {
     "name": "stdout",
     "output_type": "stream",
     "text": [
      "Epoch 60/100\n",
      "604/604 - 44s - loss: 3.6684e-04 - root_mean_squared_error: 0.0192 - val_loss: 6.7500e-05 - val_root_mean_squared_error: 0.0082\n",
      "Epoch 61/100\n",
      "604/604 - 43s - loss: 3.6698e-04 - root_mean_squared_error: 0.0192 - val_loss: 6.7528e-05 - val_root_mean_squared_error: 0.0082\n",
      "Epoch 62/100\n",
      "604/604 - 43s - loss: 3.6345e-04 - root_mean_squared_error: 0.0191 - val_loss: 1.1953e-04 - val_root_mean_squared_error: 0.0109\n",
      "Epoch 63/100\n",
      "604/604 - 44s - loss: 3.6347e-04 - root_mean_squared_error: 0.0191 - val_loss: 6.5043e-05 - val_root_mean_squared_error: 0.0081\n",
      "Epoch 64/100\n",
      "604/604 - 44s - loss: 3.6172e-04 - root_mean_squared_error: 0.0190 - val_loss: 7.6547e-05 - val_root_mean_squared_error: 0.0087\n",
      "Epoch 65/100\n",
      "604/604 - 44s - loss: 3.6199e-04 - root_mean_squared_error: 0.0190 - val_loss: 8.6325e-05 - val_root_mean_squared_error: 0.0093\n",
      "Epoch 66/100\n",
      "604/604 - 44s - loss: 3.5977e-04 - root_mean_squared_error: 0.0190 - val_loss: 7.3101e-05 - val_root_mean_squared_error: 0.0085\n",
      "Epoch 67/100\n",
      "604/604 - 43s - loss: 3.5958e-04 - root_mean_squared_error: 0.0190 - val_loss: 6.6241e-05 - val_root_mean_squared_error: 0.0081\n",
      "Epoch 68/100\n",
      "604/604 - 43s - loss: 3.5800e-04 - root_mean_squared_error: 0.0189 - val_loss: 5.7871e-05 - val_root_mean_squared_error: 0.0076\n",
      "Epoch 69/100\n",
      "604/604 - 44s - loss: 3.5602e-04 - root_mean_squared_error: 0.0189 - val_loss: 6.8376e-05 - val_root_mean_squared_error: 0.0083\n",
      "Epoch 70/100\n",
      "604/604 - 43s - loss: 3.5588e-04 - root_mean_squared_error: 0.0189 - val_loss: 7.1086e-05 - val_root_mean_squared_error: 0.0084\n",
      "Epoch 71/100\n",
      "604/604 - 44s - loss: 3.5527e-04 - root_mean_squared_error: 0.0188 - val_loss: 7.5823e-05 - val_root_mean_squared_error: 0.0087\n",
      "Epoch 72/100\n",
      "604/604 - 43s - loss: 3.5384e-04 - root_mean_squared_error: 0.0188 - val_loss: 6.1433e-05 - val_root_mean_squared_error: 0.0078\n",
      "Epoch 73/100\n",
      "604/604 - 43s - loss: 3.5289e-04 - root_mean_squared_error: 0.0188 - val_loss: 5.4741e-05 - val_root_mean_squared_error: 0.0074\n",
      "Epoch 74/100\n",
      "604/604 - 44s - loss: 3.5251e-04 - root_mean_squared_error: 0.0188 - val_loss: 6.2236e-05 - val_root_mean_squared_error: 0.0079\n",
      "Epoch 75/100\n",
      "604/604 - 44s - loss: 3.5169e-04 - root_mean_squared_error: 0.0188 - val_loss: 7.3903e-05 - val_root_mean_squared_error: 0.0086\n",
      "Epoch 76/100\n",
      "604/604 - 44s - loss: 3.5070e-04 - root_mean_squared_error: 0.0187 - val_loss: 5.7805e-05 - val_root_mean_squared_error: 0.0076\n",
      "Epoch 77/100\n",
      "604/604 - 44s - loss: 3.5071e-04 - root_mean_squared_error: 0.0187 - val_loss: 6.5216e-05 - val_root_mean_squared_error: 0.0081\n",
      "Epoch 78/100\n",
      "604/604 - 44s - loss: 3.4913e-04 - root_mean_squared_error: 0.0187 - val_loss: 7.1082e-05 - val_root_mean_squared_error: 0.0084\n",
      "Epoch 79/100\n",
      "604/604 - 44s - loss: 3.4686e-04 - root_mean_squared_error: 0.0186 - val_loss: 7.6228e-05 - val_root_mean_squared_error: 0.0087\n",
      "Epoch 80/100\n",
      "604/604 - 44s - loss: 3.4696e-04 - root_mean_squared_error: 0.0186 - val_loss: 6.5998e-05 - val_root_mean_squared_error: 0.0081\n",
      "Epoch 81/100\n",
      "604/604 - 44s - loss: 3.4555e-04 - root_mean_squared_error: 0.0186 - val_loss: 5.2500e-05 - val_root_mean_squared_error: 0.0072\n",
      "Epoch 82/100\n",
      "604/604 - 44s - loss: 3.4569e-04 - root_mean_squared_error: 0.0186 - val_loss: 7.6500e-05 - val_root_mean_squared_error: 0.0087\n",
      "Epoch 83/100\n",
      "604/604 - 43s - loss: 3.4406e-04 - root_mean_squared_error: 0.0185 - val_loss: 4.5996e-05 - val_root_mean_squared_error: 0.0068\n",
      "Epoch 84/100\n",
      "604/604 - 44s - loss: 3.4255e-04 - root_mean_squared_error: 0.0185 - val_loss: 6.6511e-05 - val_root_mean_squared_error: 0.0082\n",
      "Epoch 85/100\n",
      "604/604 - 44s - loss: 3.4206e-04 - root_mean_squared_error: 0.0185 - val_loss: 4.5402e-05 - val_root_mean_squared_error: 0.0067\n",
      "Epoch 86/100\n",
      "604/604 - 43s - loss: 3.4200e-04 - root_mean_squared_error: 0.0185 - val_loss: 5.9586e-05 - val_root_mean_squared_error: 0.0077\n",
      "Epoch 87/100\n",
      "604/604 - 43s - loss: 3.4140e-04 - root_mean_squared_error: 0.0185 - val_loss: 6.3650e-05 - val_root_mean_squared_error: 0.0080\n",
      "Epoch 88/100\n",
      "604/604 - 44s - loss: 3.3960e-04 - root_mean_squared_error: 0.0184 - val_loss: 6.6797e-05 - val_root_mean_squared_error: 0.0082\n",
      "Epoch 89/100\n",
      "604/604 - 44s - loss: 3.3921e-04 - root_mean_squared_error: 0.0184 - val_loss: 6.7940e-05 - val_root_mean_squared_error: 0.0082\n",
      "Epoch 90/100\n",
      "604/604 - 44s - loss: 3.3804e-04 - root_mean_squared_error: 0.0184 - val_loss: 5.6173e-05 - val_root_mean_squared_error: 0.0075\n",
      "Epoch 91/100\n",
      "604/604 - 43s - loss: 3.3719e-04 - root_mean_squared_error: 0.0184 - val_loss: 5.7426e-05 - val_root_mean_squared_error: 0.0076\n",
      "Epoch 92/100\n",
      "604/604 - 43s - loss: 3.3761e-04 - root_mean_squared_error: 0.0184 - val_loss: 4.9417e-05 - val_root_mean_squared_error: 0.0070\n",
      "Epoch 93/100\n",
      "604/604 - 43s - loss: 3.3539e-04 - root_mean_squared_error: 0.0183 - val_loss: 6.6017e-05 - val_root_mean_squared_error: 0.0081\n",
      "Epoch 94/100\n",
      "604/604 - 43s - loss: 3.3643e-04 - root_mean_squared_error: 0.0183 - val_loss: 6.3654e-05 - val_root_mean_squared_error: 0.0080\n",
      "Epoch 95/100\n",
      "604/604 - 44s - loss: 3.3479e-04 - root_mean_squared_error: 0.0183 - val_loss: 4.6107e-05 - val_root_mean_squared_error: 0.0068\n",
      "Epoch 96/100\n",
      "604/604 - 44s - loss: 3.3402e-04 - root_mean_squared_error: 0.0183 - val_loss: 6.1743e-05 - val_root_mean_squared_error: 0.0079\n",
      "Epoch 97/100\n",
      "604/604 - 46s - loss: 3.3345e-04 - root_mean_squared_error: 0.0183 - val_loss: 5.7988e-05 - val_root_mean_squared_error: 0.0076\n",
      "Epoch 98/100\n",
      "604/604 - 45s - loss: 3.3335e-04 - root_mean_squared_error: 0.0183 - val_loss: 5.0950e-05 - val_root_mean_squared_error: 0.0071\n",
      "Epoch 99/100\n",
      "604/604 - 43s - loss: 3.3193e-04 - root_mean_squared_error: 0.0182 - val_loss: 7.6656e-05 - val_root_mean_squared_error: 0.0088\n",
      "Epoch 100/100\n",
      "604/604 - 43s - loss: 3.3074e-04 - root_mean_squared_error: 0.0182 - val_loss: 4.5818e-05 - val_root_mean_squared_error: 0.0068\n"
     ]
    }
   ],
   "source": [
    "import tensorflow as tf\n",
    "from tensorflow import keras\n",
    "from tensorflow.keras import layers\n",
    "from keras.layers import Input,LSTM,Dropout,Dense\n",
    "\n",
    "\n",
    "\n",
    "# create and fit the LSTM network\n",
    "\n",
    "model = keras.Sequential()\n",
    "model.add(LSTM(100,input_shape=(5,5),return_sequences=True))\n",
    "model.add(Dropout(0.2))\n",
    "model.add(LSTM(100,input_shape=(5,5),return_sequences=True))\n",
    "model.add(Dropout(0.2))\n",
    "model.add(LSTM(100,input_shape=(5,5),return_sequences=True))\n",
    "model.add(Dropout(0.2))\n",
    "model.add(LSTM(100,input_shape=(5,5),return_sequences=True))\n",
    "model.add(Dropout(0.2))\n",
    "model.add(LSTM(100,input_shape=(5,5),return_sequences=False))\n",
    "model.add(Dropout(0.2))\n",
    "model.add(Dense(5,activation='linear'))\n",
    "model.compile(optimizer='rmsprop',loss='mean_squared_error',metrics=[tf.keras.metrics.RootMeanSquaredError()])\n",
    "\n",
    "history = model.fit(train_X, train_Y, epochs=100, batch_size=512, verbose=2, validation_data=(test_X, test_Y))"
   ]
  },
  {
   "cell_type": "code",
   "execution_count": 10,
   "metadata": {},
   "outputs": [],
   "source": [
    "testPredict = model.predict(test_X)"
   ]
  },
  {
   "cell_type": "code",
   "execution_count": 11,
   "metadata": {},
   "outputs": [],
   "source": [
    "newtestPredict = scaler.inverse_transform(testPredict)\n",
    "newtest_Y = scaler.inverse_transform(test_Y)"
   ]
  },
  {
   "cell_type": "code",
   "execution_count": 12,
   "metadata": {},
   "outputs": [
    {
     "name": "stdout",
     "output_type": "stream",
     "text": [
      "Test Score: 0.25108 RMSE\n"
     ]
    }
   ],
   "source": [
    "testScore = sqrt(mean_squared_error(newtest_Y, newtestPredict))\n",
    "print('Test Score: %.5f RMSE' % (testScore))"
   ]
  },
  {
   "cell_type": "code",
   "execution_count": null,
   "metadata": {},
   "outputs": [],
   "source": []
  }
 ],
 "metadata": {
  "kernelspec": {
   "display_name": "Python 3",
   "language": "python",
   "name": "python3"
  },
  "language_info": {
   "codemirror_mode": {
    "name": "ipython",
    "version": 3
   },
   "file_extension": ".py",
   "mimetype": "text/x-python",
   "name": "python",
   "nbconvert_exporter": "python",
   "pygments_lexer": "ipython3",
   "version": "3.8.3"
  }
 },
 "nbformat": 4,
 "nbformat_minor": 4
}
