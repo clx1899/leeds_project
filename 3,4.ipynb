{
 "cells": [
  {
   "cell_type": "code",
   "execution_count": 1,
   "metadata": {},
   "outputs": [],
   "source": [
    "from test import EigenData\n",
    "import numpy as np\n",
    "import scipy.io\n",
    "import h5py\n",
    "from sklearn.preprocessing import MinMaxScaler\n",
    "from sklearn.metrics import mean_squared_error\n",
    "from math import sqrt\n",
    "import matplotlib.pyplot as plt\n",
    "from mpl_toolkits.axes_grid1 import make_axes_locatable\n",
    "import torch\n",
    "%matplotlib inline"
   ]
  },
  {
   "cell_type": "code",
   "execution_count": 2,
   "metadata": {},
   "outputs": [
    {
     "name": "stdout",
     "output_type": "stream",
     "text": [
      "b (5, 33600)\n",
      "(100, 5) (5, 33600)\n",
      "--> (100, 33600)\n",
      "c (5, 33600)\n",
      "(100, 5) (5, 33600)\n",
      "--> (100, 33600)\n",
      "d (5, 33600)\n",
      "(100, 5) (5, 33600)\n",
      "--> (100, 33600)\n",
      "e (5, 33600)\n",
      "(100, 5) (5, 33600)\n",
      "--> (100, 33600)\n",
      "f (5, 33600)\n",
      "(100, 5) (5, 33600)\n",
      "--> (100, 33600)\n",
      "g (6, 33600)\n",
      "(100, 6) (6, 33600)\n",
      "--> (100, 33600)\n",
      "h (5, 33600)\n",
      "(100, 5) (5, 33600)\n",
      "--> (100, 33600)\n",
      "i (6, 33600)\n",
      "(100, 6) (6, 33600)\n",
      "--> (100, 33600)\n",
      "j (5, 33600)\n",
      "(100, 5) (5, 33600)\n",
      "--> (100, 33600)\n",
      "k (5, 33600)\n",
      "(100, 5) (5, 33600)\n",
      "--> (100, 33600)\n",
      "l (5, 33600)\n",
      "(100, 5) (5, 33600)\n",
      "--> (100, 33600)\n",
      "m (5, 33600)\n",
      "(100, 5) (5, 33600)\n",
      "--> (100, 33600)\n",
      "(403200, 5)\n"
     ]
    }
   ],
   "source": [
    "data = EigenData()\n",
    "eigenworms = data.get_eigenworms('EigenWorms.mat')\n",
    "\n",
    "footage = data.get_footage('20150814-All-PNAS2011-DataStitched .mat')\n",
    "newdata = torch.rand(33600,5)\n",
    "for k in footage.keys():\n",
    "    print(k, footage[k].shape)\n",
    "    arr1=footage[k]\n",
    "\n",
    "    arr2=arr1[:5,]\n",
    "\n",
    "    r = data.reconstruct(footage[k])\n",
    "    print('-->', r.shape)\n",
    "    dataset1 = arr2.transpose()\n",
    "\n",
    "    newdata = np.concatenate((newdata,dataset1),axis=0)\n",
    "newdata = newdata[33600:,]\n",
    "print(newdata.shape)"
   ]
  },
  {
   "cell_type": "code",
   "execution_count": 3,
   "metadata": {},
   "outputs": [],
   "source": [
    "first_5_eigenworms = eigenworms[0:5,:]\n",
    "eig_worm_0 = eigenworms[0,:]\n",
    "eig_worm_1 = eigenworms[1,:]\n",
    "eig_worm_2 = eigenworms[2,:]\n",
    "eig_worm_3 = eigenworms[3,:]\n",
    "eig_worm_4 = eigenworms[4,:]"
   ]
  },
  {
   "cell_type": "code",
   "execution_count": 4,
   "metadata": {},
   "outputs": [
    {
     "name": "stdout",
     "output_type": "stream",
     "text": [
      "(386422, 5)\n",
      "386422\n"
     ]
    }
   ],
   "source": [
    "data1=newdata[~np.isnan(newdata).any(axis=1)]\n",
    "\n",
    "data1 = data1.astype('float32')\n",
    "print(data1.shape)\n",
    "print(len(data1))"
   ]
  },
  {
   "cell_type": "code",
   "execution_count": 5,
   "metadata": {},
   "outputs": [],
   "source": [
    "def create_dataset(data,n_predictions,n_next):\n",
    "    \n",
    "   \n",
    "    dim = data.shape[1]\n",
    "    train_X, train_Y = [], []\n",
    "    for i in range(data.shape[0]-n_predictions-n_next-1):\n",
    "        a = data[i:(i+n_predictions),:]\n",
    "        train_X.append(a)\n",
    "        tempb = data[(i+n_predictions):(i+n_predictions+n_next),:]\n",
    "        b = []\n",
    "        for j in range(len(tempb)):\n",
    "            for k in range(dim):\n",
    "                b.append(tempb[j,k])\n",
    "        train_Y.append(b)\n",
    "    train_X = np.array(train_X,dtype='float64')\n",
    "    train_Y = np.array(train_Y,dtype='float64')\n",
    "\n",
    "    return train_X, train_Y"
   ]
  },
  {
   "cell_type": "code",
   "execution_count": 6,
   "metadata": {},
   "outputs": [
    {
     "name": "stdout",
     "output_type": "stream",
     "text": [
      "(386414, 3, 5)\n",
      "(386414, 20)\n"
     ]
    }
   ],
   "source": [
    "X, Y = create_dataset(data1,3,4)\n",
    "print(X.shape)\n",
    "print(Y.shape)"
   ]
  },
  {
   "cell_type": "code",
   "execution_count": 7,
   "metadata": {},
   "outputs": [],
   "source": [
    "scaler = MinMaxScaler(feature_range=(0, 1))\n",
    "data1 = scaler.fit_transform(data1)\n",
    "Y = scaler.fit_transform(Y)"
   ]
  },
  {
   "cell_type": "code",
   "execution_count": 8,
   "metadata": {},
   "outputs": [
    {
     "name": "stdout",
     "output_type": "stream",
     "text": [
      "(386414, 3, 5)\n",
      "(386414, 20)\n"
     ]
    }
   ],
   "source": [
    "data_X, data_Y = create_dataset(data1,3,4)\n",
    "\n",
    "print(data_X.shape)\n",
    "print(data_Y.shape)"
   ]
  },
  {
   "cell_type": "code",
   "execution_count": 9,
   "metadata": {},
   "outputs": [
    {
     "name": "stdout",
     "output_type": "stream",
     "text": [
      "(309131, 3, 5)\n",
      "(309131, 20)\n",
      "(77283, 3, 5)\n",
      "(77283, 20)\n"
     ]
    }
   ],
   "source": [
    "train_size = int(len(data_X) * 0.8)\n",
    "test_size = len(data_X) - train_size\n",
    "train_X = data_X[:train_size]\n",
    "train_Y = Y[:train_size]\n",
    "test_X = data_X[train_size:]\n",
    "test_Y = Y[train_size:]\n",
    "\n",
    "print(train_X.shape)\n",
    "print(train_Y.shape)\n",
    "print(test_X.shape)\n",
    "print(test_Y.shape)"
   ]
  },
  {
   "cell_type": "code",
   "execution_count": 10,
   "metadata": {},
   "outputs": [
    {
     "name": "stdout",
     "output_type": "stream",
     "text": [
      "Epoch 1/100\n",
      "604/604 - 23s - loss: 0.0124 - root_mean_squared_error: 0.1114 - val_loss: 0.0039 - val_root_mean_squared_error: 0.0626\n",
      "Epoch 2/100\n",
      "604/604 - 17s - loss: 0.0050 - root_mean_squared_error: 0.0710 - val_loss: 0.0033 - val_root_mean_squared_error: 0.0571\n",
      "Epoch 3/100\n",
      "604/604 - 16s - loss: 0.0032 - root_mean_squared_error: 0.0568 - val_loss: 0.0018 - val_root_mean_squared_error: 0.0419\n",
      "Epoch 4/100\n",
      "604/604 - 16s - loss: 0.0020 - root_mean_squared_error: 0.0451 - val_loss: 7.4837e-04 - val_root_mean_squared_error: 0.0274\n",
      "Epoch 5/100\n",
      "604/604 - 16s - loss: 0.0016 - root_mean_squared_error: 0.0396 - val_loss: 7.1933e-04 - val_root_mean_squared_error: 0.0268\n",
      "Epoch 6/100\n",
      "604/604 - 16s - loss: 0.0013 - root_mean_squared_error: 0.0364 - val_loss: 6.4469e-04 - val_root_mean_squared_error: 0.0254\n",
      "Epoch 7/100\n",
      "604/604 - 16s - loss: 0.0012 - root_mean_squared_error: 0.0340 - val_loss: 5.9093e-04 - val_root_mean_squared_error: 0.0243\n",
      "Epoch 8/100\n",
      "604/604 - 16s - loss: 0.0010 - root_mean_squared_error: 0.0324 - val_loss: 5.2740e-04 - val_root_mean_squared_error: 0.0230\n",
      "Epoch 9/100\n",
      "604/604 - 16s - loss: 9.7696e-04 - root_mean_squared_error: 0.0313 - val_loss: 4.6784e-04 - val_root_mean_squared_error: 0.0216\n",
      "Epoch 10/100\n",
      "604/604 - 16s - loss: 9.3245e-04 - root_mean_squared_error: 0.0305 - val_loss: 5.9888e-04 - val_root_mean_squared_error: 0.0245\n",
      "Epoch 11/100\n",
      "604/604 - 16s - loss: 9.0386e-04 - root_mean_squared_error: 0.0301 - val_loss: 4.3775e-04 - val_root_mean_squared_error: 0.0209\n",
      "Epoch 12/100\n",
      "604/604 - 16s - loss: 8.8305e-04 - root_mean_squared_error: 0.0297 - val_loss: 4.3468e-04 - val_root_mean_squared_error: 0.0208\n",
      "Epoch 13/100\n",
      "604/604 - 16s - loss: 8.6700e-04 - root_mean_squared_error: 0.0294 - val_loss: 3.9537e-04 - val_root_mean_squared_error: 0.0199\n",
      "Epoch 14/100\n",
      "604/604 - 16s - loss: 8.5496e-04 - root_mean_squared_error: 0.0292 - val_loss: 4.1876e-04 - val_root_mean_squared_error: 0.0205\n",
      "Epoch 15/100\n",
      "604/604 - 16s - loss: 8.4346e-04 - root_mean_squared_error: 0.0290 - val_loss: 4.0800e-04 - val_root_mean_squared_error: 0.0202\n",
      "Epoch 16/100\n",
      "604/604 - 16s - loss: 8.3213e-04 - root_mean_squared_error: 0.0288 - val_loss: 3.9871e-04 - val_root_mean_squared_error: 0.0200\n",
      "Epoch 17/100\n",
      "604/604 - 16s - loss: 8.2058e-04 - root_mean_squared_error: 0.0286 - val_loss: 4.2549e-04 - val_root_mean_squared_error: 0.0206\n",
      "Epoch 18/100\n",
      "604/604 - 16s - loss: 8.0898e-04 - root_mean_squared_error: 0.0284 - val_loss: 4.3976e-04 - val_root_mean_squared_error: 0.0210\n",
      "Epoch 19/100\n",
      "604/604 - 16s - loss: 7.9984e-04 - root_mean_squared_error: 0.0283 - val_loss: 3.8117e-04 - val_root_mean_squared_error: 0.0195\n",
      "Epoch 20/100\n",
      "604/604 - 16s - loss: 7.9137e-04 - root_mean_squared_error: 0.0281 - val_loss: 3.9272e-04 - val_root_mean_squared_error: 0.0198\n",
      "Epoch 21/100\n",
      "604/604 - 16s - loss: 7.8099e-04 - root_mean_squared_error: 0.0279 - val_loss: 3.4811e-04 - val_root_mean_squared_error: 0.0187\n",
      "Epoch 22/100\n",
      "604/604 - 16s - loss: 7.7332e-04 - root_mean_squared_error: 0.0278 - val_loss: 3.6961e-04 - val_root_mean_squared_error: 0.0192\n",
      "Epoch 23/100\n",
      "604/604 - 16s - loss: 7.6398e-04 - root_mean_squared_error: 0.0276 - val_loss: 3.4429e-04 - val_root_mean_squared_error: 0.0186\n",
      "Epoch 24/100\n",
      "604/604 - 16s - loss: 7.5507e-04 - root_mean_squared_error: 0.0275 - val_loss: 3.4439e-04 - val_root_mean_squared_error: 0.0186\n",
      "Epoch 25/100\n",
      "604/604 - 16s - loss: 7.4803e-04 - root_mean_squared_error: 0.0274 - val_loss: 3.4076e-04 - val_root_mean_squared_error: 0.0185\n",
      "Epoch 26/100\n",
      "604/604 - 16s - loss: 7.3768e-04 - root_mean_squared_error: 0.0272 - val_loss: 3.4650e-04 - val_root_mean_squared_error: 0.0186\n",
      "Epoch 27/100\n",
      "604/604 - 16s - loss: 7.3088e-04 - root_mean_squared_error: 0.0270 - val_loss: 3.1939e-04 - val_root_mean_squared_error: 0.0179\n",
      "Epoch 28/100\n",
      "604/604 - 16s - loss: 7.2399e-04 - root_mean_squared_error: 0.0269 - val_loss: 3.4546e-04 - val_root_mean_squared_error: 0.0186\n",
      "Epoch 29/100\n",
      "604/604 - 16s - loss: 7.1762e-04 - root_mean_squared_error: 0.0268 - val_loss: 3.3523e-04 - val_root_mean_squared_error: 0.0183\n",
      "Epoch 30/100\n",
      "604/604 - 16s - loss: 7.1112e-04 - root_mean_squared_error: 0.0267 - val_loss: 3.0840e-04 - val_root_mean_squared_error: 0.0176\n",
      "Epoch 31/100\n",
      "604/604 - 16s - loss: 7.0572e-04 - root_mean_squared_error: 0.0266 - val_loss: 3.3989e-04 - val_root_mean_squared_error: 0.0184\n",
      "Epoch 32/100\n",
      "604/604 - 16s - loss: 6.9964e-04 - root_mean_squared_error: 0.0265 - val_loss: 3.6595e-04 - val_root_mean_squared_error: 0.0191\n",
      "Epoch 33/100\n",
      "604/604 - 16s - loss: 6.9468e-04 - root_mean_squared_error: 0.0264 - val_loss: 3.2500e-04 - val_root_mean_squared_error: 0.0180\n",
      "Epoch 34/100\n",
      "604/604 - 16s - loss: 6.9181e-04 - root_mean_squared_error: 0.0263 - val_loss: 3.2902e-04 - val_root_mean_squared_error: 0.0181\n",
      "Epoch 35/100\n",
      "604/604 - 16s - loss: 6.8424e-04 - root_mean_squared_error: 0.0262 - val_loss: 2.9118e-04 - val_root_mean_squared_error: 0.0171\n",
      "Epoch 36/100\n",
      "604/604 - 16s - loss: 6.7973e-04 - root_mean_squared_error: 0.0261 - val_loss: 3.0728e-04 - val_root_mean_squared_error: 0.0175\n",
      "Epoch 37/100\n",
      "604/604 - 16s - loss: 6.7506e-04 - root_mean_squared_error: 0.0260 - val_loss: 2.9263e-04 - val_root_mean_squared_error: 0.0171\n",
      "Epoch 38/100\n",
      "604/604 - 16s - loss: 6.7197e-04 - root_mean_squared_error: 0.0259 - val_loss: 3.2683e-04 - val_root_mean_squared_error: 0.0181\n",
      "Epoch 39/100\n",
      "604/604 - 16s - loss: 6.6814e-04 - root_mean_squared_error: 0.0258 - val_loss: 2.8447e-04 - val_root_mean_squared_error: 0.0169\n",
      "Epoch 40/100\n",
      "604/604 - 16s - loss: 6.6434e-04 - root_mean_squared_error: 0.0258 - val_loss: 3.2127e-04 - val_root_mean_squared_error: 0.0179\n",
      "Epoch 41/100\n",
      "604/604 - 16s - loss: 6.6110e-04 - root_mean_squared_error: 0.0257 - val_loss: 2.8598e-04 - val_root_mean_squared_error: 0.0169\n",
      "Epoch 42/100\n",
      "604/604 - 16s - loss: 6.5907e-04 - root_mean_squared_error: 0.0257 - val_loss: 2.8994e-04 - val_root_mean_squared_error: 0.0170\n",
      "Epoch 43/100\n",
      "604/604 - 16s - loss: 6.5386e-04 - root_mean_squared_error: 0.0256 - val_loss: 3.0355e-04 - val_root_mean_squared_error: 0.0174\n",
      "Epoch 44/100\n",
      "604/604 - 16s - loss: 6.5134e-04 - root_mean_squared_error: 0.0255 - val_loss: 2.9455e-04 - val_root_mean_squared_error: 0.0172\n",
      "Epoch 45/100\n",
      "604/604 - 16s - loss: 6.4859e-04 - root_mean_squared_error: 0.0255 - val_loss: 2.8519e-04 - val_root_mean_squared_error: 0.0169\n",
      "Epoch 46/100\n",
      "604/604 - 16s - loss: 6.4595e-04 - root_mean_squared_error: 0.0254 - val_loss: 2.9935e-04 - val_root_mean_squared_error: 0.0173\n",
      "Epoch 47/100\n",
      "604/604 - 16s - loss: 6.4369e-04 - root_mean_squared_error: 0.0254 - val_loss: 2.8910e-04 - val_root_mean_squared_error: 0.0170\n",
      "Epoch 48/100\n",
      "604/604 - 16s - loss: 6.4207e-04 - root_mean_squared_error: 0.0253 - val_loss: 2.8827e-04 - val_root_mean_squared_error: 0.0170\n",
      "Epoch 49/100\n",
      "604/604 - 16s - loss: 6.3831e-04 - root_mean_squared_error: 0.0253 - val_loss: 2.5619e-04 - val_root_mean_squared_error: 0.0160\n",
      "Epoch 50/100\n",
      "604/604 - 16s - loss: 6.3482e-04 - root_mean_squared_error: 0.0252 - val_loss: 2.8833e-04 - val_root_mean_squared_error: 0.0170\n",
      "Epoch 51/100\n",
      "604/604 - 16s - loss: 6.3220e-04 - root_mean_squared_error: 0.0251 - val_loss: 2.7394e-04 - val_root_mean_squared_error: 0.0166\n",
      "Epoch 52/100\n",
      "604/604 - 16s - loss: 6.2965e-04 - root_mean_squared_error: 0.0251 - val_loss: 2.7211e-04 - val_root_mean_squared_error: 0.0165\n",
      "Epoch 53/100\n",
      "604/604 - 16s - loss: 6.2813e-04 - root_mean_squared_error: 0.0251 - val_loss: 2.5510e-04 - val_root_mean_squared_error: 0.0160\n",
      "Epoch 54/100\n",
      "604/604 - 16s - loss: 6.2599e-04 - root_mean_squared_error: 0.0250 - val_loss: 2.4232e-04 - val_root_mean_squared_error: 0.0156\n",
      "Epoch 55/100\n",
      "604/604 - 16s - loss: 6.2332e-04 - root_mean_squared_error: 0.0250 - val_loss: 2.6512e-04 - val_root_mean_squared_error: 0.0163\n",
      "Epoch 56/100\n",
      "604/604 - 16s - loss: 6.2204e-04 - root_mean_squared_error: 0.0249 - val_loss: 2.6462e-04 - val_root_mean_squared_error: 0.0163\n",
      "Epoch 57/100\n",
      "604/604 - 16s - loss: 6.2066e-04 - root_mean_squared_error: 0.0249 - val_loss: 2.8781e-04 - val_root_mean_squared_error: 0.0170\n",
      "Epoch 58/100\n",
      "604/604 - 16s - loss: 6.1953e-04 - root_mean_squared_error: 0.0249 - val_loss: 2.5836e-04 - val_root_mean_squared_error: 0.0161\n",
      "Epoch 59/100\n",
      "604/604 - 16s - loss: 6.1704e-04 - root_mean_squared_error: 0.0248 - val_loss: 2.7117e-04 - val_root_mean_squared_error: 0.0165\n"
     ]
    },
    {
     "name": "stdout",
     "output_type": "stream",
     "text": [
      "Epoch 60/100\n",
      "604/604 - 16s - loss: 6.1348e-04 - root_mean_squared_error: 0.0248 - val_loss: 2.4320e-04 - val_root_mean_squared_error: 0.0156\n",
      "Epoch 61/100\n",
      "604/604 - 16s - loss: 6.1372e-04 - root_mean_squared_error: 0.0248 - val_loss: 2.3205e-04 - val_root_mean_squared_error: 0.0152\n",
      "Epoch 62/100\n",
      "604/604 - 16s - loss: 6.1140e-04 - root_mean_squared_error: 0.0247 - val_loss: 2.5561e-04 - val_root_mean_squared_error: 0.0160\n",
      "Epoch 63/100\n",
      "604/604 - 16s - loss: 6.0937e-04 - root_mean_squared_error: 0.0247 - val_loss: 2.3948e-04 - val_root_mean_squared_error: 0.0155\n",
      "Epoch 64/100\n",
      "604/604 - 16s - loss: 6.0754e-04 - root_mean_squared_error: 0.0246 - val_loss: 2.6659e-04 - val_root_mean_squared_error: 0.0163\n",
      "Epoch 65/100\n",
      "604/604 - 16s - loss: 6.0734e-04 - root_mean_squared_error: 0.0246 - val_loss: 2.4362e-04 - val_root_mean_squared_error: 0.0156\n",
      "Epoch 66/100\n",
      "604/604 - 16s - loss: 6.0323e-04 - root_mean_squared_error: 0.0246 - val_loss: 2.6054e-04 - val_root_mean_squared_error: 0.0161\n",
      "Epoch 67/100\n",
      "604/604 - 16s - loss: 6.0191e-04 - root_mean_squared_error: 0.0245 - val_loss: 2.3810e-04 - val_root_mean_squared_error: 0.0154\n",
      "Epoch 68/100\n",
      "604/604 - 16s - loss: 6.0065e-04 - root_mean_squared_error: 0.0245 - val_loss: 2.3396e-04 - val_root_mean_squared_error: 0.0153\n",
      "Epoch 69/100\n",
      "604/604 - 16s - loss: 5.9962e-04 - root_mean_squared_error: 0.0245 - val_loss: 2.4218e-04 - val_root_mean_squared_error: 0.0156\n",
      "Epoch 70/100\n",
      "604/604 - 16s - loss: 5.9937e-04 - root_mean_squared_error: 0.0245 - val_loss: 2.5105e-04 - val_root_mean_squared_error: 0.0158\n",
      "Epoch 71/100\n",
      "604/604 - 16s - loss: 5.9659e-04 - root_mean_squared_error: 0.0244 - val_loss: 2.3692e-04 - val_root_mean_squared_error: 0.0154\n",
      "Epoch 72/100\n",
      "604/604 - 16s - loss: 5.9565e-04 - root_mean_squared_error: 0.0244 - val_loss: 2.4305e-04 - val_root_mean_squared_error: 0.0156\n",
      "Epoch 73/100\n",
      "604/604 - 16s - loss: 5.9531e-04 - root_mean_squared_error: 0.0244 - val_loss: 2.4723e-04 - val_root_mean_squared_error: 0.0157\n",
      "Epoch 74/100\n",
      "604/604 - 16s - loss: 5.9218e-04 - root_mean_squared_error: 0.0243 - val_loss: 2.4202e-04 - val_root_mean_squared_error: 0.0156\n",
      "Epoch 75/100\n",
      "604/604 - 16s - loss: 5.9036e-04 - root_mean_squared_error: 0.0243 - val_loss: 2.5032e-04 - val_root_mean_squared_error: 0.0158\n",
      "Epoch 76/100\n",
      "604/604 - 16s - loss: 5.8961e-04 - root_mean_squared_error: 0.0243 - val_loss: 2.4166e-04 - val_root_mean_squared_error: 0.0155\n",
      "Epoch 77/100\n",
      "604/604 - 16s - loss: 5.8746e-04 - root_mean_squared_error: 0.0242 - val_loss: 2.3007e-04 - val_root_mean_squared_error: 0.0152\n",
      "Epoch 78/100\n",
      "604/604 - 16s - loss: 5.8643e-04 - root_mean_squared_error: 0.0242 - val_loss: 2.4743e-04 - val_root_mean_squared_error: 0.0157\n",
      "Epoch 79/100\n",
      "604/604 - 16s - loss: 5.8571e-04 - root_mean_squared_error: 0.0242 - val_loss: 2.2321e-04 - val_root_mean_squared_error: 0.0149\n",
      "Epoch 80/100\n",
      "604/604 - 16s - loss: 5.8422e-04 - root_mean_squared_error: 0.0242 - val_loss: 2.4599e-04 - val_root_mean_squared_error: 0.0157\n",
      "Epoch 81/100\n",
      "604/604 - 16s - loss: 5.8359e-04 - root_mean_squared_error: 0.0242 - val_loss: 2.2017e-04 - val_root_mean_squared_error: 0.0148\n",
      "Epoch 82/100\n",
      "604/604 - 16s - loss: 5.8220e-04 - root_mean_squared_error: 0.0241 - val_loss: 2.2714e-04 - val_root_mean_squared_error: 0.0151\n",
      "Epoch 83/100\n",
      "604/604 - 16s - loss: 5.8005e-04 - root_mean_squared_error: 0.0241 - val_loss: 2.2156e-04 - val_root_mean_squared_error: 0.0149\n",
      "Epoch 84/100\n",
      "604/604 - 16s - loss: 5.7943e-04 - root_mean_squared_error: 0.0241 - val_loss: 2.2602e-04 - val_root_mean_squared_error: 0.0150\n",
      "Epoch 85/100\n",
      "604/604 - 16s - loss: 5.7763e-04 - root_mean_squared_error: 0.0240 - val_loss: 2.2328e-04 - val_root_mean_squared_error: 0.0149\n",
      "Epoch 86/100\n",
      "604/604 - 16s - loss: 5.7563e-04 - root_mean_squared_error: 0.0240 - val_loss: 2.4688e-04 - val_root_mean_squared_error: 0.0157\n",
      "Epoch 87/100\n",
      "604/604 - 16s - loss: 5.7337e-04 - root_mean_squared_error: 0.0239 - val_loss: 2.3877e-04 - val_root_mean_squared_error: 0.0155\n",
      "Epoch 88/100\n",
      "604/604 - 16s - loss: 5.7259e-04 - root_mean_squared_error: 0.0239 - val_loss: 2.2488e-04 - val_root_mean_squared_error: 0.0150\n",
      "Epoch 89/100\n",
      "604/604 - 16s - loss: 5.7065e-04 - root_mean_squared_error: 0.0239 - val_loss: 2.3182e-04 - val_root_mean_squared_error: 0.0152\n",
      "Epoch 90/100\n",
      "604/604 - 16s - loss: 5.6752e-04 - root_mean_squared_error: 0.0238 - val_loss: 2.4873e-04 - val_root_mean_squared_error: 0.0158\n",
      "Epoch 91/100\n",
      "604/604 - 16s - loss: 5.6738e-04 - root_mean_squared_error: 0.0238 - val_loss: 2.1981e-04 - val_root_mean_squared_error: 0.0148\n",
      "Epoch 92/100\n",
      "604/604 - 16s - loss: 5.6718e-04 - root_mean_squared_error: 0.0238 - val_loss: 2.3005e-04 - val_root_mean_squared_error: 0.0152\n",
      "Epoch 93/100\n",
      "604/604 - 16s - loss: 5.6454e-04 - root_mean_squared_error: 0.0238 - val_loss: 2.4373e-04 - val_root_mean_squared_error: 0.0156\n",
      "Epoch 94/100\n",
      "604/604 - 16s - loss: 5.6197e-04 - root_mean_squared_error: 0.0237 - val_loss: 2.1934e-04 - val_root_mean_squared_error: 0.0148\n",
      "Epoch 95/100\n",
      "604/604 - 16s - loss: 5.6080e-04 - root_mean_squared_error: 0.0237 - val_loss: 2.2331e-04 - val_root_mean_squared_error: 0.0149\n",
      "Epoch 96/100\n",
      "604/604 - 16s - loss: 5.5857e-04 - root_mean_squared_error: 0.0236 - val_loss: 2.1291e-04 - val_root_mean_squared_error: 0.0146\n",
      "Epoch 97/100\n",
      "604/604 - 16s - loss: 5.5745e-04 - root_mean_squared_error: 0.0236 - val_loss: 2.1943e-04 - val_root_mean_squared_error: 0.0148\n",
      "Epoch 98/100\n",
      "604/604 - 16s - loss: 5.5501e-04 - root_mean_squared_error: 0.0236 - val_loss: 2.2435e-04 - val_root_mean_squared_error: 0.0150\n",
      "Epoch 99/100\n",
      "604/604 - 16s - loss: 5.5201e-04 - root_mean_squared_error: 0.0235 - val_loss: 2.2144e-04 - val_root_mean_squared_error: 0.0149\n",
      "Epoch 100/100\n",
      "604/604 - 16s - loss: 5.5206e-04 - root_mean_squared_error: 0.0235 - val_loss: 2.1967e-04 - val_root_mean_squared_error: 0.0148\n"
     ]
    }
   ],
   "source": [
    "import tensorflow as tf\n",
    "from tensorflow import keras\n",
    "from tensorflow.keras import layers\n",
    "from keras.layers import Input,LSTM,Dropout,Dense\n",
    "\n",
    "\n",
    "timesteps = 3\n",
    "# create and fit the LSTM network\n",
    "\n",
    "model = keras.Sequential()\n",
    "model.add(LSTM(100,input_shape=(timesteps,5),return_sequences=True))\n",
    "model.add(Dropout(0.2))\n",
    "model.add(LSTM(100,input_shape=(timesteps,5),return_sequences=True))\n",
    "model.add(Dropout(0.2))\n",
    "model.add(LSTM(100,input_shape=(timesteps,5),return_sequences=False))\n",
    "model.add(Dropout(0.2))\n",
    "model.add(Dense(20,activation='linear'))\n",
    "model.compile(optimizer='rmsprop',loss='mean_squared_error',metrics=[tf.keras.metrics.RootMeanSquaredError()])\n",
    "\n",
    "history = model.fit(train_X, train_Y, epochs=100, batch_size=512, verbose=2, validation_data=(test_X, test_Y))"
   ]
  },
  {
   "cell_type": "code",
   "execution_count": 11,
   "metadata": {},
   "outputs": [],
   "source": [
    "testPredict = model.predict(test_X)"
   ]
  },
  {
   "cell_type": "code",
   "execution_count": 12,
   "metadata": {},
   "outputs": [],
   "source": [
    "newtestPredict = scaler.inverse_transform(testPredict)\n",
    "newtest_Y = scaler.inverse_transform(test_Y)"
   ]
  },
  {
   "cell_type": "code",
   "execution_count": 13,
   "metadata": {},
   "outputs": [
    {
     "name": "stdout",
     "output_type": "stream",
     "text": [
      "Test Score: 0.43310 RMSE\n"
     ]
    }
   ],
   "source": [
    "testScore = sqrt(mean_squared_error(newtest_Y, newtestPredict))\n",
    "print('Test Score: %.5f RMSE' % (testScore))"
   ]
  },
  {
   "cell_type": "code",
   "execution_count": null,
   "metadata": {},
   "outputs": [],
   "source": []
  }
 ],
 "metadata": {
  "kernelspec": {
   "display_name": "Python 3",
   "language": "python",
   "name": "python3"
  },
  "language_info": {
   "codemirror_mode": {
    "name": "ipython",
    "version": 3
   },
   "file_extension": ".py",
   "mimetype": "text/x-python",
   "name": "python",
   "nbconvert_exporter": "python",
   "pygments_lexer": "ipython3",
   "version": "3.8.3"
  }
 },
 "nbformat": 4,
 "nbformat_minor": 4
}
