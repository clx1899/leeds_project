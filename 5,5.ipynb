{
 "cells": [
  {
   "cell_type": "code",
   "execution_count": 1,
   "metadata": {},
   "outputs": [],
   "source": [
    "from test import EigenData\n",
    "import numpy as np\n",
    "import scipy.io\n",
    "import h5py\n",
    "from sklearn.preprocessing import MinMaxScaler\n",
    "from sklearn.metrics import mean_squared_error\n",
    "from math import sqrt\n",
    "import matplotlib.pyplot as plt\n",
    "from mpl_toolkits.axes_grid1 import make_axes_locatable\n",
    "import torch\n",
    "%matplotlib inline"
   ]
  },
  {
   "cell_type": "code",
   "execution_count": 2,
   "metadata": {},
   "outputs": [
    {
     "name": "stdout",
     "output_type": "stream",
     "text": [
      "b (5, 33600)\n",
      "(100, 5) (5, 33600)\n",
      "--> (100, 33600)\n",
      "c (5, 33600)\n",
      "(100, 5) (5, 33600)\n",
      "--> (100, 33600)\n",
      "d (5, 33600)\n",
      "(100, 5) (5, 33600)\n",
      "--> (100, 33600)\n",
      "e (5, 33600)\n",
      "(100, 5) (5, 33600)\n",
      "--> (100, 33600)\n",
      "f (5, 33600)\n",
      "(100, 5) (5, 33600)\n",
      "--> (100, 33600)\n",
      "g (6, 33600)\n",
      "(100, 6) (6, 33600)\n",
      "--> (100, 33600)\n",
      "h (5, 33600)\n",
      "(100, 5) (5, 33600)\n",
      "--> (100, 33600)\n",
      "i (6, 33600)\n",
      "(100, 6) (6, 33600)\n",
      "--> (100, 33600)\n",
      "j (5, 33600)\n",
      "(100, 5) (5, 33600)\n",
      "--> (100, 33600)\n",
      "k (5, 33600)\n",
      "(100, 5) (5, 33600)\n",
      "--> (100, 33600)\n",
      "l (5, 33600)\n",
      "(100, 5) (5, 33600)\n",
      "--> (100, 33600)\n",
      "m (5, 33600)\n",
      "(100, 5) (5, 33600)\n",
      "--> (100, 33600)\n",
      "(403200, 5)\n"
     ]
    }
   ],
   "source": [
    "data = EigenData()\n",
    "eigenworms = data.get_eigenworms('EigenWorms.mat')\n",
    "\n",
    "footage = data.get_footage('20150814-All-PNAS2011-DataStitched .mat')\n",
    "newdata = torch.rand(33600,5)\n",
    "for k in footage.keys():\n",
    "    print(k, footage[k].shape)\n",
    "    arr1=footage[k]\n",
    "\n",
    "    arr2=arr1[:5,]\n",
    "\n",
    "    r = data.reconstruct(footage[k])\n",
    "    print('-->', r.shape)\n",
    "    dataset1 = arr2.transpose()\n",
    "\n",
    "    newdata = np.concatenate((newdata,dataset1),axis=0)\n",
    "newdata = newdata[33600:,]\n",
    "print(newdata.shape)"
   ]
  },
  {
   "cell_type": "code",
   "execution_count": 3,
   "metadata": {},
   "outputs": [
    {
     "name": "stdout",
     "output_type": "stream",
     "text": [
      "(386422, 5)\n",
      "386422\n"
     ]
    }
   ],
   "source": [
    "data1=newdata[~np.isnan(newdata).any(axis=1)]\n",
    "\n",
    "data1 = data1.astype('float32')\n",
    "print(data1.shape)\n",
    "print(len(data1))"
   ]
  },
  {
   "cell_type": "code",
   "execution_count": 4,
   "metadata": {},
   "outputs": [],
   "source": [
    "def create_dataset(data,n_predictions,n_next):\n",
    "    \n",
    "   \n",
    "    dim = data.shape[1]\n",
    "    train_X, train_Y = [], []\n",
    "    for i in range(data.shape[0]-n_predictions-n_next-1):\n",
    "        a = data[i:(i+n_predictions),:]\n",
    "        train_X.append(a)\n",
    "        tempb = data[(i+n_predictions):(i+n_predictions+n_next),:]\n",
    "        b = []\n",
    "        for j in range(len(tempb)):\n",
    "            for k in range(dim):\n",
    "                b.append(tempb[j,k])\n",
    "        train_Y.append(b)\n",
    "    train_X = np.array(train_X,dtype='float64')\n",
    "    train_Y = np.array(train_Y,dtype='float64')\n",
    "\n",
    "    return train_X, train_Y"
   ]
  },
  {
   "cell_type": "code",
   "execution_count": 5,
   "metadata": {},
   "outputs": [
    {
     "name": "stdout",
     "output_type": "stream",
     "text": [
      "(386411, 5, 5)\n",
      "(386411, 25)\n"
     ]
    }
   ],
   "source": [
    "X, Y = create_dataset(data1,5,5)\n",
    "\n",
    "print(X.shape)\n",
    "print(Y.shape)"
   ]
  },
  {
   "cell_type": "code",
   "execution_count": 6,
   "metadata": {},
   "outputs": [],
   "source": [
    "scaler = MinMaxScaler(feature_range=(0, 1))\n",
    "data1 = scaler.fit_transform(data1)\n",
    "Y = scaler.fit_transform(Y)"
   ]
  },
  {
   "cell_type": "code",
   "execution_count": 7,
   "metadata": {},
   "outputs": [
    {
     "name": "stdout",
     "output_type": "stream",
     "text": [
      "(386411, 5, 5)\n",
      "(386411, 25)\n"
     ]
    }
   ],
   "source": [
    "data_X, data_Y = create_dataset(data1,5,5)\n",
    "\n",
    "print(data_X.shape)\n",
    "print(data_Y.shape)"
   ]
  },
  {
   "cell_type": "code",
   "execution_count": 8,
   "metadata": {},
   "outputs": [
    {
     "name": "stdout",
     "output_type": "stream",
     "text": [
      "(309128, 5, 5)\n",
      "(309128, 25)\n",
      "(77283, 5, 5)\n",
      "(77283, 25)\n"
     ]
    }
   ],
   "source": [
    "train_size = int(len(data_X) * 0.8)\n",
    "test_size = len(data_X) - train_size\n",
    "train_X = data_X[:train_size]\n",
    "train_Y = Y[:train_size]\n",
    "test_X = data_X[train_size:]\n",
    "test_Y = Y[train_size:]\n",
    "\n",
    "print(train_X.shape)\n",
    "print(train_Y.shape)\n",
    "print(test_X.shape)\n",
    "print(test_Y.shape)"
   ]
  },
  {
   "cell_type": "code",
   "execution_count": 9,
   "metadata": {},
   "outputs": [
    {
     "name": "stdout",
     "output_type": "stream",
     "text": [
      "Epoch 1/100\n",
      "604/604 - 32s - loss: 0.0131 - root_mean_squared_error: 0.1144 - val_loss: 0.0047 - val_root_mean_squared_error: 0.0684\n",
      "Epoch 2/100\n",
      "604/604 - 29s - loss: 0.0050 - root_mean_squared_error: 0.0705 - val_loss: 0.0019 - val_root_mean_squared_error: 0.0434\n",
      "Epoch 3/100\n",
      "604/604 - 27s - loss: 0.0030 - root_mean_squared_error: 0.0545 - val_loss: 0.0013 - val_root_mean_squared_error: 0.0357\n",
      "Epoch 4/100\n",
      "604/604 - 27s - loss: 0.0022 - root_mean_squared_error: 0.0466 - val_loss: 0.0011 - val_root_mean_squared_error: 0.0330\n",
      "Epoch 5/100\n",
      "604/604 - 28s - loss: 0.0018 - root_mean_squared_error: 0.0420 - val_loss: 8.2619e-04 - val_root_mean_squared_error: 0.0287\n",
      "Epoch 6/100\n",
      "604/604 - 27s - loss: 0.0015 - root_mean_squared_error: 0.0390 - val_loss: 0.0010 - val_root_mean_squared_error: 0.0316\n",
      "Epoch 7/100\n",
      "604/604 - 28s - loss: 0.0013 - root_mean_squared_error: 0.0367 - val_loss: 6.7092e-04 - val_root_mean_squared_error: 0.0259\n",
      "Epoch 8/100\n",
      "604/604 - 30s - loss: 0.0012 - root_mean_squared_error: 0.0350 - val_loss: 6.3411e-04 - val_root_mean_squared_error: 0.0252\n",
      "Epoch 9/100\n",
      "604/604 - 28s - loss: 0.0011 - root_mean_squared_error: 0.0336 - val_loss: 6.0344e-04 - val_root_mean_squared_error: 0.0246\n",
      "Epoch 10/100\n",
      "604/604 - 30s - loss: 0.0011 - root_mean_squared_error: 0.0326 - val_loss: 5.3786e-04 - val_root_mean_squared_error: 0.0232\n",
      "Epoch 11/100\n",
      "604/604 - 29s - loss: 0.0010 - root_mean_squared_error: 0.0319 - val_loss: 5.6465e-04 - val_root_mean_squared_error: 0.0238\n",
      "Epoch 12/100\n",
      "604/604 - 29s - loss: 9.7869e-04 - root_mean_squared_error: 0.0313 - val_loss: 5.2397e-04 - val_root_mean_squared_error: 0.0229\n",
      "Epoch 13/100\n",
      "604/604 - 28s - loss: 9.4597e-04 - root_mean_squared_error: 0.0308 - val_loss: 4.6674e-04 - val_root_mean_squared_error: 0.0216\n",
      "Epoch 14/100\n",
      "604/604 - 28s - loss: 9.1876e-04 - root_mean_squared_error: 0.0303 - val_loss: 4.6414e-04 - val_root_mean_squared_error: 0.0215\n",
      "Epoch 15/100\n",
      "604/604 - 28s - loss: 8.9724e-04 - root_mean_squared_error: 0.0300 - val_loss: 4.8856e-04 - val_root_mean_squared_error: 0.0221\n",
      "Epoch 16/100\n",
      "604/604 - 27s - loss: 8.7538e-04 - root_mean_squared_error: 0.0296 - val_loss: 4.9067e-04 - val_root_mean_squared_error: 0.0222\n",
      "Epoch 17/100\n",
      "604/604 - 26s - loss: 8.6071e-04 - root_mean_squared_error: 0.0293 - val_loss: 4.7257e-04 - val_root_mean_squared_error: 0.0217\n",
      "Epoch 18/100\n",
      "604/604 - 28s - loss: 8.4523e-04 - root_mean_squared_error: 0.0291 - val_loss: 4.7944e-04 - val_root_mean_squared_error: 0.0219\n",
      "Epoch 19/100\n",
      "604/604 - 29s - loss: 8.3092e-04 - root_mean_squared_error: 0.0288 - val_loss: 4.4867e-04 - val_root_mean_squared_error: 0.0212\n",
      "Epoch 20/100\n",
      "604/604 - 29s - loss: 8.1702e-04 - root_mean_squared_error: 0.0286 - val_loss: 4.0875e-04 - val_root_mean_squared_error: 0.0202\n",
      "Epoch 21/100\n",
      "604/604 - 30s - loss: 8.0830e-04 - root_mean_squared_error: 0.0284 - val_loss: 3.9428e-04 - val_root_mean_squared_error: 0.0199\n",
      "Epoch 22/100\n",
      "604/604 - 29s - loss: 7.9852e-04 - root_mean_squared_error: 0.0283 - val_loss: 4.0621e-04 - val_root_mean_squared_error: 0.0202\n",
      "Epoch 23/100\n",
      "604/604 - 28s - loss: 7.8904e-04 - root_mean_squared_error: 0.0281 - val_loss: 3.8763e-04 - val_root_mean_squared_error: 0.0197\n",
      "Epoch 24/100\n",
      "604/604 - 26s - loss: 7.8095e-04 - root_mean_squared_error: 0.0279 - val_loss: 3.7637e-04 - val_root_mean_squared_error: 0.0194\n",
      "Epoch 25/100\n",
      "604/604 - 26s - loss: 7.7318e-04 - root_mean_squared_error: 0.0278 - val_loss: 3.5175e-04 - val_root_mean_squared_error: 0.0188\n",
      "Epoch 26/100\n",
      "604/604 - 26s - loss: 7.6695e-04 - root_mean_squared_error: 0.0277 - val_loss: 3.8002e-04 - val_root_mean_squared_error: 0.0195\n",
      "Epoch 27/100\n",
      "604/604 - 26s - loss: 7.5999e-04 - root_mean_squared_error: 0.0276 - val_loss: 3.8798e-04 - val_root_mean_squared_error: 0.0197\n",
      "Epoch 28/100\n",
      "604/604 - 26s - loss: 7.5428e-04 - root_mean_squared_error: 0.0275 - val_loss: 4.0378e-04 - val_root_mean_squared_error: 0.0201\n",
      "Epoch 29/100\n",
      "604/604 - 26s - loss: 7.4831e-04 - root_mean_squared_error: 0.0274 - val_loss: 3.5598e-04 - val_root_mean_squared_error: 0.0189\n",
      "Epoch 30/100\n",
      "604/604 - 26s - loss: 7.4412e-04 - root_mean_squared_error: 0.0273 - val_loss: 4.0219e-04 - val_root_mean_squared_error: 0.0201\n",
      "Epoch 31/100\n",
      "604/604 - 26s - loss: 7.3932e-04 - root_mean_squared_error: 0.0272 - val_loss: 3.4852e-04 - val_root_mean_squared_error: 0.0187\n",
      "Epoch 32/100\n",
      "604/604 - 26s - loss: 7.3442e-04 - root_mean_squared_error: 0.0271 - val_loss: 3.6442e-04 - val_root_mean_squared_error: 0.0191\n",
      "Epoch 33/100\n",
      "604/604 - 26s - loss: 7.3020e-04 - root_mean_squared_error: 0.0270 - val_loss: 4.0030e-04 - val_root_mean_squared_error: 0.0200\n",
      "Epoch 34/100\n",
      "604/604 - 28s - loss: 7.2454e-04 - root_mean_squared_error: 0.0269 - val_loss: 3.4804e-04 - val_root_mean_squared_error: 0.0187\n",
      "Epoch 35/100\n",
      "604/604 - 27s - loss: 7.2252e-04 - root_mean_squared_error: 0.0269 - val_loss: 3.4927e-04 - val_root_mean_squared_error: 0.0187\n",
      "Epoch 36/100\n",
      "604/604 - 26s - loss: 7.1772e-04 - root_mean_squared_error: 0.0268 - val_loss: 3.4365e-04 - val_root_mean_squared_error: 0.0185\n",
      "Epoch 37/100\n",
      "604/604 - 26s - loss: 7.1549e-04 - root_mean_squared_error: 0.0267 - val_loss: 3.3407e-04 - val_root_mean_squared_error: 0.0183\n",
      "Epoch 38/100\n",
      "604/604 - 28s - loss: 7.1170e-04 - root_mean_squared_error: 0.0267 - val_loss: 3.5753e-04 - val_root_mean_squared_error: 0.0189\n",
      "Epoch 39/100\n",
      "604/604 - 28s - loss: 7.0806e-04 - root_mean_squared_error: 0.0266 - val_loss: 3.2490e-04 - val_root_mean_squared_error: 0.0180\n",
      "Epoch 40/100\n",
      "604/604 - 29s - loss: 7.0521e-04 - root_mean_squared_error: 0.0266 - val_loss: 3.2865e-04 - val_root_mean_squared_error: 0.0181\n",
      "Epoch 41/100\n",
      "604/604 - 28s - loss: 7.0064e-04 - root_mean_squared_error: 0.0265 - val_loss: 3.5320e-04 - val_root_mean_squared_error: 0.0188\n",
      "Epoch 42/100\n",
      "604/604 - 30s - loss: 6.9936e-04 - root_mean_squared_error: 0.0264 - val_loss: 3.3197e-04 - val_root_mean_squared_error: 0.0182\n",
      "Epoch 43/100\n",
      "604/604 - 29s - loss: 6.9542e-04 - root_mean_squared_error: 0.0264 - val_loss: 3.3876e-04 - val_root_mean_squared_error: 0.0184\n",
      "Epoch 44/100\n",
      "604/604 - 28s - loss: 6.9439e-04 - root_mean_squared_error: 0.0264 - val_loss: 3.2648e-04 - val_root_mean_squared_error: 0.0181\n",
      "Epoch 45/100\n",
      "604/604 - 26s - loss: 6.9150e-04 - root_mean_squared_error: 0.0263 - val_loss: 3.3713e-04 - val_root_mean_squared_error: 0.0184\n",
      "Epoch 46/100\n",
      "604/604 - 27s - loss: 6.8720e-04 - root_mean_squared_error: 0.0262 - val_loss: 3.2251e-04 - val_root_mean_squared_error: 0.0180\n",
      "Epoch 47/100\n",
      "604/604 - 27s - loss: 6.8643e-04 - root_mean_squared_error: 0.0262 - val_loss: 3.4625e-04 - val_root_mean_squared_error: 0.0186\n",
      "Epoch 48/100\n",
      "604/604 - 26s - loss: 6.8491e-04 - root_mean_squared_error: 0.0262 - val_loss: 3.1946e-04 - val_root_mean_squared_error: 0.0179\n",
      "Epoch 49/100\n",
      "604/604 - 26s - loss: 6.7999e-04 - root_mean_squared_error: 0.0261 - val_loss: 3.2717e-04 - val_root_mean_squared_error: 0.0181\n",
      "Epoch 50/100\n",
      "604/604 - 27s - loss: 6.7920e-04 - root_mean_squared_error: 0.0261 - val_loss: 3.3228e-04 - val_root_mean_squared_error: 0.0182\n",
      "Epoch 51/100\n",
      "604/604 - 26s - loss: 6.7585e-04 - root_mean_squared_error: 0.0260 - val_loss: 3.3012e-04 - val_root_mean_squared_error: 0.0182\n",
      "Epoch 52/100\n",
      "604/604 - 26s - loss: 6.7604e-04 - root_mean_squared_error: 0.0260 - val_loss: 2.9239e-04 - val_root_mean_squared_error: 0.0171\n",
      "Epoch 53/100\n",
      "604/604 - 27s - loss: 6.7383e-04 - root_mean_squared_error: 0.0260 - val_loss: 3.3497e-04 - val_root_mean_squared_error: 0.0183\n",
      "Epoch 54/100\n",
      "604/604 - 27s - loss: 6.7022e-04 - root_mean_squared_error: 0.0259 - val_loss: 3.1096e-04 - val_root_mean_squared_error: 0.0176\n",
      "Epoch 55/100\n",
      "604/604 - 27s - loss: 6.6967e-04 - root_mean_squared_error: 0.0259 - val_loss: 3.3982e-04 - val_root_mean_squared_error: 0.0184\n",
      "Epoch 56/100\n",
      "604/604 - 28s - loss: 6.6781e-04 - root_mean_squared_error: 0.0258 - val_loss: 3.3176e-04 - val_root_mean_squared_error: 0.0182\n",
      "Epoch 57/100\n",
      "604/604 - 27s - loss: 6.6526e-04 - root_mean_squared_error: 0.0258 - val_loss: 3.2016e-04 - val_root_mean_squared_error: 0.0179\n",
      "Epoch 58/100\n",
      "604/604 - 26s - loss: 6.6544e-04 - root_mean_squared_error: 0.0258 - val_loss: 3.1032e-04 - val_root_mean_squared_error: 0.0176\n",
      "Epoch 59/100\n",
      "604/604 - 26s - loss: 6.6251e-04 - root_mean_squared_error: 0.0257 - val_loss: 3.2245e-04 - val_root_mean_squared_error: 0.0180\n"
     ]
    },
    {
     "name": "stdout",
     "output_type": "stream",
     "text": [
      "Epoch 60/100\n",
      "604/604 - 26s - loss: 6.6039e-04 - root_mean_squared_error: 0.0257 - val_loss: 3.5254e-04 - val_root_mean_squared_error: 0.0188\n",
      "Epoch 61/100\n",
      "604/604 - 27s - loss: 6.5933e-04 - root_mean_squared_error: 0.0257 - val_loss: 3.2287e-04 - val_root_mean_squared_error: 0.0180\n",
      "Epoch 62/100\n",
      "604/604 - 28s - loss: 6.5663e-04 - root_mean_squared_error: 0.0256 - val_loss: 3.3721e-04 - val_root_mean_squared_error: 0.0184\n",
      "Epoch 63/100\n",
      "604/604 - 26s - loss: 6.5492e-04 - root_mean_squared_error: 0.0256 - val_loss: 3.0230e-04 - val_root_mean_squared_error: 0.0174\n",
      "Epoch 64/100\n",
      "604/604 - 27s - loss: 6.5447e-04 - root_mean_squared_error: 0.0256 - val_loss: 3.0453e-04 - val_root_mean_squared_error: 0.0175\n",
      "Epoch 65/100\n",
      "604/604 - 27s - loss: 6.5278e-04 - root_mean_squared_error: 0.0255 - val_loss: 3.2400e-04 - val_root_mean_squared_error: 0.0180\n",
      "Epoch 66/100\n",
      "604/604 - 27s - loss: 6.4938e-04 - root_mean_squared_error: 0.0255 - val_loss: 3.0848e-04 - val_root_mean_squared_error: 0.0176\n",
      "Epoch 67/100\n",
      "604/604 - 27s - loss: 6.4891e-04 - root_mean_squared_error: 0.0255 - val_loss: 3.2504e-04 - val_root_mean_squared_error: 0.0180\n",
      "Epoch 68/100\n",
      "604/604 - 27s - loss: 6.4829e-04 - root_mean_squared_error: 0.0255 - val_loss: 3.3322e-04 - val_root_mean_squared_error: 0.0183\n",
      "Epoch 69/100\n",
      "604/604 - 27s - loss: 6.4719e-04 - root_mean_squared_error: 0.0254 - val_loss: 3.0033e-04 - val_root_mean_squared_error: 0.0173\n",
      "Epoch 70/100\n",
      "604/604 - 27s - loss: 6.4610e-04 - root_mean_squared_error: 0.0254 - val_loss: 3.0705e-04 - val_root_mean_squared_error: 0.0175\n",
      "Epoch 71/100\n",
      "604/604 - 28s - loss: 6.4422e-04 - root_mean_squared_error: 0.0254 - val_loss: 3.0854e-04 - val_root_mean_squared_error: 0.0176\n",
      "Epoch 72/100\n",
      "604/604 - 27s - loss: 6.4421e-04 - root_mean_squared_error: 0.0254 - val_loss: 3.0469e-04 - val_root_mean_squared_error: 0.0175\n",
      "Epoch 73/100\n",
      "604/604 - 27s - loss: 6.4215e-04 - root_mean_squared_error: 0.0253 - val_loss: 2.9526e-04 - val_root_mean_squared_error: 0.0172\n",
      "Epoch 74/100\n",
      "604/604 - 26s - loss: 6.4000e-04 - root_mean_squared_error: 0.0253 - val_loss: 3.2067e-04 - val_root_mean_squared_error: 0.0179\n",
      "Epoch 75/100\n",
      "604/604 - 26s - loss: 6.4078e-04 - root_mean_squared_error: 0.0253 - val_loss: 3.0264e-04 - val_root_mean_squared_error: 0.0174\n",
      "Epoch 76/100\n",
      "604/604 - 26s - loss: 6.3887e-04 - root_mean_squared_error: 0.0253 - val_loss: 3.0035e-04 - val_root_mean_squared_error: 0.0173\n",
      "Epoch 77/100\n",
      "604/604 - 30s - loss: 6.3774e-04 - root_mean_squared_error: 0.0253 - val_loss: 2.9554e-04 - val_root_mean_squared_error: 0.0172\n",
      "Epoch 78/100\n",
      "604/604 - 26s - loss: 6.3618e-04 - root_mean_squared_error: 0.0252 - val_loss: 2.8625e-04 - val_root_mean_squared_error: 0.0169\n",
      "Epoch 79/100\n",
      "604/604 - 28s - loss: 6.3645e-04 - root_mean_squared_error: 0.0252 - val_loss: 3.0018e-04 - val_root_mean_squared_error: 0.0173\n",
      "Epoch 80/100\n",
      "604/604 - 27s - loss: 6.3380e-04 - root_mean_squared_error: 0.0252 - val_loss: 2.9373e-04 - val_root_mean_squared_error: 0.0171\n",
      "Epoch 81/100\n",
      "604/604 - 27s - loss: 6.3370e-04 - root_mean_squared_error: 0.0252 - val_loss: 2.8163e-04 - val_root_mean_squared_error: 0.0168\n",
      "Epoch 82/100\n",
      "604/604 - 26s - loss: 6.3067e-04 - root_mean_squared_error: 0.0251 - val_loss: 3.2277e-04 - val_root_mean_squared_error: 0.0180\n",
      "Epoch 83/100\n",
      "604/604 - 27s - loss: 6.3090e-04 - root_mean_squared_error: 0.0251 - val_loss: 3.0183e-04 - val_root_mean_squared_error: 0.0174\n",
      "Epoch 84/100\n",
      "604/604 - 27s - loss: 6.2948e-04 - root_mean_squared_error: 0.0251 - val_loss: 2.8993e-04 - val_root_mean_squared_error: 0.0170\n",
      "Epoch 85/100\n",
      "604/604 - 26s - loss: 6.3029e-04 - root_mean_squared_error: 0.0251 - val_loss: 3.1679e-04 - val_root_mean_squared_error: 0.0178\n",
      "Epoch 86/100\n",
      "604/604 - 26s - loss: 6.2890e-04 - root_mean_squared_error: 0.0251 - val_loss: 3.2224e-04 - val_root_mean_squared_error: 0.0180\n",
      "Epoch 87/100\n",
      "604/604 - 26s - loss: 6.2653e-04 - root_mean_squared_error: 0.0250 - val_loss: 2.9975e-04 - val_root_mean_squared_error: 0.0173\n",
      "Epoch 88/100\n",
      "604/604 - 26s - loss: 6.2699e-04 - root_mean_squared_error: 0.0250 - val_loss: 2.9147e-04 - val_root_mean_squared_error: 0.0171\n",
      "Epoch 89/100\n",
      "604/604 - 26s - loss: 6.2632e-04 - root_mean_squared_error: 0.0250 - val_loss: 3.0502e-04 - val_root_mean_squared_error: 0.0175\n",
      "Epoch 90/100\n",
      "604/604 - 26s - loss: 6.2453e-04 - root_mean_squared_error: 0.0250 - val_loss: 3.0320e-04 - val_root_mean_squared_error: 0.0174\n",
      "Epoch 91/100\n",
      "604/604 - 26s - loss: 6.2363e-04 - root_mean_squared_error: 0.0250 - val_loss: 2.9236e-04 - val_root_mean_squared_error: 0.0171\n",
      "Epoch 92/100\n",
      "604/604 - 26s - loss: 6.2336e-04 - root_mean_squared_error: 0.0250 - val_loss: 3.1636e-04 - val_root_mean_squared_error: 0.0178\n",
      "Epoch 93/100\n",
      "604/604 - 26s - loss: 6.2341e-04 - root_mean_squared_error: 0.0250 - val_loss: 2.8007e-04 - val_root_mean_squared_error: 0.0167\n",
      "Epoch 94/100\n",
      "604/604 - 26s - loss: 6.2129e-04 - root_mean_squared_error: 0.0249 - val_loss: 2.8450e-04 - val_root_mean_squared_error: 0.0169\n",
      "Epoch 95/100\n",
      "604/604 - 26s - loss: 6.2145e-04 - root_mean_squared_error: 0.0249 - val_loss: 2.7957e-04 - val_root_mean_squared_error: 0.0167\n",
      "Epoch 96/100\n",
      "604/604 - 26s - loss: 6.1916e-04 - root_mean_squared_error: 0.0249 - val_loss: 2.8442e-04 - val_root_mean_squared_error: 0.0169\n",
      "Epoch 97/100\n",
      "604/604 - 26s - loss: 6.1921e-04 - root_mean_squared_error: 0.0249 - val_loss: 2.7814e-04 - val_root_mean_squared_error: 0.0167\n",
      "Epoch 98/100\n",
      "604/604 - 26s - loss: 6.1782e-04 - root_mean_squared_error: 0.0249 - val_loss: 2.7907e-04 - val_root_mean_squared_error: 0.0167\n",
      "Epoch 99/100\n",
      "604/604 - 26s - loss: 6.1692e-04 - root_mean_squared_error: 0.0248 - val_loss: 2.7821e-04 - val_root_mean_squared_error: 0.0167\n",
      "Epoch 100/100\n",
      "604/604 - 26s - loss: 6.1586e-04 - root_mean_squared_error: 0.0248 - val_loss: 2.7673e-04 - val_root_mean_squared_error: 0.0166\n"
     ]
    }
   ],
   "source": [
    "import tensorflow as tf\n",
    "from tensorflow import keras\n",
    "from tensorflow.keras import layers\n",
    "from keras.layers import Input,LSTM,Dropout,Dense\n",
    "\n",
    "\n",
    "timesteps = 5\n",
    "# create and fit the LSTM network\n",
    "\n",
    "model = keras.Sequential()\n",
    "model.add(LSTM(100,input_shape=(timesteps,5),return_sequences=True))\n",
    "model.add(Dropout(0.2))\n",
    "model.add(LSTM(100,input_shape=(timesteps,5),return_sequences=True))\n",
    "model.add(Dropout(0.2))\n",
    "model.add(LSTM(100,input_shape=(timesteps,5),return_sequences=False))\n",
    "model.add(Dropout(0.2))\n",
    "model.add(Dense(25,activation='linear'))\n",
    "model.compile(optimizer='rmsprop',loss='mean_squared_error',metrics=[tf.keras.metrics.RootMeanSquaredError()])\n",
    "\n",
    "history = model.fit(train_X, train_Y, epochs=100, batch_size=512, verbose=2, validation_data=(test_X, test_Y))"
   ]
  },
  {
   "cell_type": "code",
   "execution_count": 10,
   "metadata": {},
   "outputs": [],
   "source": [
    "testPredict = model.predict(test_X)"
   ]
  },
  {
   "cell_type": "code",
   "execution_count": 11,
   "metadata": {},
   "outputs": [],
   "source": [
    "newtestPredict = scaler.inverse_transform(testPredict)\n",
    "newtest_Y = scaler.inverse_transform(test_Y)"
   ]
  },
  {
   "cell_type": "code",
   "execution_count": 12,
   "metadata": {},
   "outputs": [
    {
     "name": "stdout",
     "output_type": "stream",
     "text": [
      "Test Score: 0.45812 RMSE\n"
     ]
    }
   ],
   "source": [
    "testScore = sqrt(mean_squared_error(newtest_Y, newtestPredict))\n",
    "print('Test Score: %.5f RMSE' % (testScore))"
   ]
  },
  {
   "cell_type": "code",
   "execution_count": null,
   "metadata": {},
   "outputs": [],
   "source": []
  }
 ],
 "metadata": {
  "kernelspec": {
   "display_name": "Python 3",
   "language": "python",
   "name": "python3"
  },
  "language_info": {
   "codemirror_mode": {
    "name": "ipython",
    "version": 3
   },
   "file_extension": ".py",
   "mimetype": "text/x-python",
   "name": "python",
   "nbconvert_exporter": "python",
   "pygments_lexer": "ipython3",
   "version": "3.8.3"
  }
 },
 "nbformat": 4,
 "nbformat_minor": 4
}
