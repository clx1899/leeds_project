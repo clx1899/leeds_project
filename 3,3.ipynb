{
 "cells": [
  {
   "cell_type": "code",
   "execution_count": 20,
   "metadata": {},
   "outputs": [],
   "source": [
    "from test import EigenData\n",
    "import numpy as np\n",
    "import scipy.io\n",
    "import h5py\n",
    "from sklearn.preprocessing import MinMaxScaler\n",
    "from sklearn.metrics import mean_squared_error\n",
    "from math import sqrt\n",
    "import matplotlib.pyplot as plt\n",
    "from mpl_toolkits.axes_grid1 import make_axes_locatable\n",
    "import torch\n",
    "%matplotlib inline"
   ]
  },
  {
   "cell_type": "code",
   "execution_count": 21,
   "metadata": {},
   "outputs": [
    {
     "name": "stdout",
     "output_type": "stream",
     "text": [
      "b (5, 33600)\n",
      "(100, 5) (5, 33600)\n",
      "--> (100, 33600)\n",
      "c (5, 33600)\n",
      "(100, 5) (5, 33600)\n",
      "--> (100, 33600)\n",
      "d (5, 33600)\n",
      "(100, 5) (5, 33600)\n",
      "--> (100, 33600)\n",
      "e (5, 33600)\n",
      "(100, 5) (5, 33600)\n",
      "--> (100, 33600)\n",
      "f (5, 33600)\n",
      "(100, 5) (5, 33600)\n",
      "--> (100, 33600)\n",
      "g (6, 33600)\n",
      "(100, 6) (6, 33600)\n",
      "--> (100, 33600)\n",
      "h (5, 33600)\n",
      "(100, 5) (5, 33600)\n",
      "--> (100, 33600)\n",
      "i (6, 33600)\n",
      "(100, 6) (6, 33600)\n",
      "--> (100, 33600)\n",
      "j (5, 33600)\n",
      "(100, 5) (5, 33600)\n",
      "--> (100, 33600)\n",
      "k (5, 33600)\n",
      "(100, 5) (5, 33600)\n",
      "--> (100, 33600)\n",
      "l (5, 33600)\n",
      "(100, 5) (5, 33600)\n",
      "--> (100, 33600)\n",
      "m (5, 33600)\n",
      "(100, 5) (5, 33600)\n",
      "--> (100, 33600)\n",
      "(403200, 5)\n"
     ]
    }
   ],
   "source": [
    "data = EigenData()\n",
    "eigenworms = data.get_eigenworms('EigenWorms.mat')\n",
    "\n",
    "footage = data.get_footage('20150814-All-PNAS2011-DataStitched .mat')\n",
    "newdata = torch.rand(33600,5)\n",
    "for k in footage.keys():\n",
    "    print(k, footage[k].shape)\n",
    "    arr1=footage[k]\n",
    "\n",
    "    arr2=arr1[:5,]\n",
    "\n",
    "    r = data.reconstruct(footage[k])\n",
    "    print('-->', r.shape)\n",
    "    dataset1 = arr2.transpose()\n",
    "\n",
    "    newdata = np.concatenate((newdata,dataset1),axis=0)\n",
    "newdata = newdata[33600:,]\n",
    "print(newdata.shape)"
   ]
  },
  {
   "cell_type": "code",
   "execution_count": 22,
   "metadata": {},
   "outputs": [],
   "source": [
    "first_5_eigenworms = eigenworms[0:5,:]\n",
    "eig_worm_0 = eigenworms[0,:]\n",
    "eig_worm_1 = eigenworms[1,:]\n",
    "eig_worm_2 = eigenworms[2,:]\n",
    "eig_worm_3 = eigenworms[3,:]\n",
    "eig_worm_4 = eigenworms[4,:]"
   ]
  },
  {
   "cell_type": "code",
   "execution_count": 23,
   "metadata": {},
   "outputs": [
    {
     "name": "stdout",
     "output_type": "stream",
     "text": [
      "(386422, 5)\n",
      "386422\n"
     ]
    }
   ],
   "source": [
    "data1=newdata[~np.isnan(newdata).any(axis=1)]\n",
    "\n",
    "data1 = data1.astype('float32')\n",
    "print(data1.shape)\n",
    "print(len(data1))"
   ]
  },
  {
   "cell_type": "code",
   "execution_count": 24,
   "metadata": {},
   "outputs": [],
   "source": [
    "def create_dataset(data,n_predictions,n_next):\n",
    "    \n",
    "   \n",
    "    dim = data.shape[1]\n",
    "    train_X, train_Y = [], []\n",
    "    for i in range(data.shape[0]-n_predictions-n_next-1):\n",
    "        a = data[i:(i+n_predictions),:]\n",
    "        train_X.append(a)\n",
    "        tempb = data[(i+n_predictions):(i+n_predictions+n_next),:]\n",
    "        b = []\n",
    "        for j in range(len(tempb)):\n",
    "            for k in range(dim):\n",
    "                b.append(tempb[j,k])\n",
    "        train_Y.append(b)\n",
    "    train_X = np.array(train_X,dtype='float64')\n",
    "    train_Y = np.array(train_Y,dtype='float64')\n",
    "\n",
    "    return train_X, train_Y"
   ]
  },
  {
   "cell_type": "code",
   "execution_count": 25,
   "metadata": {},
   "outputs": [
    {
     "name": "stdout",
     "output_type": "stream",
     "text": [
      "(386415, 3, 5)\n",
      "(386415, 15)\n"
     ]
    }
   ],
   "source": [
    "X, Y = create_dataset(data1,3,3)\n",
    "print(X.shape)\n",
    "print(Y.shape)"
   ]
  },
  {
   "cell_type": "code",
   "execution_count": 26,
   "metadata": {},
   "outputs": [],
   "source": [
    "scaler = MinMaxScaler(feature_range=(0, 1))\n",
    "data1 = scaler.fit_transform(data1)\n",
    "Y = scaler.fit_transform(Y)"
   ]
  },
  {
   "cell_type": "code",
   "execution_count": 27,
   "metadata": {},
   "outputs": [
    {
     "name": "stdout",
     "output_type": "stream",
     "text": [
      "(386415, 3, 5)\n",
      "(386415, 15)\n"
     ]
    }
   ],
   "source": [
    "data_X, data_Y = create_dataset(data1,3,3)\n",
    "\n",
    "print(data_X.shape)\n",
    "print(data_Y.shape)"
   ]
  },
  {
   "cell_type": "code",
   "execution_count": 29,
   "metadata": {},
   "outputs": [
    {
     "name": "stdout",
     "output_type": "stream",
     "text": [
      "(309132, 3, 5)\n",
      "(309132, 15)\n",
      "(77283, 3, 5)\n",
      "(77283, 15)\n"
     ]
    }
   ],
   "source": [
    "train_size = int(len(data_X) * 0.8)\n",
    "test_size = len(data_X) - train_size\n",
    "train_X = data_X[:train_size]\n",
    "train_Y = Y[:train_size]\n",
    "test_X = data_X[train_size:]\n",
    "test_Y = Y[train_size:]\n",
    "\n",
    "print(train_X.shape)\n",
    "print(train_Y.shape)\n",
    "print(test_X.shape)\n",
    "print(test_Y.shape)"
   ]
  },
  {
   "cell_type": "code",
   "execution_count": 30,
   "metadata": {},
   "outputs": [
    {
     "name": "stdout",
     "output_type": "stream",
     "text": [
      "Epoch 1/100\n",
      "604/604 - 21s - loss: 0.0118 - root_mean_squared_error: 0.1088 - val_loss: 0.0029 - val_root_mean_squared_error: 0.0540\n",
      "Epoch 2/100\n",
      "604/604 - 16s - loss: 0.0045 - root_mean_squared_error: 0.0671 - val_loss: 0.0020 - val_root_mean_squared_error: 0.0452\n",
      "Epoch 3/100\n",
      "604/604 - 17s - loss: 0.0029 - root_mean_squared_error: 0.0534 - val_loss: 0.0020 - val_root_mean_squared_error: 0.0444\n",
      "Epoch 4/100\n",
      "604/604 - 17s - loss: 0.0018 - root_mean_squared_error: 0.0423 - val_loss: 7.4535e-04 - val_root_mean_squared_error: 0.0273\n",
      "Epoch 5/100\n",
      "604/604 - 17s - loss: 0.0013 - root_mean_squared_error: 0.0367 - val_loss: 5.2999e-04 - val_root_mean_squared_error: 0.0230\n",
      "Epoch 6/100\n",
      "604/604 - 17s - loss: 0.0011 - root_mean_squared_error: 0.0333 - val_loss: 4.5808e-04 - val_root_mean_squared_error: 0.0214\n",
      "Epoch 7/100\n",
      "604/604 - 17s - loss: 9.5344e-04 - root_mean_squared_error: 0.0309 - val_loss: 3.6236e-04 - val_root_mean_squared_error: 0.0190\n",
      "Epoch 8/100\n",
      "604/604 - 17s - loss: 8.4527e-04 - root_mean_squared_error: 0.0291 - val_loss: 3.9137e-04 - val_root_mean_squared_error: 0.0198\n",
      "Epoch 9/100\n",
      "604/604 - 17s - loss: 7.7953e-04 - root_mean_squared_error: 0.0279 - val_loss: 3.3318e-04 - val_root_mean_squared_error: 0.0183\n",
      "Epoch 10/100\n",
      "604/604 - 17s - loss: 7.3260e-04 - root_mean_squared_error: 0.0271 - val_loss: 3.1517e-04 - val_root_mean_squared_error: 0.0178\n",
      "Epoch 11/100\n",
      "604/604 - 17s - loss: 7.0761e-04 - root_mean_squared_error: 0.0266 - val_loss: 3.1291e-04 - val_root_mean_squared_error: 0.0177\n",
      "Epoch 12/100\n",
      "604/604 - 17s - loss: 6.9216e-04 - root_mean_squared_error: 0.0263 - val_loss: 3.4566e-04 - val_root_mean_squared_error: 0.0186\n",
      "Epoch 13/100\n",
      "604/604 - 17s - loss: 6.7978e-04 - root_mean_squared_error: 0.0261 - val_loss: 2.8858e-04 - val_root_mean_squared_error: 0.0170\n",
      "Epoch 14/100\n",
      "604/604 - 17s - loss: 6.6838e-04 - root_mean_squared_error: 0.0259 - val_loss: 2.9815e-04 - val_root_mean_squared_error: 0.0173\n",
      "Epoch 15/100\n",
      "604/604 - 17s - loss: 6.6000e-04 - root_mean_squared_error: 0.0257 - val_loss: 2.7587e-04 - val_root_mean_squared_error: 0.0166\n",
      "Epoch 16/100\n",
      "604/604 - 17s - loss: 6.5158e-04 - root_mean_squared_error: 0.0255 - val_loss: 2.5720e-04 - val_root_mean_squared_error: 0.0160\n",
      "Epoch 17/100\n",
      "604/604 - 17s - loss: 6.4419e-04 - root_mean_squared_error: 0.0254 - val_loss: 2.7199e-04 - val_root_mean_squared_error: 0.0165\n",
      "Epoch 18/100\n",
      "604/604 - 17s - loss: 6.3727e-04 - root_mean_squared_error: 0.0252 - val_loss: 2.5481e-04 - val_root_mean_squared_error: 0.0160\n",
      "Epoch 19/100\n",
      "604/604 - 17s - loss: 6.3328e-04 - root_mean_squared_error: 0.0252 - val_loss: 2.5824e-04 - val_root_mean_squared_error: 0.0161\n",
      "Epoch 20/100\n",
      "604/604 - 17s - loss: 6.2618e-04 - root_mean_squared_error: 0.0250 - val_loss: 2.3332e-04 - val_root_mean_squared_error: 0.0153\n",
      "Epoch 21/100\n",
      "604/604 - 17s - loss: 6.1975e-04 - root_mean_squared_error: 0.0249 - val_loss: 3.0818e-04 - val_root_mean_squared_error: 0.0176\n",
      "Epoch 22/100\n",
      "604/604 - 17s - loss: 6.1447e-04 - root_mean_squared_error: 0.0248 - val_loss: 3.4671e-04 - val_root_mean_squared_error: 0.0186\n",
      "Epoch 23/100\n",
      "604/604 - 17s - loss: 6.0958e-04 - root_mean_squared_error: 0.0247 - val_loss: 2.3014e-04 - val_root_mean_squared_error: 0.0152\n",
      "Epoch 24/100\n",
      "604/604 - 17s - loss: 6.0407e-04 - root_mean_squared_error: 0.0246 - val_loss: 2.3830e-04 - val_root_mean_squared_error: 0.0154\n",
      "Epoch 25/100\n",
      "604/604 - 17s - loss: 6.0053e-04 - root_mean_squared_error: 0.0245 - val_loss: 2.2057e-04 - val_root_mean_squared_error: 0.0149\n",
      "Epoch 26/100\n",
      "604/604 - 17s - loss: 5.9548e-04 - root_mean_squared_error: 0.0244 - val_loss: 2.1831e-04 - val_root_mean_squared_error: 0.0148\n",
      "Epoch 27/100\n",
      "604/604 - 17s - loss: 5.9078e-04 - root_mean_squared_error: 0.0243 - val_loss: 2.4388e-04 - val_root_mean_squared_error: 0.0156\n",
      "Epoch 28/100\n",
      "604/604 - 17s - loss: 5.8511e-04 - root_mean_squared_error: 0.0242 - val_loss: 2.2983e-04 - val_root_mean_squared_error: 0.0152\n",
      "Epoch 29/100\n",
      "604/604 - 17s - loss: 5.8081e-04 - root_mean_squared_error: 0.0241 - val_loss: 2.4030e-04 - val_root_mean_squared_error: 0.0155\n",
      "Epoch 30/100\n",
      "604/604 - 16s - loss: 5.7829e-04 - root_mean_squared_error: 0.0240 - val_loss: 2.8338e-04 - val_root_mean_squared_error: 0.0168\n",
      "Epoch 31/100\n",
      "604/604 - 17s - loss: 5.7444e-04 - root_mean_squared_error: 0.0240 - val_loss: 2.1117e-04 - val_root_mean_squared_error: 0.0145\n",
      "Epoch 32/100\n",
      "604/604 - 17s - loss: 5.7042e-04 - root_mean_squared_error: 0.0239 - val_loss: 2.2114e-04 - val_root_mean_squared_error: 0.0149\n",
      "Epoch 33/100\n",
      "604/604 - 17s - loss: 5.6672e-04 - root_mean_squared_error: 0.0238 - val_loss: 2.0991e-04 - val_root_mean_squared_error: 0.0145\n",
      "Epoch 34/100\n",
      "604/604 - 16s - loss: 5.6340e-04 - root_mean_squared_error: 0.0237 - val_loss: 1.9874e-04 - val_root_mean_squared_error: 0.0141\n",
      "Epoch 35/100\n",
      "604/604 - 16s - loss: 5.5827e-04 - root_mean_squared_error: 0.0236 - val_loss: 2.1120e-04 - val_root_mean_squared_error: 0.0145\n",
      "Epoch 36/100\n",
      "604/604 - 16s - loss: 5.5470e-04 - root_mean_squared_error: 0.0236 - val_loss: 1.9069e-04 - val_root_mean_squared_error: 0.0138\n",
      "Epoch 37/100\n",
      "604/604 - 17s - loss: 5.5237e-04 - root_mean_squared_error: 0.0235 - val_loss: 2.0615e-04 - val_root_mean_squared_error: 0.0144\n",
      "Epoch 38/100\n",
      "604/604 - 16s - loss: 5.4775e-04 - root_mean_squared_error: 0.0234 - val_loss: 2.1835e-04 - val_root_mean_squared_error: 0.0148\n",
      "Epoch 39/100\n",
      "604/604 - 17s - loss: 5.4604e-04 - root_mean_squared_error: 0.0234 - val_loss: 1.7945e-04 - val_root_mean_squared_error: 0.0134\n",
      "Epoch 40/100\n",
      "604/604 - 16s - loss: 5.4212e-04 - root_mean_squared_error: 0.0233 - val_loss: 2.1695e-04 - val_root_mean_squared_error: 0.0147\n",
      "Epoch 41/100\n",
      "604/604 - 16s - loss: 5.3828e-04 - root_mean_squared_error: 0.0232 - val_loss: 1.8917e-04 - val_root_mean_squared_error: 0.0138\n",
      "Epoch 42/100\n",
      "604/604 - 17s - loss: 5.3510e-04 - root_mean_squared_error: 0.0231 - val_loss: 1.7684e-04 - val_root_mean_squared_error: 0.0133\n",
      "Epoch 43/100\n",
      "604/604 - 17s - loss: 5.3357e-04 - root_mean_squared_error: 0.0231 - val_loss: 1.6201e-04 - val_root_mean_squared_error: 0.0127\n",
      "Epoch 44/100\n",
      "604/604 - 17s - loss: 5.2990e-04 - root_mean_squared_error: 0.0230 - val_loss: 1.7678e-04 - val_root_mean_squared_error: 0.0133\n",
      "Epoch 45/100\n",
      "604/604 - 17s - loss: 5.2701e-04 - root_mean_squared_error: 0.0230 - val_loss: 1.8277e-04 - val_root_mean_squared_error: 0.0135\n",
      "Epoch 46/100\n",
      "604/604 - 17s - loss: 5.2548e-04 - root_mean_squared_error: 0.0229 - val_loss: 1.7547e-04 - val_root_mean_squared_error: 0.0132\n",
      "Epoch 47/100\n",
      "604/604 - 17s - loss: 5.2260e-04 - root_mean_squared_error: 0.0229 - val_loss: 1.8728e-04 - val_root_mean_squared_error: 0.0137\n",
      "Epoch 48/100\n",
      "604/604 - 17s - loss: 5.2046e-04 - root_mean_squared_error: 0.0228 - val_loss: 1.7753e-04 - val_root_mean_squared_error: 0.0133\n",
      "Epoch 49/100\n",
      "604/604 - 17s - loss: 5.1830e-04 - root_mean_squared_error: 0.0228 - val_loss: 1.7773e-04 - val_root_mean_squared_error: 0.0133\n",
      "Epoch 50/100\n",
      "604/604 - 17s - loss: 5.1683e-04 - root_mean_squared_error: 0.0227 - val_loss: 1.8332e-04 - val_root_mean_squared_error: 0.0135\n",
      "Epoch 51/100\n",
      "604/604 - 16s - loss: 5.1201e-04 - root_mean_squared_error: 0.0226 - val_loss: 1.8893e-04 - val_root_mean_squared_error: 0.0137\n",
      "Epoch 52/100\n",
      "604/604 - 17s - loss: 5.1032e-04 - root_mean_squared_error: 0.0226 - val_loss: 1.6154e-04 - val_root_mean_squared_error: 0.0127\n",
      "Epoch 53/100\n",
      "604/604 - 17s - loss: 5.1011e-04 - root_mean_squared_error: 0.0226 - val_loss: 1.7661e-04 - val_root_mean_squared_error: 0.0133\n",
      "Epoch 54/100\n",
      "604/604 - 17s - loss: 5.0805e-04 - root_mean_squared_error: 0.0225 - val_loss: 1.7264e-04 - val_root_mean_squared_error: 0.0131\n",
      "Epoch 55/100\n",
      "604/604 - 17s - loss: 5.0444e-04 - root_mean_squared_error: 0.0225 - val_loss: 1.6670e-04 - val_root_mean_squared_error: 0.0129\n",
      "Epoch 56/100\n",
      "604/604 - 17s - loss: 5.0460e-04 - root_mean_squared_error: 0.0225 - val_loss: 1.6812e-04 - val_root_mean_squared_error: 0.0130\n",
      "Epoch 57/100\n",
      "604/604 - 17s - loss: 5.0195e-04 - root_mean_squared_error: 0.0224 - val_loss: 1.5979e-04 - val_root_mean_squared_error: 0.0126\n",
      "Epoch 58/100\n",
      "604/604 - 17s - loss: 5.0084e-04 - root_mean_squared_error: 0.0224 - val_loss: 1.7085e-04 - val_root_mean_squared_error: 0.0131\n",
      "Epoch 59/100\n",
      "604/604 - 17s - loss: 4.9848e-04 - root_mean_squared_error: 0.0223 - val_loss: 1.7010e-04 - val_root_mean_squared_error: 0.0130\n"
     ]
    },
    {
     "name": "stdout",
     "output_type": "stream",
     "text": [
      "Epoch 60/100\n",
      "604/604 - 17s - loss: 4.9588e-04 - root_mean_squared_error: 0.0223 - val_loss: 1.4096e-04 - val_root_mean_squared_error: 0.0119\n",
      "Epoch 61/100\n",
      "604/604 - 17s - loss: 4.9543e-04 - root_mean_squared_error: 0.0223 - val_loss: 1.8105e-04 - val_root_mean_squared_error: 0.0135\n",
      "Epoch 62/100\n",
      "604/604 - 17s - loss: 4.9400e-04 - root_mean_squared_error: 0.0222 - val_loss: 1.5983e-04 - val_root_mean_squared_error: 0.0126\n",
      "Epoch 63/100\n",
      "604/604 - 17s - loss: 4.9189e-04 - root_mean_squared_error: 0.0222 - val_loss: 1.4595e-04 - val_root_mean_squared_error: 0.0121\n",
      "Epoch 64/100\n",
      "604/604 - 17s - loss: 4.9089e-04 - root_mean_squared_error: 0.0222 - val_loss: 1.6575e-04 - val_root_mean_squared_error: 0.0129\n",
      "Epoch 65/100\n",
      "604/604 - 17s - loss: 4.9021e-04 - root_mean_squared_error: 0.0221 - val_loss: 1.4530e-04 - val_root_mean_squared_error: 0.0121\n",
      "Epoch 66/100\n",
      "604/604 - 17s - loss: 4.8938e-04 - root_mean_squared_error: 0.0221 - val_loss: 1.5497e-04 - val_root_mean_squared_error: 0.0124\n",
      "Epoch 67/100\n",
      "604/604 - 17s - loss: 4.8767e-04 - root_mean_squared_error: 0.0221 - val_loss: 1.5340e-04 - val_root_mean_squared_error: 0.0124\n",
      "Epoch 68/100\n",
      "604/604 - 17s - loss: 4.8542e-04 - root_mean_squared_error: 0.0220 - val_loss: 1.4522e-04 - val_root_mean_squared_error: 0.0121\n",
      "Epoch 69/100\n",
      "604/604 - 17s - loss: 4.8363e-04 - root_mean_squared_error: 0.0220 - val_loss: 2.0289e-04 - val_root_mean_squared_error: 0.0142\n",
      "Epoch 70/100\n",
      "604/604 - 17s - loss: 4.8347e-04 - root_mean_squared_error: 0.0220 - val_loss: 1.7419e-04 - val_root_mean_squared_error: 0.0132\n",
      "Epoch 71/100\n",
      "604/604 - 17s - loss: 4.8116e-04 - root_mean_squared_error: 0.0219 - val_loss: 1.8781e-04 - val_root_mean_squared_error: 0.0137\n",
      "Epoch 72/100\n",
      "604/604 - 17s - loss: 4.8054e-04 - root_mean_squared_error: 0.0219 - val_loss: 1.5577e-04 - val_root_mean_squared_error: 0.0125\n",
      "Epoch 73/100\n",
      "604/604 - 17s - loss: 4.7934e-04 - root_mean_squared_error: 0.0219 - val_loss: 2.0451e-04 - val_root_mean_squared_error: 0.0143\n",
      "Epoch 74/100\n",
      "604/604 - 17s - loss: 4.7712e-04 - root_mean_squared_error: 0.0218 - val_loss: 1.4257e-04 - val_root_mean_squared_error: 0.0119\n",
      "Epoch 75/100\n",
      "604/604 - 17s - loss: 4.7786e-04 - root_mean_squared_error: 0.0219 - val_loss: 1.5947e-04 - val_root_mean_squared_error: 0.0126\n",
      "Epoch 76/100\n",
      "604/604 - 17s - loss: 4.7522e-04 - root_mean_squared_error: 0.0218 - val_loss: 1.7717e-04 - val_root_mean_squared_error: 0.0133\n",
      "Epoch 77/100\n",
      "604/604 - 17s - loss: 4.7494e-04 - root_mean_squared_error: 0.0218 - val_loss: 1.6466e-04 - val_root_mean_squared_error: 0.0128\n",
      "Epoch 78/100\n",
      "604/604 - 17s - loss: 4.7324e-04 - root_mean_squared_error: 0.0218 - val_loss: 1.4712e-04 - val_root_mean_squared_error: 0.0121\n",
      "Epoch 79/100\n",
      "604/604 - 17s - loss: 4.7239e-04 - root_mean_squared_error: 0.0217 - val_loss: 1.3382e-04 - val_root_mean_squared_error: 0.0116\n",
      "Epoch 80/100\n",
      "604/604 - 17s - loss: 4.6983e-04 - root_mean_squared_error: 0.0217 - val_loss: 1.4025e-04 - val_root_mean_squared_error: 0.0118\n",
      "Epoch 81/100\n",
      "604/604 - 17s - loss: 4.7123e-04 - root_mean_squared_error: 0.0217 - val_loss: 1.7609e-04 - val_root_mean_squared_error: 0.0133\n",
      "Epoch 82/100\n",
      "604/604 - 16s - loss: 4.7014e-04 - root_mean_squared_error: 0.0217 - val_loss: 1.6112e-04 - val_root_mean_squared_error: 0.0127\n",
      "Epoch 83/100\n",
      "604/604 - 16s - loss: 4.6807e-04 - root_mean_squared_error: 0.0216 - val_loss: 1.3754e-04 - val_root_mean_squared_error: 0.0117\n",
      "Epoch 84/100\n",
      "604/604 - 16s - loss: 4.6679e-04 - root_mean_squared_error: 0.0216 - val_loss: 1.4308e-04 - val_root_mean_squared_error: 0.0120\n",
      "Epoch 85/100\n",
      "604/604 - 17s - loss: 4.6583e-04 - root_mean_squared_error: 0.0216 - val_loss: 1.8175e-04 - val_root_mean_squared_error: 0.0135\n",
      "Epoch 86/100\n",
      "604/604 - 16s - loss: 4.6502e-04 - root_mean_squared_error: 0.0216 - val_loss: 1.5880e-04 - val_root_mean_squared_error: 0.0126\n",
      "Epoch 87/100\n",
      "604/604 - 16s - loss: 4.6418e-04 - root_mean_squared_error: 0.0215 - val_loss: 1.4176e-04 - val_root_mean_squared_error: 0.0119\n",
      "Epoch 88/100\n",
      "604/604 - 16s - loss: 4.6396e-04 - root_mean_squared_error: 0.0215 - val_loss: 1.3879e-04 - val_root_mean_squared_error: 0.0118\n",
      "Epoch 89/100\n",
      "604/604 - 17s - loss: 4.6182e-04 - root_mean_squared_error: 0.0215 - val_loss: 1.4029e-04 - val_root_mean_squared_error: 0.0118\n",
      "Epoch 90/100\n",
      "604/604 - 17s - loss: 4.5979e-04 - root_mean_squared_error: 0.0214 - val_loss: 1.4507e-04 - val_root_mean_squared_error: 0.0120\n",
      "Epoch 91/100\n",
      "604/604 - 16s - loss: 4.6009e-04 - root_mean_squared_error: 0.0214 - val_loss: 1.4703e-04 - val_root_mean_squared_error: 0.0121\n",
      "Epoch 92/100\n",
      "604/604 - 17s - loss: 4.5790e-04 - root_mean_squared_error: 0.0214 - val_loss: 1.6050e-04 - val_root_mean_squared_error: 0.0127\n",
      "Epoch 93/100\n",
      "604/604 - 17s - loss: 4.5745e-04 - root_mean_squared_error: 0.0214 - val_loss: 1.3269e-04 - val_root_mean_squared_error: 0.0115\n",
      "Epoch 94/100\n",
      "604/604 - 16s - loss: 4.5646e-04 - root_mean_squared_error: 0.0214 - val_loss: 1.4028e-04 - val_root_mean_squared_error: 0.0118\n",
      "Epoch 95/100\n",
      "604/604 - 17s - loss: 4.5540e-04 - root_mean_squared_error: 0.0213 - val_loss: 1.6844e-04 - val_root_mean_squared_error: 0.0130\n",
      "Epoch 96/100\n",
      "604/604 - 18s - loss: 4.5435e-04 - root_mean_squared_error: 0.0213 - val_loss: 1.3085e-04 - val_root_mean_squared_error: 0.0114\n",
      "Epoch 97/100\n",
      "604/604 - 18s - loss: 4.5368e-04 - root_mean_squared_error: 0.0213 - val_loss: 1.8257e-04 - val_root_mean_squared_error: 0.0135\n",
      "Epoch 98/100\n",
      "604/604 - 17s - loss: 4.5089e-04 - root_mean_squared_error: 0.0212 - val_loss: 1.4260e-04 - val_root_mean_squared_error: 0.0119\n",
      "Epoch 99/100\n",
      "604/604 - 17s - loss: 4.5005e-04 - root_mean_squared_error: 0.0212 - val_loss: 1.5508e-04 - val_root_mean_squared_error: 0.0125\n",
      "Epoch 100/100\n",
      "604/604 - 17s - loss: 4.4972e-04 - root_mean_squared_error: 0.0212 - val_loss: 1.3814e-04 - val_root_mean_squared_error: 0.0118\n"
     ]
    }
   ],
   "source": [
    "import tensorflow as tf\n",
    "from tensorflow import keras\n",
    "from tensorflow.keras import layers\n",
    "from keras.layers import Input,LSTM,Dropout,Dense\n",
    "\n",
    "\n",
    "timesteps = 3\n",
    "# create and fit the LSTM network\n",
    "\n",
    "model = keras.Sequential()\n",
    "model.add(LSTM(100,input_shape=(timesteps,5),return_sequences=True))\n",
    "model.add(Dropout(0.2))\n",
    "model.add(LSTM(100,input_shape=(timesteps,5),return_sequences=True))\n",
    "model.add(Dropout(0.2))\n",
    "model.add(LSTM(100,input_shape=(timesteps,5),return_sequences=False))\n",
    "model.add(Dropout(0.2))\n",
    "model.add(Dense(15,activation='linear'))\n",
    "model.compile(optimizer='rmsprop',loss='mean_squared_error',metrics=[tf.keras.metrics.RootMeanSquaredError()])\n",
    "\n",
    "history = model.fit(train_X, train_Y, epochs=100, batch_size=512, verbose=2, validation_data=(test_X, test_Y))"
   ]
  },
  {
   "cell_type": "code",
   "execution_count": 31,
   "metadata": {},
   "outputs": [],
   "source": [
    "testPredict = model.predict(test_X)"
   ]
  },
  {
   "cell_type": "code",
   "execution_count": 32,
   "metadata": {},
   "outputs": [],
   "source": [
    "newtestPredict = scaler.inverse_transform(testPredict)\n",
    "newtest_Y = scaler.inverse_transform(test_Y)"
   ]
  },
  {
   "cell_type": "code",
   "execution_count": 33,
   "metadata": {},
   "outputs": [
    {
     "name": "stdout",
     "output_type": "stream",
     "text": [
      "Test Score: 0.33359 RMSE\n"
     ]
    }
   ],
   "source": [
    "testScore = sqrt(mean_squared_error(newtest_Y, newtestPredict))\n",
    "print('Test Score: %.5f RMSE' % (testScore))"
   ]
  },
  {
   "cell_type": "code",
   "execution_count": null,
   "metadata": {},
   "outputs": [],
   "source": []
  }
 ],
 "metadata": {
  "kernelspec": {
   "display_name": "Python 3",
   "language": "python",
   "name": "python3"
  },
  "language_info": {
   "codemirror_mode": {
    "name": "ipython",
    "version": 3
   },
   "file_extension": ".py",
   "mimetype": "text/x-python",
   "name": "python",
   "nbconvert_exporter": "python",
   "pygments_lexer": "ipython3",
   "version": "3.8.3"
  }
 },
 "nbformat": 4,
 "nbformat_minor": 4
}
