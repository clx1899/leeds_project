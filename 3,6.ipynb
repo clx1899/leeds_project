{
 "cells": [
  {
   "cell_type": "code",
   "execution_count": 1,
   "metadata": {},
   "outputs": [],
   "source": [
    "from test import EigenData\n",
    "import numpy as np\n",
    "import scipy.io\n",
    "import h5py\n",
    "from sklearn.preprocessing import MinMaxScaler\n",
    "from sklearn.metrics import mean_squared_error\n",
    "from math import sqrt\n",
    "import matplotlib.pyplot as plt\n",
    "from mpl_toolkits.axes_grid1 import make_axes_locatable\n",
    "import torch\n",
    "%matplotlib inline"
   ]
  },
  {
   "cell_type": "code",
   "execution_count": 2,
   "metadata": {},
   "outputs": [
    {
     "name": "stdout",
     "output_type": "stream",
     "text": [
      "b (5, 33600)\n",
      "(100, 5) (5, 33600)\n",
      "--> (100, 33600)\n",
      "c (5, 33600)\n",
      "(100, 5) (5, 33600)\n",
      "--> (100, 33600)\n",
      "d (5, 33600)\n",
      "(100, 5) (5, 33600)\n",
      "--> (100, 33600)\n",
      "e (5, 33600)\n",
      "(100, 5) (5, 33600)\n",
      "--> (100, 33600)\n",
      "f (5, 33600)\n",
      "(100, 5) (5, 33600)\n",
      "--> (100, 33600)\n",
      "g (6, 33600)\n",
      "(100, 6) (6, 33600)\n",
      "--> (100, 33600)\n",
      "h (5, 33600)\n",
      "(100, 5) (5, 33600)\n",
      "--> (100, 33600)\n",
      "i (6, 33600)\n",
      "(100, 6) (6, 33600)\n",
      "--> (100, 33600)\n",
      "j (5, 33600)\n",
      "(100, 5) (5, 33600)\n",
      "--> (100, 33600)\n",
      "k (5, 33600)\n",
      "(100, 5) (5, 33600)\n",
      "--> (100, 33600)\n",
      "l (5, 33600)\n",
      "(100, 5) (5, 33600)\n",
      "--> (100, 33600)\n",
      "m (5, 33600)\n",
      "(100, 5) (5, 33600)\n",
      "--> (100, 33600)\n",
      "(403200, 5)\n"
     ]
    }
   ],
   "source": [
    "data = EigenData()\n",
    "eigenworms = data.get_eigenworms('EigenWorms.mat')\n",
    "\n",
    "footage = data.get_footage('20150814-All-PNAS2011-DataStitched .mat')\n",
    "newdata = torch.rand(33600,5)\n",
    "for k in footage.keys():\n",
    "    print(k, footage[k].shape)\n",
    "    arr1=footage[k]\n",
    "\n",
    "    arr2=arr1[:5,]\n",
    "\n",
    "    r = data.reconstruct(footage[k])\n",
    "    print('-->', r.shape)\n",
    "    dataset1 = arr2.transpose()\n",
    "\n",
    "    newdata = np.concatenate((newdata,dataset1),axis=0)\n",
    "newdata = newdata[33600:,]\n",
    "print(newdata.shape)"
   ]
  },
  {
   "cell_type": "code",
   "execution_count": 3,
   "metadata": {},
   "outputs": [],
   "source": [
    "first_5_eigenworms = eigenworms[0:5,:]\n",
    "eig_worm_0 = eigenworms[0,:]\n",
    "eig_worm_1 = eigenworms[1,:]\n",
    "eig_worm_2 = eigenworms[2,:]\n",
    "eig_worm_3 = eigenworms[3,:]\n",
    "eig_worm_4 = eigenworms[4,:]"
   ]
  },
  {
   "cell_type": "code",
   "execution_count": 4,
   "metadata": {},
   "outputs": [
    {
     "name": "stdout",
     "output_type": "stream",
     "text": [
      "(386422, 5)\n",
      "386422\n"
     ]
    }
   ],
   "source": [
    "data1=newdata[~np.isnan(newdata).any(axis=1)]\n",
    "\n",
    "data1 = data1.astype('float32')\n",
    "print(data1.shape)\n",
    "print(len(data1))"
   ]
  },
  {
   "cell_type": "code",
   "execution_count": 5,
   "metadata": {},
   "outputs": [],
   "source": [
    "def create_dataset(data,n_predictions,n_next):\n",
    "    \n",
    "   \n",
    "    dim = data.shape[1]\n",
    "    train_X, train_Y = [], []\n",
    "    for i in range(data.shape[0]-n_predictions-n_next-1):\n",
    "        a = data[i:(i+n_predictions),:]\n",
    "        train_X.append(a)\n",
    "        tempb = data[(i+n_predictions):(i+n_predictions+n_next),:]\n",
    "        b = []\n",
    "        for j in range(len(tempb)):\n",
    "            for k in range(dim):\n",
    "                b.append(tempb[j,k])\n",
    "        train_Y.append(b)\n",
    "    train_X = np.array(train_X,dtype='float64')\n",
    "    train_Y = np.array(train_Y,dtype='float64')\n",
    "\n",
    "    return train_X, train_Y"
   ]
  },
  {
   "cell_type": "code",
   "execution_count": 6,
   "metadata": {},
   "outputs": [
    {
     "name": "stdout",
     "output_type": "stream",
     "text": [
      "(386412, 3, 5)\n",
      "(386412, 30)\n"
     ]
    }
   ],
   "source": [
    "X, Y = create_dataset(data1,3,6)\n",
    "print(X.shape)\n",
    "print(Y.shape)"
   ]
  },
  {
   "cell_type": "code",
   "execution_count": 7,
   "metadata": {},
   "outputs": [],
   "source": [
    "scaler = MinMaxScaler(feature_range=(0, 1))\n",
    "data1 = scaler.fit_transform(data1)\n",
    "Y = scaler.fit_transform(Y)"
   ]
  },
  {
   "cell_type": "code",
   "execution_count": 8,
   "metadata": {},
   "outputs": [
    {
     "name": "stdout",
     "output_type": "stream",
     "text": [
      "(386412, 3, 5)\n",
      "(386412, 30)\n"
     ]
    }
   ],
   "source": [
    "data_X, data_Y = create_dataset(data1,3,6)\n",
    "\n",
    "print(data_X.shape)\n",
    "print(data_Y.shape)"
   ]
  },
  {
   "cell_type": "code",
   "execution_count": 9,
   "metadata": {},
   "outputs": [
    {
     "name": "stdout",
     "output_type": "stream",
     "text": [
      "(309129, 3, 5)\n",
      "(309129, 30)\n",
      "(77283, 3, 5)\n",
      "(77283, 30)\n"
     ]
    }
   ],
   "source": [
    "train_size = int(len(data_X) * 0.8)\n",
    "test_size = len(data_X) - train_size\n",
    "train_X = data_X[:train_size]\n",
    "train_Y = Y[:train_size]\n",
    "test_X = data_X[train_size:]\n",
    "test_Y = Y[train_size:]\n",
    "\n",
    "print(train_X.shape)\n",
    "print(train_Y.shape)\n",
    "print(test_X.shape)\n",
    "print(test_Y.shape)"
   ]
  },
  {
   "cell_type": "code",
   "execution_count": 10,
   "metadata": {},
   "outputs": [
    {
     "name": "stdout",
     "output_type": "stream",
     "text": [
      "Epoch 1/100\n",
      "604/604 - 22s - loss: 0.0134 - root_mean_squared_error: 0.1159 - val_loss: 0.0061 - val_root_mean_squared_error: 0.0782\n",
      "Epoch 2/100\n",
      "604/604 - 17s - loss: 0.0061 - root_mean_squared_error: 0.0779 - val_loss: 0.0039 - val_root_mean_squared_error: 0.0626\n",
      "Epoch 3/100\n",
      "604/604 - 17s - loss: 0.0041 - root_mean_squared_error: 0.0639 - val_loss: 0.0020 - val_root_mean_squared_error: 0.0448\n",
      "Epoch 4/100\n",
      "604/604 - 17s - loss: 0.0028 - root_mean_squared_error: 0.0527 - val_loss: 0.0015 - val_root_mean_squared_error: 0.0384\n",
      "Epoch 5/100\n",
      "604/604 - 16s - loss: 0.0022 - root_mean_squared_error: 0.0472 - val_loss: 0.0015 - val_root_mean_squared_error: 0.0386\n",
      "Epoch 6/100\n",
      "604/604 - 17s - loss: 0.0019 - root_mean_squared_error: 0.0441 - val_loss: 0.0011 - val_root_mean_squared_error: 0.0324\n",
      "Epoch 7/100\n",
      "604/604 - 16s - loss: 0.0018 - root_mean_squared_error: 0.0418 - val_loss: 9.6346e-04 - val_root_mean_squared_error: 0.0310\n",
      "Epoch 8/100\n",
      "604/604 - 16s - loss: 0.0016 - root_mean_squared_error: 0.0404 - val_loss: 9.8871e-04 - val_root_mean_squared_error: 0.0314\n",
      "Epoch 9/100\n",
      "604/604 - 16s - loss: 0.0015 - root_mean_squared_error: 0.0392 - val_loss: 9.5393e-04 - val_root_mean_squared_error: 0.0309\n",
      "Epoch 10/100\n",
      "604/604 - 17s - loss: 0.0015 - root_mean_squared_error: 0.0384 - val_loss: 8.7117e-04 - val_root_mean_squared_error: 0.0295\n",
      "Epoch 11/100\n",
      "604/604 - 17s - loss: 0.0014 - root_mean_squared_error: 0.0378 - val_loss: 8.7390e-04 - val_root_mean_squared_error: 0.0296\n",
      "Epoch 12/100\n",
      "604/604 - 16s - loss: 0.0014 - root_mean_squared_error: 0.0373 - val_loss: 8.4745e-04 - val_root_mean_squared_error: 0.0291\n",
      "Epoch 13/100\n",
      "604/604 - 16s - loss: 0.0014 - root_mean_squared_error: 0.0368 - val_loss: 8.6446e-04 - val_root_mean_squared_error: 0.0294\n",
      "Epoch 14/100\n",
      "604/604 - 17s - loss: 0.0013 - root_mean_squared_error: 0.0364 - val_loss: 8.1767e-04 - val_root_mean_squared_error: 0.0286\n",
      "Epoch 15/100\n",
      "604/604 - 16s - loss: 0.0013 - root_mean_squared_error: 0.0360 - val_loss: 7.6176e-04 - val_root_mean_squared_error: 0.0276\n",
      "Epoch 16/100\n",
      "604/604 - 16s - loss: 0.0013 - root_mean_squared_error: 0.0356 - val_loss: 7.5245e-04 - val_root_mean_squared_error: 0.0274\n",
      "Epoch 17/100\n",
      "604/604 - 16s - loss: 0.0012 - root_mean_squared_error: 0.0352 - val_loss: 7.0482e-04 - val_root_mean_squared_error: 0.0265\n",
      "Epoch 18/100\n",
      "604/604 - 17s - loss: 0.0012 - root_mean_squared_error: 0.0348 - val_loss: 7.3416e-04 - val_root_mean_squared_error: 0.0271\n",
      "Epoch 19/100\n",
      "604/604 - 16s - loss: 0.0012 - root_mean_squared_error: 0.0345 - val_loss: 6.8102e-04 - val_root_mean_squared_error: 0.0261\n",
      "Epoch 20/100\n",
      "604/604 - 16s - loss: 0.0012 - root_mean_squared_error: 0.0342 - val_loss: 6.6652e-04 - val_root_mean_squared_error: 0.0258\n",
      "Epoch 21/100\n",
      "604/604 - 16s - loss: 0.0012 - root_mean_squared_error: 0.0340 - val_loss: 6.5685e-04 - val_root_mean_squared_error: 0.0256\n",
      "Epoch 22/100\n",
      "604/604 - 16s - loss: 0.0011 - root_mean_squared_error: 0.0337 - val_loss: 7.2666e-04 - val_root_mean_squared_error: 0.0270\n",
      "Epoch 23/100\n",
      "604/604 - 16s - loss: 0.0011 - root_mean_squared_error: 0.0335 - val_loss: 6.6326e-04 - val_root_mean_squared_error: 0.0258\n",
      "Epoch 24/100\n",
      "604/604 - 16s - loss: 0.0011 - root_mean_squared_error: 0.0334 - val_loss: 6.7606e-04 - val_root_mean_squared_error: 0.0260\n",
      "Epoch 25/100\n",
      "604/604 - 16s - loss: 0.0011 - root_mean_squared_error: 0.0332 - val_loss: 6.4722e-04 - val_root_mean_squared_error: 0.0254\n",
      "Epoch 26/100\n",
      "604/604 - 16s - loss: 0.0011 - root_mean_squared_error: 0.0330 - val_loss: 6.2297e-04 - val_root_mean_squared_error: 0.0250\n",
      "Epoch 27/100\n",
      "604/604 - 16s - loss: 0.0011 - root_mean_squared_error: 0.0329 - val_loss: 6.4084e-04 - val_root_mean_squared_error: 0.0253\n",
      "Epoch 28/100\n",
      "604/604 - 16s - loss: 0.0011 - root_mean_squared_error: 0.0328 - val_loss: 6.0063e-04 - val_root_mean_squared_error: 0.0245\n",
      "Epoch 29/100\n",
      "604/604 - 16s - loss: 0.0011 - root_mean_squared_error: 0.0326 - val_loss: 5.8818e-04 - val_root_mean_squared_error: 0.0243\n",
      "Epoch 30/100\n",
      "604/604 - 16s - loss: 0.0011 - root_mean_squared_error: 0.0325 - val_loss: 5.9312e-04 - val_root_mean_squared_error: 0.0244\n",
      "Epoch 31/100\n",
      "604/604 - 16s - loss: 0.0010 - root_mean_squared_error: 0.0324 - val_loss: 6.2804e-04 - val_root_mean_squared_error: 0.0251\n",
      "Epoch 32/100\n",
      "604/604 - 16s - loss: 0.0010 - root_mean_squared_error: 0.0323 - val_loss: 5.7775e-04 - val_root_mean_squared_error: 0.0240\n",
      "Epoch 33/100\n",
      "604/604 - 17s - loss: 0.0010 - root_mean_squared_error: 0.0322 - val_loss: 5.6925e-04 - val_root_mean_squared_error: 0.0239\n",
      "Epoch 34/100\n",
      "604/604 - 16s - loss: 0.0010 - root_mean_squared_error: 0.0321 - val_loss: 6.0443e-04 - val_root_mean_squared_error: 0.0246\n",
      "Epoch 35/100\n",
      "604/604 - 16s - loss: 0.0010 - root_mean_squared_error: 0.0320 - val_loss: 6.0217e-04 - val_root_mean_squared_error: 0.0245\n",
      "Epoch 36/100\n",
      "604/604 - 16s - loss: 0.0010 - root_mean_squared_error: 0.0319 - val_loss: 5.6461e-04 - val_root_mean_squared_error: 0.0238\n",
      "Epoch 37/100\n",
      "604/604 - 16s - loss: 0.0010 - root_mean_squared_error: 0.0318 - val_loss: 5.8226e-04 - val_root_mean_squared_error: 0.0241\n",
      "Epoch 38/100\n",
      "604/604 - 16s - loss: 0.0010 - root_mean_squared_error: 0.0318 - val_loss: 5.7765e-04 - val_root_mean_squared_error: 0.0240\n",
      "Epoch 39/100\n",
      "604/604 - 16s - loss: 0.0010 - root_mean_squared_error: 0.0317 - val_loss: 5.9481e-04 - val_root_mean_squared_error: 0.0244\n",
      "Epoch 40/100\n",
      "604/604 - 17s - loss: 9.9649e-04 - root_mean_squared_error: 0.0316 - val_loss: 5.6918e-04 - val_root_mean_squared_error: 0.0239\n",
      "Epoch 41/100\n",
      "604/604 - 18s - loss: 9.9288e-04 - root_mean_squared_error: 0.0315 - val_loss: 5.4880e-04 - val_root_mean_squared_error: 0.0234\n",
      "Epoch 42/100\n",
      "604/604 - 18s - loss: 9.8882e-04 - root_mean_squared_error: 0.0314 - val_loss: 5.3346e-04 - val_root_mean_squared_error: 0.0231\n",
      "Epoch 43/100\n",
      "604/604 - 17s - loss: 9.8628e-04 - root_mean_squared_error: 0.0314 - val_loss: 5.8171e-04 - val_root_mean_squared_error: 0.0241\n",
      "Epoch 44/100\n",
      "604/604 - 17s - loss: 9.8242e-04 - root_mean_squared_error: 0.0313 - val_loss: 5.3713e-04 - val_root_mean_squared_error: 0.0232\n",
      "Epoch 45/100\n",
      "604/604 - 17s - loss: 9.7851e-04 - root_mean_squared_error: 0.0313 - val_loss: 5.2306e-04 - val_root_mean_squared_error: 0.0229\n",
      "Epoch 46/100\n",
      "604/604 - 16s - loss: 9.7424e-04 - root_mean_squared_error: 0.0312 - val_loss: 5.4890e-04 - val_root_mean_squared_error: 0.0234\n",
      "Epoch 47/100\n",
      "604/604 - 17s - loss: 9.7037e-04 - root_mean_squared_error: 0.0312 - val_loss: 5.2014e-04 - val_root_mean_squared_error: 0.0228\n",
      "Epoch 48/100\n",
      "604/604 - 16s - loss: 9.6724e-04 - root_mean_squared_error: 0.0311 - val_loss: 5.8604e-04 - val_root_mean_squared_error: 0.0242\n",
      "Epoch 49/100\n",
      "604/604 - 16s - loss: 9.6400e-04 - root_mean_squared_error: 0.0310 - val_loss: 5.5206e-04 - val_root_mean_squared_error: 0.0235\n",
      "Epoch 50/100\n",
      "604/604 - 16s - loss: 9.5968e-04 - root_mean_squared_error: 0.0310 - val_loss: 5.4233e-04 - val_root_mean_squared_error: 0.0233\n",
      "Epoch 51/100\n",
      "604/604 - 16s - loss: 9.5897e-04 - root_mean_squared_error: 0.0310 - val_loss: 5.9109e-04 - val_root_mean_squared_error: 0.0243\n",
      "Epoch 52/100\n",
      "604/604 - 16s - loss: 9.5542e-04 - root_mean_squared_error: 0.0309 - val_loss: 5.7789e-04 - val_root_mean_squared_error: 0.0240\n",
      "Epoch 53/100\n",
      "604/604 - 15s - loss: 9.4961e-04 - root_mean_squared_error: 0.0308 - val_loss: 5.9127e-04 - val_root_mean_squared_error: 0.0243\n",
      "Epoch 54/100\n",
      "604/604 - 16s - loss: 9.4821e-04 - root_mean_squared_error: 0.0308 - val_loss: 5.4750e-04 - val_root_mean_squared_error: 0.0234\n",
      "Epoch 55/100\n",
      "604/604 - 16s - loss: 9.4512e-04 - root_mean_squared_error: 0.0307 - val_loss: 5.1646e-04 - val_root_mean_squared_error: 0.0227\n",
      "Epoch 56/100\n",
      "604/604 - 16s - loss: 9.4234e-04 - root_mean_squared_error: 0.0307 - val_loss: 5.3443e-04 - val_root_mean_squared_error: 0.0231\n",
      "Epoch 57/100\n",
      "604/604 - 16s - loss: 9.4083e-04 - root_mean_squared_error: 0.0307 - val_loss: 5.1227e-04 - val_root_mean_squared_error: 0.0226\n",
      "Epoch 58/100\n",
      "604/604 - 16s - loss: 9.3525e-04 - root_mean_squared_error: 0.0306 - val_loss: 5.4319e-04 - val_root_mean_squared_error: 0.0233\n",
      "Epoch 59/100\n",
      "604/604 - 16s - loss: 9.3267e-04 - root_mean_squared_error: 0.0305 - val_loss: 5.4765e-04 - val_root_mean_squared_error: 0.0234\n",
      "Epoch 60/100\n",
      "604/604 - 16s - loss: 9.2756e-04 - root_mean_squared_error: 0.0305 - val_loss: 5.2083e-04 - val_root_mean_squared_error: 0.0228\n"
     ]
    },
    {
     "name": "stdout",
     "output_type": "stream",
     "text": [
      "Epoch 61/100\n",
      "604/604 - 16s - loss: 9.2561e-04 - root_mean_squared_error: 0.0304 - val_loss: 5.4480e-04 - val_root_mean_squared_error: 0.0233\n",
      "Epoch 62/100\n",
      "604/604 - 16s - loss: 9.2128e-04 - root_mean_squared_error: 0.0304 - val_loss: 5.1748e-04 - val_root_mean_squared_error: 0.0227\n",
      "Epoch 63/100\n",
      "604/604 - 16s - loss: 9.1584e-04 - root_mean_squared_error: 0.0303 - val_loss: 5.7349e-04 - val_root_mean_squared_error: 0.0239\n",
      "Epoch 64/100\n",
      "604/604 - 16s - loss: 9.1327e-04 - root_mean_squared_error: 0.0302 - val_loss: 5.0766e-04 - val_root_mean_squared_error: 0.0225\n",
      "Epoch 65/100\n",
      "604/604 - 15s - loss: 9.0790e-04 - root_mean_squared_error: 0.0301 - val_loss: 4.8502e-04 - val_root_mean_squared_error: 0.0220\n",
      "Epoch 66/100\n",
      "604/604 - 15s - loss: 9.0345e-04 - root_mean_squared_error: 0.0301 - val_loss: 4.8388e-04 - val_root_mean_squared_error: 0.0220\n",
      "Epoch 67/100\n",
      "604/604 - 16s - loss: 8.9996e-04 - root_mean_squared_error: 0.0300 - val_loss: 4.6455e-04 - val_root_mean_squared_error: 0.0216\n",
      "Epoch 68/100\n",
      "604/604 - 16s - loss: 8.9654e-04 - root_mean_squared_error: 0.0299 - val_loss: 5.3006e-04 - val_root_mean_squared_error: 0.0230\n",
      "Epoch 69/100\n",
      "604/604 - 16s - loss: 8.8956e-04 - root_mean_squared_error: 0.0298 - val_loss: 4.8998e-04 - val_root_mean_squared_error: 0.0221\n",
      "Epoch 70/100\n",
      "604/604 - 16s - loss: 8.8690e-04 - root_mean_squared_error: 0.0298 - val_loss: 4.8519e-04 - val_root_mean_squared_error: 0.0220\n",
      "Epoch 71/100\n",
      "604/604 - 16s - loss: 8.8481e-04 - root_mean_squared_error: 0.0297 - val_loss: 4.7134e-04 - val_root_mean_squared_error: 0.0217\n",
      "Epoch 72/100\n",
      "604/604 - 15s - loss: 8.8051e-04 - root_mean_squared_error: 0.0297 - val_loss: 4.6751e-04 - val_root_mean_squared_error: 0.0216\n",
      "Epoch 73/100\n",
      "604/604 - 15s - loss: 8.7808e-04 - root_mean_squared_error: 0.0296 - val_loss: 4.7556e-04 - val_root_mean_squared_error: 0.0218\n",
      "Epoch 74/100\n",
      "604/604 - 16s - loss: 8.7399e-04 - root_mean_squared_error: 0.0296 - val_loss: 4.9165e-04 - val_root_mean_squared_error: 0.0222\n",
      "Epoch 75/100\n",
      "604/604 - 16s - loss: 8.7153e-04 - root_mean_squared_error: 0.0295 - val_loss: 4.5915e-04 - val_root_mean_squared_error: 0.0214\n",
      "Epoch 76/100\n",
      "604/604 - 16s - loss: 8.6946e-04 - root_mean_squared_error: 0.0295 - val_loss: 5.3230e-04 - val_root_mean_squared_error: 0.0231\n",
      "Epoch 77/100\n",
      "604/604 - 15s - loss: 8.6452e-04 - root_mean_squared_error: 0.0294 - val_loss: 4.6172e-04 - val_root_mean_squared_error: 0.0215\n",
      "Epoch 78/100\n",
      "604/604 - 15s - loss: 8.6207e-04 - root_mean_squared_error: 0.0294 - val_loss: 5.0511e-04 - val_root_mean_squared_error: 0.0225\n",
      "Epoch 79/100\n",
      "604/604 - 16s - loss: 8.5963e-04 - root_mean_squared_error: 0.0293 - val_loss: 4.7170e-04 - val_root_mean_squared_error: 0.0217\n",
      "Epoch 80/100\n",
      "604/604 - 16s - loss: 8.5830e-04 - root_mean_squared_error: 0.0293 - val_loss: 4.7618e-04 - val_root_mean_squared_error: 0.0218\n",
      "Epoch 81/100\n",
      "604/604 - 16s - loss: 8.5481e-04 - root_mean_squared_error: 0.0292 - val_loss: 4.5603e-04 - val_root_mean_squared_error: 0.0214\n",
      "Epoch 82/100\n",
      "604/604 - 16s - loss: 8.5298e-04 - root_mean_squared_error: 0.0292 - val_loss: 4.7541e-04 - val_root_mean_squared_error: 0.0218\n",
      "Epoch 83/100\n",
      "604/604 - 16s - loss: 8.5032e-04 - root_mean_squared_error: 0.0292 - val_loss: 4.6876e-04 - val_root_mean_squared_error: 0.0217\n",
      "Epoch 84/100\n",
      "604/604 - 16s - loss: 8.4890e-04 - root_mean_squared_error: 0.0291 - val_loss: 4.8038e-04 - val_root_mean_squared_error: 0.0219\n",
      "Epoch 85/100\n",
      "604/604 - 16s - loss: 8.4558e-04 - root_mean_squared_error: 0.0291 - val_loss: 4.7491e-04 - val_root_mean_squared_error: 0.0218\n",
      "Epoch 86/100\n",
      "604/604 - 16s - loss: 8.4323e-04 - root_mean_squared_error: 0.0290 - val_loss: 4.3520e-04 - val_root_mean_squared_error: 0.0209\n",
      "Epoch 87/100\n",
      "604/604 - 16s - loss: 8.4227e-04 - root_mean_squared_error: 0.0290 - val_loss: 4.4402e-04 - val_root_mean_squared_error: 0.0211\n",
      "Epoch 88/100\n",
      "604/604 - 16s - loss: 8.3965e-04 - root_mean_squared_error: 0.0290 - val_loss: 4.5945e-04 - val_root_mean_squared_error: 0.0214\n",
      "Epoch 89/100\n",
      "604/604 - 16s - loss: 8.3575e-04 - root_mean_squared_error: 0.0289 - val_loss: 4.2533e-04 - val_root_mean_squared_error: 0.0206\n",
      "Epoch 90/100\n",
      "604/604 - 16s - loss: 8.3693e-04 - root_mean_squared_error: 0.0289 - val_loss: 4.3857e-04 - val_root_mean_squared_error: 0.0209\n",
      "Epoch 91/100\n",
      "604/604 - 16s - loss: 8.3338e-04 - root_mean_squared_error: 0.0289 - val_loss: 4.5554e-04 - val_root_mean_squared_error: 0.0213\n",
      "Epoch 92/100\n",
      "604/604 - 16s - loss: 8.3502e-04 - root_mean_squared_error: 0.0289 - val_loss: 4.5007e-04 - val_root_mean_squared_error: 0.0212\n",
      "Epoch 93/100\n",
      "604/604 - 16s - loss: 8.2946e-04 - root_mean_squared_error: 0.0288 - val_loss: 4.4589e-04 - val_root_mean_squared_error: 0.0211\n",
      "Epoch 94/100\n",
      "604/604 - 16s - loss: 8.3128e-04 - root_mean_squared_error: 0.0288 - val_loss: 4.4108e-04 - val_root_mean_squared_error: 0.0210\n",
      "Epoch 95/100\n",
      "604/604 - 16s - loss: 8.2868e-04 - root_mean_squared_error: 0.0288 - val_loss: 4.4590e-04 - val_root_mean_squared_error: 0.0211\n",
      "Epoch 96/100\n",
      "604/604 - 16s - loss: 8.2811e-04 - root_mean_squared_error: 0.0288 - val_loss: 4.3439e-04 - val_root_mean_squared_error: 0.0208\n",
      "Epoch 97/100\n",
      "604/604 - 16s - loss: 8.2400e-04 - root_mean_squared_error: 0.0287 - val_loss: 4.7816e-04 - val_root_mean_squared_error: 0.0219\n",
      "Epoch 98/100\n",
      "604/604 - 16s - loss: 8.2503e-04 - root_mean_squared_error: 0.0287 - val_loss: 4.7397e-04 - val_root_mean_squared_error: 0.0218\n",
      "Epoch 99/100\n",
      "604/604 - 16s - loss: 8.2282e-04 - root_mean_squared_error: 0.0287 - val_loss: 4.5628e-04 - val_root_mean_squared_error: 0.0214\n",
      "Epoch 100/100\n",
      "604/604 - 16s - loss: 8.2071e-04 - root_mean_squared_error: 0.0286 - val_loss: 4.4472e-04 - val_root_mean_squared_error: 0.0211\n"
     ]
    }
   ],
   "source": [
    "import tensorflow as tf\n",
    "from tensorflow import keras\n",
    "from tensorflow.keras import layers\n",
    "from keras.layers import Input,LSTM,Dropout,Dense\n",
    "\n",
    "\n",
    "timesteps = 3\n",
    "# create and fit the LSTM network\n",
    "\n",
    "model = keras.Sequential()\n",
    "model.add(LSTM(100,input_shape=(timesteps,5),return_sequences=True))\n",
    "model.add(Dropout(0.2))\n",
    "model.add(LSTM(100,input_shape=(timesteps,5),return_sequences=True))\n",
    "model.add(Dropout(0.2))\n",
    "model.add(LSTM(100,input_shape=(timesteps,5),return_sequences=False))\n",
    "model.add(Dropout(0.2))\n",
    "model.add(Dense(30,activation='linear'))\n",
    "model.compile(optimizer='rmsprop',loss='mean_squared_error',metrics=[tf.keras.metrics.RootMeanSquaredError()])\n",
    "\n",
    "history = model.fit(train_X, train_Y, epochs=100, batch_size=512, verbose=2, validation_data=(test_X, test_Y))"
   ]
  },
  {
   "cell_type": "code",
   "execution_count": 11,
   "metadata": {},
   "outputs": [],
   "source": [
    "testPredict = model.predict(test_X)"
   ]
  },
  {
   "cell_type": "code",
   "execution_count": 12,
   "metadata": {},
   "outputs": [],
   "source": [
    "newtestPredict = scaler.inverse_transform(testPredict)\n",
    "newtest_Y = scaler.inverse_transform(test_Y)"
   ]
  },
  {
   "cell_type": "code",
   "execution_count": 13,
   "metadata": {},
   "outputs": [
    {
     "name": "stdout",
     "output_type": "stream",
     "text": [
      "Test Score: 0.58729 RMSE\n"
     ]
    }
   ],
   "source": [
    "testScore = sqrt(mean_squared_error(newtest_Y, newtestPredict))\n",
    "print('Test Score: %.5f RMSE' % (testScore))"
   ]
  },
  {
   "cell_type": "code",
   "execution_count": null,
   "metadata": {},
   "outputs": [],
   "source": []
  }
 ],
 "metadata": {
  "kernelspec": {
   "display_name": "Python 3",
   "language": "python",
   "name": "python3"
  },
  "language_info": {
   "codemirror_mode": {
    "name": "ipython",
    "version": 3
   },
   "file_extension": ".py",
   "mimetype": "text/x-python",
   "name": "python",
   "nbconvert_exporter": "python",
   "pygments_lexer": "ipython3",
   "version": "3.8.3"
  }
 },
 "nbformat": 4,
 "nbformat_minor": 4
}
