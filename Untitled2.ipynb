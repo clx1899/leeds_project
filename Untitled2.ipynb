{
 "cells": [
  {
   "cell_type": "code",
   "execution_count": 6,
   "metadata": {},
   "outputs": [],
   "source": [
    "from test import EigenData\n",
    "import numpy as np\n",
    "import scipy.io\n",
    "import h5py\n",
    "from sklearn.preprocessing import MinMaxScaler\n",
    "from sklearn.metrics import mean_squared_error\n",
    "import matplotlib.pyplot as plt\n",
    "import torch\n",
    "%matplotlib inline"
   ]
  },
  {
   "cell_type": "code",
   "execution_count": 7,
   "metadata": {},
   "outputs": [
    {
     "name": "stdout",
     "output_type": "stream",
     "text": [
      "b (5, 33600)\n",
      "(100, 5) (5, 33600)\n",
      "--> (100, 33600)\n",
      "c (5, 33600)\n",
      "(100, 5) (5, 33600)\n",
      "--> (100, 33600)\n",
      "d (5, 33600)\n",
      "(100, 5) (5, 33600)\n",
      "--> (100, 33600)\n",
      "e (5, 33600)\n",
      "(100, 5) (5, 33600)\n",
      "--> (100, 33600)\n",
      "f (5, 33600)\n",
      "(100, 5) (5, 33600)\n",
      "--> (100, 33600)\n",
      "g (6, 33600)\n",
      "(100, 6) (6, 33600)\n",
      "--> (100, 33600)\n",
      "h (5, 33600)\n",
      "(100, 5) (5, 33600)\n",
      "--> (100, 33600)\n",
      "i (6, 33600)\n",
      "(100, 6) (6, 33600)\n",
      "--> (100, 33600)\n",
      "j (5, 33600)\n",
      "(100, 5) (5, 33600)\n",
      "--> (100, 33600)\n",
      "k (5, 33600)\n",
      "(100, 5) (5, 33600)\n",
      "--> (100, 33600)\n",
      "l (5, 33600)\n",
      "(100, 5) (5, 33600)\n",
      "--> (100, 33600)\n",
      "m (5, 33600)\n",
      "(100, 5) (5, 33600)\n",
      "--> (100, 33600)\n",
      "(403200, 100)\n"
     ]
    }
   ],
   "source": [
    "data = EigenData()\n",
    "eigenworms = data.get_eigenworms('EigenWorms.mat')\n",
    "\n",
    "footage = data.get_footage('20150814-All-PNAS2011-DataStitched .mat')\n",
    "newdata = torch.rand(33600,100)\n",
    "for k in footage.keys():\n",
    "    print(k, footage[k].shape)\n",
    "    r = data.reconstruct(footage[k])\n",
    "    print('-->', r.shape)\n",
    "    dataset1 = r.transpose()\n",
    "    newdata = np.concatenate((newdata,dataset1),axis=0)\n",
    "newdata = newdata[33600:,]\n",
    "print(newdata.shape)"
   ]
  },
  {
   "cell_type": "code",
   "execution_count": 8,
   "metadata": {},
   "outputs": [
    {
     "name": "stdout",
     "output_type": "stream",
     "text": [
      "(322011, 100)\n",
      "322011\n"
     ]
    }
   ],
   "source": [
    "data3=newdata[~np.isnan(newdata).any(axis=1)]\n",
    "#d[:,~np.all(np.isnan(d), axis=0)]\n",
    "#data3=footage[k].flatten()\n",
    "data3 = data3.astype('float32')\n",
    "print(data3.shape)\n",
    "print(len(data3))"
   ]
  },
  {
   "cell_type": "code",
   "execution_count": 9,
   "metadata": {},
   "outputs": [],
   "source": [
    "# normalize the dataset\n",
    "scaler = MinMaxScaler(feature_range=(0, 1))\n",
    "data3 = scaler.fit_transform(data3)"
   ]
  },
  {
   "cell_type": "code",
   "execution_count": 10,
   "metadata": {},
   "outputs": [],
   "source": [
    "def create_dataset(dataset, look_back=3):\n",
    "    dataX, dataY = [], []\n",
    "    for i in range(len(dataset) - look_back):\n",
    "        a = dataset[i:(i + look_back)]\n",
    "        dataX.append(a)\n",
    "        dataY.append(dataset[i + look_back])\n",
    "    return np.array(dataX), np.array(dataY)"
   ]
  },
  {
   "cell_type": "code",
   "execution_count": 11,
   "metadata": {},
   "outputs": [
    {
     "name": "stdout",
     "output_type": "stream",
     "text": [
      "(322008, 3, 100)\n",
      "(322008, 100)\n"
     ]
    }
   ],
   "source": [
    "data_X, data_Y = create_dataset(data3)\n",
    "print(data_X.shape)\n",
    "print(data_Y.shape)"
   ]
  },
  {
   "cell_type": "code",
   "execution_count": 12,
   "metadata": {},
   "outputs": [
    {
     "name": "stdout",
     "output_type": "stream",
     "text": [
      "(257606, 3, 100)\n",
      "(257606, 100)\n"
     ]
    }
   ],
   "source": [
    "train_size = int(len(data_X) * 0.8)\n",
    "test_size = len(data_X) - train_size\n",
    "train_X = data_X[:train_size]\n",
    "train_Y = data_Y[:train_size]\n",
    "test_X = data_X[train_size:]\n",
    "test_Y = data_Y[train_size:]\n",
    "\n",
    "print(train_X.shape)\n",
    "print(train_Y.shape)"
   ]
  },
  {
   "cell_type": "code",
   "execution_count": 13,
   "metadata": {},
   "outputs": [
    {
     "name": "stdout",
     "output_type": "stream",
     "text": [
      "Epoch 1/2\n",
      "257606/257606 - 5682s - loss: 7.3541e-04 - accuracy: 0.5498\n",
      "Epoch 2/2\n",
      "257606/257606 - 5465s - loss: 3.4857e-04 - accuracy: 0.6435\n"
     ]
    },
    {
     "data": {
      "text/plain": [
       "<tensorflow.python.keras.callbacks.History at 0x22d7d96beb0>"
      ]
     },
     "execution_count": 13,
     "metadata": {},
     "output_type": "execute_result"
    }
   ],
   "source": [
    "import tensorflow as tf\n",
    "from tensorflow import keras\n",
    "from tensorflow.keras import layers\n",
    "from keras.layers import Input,LSTM,Dropout,Dense\n",
    "\n",
    "\n",
    "\n",
    "# create and fit the LSTM network\n",
    "\n",
    "model = keras.Sequential()\n",
    "model.add(LSTM(260,input_shape=(3,100),return_sequences=True))\n",
    "model.add(Dropout(0.2))\n",
    "model.add(LSTM(260,input_shape=(3,100),return_sequences=True))\n",
    "model.add(Dropout(0.2))\n",
    "model.add(LSTM(260,input_shape=(3,100),return_sequences=True))\n",
    "model.add(Dropout(0.2))\n",
    "model.add(LSTM(260,input_shape=(3,100),return_sequences=False))\n",
    "model.add(Dropout(0.2))\n",
    "model.add(Dense(100,activation='linear'))\n",
    "model.compile(optimizer='rmsprop',loss='mean_squared_error',metrics=['accuracy'])\n",
    "\n",
    "model.fit(train_X, train_Y, epochs=2, batch_size=1, verbose=2)"
   ]
  },
  {
   "cell_type": "code",
   "execution_count": 14,
   "metadata": {},
   "outputs": [],
   "source": [
    "# make predictions\n",
    "trainPredict = model.predict(train_X)\n",
    "testPredict = model.predict(test_X)"
   ]
  },
  {
   "cell_type": "code",
   "execution_count": 15,
   "metadata": {},
   "outputs": [
    {
     "data": {
      "text/plain": [
       "<matplotlib.legend.Legend at 0x22dbab69e80>"
      ]
     },
     "execution_count": 15,
     "metadata": {},
     "output_type": "execute_result"
    },
    {
     "data": {
      "image/png": "[encoded data removed]",
      "text/plain": [
       "<Figure size 432x288 with 1 Axes>"
      ]
     },
     "metadata": {
      "needs_background": "light"
     },
     "output_type": "display_data"
    }
   ],
   "source": [
    "plt.plot(testPredict, 'r', label='prediction')\n",
    "\n",
    "plt.legend(loc='best')"
   ]
  },
  {
   "cell_type": "code",
   "execution_count": 16,
   "metadata": {},
   "outputs": [
    {
     "data": {
      "text/plain": [
       "[<matplotlib.lines.Line2D at 0x22dc33ad1c0>,\n",
       " <matplotlib.lines.Line2D at 0x22dc33ad1f0>,\n",
       " <matplotlib.lines.Line2D at 0x22dc33ad2e0>,\n",
       " <matplotlib.lines.Line2D at 0x22dc33ad3a0>,\n",
       " <matplotlib.lines.Line2D at 0x22dc33ad460>,\n",
       " <matplotlib.lines.Line2D at 0x22dc33ad520>,\n",
       " <matplotlib.lines.Line2D at 0x22dc33ad5e0>,\n",
       " <matplotlib.lines.Line2D at 0x22dc33ad6a0>,\n",
       " <matplotlib.lines.Line2D at 0x22dc33ad760>,\n",
       " <matplotlib.lines.Line2D at 0x22dc33ad820>,\n",
       " <matplotlib.lines.Line2D at 0x22dc33ad8e0>,\n",
       " <matplotlib.lines.Line2D at 0x22dc33ad9a0>,\n",
       " <matplotlib.lines.Line2D at 0x22dc33ada60>,\n",
       " <matplotlib.lines.Line2D at 0x22dc33adb20>,\n",
       " <matplotlib.lines.Line2D at 0x22dc33adbe0>,\n",
       " <matplotlib.lines.Line2D at 0x22dc33adca0>,\n",
       " <matplotlib.lines.Line2D at 0x22dc33add60>,\n",
       " <matplotlib.lines.Line2D at 0x22dc33ade20>,\n",
       " <matplotlib.lines.Line2D at 0x22dc33adee0>,\n",
       " <matplotlib.lines.Line2D at 0x22dc33adfa0>,\n",
       " <matplotlib.lines.Line2D at 0x22dc33b30a0>,\n",
       " <matplotlib.lines.Line2D at 0x22dc33b3160>,\n",
       " <matplotlib.lines.Line2D at 0x22dc33b3220>,\n",
       " <matplotlib.lines.Line2D at 0x22dc33b32e0>,\n",
       " <matplotlib.lines.Line2D at 0x22dc33b33a0>,\n",
       " <matplotlib.lines.Line2D at 0x22dc33b3460>,\n",
       " <matplotlib.lines.Line2D at 0x22dc33b3520>,\n",
       " <matplotlib.lines.Line2D at 0x22dc33b35e0>,\n",
       " <matplotlib.lines.Line2D at 0x22dc33b36a0>,\n",
       " <matplotlib.lines.Line2D at 0x22dc33b3760>,\n",
       " <matplotlib.lines.Line2D at 0x22dc33b3820>,\n",
       " <matplotlib.lines.Line2D at 0x22dc33b38e0>,\n",
       " <matplotlib.lines.Line2D at 0x22dc33b39a0>,\n",
       " <matplotlib.lines.Line2D at 0x22dc33b3a60>,\n",
       " <matplotlib.lines.Line2D at 0x22dc33b3b20>,\n",
       " <matplotlib.lines.Line2D at 0x22dc33b3be0>,\n",
       " <matplotlib.lines.Line2D at 0x22dc33b3ca0>,\n",
       " <matplotlib.lines.Line2D at 0x22dc33b3d60>,\n",
       " <matplotlib.lines.Line2D at 0x22dc33b3e20>,\n",
       " <matplotlib.lines.Line2D at 0x22dc33b3ee0>,\n",
       " <matplotlib.lines.Line2D at 0x22dc33b3fa0>,\n",
       " <matplotlib.lines.Line2D at 0x22dc33ba0a0>,\n",
       " <matplotlib.lines.Line2D at 0x22dc33ba160>,\n",
       " <matplotlib.lines.Line2D at 0x22dc33ba220>,\n",
       " <matplotlib.lines.Line2D at 0x22dc33ba2e0>,\n",
       " <matplotlib.lines.Line2D at 0x22dc33ba3a0>,\n",
       " <matplotlib.lines.Line2D at 0x22dc33ba460>,\n",
       " <matplotlib.lines.Line2D at 0x22dc33ba520>,\n",
       " <matplotlib.lines.Line2D at 0x22dc33ba5e0>,\n",
       " <matplotlib.lines.Line2D at 0x22dc33ba6a0>,\n",
       " <matplotlib.lines.Line2D at 0x22dc33ba760>,\n",
       " <matplotlib.lines.Line2D at 0x22dc33ba820>,\n",
       " <matplotlib.lines.Line2D at 0x22dc33ba8e0>,\n",
       " <matplotlib.lines.Line2D at 0x22dc33ba9a0>,\n",
       " <matplotlib.lines.Line2D at 0x22dc33baa60>,\n",
       " <matplotlib.lines.Line2D at 0x22dc33bab20>,\n",
       " <matplotlib.lines.Line2D at 0x22dc33babe0>,\n",
       " <matplotlib.lines.Line2D at 0x22dc33baca0>,\n",
       " <matplotlib.lines.Line2D at 0x22dc33bad60>,\n",
       " <matplotlib.lines.Line2D at 0x22dc33bae20>,\n",
       " <matplotlib.lines.Line2D at 0x22dc33baee0>,\n",
       " <matplotlib.lines.Line2D at 0x22dc33bafa0>,\n",
       " <matplotlib.lines.Line2D at 0x22dc33c20a0>,\n",
       " <matplotlib.lines.Line2D at 0x22dc33c2160>,\n",
       " <matplotlib.lines.Line2D at 0x22dc33c2220>,\n",
       " <matplotlib.lines.Line2D at 0x22dc33c22e0>,\n",
       " <matplotlib.lines.Line2D at 0x22dc33c23a0>,\n",
       " <matplotlib.lines.Line2D at 0x22dc33c2460>,\n",
       " <matplotlib.lines.Line2D at 0x22dc33c2520>,\n",
       " <matplotlib.lines.Line2D at 0x22dc33c25e0>,\n",
       " <matplotlib.lines.Line2D at 0x22dc33c26a0>,\n",
       " <matplotlib.lines.Line2D at 0x22dc33c2760>,\n",
       " <matplotlib.lines.Line2D at 0x22dc33c2820>,\n",
       " <matplotlib.lines.Line2D at 0x22dc33c28e0>,\n",
       " <matplotlib.lines.Line2D at 0x22dc33c29a0>,\n",
       " <matplotlib.lines.Line2D at 0x22dc33c2a60>,\n",
       " <matplotlib.lines.Line2D at 0x22dc33c2b20>,\n",
       " <matplotlib.lines.Line2D at 0x22dc33c2be0>,\n",
       " <matplotlib.lines.Line2D at 0x22dc33c2ca0>,\n",
       " <matplotlib.lines.Line2D at 0x22dc33c2d60>,\n",
       " <matplotlib.lines.Line2D at 0x22dc33c2e20>,\n",
       " <matplotlib.lines.Line2D at 0x22dc33c2ee0>,\n",
       " <matplotlib.lines.Line2D at 0x22dc33c2fa0>,\n",
       " <matplotlib.lines.Line2D at 0x22dc33c90a0>,\n",
       " <matplotlib.lines.Line2D at 0x22dc33c9160>,\n",
       " <matplotlib.lines.Line2D at 0x22dc33c9220>,\n",
       " <matplotlib.lines.Line2D at 0x22dc33c92e0>,\n",
       " <matplotlib.lines.Line2D at 0x22dc33c93a0>,\n",
       " <matplotlib.lines.Line2D at 0x22dc33c9460>,\n",
       " <matplotlib.lines.Line2D at 0x22dc33c9520>,\n",
       " <matplotlib.lines.Line2D at 0x22dc33c95e0>,\n",
       " <matplotlib.lines.Line2D at 0x22dc33c96a0>,\n",
       " <matplotlib.lines.Line2D at 0x22dc33c9760>,\n",
       " <matplotlib.lines.Line2D at 0x22dc33c9820>,\n",
       " <matplotlib.lines.Line2D at 0x22dc33c98e0>,\n",
       " <matplotlib.lines.Line2D at 0x22dc33c99a0>,\n",
       " <matplotlib.lines.Line2D at 0x22dc33c9a60>,\n",
       " <matplotlib.lines.Line2D at 0x22dc33c9b20>,\n",
       " <matplotlib.lines.Line2D at 0x22dc33c9be0>,\n",
       " <matplotlib.lines.Line2D at 0x22dc33c9ca0>]"
      ]
     },
     "execution_count": 16,
     "metadata": {},
     "output_type": "execute_result"
    },
    {
     "data": {
      "image/png": "[encoded data removed]",
      "text/plain": [
       "<Figure size 432x288 with 1 Axes>"
      ]
     },
     "metadata": {
      "needs_background": "light"
     },
     "output_type": "display_data"
    }
   ],
   "source": [
    "plt.plot(test_Y, 'b', label='real')"
   ]
  },
  {
   "cell_type": "code",
   "execution_count": null,
   "metadata": {},
   "outputs": [],
   "source": []
  }
 ],
 "metadata": {
  "kernelspec": {
   "display_name": "Python 3",
   "language": "python",
   "name": "python3"
  },
  "language_info": {
   "codemirror_mode": {
    "name": "ipython",
    "version": 3
   },
   "file_extension": ".py",
   "mimetype": "text/x-python",
   "name": "python",
   "nbconvert_exporter": "python",
   "pygments_lexer": "ipython3",
   "version": "3.8.3"
  }
 },
 "nbformat": 4,
 "nbformat_minor": 4
}
