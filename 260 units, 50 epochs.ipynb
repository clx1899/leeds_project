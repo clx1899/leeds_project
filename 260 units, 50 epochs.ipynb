{
 "cells": [
  {
   "cell_type": "code",
   "execution_count": 1,
   "metadata": {},
   "outputs": [],
   "source": [
    "from test import EigenData\n",
    "import numpy as np\n",
    "import scipy.io\n",
    "import h5py\n",
    "from sklearn.preprocessing import MinMaxScaler\n",
    "from sklearn.metrics import mean_squared_error\n",
    "from math import sqrt\n",
    "import matplotlib.pyplot as plt\n",
    "from mpl_toolkits.axes_grid1 import make_axes_locatable\n",
    "import torch\n",
    "%matplotlib inline"
   ]
  },
  {
   "cell_type": "code",
   "execution_count": 2,
   "metadata": {},
   "outputs": [
    {
     "name": "stdout",
     "output_type": "stream",
     "text": [
      "b (5, 33600)\n",
      "(100, 5) (5, 33600)\n",
      "--> (100, 33600)\n",
      "c (5, 33600)\n",
      "(100, 5) (5, 33600)\n",
      "--> (100, 33600)\n",
      "d (5, 33600)\n",
      "(100, 5) (5, 33600)\n",
      "--> (100, 33600)\n",
      "e (5, 33600)\n",
      "(100, 5) (5, 33600)\n",
      "--> (100, 33600)\n",
      "f (5, 33600)\n",
      "(100, 5) (5, 33600)\n",
      "--> (100, 33600)\n",
      "g (6, 33600)\n",
      "(100, 6) (6, 33600)\n",
      "--> (100, 33600)\n",
      "h (5, 33600)\n",
      "(100, 5) (5, 33600)\n",
      "--> (100, 33600)\n",
      "i (6, 33600)\n",
      "(100, 6) (6, 33600)\n",
      "--> (100, 33600)\n",
      "j (5, 33600)\n",
      "(100, 5) (5, 33600)\n",
      "--> (100, 33600)\n",
      "k (5, 33600)\n",
      "(100, 5) (5, 33600)\n",
      "--> (100, 33600)\n",
      "l (5, 33600)\n",
      "(100, 5) (5, 33600)\n",
      "--> (100, 33600)\n",
      "m (5, 33600)\n",
      "(100, 5) (5, 33600)\n",
      "--> (100, 33600)\n",
      "(403200, 5)\n"
     ]
    }
   ],
   "source": [
    "data = EigenData()\n",
    "eigenworms = data.get_eigenworms('EigenWorms.mat')\n",
    "\n",
    "footage = data.get_footage('20150814-All-PNAS2011-DataStitched .mat')\n",
    "newdata = torch.rand(33600,5)\n",
    "for k in footage.keys():\n",
    "    print(k, footage[k].shape)\n",
    "    arr1=footage[k]\n",
    "\n",
    "    arr2=arr1[:5,]\n",
    "\n",
    "    r = data.reconstruct(footage[k])\n",
    "    print('-->', r.shape)\n",
    "    dataset1 = arr2.transpose()\n",
    "\n",
    "    newdata = np.concatenate((newdata,dataset1),axis=0)\n",
    "newdata = newdata[33600:,]\n",
    "print(newdata.shape)"
   ]
  },
  {
   "cell_type": "code",
   "execution_count": 3,
   "metadata": {},
   "outputs": [],
   "source": [
    "first_5_eigenworms = eigenworms[0:5,:]\n",
    "eig_worm_0 = eigenworms[0,:]\n",
    "eig_worm_1 = eigenworms[1,:]\n",
    "eig_worm_2 = eigenworms[2,:]\n",
    "eig_worm_3 = eigenworms[3,:]\n",
    "eig_worm_4 = eigenworms[4,:]"
   ]
  },
  {
   "cell_type": "code",
   "execution_count": 4,
   "metadata": {},
   "outputs": [
    {
     "name": "stdout",
     "output_type": "stream",
     "text": [
      "(386422, 5)\n",
      "386422\n"
     ]
    }
   ],
   "source": [
    "data1=newdata[~np.isnan(newdata).any(axis=1)]\n",
    "data1 = data1.astype('float32')\n",
    "print(data1.shape)\n",
    "print(len(data1))"
   ]
  },
  {
   "cell_type": "code",
   "execution_count": 5,
   "metadata": {},
   "outputs": [],
   "source": [
    "scaler = MinMaxScaler(feature_range=(0, 1))\n",
    "data1 = scaler.fit_transform(data1)"
   ]
  },
  {
   "cell_type": "code",
   "execution_count": 6,
   "metadata": {},
   "outputs": [],
   "source": [
    "def create_dataset(dataset, look_back=5):\n",
    "    dataX, dataY = [], []\n",
    "    for i in range(len(dataset) - look_back):\n",
    "        a = dataset[i:(i + look_back)]\n",
    "        dataX.append(a)\n",
    "        dataY.append(dataset[i + look_back])\n",
    "    return np.array(dataX), np.array(dataY)"
   ]
  },
  {
   "cell_type": "code",
   "execution_count": 7,
   "metadata": {},
   "outputs": [
    {
     "name": "stdout",
     "output_type": "stream",
     "text": [
      "(386417, 5, 5)\n",
      "(386417, 5)\n"
     ]
    }
   ],
   "source": [
    "data_X, data_Y = create_dataset(data1)\n",
    "\n",
    "print(data_X.shape)\n",
    "print(data_Y.shape)"
   ]
  },
  {
   "cell_type": "code",
   "execution_count": 8,
   "metadata": {},
   "outputs": [
    {
     "name": "stdout",
     "output_type": "stream",
     "text": [
      "(309133, 5, 5)\n",
      "(309133, 5)\n",
      "(77284, 5, 5)\n",
      "(77284, 5)\n"
     ]
    }
   ],
   "source": [
    "train_size = int(len(data_X) * 0.8)\n",
    "test_size = len(data_X) - train_size\n",
    "train_X = data_X[:train_size]\n",
    "train_Y = data_Y[:train_size]\n",
    "test_X = data_X[train_size:]\n",
    "test_Y = data_Y[train_size:]\n",
    "\n",
    "print(train_X.shape)\n",
    "print(train_Y.shape)\n",
    "print(test_X.shape)\n",
    "print(test_Y.shape)"
   ]
  },
  {
   "cell_type": "code",
   "execution_count": 9,
   "metadata": {},
   "outputs": [
    {
     "name": "stdout",
     "output_type": "stream",
     "text": [
      "Epoch 1/50\n",
      "604/604 - 153s - loss: 0.0098 - root_mean_squared_error: 0.0991 - val_loss: 0.0014 - val_root_mean_squared_error: 0.0377\n",
      "Epoch 2/50\n",
      "604/604 - 145s - loss: 0.0025 - root_mean_squared_error: 0.0495 - val_loss: 7.3453e-04 - val_root_mean_squared_error: 0.0271\n",
      "Epoch 3/50\n",
      "604/604 - 148s - loss: 0.0015 - root_mean_squared_error: 0.0389 - val_loss: 6.2402e-04 - val_root_mean_squared_error: 0.0250\n",
      "Epoch 4/50\n",
      "604/604 - 148s - loss: 0.0012 - root_mean_squared_error: 0.0342 - val_loss: 7.2217e-04 - val_root_mean_squared_error: 0.0269\n",
      "Epoch 5/50\n",
      "604/604 - 142s - loss: 9.7756e-04 - root_mean_squared_error: 0.0313 - val_loss: 5.2930e-04 - val_root_mean_squared_error: 0.0230\n",
      "Epoch 6/50\n",
      "604/604 - 143s - loss: 8.4730e-04 - root_mean_squared_error: 0.0291 - val_loss: 3.7789e-04 - val_root_mean_squared_error: 0.0194\n",
      "Epoch 7/50\n",
      "604/604 - 140s - loss: 7.5356e-04 - root_mean_squared_error: 0.0275 - val_loss: 4.5854e-04 - val_root_mean_squared_error: 0.0214\n",
      "Epoch 8/50\n",
      "604/604 - 142s - loss: 6.7853e-04 - root_mean_squared_error: 0.0260 - val_loss: 4.3479e-04 - val_root_mean_squared_error: 0.0209\n",
      "Epoch 9/50\n",
      "604/604 - 146s - loss: 6.1727e-04 - root_mean_squared_error: 0.0248 - val_loss: 2.3703e-04 - val_root_mean_squared_error: 0.0154\n",
      "Epoch 10/50\n",
      "604/604 - 158s - loss: 5.6716e-04 - root_mean_squared_error: 0.0238 - val_loss: 2.4353e-04 - val_root_mean_squared_error: 0.0156\n",
      "Epoch 11/50\n",
      "604/604 - 159s - loss: 5.2161e-04 - root_mean_squared_error: 0.0228 - val_loss: 1.6165e-04 - val_root_mean_squared_error: 0.0127\n",
      "Epoch 12/50\n",
      "604/604 - 148s - loss: 4.8162e-04 - root_mean_squared_error: 0.0219 - val_loss: 2.3982e-04 - val_root_mean_squared_error: 0.0155\n",
      "Epoch 13/50\n",
      "604/604 - 148s - loss: 4.4669e-04 - root_mean_squared_error: 0.0211 - val_loss: 1.4555e-04 - val_root_mean_squared_error: 0.0121\n",
      "Epoch 14/50\n",
      "604/604 - 148s - loss: 4.1528e-04 - root_mean_squared_error: 0.0204 - val_loss: 2.3258e-04 - val_root_mean_squared_error: 0.0153\n",
      "Epoch 15/50\n",
      "604/604 - 148s - loss: 3.8682e-04 - root_mean_squared_error: 0.0197 - val_loss: 1.0820e-04 - val_root_mean_squared_error: 0.0104\n",
      "Epoch 16/50\n",
      "604/604 - 147s - loss: 3.6396e-04 - root_mean_squared_error: 0.0191 - val_loss: 2.2106e-04 - val_root_mean_squared_error: 0.0149\n",
      "Epoch 17/50\n",
      "604/604 - 144s - loss: 3.4201e-04 - root_mean_squared_error: 0.0185 - val_loss: 1.4213e-04 - val_root_mean_squared_error: 0.0119\n",
      "Epoch 18/50\n",
      "604/604 - 147s - loss: 3.2361e-04 - root_mean_squared_error: 0.0180 - val_loss: 1.5201e-04 - val_root_mean_squared_error: 0.0123\n",
      "Epoch 19/50\n",
      "604/604 - 148s - loss: 3.0894e-04 - root_mean_squared_error: 0.0176 - val_loss: 1.3423e-04 - val_root_mean_squared_error: 0.0116\n",
      "Epoch 20/50\n",
      "604/604 - 142s - loss: 2.9520e-04 - root_mean_squared_error: 0.0172 - val_loss: 1.2050e-04 - val_root_mean_squared_error: 0.0110\n",
      "Epoch 21/50\n",
      "604/604 - 145s - loss: 2.8422e-04 - root_mean_squared_error: 0.0169 - val_loss: 1.1737e-04 - val_root_mean_squared_error: 0.0108\n",
      "Epoch 22/50\n",
      "604/604 - 144s - loss: 2.7446e-04 - root_mean_squared_error: 0.0166 - val_loss: 1.2664e-04 - val_root_mean_squared_error: 0.0113\n",
      "Epoch 23/50\n",
      "604/604 - 140s - loss: 2.6796e-04 - root_mean_squared_error: 0.0164 - val_loss: 1.1133e-04 - val_root_mean_squared_error: 0.0106\n",
      "Epoch 24/50\n",
      "604/604 - 140s - loss: 2.6164e-04 - root_mean_squared_error: 0.0162 - val_loss: 1.4308e-04 - val_root_mean_squared_error: 0.0120\n",
      "Epoch 25/50\n",
      "604/604 - 145s - loss: 2.5644e-04 - root_mean_squared_error: 0.0160 - val_loss: 1.1741e-04 - val_root_mean_squared_error: 0.0108\n",
      "Epoch 26/50\n",
      "604/604 - 145s - loss: 2.5164e-04 - root_mean_squared_error: 0.0159 - val_loss: 1.3251e-04 - val_root_mean_squared_error: 0.0115\n",
      "Epoch 27/50\n",
      "604/604 - 146s - loss: 2.4737e-04 - root_mean_squared_error: 0.0157 - val_loss: 1.5156e-04 - val_root_mean_squared_error: 0.0123\n",
      "Epoch 28/50\n",
      "604/604 - 144s - loss: 2.4274e-04 - root_mean_squared_error: 0.0156 - val_loss: 1.0734e-04 - val_root_mean_squared_error: 0.0104\n",
      "Epoch 29/50\n",
      "604/604 - 148s - loss: 2.3985e-04 - root_mean_squared_error: 0.0155 - val_loss: 1.2392e-04 - val_root_mean_squared_error: 0.0111\n",
      "Epoch 30/50\n",
      "604/604 - 148s - loss: 2.3622e-04 - root_mean_squared_error: 0.0154 - val_loss: 1.0917e-04 - val_root_mean_squared_error: 0.0104\n",
      "Epoch 31/50\n",
      "604/604 - 180s - loss: 2.3294e-04 - root_mean_squared_error: 0.0153 - val_loss: 7.5003e-05 - val_root_mean_squared_error: 0.0087\n",
      "Epoch 32/50\n",
      "604/604 - 177s - loss: 2.3040e-04 - root_mean_squared_error: 0.0152 - val_loss: 9.4366e-05 - val_root_mean_squared_error: 0.0097\n",
      "Epoch 33/50\n",
      "604/604 - 157s - loss: 2.2751e-04 - root_mean_squared_error: 0.0151 - val_loss: 9.1641e-05 - val_root_mean_squared_error: 0.0096\n",
      "Epoch 34/50\n",
      "604/604 - 182s - loss: 2.2421e-04 - root_mean_squared_error: 0.0150 - val_loss: 6.9159e-05 - val_root_mean_squared_error: 0.0083\n",
      "Epoch 35/50\n",
      "604/604 - 191s - loss: 2.2274e-04 - root_mean_squared_error: 0.0149 - val_loss: 1.1885e-04 - val_root_mean_squared_error: 0.0109\n",
      "Epoch 36/50\n",
      "604/604 - 192s - loss: 2.1948e-04 - root_mean_squared_error: 0.0148 - val_loss: 9.9163e-05 - val_root_mean_squared_error: 0.0100\n",
      "Epoch 37/50\n",
      "604/604 - 174s - loss: 2.1705e-04 - root_mean_squared_error: 0.0147 - val_loss: 6.0082e-05 - val_root_mean_squared_error: 0.0078\n",
      "Epoch 38/50\n",
      "604/604 - 173s - loss: 2.1589e-04 - root_mean_squared_error: 0.0147 - val_loss: 9.2470e-05 - val_root_mean_squared_error: 0.0096\n",
      "Epoch 39/50\n",
      "604/604 - 171s - loss: 2.1352e-04 - root_mean_squared_error: 0.0146 - val_loss: 1.0518e-04 - val_root_mean_squared_error: 0.0103\n",
      "Epoch 40/50\n",
      "604/604 - 189s - loss: 2.1063e-04 - root_mean_squared_error: 0.0145 - val_loss: 8.9613e-05 - val_root_mean_squared_error: 0.0095\n",
      "Epoch 41/50\n",
      "604/604 - 194s - loss: 2.0992e-04 - root_mean_squared_error: 0.0145 - val_loss: 5.0082e-05 - val_root_mean_squared_error: 0.0071\n",
      "Epoch 42/50\n",
      "604/604 - 195s - loss: 2.0672e-04 - root_mean_squared_error: 0.0144 - val_loss: 9.2931e-05 - val_root_mean_squared_error: 0.0096\n",
      "Epoch 43/50\n",
      "604/604 - 172s - loss: 2.0535e-04 - root_mean_squared_error: 0.0143 - val_loss: 9.5005e-05 - val_root_mean_squared_error: 0.0097\n",
      "Epoch 44/50\n",
      "604/604 - 144s - loss: 2.0499e-04 - root_mean_squared_error: 0.0143 - val_loss: 6.6124e-05 - val_root_mean_squared_error: 0.0081\n",
      "Epoch 45/50\n",
      "604/604 - 141s - loss: 2.0258e-04 - root_mean_squared_error: 0.0142 - val_loss: 5.5142e-05 - val_root_mean_squared_error: 0.0074\n",
      "Epoch 46/50\n",
      "604/604 - 142s - loss: 2.0202e-04 - root_mean_squared_error: 0.0142 - val_loss: 8.1115e-05 - val_root_mean_squared_error: 0.0090\n",
      "Epoch 47/50\n",
      "604/604 - 142s - loss: 1.9979e-04 - root_mean_squared_error: 0.0141 - val_loss: 5.9073e-05 - val_root_mean_squared_error: 0.0077\n",
      "Epoch 48/50\n",
      "604/604 - 141s - loss: 1.9773e-04 - root_mean_squared_error: 0.0141 - val_loss: 5.2002e-05 - val_root_mean_squared_error: 0.0072\n",
      "Epoch 49/50\n",
      "604/604 - 141s - loss: 1.9732e-04 - root_mean_squared_error: 0.0140 - val_loss: 4.4779e-05 - val_root_mean_squared_error: 0.0067\n",
      "Epoch 50/50\n",
      "604/604 - 141s - loss: 1.9535e-04 - root_mean_squared_error: 0.0140 - val_loss: 8.1162e-05 - val_root_mean_squared_error: 0.0090\n"
     ]
    }
   ],
   "source": [
    "import tensorflow as tf\n",
    "from tensorflow import keras\n",
    "from tensorflow.keras import layers\n",
    "from keras.layers import Input,LSTM,Dropout,Dense\n",
    "\n",
    "\n",
    "\n",
    "# create and fit the LSTM network\n",
    "\n",
    "model = keras.Sequential()\n",
    "model.add(LSTM(260,input_shape=(5,5),return_sequences=True))\n",
    "model.add(Dropout(0.2))\n",
    "model.add(LSTM(260,input_shape=(5,5),return_sequences=True))\n",
    "model.add(Dropout(0.2))\n",
    "model.add(LSTM(260,input_shape=(5,5),return_sequences=True))\n",
    "model.add(Dropout(0.2))\n",
    "model.add(LSTM(260,input_shape=(5,5),return_sequences=False))\n",
    "model.add(Dropout(0.2))\n",
    "model.add(Dense(5,activation='linear'))\n",
    "model.compile(optimizer='rmsprop',loss='mean_squared_error',metrics=[tf.keras.metrics.RootMeanSquaredError()])\n",
    "\n",
    "history = model.fit(train_X, train_Y, epochs=50, batch_size=512, verbose=2, validation_data=(test_X, test_Y))"
   ]
  },
  {
   "cell_type": "code",
   "execution_count": 10,
   "metadata": {},
   "outputs": [
    {
     "data": {
      "image/png": "[encoded data removed]",
      "text/plain": [
       "<Figure size 432x288 with 1 Axes>"
      ]
     },
     "metadata": {
      "needs_background": "light"
     },
     "output_type": "display_data"
    }
   ],
   "source": [
    "epochs=range(len(history.history['loss']))\n",
    "plt.figure()\n",
    "plt.plot(epochs,history.history['loss'],'b',label='Training loss')\n",
    "plt.plot(epochs,history.history['val_loss'],'r',label='Test loss')\n",
    "plt.title('Training and Test loss')\n",
    "plt.legend()\n",
    "plt.show()"
   ]
  },
  {
   "cell_type": "code",
   "execution_count": 11,
   "metadata": {},
   "outputs": [
    {
     "data": {
      "image/png": "[encoded data removed]",
      "text/plain": [
       "<Figure size 432x288 with 1 Axes>"
      ]
     },
     "metadata": {
      "needs_background": "light"
     },
     "output_type": "display_data"
    }
   ],
   "source": [
    "epochs=range(len(history.history['root_mean_squared_error']))\n",
    "plt.figure()\n",
    "plt.plot(epochs,history.history['root_mean_squared_error'],'b',label='Training rmse')\n",
    "plt.plot(epochs,history.history['val_root_mean_squared_error'],'r',label='Test rmse')\n",
    "plt.title('Training and Test rmse')\n",
    "plt.legend()\n",
    "plt.show()"
   ]
  },
  {
   "cell_type": "code",
   "execution_count": 12,
   "metadata": {},
   "outputs": [],
   "source": [
    "testPredict = model.predict(test_X)"
   ]
  },
  {
   "cell_type": "code",
   "execution_count": 13,
   "metadata": {},
   "outputs": [
    {
     "name": "stdout",
     "output_type": "stream",
     "text": [
      "(77284, 5)\n",
      "(77284, 5)\n"
     ]
    }
   ],
   "source": [
    "print(testPredict.shape)\n",
    "print(test_Y.shape)"
   ]
  },
  {
   "cell_type": "code",
   "execution_count": 15,
   "metadata": {},
   "outputs": [],
   "source": [
    "newtestPredict = scaler.inverse_transform(testPredict)\n",
    "newtest_Y = scaler.inverse_transform(test_Y)"
   ]
  },
  {
   "cell_type": "code",
   "execution_count": 16,
   "metadata": {},
   "outputs": [
    {
     "name": "stdout",
     "output_type": "stream",
     "text": [
      "Test Score: 0.27362 RMSE\n"
     ]
    }
   ],
   "source": [
    "testScore = sqrt(mean_squared_error(newtest_Y, newtestPredict))\n",
    "print('Test Score: %.5f RMSE' % (testScore))"
   ]
  },
  {
   "cell_type": "code",
   "execution_count": null,
   "metadata": {},
   "outputs": [],
   "source": []
  }
 ],
 "metadata": {
  "kernelspec": {
   "display_name": "Python 3",
   "language": "python",
   "name": "python3"
  },
  "language_info": {
   "codemirror_mode": {
    "name": "ipython",
    "version": 3
   },
   "file_extension": ".py",
   "mimetype": "text/x-python",
   "name": "python",
   "nbconvert_exporter": "python",
   "pygments_lexer": "ipython3",
   "version": "3.8.3"
  }
 },
 "nbformat": 4,
 "nbformat_minor": 4
}
