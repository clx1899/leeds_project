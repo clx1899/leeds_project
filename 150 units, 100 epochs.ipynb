{
 "cells": [
  {
   "cell_type": "code",
   "execution_count": 1,
   "metadata": {},
   "outputs": [],
   "source": [
    "from test import EigenData\n",
    "import numpy as np\n",
    "import scipy.io\n",
    "import h5py\n",
    "from sklearn.preprocessing import MinMaxScaler\n",
    "from sklearn.metrics import mean_squared_error\n",
    "from math import sqrt\n",
    "import matplotlib.pyplot as plt\n",
    "from mpl_toolkits.axes_grid1 import make_axes_locatable\n",
    "import torch\n",
    "%matplotlib inline"
   ]
  },
  {
   "cell_type": "code",
   "execution_count": 2,
   "metadata": {},
   "outputs": [
    {
     "name": "stdout",
     "output_type": "stream",
     "text": [
      "b (5, 33600)\n",
      "(100, 5) (5, 33600)\n",
      "--> (100, 33600)\n",
      "c (5, 33600)\n",
      "(100, 5) (5, 33600)\n",
      "--> (100, 33600)\n",
      "d (5, 33600)\n",
      "(100, 5) (5, 33600)\n",
      "--> (100, 33600)\n",
      "e (5, 33600)\n",
      "(100, 5) (5, 33600)\n",
      "--> (100, 33600)\n",
      "f (5, 33600)\n",
      "(100, 5) (5, 33600)\n",
      "--> (100, 33600)\n",
      "g (6, 33600)\n",
      "(100, 6) (6, 33600)\n",
      "--> (100, 33600)\n",
      "h (5, 33600)\n",
      "(100, 5) (5, 33600)\n",
      "--> (100, 33600)\n",
      "i (6, 33600)\n",
      "(100, 6) (6, 33600)\n",
      "--> (100, 33600)\n",
      "j (5, 33600)\n",
      "(100, 5) (5, 33600)\n",
      "--> (100, 33600)\n",
      "k (5, 33600)\n",
      "(100, 5) (5, 33600)\n",
      "--> (100, 33600)\n",
      "l (5, 33600)\n",
      "(100, 5) (5, 33600)\n",
      "--> (100, 33600)\n",
      "m (5, 33600)\n",
      "(100, 5) (5, 33600)\n",
      "--> (100, 33600)\n",
      "(403200, 5)\n"
     ]
    }
   ],
   "source": [
    "data = EigenData()\n",
    "eigenworms = data.get_eigenworms('EigenWorms.mat')\n",
    "\n",
    "footage = data.get_footage('20150814-All-PNAS2011-DataStitched .mat')\n",
    "newdata = torch.rand(33600,5)\n",
    "for k in footage.keys():\n",
    "    print(k, footage[k].shape)\n",
    "    arr1=footage[k]\n",
    "\n",
    "    arr2=arr1[:5,]\n",
    "\n",
    "    r = data.reconstruct(footage[k])\n",
    "    print('-->', r.shape)\n",
    "    dataset1 = arr2.transpose()\n",
    "\n",
    "    newdata = np.concatenate((newdata,dataset1),axis=0)\n",
    "newdata = newdata[33600:,]\n",
    "print(newdata.shape)"
   ]
  },
  {
   "cell_type": "code",
   "execution_count": 3,
   "metadata": {},
   "outputs": [],
   "source": [
    "first_5_eigenworms = eigenworms[0:5,:]\n",
    "eig_worm_0 = eigenworms[0,:]\n",
    "eig_worm_1 = eigenworms[1,:]\n",
    "eig_worm_2 = eigenworms[2,:]\n",
    "eig_worm_3 = eigenworms[3,:]\n",
    "eig_worm_4 = eigenworms[4,:]"
   ]
  },
  {
   "cell_type": "code",
   "execution_count": 4,
   "metadata": {},
   "outputs": [
    {
     "name": "stdout",
     "output_type": "stream",
     "text": [
      "(386422, 5)\n",
      "386422\n"
     ]
    }
   ],
   "source": [
    "data1=newdata[~np.isnan(newdata).any(axis=1)]\n",
    "data1 = data1.astype('float32')\n",
    "print(data1.shape)\n",
    "print(len(data1))"
   ]
  },
  {
   "cell_type": "code",
   "execution_count": 5,
   "metadata": {},
   "outputs": [],
   "source": [
    "scaler = MinMaxScaler(feature_range=(0, 1))\n",
    "data1 = scaler.fit_transform(data1)"
   ]
  },
  {
   "cell_type": "code",
   "execution_count": 6,
   "metadata": {},
   "outputs": [],
   "source": [
    "def create_dataset(dataset, look_back=5):\n",
    "    dataX, dataY = [], []\n",
    "    for i in range(len(dataset) - look_back):\n",
    "        a = dataset[i:(i + look_back)]\n",
    "        dataX.append(a)\n",
    "        dataY.append(dataset[i + look_back])\n",
    "    return np.array(dataX), np.array(dataY)"
   ]
  },
  {
   "cell_type": "code",
   "execution_count": 7,
   "metadata": {},
   "outputs": [
    {
     "name": "stdout",
     "output_type": "stream",
     "text": [
      "(386417, 5, 5)\n",
      "(386417, 5)\n"
     ]
    }
   ],
   "source": [
    "data_X, data_Y = create_dataset(data1)\n",
    "\n",
    "print(data_X.shape)\n",
    "print(data_Y.shape)"
   ]
  },
  {
   "cell_type": "code",
   "execution_count": 8,
   "metadata": {},
   "outputs": [
    {
     "name": "stdout",
     "output_type": "stream",
     "text": [
      "(309133, 5, 5)\n",
      "(309133, 5)\n",
      "(77284, 5, 5)\n",
      "(77284, 5)\n"
     ]
    }
   ],
   "source": [
    "train_size = int(len(data_X) * 0.8)\n",
    "test_size = len(data_X) - train_size\n",
    "train_X = data_X[:train_size]\n",
    "train_Y = data_Y[:train_size]\n",
    "test_X = data_X[train_size:]\n",
    "test_Y = data_Y[train_size:]\n",
    "\n",
    "print(train_X.shape)\n",
    "print(train_Y.shape)\n",
    "print(test_X.shape)\n",
    "print(test_Y.shape)"
   ]
  },
  {
   "cell_type": "code",
   "execution_count": 9,
   "metadata": {},
   "outputs": [
    {
     "name": "stdout",
     "output_type": "stream",
     "text": [
      "Epoch 1/100\n",
      "604/604 - 75s - loss: 0.0100 - root_mean_squared_error: 0.1001 - val_loss: 0.0049 - val_root_mean_squared_error: 0.0701\n",
      "Epoch 2/100\n",
      "604/604 - 66s - loss: 0.0030 - root_mean_squared_error: 0.0548 - val_loss: 0.0013 - val_root_mean_squared_error: 0.0364\n",
      "Epoch 3/100\n",
      "604/604 - 66s - loss: 0.0017 - root_mean_squared_error: 0.0408 - val_loss: 7.8228e-04 - val_root_mean_squared_error: 0.0280\n",
      "Epoch 4/100\n",
      "604/604 - 67s - loss: 0.0013 - root_mean_squared_error: 0.0355 - val_loss: 2.9950e-04 - val_root_mean_squared_error: 0.0173\n",
      "Epoch 5/100\n",
      "604/604 - 67s - loss: 0.0010 - root_mean_squared_error: 0.0322 - val_loss: 5.9049e-04 - val_root_mean_squared_error: 0.0243\n",
      "Epoch 6/100\n",
      "604/604 - 67s - loss: 8.8846e-04 - root_mean_squared_error: 0.0298 - val_loss: 3.0629e-04 - val_root_mean_squared_error: 0.0175\n",
      "Epoch 7/100\n",
      "604/604 - 69s - loss: 7.7865e-04 - root_mean_squared_error: 0.0279 - val_loss: 2.0238e-04 - val_root_mean_squared_error: 0.0142\n",
      "Epoch 8/100\n",
      "604/604 - 66s - loss: 6.9096e-04 - root_mean_squared_error: 0.0263 - val_loss: 2.1757e-04 - val_root_mean_squared_error: 0.0148\n",
      "Epoch 9/100\n",
      "604/604 - 67s - loss: 6.1722e-04 - root_mean_squared_error: 0.0248 - val_loss: 2.9341e-04 - val_root_mean_squared_error: 0.0171\n",
      "Epoch 10/100\n",
      "604/604 - 76s - loss: 5.6148e-04 - root_mean_squared_error: 0.0237 - val_loss: 2.0782e-04 - val_root_mean_squared_error: 0.0144\n",
      "Epoch 11/100\n",
      "604/604 - 85s - loss: 5.1317e-04 - root_mean_squared_error: 0.0227 - val_loss: 1.5309e-04 - val_root_mean_squared_error: 0.0124\n",
      "Epoch 12/100\n",
      "604/604 - 88s - loss: 4.7498e-04 - root_mean_squared_error: 0.0218 - val_loss: 2.1142e-04 - val_root_mean_squared_error: 0.0145\n",
      "Epoch 13/100\n",
      "604/604 - 88s - loss: 4.4271e-04 - root_mean_squared_error: 0.0210 - val_loss: 1.2598e-04 - val_root_mean_squared_error: 0.0112\n",
      "Epoch 14/100\n",
      "604/604 - 66s - loss: 4.1650e-04 - root_mean_squared_error: 0.0204 - val_loss: 1.9061e-04 - val_root_mean_squared_error: 0.0138\n",
      "Epoch 15/100\n",
      "604/604 - 80s - loss: 3.9719e-04 - root_mean_squared_error: 0.0199 - val_loss: 2.1141e-04 - val_root_mean_squared_error: 0.0145\n",
      "Epoch 16/100\n",
      "604/604 - 93s - loss: 3.8344e-04 - root_mean_squared_error: 0.0196 - val_loss: 1.4842e-04 - val_root_mean_squared_error: 0.0122\n",
      "Epoch 17/100\n",
      "604/604 - 94s - loss: 3.7053e-04 - root_mean_squared_error: 0.0192 - val_loss: 1.2989e-04 - val_root_mean_squared_error: 0.0114\n",
      "Epoch 18/100\n",
      "604/604 - 96s - loss: 3.6207e-04 - root_mean_squared_error: 0.0190 - val_loss: 1.3478e-04 - val_root_mean_squared_error: 0.0116\n",
      "Epoch 19/100\n",
      "604/604 - 96s - loss: 3.5343e-04 - root_mean_squared_error: 0.0188 - val_loss: 1.3720e-04 - val_root_mean_squared_error: 0.0117\n",
      "Epoch 20/100\n",
      "604/604 - 95s - loss: 3.4838e-04 - root_mean_squared_error: 0.0187 - val_loss: 1.0847e-04 - val_root_mean_squared_error: 0.0104\n",
      "Epoch 21/100\n",
      "604/604 - 90s - loss: 3.4110e-04 - root_mean_squared_error: 0.0185 - val_loss: 8.2706e-05 - val_root_mean_squared_error: 0.0091\n",
      "Epoch 22/100\n",
      "604/604 - 67s - loss: 3.3594e-04 - root_mean_squared_error: 0.0183 - val_loss: 1.1618e-04 - val_root_mean_squared_error: 0.0108\n",
      "Epoch 23/100\n",
      "604/604 - 66s - loss: 3.3039e-04 - root_mean_squared_error: 0.0182 - val_loss: 7.9606e-05 - val_root_mean_squared_error: 0.0089\n",
      "Epoch 24/100\n",
      "604/604 - 66s - loss: 3.2629e-04 - root_mean_squared_error: 0.0181 - val_loss: 9.2774e-05 - val_root_mean_squared_error: 0.0096\n",
      "Epoch 25/100\n",
      "604/604 - 66s - loss: 3.2214e-04 - root_mean_squared_error: 0.0179 - val_loss: 1.6815e-04 - val_root_mean_squared_error: 0.0130\n",
      "Epoch 26/100\n",
      "604/604 - 67s - loss: 3.1860e-04 - root_mean_squared_error: 0.0178 - val_loss: 1.0931e-04 - val_root_mean_squared_error: 0.0105\n",
      "Epoch 27/100\n",
      "604/604 - 67s - loss: 3.1415e-04 - root_mean_squared_error: 0.0177 - val_loss: 1.1999e-04 - val_root_mean_squared_error: 0.0110\n",
      "Epoch 28/100\n",
      "604/604 - 66s - loss: 3.1202e-04 - root_mean_squared_error: 0.0177 - val_loss: 1.2822e-04 - val_root_mean_squared_error: 0.0113\n",
      "Epoch 29/100\n",
      "604/604 - 66s - loss: 3.0727e-04 - root_mean_squared_error: 0.0175 - val_loss: 8.8279e-05 - val_root_mean_squared_error: 0.0094\n",
      "Epoch 30/100\n",
      "604/604 - 67s - loss: 3.0496e-04 - root_mean_squared_error: 0.0175 - val_loss: 8.4504e-05 - val_root_mean_squared_error: 0.0092\n",
      "Epoch 31/100\n",
      "604/604 - 66s - loss: 3.0256e-04 - root_mean_squared_error: 0.0174 - val_loss: 8.5112e-05 - val_root_mean_squared_error: 0.0092\n",
      "Epoch 32/100\n",
      "604/604 - 66s - loss: 2.9960e-04 - root_mean_squared_error: 0.0173 - val_loss: 7.3306e-05 - val_root_mean_squared_error: 0.0086\n",
      "Epoch 33/100\n",
      "604/604 - 66s - loss: 2.9798e-04 - root_mean_squared_error: 0.0173 - val_loss: 9.2095e-05 - val_root_mean_squared_error: 0.0096\n",
      "Epoch 34/100\n",
      "604/604 - 66s - loss: 2.9437e-04 - root_mean_squared_error: 0.0172 - val_loss: 1.2317e-04 - val_root_mean_squared_error: 0.0111\n",
      "Epoch 35/100\n",
      "604/604 - 66s - loss: 2.9170e-04 - root_mean_squared_error: 0.0171 - val_loss: 1.1584e-04 - val_root_mean_squared_error: 0.0108\n",
      "Epoch 36/100\n",
      "604/604 - 66s - loss: 2.8933e-04 - root_mean_squared_error: 0.0170 - val_loss: 9.6234e-05 - val_root_mean_squared_error: 0.0098\n",
      "Epoch 37/100\n",
      "604/604 - 67s - loss: 2.8764e-04 - root_mean_squared_error: 0.0170 - val_loss: 9.0855e-05 - val_root_mean_squared_error: 0.0095\n",
      "Epoch 38/100\n",
      "604/604 - 66s - loss: 2.8624e-04 - root_mean_squared_error: 0.0169 - val_loss: 7.6924e-05 - val_root_mean_squared_error: 0.0088\n",
      "Epoch 39/100\n",
      "604/604 - 66s - loss: 2.8275e-04 - root_mean_squared_error: 0.0168 - val_loss: 7.7628e-05 - val_root_mean_squared_error: 0.0088\n",
      "Epoch 40/100\n",
      "604/604 - 66s - loss: 2.8220e-04 - root_mean_squared_error: 0.0168 - val_loss: 1.1473e-04 - val_root_mean_squared_error: 0.0107\n",
      "Epoch 41/100\n",
      "604/604 - 66s - loss: 2.8070e-04 - root_mean_squared_error: 0.0168 - val_loss: 8.8372e-05 - val_root_mean_squared_error: 0.0094\n",
      "Epoch 42/100\n",
      "604/604 - 66s - loss: 2.7858e-04 - root_mean_squared_error: 0.0167 - val_loss: 7.3902e-05 - val_root_mean_squared_error: 0.0086\n",
      "Epoch 43/100\n",
      "604/604 - 66s - loss: 2.7652e-04 - root_mean_squared_error: 0.0166 - val_loss: 6.1379e-05 - val_root_mean_squared_error: 0.0078\n",
      "Epoch 44/100\n",
      "604/604 - 68s - loss: 2.7530e-04 - root_mean_squared_error: 0.0166 - val_loss: 8.2834e-05 - val_root_mean_squared_error: 0.0091\n",
      "Epoch 45/100\n",
      "604/604 - 66s - loss: 2.7434e-04 - root_mean_squared_error: 0.0166 - val_loss: 9.5987e-05 - val_root_mean_squared_error: 0.0098\n",
      "Epoch 46/100\n",
      "604/604 - 66s - loss: 2.7242e-04 - root_mean_squared_error: 0.0165 - val_loss: 9.4421e-05 - val_root_mean_squared_error: 0.0097\n",
      "Epoch 47/100\n",
      "604/604 - 66s - loss: 2.7038e-04 - root_mean_squared_error: 0.0164 - val_loss: 5.5985e-05 - val_root_mean_squared_error: 0.0075\n",
      "Epoch 48/100\n",
      "604/604 - 74s - loss: 2.6924e-04 - root_mean_squared_error: 0.0164 - val_loss: 7.0840e-05 - val_root_mean_squared_error: 0.0084\n",
      "Epoch 49/100\n",
      "604/604 - 90s - loss: 2.6753e-04 - root_mean_squared_error: 0.0164 - val_loss: 8.7155e-05 - val_root_mean_squared_error: 0.0093\n",
      "Epoch 50/100\n",
      "604/604 - 72s - loss: 2.6729e-04 - root_mean_squared_error: 0.0163 - val_loss: 6.3302e-05 - val_root_mean_squared_error: 0.0080\n",
      "Epoch 51/100\n",
      "604/604 - 89s - loss: 2.6495e-04 - root_mean_squared_error: 0.0163 - val_loss: 1.0453e-04 - val_root_mean_squared_error: 0.0102\n",
      "Epoch 52/100\n",
      "604/604 - 87s - loss: 2.6392e-04 - root_mean_squared_error: 0.0162 - val_loss: 8.7734e-05 - val_root_mean_squared_error: 0.0094\n",
      "Epoch 53/100\n",
      "604/604 - 88s - loss: 2.6266e-04 - root_mean_squared_error: 0.0162 - val_loss: 7.7965e-05 - val_root_mean_squared_error: 0.0088\n",
      "Epoch 54/100\n",
      "604/604 - 92s - loss: 2.6199e-04 - root_mean_squared_error: 0.0162 - val_loss: 6.0898e-05 - val_root_mean_squared_error: 0.0078\n",
      "Epoch 55/100\n",
      "604/604 - 94s - loss: 2.6079e-04 - root_mean_squared_error: 0.0161 - val_loss: 5.7668e-05 - val_root_mean_squared_error: 0.0076\n",
      "Epoch 56/100\n",
      "604/604 - 91s - loss: 2.5981e-04 - root_mean_squared_error: 0.0161 - val_loss: 1.1356e-04 - val_root_mean_squared_error: 0.0107\n",
      "Epoch 57/100\n",
      "604/604 - 91s - loss: 2.5882e-04 - root_mean_squared_error: 0.0161 - val_loss: 5.4304e-05 - val_root_mean_squared_error: 0.0074\n",
      "Epoch 58/100\n",
      "604/604 - 91s - loss: 2.5702e-04 - root_mean_squared_error: 0.0160 - val_loss: 6.8274e-05 - val_root_mean_squared_error: 0.0083\n",
      "Epoch 59/100\n",
      "604/604 - 90s - loss: 2.5605e-04 - root_mean_squared_error: 0.0160 - val_loss: 4.7410e-05 - val_root_mean_squared_error: 0.0069\n"
     ]
    },
    {
     "name": "stdout",
     "output_type": "stream",
     "text": [
      "Epoch 60/100\n",
      "604/604 - 83s - loss: 2.5500e-04 - root_mean_squared_error: 0.0160 - val_loss: 8.1700e-05 - val_root_mean_squared_error: 0.0090\n",
      "Epoch 61/100\n",
      "604/604 - 88s - loss: 2.5444e-04 - root_mean_squared_error: 0.0160 - val_loss: 4.7408e-05 - val_root_mean_squared_error: 0.0069\n",
      "Epoch 62/100\n",
      "604/604 - 91s - loss: 2.5356e-04 - root_mean_squared_error: 0.0159 - val_loss: 5.2837e-05 - val_root_mean_squared_error: 0.0073\n",
      "Epoch 63/100\n",
      "604/604 - 89s - loss: 2.5272e-04 - root_mean_squared_error: 0.0159 - val_loss: 6.6090e-05 - val_root_mean_squared_error: 0.0081\n",
      "Epoch 64/100\n",
      "604/604 - 84s - loss: 2.5104e-04 - root_mean_squared_error: 0.0158 - val_loss: 4.1195e-05 - val_root_mean_squared_error: 0.0064\n",
      "Epoch 65/100\n",
      "604/604 - 90s - loss: 2.5034e-04 - root_mean_squared_error: 0.0158 - val_loss: 5.5916e-05 - val_root_mean_squared_error: 0.0075\n",
      "Epoch 66/100\n",
      "604/604 - 81s - loss: 2.4910e-04 - root_mean_squared_error: 0.0158 - val_loss: 4.7552e-05 - val_root_mean_squared_error: 0.0069\n",
      "Epoch 67/100\n",
      "604/604 - 78s - loss: 2.4842e-04 - root_mean_squared_error: 0.0158 - val_loss: 6.9922e-05 - val_root_mean_squared_error: 0.0084\n",
      "Epoch 68/100\n",
      "604/604 - 67s - loss: 2.4812e-04 - root_mean_squared_error: 0.0158 - val_loss: 4.0464e-05 - val_root_mean_squared_error: 0.0064\n",
      "Epoch 69/100\n",
      "604/604 - 84s - loss: 2.4708e-04 - root_mean_squared_error: 0.0157 - val_loss: 6.2758e-05 - val_root_mean_squared_error: 0.0079\n",
      "Epoch 70/100\n",
      "604/604 - 89s - loss: 2.4577e-04 - root_mean_squared_error: 0.0157 - val_loss: 7.7719e-05 - val_root_mean_squared_error: 0.0088\n",
      "Epoch 71/100\n",
      "604/604 - 89s - loss: 2.4612e-04 - root_mean_squared_error: 0.0157 - val_loss: 4.6715e-05 - val_root_mean_squared_error: 0.0068\n",
      "Epoch 72/100\n",
      "604/604 - 90s - loss: 2.4420e-04 - root_mean_squared_error: 0.0156 - val_loss: 6.5588e-05 - val_root_mean_squared_error: 0.0081\n",
      "Epoch 73/100\n",
      "604/604 - 84s - loss: 2.4421e-04 - root_mean_squared_error: 0.0156 - val_loss: 4.8885e-05 - val_root_mean_squared_error: 0.0070\n",
      "Epoch 74/100\n",
      "604/604 - 75s - loss: 2.4329e-04 - root_mean_squared_error: 0.0156 - val_loss: 7.8422e-05 - val_root_mean_squared_error: 0.0089\n",
      "Epoch 75/100\n",
      "604/604 - 75s - loss: 2.4223e-04 - root_mean_squared_error: 0.0156 - val_loss: 7.4035e-05 - val_root_mean_squared_error: 0.0086\n",
      "Epoch 76/100\n",
      "604/604 - 74s - loss: 2.4175e-04 - root_mean_squared_error: 0.0155 - val_loss: 6.4042e-05 - val_root_mean_squared_error: 0.0080\n",
      "Epoch 77/100\n",
      "604/604 - 75s - loss: 2.4059e-04 - root_mean_squared_error: 0.0155 - val_loss: 4.9598e-05 - val_root_mean_squared_error: 0.0070\n",
      "Epoch 78/100\n",
      "604/604 - 74s - loss: 2.4022e-04 - root_mean_squared_error: 0.0155 - val_loss: 5.8778e-05 - val_root_mean_squared_error: 0.0077\n",
      "Epoch 79/100\n",
      "604/604 - 74s - loss: 2.3954e-04 - root_mean_squared_error: 0.0155 - val_loss: 5.9783e-05 - val_root_mean_squared_error: 0.0077\n",
      "Epoch 80/100\n",
      "604/604 - 75s - loss: 2.3940e-04 - root_mean_squared_error: 0.0155 - val_loss: 7.5252e-05 - val_root_mean_squared_error: 0.0087\n",
      "Epoch 81/100\n",
      "604/604 - 74s - loss: 2.3859e-04 - root_mean_squared_error: 0.0154 - val_loss: 6.6129e-05 - val_root_mean_squared_error: 0.0081\n",
      "Epoch 82/100\n",
      "604/604 - 73s - loss: 2.3787e-04 - root_mean_squared_error: 0.0154 - val_loss: 5.0379e-05 - val_root_mean_squared_error: 0.0071\n",
      "Epoch 83/100\n",
      "604/604 - 75s - loss: 2.3696e-04 - root_mean_squared_error: 0.0154 - val_loss: 6.0454e-05 - val_root_mean_squared_error: 0.0078\n",
      "Epoch 84/100\n",
      "604/604 - 74s - loss: 2.3630e-04 - root_mean_squared_error: 0.0154 - val_loss: 4.5998e-05 - val_root_mean_squared_error: 0.0068\n",
      "Epoch 85/100\n",
      "604/604 - 74s - loss: 2.3603e-04 - root_mean_squared_error: 0.0154 - val_loss: 4.2861e-05 - val_root_mean_squared_error: 0.0065\n",
      "Epoch 86/100\n",
      "604/604 - 74s - loss: 2.3536e-04 - root_mean_squared_error: 0.0153 - val_loss: 4.0649e-05 - val_root_mean_squared_error: 0.0064\n",
      "Epoch 87/100\n",
      "604/604 - 74s - loss: 2.3447e-04 - root_mean_squared_error: 0.0153 - val_loss: 5.5416e-05 - val_root_mean_squared_error: 0.0074\n",
      "Epoch 88/100\n",
      "604/604 - 74s - loss: 2.3453e-04 - root_mean_squared_error: 0.0153 - val_loss: 4.3684e-05 - val_root_mean_squared_error: 0.0066\n",
      "Epoch 89/100\n",
      "604/604 - 75s - loss: 2.3361e-04 - root_mean_squared_error: 0.0153 - val_loss: 5.8198e-05 - val_root_mean_squared_error: 0.0076\n",
      "Epoch 90/100\n",
      "604/604 - 74s - loss: 2.3280e-04 - root_mean_squared_error: 0.0153 - val_loss: 3.9303e-05 - val_root_mean_squared_error: 0.0063\n",
      "Epoch 91/100\n",
      "604/604 - 74s - loss: 2.3268e-04 - root_mean_squared_error: 0.0153 - val_loss: 5.4744e-05 - val_root_mean_squared_error: 0.0074\n",
      "Epoch 92/100\n",
      "604/604 - 74s - loss: 2.3231e-04 - root_mean_squared_error: 0.0152 - val_loss: 5.4090e-05 - val_root_mean_squared_error: 0.0074\n",
      "Epoch 93/100\n",
      "604/604 - 74s - loss: 2.3109e-04 - root_mean_squared_error: 0.0152 - val_loss: 5.6505e-05 - val_root_mean_squared_error: 0.0075\n",
      "Epoch 94/100\n",
      "604/604 - 74s - loss: 2.3010e-04 - root_mean_squared_error: 0.0152 - val_loss: 5.0718e-05 - val_root_mean_squared_error: 0.0071\n",
      "Epoch 95/100\n",
      "604/604 - 74s - loss: 2.3071e-04 - root_mean_squared_error: 0.0152 - val_loss: 5.7041e-05 - val_root_mean_squared_error: 0.0076\n",
      "Epoch 96/100\n",
      "604/604 - 74s - loss: 2.2986e-04 - root_mean_squared_error: 0.0152 - val_loss: 5.7742e-05 - val_root_mean_squared_error: 0.0076\n",
      "Epoch 97/100\n",
      "604/604 - 74s - loss: 2.2861e-04 - root_mean_squared_error: 0.0151 - val_loss: 5.6833e-05 - val_root_mean_squared_error: 0.0075\n",
      "Epoch 98/100\n",
      "604/604 - 74s - loss: 2.2830e-04 - root_mean_squared_error: 0.0151 - val_loss: 6.0430e-05 - val_root_mean_squared_error: 0.0078\n",
      "Epoch 99/100\n",
      "604/604 - 74s - loss: 2.2804e-04 - root_mean_squared_error: 0.0151 - val_loss: 5.4733e-05 - val_root_mean_squared_error: 0.0074\n",
      "Epoch 100/100\n",
      "604/604 - 74s - loss: 2.2777e-04 - root_mean_squared_error: 0.0151 - val_loss: 3.9762e-05 - val_root_mean_squared_error: 0.0063\n"
     ]
    }
   ],
   "source": [
    "import tensorflow as tf\n",
    "from tensorflow import keras\n",
    "from tensorflow.keras import layers\n",
    "from keras.layers import Input,LSTM,Dropout,Dense\n",
    "\n",
    "\n",
    "\n",
    "# create and fit the LSTM network\n",
    "\n",
    "model = keras.Sequential()\n",
    "model.add(LSTM(150,input_shape=(5,5),return_sequences=True))\n",
    "model.add(Dropout(0.2))\n",
    "model.add(LSTM(150,input_shape=(5,5),return_sequences=True))\n",
    "model.add(Dropout(0.2))\n",
    "model.add(LSTM(150,input_shape=(5,5),return_sequences=True))\n",
    "model.add(Dropout(0.2))\n",
    "model.add(LSTM(150,input_shape=(5,5),return_sequences=False))\n",
    "model.add(Dropout(0.2))\n",
    "model.add(Dense(5,activation='linear'))\n",
    "model.compile(optimizer='rmsprop',loss='mean_squared_error',metrics=[tf.keras.metrics.RootMeanSquaredError()])\n",
    "\n",
    "history = model.fit(train_X, train_Y, epochs=100, batch_size=512, verbose=2, validation_data=(test_X, test_Y))"
   ]
  },
  {
   "cell_type": "code",
   "execution_count": 10,
   "metadata": {},
   "outputs": [
    {
     "data": {
      "image/png": "[encoded data removed]",
      "text/plain": [
       "<Figure size 432x288 with 1 Axes>"
      ]
     },
     "metadata": {
      "needs_background": "light"
     },
     "output_type": "display_data"
    }
   ],
   "source": [
    "epochs=range(len(history.history['loss']))\n",
    "plt.figure()\n",
    "plt.plot(epochs,history.history['loss'],'b',label='Training loss')\n",
    "plt.plot(epochs,history.history['val_loss'],'r',label='Test loss')\n",
    "plt.title('Training and Test loss')\n",
    "plt.legend()\n",
    "plt.show()"
   ]
  },
  {
   "cell_type": "code",
   "execution_count": 11,
   "metadata": {},
   "outputs": [
    {
     "data": {
      "image/png": "[encoded data removed]",
      "text/plain": [
       "<Figure size 432x288 with 1 Axes>"
      ]
     },
     "metadata": {
      "needs_background": "light"
     },
     "output_type": "display_data"
    }
   ],
   "source": [
    "epochs=range(len(history.history['root_mean_squared_error']))\n",
    "plt.figure()\n",
    "plt.plot(epochs,history.history['root_mean_squared_error'],'b',label='Training rmse')\n",
    "plt.plot(epochs,history.history['val_root_mean_squared_error'],'r',label='Test rmse')\n",
    "plt.title('Training and Test rmse')\n",
    "plt.legend()\n",
    "plt.show()"
   ]
  },
  {
   "cell_type": "code",
   "execution_count": 12,
   "metadata": {},
   "outputs": [],
   "source": [
    "testPredict = model.predict(test_X)"
   ]
  },
  {
   "cell_type": "code",
   "execution_count": 13,
   "metadata": {},
   "outputs": [
    {
     "name": "stdout",
     "output_type": "stream",
     "text": [
      "(77284, 5)\n",
      "(77284, 5)\n"
     ]
    }
   ],
   "source": [
    "print(testPredict.shape)\n",
    "print(test_Y.shape)"
   ]
  },
  {
   "cell_type": "code",
   "execution_count": 14,
   "metadata": {},
   "outputs": [
    {
     "name": "stdout",
     "output_type": "stream",
     "text": [
      "Test Score: 0.00631 RMSE\n"
     ]
    }
   ],
   "source": [
    "testScore = sqrt(mean_squared_error(test_Y, testPredict))\n",
    "print('Test Score: %.5f RMSE' % (testScore))"
   ]
  },
  {
   "cell_type": "code",
   "execution_count": 15,
   "metadata": {},
   "outputs": [],
   "source": [
    "newtestPredict = scaler.inverse_transform(testPredict)\n",
    "newtest_Y = scaler.inverse_transform(test_Y)"
   ]
  },
  {
   "cell_type": "code",
   "execution_count": 16,
   "metadata": {},
   "outputs": [
    {
     "name": "stdout",
     "output_type": "stream",
     "text": [
      "Test Score: 0.19364 RMSE\n"
     ]
    }
   ],
   "source": [
    "testScore = sqrt(mean_squared_error(newtest_Y, newtestPredict))\n",
    "print('Test Score: %.5f RMSE' % (testScore))"
   ]
  },
  {
   "cell_type": "code",
   "execution_count": null,
   "metadata": {},
   "outputs": [],
   "source": []
  }
 ],
 "metadata": {
  "kernelspec": {
   "display_name": "Python 3",
   "language": "python",
   "name": "python3"
  },
  "language_info": {
   "codemirror_mode": {
    "name": "ipython",
    "version": 3
   },
   "file_extension": ".py",
   "mimetype": "text/x-python",
   "name": "python",
   "nbconvert_exporter": "python",
   "pygments_lexer": "ipython3",
   "version": "3.8.3"
  }
 },
 "nbformat": 4,
 "nbformat_minor": 4
}
