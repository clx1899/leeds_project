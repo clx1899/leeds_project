{
 "cells": [
  {
   "cell_type": "code",
   "execution_count": 1,
   "metadata": {},
   "outputs": [],
   "source": [
    "from test import EigenData\n",
    "import numpy as np\n",
    "import scipy.io\n",
    "import h5py\n",
    "from sklearn.preprocessing import MinMaxScaler\n",
    "from sklearn.metrics import mean_squared_error\n",
    "from math import sqrt\n",
    "import matplotlib.pyplot as plt\n",
    "from mpl_toolkits.axes_grid1 import make_axes_locatable\n",
    "import torch\n",
    "%matplotlib inline"
   ]
  },
  {
   "cell_type": "code",
   "execution_count": 2,
   "metadata": {},
   "outputs": [
    {
     "name": "stdout",
     "output_type": "stream",
     "text": [
      "b (5, 33600)\n",
      "(100, 5) (5, 33600)\n",
      "--> (100, 33600)\n",
      "c (5, 33600)\n",
      "(100, 5) (5, 33600)\n",
      "--> (100, 33600)\n",
      "d (5, 33600)\n",
      "(100, 5) (5, 33600)\n",
      "--> (100, 33600)\n",
      "e (5, 33600)\n",
      "(100, 5) (5, 33600)\n",
      "--> (100, 33600)\n",
      "f (5, 33600)\n",
      "(100, 5) (5, 33600)\n",
      "--> (100, 33600)\n",
      "g (6, 33600)\n",
      "(100, 6) (6, 33600)\n",
      "--> (100, 33600)\n",
      "h (5, 33600)\n",
      "(100, 5) (5, 33600)\n",
      "--> (100, 33600)\n",
      "i (6, 33600)\n",
      "(100, 6) (6, 33600)\n",
      "--> (100, 33600)\n",
      "j (5, 33600)\n",
      "(100, 5) (5, 33600)\n",
      "--> (100, 33600)\n",
      "k (5, 33600)\n",
      "(100, 5) (5, 33600)\n",
      "--> (100, 33600)\n",
      "l (5, 33600)\n",
      "(100, 5) (5, 33600)\n",
      "--> (100, 33600)\n",
      "m (5, 33600)\n",
      "(100, 5) (5, 33600)\n",
      "--> (100, 33600)\n",
      "(403200, 5)\n"
     ]
    }
   ],
   "source": [
    "data = EigenData()\n",
    "eigenworms = data.get_eigenworms('EigenWorms.mat')\n",
    "\n",
    "footage = data.get_footage('20150814-All-PNAS2011-DataStitched .mat')\n",
    "newdata = torch.rand(33600,5)\n",
    "for k in footage.keys():\n",
    "    print(k, footage[k].shape)\n",
    "    arr1=footage[k]\n",
    "\n",
    "    arr2=arr1[:5,]\n",
    "\n",
    "    r = data.reconstruct(footage[k])\n",
    "    print('-->', r.shape)\n",
    "    dataset1 = arr2.transpose()\n",
    "\n",
    "    newdata = np.concatenate((newdata,dataset1),axis=0)\n",
    "newdata = newdata[33600:,]\n",
    "print(newdata.shape)"
   ]
  },
  {
   "cell_type": "code",
   "execution_count": 3,
   "metadata": {},
   "outputs": [],
   "source": [
    "first_5_eigenworms = eigenworms[0:5,:]\n",
    "eig_worm_0 = eigenworms[0,:]\n",
    "eig_worm_1 = eigenworms[1,:]\n",
    "eig_worm_2 = eigenworms[2,:]\n",
    "eig_worm_3 = eigenworms[3,:]\n",
    "eig_worm_4 = eigenworms[4,:]"
   ]
  },
  {
   "cell_type": "code",
   "execution_count": 4,
   "metadata": {},
   "outputs": [
    {
     "name": "stdout",
     "output_type": "stream",
     "text": [
      "(386422, 5)\n",
      "386422\n"
     ]
    }
   ],
   "source": [
    "data1=newdata[~np.isnan(newdata).any(axis=1)]\n",
    "data1 = data1.astype('float32')\n",
    "print(data1.shape)\n",
    "print(len(data1))"
   ]
  },
  {
   "cell_type": "code",
   "execution_count": 5,
   "metadata": {},
   "outputs": [],
   "source": [
    "scaler = MinMaxScaler(feature_range=(0, 1))\n",
    "data1 = scaler.fit_transform(data1)"
   ]
  },
  {
   "cell_type": "code",
   "execution_count": 6,
   "metadata": {},
   "outputs": [],
   "source": [
    "def create_dataset(dataset, look_back=5):\n",
    "    dataX, dataY = [], []\n",
    "    for i in range(len(dataset) - look_back):\n",
    "        a = dataset[i:(i + look_back)]\n",
    "        dataX.append(a)\n",
    "        dataY.append(dataset[i + look_back])\n",
    "    return np.array(dataX), np.array(dataY)"
   ]
  },
  {
   "cell_type": "code",
   "execution_count": 7,
   "metadata": {},
   "outputs": [
    {
     "name": "stdout",
     "output_type": "stream",
     "text": [
      "(386417, 5, 5)\n",
      "(386417, 5)\n"
     ]
    }
   ],
   "source": [
    "data_X, data_Y = create_dataset(data1)\n",
    "\n",
    "print(data_X.shape)\n",
    "print(data_Y.shape)"
   ]
  },
  {
   "cell_type": "code",
   "execution_count": 8,
   "metadata": {},
   "outputs": [
    {
     "name": "stdout",
     "output_type": "stream",
     "text": [
      "(309133, 5, 5)\n",
      "(309133, 5)\n",
      "(77284, 5, 5)\n",
      "(77284, 5)\n"
     ]
    }
   ],
   "source": [
    "train_size = int(len(data_X) * 0.8)\n",
    "test_size = len(data_X) - train_size\n",
    "train_X = data_X[:train_size]\n",
    "train_Y = data_Y[:train_size]\n",
    "test_X = data_X[train_size:]\n",
    "test_Y = data_Y[train_size:]\n",
    "\n",
    "print(train_X.shape)\n",
    "print(train_Y.shape)\n",
    "print(test_X.shape)\n",
    "print(test_Y.shape)"
   ]
  },
  {
   "cell_type": "code",
   "execution_count": 9,
   "metadata": {},
   "outputs": [
    {
     "name": "stdout",
     "output_type": "stream",
     "text": [
      "Epoch 1/100\n",
      "604/604 - 19s - loss: 0.0072 - root_mean_squared_error: 0.0850 - val_loss: 0.0022 - val_root_mean_squared_error: 0.0466\n",
      "Epoch 2/100\n",
      "604/604 - 15s - loss: 0.0026 - root_mean_squared_error: 0.0513 - val_loss: 9.0120e-04 - val_root_mean_squared_error: 0.0300\n",
      "Epoch 3/100\n",
      "604/604 - 16s - loss: 0.0016 - root_mean_squared_error: 0.0405 - val_loss: 3.2080e-04 - val_root_mean_squared_error: 0.0179\n",
      "Epoch 4/100\n",
      "604/604 - 15s - loss: 0.0012 - root_mean_squared_error: 0.0347 - val_loss: 4.0223e-04 - val_root_mean_squared_error: 0.0201\n",
      "Epoch 5/100\n",
      "604/604 - 15s - loss: 9.3528e-04 - root_mean_squared_error: 0.0306 - val_loss: 2.6070e-04 - val_root_mean_squared_error: 0.0161\n",
      "Epoch 6/100\n",
      "604/604 - 16s - loss: 7.4186e-04 - root_mean_squared_error: 0.0272 - val_loss: 2.7935e-04 - val_root_mean_squared_error: 0.0167\n",
      "Epoch 7/100\n",
      "604/604 - 16s - loss: 6.0230e-04 - root_mean_squared_error: 0.0245 - val_loss: 1.6700e-04 - val_root_mean_squared_error: 0.0129\n",
      "Epoch 8/100\n",
      "604/604 - 15s - loss: 5.0506e-04 - root_mean_squared_error: 0.0225 - val_loss: 1.1999e-04 - val_root_mean_squared_error: 0.0110\n",
      "Epoch 9/100\n",
      "604/604 - 16s - loss: 4.4060e-04 - root_mean_squared_error: 0.0210 - val_loss: 1.3945e-04 - val_root_mean_squared_error: 0.0118\n",
      "Epoch 10/100\n",
      "604/604 - 16s - loss: 4.0354e-04 - root_mean_squared_error: 0.0201 - val_loss: 1.4407e-04 - val_root_mean_squared_error: 0.0120\n",
      "Epoch 11/100\n",
      "604/604 - 15s - loss: 3.8046e-04 - root_mean_squared_error: 0.0195 - val_loss: 1.5776e-04 - val_root_mean_squared_error: 0.0126\n",
      "Epoch 12/100\n",
      "604/604 - 15s - loss: 3.6607e-04 - root_mean_squared_error: 0.0191 - val_loss: 9.9034e-05 - val_root_mean_squared_error: 0.0100\n",
      "Epoch 13/100\n",
      "604/604 - 16s - loss: 3.5657e-04 - root_mean_squared_error: 0.0189 - val_loss: 7.7796e-05 - val_root_mean_squared_error: 0.0088\n",
      "Epoch 14/100\n",
      "604/604 - 15s - loss: 3.5023e-04 - root_mean_squared_error: 0.0187 - val_loss: 8.9388e-05 - val_root_mean_squared_error: 0.0095\n",
      "Epoch 15/100\n",
      "604/604 - 15s - loss: 3.4315e-04 - root_mean_squared_error: 0.0185 - val_loss: 9.3779e-05 - val_root_mean_squared_error: 0.0097\n",
      "Epoch 16/100\n",
      "604/604 - 15s - loss: 3.3782e-04 - root_mean_squared_error: 0.0184 - val_loss: 8.4631e-05 - val_root_mean_squared_error: 0.0092\n",
      "Epoch 17/100\n",
      "604/604 - 15s - loss: 3.3332e-04 - root_mean_squared_error: 0.0183 - val_loss: 7.6742e-05 - val_root_mean_squared_error: 0.0088\n",
      "Epoch 18/100\n",
      "604/604 - 16s - loss: 3.2901e-04 - root_mean_squared_error: 0.0181 - val_loss: 7.4385e-05 - val_root_mean_squared_error: 0.0086\n",
      "Epoch 19/100\n",
      "604/604 - 16s - loss: 3.2473e-04 - root_mean_squared_error: 0.0180 - val_loss: 4.4388e-05 - val_root_mean_squared_error: 0.0067\n",
      "Epoch 20/100\n",
      "604/604 - 15s - loss: 3.2088e-04 - root_mean_squared_error: 0.0179 - val_loss: 8.7423e-05 - val_root_mean_squared_error: 0.0094\n",
      "Epoch 21/100\n",
      "604/604 - 15s - loss: 3.1753e-04 - root_mean_squared_error: 0.0178 - val_loss: 8.5555e-05 - val_root_mean_squared_error: 0.0092\n",
      "Epoch 22/100\n",
      "604/604 - 16s - loss: 3.1362e-04 - root_mean_squared_error: 0.0177 - val_loss: 1.0695e-04 - val_root_mean_squared_error: 0.0103\n",
      "Epoch 23/100\n",
      "604/604 - 15s - loss: 3.1077e-04 - root_mean_squared_error: 0.0176 - val_loss: 7.7460e-05 - val_root_mean_squared_error: 0.0088\n",
      "Epoch 24/100\n",
      "604/604 - 15s - loss: 3.0838e-04 - root_mean_squared_error: 0.0176 - val_loss: 9.2677e-05 - val_root_mean_squared_error: 0.0096\n",
      "Epoch 25/100\n",
      "604/604 - 15s - loss: 3.0575e-04 - root_mean_squared_error: 0.0175 - val_loss: 5.5774e-05 - val_root_mean_squared_error: 0.0075\n",
      "Epoch 26/100\n",
      "604/604 - 15s - loss: 3.0370e-04 - root_mean_squared_error: 0.0174 - val_loss: 4.6869e-05 - val_root_mean_squared_error: 0.0068\n",
      "Epoch 27/100\n",
      "604/604 - 16s - loss: 3.0164e-04 - root_mean_squared_error: 0.0174 - val_loss: 1.0693e-04 - val_root_mean_squared_error: 0.0103\n",
      "Epoch 28/100\n",
      "604/604 - 15s - loss: 2.9926e-04 - root_mean_squared_error: 0.0173 - val_loss: 7.0430e-05 - val_root_mean_squared_error: 0.0084\n",
      "Epoch 29/100\n",
      "604/604 - 15s - loss: 2.9723e-04 - root_mean_squared_error: 0.0172 - val_loss: 5.0403e-05 - val_root_mean_squared_error: 0.0071\n",
      "Epoch 30/100\n",
      "604/604 - 16s - loss: 2.9564e-04 - root_mean_squared_error: 0.0172 - val_loss: 7.2112e-05 - val_root_mean_squared_error: 0.0085\n",
      "Epoch 31/100\n",
      "604/604 - 15s - loss: 2.9369e-04 - root_mean_squared_error: 0.0171 - val_loss: 4.6062e-05 - val_root_mean_squared_error: 0.0068\n",
      "Epoch 32/100\n",
      "604/604 - 15s - loss: 2.9220e-04 - root_mean_squared_error: 0.0171 - val_loss: 6.0027e-05 - val_root_mean_squared_error: 0.0077\n",
      "Epoch 33/100\n",
      "604/604 - 15s - loss: 2.9058e-04 - root_mean_squared_error: 0.0170 - val_loss: 7.1973e-05 - val_root_mean_squared_error: 0.0085\n",
      "Epoch 34/100\n",
      "604/604 - 16s - loss: 2.8812e-04 - root_mean_squared_error: 0.0170 - val_loss: 6.2789e-05 - val_root_mean_squared_error: 0.0079\n",
      "Epoch 35/100\n",
      "604/604 - 15s - loss: 2.8805e-04 - root_mean_squared_error: 0.0170 - val_loss: 7.0661e-05 - val_root_mean_squared_error: 0.0084\n",
      "Epoch 36/100\n",
      "604/604 - 15s - loss: 2.8615e-04 - root_mean_squared_error: 0.0169 - val_loss: 4.6513e-05 - val_root_mean_squared_error: 0.0068\n",
      "Epoch 37/100\n",
      "604/604 - 15s - loss: 2.8449e-04 - root_mean_squared_error: 0.0169 - val_loss: 6.1408e-05 - val_root_mean_squared_error: 0.0078\n",
      "Epoch 38/100\n",
      "604/604 - 15s - loss: 2.8348e-04 - root_mean_squared_error: 0.0168 - val_loss: 4.9125e-05 - val_root_mean_squared_error: 0.0070\n",
      "Epoch 39/100\n",
      "604/604 - 15s - loss: 2.8243e-04 - root_mean_squared_error: 0.0168 - val_loss: 4.7776e-05 - val_root_mean_squared_error: 0.0069\n",
      "Epoch 40/100\n",
      "604/604 - 15s - loss: 2.7994e-04 - root_mean_squared_error: 0.0167 - val_loss: 7.4389e-05 - val_root_mean_squared_error: 0.0086\n",
      "Epoch 41/100\n",
      "604/604 - 15s - loss: 2.8047e-04 - root_mean_squared_error: 0.0167 - val_loss: 7.2075e-05 - val_root_mean_squared_error: 0.0085\n",
      "Epoch 42/100\n",
      "604/604 - 15s - loss: 2.7821e-04 - root_mean_squared_error: 0.0167 - val_loss: 4.6565e-05 - val_root_mean_squared_error: 0.0068\n",
      "Epoch 43/100\n",
      "604/604 - 16s - loss: 2.7817e-04 - root_mean_squared_error: 0.0167 - val_loss: 5.1302e-05 - val_root_mean_squared_error: 0.0072\n",
      "Epoch 44/100\n",
      "604/604 - 15s - loss: 2.7744e-04 - root_mean_squared_error: 0.0167 - val_loss: 4.2922e-05 - val_root_mean_squared_error: 0.0066\n",
      "Epoch 45/100\n",
      "604/604 - 15s - loss: 2.7633e-04 - root_mean_squared_error: 0.0166 - val_loss: 6.4431e-05 - val_root_mean_squared_error: 0.0080\n",
      "Epoch 46/100\n",
      "604/604 - 15s - loss: 2.7486e-04 - root_mean_squared_error: 0.0166 - val_loss: 5.1003e-05 - val_root_mean_squared_error: 0.0071\n",
      "Epoch 47/100\n",
      "604/604 - 15s - loss: 2.7382e-04 - root_mean_squared_error: 0.0165 - val_loss: 3.5857e-05 - val_root_mean_squared_error: 0.0060\n",
      "Epoch 48/100\n",
      "604/604 - 16s - loss: 2.7359e-04 - root_mean_squared_error: 0.0165 - val_loss: 3.5229e-05 - val_root_mean_squared_error: 0.0059\n",
      "Epoch 49/100\n",
      "604/604 - 20s - loss: 2.7269e-04 - root_mean_squared_error: 0.0165 - val_loss: 3.9730e-05 - val_root_mean_squared_error: 0.0063\n",
      "Epoch 50/100\n",
      "604/604 - 21s - loss: 2.7271e-04 - root_mean_squared_error: 0.0165 - val_loss: 5.3044e-05 - val_root_mean_squared_error: 0.0073\n",
      "Epoch 51/100\n",
      "604/604 - 21s - loss: 2.7113e-04 - root_mean_squared_error: 0.0165 - val_loss: 6.9914e-05 - val_root_mean_squared_error: 0.0084\n",
      "Epoch 52/100\n",
      "604/604 - 21s - loss: 2.7061e-04 - root_mean_squared_error: 0.0165 - val_loss: 4.5369e-05 - val_root_mean_squared_error: 0.0067\n",
      "Epoch 53/100\n",
      "604/604 - 21s - loss: 2.6987e-04 - root_mean_squared_error: 0.0164 - val_loss: 6.4246e-05 - val_root_mean_squared_error: 0.0080\n",
      "Epoch 54/100\n",
      "604/604 - 21s - loss: 2.6977e-04 - root_mean_squared_error: 0.0164 - val_loss: 4.4442e-05 - val_root_mean_squared_error: 0.0067\n",
      "Epoch 55/100\n",
      "604/604 - 21s - loss: 2.6939e-04 - root_mean_squared_error: 0.0164 - val_loss: 3.1465e-05 - val_root_mean_squared_error: 0.0056\n",
      "Epoch 56/100\n",
      "604/604 - 21s - loss: 2.6787e-04 - root_mean_squared_error: 0.0164 - val_loss: 4.1720e-05 - val_root_mean_squared_error: 0.0065\n",
      "Epoch 57/100\n",
      "604/604 - 21s - loss: 2.6774e-04 - root_mean_squared_error: 0.0164 - val_loss: 5.7039e-05 - val_root_mean_squared_error: 0.0076\n",
      "Epoch 58/100\n",
      "604/604 - 21s - loss: 2.6679e-04 - root_mean_squared_error: 0.0163 - val_loss: 5.7549e-05 - val_root_mean_squared_error: 0.0076\n",
      "Epoch 59/100\n",
      "604/604 - 21s - loss: 2.6551e-04 - root_mean_squared_error: 0.0163 - val_loss: 4.0710e-05 - val_root_mean_squared_error: 0.0064\n"
     ]
    },
    {
     "name": "stdout",
     "output_type": "stream",
     "text": [
      "Epoch 60/100\n",
      "604/604 - 22s - loss: 2.6628e-04 - root_mean_squared_error: 0.0163 - val_loss: 3.5532e-05 - val_root_mean_squared_error: 0.0060\n",
      "Epoch 61/100\n",
      "604/604 - 21s - loss: 2.6531e-04 - root_mean_squared_error: 0.0163 - val_loss: 3.7443e-05 - val_root_mean_squared_error: 0.0061\n",
      "Epoch 62/100\n",
      "604/604 - 21s - loss: 2.6511e-04 - root_mean_squared_error: 0.0163 - val_loss: 4.7533e-05 - val_root_mean_squared_error: 0.0069\n",
      "Epoch 63/100\n",
      "604/604 - 21s - loss: 2.6315e-04 - root_mean_squared_error: 0.0162 - val_loss: 3.9965e-05 - val_root_mean_squared_error: 0.0063\n",
      "Epoch 64/100\n",
      "604/604 - 21s - loss: 2.6424e-04 - root_mean_squared_error: 0.0163 - val_loss: 5.9446e-05 - val_root_mean_squared_error: 0.0077\n",
      "Epoch 65/100\n",
      "604/604 - 21s - loss: 2.6223e-04 - root_mean_squared_error: 0.0162 - val_loss: 5.3426e-05 - val_root_mean_squared_error: 0.0073\n",
      "Epoch 66/100\n",
      "604/604 - 21s - loss: 2.6159e-04 - root_mean_squared_error: 0.0162 - val_loss: 4.7033e-05 - val_root_mean_squared_error: 0.0069\n",
      "Epoch 67/100\n",
      "604/604 - 21s - loss: 2.6126e-04 - root_mean_squared_error: 0.0162 - val_loss: 4.5029e-05 - val_root_mean_squared_error: 0.0067\n",
      "Epoch 68/100\n",
      "604/604 - 21s - loss: 2.6120e-04 - root_mean_squared_error: 0.0162 - val_loss: 4.5503e-05 - val_root_mean_squared_error: 0.0067\n",
      "Epoch 69/100\n",
      "604/604 - 21s - loss: 2.6102e-04 - root_mean_squared_error: 0.0162 - val_loss: 5.6772e-05 - val_root_mean_squared_error: 0.0075\n",
      "Epoch 70/100\n",
      "604/604 - 21s - loss: 2.6025e-04 - root_mean_squared_error: 0.0161 - val_loss: 3.1884e-05 - val_root_mean_squared_error: 0.0056\n",
      "Epoch 71/100\n",
      "604/604 - 22s - loss: 2.6027e-04 - root_mean_squared_error: 0.0161 - val_loss: 4.8797e-05 - val_root_mean_squared_error: 0.0070\n",
      "Epoch 72/100\n",
      "604/604 - 21s - loss: 2.6008e-04 - root_mean_squared_error: 0.0161 - val_loss: 4.0829e-05 - val_root_mean_squared_error: 0.0064\n",
      "Epoch 73/100\n",
      "604/604 - 22s - loss: 2.6002e-04 - root_mean_squared_error: 0.0161 - val_loss: 4.6919e-05 - val_root_mean_squared_error: 0.0068\n",
      "Epoch 74/100\n",
      "604/604 - 21s - loss: 2.5993e-04 - root_mean_squared_error: 0.0161 - val_loss: 4.6733e-05 - val_root_mean_squared_error: 0.0068\n",
      "Epoch 75/100\n",
      "604/604 - 22s - loss: 2.5868e-04 - root_mean_squared_error: 0.0161 - val_loss: 3.9949e-05 - val_root_mean_squared_error: 0.0063\n",
      "Epoch 76/100\n",
      "604/604 - 22s - loss: 2.5810e-04 - root_mean_squared_error: 0.0161 - val_loss: 4.3831e-05 - val_root_mean_squared_error: 0.0066\n",
      "Epoch 77/100\n",
      "604/604 - 21s - loss: 2.5817e-04 - root_mean_squared_error: 0.0161 - val_loss: 4.1108e-05 - val_root_mean_squared_error: 0.0064\n",
      "Epoch 78/100\n",
      "604/604 - 21s - loss: 2.5675e-04 - root_mean_squared_error: 0.0160 - val_loss: 4.4729e-05 - val_root_mean_squared_error: 0.0067\n",
      "Epoch 79/100\n",
      "604/604 - 21s - loss: 2.5701e-04 - root_mean_squared_error: 0.0160 - val_loss: 6.5014e-05 - val_root_mean_squared_error: 0.0081\n",
      "Epoch 80/100\n",
      "604/604 - 21s - loss: 2.5696e-04 - root_mean_squared_error: 0.0160 - val_loss: 4.3192e-05 - val_root_mean_squared_error: 0.0066\n",
      "Epoch 81/100\n",
      "604/604 - 21s - loss: 2.5650e-04 - root_mean_squared_error: 0.0160 - val_loss: 4.0436e-05 - val_root_mean_squared_error: 0.0064\n",
      "Epoch 82/100\n",
      "604/604 - 21s - loss: 2.5571e-04 - root_mean_squared_error: 0.0160 - val_loss: 3.1657e-05 - val_root_mean_squared_error: 0.0056\n",
      "Epoch 83/100\n",
      "604/604 - 21s - loss: 2.5528e-04 - root_mean_squared_error: 0.0160 - val_loss: 6.3381e-05 - val_root_mean_squared_error: 0.0080\n",
      "Epoch 84/100\n",
      "604/604 - 21s - loss: 2.5592e-04 - root_mean_squared_error: 0.0160 - val_loss: 4.1180e-05 - val_root_mean_squared_error: 0.0064\n",
      "Epoch 85/100\n",
      "604/604 - 21s - loss: 2.5498e-04 - root_mean_squared_error: 0.0160 - val_loss: 3.4488e-05 - val_root_mean_squared_error: 0.0059\n",
      "Epoch 86/100\n",
      "604/604 - 21s - loss: 2.5487e-04 - root_mean_squared_error: 0.0160 - val_loss: 3.3835e-05 - val_root_mean_squared_error: 0.0058\n",
      "Epoch 87/100\n",
      "604/604 - 21s - loss: 2.5453e-04 - root_mean_squared_error: 0.0160 - val_loss: 2.7984e-05 - val_root_mean_squared_error: 0.0053\n",
      "Epoch 88/100\n",
      "604/604 - 21s - loss: 2.5436e-04 - root_mean_squared_error: 0.0159 - val_loss: 4.4008e-05 - val_root_mean_squared_error: 0.0066\n",
      "Epoch 89/100\n",
      "604/604 - 22s - loss: 2.5385e-04 - root_mean_squared_error: 0.0159 - val_loss: 6.7994e-05 - val_root_mean_squared_error: 0.0082\n",
      "Epoch 90/100\n",
      "604/604 - 22s - loss: 2.5304e-04 - root_mean_squared_error: 0.0159 - val_loss: 3.0769e-05 - val_root_mean_squared_error: 0.0055\n",
      "Epoch 91/100\n",
      "604/604 - 22s - loss: 2.5269e-04 - root_mean_squared_error: 0.0159 - val_loss: 4.6405e-05 - val_root_mean_squared_error: 0.0068\n",
      "Epoch 92/100\n",
      "604/604 - 22s - loss: 2.5256e-04 - root_mean_squared_error: 0.0159 - val_loss: 3.3492e-05 - val_root_mean_squared_error: 0.0058\n",
      "Epoch 93/100\n",
      "604/604 - 22s - loss: 2.5327e-04 - root_mean_squared_error: 0.0159 - val_loss: 3.9184e-05 - val_root_mean_squared_error: 0.0063\n",
      "Epoch 94/100\n",
      "604/604 - 22s - loss: 2.5242e-04 - root_mean_squared_error: 0.0159 - val_loss: 3.8931e-05 - val_root_mean_squared_error: 0.0062\n",
      "Epoch 95/100\n",
      "604/604 - 22s - loss: 2.5201e-04 - root_mean_squared_error: 0.0159 - val_loss: 3.4533e-05 - val_root_mean_squared_error: 0.0059\n",
      "Epoch 96/100\n",
      "604/604 - 22s - loss: 2.5184e-04 - root_mean_squared_error: 0.0159 - val_loss: 4.2908e-05 - val_root_mean_squared_error: 0.0066\n",
      "Epoch 97/100\n",
      "604/604 - 21s - loss: 2.5147e-04 - root_mean_squared_error: 0.0159 - val_loss: 2.8475e-05 - val_root_mean_squared_error: 0.0053\n",
      "Epoch 98/100\n",
      "604/604 - 21s - loss: 2.5040e-04 - root_mean_squared_error: 0.0158 - val_loss: 3.8662e-05 - val_root_mean_squared_error: 0.0062\n",
      "Epoch 99/100\n",
      "604/604 - 21s - loss: 2.5002e-04 - root_mean_squared_error: 0.0158 - val_loss: 4.3475e-05 - val_root_mean_squared_error: 0.0066\n",
      "Epoch 100/100\n",
      "604/604 - 21s - loss: 2.5033e-04 - root_mean_squared_error: 0.0158 - val_loss: 4.0847e-05 - val_root_mean_squared_error: 0.0064\n"
     ]
    }
   ],
   "source": [
    "import tensorflow as tf\n",
    "from tensorflow import keras\n",
    "from tensorflow.keras import layers\n",
    "from keras.layers import Input,LSTM,Dropout,Dense\n",
    "\n",
    "\n",
    "\n",
    "# create and fit the LSTM network\n",
    "\n",
    "model = keras.Sequential()\n",
    "model.add(LSTM(100,input_shape=(5,5),return_sequences=True))\n",
    "model.add(Dropout(0.2))\n",
    "model.add(LSTM(100,input_shape=(5,5),return_sequences=False))\n",
    "model.add(Dropout(0.2))\n",
    "model.add(Dense(5,activation='linear'))\n",
    "model.compile(optimizer='rmsprop',loss='mean_squared_error',metrics=[tf.keras.metrics.RootMeanSquaredError()])\n",
    "\n",
    "history = model.fit(train_X, train_Y, epochs=100, batch_size=512, verbose=2, validation_data=(test_X, test_Y))"
   ]
  },
  {
   "cell_type": "code",
   "execution_count": 10,
   "metadata": {},
   "outputs": [],
   "source": [
    "testPredict = model.predict(test_X)"
   ]
  },
  {
   "cell_type": "code",
   "execution_count": 11,
   "metadata": {},
   "outputs": [],
   "source": [
    "newtestPredict = scaler.inverse_transform(testPredict)\n",
    "newtest_Y = scaler.inverse_transform(test_Y)"
   ]
  },
  {
   "cell_type": "code",
   "execution_count": 12,
   "metadata": {},
   "outputs": [
    {
     "name": "stdout",
     "output_type": "stream",
     "text": [
      "Test Score: 0.24848 RMSE\n"
     ]
    }
   ],
   "source": [
    "testScore = sqrt(mean_squared_error(newtest_Y, newtestPredict))\n",
    "print('Test Score: %.5f RMSE' % (testScore))"
   ]
  },
  {
   "cell_type": "code",
   "execution_count": null,
   "metadata": {},
   "outputs": [],
   "source": []
  }
 ],
 "metadata": {
  "kernelspec": {
   "display_name": "Python 3",
   "language": "python",
   "name": "python3"
  },
  "language_info": {
   "codemirror_mode": {
    "name": "ipython",
    "version": 3
   },
   "file_extension": ".py",
   "mimetype": "text/x-python",
   "name": "python",
   "nbconvert_exporter": "python",
   "pygments_lexer": "ipython3",
   "version": "3.8.3"
  }
 },
 "nbformat": 4,
 "nbformat_minor": 4
}
