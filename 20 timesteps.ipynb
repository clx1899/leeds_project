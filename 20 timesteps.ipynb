{
 "cells": [
  {
   "cell_type": "code",
   "execution_count": 1,
   "metadata": {},
   "outputs": [],
   "source": [
    "from test import EigenData\n",
    "import numpy as np\n",
    "import scipy.io\n",
    "import h5py\n",
    "from sklearn.preprocessing import MinMaxScaler\n",
    "from sklearn.metrics import mean_squared_error\n",
    "from math import sqrt\n",
    "import matplotlib.pyplot as plt\n",
    "from mpl_toolkits.axes_grid1 import make_axes_locatable\n",
    "import torch\n",
    "%matplotlib inline"
   ]
  },
  {
   "cell_type": "code",
   "execution_count": 2,
   "metadata": {},
   "outputs": [
    {
     "name": "stdout",
     "output_type": "stream",
     "text": [
      "b (5, 33600)\n",
      "(100, 5) (5, 33600)\n",
      "--> (100, 33600)\n",
      "c (5, 33600)\n",
      "(100, 5) (5, 33600)\n",
      "--> (100, 33600)\n",
      "d (5, 33600)\n",
      "(100, 5) (5, 33600)\n",
      "--> (100, 33600)\n",
      "e (5, 33600)\n",
      "(100, 5) (5, 33600)\n",
      "--> (100, 33600)\n",
      "f (5, 33600)\n",
      "(100, 5) (5, 33600)\n",
      "--> (100, 33600)\n",
      "g (6, 33600)\n",
      "(100, 6) (6, 33600)\n",
      "--> (100, 33600)\n",
      "h (5, 33600)\n",
      "(100, 5) (5, 33600)\n",
      "--> (100, 33600)\n",
      "i (6, 33600)\n",
      "(100, 6) (6, 33600)\n",
      "--> (100, 33600)\n",
      "j (5, 33600)\n",
      "(100, 5) (5, 33600)\n",
      "--> (100, 33600)\n",
      "k (5, 33600)\n",
      "(100, 5) (5, 33600)\n",
      "--> (100, 33600)\n",
      "l (5, 33600)\n",
      "(100, 5) (5, 33600)\n",
      "--> (100, 33600)\n",
      "m (5, 33600)\n",
      "(100, 5) (5, 33600)\n",
      "--> (100, 33600)\n",
      "(403200, 5)\n"
     ]
    }
   ],
   "source": [
    "data = EigenData()\n",
    "eigenworms = data.get_eigenworms('EigenWorms.mat')\n",
    "\n",
    "footage = data.get_footage('20150814-All-PNAS2011-DataStitched .mat')\n",
    "newdata = torch.rand(33600,5)\n",
    "for k in footage.keys():\n",
    "    print(k, footage[k].shape)\n",
    "    arr1=footage[k]\n",
    "\n",
    "    arr2=arr1[:5,]\n",
    "\n",
    "    r = data.reconstruct(footage[k])\n",
    "    print('-->', r.shape)\n",
    "    dataset1 = arr2.transpose()\n",
    "\n",
    "    newdata = np.concatenate((newdata,dataset1),axis=0)\n",
    "newdata = newdata[33600:,]\n",
    "print(newdata.shape)"
   ]
  },
  {
   "cell_type": "code",
   "execution_count": 3,
   "metadata": {},
   "outputs": [],
   "source": [
    "first_5_eigenworms = eigenworms[0:5,:]\n",
    "eig_worm_0 = eigenworms[0,:]\n",
    "eig_worm_1 = eigenworms[1,:]\n",
    "eig_worm_2 = eigenworms[2,:]\n",
    "eig_worm_3 = eigenworms[3,:]\n",
    "eig_worm_4 = eigenworms[4,:]"
   ]
  },
  {
   "cell_type": "code",
   "execution_count": 4,
   "metadata": {},
   "outputs": [
    {
     "name": "stdout",
     "output_type": "stream",
     "text": [
      "(386422, 5)\n",
      "386422\n"
     ]
    }
   ],
   "source": [
    "data1=newdata[~np.isnan(newdata).any(axis=1)]\n",
    "data1 = data1.astype('float32')\n",
    "print(data1.shape)\n",
    "print(len(data1))"
   ]
  },
  {
   "cell_type": "code",
   "execution_count": 5,
   "metadata": {},
   "outputs": [],
   "source": [
    "scaler = MinMaxScaler(feature_range=(0, 1))\n",
    "data1 = scaler.fit_transform(data1)"
   ]
  },
  {
   "cell_type": "code",
   "execution_count": 6,
   "metadata": {},
   "outputs": [],
   "source": [
    "def create_dataset(dataset, look_back=20):\n",
    "    dataX, dataY = [], []\n",
    "    for i in range(len(dataset) - look_back):\n",
    "        a = dataset[i:(i + look_back)]\n",
    "        dataX.append(a)\n",
    "        dataY.append(dataset[i + look_back])\n",
    "    return np.array(dataX), np.array(dataY)"
   ]
  },
  {
   "cell_type": "code",
   "execution_count": 7,
   "metadata": {},
   "outputs": [
    {
     "name": "stdout",
     "output_type": "stream",
     "text": [
      "(386402, 20, 5)\n",
      "(386402, 5)\n"
     ]
    }
   ],
   "source": [
    "data_X, data_Y = create_dataset(data1)\n",
    "\n",
    "print(data_X.shape)\n",
    "print(data_Y.shape)"
   ]
  },
  {
   "cell_type": "code",
   "execution_count": 8,
   "metadata": {},
   "outputs": [
    {
     "name": "stdout",
     "output_type": "stream",
     "text": [
      "(309121, 20, 5)\n",
      "(309121, 5)\n",
      "(77281, 20, 5)\n",
      "(77281, 5)\n"
     ]
    }
   ],
   "source": [
    "train_size = int(len(data_X) * 0.8)\n",
    "test_size = len(data_X) - train_size\n",
    "train_X = data_X[:train_size]\n",
    "train_Y = data_Y[:train_size]\n",
    "test_X = data_X[train_size:]\n",
    "test_Y = data_Y[train_size:]\n",
    "\n",
    "print(train_X.shape)\n",
    "print(train_Y.shape)\n",
    "print(test_X.shape)\n",
    "print(test_Y.shape)"
   ]
  },
  {
   "cell_type": "code",
   "execution_count": 9,
   "metadata": {},
   "outputs": [
    {
     "name": "stdout",
     "output_type": "stream",
     "text": [
      "Epoch 1/100\n",
      "604/604 - 120s - loss: 0.0096 - root_mean_squared_error: 0.0978 - val_loss: 0.0011 - val_root_mean_squared_error: 0.0326\n",
      "Epoch 2/100\n",
      "604/604 - 114s - loss: 0.0025 - root_mean_squared_error: 0.0497 - val_loss: 4.0038e-04 - val_root_mean_squared_error: 0.0200\n",
      "Epoch 3/100\n",
      "604/604 - 112s - loss: 0.0016 - root_mean_squared_error: 0.0396 - val_loss: 2.3312e-04 - val_root_mean_squared_error: 0.0153\n",
      "Epoch 4/100\n",
      "604/604 - 111s - loss: 0.0011 - root_mean_squared_error: 0.0339 - val_loss: 1.9427e-04 - val_root_mean_squared_error: 0.0139\n",
      "Epoch 5/100\n",
      "604/604 - 113s - loss: 9.1331e-04 - root_mean_squared_error: 0.0302 - val_loss: 2.2379e-04 - val_root_mean_squared_error: 0.0150\n",
      "Epoch 6/100\n",
      "604/604 - 112s - loss: 7.5639e-04 - root_mean_squared_error: 0.0275 - val_loss: 2.1303e-04 - val_root_mean_squared_error: 0.0146\n",
      "Epoch 7/100\n",
      "604/604 - 113s - loss: 6.4757e-04 - root_mean_squared_error: 0.0254 - val_loss: 2.5554e-04 - val_root_mean_squared_error: 0.0160\n",
      "Epoch 8/100\n",
      "604/604 - 113s - loss: 5.6160e-04 - root_mean_squared_error: 0.0237 - val_loss: 2.1171e-04 - val_root_mean_squared_error: 0.0146\n",
      "Epoch 9/100\n",
      "604/604 - 113s - loss: 5.0063e-04 - root_mean_squared_error: 0.0224 - val_loss: 1.2179e-04 - val_root_mean_squared_error: 0.0110\n",
      "Epoch 10/100\n",
      "604/604 - 112s - loss: 4.5581e-04 - root_mean_squared_error: 0.0213 - val_loss: 1.3435e-04 - val_root_mean_squared_error: 0.0116\n",
      "Epoch 11/100\n",
      "604/604 - 113s - loss: 4.2798e-04 - root_mean_squared_error: 0.0207 - val_loss: 1.3545e-04 - val_root_mean_squared_error: 0.0116\n",
      "Epoch 12/100\n",
      "604/604 - 114s - loss: 4.0939e-04 - root_mean_squared_error: 0.0202 - val_loss: 1.2479e-04 - val_root_mean_squared_error: 0.0112\n",
      "Epoch 13/100\n",
      "604/604 - 110s - loss: 3.9547e-04 - root_mean_squared_error: 0.0199 - val_loss: 1.2574e-04 - val_root_mean_squared_error: 0.0112\n",
      "Epoch 14/100\n",
      "604/604 - 110s - loss: 3.8436e-04 - root_mean_squared_error: 0.0196 - val_loss: 2.0167e-04 - val_root_mean_squared_error: 0.0142\n",
      "Epoch 15/100\n",
      "604/604 - 110s - loss: 3.7600e-04 - root_mean_squared_error: 0.0194 - val_loss: 9.1057e-05 - val_root_mean_squared_error: 0.0095\n",
      "Epoch 16/100\n",
      "604/604 - 110s - loss: 3.6828e-04 - root_mean_squared_error: 0.0192 - val_loss: 9.2221e-05 - val_root_mean_squared_error: 0.0096\n",
      "Epoch 17/100\n",
      "604/604 - 110s - loss: 3.6124e-04 - root_mean_squared_error: 0.0190 - val_loss: 1.1926e-04 - val_root_mean_squared_error: 0.0109\n",
      "Epoch 18/100\n",
      "604/604 - 110s - loss: 3.5542e-04 - root_mean_squared_error: 0.0189 - val_loss: 1.1797e-04 - val_root_mean_squared_error: 0.0109\n",
      "Epoch 19/100\n",
      "604/604 - 114s - loss: 3.5096e-04 - root_mean_squared_error: 0.0187 - val_loss: 1.1384e-04 - val_root_mean_squared_error: 0.0107\n",
      "Epoch 20/100\n",
      "604/604 - 112s - loss: 3.4495e-04 - root_mean_squared_error: 0.0186 - val_loss: 7.8681e-05 - val_root_mean_squared_error: 0.0089\n",
      "Epoch 21/100\n",
      "604/604 - 113s - loss: 3.4163e-04 - root_mean_squared_error: 0.0185 - val_loss: 1.2544e-04 - val_root_mean_squared_error: 0.0112\n",
      "Epoch 22/100\n",
      "604/604 - 112s - loss: 3.3638e-04 - root_mean_squared_error: 0.0183 - val_loss: 7.0218e-05 - val_root_mean_squared_error: 0.0084\n",
      "Epoch 23/100\n",
      "604/604 - 114s - loss: 3.3443e-04 - root_mean_squared_error: 0.0183 - val_loss: 9.8493e-05 - val_root_mean_squared_error: 0.0099\n",
      "Epoch 24/100\n",
      "604/604 - 111s - loss: 3.2953e-04 - root_mean_squared_error: 0.0182 - val_loss: 8.4315e-05 - val_root_mean_squared_error: 0.0092\n",
      "Epoch 25/100\n",
      "604/604 - 111s - loss: 3.2580e-04 - root_mean_squared_error: 0.0180 - val_loss: 7.9903e-05 - val_root_mean_squared_error: 0.0089\n",
      "Epoch 26/100\n",
      "604/604 - 111s - loss: 3.2461e-04 - root_mean_squared_error: 0.0180 - val_loss: 6.8073e-05 - val_root_mean_squared_error: 0.0083\n",
      "Epoch 27/100\n",
      "604/604 - 111s - loss: 3.2209e-04 - root_mean_squared_error: 0.0179 - val_loss: 1.0270e-04 - val_root_mean_squared_error: 0.0101\n",
      "Epoch 28/100\n",
      "604/604 - 113s - loss: 3.1846e-04 - root_mean_squared_error: 0.0178 - val_loss: 1.1636e-04 - val_root_mean_squared_error: 0.0108\n",
      "Epoch 29/100\n",
      "604/604 - 111s - loss: 3.1616e-04 - root_mean_squared_error: 0.0178 - val_loss: 8.3467e-05 - val_root_mean_squared_error: 0.0091\n",
      "Epoch 30/100\n",
      "604/604 - 111s - loss: 3.1334e-04 - root_mean_squared_error: 0.0177 - val_loss: 1.0872e-04 - val_root_mean_squared_error: 0.0104\n",
      "Epoch 31/100\n",
      "604/604 - 120s - loss: 3.1175e-04 - root_mean_squared_error: 0.0177 - val_loss: 6.3256e-05 - val_root_mean_squared_error: 0.0080\n",
      "Epoch 32/100\n",
      "604/604 - 133s - loss: 3.0852e-04 - root_mean_squared_error: 0.0176 - val_loss: 8.4676e-05 - val_root_mean_squared_error: 0.0092\n",
      "Epoch 33/100\n",
      "604/604 - 136s - loss: 3.0716e-04 - root_mean_squared_error: 0.0175 - val_loss: 6.5167e-05 - val_root_mean_squared_error: 0.0081\n",
      "Epoch 34/100\n",
      "604/604 - 138s - loss: 3.0577e-04 - root_mean_squared_error: 0.0175 - val_loss: 1.1975e-04 - val_root_mean_squared_error: 0.0109\n",
      "Epoch 35/100\n",
      "604/604 - 136s - loss: 3.0349e-04 - root_mean_squared_error: 0.0174 - val_loss: 4.6692e-05 - val_root_mean_squared_error: 0.0068\n",
      "Epoch 36/100\n",
      "604/604 - 148s - loss: 3.0143e-04 - root_mean_squared_error: 0.0174 - val_loss: 7.0181e-05 - val_root_mean_squared_error: 0.0084\n",
      "Epoch 37/100\n",
      "604/604 - 153s - loss: 3.0025e-04 - root_mean_squared_error: 0.0173 - val_loss: 5.0240e-05 - val_root_mean_squared_error: 0.0071\n",
      "Epoch 38/100\n",
      "604/604 - 154s - loss: 2.9882e-04 - root_mean_squared_error: 0.0173 - val_loss: 6.1311e-05 - val_root_mean_squared_error: 0.0078\n",
      "Epoch 39/100\n",
      "604/604 - 149s - loss: 2.9632e-04 - root_mean_squared_error: 0.0172 - val_loss: 6.0748e-05 - val_root_mean_squared_error: 0.0078\n",
      "Epoch 40/100\n",
      "604/604 - 145s - loss: 2.9617e-04 - root_mean_squared_error: 0.0172 - val_loss: 7.5461e-05 - val_root_mean_squared_error: 0.0087\n",
      "Epoch 41/100\n",
      "604/604 - 146s - loss: 2.9453e-04 - root_mean_squared_error: 0.0172 - val_loss: 5.6034e-05 - val_root_mean_squared_error: 0.0075\n",
      "Epoch 42/100\n",
      "604/604 - 145s - loss: 2.9423e-04 - root_mean_squared_error: 0.0172 - val_loss: 6.9523e-05 - val_root_mean_squared_error: 0.0083\n",
      "Epoch 43/100\n",
      "604/604 - 142s - loss: 2.9224e-04 - root_mean_squared_error: 0.0171 - val_loss: 5.0648e-05 - val_root_mean_squared_error: 0.0071\n",
      "Epoch 44/100\n",
      "604/604 - 144s - loss: 2.9167e-04 - root_mean_squared_error: 0.0171 - val_loss: 7.9695e-05 - val_root_mean_squared_error: 0.0089\n",
      "Epoch 45/100\n",
      "604/604 - 146s - loss: 2.8884e-04 - root_mean_squared_error: 0.0170 - val_loss: 9.0962e-05 - val_root_mean_squared_error: 0.0095\n",
      "Epoch 46/100\n",
      "604/604 - 143s - loss: 2.8969e-04 - root_mean_squared_error: 0.0170 - val_loss: 4.0175e-05 - val_root_mean_squared_error: 0.0063\n",
      "Epoch 47/100\n",
      "604/604 - 144s - loss: 2.8717e-04 - root_mean_squared_error: 0.0169 - val_loss: 5.5235e-05 - val_root_mean_squared_error: 0.0074\n",
      "Epoch 48/100\n",
      "604/604 - 145s - loss: 2.8673e-04 - root_mean_squared_error: 0.0169 - val_loss: 7.2524e-05 - val_root_mean_squared_error: 0.0085\n",
      "Epoch 49/100\n",
      "604/604 - 144s - loss: 2.8553e-04 - root_mean_squared_error: 0.0169 - val_loss: 6.4885e-05 - val_root_mean_squared_error: 0.0081\n",
      "Epoch 50/100\n",
      "604/604 - 144s - loss: 2.8431e-04 - root_mean_squared_error: 0.0169 - val_loss: 6.8676e-05 - val_root_mean_squared_error: 0.0083\n",
      "Epoch 51/100\n",
      "604/604 - 141s - loss: 2.8281e-04 - root_mean_squared_error: 0.0168 - val_loss: 4.6651e-05 - val_root_mean_squared_error: 0.0068\n",
      "Epoch 52/100\n",
      "604/604 - 144s - loss: 2.8306e-04 - root_mean_squared_error: 0.0168 - val_loss: 8.1399e-05 - val_root_mean_squared_error: 0.0090\n",
      "Epoch 53/100\n",
      "604/604 - 145s - loss: 2.8184e-04 - root_mean_squared_error: 0.0168 - val_loss: 6.2610e-05 - val_root_mean_squared_error: 0.0079\n",
      "Epoch 54/100\n",
      "604/604 - 144s - loss: 2.8039e-04 - root_mean_squared_error: 0.0167 - val_loss: 7.0625e-05 - val_root_mean_squared_error: 0.0084\n",
      "Epoch 55/100\n",
      "604/604 - 144s - loss: 2.7987e-04 - root_mean_squared_error: 0.0167 - val_loss: 5.6140e-05 - val_root_mean_squared_error: 0.0075\n",
      "Epoch 56/100\n",
      "604/604 - 146s - loss: 2.7944e-04 - root_mean_squared_error: 0.0167 - val_loss: 8.1522e-05 - val_root_mean_squared_error: 0.0090\n",
      "Epoch 57/100\n",
      "604/604 - 143s - loss: 2.7787e-04 - root_mean_squared_error: 0.0167 - val_loss: 4.2812e-05 - val_root_mean_squared_error: 0.0065\n",
      "Epoch 58/100\n",
      "604/604 - 147s - loss: 2.7833e-04 - root_mean_squared_error: 0.0167 - val_loss: 5.2975e-05 - val_root_mean_squared_error: 0.0073\n"
     ]
    },
    {
     "name": "stdout",
     "output_type": "stream",
     "text": [
      "Epoch 59/100\n",
      "604/604 - 148s - loss: 2.7681e-04 - root_mean_squared_error: 0.0166 - val_loss: 2.9580e-05 - val_root_mean_squared_error: 0.0054\n",
      "Epoch 60/100\n",
      "604/604 - 146s - loss: 2.7509e-04 - root_mean_squared_error: 0.0166 - val_loss: 4.1984e-05 - val_root_mean_squared_error: 0.0065\n",
      "Epoch 61/100\n",
      "604/604 - 118s - loss: 2.7507e-04 - root_mean_squared_error: 0.0166 - val_loss: 6.8073e-05 - val_root_mean_squared_error: 0.0083\n",
      "Epoch 62/100\n",
      "604/604 - 115s - loss: 2.7463e-04 - root_mean_squared_error: 0.0166 - val_loss: 6.6281e-05 - val_root_mean_squared_error: 0.0081\n",
      "Epoch 63/100\n",
      "604/604 - 114s - loss: 2.7335e-04 - root_mean_squared_error: 0.0165 - val_loss: 6.3187e-05 - val_root_mean_squared_error: 0.0079\n",
      "Epoch 64/100\n",
      "604/604 - 115s - loss: 2.7254e-04 - root_mean_squared_error: 0.0165 - val_loss: 6.1921e-05 - val_root_mean_squared_error: 0.0079\n",
      "Epoch 65/100\n",
      "604/604 - 115s - loss: 2.7259e-04 - root_mean_squared_error: 0.0165 - val_loss: 5.6732e-05 - val_root_mean_squared_error: 0.0075\n",
      "Epoch 66/100\n",
      "604/604 - 115s - loss: 2.7202e-04 - root_mean_squared_error: 0.0165 - val_loss: 4.7319e-05 - val_root_mean_squared_error: 0.0069\n",
      "Epoch 67/100\n",
      "604/604 - 113s - loss: 2.7219e-04 - root_mean_squared_error: 0.0165 - val_loss: 7.2778e-05 - val_root_mean_squared_error: 0.0085\n",
      "Epoch 68/100\n",
      "604/604 - 117s - loss: 2.6966e-04 - root_mean_squared_error: 0.0164 - val_loss: 3.5621e-05 - val_root_mean_squared_error: 0.0060\n",
      "Epoch 69/100\n",
      "604/604 - 117s - loss: 2.6978e-04 - root_mean_squared_error: 0.0164 - val_loss: 5.3534e-05 - val_root_mean_squared_error: 0.0073\n",
      "Epoch 70/100\n",
      "604/604 - 116s - loss: 2.6910e-04 - root_mean_squared_error: 0.0164 - val_loss: 4.7257e-05 - val_root_mean_squared_error: 0.0069\n",
      "Epoch 71/100\n",
      "604/604 - 114s - loss: 2.6854e-04 - root_mean_squared_error: 0.0164 - val_loss: 4.2890e-05 - val_root_mean_squared_error: 0.0065\n",
      "Epoch 72/100\n",
      "604/604 - 114s - loss: 2.6824e-04 - root_mean_squared_error: 0.0164 - val_loss: 6.3643e-05 - val_root_mean_squared_error: 0.0080\n",
      "Epoch 73/100\n",
      "604/604 - 114s - loss: 2.6752e-04 - root_mean_squared_error: 0.0164 - val_loss: 4.1860e-05 - val_root_mean_squared_error: 0.0065\n",
      "Epoch 74/100\n",
      "604/604 - 113s - loss: 2.6701e-04 - root_mean_squared_error: 0.0163 - val_loss: 8.1769e-05 - val_root_mean_squared_error: 0.0090\n",
      "Epoch 75/100\n",
      "604/604 - 121s - loss: 2.6704e-04 - root_mean_squared_error: 0.0163 - val_loss: 4.5960e-05 - val_root_mean_squared_error: 0.0068\n",
      "Epoch 76/100\n",
      "604/604 - 113s - loss: 2.6537e-04 - root_mean_squared_error: 0.0163 - val_loss: 6.5618e-05 - val_root_mean_squared_error: 0.0081\n",
      "Epoch 77/100\n",
      "604/604 - 118s - loss: 2.6526e-04 - root_mean_squared_error: 0.0163 - val_loss: 5.7707e-05 - val_root_mean_squared_error: 0.0076\n",
      "Epoch 78/100\n",
      "604/604 - 113s - loss: 2.6605e-04 - root_mean_squared_error: 0.0163 - val_loss: 2.9039e-05 - val_root_mean_squared_error: 0.0054\n",
      "Epoch 79/100\n",
      "604/604 - 112s - loss: 2.6482e-04 - root_mean_squared_error: 0.0163 - val_loss: 4.3373e-05 - val_root_mean_squared_error: 0.0066\n",
      "Epoch 80/100\n",
      "604/604 - 111s - loss: 2.6424e-04 - root_mean_squared_error: 0.0163 - val_loss: 4.8731e-05 - val_root_mean_squared_error: 0.0070\n",
      "Epoch 81/100\n",
      "604/604 - 112s - loss: 2.6358e-04 - root_mean_squared_error: 0.0162 - val_loss: 5.2360e-05 - val_root_mean_squared_error: 0.0072\n",
      "Epoch 82/100\n",
      "604/604 - 112s - loss: 2.6325e-04 - root_mean_squared_error: 0.0162 - val_loss: 5.3030e-05 - val_root_mean_squared_error: 0.0073\n",
      "Epoch 83/100\n",
      "604/604 - 113s - loss: 2.6325e-04 - root_mean_squared_error: 0.0162 - val_loss: 3.9287e-05 - val_root_mean_squared_error: 0.0063\n",
      "Epoch 84/100\n",
      "604/604 - 114s - loss: 2.6246e-04 - root_mean_squared_error: 0.0162 - val_loss: 4.8166e-05 - val_root_mean_squared_error: 0.0069\n",
      "Epoch 85/100\n",
      "604/604 - 114s - loss: 2.6098e-04 - root_mean_squared_error: 0.0162 - val_loss: 5.4616e-05 - val_root_mean_squared_error: 0.0074\n",
      "Epoch 86/100\n",
      "604/604 - 115s - loss: 2.6172e-04 - root_mean_squared_error: 0.0162 - val_loss: 2.2482e-05 - val_root_mean_squared_error: 0.0047\n",
      "Epoch 87/100\n",
      "604/604 - 111s - loss: 2.6081e-04 - root_mean_squared_error: 0.0161 - val_loss: 5.8610e-05 - val_root_mean_squared_error: 0.0077\n",
      "Epoch 88/100\n",
      "604/604 - 112s - loss: 2.6063e-04 - root_mean_squared_error: 0.0161 - val_loss: 4.7496e-05 - val_root_mean_squared_error: 0.0069\n",
      "Epoch 89/100\n",
      "604/604 - 115s - loss: 2.6006e-04 - root_mean_squared_error: 0.0161 - val_loss: 3.2557e-05 - val_root_mean_squared_error: 0.0057\n",
      "Epoch 90/100\n",
      "604/604 - 114s - loss: 2.6081e-04 - root_mean_squared_error: 0.0161 - val_loss: 3.9050e-05 - val_root_mean_squared_error: 0.0062\n",
      "Epoch 91/100\n",
      "604/604 - 116s - loss: 2.5930e-04 - root_mean_squared_error: 0.0161 - val_loss: 5.8580e-05 - val_root_mean_squared_error: 0.0077\n",
      "Epoch 92/100\n",
      "604/604 - 113s - loss: 2.5947e-04 - root_mean_squared_error: 0.0161 - val_loss: 5.2244e-05 - val_root_mean_squared_error: 0.0072\n",
      "Epoch 93/100\n",
      "604/604 - 113s - loss: 2.5894e-04 - root_mean_squared_error: 0.0161 - val_loss: 4.6408e-05 - val_root_mean_squared_error: 0.0068\n",
      "Epoch 94/100\n",
      "604/604 - 113s - loss: 2.5802e-04 - root_mean_squared_error: 0.0161 - val_loss: 6.9864e-05 - val_root_mean_squared_error: 0.0084\n",
      "Epoch 95/100\n",
      "604/604 - 112s - loss: 2.5766e-04 - root_mean_squared_error: 0.0161 - val_loss: 4.7962e-05 - val_root_mean_squared_error: 0.0069\n",
      "Epoch 96/100\n",
      "604/604 - 112s - loss: 2.5760e-04 - root_mean_squared_error: 0.0160 - val_loss: 3.4583e-05 - val_root_mean_squared_error: 0.0059\n",
      "Epoch 97/100\n",
      "604/604 - 113s - loss: 2.5795e-04 - root_mean_squared_error: 0.0161 - val_loss: 3.6835e-05 - val_root_mean_squared_error: 0.0061\n",
      "Epoch 98/100\n",
      "604/604 - 114s - loss: 2.5723e-04 - root_mean_squared_error: 0.0160 - val_loss: 3.7993e-05 - val_root_mean_squared_error: 0.0062\n",
      "Epoch 99/100\n",
      "604/604 - 117s - loss: 2.5636e-04 - root_mean_squared_error: 0.0160 - val_loss: 3.4839e-05 - val_root_mean_squared_error: 0.0059\n",
      "Epoch 100/100\n",
      "604/604 - 110s - loss: 2.5595e-04 - root_mean_squared_error: 0.0160 - val_loss: 3.7147e-05 - val_root_mean_squared_error: 0.0061\n"
     ]
    }
   ],
   "source": [
    "import tensorflow as tf\n",
    "from tensorflow import keras\n",
    "from tensorflow.keras import layers\n",
    "from keras.layers import Input,LSTM,Dropout,Dense\n",
    "\n",
    "\n",
    "\n",
    "# create and fit the LSTM network\n",
    "\n",
    "model = keras.Sequential()\n",
    "model.add(LSTM(100,input_shape=(20,5),return_sequences=True))\n",
    "model.add(Dropout(0.2))\n",
    "model.add(LSTM(100,input_shape=(20,5),return_sequences=True))\n",
    "model.add(Dropout(0.2))\n",
    "model.add(LSTM(100,input_shape=(20,5),return_sequences=False))\n",
    "model.add(Dropout(0.2))\n",
    "model.add(Dense(5,activation='linear'))\n",
    "model.compile(optimizer='rmsprop',loss='mean_squared_error',metrics=[tf.keras.metrics.RootMeanSquaredError()])\n",
    "\n",
    "history = model.fit(train_X, train_Y, epochs=100, batch_size=512, verbose=2, validation_data=(test_X, test_Y))"
   ]
  },
  {
   "cell_type": "code",
   "execution_count": 10,
   "metadata": {},
   "outputs": [],
   "source": [
    "testPredict = model.predict(test_X)"
   ]
  },
  {
   "cell_type": "code",
   "execution_count": 11,
   "metadata": {},
   "outputs": [],
   "source": [
    "newtestPredict = scaler.inverse_transform(testPredict)\n",
    "newtest_Y = scaler.inverse_transform(test_Y)"
   ]
  },
  {
   "cell_type": "code",
   "execution_count": 12,
   "metadata": {},
   "outputs": [
    {
     "name": "stdout",
     "output_type": "stream",
     "text": [
      "Test Score: 0.19745 RMSE\n"
     ]
    }
   ],
   "source": [
    "testScore = sqrt(mean_squared_error(newtest_Y, newtestPredict))\n",
    "print('Test Score: %.5f RMSE' % (testScore))"
   ]
  },
  {
   "cell_type": "code",
   "execution_count": null,
   "metadata": {},
   "outputs": [],
   "source": []
  }
 ],
 "metadata": {
  "kernelspec": {
   "display_name": "Python 3",
   "language": "python",
   "name": "python3"
  },
  "language_info": {
   "codemirror_mode": {
    "name": "ipython",
    "version": 3
   },
   "file_extension": ".py",
   "mimetype": "text/x-python",
   "name": "python",
   "nbconvert_exporter": "python",
   "pygments_lexer": "ipython3",
   "version": "3.8.3"
  }
 },
 "nbformat": 4,
 "nbformat_minor": 4
}
