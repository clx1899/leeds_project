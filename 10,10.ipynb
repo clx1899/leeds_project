{
 "cells": [
  {
   "cell_type": "code",
   "execution_count": 1,
   "metadata": {},
   "outputs": [],
   "source": [
    "from test import EigenData\n",
    "import numpy as np\n",
    "import scipy.io\n",
    "import h5py\n",
    "from sklearn.preprocessing import MinMaxScaler\n",
    "from sklearn.metrics import mean_squared_error\n",
    "from math import sqrt\n",
    "import matplotlib.pyplot as plt\n",
    "from mpl_toolkits.axes_grid1 import make_axes_locatable\n",
    "import torch\n",
    "%matplotlib inline"
   ]
  },
  {
   "cell_type": "code",
   "execution_count": 2,
   "metadata": {},
   "outputs": [
    {
     "name": "stdout",
     "output_type": "stream",
     "text": [
      "b (5, 33600)\n",
      "(100, 5) (5, 33600)\n",
      "--> (100, 33600)\n",
      "c (5, 33600)\n",
      "(100, 5) (5, 33600)\n",
      "--> (100, 33600)\n",
      "d (5, 33600)\n",
      "(100, 5) (5, 33600)\n",
      "--> (100, 33600)\n",
      "e (5, 33600)\n",
      "(100, 5) (5, 33600)\n",
      "--> (100, 33600)\n",
      "f (5, 33600)\n",
      "(100, 5) (5, 33600)\n",
      "--> (100, 33600)\n",
      "g (6, 33600)\n",
      "(100, 6) (6, 33600)\n",
      "--> (100, 33600)\n",
      "h (5, 33600)\n",
      "(100, 5) (5, 33600)\n",
      "--> (100, 33600)\n",
      "i (6, 33600)\n",
      "(100, 6) (6, 33600)\n",
      "--> (100, 33600)\n",
      "j (5, 33600)\n",
      "(100, 5) (5, 33600)\n",
      "--> (100, 33600)\n",
      "k (5, 33600)\n",
      "(100, 5) (5, 33600)\n",
      "--> (100, 33600)\n",
      "l (5, 33600)\n",
      "(100, 5) (5, 33600)\n",
      "--> (100, 33600)\n",
      "m (5, 33600)\n",
      "(100, 5) (5, 33600)\n",
      "--> (100, 33600)\n",
      "(403200, 5)\n"
     ]
    }
   ],
   "source": [
    "data = EigenData()\n",
    "eigenworms = data.get_eigenworms('EigenWorms.mat')\n",
    "\n",
    "footage = data.get_footage('20150814-All-PNAS2011-DataStitched .mat')\n",
    "newdata = torch.rand(33600,5)\n",
    "for k in footage.keys():\n",
    "    print(k, footage[k].shape)\n",
    "    arr1=footage[k]\n",
    "\n",
    "    arr2=arr1[:5,]\n",
    "\n",
    "    r = data.reconstruct(footage[k])\n",
    "    print('-->', r.shape)\n",
    "    dataset1 = arr2.transpose()\n",
    "\n",
    "    newdata = np.concatenate((newdata,dataset1),axis=0)\n",
    "newdata = newdata[33600:,]\n",
    "print(newdata.shape)"
   ]
  },
  {
   "cell_type": "code",
   "execution_count": 3,
   "metadata": {},
   "outputs": [
    {
     "name": "stdout",
     "output_type": "stream",
     "text": [
      "(386422, 5)\n",
      "386422\n"
     ]
    }
   ],
   "source": [
    "data1=newdata[~np.isnan(newdata).any(axis=1)]\n",
    "\n",
    "data1 = data1.astype('float32')\n",
    "print(data1.shape)\n",
    "print(len(data1))"
   ]
  },
  {
   "cell_type": "code",
   "execution_count": 4,
   "metadata": {},
   "outputs": [],
   "source": [
    "def create_dataset(data,n_predictions,n_next):\n",
    "    \n",
    "   \n",
    "    dim = data.shape[1]\n",
    "    train_X, train_Y = [], []\n",
    "    for i in range(data.shape[0]-n_predictions-n_next-1):\n",
    "        a = data[i:(i+n_predictions),:]\n",
    "        train_X.append(a)\n",
    "        tempb = data[(i+n_predictions):(i+n_predictions+n_next),:]\n",
    "        b = []\n",
    "        for j in range(len(tempb)):\n",
    "            for k in range(dim):\n",
    "                b.append(tempb[j,k])\n",
    "        train_Y.append(b)\n",
    "    train_X = np.array(train_X,dtype='float64')\n",
    "    train_Y = np.array(train_Y,dtype='float64')\n",
    "\n",
    "    return train_X, train_Y"
   ]
  },
  {
   "cell_type": "code",
   "execution_count": 5,
   "metadata": {},
   "outputs": [
    {
     "name": "stdout",
     "output_type": "stream",
     "text": [
      "(386401, 10, 5)\n",
      "(386401, 50)\n"
     ]
    }
   ],
   "source": [
    "X, Y = create_dataset(data1,10,10)\n",
    "\n",
    "print(X.shape)\n",
    "print(Y.shape)"
   ]
  },
  {
   "cell_type": "code",
   "execution_count": 6,
   "metadata": {},
   "outputs": [],
   "source": [
    "scaler = MinMaxScaler(feature_range=(0, 1))\n",
    "data1 = scaler.fit_transform(data1)\n",
    "Y = scaler.fit_transform(Y)"
   ]
  },
  {
   "cell_type": "code",
   "execution_count": 7,
   "metadata": {},
   "outputs": [
    {
     "name": "stdout",
     "output_type": "stream",
     "text": [
      "(386401, 10, 5)\n",
      "(386401, 50)\n"
     ]
    }
   ],
   "source": [
    "data_X, data_Y = create_dataset(data1,10,10)\n",
    "\n",
    "print(data_X.shape)\n",
    "print(data_Y.shape)"
   ]
  },
  {
   "cell_type": "code",
   "execution_count": 8,
   "metadata": {},
   "outputs": [
    {
     "name": "stdout",
     "output_type": "stream",
     "text": [
      "(309120, 10, 5)\n",
      "(309120, 50)\n",
      "(77281, 10, 5)\n",
      "(77281, 50)\n"
     ]
    }
   ],
   "source": [
    "train_size = int(len(data_X) * 0.8)\n",
    "test_size = len(data_X) - train_size\n",
    "train_X = data_X[:train_size]\n",
    "train_Y = Y[:train_size]\n",
    "test_X = data_X[train_size:]\n",
    "test_Y = Y[train_size:]\n",
    "\n",
    "print(train_X.shape)\n",
    "print(train_Y.shape)\n",
    "print(test_X.shape)\n",
    "print(test_Y.shape)"
   ]
  },
  {
   "cell_type": "code",
   "execution_count": 9,
   "metadata": {},
   "outputs": [
    {
     "name": "stdout",
     "output_type": "stream",
     "text": [
      "Epoch 1/100\n",
      "604/604 - 59s - loss: 0.0152 - root_mean_squared_error: 0.1231 - val_loss: 0.0058 - val_root_mean_squared_error: 0.0764\n",
      "Epoch 2/100\n",
      "604/604 - 54s - loss: 0.0061 - root_mean_squared_error: 0.0782 - val_loss: 0.0032 - val_root_mean_squared_error: 0.0563\n",
      "Epoch 3/100\n",
      "604/604 - 53s - loss: 0.0044 - root_mean_squared_error: 0.0661 - val_loss: 0.0025 - val_root_mean_squared_error: 0.0499\n",
      "Epoch 4/100\n",
      "604/604 - 53s - loss: 0.0035 - root_mean_squared_error: 0.0593 - val_loss: 0.0021 - val_root_mean_squared_error: 0.0463\n",
      "Epoch 5/100\n",
      "604/604 - 54s - loss: 0.0030 - root_mean_squared_error: 0.0549 - val_loss: 0.0019 - val_root_mean_squared_error: 0.0441\n",
      "Epoch 6/100\n",
      "604/604 - 53s - loss: 0.0027 - root_mean_squared_error: 0.0518 - val_loss: 0.0017 - val_root_mean_squared_error: 0.0408\n",
      "Epoch 7/100\n",
      "604/604 - 53s - loss: 0.0024 - root_mean_squared_error: 0.0493 - val_loss: 0.0017 - val_root_mean_squared_error: 0.0411\n",
      "Epoch 8/100\n",
      "604/604 - 53s - loss: 0.0023 - root_mean_squared_error: 0.0475 - val_loss: 0.0015 - val_root_mean_squared_error: 0.0381\n",
      "Epoch 9/100\n",
      "604/604 - 53s - loss: 0.0021 - root_mean_squared_error: 0.0462 - val_loss: 0.0014 - val_root_mean_squared_error: 0.0370\n",
      "Epoch 10/100\n",
      "604/604 - 53s - loss: 0.0020 - root_mean_squared_error: 0.0452 - val_loss: 0.0014 - val_root_mean_squared_error: 0.0369\n",
      "Epoch 11/100\n",
      "604/604 - 54s - loss: 0.0020 - root_mean_squared_error: 0.0446 - val_loss: 0.0013 - val_root_mean_squared_error: 0.0361\n",
      "Epoch 12/100\n",
      "604/604 - 54s - loss: 0.0019 - root_mean_squared_error: 0.0440 - val_loss: 0.0014 - val_root_mean_squared_error: 0.0374\n",
      "Epoch 13/100\n",
      "604/604 - 53s - loss: 0.0019 - root_mean_squared_error: 0.0435 - val_loss: 0.0013 - val_root_mean_squared_error: 0.0358\n",
      "Epoch 14/100\n",
      "604/604 - 53s - loss: 0.0019 - root_mean_squared_error: 0.0431 - val_loss: 0.0013 - val_root_mean_squared_error: 0.0359\n",
      "Epoch 15/100\n",
      "604/604 - 53s - loss: 0.0018 - root_mean_squared_error: 0.0427 - val_loss: 0.0012 - val_root_mean_squared_error: 0.0353\n",
      "Epoch 16/100\n",
      "604/604 - 53s - loss: 0.0018 - root_mean_squared_error: 0.0424 - val_loss: 0.0012 - val_root_mean_squared_error: 0.0347\n",
      "Epoch 17/100\n",
      "604/604 - 53s - loss: 0.0018 - root_mean_squared_error: 0.0421 - val_loss: 0.0012 - val_root_mean_squared_error: 0.0340\n",
      "Epoch 18/100\n",
      "604/604 - 53s - loss: 0.0018 - root_mean_squared_error: 0.0418 - val_loss: 0.0012 - val_root_mean_squared_error: 0.0342\n",
      "Epoch 19/100\n",
      "604/604 - 53s - loss: 0.0017 - root_mean_squared_error: 0.0416 - val_loss: 0.0012 - val_root_mean_squared_error: 0.0346\n",
      "Epoch 20/100\n",
      "604/604 - 53s - loss: 0.0017 - root_mean_squared_error: 0.0414 - val_loss: 0.0012 - val_root_mean_squared_error: 0.0341\n",
      "Epoch 21/100\n",
      "604/604 - 53s - loss: 0.0017 - root_mean_squared_error: 0.0412 - val_loss: 0.0012 - val_root_mean_squared_error: 0.0343\n",
      "Epoch 22/100\n",
      "604/604 - 53s - loss: 0.0017 - root_mean_squared_error: 0.0410 - val_loss: 0.0012 - val_root_mean_squared_error: 0.0339\n",
      "Epoch 23/100\n",
      "604/604 - 53s - loss: 0.0017 - root_mean_squared_error: 0.0409 - val_loss: 0.0012 - val_root_mean_squared_error: 0.0341\n",
      "Epoch 24/100\n",
      "604/604 - 53s - loss: 0.0017 - root_mean_squared_error: 0.0407 - val_loss: 0.0011 - val_root_mean_squared_error: 0.0338\n",
      "Epoch 25/100\n",
      "604/604 - 53s - loss: 0.0016 - root_mean_squared_error: 0.0405 - val_loss: 0.0011 - val_root_mean_squared_error: 0.0335\n",
      "Epoch 26/100\n",
      "604/604 - 53s - loss: 0.0016 - root_mean_squared_error: 0.0404 - val_loss: 0.0011 - val_root_mean_squared_error: 0.0336\n",
      "Epoch 27/100\n",
      "604/604 - 53s - loss: 0.0016 - root_mean_squared_error: 0.0402 - val_loss: 0.0011 - val_root_mean_squared_error: 0.0335\n",
      "Epoch 28/100\n",
      "604/604 - 53s - loss: 0.0016 - root_mean_squared_error: 0.0402 - val_loss: 0.0011 - val_root_mean_squared_error: 0.0335\n",
      "Epoch 29/100\n",
      "604/604 - 54s - loss: 0.0016 - root_mean_squared_error: 0.0400 - val_loss: 0.0011 - val_root_mean_squared_error: 0.0329\n",
      "Epoch 30/100\n",
      "604/604 - 54s - loss: 0.0016 - root_mean_squared_error: 0.0399 - val_loss: 0.0011 - val_root_mean_squared_error: 0.0334\n",
      "Epoch 31/100\n",
      "604/604 - 53s - loss: 0.0016 - root_mean_squared_error: 0.0398 - val_loss: 0.0011 - val_root_mean_squared_error: 0.0334\n",
      "Epoch 32/100\n",
      "604/604 - 53s - loss: 0.0016 - root_mean_squared_error: 0.0397 - val_loss: 0.0011 - val_root_mean_squared_error: 0.0335\n",
      "Epoch 33/100\n",
      "604/604 - 69s - loss: 0.0016 - root_mean_squared_error: 0.0396 - val_loss: 0.0011 - val_root_mean_squared_error: 0.0332\n",
      "Epoch 34/100\n",
      "604/604 - 73s - loss: 0.0016 - root_mean_squared_error: 0.0395 - val_loss: 0.0011 - val_root_mean_squared_error: 0.0331\n",
      "Epoch 35/100\n",
      "604/604 - 74s - loss: 0.0016 - root_mean_squared_error: 0.0394 - val_loss: 0.0011 - val_root_mean_squared_error: 0.0335\n",
      "Epoch 36/100\n",
      "604/604 - 74s - loss: 0.0015 - root_mean_squared_error: 0.0393 - val_loss: 0.0011 - val_root_mean_squared_error: 0.0329\n",
      "Epoch 37/100\n",
      "604/604 - 73s - loss: 0.0015 - root_mean_squared_error: 0.0392 - val_loss: 0.0011 - val_root_mean_squared_error: 0.0336\n",
      "Epoch 38/100\n",
      "604/604 - 74s - loss: 0.0015 - root_mean_squared_error: 0.0391 - val_loss: 0.0011 - val_root_mean_squared_error: 0.0333\n",
      "Epoch 39/100\n",
      "604/604 - 74s - loss: 0.0015 - root_mean_squared_error: 0.0391 - val_loss: 0.0011 - val_root_mean_squared_error: 0.0328\n",
      "Epoch 40/100\n",
      "604/604 - 74s - loss: 0.0015 - root_mean_squared_error: 0.0390 - val_loss: 0.0011 - val_root_mean_squared_error: 0.0325\n",
      "Epoch 41/100\n",
      "604/604 - 74s - loss: 0.0015 - root_mean_squared_error: 0.0389 - val_loss: 0.0011 - val_root_mean_squared_error: 0.0324\n",
      "Epoch 42/100\n",
      "604/604 - 75s - loss: 0.0015 - root_mean_squared_error: 0.0388 - val_loss: 0.0011 - val_root_mean_squared_error: 0.0328\n",
      "Epoch 43/100\n",
      "604/604 - 68s - loss: 0.0015 - root_mean_squared_error: 0.0387 - val_loss: 0.0011 - val_root_mean_squared_error: 0.0332\n",
      "Epoch 44/100\n",
      "604/604 - 68s - loss: 0.0015 - root_mean_squared_error: 0.0387 - val_loss: 0.0011 - val_root_mean_squared_error: 0.0325\n",
      "Epoch 45/100\n",
      "604/604 - 73s - loss: 0.0015 - root_mean_squared_error: 0.0386 - val_loss: 0.0010 - val_root_mean_squared_error: 0.0321\n",
      "Epoch 46/100\n",
      "604/604 - 71s - loss: 0.0015 - root_mean_squared_error: 0.0386 - val_loss: 0.0011 - val_root_mean_squared_error: 0.0325\n",
      "Epoch 47/100\n",
      "604/604 - 72s - loss: 0.0015 - root_mean_squared_error: 0.0385 - val_loss: 0.0011 - val_root_mean_squared_error: 0.0328\n",
      "Epoch 48/100\n",
      "604/604 - 73s - loss: 0.0015 - root_mean_squared_error: 0.0384 - val_loss: 0.0010 - val_root_mean_squared_error: 0.0323\n",
      "Epoch 49/100\n",
      "604/604 - 71s - loss: 0.0015 - root_mean_squared_error: 0.0384 - val_loss: 0.0011 - val_root_mean_squared_error: 0.0325\n",
      "Epoch 50/100\n",
      "604/604 - 72s - loss: 0.0015 - root_mean_squared_error: 0.0383 - val_loss: 0.0011 - val_root_mean_squared_error: 0.0328\n",
      "Epoch 51/100\n",
      "604/604 - 74s - loss: 0.0015 - root_mean_squared_error: 0.0383 - val_loss: 0.0010 - val_root_mean_squared_error: 0.0320\n",
      "Epoch 52/100\n",
      "604/604 - 74s - loss: 0.0015 - root_mean_squared_error: 0.0382 - val_loss: 0.0011 - val_root_mean_squared_error: 0.0327\n",
      "Epoch 53/100\n",
      "604/604 - 73s - loss: 0.0015 - root_mean_squared_error: 0.0381 - val_loss: 0.0010 - val_root_mean_squared_error: 0.0323\n",
      "Epoch 54/100\n",
      "604/604 - 73s - loss: 0.0015 - root_mean_squared_error: 0.0381 - val_loss: 0.0011 - val_root_mean_squared_error: 0.0326\n",
      "Epoch 55/100\n",
      "604/604 - 73s - loss: 0.0014 - root_mean_squared_error: 0.0381 - val_loss: 0.0010 - val_root_mean_squared_error: 0.0324\n",
      "Epoch 56/100\n",
      "604/604 - 74s - loss: 0.0014 - root_mean_squared_error: 0.0380 - val_loss: 0.0010 - val_root_mean_squared_error: 0.0322\n",
      "Epoch 57/100\n",
      "604/604 - 74s - loss: 0.0014 - root_mean_squared_error: 0.0379 - val_loss: 0.0010 - val_root_mean_squared_error: 0.0323\n",
      "Epoch 58/100\n",
      "604/604 - 73s - loss: 0.0014 - root_mean_squared_error: 0.0379 - val_loss: 0.0010 - val_root_mean_squared_error: 0.0321\n",
      "Epoch 59/100\n",
      "604/604 - 73s - loss: 0.0014 - root_mean_squared_error: 0.0379 - val_loss: 0.0010 - val_root_mean_squared_error: 0.0320\n",
      "Epoch 60/100\n",
      "604/604 - 73s - loss: 0.0014 - root_mean_squared_error: 0.0378 - val_loss: 0.0010 - val_root_mean_squared_error: 0.0320\n",
      "Epoch 61/100\n",
      "604/604 - 73s - loss: 0.0014 - root_mean_squared_error: 0.0378 - val_loss: 0.0011 - val_root_mean_squared_error: 0.0324\n",
      "Epoch 62/100\n",
      "604/604 - 73s - loss: 0.0014 - root_mean_squared_error: 0.0377 - val_loss: 0.0010 - val_root_mean_squared_error: 0.0322\n"
     ]
    },
    {
     "name": "stdout",
     "output_type": "stream",
     "text": [
      "Epoch 63/100\n",
      "604/604 - 73s - loss: 0.0014 - root_mean_squared_error: 0.0377 - val_loss: 0.0011 - val_root_mean_squared_error: 0.0324\n",
      "Epoch 64/100\n",
      "604/604 - 73s - loss: 0.0014 - root_mean_squared_error: 0.0376 - val_loss: 0.0010 - val_root_mean_squared_error: 0.0321\n",
      "Epoch 65/100\n",
      "604/604 - 73s - loss: 0.0014 - root_mean_squared_error: 0.0376 - val_loss: 0.0010 - val_root_mean_squared_error: 0.0323\n",
      "Epoch 66/100\n",
      "604/604 - 73s - loss: 0.0014 - root_mean_squared_error: 0.0375 - val_loss: 0.0010 - val_root_mean_squared_error: 0.0322\n",
      "Epoch 67/100\n",
      "604/604 - 73s - loss: 0.0014 - root_mean_squared_error: 0.0375 - val_loss: 0.0011 - val_root_mean_squared_error: 0.0326\n",
      "Epoch 68/100\n",
      "604/604 - 74s - loss: 0.0014 - root_mean_squared_error: 0.0375 - val_loss: 0.0010 - val_root_mean_squared_error: 0.0323\n",
      "Epoch 69/100\n",
      "604/604 - 73s - loss: 0.0014 - root_mean_squared_error: 0.0374 - val_loss: 0.0010 - val_root_mean_squared_error: 0.0318\n",
      "Epoch 70/100\n",
      "604/604 - 73s - loss: 0.0014 - root_mean_squared_error: 0.0373 - val_loss: 0.0010 - val_root_mean_squared_error: 0.0321\n",
      "Epoch 71/100\n",
      "604/604 - 73s - loss: 0.0014 - root_mean_squared_error: 0.0373 - val_loss: 0.0010 - val_root_mean_squared_error: 0.0323\n",
      "Epoch 72/100\n",
      "604/604 - 76s - loss: 0.0014 - root_mean_squared_error: 0.0373 - val_loss: 0.0010 - val_root_mean_squared_error: 0.0320\n",
      "Epoch 73/100\n",
      "604/604 - 72s - loss: 0.0014 - root_mean_squared_error: 0.0372 - val_loss: 0.0010 - val_root_mean_squared_error: 0.0323\n",
      "Epoch 74/100\n",
      "604/604 - 73s - loss: 0.0014 - root_mean_squared_error: 0.0372 - val_loss: 0.0010 - val_root_mean_squared_error: 0.0320\n",
      "Epoch 75/100\n",
      "604/604 - 73s - loss: 0.0014 - root_mean_squared_error: 0.0372 - val_loss: 0.0011 - val_root_mean_squared_error: 0.0324\n",
      "Epoch 76/100\n",
      "604/604 - 75s - loss: 0.0014 - root_mean_squared_error: 0.0372 - val_loss: 0.0011 - val_root_mean_squared_error: 0.0325\n",
      "Epoch 77/100\n",
      "604/604 - 73s - loss: 0.0014 - root_mean_squared_error: 0.0371 - val_loss: 0.0010 - val_root_mean_squared_error: 0.0322\n",
      "Epoch 78/100\n",
      "604/604 - 73s - loss: 0.0014 - root_mean_squared_error: 0.0371 - val_loss: 0.0010 - val_root_mean_squared_error: 0.0318\n",
      "Epoch 79/100\n",
      "604/604 - 73s - loss: 0.0014 - root_mean_squared_error: 0.0371 - val_loss: 0.0011 - val_root_mean_squared_error: 0.0324\n",
      "Epoch 80/100\n",
      "604/604 - 74s - loss: 0.0014 - root_mean_squared_error: 0.0370 - val_loss: 0.0011 - val_root_mean_squared_error: 0.0325\n",
      "Epoch 81/100\n",
      "604/604 - 73s - loss: 0.0014 - root_mean_squared_error: 0.0370 - val_loss: 0.0010 - val_root_mean_squared_error: 0.0323\n",
      "Epoch 82/100\n",
      "604/604 - 74s - loss: 0.0014 - root_mean_squared_error: 0.0369 - val_loss: 0.0010 - val_root_mean_squared_error: 0.0323\n",
      "Epoch 83/100\n",
      "604/604 - 73s - loss: 0.0014 - root_mean_squared_error: 0.0369 - val_loss: 0.0010 - val_root_mean_squared_error: 0.0323\n",
      "Epoch 84/100\n",
      "604/604 - 74s - loss: 0.0014 - root_mean_squared_error: 0.0369 - val_loss: 0.0010 - val_root_mean_squared_error: 0.0320\n",
      "Epoch 85/100\n",
      "604/604 - 73s - loss: 0.0014 - root_mean_squared_error: 0.0368 - val_loss: 0.0010 - val_root_mean_squared_error: 0.0322\n",
      "Epoch 86/100\n",
      "604/604 - 73s - loss: 0.0014 - root_mean_squared_error: 0.0368 - val_loss: 0.0010 - val_root_mean_squared_error: 0.0322\n",
      "Epoch 87/100\n",
      "604/604 - 73s - loss: 0.0014 - root_mean_squared_error: 0.0368 - val_loss: 0.0010 - val_root_mean_squared_error: 0.0319\n",
      "Epoch 88/100\n",
      "604/604 - 73s - loss: 0.0014 - root_mean_squared_error: 0.0368 - val_loss: 0.0010 - val_root_mean_squared_error: 0.0322\n",
      "Epoch 89/100\n",
      "604/604 - 74s - loss: 0.0014 - root_mean_squared_error: 0.0368 - val_loss: 0.0010 - val_root_mean_squared_error: 0.0321\n",
      "Epoch 90/100\n",
      "604/604 - 56s - loss: 0.0013 - root_mean_squared_error: 0.0367 - val_loss: 0.0010 - val_root_mean_squared_error: 0.0323\n",
      "Epoch 91/100\n",
      "604/604 - 52s - loss: 0.0013 - root_mean_squared_error: 0.0367 - val_loss: 0.0010 - val_root_mean_squared_error: 0.0322\n",
      "Epoch 92/100\n",
      "604/604 - 53s - loss: 0.0013 - root_mean_squared_error: 0.0366 - val_loss: 0.0011 - val_root_mean_squared_error: 0.0325\n",
      "Epoch 93/100\n",
      "604/604 - 52s - loss: 0.0013 - root_mean_squared_error: 0.0366 - val_loss: 0.0011 - val_root_mean_squared_error: 0.0328\n",
      "Epoch 94/100\n",
      "604/604 - 53s - loss: 0.0013 - root_mean_squared_error: 0.0366 - val_loss: 0.0010 - val_root_mean_squared_error: 0.0322\n",
      "Epoch 95/100\n",
      "604/604 - 52s - loss: 0.0013 - root_mean_squared_error: 0.0366 - val_loss: 0.0010 - val_root_mean_squared_error: 0.0323\n",
      "Epoch 96/100\n",
      "604/604 - 53s - loss: 0.0013 - root_mean_squared_error: 0.0366 - val_loss: 0.0010 - val_root_mean_squared_error: 0.0323\n",
      "Epoch 97/100\n",
      "604/604 - 53s - loss: 0.0013 - root_mean_squared_error: 0.0365 - val_loss: 0.0010 - val_root_mean_squared_error: 0.0321\n",
      "Epoch 98/100\n",
      "604/604 - 53s - loss: 0.0013 - root_mean_squared_error: 0.0365 - val_loss: 0.0010 - val_root_mean_squared_error: 0.0320\n",
      "Epoch 99/100\n",
      "604/604 - 53s - loss: 0.0013 - root_mean_squared_error: 0.0364 - val_loss: 0.0010 - val_root_mean_squared_error: 0.0322\n",
      "Epoch 100/100\n",
      "604/604 - 53s - loss: 0.0013 - root_mean_squared_error: 0.0364 - val_loss: 0.0010 - val_root_mean_squared_error: 0.0321\n"
     ]
    }
   ],
   "source": [
    "import tensorflow as tf\n",
    "from tensorflow import keras\n",
    "from tensorflow.keras import layers\n",
    "from keras.layers import Input,LSTM,Dropout,Dense\n",
    "\n",
    "\n",
    "timesteps = 10\n",
    "# create and fit the LSTM network\n",
    "\n",
    "model = keras.Sequential()\n",
    "model.add(LSTM(100,input_shape=(timesteps,5),return_sequences=True))\n",
    "model.add(Dropout(0.2))\n",
    "model.add(LSTM(100,input_shape=(timesteps,5),return_sequences=True))\n",
    "model.add(Dropout(0.2))\n",
    "model.add(LSTM(100,input_shape=(timesteps,5),return_sequences=False))\n",
    "model.add(Dropout(0.2))\n",
    "model.add(Dense(50,activation='linear'))\n",
    "model.compile(optimizer='rmsprop',loss='mean_squared_error',metrics=[tf.keras.metrics.RootMeanSquaredError()])\n",
    "\n",
    "history = model.fit(train_X, train_Y, epochs=100, batch_size=512, verbose=2, validation_data=(test_X, test_Y))"
   ]
  },
  {
   "cell_type": "code",
   "execution_count": 10,
   "metadata": {},
   "outputs": [],
   "source": [
    "testPredict = model.predict(test_X)"
   ]
  },
  {
   "cell_type": "code",
   "execution_count": 11,
   "metadata": {},
   "outputs": [],
   "source": [
    "newtestPredict = scaler.inverse_transform(testPredict)\n",
    "newtest_Y = scaler.inverse_transform(test_Y)"
   ]
  },
  {
   "cell_type": "code",
   "execution_count": 12,
   "metadata": {},
   "outputs": [
    {
     "name": "stdout",
     "output_type": "stream",
     "text": [
      "Test Score: 0.91707 RMSE\n"
     ]
    }
   ],
   "source": [
    "testScore = sqrt(mean_squared_error(newtest_Y, newtestPredict))\n",
    "print('Test Score: %.5f RMSE' % (testScore))"
   ]
  },
  {
   "cell_type": "code",
   "execution_count": null,
   "metadata": {},
   "outputs": [],
   "source": []
  }
 ],
 "metadata": {
  "kernelspec": {
   "display_name": "Python 3",
   "language": "python",
   "name": "python3"
  },
  "language_info": {
   "codemirror_mode": {
    "name": "ipython",
    "version": 3
   },
   "file_extension": ".py",
   "mimetype": "text/x-python",
   "name": "python",
   "nbconvert_exporter": "python",
   "pygments_lexer": "ipython3",
   "version": "3.8.3"
  }
 },
 "nbformat": 4,
 "nbformat_minor": 4
}
