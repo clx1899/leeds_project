{
 "cells": [
  {
   "cell_type": "code",
   "execution_count": 1,
   "metadata": {},
   "outputs": [],
   "source": [
    "from test import EigenData\n",
    "import numpy as np\n",
    "import scipy.io\n",
    "import h5py\n",
    "from sklearn.preprocessing import MinMaxScaler\n",
    "from sklearn.metrics import mean_squared_error\n",
    "from math import sqrt\n",
    "import matplotlib.pyplot as plt\n",
    "from mpl_toolkits.axes_grid1 import make_axes_locatable\n",
    "import torch\n",
    "%matplotlib inline"
   ]
  },
  {
   "cell_type": "code",
   "execution_count": 2,
   "metadata": {},
   "outputs": [
    {
     "name": "stdout",
     "output_type": "stream",
     "text": [
      "b (5, 33600)\n",
      "(100, 5) (5, 33600)\n",
      "--> (100, 33600)\n",
      "c (5, 33600)\n",
      "(100, 5) (5, 33600)\n",
      "--> (100, 33600)\n",
      "d (5, 33600)\n",
      "(100, 5) (5, 33600)\n",
      "--> (100, 33600)\n",
      "e (5, 33600)\n",
      "(100, 5) (5, 33600)\n",
      "--> (100, 33600)\n",
      "f (5, 33600)\n",
      "(100, 5) (5, 33600)\n",
      "--> (100, 33600)\n",
      "g (6, 33600)\n",
      "(100, 6) (6, 33600)\n",
      "--> (100, 33600)\n",
      "h (5, 33600)\n",
      "(100, 5) (5, 33600)\n",
      "--> (100, 33600)\n",
      "i (6, 33600)\n",
      "(100, 6) (6, 33600)\n",
      "--> (100, 33600)\n",
      "j (5, 33600)\n",
      "(100, 5) (5, 33600)\n",
      "--> (100, 33600)\n",
      "k (5, 33600)\n",
      "(100, 5) (5, 33600)\n",
      "--> (100, 33600)\n",
      "l (5, 33600)\n",
      "(100, 5) (5, 33600)\n",
      "--> (100, 33600)\n",
      "m (5, 33600)\n",
      "(100, 5) (5, 33600)\n",
      "--> (100, 33600)\n",
      "(403200, 5)\n"
     ]
    }
   ],
   "source": [
    "data = EigenData()\n",
    "eigenworms = data.get_eigenworms('EigenWorms.mat')\n",
    "\n",
    "footage = data.get_footage('20150814-All-PNAS2011-DataStitched .mat')\n",
    "newdata = torch.rand(33600,5)\n",
    "for k in footage.keys():\n",
    "    print(k, footage[k].shape)\n",
    "    arr1=footage[k]\n",
    "\n",
    "    arr2=arr1[:5,]\n",
    "\n",
    "    r = data.reconstruct(footage[k])\n",
    "    print('-->', r.shape)\n",
    "    dataset1 = arr2.transpose()\n",
    "\n",
    "    newdata = np.concatenate((newdata,dataset1),axis=0)\n",
    "newdata = newdata[33600:,]\n",
    "print(newdata.shape)"
   ]
  },
  {
   "cell_type": "code",
   "execution_count": 3,
   "metadata": {},
   "outputs": [
    {
     "name": "stdout",
     "output_type": "stream",
     "text": [
      "(386422, 5)\n",
      "386422\n"
     ]
    }
   ],
   "source": [
    "data1=newdata[~np.isnan(newdata).any(axis=1)]\n",
    "\n",
    "data1 = data1.astype('float32')\n",
    "print(data1.shape)\n",
    "print(len(data1))"
   ]
  },
  {
   "cell_type": "code",
   "execution_count": 4,
   "metadata": {},
   "outputs": [],
   "source": [
    "def create_dataset(data,n_predictions,n_next):\n",
    "    \n",
    "   \n",
    "    dim = data.shape[1]\n",
    "    train_X, train_Y = [], []\n",
    "    for i in range(data.shape[0]-n_predictions-n_next-1):\n",
    "        a = data[i:(i+n_predictions),:]\n",
    "        train_X.append(a)\n",
    "        tempb = data[(i+n_predictions):(i+n_predictions+n_next),:]\n",
    "        b = []\n",
    "        for j in range(len(tempb)):\n",
    "            for k in range(dim):\n",
    "                b.append(tempb[j,k])\n",
    "        train_Y.append(b)\n",
    "    train_X = np.array(train_X,dtype='float64')\n",
    "    train_Y = np.array(train_Y,dtype='float64')\n",
    "\n",
    "    return train_X, train_Y"
   ]
  },
  {
   "cell_type": "code",
   "execution_count": 5,
   "metadata": {},
   "outputs": [
    {
     "name": "stdout",
     "output_type": "stream",
     "text": [
      "(386409, 10, 5)\n",
      "(386409, 10)\n"
     ]
    }
   ],
   "source": [
    "X, Y = create_dataset(data1,10,2)\n",
    "\n",
    "print(X.shape)\n",
    "print(Y.shape)"
   ]
  },
  {
   "cell_type": "code",
   "execution_count": 6,
   "metadata": {},
   "outputs": [],
   "source": [
    "scaler = MinMaxScaler(feature_range=(0, 1))\n",
    "data1 = scaler.fit_transform(data1)\n",
    "Y = scaler.fit_transform(Y)"
   ]
  },
  {
   "cell_type": "code",
   "execution_count": 8,
   "metadata": {},
   "outputs": [
    {
     "name": "stdout",
     "output_type": "stream",
     "text": [
      "(386409, 10, 5)\n",
      "(386409, 10)\n"
     ]
    }
   ],
   "source": [
    "data_X, data_Y = create_dataset(data1,10,2)\n",
    "\n",
    "print(data_X.shape)\n",
    "print(data_Y.shape)"
   ]
  },
  {
   "cell_type": "code",
   "execution_count": 9,
   "metadata": {},
   "outputs": [
    {
     "name": "stdout",
     "output_type": "stream",
     "text": [
      "(309127, 10, 5)\n",
      "(309127, 10)\n",
      "(77282, 10, 5)\n",
      "(77282, 10)\n"
     ]
    }
   ],
   "source": [
    "train_size = int(len(data_X) * 0.8)\n",
    "test_size = len(data_X) - train_size\n",
    "train_X = data_X[:train_size]\n",
    "train_Y = Y[:train_size]\n",
    "test_X = data_X[train_size:]\n",
    "test_Y = Y[train_size:]\n",
    "\n",
    "print(train_X.shape)\n",
    "print(train_Y.shape)\n",
    "print(test_X.shape)\n",
    "print(test_Y.shape)"
   ]
  },
  {
   "cell_type": "code",
   "execution_count": 10,
   "metadata": {},
   "outputs": [
    {
     "name": "stdout",
     "output_type": "stream",
     "text": [
      "Epoch 1/100\n",
      "604/604 - 63s - loss: 0.0109 - root_mean_squared_error: 0.1044 - val_loss: 0.0021 - val_root_mean_squared_error: 0.0463\n",
      "Epoch 2/100\n",
      "604/604 - 59s - loss: 0.0030 - root_mean_squared_error: 0.0545 - val_loss: 0.0014 - val_root_mean_squared_error: 0.0380\n",
      "Epoch 3/100\n",
      "604/604 - 58s - loss: 0.0018 - root_mean_squared_error: 0.0424 - val_loss: 4.3192e-04 - val_root_mean_squared_error: 0.0208\n",
      "Epoch 4/100\n",
      "604/604 - 59s - loss: 0.0013 - root_mean_squared_error: 0.0358 - val_loss: 4.7778e-04 - val_root_mean_squared_error: 0.0219\n",
      "Epoch 5/100\n",
      "604/604 - 56s - loss: 0.0010 - root_mean_squared_error: 0.0319 - val_loss: 2.4837e-04 - val_root_mean_squared_error: 0.0158\n",
      "Epoch 6/100\n",
      "604/604 - 56s - loss: 8.4844e-04 - root_mean_squared_error: 0.0291 - val_loss: 2.4779e-04 - val_root_mean_squared_error: 0.0157\n",
      "Epoch 7/100\n",
      "604/604 - 56s - loss: 7.2287e-04 - root_mean_squared_error: 0.0269 - val_loss: 2.6071e-04 - val_root_mean_squared_error: 0.0161\n",
      "Epoch 8/100\n",
      "604/604 - 57s - loss: 6.3429e-04 - root_mean_squared_error: 0.0252 - val_loss: 1.8213e-04 - val_root_mean_squared_error: 0.0135\n",
      "Epoch 9/100\n",
      "604/604 - 57s - loss: 5.6722e-04 - root_mean_squared_error: 0.0238 - val_loss: 1.7391e-04 - val_root_mean_squared_error: 0.0132\n",
      "Epoch 10/100\n",
      "604/604 - 56s - loss: 5.2402e-04 - root_mean_squared_error: 0.0229 - val_loss: 2.0939e-04 - val_root_mean_squared_error: 0.0145\n",
      "Epoch 11/100\n",
      "604/604 - 56s - loss: 4.9210e-04 - root_mean_squared_error: 0.0222 - val_loss: 1.6580e-04 - val_root_mean_squared_error: 0.0129\n",
      "Epoch 12/100\n",
      "604/604 - 56s - loss: 4.7341e-04 - root_mean_squared_error: 0.0218 - val_loss: 1.2064e-04 - val_root_mean_squared_error: 0.0110\n",
      "Epoch 13/100\n",
      "604/604 - 56s - loss: 4.5770e-04 - root_mean_squared_error: 0.0214 - val_loss: 2.4499e-04 - val_root_mean_squared_error: 0.0157\n",
      "Epoch 14/100\n",
      "604/604 - 57s - loss: 4.4666e-04 - root_mean_squared_error: 0.0211 - val_loss: 1.8116e-04 - val_root_mean_squared_error: 0.0135\n",
      "Epoch 15/100\n",
      "604/604 - 56s - loss: 4.3603e-04 - root_mean_squared_error: 0.0209 - val_loss: 1.5979e-04 - val_root_mean_squared_error: 0.0126\n",
      "Epoch 16/100\n",
      "604/604 - 58s - loss: 4.2772e-04 - root_mean_squared_error: 0.0207 - val_loss: 1.6869e-04 - val_root_mean_squared_error: 0.0130\n",
      "Epoch 17/100\n",
      "604/604 - 55s - loss: 4.2120e-04 - root_mean_squared_error: 0.0205 - val_loss: 1.2233e-04 - val_root_mean_squared_error: 0.0111\n",
      "Epoch 18/100\n",
      "604/604 - 55s - loss: 4.1499e-04 - root_mean_squared_error: 0.0204 - val_loss: 9.9705e-05 - val_root_mean_squared_error: 0.0100\n",
      "Epoch 19/100\n",
      "604/604 - 55s - loss: 4.0966e-04 - root_mean_squared_error: 0.0202 - val_loss: 8.7337e-05 - val_root_mean_squared_error: 0.0093\n",
      "Epoch 20/100\n",
      "604/604 - 55s - loss: 4.0351e-04 - root_mean_squared_error: 0.0201 - val_loss: 1.1422e-04 - val_root_mean_squared_error: 0.0107\n",
      "Epoch 21/100\n",
      "604/604 - 58s - loss: 3.9892e-04 - root_mean_squared_error: 0.0200 - val_loss: 1.1856e-04 - val_root_mean_squared_error: 0.0109\n",
      "Epoch 22/100\n",
      "604/604 - 58s - loss: 3.9490e-04 - root_mean_squared_error: 0.0199 - val_loss: 1.0906e-04 - val_root_mean_squared_error: 0.0104\n",
      "Epoch 23/100\n",
      "604/604 - 57s - loss: 3.9112e-04 - root_mean_squared_error: 0.0198 - val_loss: 1.3059e-04 - val_root_mean_squared_error: 0.0114\n",
      "Epoch 24/100\n",
      "604/604 - 56s - loss: 3.8625e-04 - root_mean_squared_error: 0.0197 - val_loss: 1.0094e-04 - val_root_mean_squared_error: 0.0100\n",
      "Epoch 25/100\n",
      "604/604 - 57s - loss: 3.8320e-04 - root_mean_squared_error: 0.0196 - val_loss: 1.0656e-04 - val_root_mean_squared_error: 0.0103\n",
      "Epoch 26/100\n",
      "604/604 - 60s - loss: 3.8134e-04 - root_mean_squared_error: 0.0195 - val_loss: 1.1817e-04 - val_root_mean_squared_error: 0.0109\n",
      "Epoch 27/100\n",
      "604/604 - 61s - loss: 3.7852e-04 - root_mean_squared_error: 0.0195 - val_loss: 1.0355e-04 - val_root_mean_squared_error: 0.0102\n",
      "Epoch 28/100\n",
      "604/604 - 55s - loss: 3.7488e-04 - root_mean_squared_error: 0.0194 - val_loss: 9.9988e-05 - val_root_mean_squared_error: 0.0100\n",
      "Epoch 29/100\n",
      "604/604 - 54s - loss: 3.7239e-04 - root_mean_squared_error: 0.0193 - val_loss: 1.5490e-04 - val_root_mean_squared_error: 0.0124\n",
      "Epoch 30/100\n",
      "604/604 - 54s - loss: 3.7068e-04 - root_mean_squared_error: 0.0193 - val_loss: 1.1215e-04 - val_root_mean_squared_error: 0.0106\n",
      "Epoch 31/100\n",
      "604/604 - 54s - loss: 3.6746e-04 - root_mean_squared_error: 0.0192 - val_loss: 1.2558e-04 - val_root_mean_squared_error: 0.0112\n",
      "Epoch 32/100\n",
      "604/604 - 55s - loss: 3.6473e-04 - root_mean_squared_error: 0.0191 - val_loss: 1.1015e-04 - val_root_mean_squared_error: 0.0105\n",
      "Epoch 33/100\n",
      "604/604 - 60s - loss: 3.6208e-04 - root_mean_squared_error: 0.0190 - val_loss: 1.6367e-04 - val_root_mean_squared_error: 0.0128\n",
      "Epoch 34/100\n",
      "604/604 - 57s - loss: 3.6151e-04 - root_mean_squared_error: 0.0190 - val_loss: 1.0845e-04 - val_root_mean_squared_error: 0.0104\n",
      "Epoch 35/100\n",
      "604/604 - 56s - loss: 3.5993e-04 - root_mean_squared_error: 0.0190 - val_loss: 8.2772e-05 - val_root_mean_squared_error: 0.0091\n",
      "Epoch 36/100\n",
      "604/604 - 59s - loss: 3.5801e-04 - root_mean_squared_error: 0.0189 - val_loss: 9.0568e-05 - val_root_mean_squared_error: 0.0095\n",
      "Epoch 37/100\n",
      "604/604 - 56s - loss: 3.5513e-04 - root_mean_squared_error: 0.0188 - val_loss: 1.2774e-04 - val_root_mean_squared_error: 0.0113\n",
      "Epoch 38/100\n",
      "604/604 - 58s - loss: 3.5355e-04 - root_mean_squared_error: 0.0188 - val_loss: 1.0174e-04 - val_root_mean_squared_error: 0.0101\n",
      "Epoch 39/100\n",
      "604/604 - 56s - loss: 3.5337e-04 - root_mean_squared_error: 0.0188 - val_loss: 1.1154e-04 - val_root_mean_squared_error: 0.0106\n",
      "Epoch 40/100\n",
      "604/604 - 58s - loss: 3.5057e-04 - root_mean_squared_error: 0.0187 - val_loss: 9.4736e-05 - val_root_mean_squared_error: 0.0097\n",
      "Epoch 41/100\n",
      "604/604 - 57s - loss: 3.4879e-04 - root_mean_squared_error: 0.0187 - val_loss: 6.5665e-05 - val_root_mean_squared_error: 0.0081\n",
      "Epoch 42/100\n",
      "604/604 - 56s - loss: 3.4752e-04 - root_mean_squared_error: 0.0186 - val_loss: 1.0090e-04 - val_root_mean_squared_error: 0.0100\n",
      "Epoch 43/100\n",
      "604/604 - 55s - loss: 3.4752e-04 - root_mean_squared_error: 0.0186 - val_loss: 1.0934e-04 - val_root_mean_squared_error: 0.0105\n",
      "Epoch 44/100\n",
      "604/604 - 56s - loss: 3.4552e-04 - root_mean_squared_error: 0.0186 - val_loss: 1.0490e-04 - val_root_mean_squared_error: 0.0102\n",
      "Epoch 45/100\n",
      "604/604 - 57s - loss: 3.4386e-04 - root_mean_squared_error: 0.0185 - val_loss: 9.7321e-05 - val_root_mean_squared_error: 0.0099\n",
      "Epoch 46/100\n",
      "604/604 - 54s - loss: 3.4366e-04 - root_mean_squared_error: 0.0185 - val_loss: 1.0914e-04 - val_root_mean_squared_error: 0.0104\n",
      "Epoch 47/100\n",
      "604/604 - 54s - loss: 3.4184e-04 - root_mean_squared_error: 0.0185 - val_loss: 7.0852e-05 - val_root_mean_squared_error: 0.0084\n",
      "Epoch 48/100\n",
      "604/604 - 54s - loss: 3.4014e-04 - root_mean_squared_error: 0.0184 - val_loss: 6.9367e-05 - val_root_mean_squared_error: 0.0083\n",
      "Epoch 49/100\n",
      "604/604 - 54s - loss: 3.3941e-04 - root_mean_squared_error: 0.0184 - val_loss: 8.7012e-05 - val_root_mean_squared_error: 0.0093\n",
      "Epoch 50/100\n",
      "604/604 - 54s - loss: 3.3817e-04 - root_mean_squared_error: 0.0184 - val_loss: 1.0556e-04 - val_root_mean_squared_error: 0.0103\n",
      "Epoch 51/100\n",
      "604/604 - 54s - loss: 3.3652e-04 - root_mean_squared_error: 0.0183 - val_loss: 7.8302e-05 - val_root_mean_squared_error: 0.0088\n",
      "Epoch 52/100\n",
      "604/604 - 54s - loss: 3.3664e-04 - root_mean_squared_error: 0.0183 - val_loss: 7.3920e-05 - val_root_mean_squared_error: 0.0086\n",
      "Epoch 53/100\n",
      "604/604 - 54s - loss: 3.3612e-04 - root_mean_squared_error: 0.0183 - val_loss: 9.6402e-05 - val_root_mean_squared_error: 0.0098\n",
      "Epoch 54/100\n",
      "604/604 - 54s - loss: 3.3443e-04 - root_mean_squared_error: 0.0183 - val_loss: 6.7257e-05 - val_root_mean_squared_error: 0.0082\n",
      "Epoch 55/100\n",
      "604/604 - 54s - loss: 3.3312e-04 - root_mean_squared_error: 0.0183 - val_loss: 9.6855e-05 - val_root_mean_squared_error: 0.0098\n",
      "Epoch 56/100\n",
      "604/604 - 54s - loss: 3.3237e-04 - root_mean_squared_error: 0.0182 - val_loss: 7.0652e-05 - val_root_mean_squared_error: 0.0084\n",
      "Epoch 57/100\n",
      "604/604 - 54s - loss: 3.3239e-04 - root_mean_squared_error: 0.0182 - val_loss: 6.3605e-05 - val_root_mean_squared_error: 0.0080\n",
      "Epoch 58/100\n",
      "604/604 - 54s - loss: 3.3049e-04 - root_mean_squared_error: 0.0182 - val_loss: 8.8619e-05 - val_root_mean_squared_error: 0.0094\n",
      "Epoch 59/100\n",
      "604/604 - 54s - loss: 3.2978e-04 - root_mean_squared_error: 0.0182 - val_loss: 7.8933e-05 - val_root_mean_squared_error: 0.0089\n"
     ]
    },
    {
     "name": "stdout",
     "output_type": "stream",
     "text": [
      "Epoch 60/100\n",
      "604/604 - 54s - loss: 3.2933e-04 - root_mean_squared_error: 0.0181 - val_loss: 7.3147e-05 - val_root_mean_squared_error: 0.0086\n",
      "Epoch 61/100\n",
      "604/604 - 54s - loss: 3.2957e-04 - root_mean_squared_error: 0.0182 - val_loss: 8.3175e-05 - val_root_mean_squared_error: 0.0091\n",
      "Epoch 62/100\n",
      "604/604 - 54s - loss: 3.2691e-04 - root_mean_squared_error: 0.0181 - val_loss: 7.4061e-05 - val_root_mean_squared_error: 0.0086\n",
      "Epoch 63/100\n",
      "604/604 - 55s - loss: 3.2681e-04 - root_mean_squared_error: 0.0181 - val_loss: 5.8597e-05 - val_root_mean_squared_error: 0.0077\n",
      "Epoch 64/100\n",
      "604/604 - 55s - loss: 3.2611e-04 - root_mean_squared_error: 0.0181 - val_loss: 7.8740e-05 - val_root_mean_squared_error: 0.0089\n",
      "Epoch 65/100\n",
      "604/604 - 54s - loss: 3.2526e-04 - root_mean_squared_error: 0.0180 - val_loss: 5.9541e-05 - val_root_mean_squared_error: 0.0077\n",
      "Epoch 66/100\n",
      "604/604 - 54s - loss: 3.2568e-04 - root_mean_squared_error: 0.0180 - val_loss: 7.7278e-05 - val_root_mean_squared_error: 0.0088\n",
      "Epoch 67/100\n",
      "604/604 - 55s - loss: 3.2432e-04 - root_mean_squared_error: 0.0180 - val_loss: 7.6008e-05 - val_root_mean_squared_error: 0.0087\n",
      "Epoch 68/100\n",
      "604/604 - 54s - loss: 3.2438e-04 - root_mean_squared_error: 0.0180 - val_loss: 7.1824e-05 - val_root_mean_squared_error: 0.0085\n",
      "Epoch 69/100\n",
      "604/604 - 54s - loss: 3.2329e-04 - root_mean_squared_error: 0.0180 - val_loss: 8.3140e-05 - val_root_mean_squared_error: 0.0091\n",
      "Epoch 70/100\n",
      "604/604 - 54s - loss: 3.2336e-04 - root_mean_squared_error: 0.0180 - val_loss: 8.3165e-05 - val_root_mean_squared_error: 0.0091\n",
      "Epoch 71/100\n",
      "604/604 - 54s - loss: 3.2136e-04 - root_mean_squared_error: 0.0179 - val_loss: 7.3597e-05 - val_root_mean_squared_error: 0.0086\n",
      "Epoch 72/100\n",
      "604/604 - 55s - loss: 3.2047e-04 - root_mean_squared_error: 0.0179 - val_loss: 7.5374e-05 - val_root_mean_squared_error: 0.0087\n",
      "Epoch 73/100\n",
      "604/604 - 55s - loss: 3.2063e-04 - root_mean_squared_error: 0.0179 - val_loss: 8.9067e-05 - val_root_mean_squared_error: 0.0094\n",
      "Epoch 74/100\n",
      "604/604 - 54s - loss: 3.2061e-04 - root_mean_squared_error: 0.0179 - val_loss: 9.8238e-05 - val_root_mean_squared_error: 0.0099\n",
      "Epoch 75/100\n",
      "604/604 - 54s - loss: 3.2013e-04 - root_mean_squared_error: 0.0179 - val_loss: 7.0860e-05 - val_root_mean_squared_error: 0.0084\n",
      "Epoch 76/100\n",
      "604/604 - 54s - loss: 3.1884e-04 - root_mean_squared_error: 0.0179 - val_loss: 5.1866e-05 - val_root_mean_squared_error: 0.0072\n",
      "Epoch 77/100\n",
      "604/604 - 54s - loss: 3.1812e-04 - root_mean_squared_error: 0.0178 - val_loss: 5.5321e-05 - val_root_mean_squared_error: 0.0074\n",
      "Epoch 78/100\n",
      "604/604 - 54s - loss: 3.1814e-04 - root_mean_squared_error: 0.0178 - val_loss: 7.1964e-05 - val_root_mean_squared_error: 0.0085\n",
      "Epoch 79/100\n",
      "604/604 - 54s - loss: 3.1669e-04 - root_mean_squared_error: 0.0178 - val_loss: 7.0964e-05 - val_root_mean_squared_error: 0.0084\n",
      "Epoch 80/100\n",
      "604/604 - 54s - loss: 3.1651e-04 - root_mean_squared_error: 0.0178 - val_loss: 7.6683e-05 - val_root_mean_squared_error: 0.0088\n",
      "Epoch 81/100\n",
      "604/604 - 55s - loss: 3.1646e-04 - root_mean_squared_error: 0.0178 - val_loss: 6.0279e-05 - val_root_mean_squared_error: 0.0078\n",
      "Epoch 82/100\n",
      "604/604 - 54s - loss: 3.1517e-04 - root_mean_squared_error: 0.0178 - val_loss: 6.5105e-05 - val_root_mean_squared_error: 0.0081\n",
      "Epoch 83/100\n",
      "604/604 - 54s - loss: 3.1461e-04 - root_mean_squared_error: 0.0177 - val_loss: 6.6677e-05 - val_root_mean_squared_error: 0.0082\n",
      "Epoch 84/100\n",
      "604/604 - 54s - loss: 3.1448e-04 - root_mean_squared_error: 0.0177 - val_loss: 7.1434e-05 - val_root_mean_squared_error: 0.0085\n",
      "Epoch 85/100\n",
      "604/604 - 55s - loss: 3.1342e-04 - root_mean_squared_error: 0.0177 - val_loss: 6.5372e-05 - val_root_mean_squared_error: 0.0081\n",
      "Epoch 86/100\n",
      "604/604 - 55s - loss: 3.1460e-04 - root_mean_squared_error: 0.0177 - val_loss: 7.5859e-05 - val_root_mean_squared_error: 0.0087\n",
      "Epoch 87/100\n",
      "604/604 - 54s - loss: 3.1344e-04 - root_mean_squared_error: 0.0177 - val_loss: 6.8017e-05 - val_root_mean_squared_error: 0.0082\n",
      "Epoch 88/100\n",
      "604/604 - 54s - loss: 3.1367e-04 - root_mean_squared_error: 0.0177 - val_loss: 7.3295e-05 - val_root_mean_squared_error: 0.0086\n",
      "Epoch 89/100\n",
      "604/604 - 55s - loss: 3.1212e-04 - root_mean_squared_error: 0.0177 - val_loss: 7.1002e-05 - val_root_mean_squared_error: 0.0084\n",
      "Epoch 90/100\n",
      "604/604 - 54s - loss: 3.1178e-04 - root_mean_squared_error: 0.0177 - val_loss: 6.7177e-05 - val_root_mean_squared_error: 0.0082\n",
      "Epoch 91/100\n",
      "604/604 - 54s - loss: 3.1149e-04 - root_mean_squared_error: 0.0176 - val_loss: 5.6003e-05 - val_root_mean_squared_error: 0.0075\n",
      "Epoch 92/100\n",
      "604/604 - 54s - loss: 3.1159e-04 - root_mean_squared_error: 0.0177 - val_loss: 6.3868e-05 - val_root_mean_squared_error: 0.0080\n",
      "Epoch 93/100\n",
      "604/604 - 54s - loss: 3.0995e-04 - root_mean_squared_error: 0.0176 - val_loss: 7.1006e-05 - val_root_mean_squared_error: 0.0084\n",
      "Epoch 94/100\n",
      "604/604 - 54s - loss: 3.0971e-04 - root_mean_squared_error: 0.0176 - val_loss: 7.7046e-05 - val_root_mean_squared_error: 0.0088\n",
      "Epoch 95/100\n",
      "604/604 - 54s - loss: 3.0943e-04 - root_mean_squared_error: 0.0176 - val_loss: 6.3414e-05 - val_root_mean_squared_error: 0.0080\n",
      "Epoch 96/100\n",
      "604/604 - 54s - loss: 3.0931e-04 - root_mean_squared_error: 0.0176 - val_loss: 6.9118e-05 - val_root_mean_squared_error: 0.0083\n",
      "Epoch 97/100\n",
      "604/604 - 55s - loss: 3.0779e-04 - root_mean_squared_error: 0.0175 - val_loss: 6.5289e-05 - val_root_mean_squared_error: 0.0081\n",
      "Epoch 98/100\n",
      "604/604 - 54s - loss: 3.0745e-04 - root_mean_squared_error: 0.0175 - val_loss: 8.1017e-05 - val_root_mean_squared_error: 0.0090\n",
      "Epoch 99/100\n",
      "604/604 - 55s - loss: 3.0834e-04 - root_mean_squared_error: 0.0176 - val_loss: 8.0007e-05 - val_root_mean_squared_error: 0.0089\n",
      "Epoch 100/100\n",
      "604/604 - 55s - loss: 3.0715e-04 - root_mean_squared_error: 0.0175 - val_loss: 5.6191e-05 - val_root_mean_squared_error: 0.0075\n"
     ]
    }
   ],
   "source": [
    "import tensorflow as tf\n",
    "from tensorflow import keras\n",
    "from tensorflow.keras import layers\n",
    "from keras.layers import Input,LSTM,Dropout,Dense\n",
    "\n",
    "\n",
    "timesteps = 10\n",
    "# create and fit the LSTM network\n",
    "\n",
    "model = keras.Sequential()\n",
    "model.add(LSTM(100,input_shape=(timesteps,5),return_sequences=True))\n",
    "model.add(Dropout(0.2))\n",
    "model.add(LSTM(100,input_shape=(timesteps,5),return_sequences=True))\n",
    "model.add(Dropout(0.2))\n",
    "model.add(LSTM(100,input_shape=(timesteps,5),return_sequences=False))\n",
    "model.add(Dropout(0.2))\n",
    "model.add(Dense(10,activation='linear'))\n",
    "model.compile(optimizer='rmsprop',loss='mean_squared_error',metrics=[tf.keras.metrics.RootMeanSquaredError()])\n",
    "\n",
    "history = model.fit(train_X, train_Y, epochs=100, batch_size=512, verbose=2, validation_data=(test_X, test_Y))"
   ]
  },
  {
   "cell_type": "code",
   "execution_count": 11,
   "metadata": {},
   "outputs": [],
   "source": [
    "testPredict = model.predict(test_X)"
   ]
  },
  {
   "cell_type": "code",
   "execution_count": 12,
   "metadata": {},
   "outputs": [],
   "source": [
    "newtestPredict = scaler.inverse_transform(testPredict)\n",
    "newtest_Y = scaler.inverse_transform(test_Y)"
   ]
  },
  {
   "cell_type": "code",
   "execution_count": 13,
   "metadata": {},
   "outputs": [
    {
     "name": "stdout",
     "output_type": "stream",
     "text": [
      "Test Score: 0.24957 RMSE\n"
     ]
    }
   ],
   "source": [
    "testScore = sqrt(mean_squared_error(newtest_Y, newtestPredict))\n",
    "print('Test Score: %.5f RMSE' % (testScore))"
   ]
  },
  {
   "cell_type": "code",
   "execution_count": null,
   "metadata": {},
   "outputs": [],
   "source": []
  }
 ],
 "metadata": {
  "kernelspec": {
   "display_name": "Python 3",
   "language": "python",
   "name": "python3"
  },
  "language_info": {
   "codemirror_mode": {
    "name": "ipython",
    "version": 3
   },
   "file_extension": ".py",
   "mimetype": "text/x-python",
   "name": "python",
   "nbconvert_exporter": "python",
   "pygments_lexer": "ipython3",
   "version": "3.8.3"
  }
 },
 "nbformat": 4,
 "nbformat_minor": 4
}
