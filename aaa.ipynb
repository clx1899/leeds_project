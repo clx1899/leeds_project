{
 "cells": [
  {
   "cell_type": "code",
   "execution_count": 1,
   "metadata": {
    "pycharm": {
     "name": "#%%\n"
    }
   },
   "outputs": [],
   "source": [
    "from test import EigenData\n",
    "import numpy as np\n",
    "import scipy.io\n",
    "import h5py"
   ]
  },
  {
   "cell_type": "code",
   "execution_count": 2,
   "metadata": {
    "pycharm": {
     "name": "#%%\n"
    }
   },
   "outputs": [],
   "source": [
    "import numpy as np\n",
    "import scipy.io\n",
    "import h5py\n",
    "\n",
    "class EigenData(object):\n",
    "    '''Represents the original experiment data.'''\n",
    "\n",
    "    def __init__(self, eigen_path =\"\", footage_path=\"\"):\n",
    "        self._eigen_path = eigen_path\n",
    "        self._footage_path = footage_path\n",
    "\n",
    "    def get_data(self):\n",
    "        '''\n",
    "        Loads the matlab files from the original experiment and parses them into\n",
    "        expected numpy formats\n",
    "        '''\n",
    "        #Load the matlab files into numpy arrays\n",
    "        eigenworms = scipy.io.loadmat(self._eigen_path)\n",
    "        eigenworms = eigenworms[\"EigenWorms\"].transpose()\n",
    "        footage = {}\n",
    "        f = h5py.File(self._footage_path)\n",
    "        i = 0\n",
    "        for k, v in f.items():\n",
    "            if k != \"tr\":\n",
    "                for k2, v2 in v.items():\n",
    "                    if v2.shape == (5, 33600) or v2.shape == (6, 33600):\n",
    "                        footage[i] = np.array(v2)\n",
    "                        i+=1\n",
    "        return eigenworms, footage\n",
    "\n",
    "\n"
   ]
  },
  {
   "cell_type": "code",
   "execution_count": 3,
   "metadata": {
    "pycharm": {
     "name": "#%%\n"
    }
   },
   "outputs": [
    {
     "name": "stderr",
     "output_type": "stream",
     "text": [
      "<ipython-input-2-ff1fdf30fa6d>:21: H5pyDeprecationWarning: The default file mode will change to 'r' (read-only) in h5py 3.0. To suppress this warning, pass the mode you need to h5py.File(), or set the global default h5.get_config().default_file_mode, or set the environment variable H5PY_DEFAULT_READONLY=1. Available modes are: 'r', 'r+', 'w', 'w-'/'x', 'a'. See the docs for details.\n",
      "  f = h5py.File(self._footage_path)\n"
     ]
    }
   ],
   "source": [
    "eigen_data = EigenData(eigen_path=\"EigenWorms.mat\", footage_path=\"20150814-All-PNAS2011-DataStitched .mat\")\n",
    "eigenworms, footage = eigen_data.get_data()\n",
    "first_5_eigenworms = eigenworms[0:5,:]\n",
    "eig_worm_0 = eigenworms[0,:]\n",
    "eig_worm_1 = eigenworms[1,:]\n",
    "eig_worm_2 = eigenworms[2,:]\n",
    "eig_worm_3 = eigenworms[3,:]\n",
    "eig_worm_4 = eigenworms[4,:]\n"
   ]
  },
  {
   "cell_type": "code",
   "execution_count": null,
   "metadata": {},
   "outputs": [],
   "source": []
  },
  {
   "cell_type": "code",
   "execution_count": 7,
   "metadata": {
    "pycharm": {
     "name": "#%%\n"
    }
   },
   "outputs": [
    {
     "data": {
      "text/plain": [
       "{0: array([[ 8.2586626 ,  6.07806532,  3.96412958, ..., -1.94622118,\n",
       "         -2.91328623, -3.86924372],\n",
       "        [-5.50801436, -5.94455646, -6.22865303, ...,  2.91482139,\n",
       "          1.89497835,  0.87924831],\n",
       "        [ 8.44078059,  9.16939263,  9.86651524, ...,  7.73737625,\n",
       "          7.62790371,  7.46222861],\n",
       "        [-1.7414659 , -1.4143663 , -1.0812419 , ...,  1.46078249,\n",
       "          1.42496293,  1.38377708],\n",
       "        [ 0.37682851,  0.42422493,  0.51043037, ...,  0.65127925,\n",
       "          0.45666343,  0.15840032]]),\n",
       " 1: array([[-0.87724623, -2.13047664, -3.30137387, ...,         nan,\n",
       "                 nan,         nan],\n",
       "        [-3.90483733, -3.76437773, -3.53974341, ...,         nan,\n",
       "                 nan,         nan],\n",
       "        [ 1.92198509,  1.68303409,  1.44458689, ...,         nan,\n",
       "                 nan,         nan],\n",
       "        [-3.07753087, -2.87109313, -2.60960928, ...,         nan,\n",
       "                 nan,         nan],\n",
       "        [ 0.25005439,  0.22348433,  0.23776887, ...,         nan,\n",
       "                 nan,         nan]]),\n",
       " 2: array([[        nan,         nan,         nan, ...,  2.50612433,\n",
       "          2.78929842,  3.05429441],\n",
       "        [        nan,         nan,         nan, ..., -0.17985507,\n",
       "         -0.06173014,  0.03587389],\n",
       "        [        nan,         nan,         nan, ...,  3.72341364,\n",
       "          4.16953805,  4.61213533],\n",
       "        [        nan,         nan,         nan, ...,  4.75715492,\n",
       "          4.26936622,  3.73166441],\n",
       "        [        nan,         nan,         nan, ..., -0.64256295,\n",
       "         -1.38720592, -2.11575342]]),\n",
       " 3: array([[        nan,         nan,         nan, ..., -5.09921949,\n",
       "         -5.26218134, -5.32723578],\n",
       "        [        nan,         nan,         nan, ..., -1.08515324,\n",
       "         -0.32248753,  0.52753973],\n",
       "        [        nan,         nan,         nan, ..., -0.93407856,\n",
       "         -1.23277071, -1.54335158],\n",
       "        [        nan,         nan,         nan, ..., -0.76133336,\n",
       "          0.1577589 ,  1.16458173],\n",
       "        [        nan,         nan,         nan, ...,  1.44413336,\n",
       "          1.52469739,  1.60829437]]),\n",
       " 4: array([[ 5.0365335 ,  5.24011624,  5.39535954, ...,  0.36199434,\n",
       "          1.67135594,  2.98462786],\n",
       "        [ 2.12238807,  1.72573677,  1.29487431, ...,  3.54108059,\n",
       "          3.70287428,  3.78112227],\n",
       "        [ 1.23134513,  1.36152266,  1.48816846, ..., -2.09085082,\n",
       "         -1.94554665, -1.80609031],\n",
       "        [ 1.58743844,  0.92496035,  0.25355733, ...,  2.50210345,\n",
       "          2.10597769,  1.63926517],\n",
       "        [-2.41970504, -2.27857939, -2.13640625, ..., -0.65509491,\n",
       "         -0.76726237, -0.87098515]]),\n",
       " 5: array([[ 1.81055717,  2.2250345 ,  2.60720586, ..., -1.10276375,\n",
       "         -1.05941689, -1.01481921],\n",
       "        [ 1.44225424,  1.34338248,  1.22948525, ...,  2.33833734,\n",
       "          2.26177398,  2.14099365],\n",
       "        [-0.99275704, -0.80349578, -0.61797553, ..., 15.44378264,\n",
       "         15.47851645, 15.50257537],\n",
       "        [ 3.73483807,  3.51159901,  3.25340384, ...,  0.26880445,\n",
       "          0.33778177,  0.40553739],\n",
       "        [-0.29295045, -0.73427897, -1.16051109, ...,  3.36061993,\n",
       "          3.29238817,  3.16802315],\n",
       "        [        nan,         nan,         nan, ...,         nan,\n",
       "                 nan,         nan]]),\n",
       " 6: array([[-9.28012207, -9.2475621 , -9.21609083, ..., -4.43718051,\n",
       "         -3.5322022 , -2.56937147],\n",
       "        [ 1.52213701,  2.01241941,  2.46253266, ...,  9.90699211,\n",
       "         10.78505145, 11.6495218 ],\n",
       "        [-0.33528091, -0.6221293 , -0.93032126, ...,  8.08334521,\n",
       "          7.44061617,  7.10936487],\n",
       "        [-0.29270615, -0.32275818, -0.32440461, ..., -2.90629629,\n",
       "         -2.57964007, -2.29987245],\n",
       "        [-0.68163602, -0.73312161, -0.77491659, ...,  1.48634474,\n",
       "          1.83249437,  2.23693764]]),\n",
       " 7: array([[ 2.8355536 ,  1.77296521,  0.71181515, ...,  4.65645543,\n",
       "          5.54191494,  6.33428611],\n",
       "        [-4.79939678, -5.09758601, -5.31795123, ...,  3.02591036,\n",
       "          1.77866199,  0.46275195],\n",
       "        [-1.56525087, -1.17886565, -0.79072029, ..., -1.20233013,\n",
       "         -1.26401575, -1.26541347],\n",
       "        [ 0.38057541,  0.32147237,  0.29417012, ..., -0.31011923,\n",
       "         -0.25436585, -0.22246704],\n",
       "        [-0.36577711, -0.52057963, -0.65589737, ...,  0.83223874,\n",
       "          0.9145207 ,  0.94573258],\n",
       "        [        nan,         nan,         nan, ...,         nan,\n",
       "                 nan,         nan]]),\n",
       " 8: array([[-3.45278471, -4.22757346, -4.96519989, ..., -3.73525534,\n",
       "         -3.51393751, -3.30631444],\n",
       "        [-4.57148584, -3.93056337, -3.20713016, ..., -2.81559265,\n",
       "         -2.52949602, -2.2630774 ],\n",
       "        [-0.16279321, -0.20870097, -0.27894136, ..., -4.42334644,\n",
       "         -4.26482396, -4.10836688],\n",
       "        [-1.37703156, -0.87039456, -0.3524111 , ...,  3.27600284,\n",
       "          3.59861034,  3.88904141],\n",
       "        [ 0.58079275,  0.45801178,  0.35995683, ...,  1.06151922,\n",
       "          1.05045299,  1.02115729]]),\n",
       " 9: array([[-2.31288285, -3.15551086, -3.94484035, ...,  2.95117522,\n",
       "          2.46333233,  1.94428698],\n",
       "        [-5.52896584, -5.21996471, -4.87129977, ...,  0.05791125,\n",
       "         -0.55069514, -1.14455949],\n",
       "        [ 0.2556853 ,  0.27807929,  0.30119017, ..., -0.44717875,\n",
       "         -0.61600012, -0.78523627],\n",
       "        [-1.57005996, -1.04266495, -0.53203835, ..., -3.81308589,\n",
       "         -4.1963135 , -4.5516446 ],\n",
       "        [ 1.43244158,  1.34369864,  1.25961978, ..., -1.35022457,\n",
       "         -1.0675169 , -0.76218226]]),\n",
       " 10: array([[ 3.06183838,  2.19097509,  1.330131  , ...,  4.07115943,\n",
       "          3.1541842 ,  2.17701867],\n",
       "        [-6.08076633, -6.20499357, -6.31403021, ..., -2.14888122,\n",
       "         -3.0252996 , -3.86775475],\n",
       "        [ 1.3789503 ,  1.53613874,  1.68427133, ...,  1.18166646,\n",
       "          1.25253907,  1.31087805],\n",
       "        [-1.30597118, -1.40839426, -1.49004762, ..., -1.94043246,\n",
       "         -2.304302  , -2.62825257],\n",
       "        [ 0.24980397,  0.32834282,  0.4163191 , ..., -0.27069576,\n",
       "         -0.20028303, -0.12305141]]),\n",
       " 11: array([[ 6.18702392,  5.09256669,  3.97511489, ...,         nan,\n",
       "                 nan,         nan],\n",
       "        [ 7.89916221,  6.55485326,  5.07682615, ...,         nan,\n",
       "                 nan,         nan],\n",
       "        [12.65896803, 11.57130738, 10.34462635, ...,         nan,\n",
       "                 nan,         nan],\n",
       "        [-4.85466472, -4.84995129, -4.78984168, ...,         nan,\n",
       "                 nan,         nan],\n",
       "        [-2.2629384 , -1.76580196, -1.17318577, ...,         nan,\n",
       "                 nan,         nan]])}"
      ]
     },
     "execution_count": 7,
     "metadata": {},
     "output_type": "execute_result"
    }
   ],
   "source": [
    "def split_into_train_test(x, y, num_train_samples):\n",
    "# Split into train/ test sets\n",
    "    num_test_samples = x.shape[0] - num_train_samples\n",
    "    print(\"Number Test Samples: \" + str(num_test_samples))\n",
    "    trainX = x[0:num_train_samples,:,:]\n",
    "    trainY = y[0:num_train_samples,:]\n",
    "    testX = x[num_train_samples:num_train_samples+num_test_samples,:,:]\n",
    "    testY = y[num_train_samples:num_train_samples+num_test_samples,:]\n",
    "    return trainX, trainY, testX, testY\n"
   ]
  },
  {
   "cell_type": "code",
   "execution_count": 4,
   "metadata": {
    "pycharm": {
     "name": "#%%\n"
    }
   },
   "outputs": [],
   "source": [
    "import tensorflow as tf\n",
    "from tensorflow import keras\n",
    "from tensorflow.keras import layers\n",
    "from keras.layers import Input,LSTM,Dropout,Dense\n",
    "\n",
    "model = keras.Sequential()\n",
    "model.add(LSTM(260,input_shape=(5,10),return_sequences=True))\n",
    "model.add(Dropout(0.2))\n",
    "model.add(LSTM(260,input_shape=(5,10),return_sequences=True))\n",
    "model.add(Dropout(0.2))\n",
    "model.add(LSTM(260,input_shape=(5,10),return_sequences=True))\n",
    "model.add(Dropout(0.2))\n",
    "model.add(LSTM(260,input_shape=(5,10),return_sequences=False))\n",
    "model.add(Dropout(0.2))\n",
    "model.add(Dense(5,activation='linear'))\n",
    "model.compile(optimizer='rmsprop',loss='mean_squared_error',metrics=['accuracy'])\n"
   ]
  },
  {
   "cell_type": "code",
   "execution_count": 5,
   "metadata": {
    "pycharm": {
     "name": "#%%\n"
    }
   },
   "outputs": [
    {
     "name": "stdout",
     "output_type": "stream",
     "text": [
      "Model: \"sequential\"\n",
      "_________________________________________________________________\n",
      "Layer (type)                 Output Shape              Param #   \n",
      "=================================================================\n",
      "lstm (LSTM)                  (None, 5, 260)            281840    \n",
      "_________________________________________________________________\n",
      "dropout (Dropout)            (None, 5, 260)            0         \n",
      "_________________________________________________________________\n",
      "lstm_1 (LSTM)                (None, 5, 260)            541840    \n",
      "_________________________________________________________________\n",
      "dropout_1 (Dropout)          (None, 5, 260)            0         \n",
      "_________________________________________________________________\n",
      "lstm_2 (LSTM)                (None, 5, 260)            541840    \n",
      "_________________________________________________________________\n",
      "dropout_2 (Dropout)          (None, 5, 260)            0         \n",
      "_________________________________________________________________\n",
      "lstm_3 (LSTM)                (None, 260)               541840    \n",
      "_________________________________________________________________\n",
      "dropout_3 (Dropout)          (None, 260)               0         \n",
      "_________________________________________________________________\n",
      "dense (Dense)                (None, 5)                 1305      \n",
      "=================================================================\n",
      "Total params: 1,908,665\n",
      "Trainable params: 1,908,665\n",
      "Non-trainable params: 0\n",
      "_________________________________________________________________\n",
      "None\n"
     ]
    }
   ],
   "source": [
    "print(model.summary())"
   ]
  },
  {
   "cell_type": "code",
   "execution_count": null,
   "metadata": {},
   "outputs": [],
   "source": []
  }
 ],
 "metadata": {
  "kernelspec": {
   "display_name": "Python 3",
   "language": "python",
   "name": "python3"
  },
  "language_info": {
   "codemirror_mode": {
    "name": "ipython",
    "version": 3
   },
   "file_extension": ".py",
   "mimetype": "text/x-python",
   "name": "python",
   "nbconvert_exporter": "python",
   "pygments_lexer": "ipython3",
   "version": "3.8.3"
  }
 },
 "nbformat": 4,
 "nbformat_minor": 1
}