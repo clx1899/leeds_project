{
 "cells": [
  {
   "cell_type": "code",
   "execution_count": 1,
   "metadata": {},
   "outputs": [],
   "source": [
    "from test import EigenData\n",
    "import numpy as np\n",
    "import scipy.io\n",
    "import h5py\n",
    "from sklearn.preprocessing import MinMaxScaler\n",
    "from sklearn.metrics import mean_squared_error\n",
    "from math import sqrt\n",
    "import matplotlib.pyplot as plt\n",
    "from mpl_toolkits.axes_grid1 import make_axes_locatable\n",
    "import torch\n",
    "%matplotlib inline"
   ]
  },
  {
   "cell_type": "code",
   "execution_count": 2,
   "metadata": {},
   "outputs": [
    {
     "name": "stdout",
     "output_type": "stream",
     "text": [
      "b (5, 33600)\n",
      "(100, 5) (5, 33600)\n",
      "--> (100, 33600)\n",
      "c (5, 33600)\n",
      "(100, 5) (5, 33600)\n",
      "--> (100, 33600)\n",
      "d (5, 33600)\n",
      "(100, 5) (5, 33600)\n",
      "--> (100, 33600)\n",
      "e (5, 33600)\n",
      "(100, 5) (5, 33600)\n",
      "--> (100, 33600)\n",
      "f (5, 33600)\n",
      "(100, 5) (5, 33600)\n",
      "--> (100, 33600)\n",
      "g (6, 33600)\n",
      "(100, 6) (6, 33600)\n",
      "--> (100, 33600)\n",
      "h (5, 33600)\n",
      "(100, 5) (5, 33600)\n",
      "--> (100, 33600)\n",
      "i (6, 33600)\n",
      "(100, 6) (6, 33600)\n",
      "--> (100, 33600)\n",
      "j (5, 33600)\n",
      "(100, 5) (5, 33600)\n",
      "--> (100, 33600)\n",
      "k (5, 33600)\n",
      "(100, 5) (5, 33600)\n",
      "--> (100, 33600)\n",
      "l (5, 33600)\n",
      "(100, 5) (5, 33600)\n",
      "--> (100, 33600)\n",
      "m (5, 33600)\n",
      "(100, 5) (5, 33600)\n",
      "--> (100, 33600)\n",
      "(403200, 5)\n"
     ]
    }
   ],
   "source": [
    "data = EigenData()\n",
    "eigenworms = data.get_eigenworms('EigenWorms.mat')\n",
    "\n",
    "footage = data.get_footage('20150814-All-PNAS2011-DataStitched .mat')\n",
    "newdata = torch.rand(33600,5)\n",
    "for k in footage.keys():\n",
    "    print(k, footage[k].shape)\n",
    "    arr1=footage[k]\n",
    "\n",
    "    arr2=arr1[:5,]\n",
    "\n",
    "    r = data.reconstruct(footage[k])\n",
    "    print('-->', r.shape)\n",
    "    dataset1 = arr2.transpose()\n",
    "\n",
    "    newdata = np.concatenate((newdata,dataset1),axis=0)\n",
    "newdata = newdata[33600:,]\n",
    "print(newdata.shape)"
   ]
  },
  {
   "cell_type": "code",
   "execution_count": 3,
   "metadata": {},
   "outputs": [
    {
     "name": "stdout",
     "output_type": "stream",
     "text": [
      "(386422, 5)\n",
      "386422\n"
     ]
    }
   ],
   "source": [
    "data1=newdata[~np.isnan(newdata).any(axis=1)]\n",
    "\n",
    "data1 = data1.astype('float32')\n",
    "print(data1.shape)\n",
    "print(len(data1))"
   ]
  },
  {
   "cell_type": "code",
   "execution_count": 4,
   "metadata": {},
   "outputs": [],
   "source": [
    "def create_dataset(data,n_predictions,n_next):\n",
    "    \n",
    "   \n",
    "    dim = data.shape[1]\n",
    "    train_X, train_Y = [], []\n",
    "    for i in range(data.shape[0]-n_predictions-n_next-1):\n",
    "        a = data[i:(i+n_predictions),:]\n",
    "        train_X.append(a)\n",
    "        tempb = data[(i+n_predictions):(i+n_predictions+n_next),:]\n",
    "        b = []\n",
    "        for j in range(len(tempb)):\n",
    "            for k in range(dim):\n",
    "                b.append(tempb[j,k])\n",
    "        train_Y.append(b)\n",
    "    train_X = np.array(train_X,dtype='float64')\n",
    "    train_Y = np.array(train_Y,dtype='float64')\n",
    "\n",
    "    return train_X, train_Y"
   ]
  },
  {
   "cell_type": "code",
   "execution_count": 5,
   "metadata": {},
   "outputs": [
    {
     "name": "stdout",
     "output_type": "stream",
     "text": [
      "(386410, 5, 5)\n",
      "(386410, 30)\n"
     ]
    }
   ],
   "source": [
    "X, Y = create_dataset(data1,5,6)\n",
    "\n",
    "print(X.shape)\n",
    "print(Y.shape)"
   ]
  },
  {
   "cell_type": "code",
   "execution_count": 6,
   "metadata": {},
   "outputs": [],
   "source": [
    "scaler = MinMaxScaler(feature_range=(0, 1))\n",
    "data1 = scaler.fit_transform(data1)\n",
    "Y = scaler.fit_transform(Y)"
   ]
  },
  {
   "cell_type": "code",
   "execution_count": 7,
   "metadata": {},
   "outputs": [
    {
     "name": "stdout",
     "output_type": "stream",
     "text": [
      "(386410, 5, 5)\n",
      "(386410, 30)\n"
     ]
    }
   ],
   "source": [
    "data_X, data_Y = create_dataset(data1,5,6)\n",
    "\n",
    "print(data_X.shape)\n",
    "print(data_Y.shape)"
   ]
  },
  {
   "cell_type": "code",
   "execution_count": 8,
   "metadata": {},
   "outputs": [
    {
     "name": "stdout",
     "output_type": "stream",
     "text": [
      "(309128, 5, 5)\n",
      "(309128, 30)\n",
      "(77282, 5, 5)\n",
      "(77282, 30)\n"
     ]
    }
   ],
   "source": [
    "train_size = int(len(data_X) * 0.8)\n",
    "test_size = len(data_X) - train_size\n",
    "train_X = data_X[:train_size]\n",
    "train_Y = Y[:train_size]\n",
    "test_X = data_X[train_size:]\n",
    "test_Y = Y[train_size:]\n",
    "\n",
    "print(train_X.shape)\n",
    "print(train_Y.shape)\n",
    "print(test_X.shape)\n",
    "print(test_Y.shape)"
   ]
  },
  {
   "cell_type": "code",
   "execution_count": 9,
   "metadata": {},
   "outputs": [
    {
     "name": "stdout",
     "output_type": "stream",
     "text": [
      "Epoch 1/100\n",
      "604/604 - 31s - loss: 0.0138 - root_mean_squared_error: 0.1174 - val_loss: 0.0048 - val_root_mean_squared_error: 0.0693\n",
      "Epoch 2/100\n",
      "604/604 - 26s - loss: 0.0055 - root_mean_squared_error: 0.0740 - val_loss: 0.0023 - val_root_mean_squared_error: 0.0484\n",
      "Epoch 3/100\n",
      "604/604 - 26s - loss: 0.0034 - root_mean_squared_error: 0.0579 - val_loss: 0.0017 - val_root_mean_squared_error: 0.0412\n",
      "Epoch 4/100\n",
      "604/604 - 26s - loss: 0.0025 - root_mean_squared_error: 0.0501 - val_loss: 0.0014 - val_root_mean_squared_error: 0.0375\n",
      "Epoch 5/100\n",
      "604/604 - 26s - loss: 0.0021 - root_mean_squared_error: 0.0455 - val_loss: 0.0010 - val_root_mean_squared_error: 0.0322\n",
      "Epoch 6/100\n",
      "604/604 - 26s - loss: 0.0018 - root_mean_squared_error: 0.0425 - val_loss: 0.0011 - val_root_mean_squared_error: 0.0333\n",
      "Epoch 7/100\n",
      "604/604 - 26s - loss: 0.0016 - root_mean_squared_error: 0.0402 - val_loss: 9.9067e-04 - val_root_mean_squared_error: 0.0315\n",
      "Epoch 8/100\n",
      "604/604 - 26s - loss: 0.0015 - root_mean_squared_error: 0.0384 - val_loss: 8.8759e-04 - val_root_mean_squared_error: 0.0298\n",
      "Epoch 9/100\n",
      "604/604 - 26s - loss: 0.0014 - root_mean_squared_error: 0.0371 - val_loss: 7.9418e-04 - val_root_mean_squared_error: 0.0282\n",
      "Epoch 10/100\n",
      "604/604 - 26s - loss: 0.0013 - root_mean_squared_error: 0.0360 - val_loss: 7.6532e-04 - val_root_mean_squared_error: 0.0277\n",
      "Epoch 11/100\n",
      "604/604 - 26s - loss: 0.0012 - root_mean_squared_error: 0.0352 - val_loss: 7.9433e-04 - val_root_mean_squared_error: 0.0282\n",
      "Epoch 12/100\n",
      "604/604 - 26s - loss: 0.0012 - root_mean_squared_error: 0.0345 - val_loss: 7.5767e-04 - val_root_mean_squared_error: 0.0275\n",
      "Epoch 13/100\n",
      "604/604 - 26s - loss: 0.0011 - root_mean_squared_error: 0.0339 - val_loss: 6.5684e-04 - val_root_mean_squared_error: 0.0256\n",
      "Epoch 14/100\n",
      "604/604 - 26s - loss: 0.0011 - root_mean_squared_error: 0.0335 - val_loss: 6.7544e-04 - val_root_mean_squared_error: 0.0260\n",
      "Epoch 15/100\n",
      "604/604 - 26s - loss: 0.0011 - root_mean_squared_error: 0.0331 - val_loss: 6.0046e-04 - val_root_mean_squared_error: 0.0245\n",
      "Epoch 16/100\n",
      "604/604 - 26s - loss: 0.0011 - root_mean_squared_error: 0.0327 - val_loss: 5.8418e-04 - val_root_mean_squared_error: 0.0242\n",
      "Epoch 17/100\n",
      "604/604 - 25s - loss: 0.0010 - root_mean_squared_error: 0.0324 - val_loss: 5.8420e-04 - val_root_mean_squared_error: 0.0242\n",
      "Epoch 18/100\n",
      "604/604 - 26s - loss: 0.0010 - root_mean_squared_error: 0.0321 - val_loss: 5.5263e-04 - val_root_mean_squared_error: 0.0235\n",
      "Epoch 19/100\n",
      "604/604 - 25s - loss: 0.0010 - root_mean_squared_error: 0.0319 - val_loss: 5.5669e-04 - val_root_mean_squared_error: 0.0236\n",
      "Epoch 20/100\n",
      "604/604 - 25s - loss: 0.0010 - root_mean_squared_error: 0.0316 - val_loss: 6.0145e-04 - val_root_mean_squared_error: 0.0245\n",
      "Epoch 21/100\n",
      "604/604 - 25s - loss: 9.8866e-04 - root_mean_squared_error: 0.0314 - val_loss: 5.2983e-04 - val_root_mean_squared_error: 0.0230\n",
      "Epoch 22/100\n",
      "604/604 - 25s - loss: 9.7564e-04 - root_mean_squared_error: 0.0312 - val_loss: 5.0659e-04 - val_root_mean_squared_error: 0.0225\n",
      "Epoch 23/100\n",
      "604/604 - 25s - loss: 9.6411e-04 - root_mean_squared_error: 0.0311 - val_loss: 5.0948e-04 - val_root_mean_squared_error: 0.0226\n",
      "Epoch 24/100\n",
      "604/604 - 26s - loss: 9.5516e-04 - root_mean_squared_error: 0.0309 - val_loss: 5.0814e-04 - val_root_mean_squared_error: 0.0225\n",
      "Epoch 25/100\n",
      "604/604 - 25s - loss: 9.4720e-04 - root_mean_squared_error: 0.0308 - val_loss: 5.5128e-04 - val_root_mean_squared_error: 0.0235\n",
      "Epoch 26/100\n",
      "604/604 - 25s - loss: 9.4052e-04 - root_mean_squared_error: 0.0307 - val_loss: 5.0642e-04 - val_root_mean_squared_error: 0.0225\n",
      "Epoch 27/100\n",
      "604/604 - 26s - loss: 9.3292e-04 - root_mean_squared_error: 0.0305 - val_loss: 4.8276e-04 - val_root_mean_squared_error: 0.0220\n",
      "Epoch 28/100\n",
      "604/604 - 25s - loss: 9.2570e-04 - root_mean_squared_error: 0.0304 - val_loss: 5.2629e-04 - val_root_mean_squared_error: 0.0229\n",
      "Epoch 29/100\n",
      "604/604 - 25s - loss: 9.1922e-04 - root_mean_squared_error: 0.0303 - val_loss: 5.0334e-04 - val_root_mean_squared_error: 0.0224\n",
      "Epoch 30/100\n",
      "604/604 - 26s - loss: 9.1599e-04 - root_mean_squared_error: 0.0303 - val_loss: 5.0865e-04 - val_root_mean_squared_error: 0.0226\n",
      "Epoch 31/100\n",
      "604/604 - 26s - loss: 9.0863e-04 - root_mean_squared_error: 0.0301 - val_loss: 4.8601e-04 - val_root_mean_squared_error: 0.0220\n",
      "Epoch 32/100\n",
      "604/604 - 26s - loss: 9.0395e-04 - root_mean_squared_error: 0.0301 - val_loss: 4.9826e-04 - val_root_mean_squared_error: 0.0223\n",
      "Epoch 33/100\n",
      "604/604 - 25s - loss: 8.9724e-04 - root_mean_squared_error: 0.0300 - val_loss: 4.7376e-04 - val_root_mean_squared_error: 0.0218\n",
      "Epoch 34/100\n",
      "604/604 - 26s - loss: 8.9228e-04 - root_mean_squared_error: 0.0299 - val_loss: 4.6767e-04 - val_root_mean_squared_error: 0.0216\n",
      "Epoch 35/100\n",
      "604/604 - 26s - loss: 8.8787e-04 - root_mean_squared_error: 0.0298 - val_loss: 4.9605e-04 - val_root_mean_squared_error: 0.0223\n",
      "Epoch 36/100\n",
      "604/604 - 26s - loss: 8.8185e-04 - root_mean_squared_error: 0.0297 - val_loss: 4.9159e-04 - val_root_mean_squared_error: 0.0222\n",
      "Epoch 37/100\n",
      "604/604 - 26s - loss: 8.7797e-04 - root_mean_squared_error: 0.0296 - val_loss: 4.7285e-04 - val_root_mean_squared_error: 0.0217\n",
      "Epoch 38/100\n",
      "604/604 - 26s - loss: 8.7713e-04 - root_mean_squared_error: 0.0296 - val_loss: 4.9955e-04 - val_root_mean_squared_error: 0.0224\n",
      "Epoch 39/100\n",
      "604/604 - 26s - loss: 8.7042e-04 - root_mean_squared_error: 0.0295 - val_loss: 4.5790e-04 - val_root_mean_squared_error: 0.0214\n",
      "Epoch 40/100\n",
      "604/604 - 26s - loss: 8.6563e-04 - root_mean_squared_error: 0.0294 - val_loss: 5.0802e-04 - val_root_mean_squared_error: 0.0225\n",
      "Epoch 41/100\n",
      "604/604 - 25s - loss: 8.6476e-04 - root_mean_squared_error: 0.0294 - val_loss: 4.7920e-04 - val_root_mean_squared_error: 0.0219\n",
      "Epoch 42/100\n",
      "604/604 - 26s - loss: 8.5996e-04 - root_mean_squared_error: 0.0293 - val_loss: 4.6884e-04 - val_root_mean_squared_error: 0.0217\n",
      "Epoch 43/100\n",
      "604/604 - 26s - loss: 8.5682e-04 - root_mean_squared_error: 0.0293 - val_loss: 4.6073e-04 - val_root_mean_squared_error: 0.0215\n",
      "Epoch 44/100\n",
      "604/604 - 26s - loss: 8.5248e-04 - root_mean_squared_error: 0.0292 - val_loss: 4.9050e-04 - val_root_mean_squared_error: 0.0221\n",
      "Epoch 45/100\n",
      "604/604 - 26s - loss: 8.5067e-04 - root_mean_squared_error: 0.0292 - val_loss: 4.3062e-04 - val_root_mean_squared_error: 0.0208\n",
      "Epoch 46/100\n",
      "604/604 - 25s - loss: 8.4821e-04 - root_mean_squared_error: 0.0291 - val_loss: 4.4706e-04 - val_root_mean_squared_error: 0.0211\n",
      "Epoch 47/100\n",
      "604/604 - 26s - loss: 8.4366e-04 - root_mean_squared_error: 0.0290 - val_loss: 4.6852e-04 - val_root_mean_squared_error: 0.0216\n",
      "Epoch 48/100\n",
      "604/604 - 26s - loss: 8.3995e-04 - root_mean_squared_error: 0.0290 - val_loss: 4.5518e-04 - val_root_mean_squared_error: 0.0213\n",
      "Epoch 49/100\n",
      "604/604 - 29s - loss: 8.3846e-04 - root_mean_squared_error: 0.0290 - val_loss: 4.4756e-04 - val_root_mean_squared_error: 0.0212\n",
      "Epoch 50/100\n",
      "604/604 - 26s - loss: 8.3654e-04 - root_mean_squared_error: 0.0289 - val_loss: 4.5324e-04 - val_root_mean_squared_error: 0.0213\n",
      "Epoch 51/100\n",
      "604/604 - 25s - loss: 8.3534e-04 - root_mean_squared_error: 0.0289 - val_loss: 4.4617e-04 - val_root_mean_squared_error: 0.0211\n",
      "Epoch 52/100\n",
      "604/604 - 25s - loss: 8.3273e-04 - root_mean_squared_error: 0.0289 - val_loss: 4.8771e-04 - val_root_mean_squared_error: 0.0221\n",
      "Epoch 53/100\n",
      "604/604 - 25s - loss: 8.2802e-04 - root_mean_squared_error: 0.0288 - val_loss: 4.6771e-04 - val_root_mean_squared_error: 0.0216\n",
      "Epoch 54/100\n",
      "604/604 - 26s - loss: 8.2869e-04 - root_mean_squared_error: 0.0288 - val_loss: 4.2222e-04 - val_root_mean_squared_error: 0.0205\n",
      "Epoch 55/100\n",
      "604/604 - 27s - loss: 8.2459e-04 - root_mean_squared_error: 0.0287 - val_loss: 4.3540e-04 - val_root_mean_squared_error: 0.0209\n",
      "Epoch 56/100\n",
      "604/604 - 29s - loss: 8.2151e-04 - root_mean_squared_error: 0.0287 - val_loss: 4.7054e-04 - val_root_mean_squared_error: 0.0217\n",
      "Epoch 57/100\n",
      "604/604 - 26s - loss: 8.2003e-04 - root_mean_squared_error: 0.0286 - val_loss: 4.4311e-04 - val_root_mean_squared_error: 0.0211\n",
      "Epoch 58/100\n",
      "604/604 - 27s - loss: 8.1653e-04 - root_mean_squared_error: 0.0286 - val_loss: 4.5183e-04 - val_root_mean_squared_error: 0.0213\n",
      "Epoch 59/100\n",
      "604/604 - 26s - loss: 8.1490e-04 - root_mean_squared_error: 0.0285 - val_loss: 4.2614e-04 - val_root_mean_squared_error: 0.0206\n"
     ]
    },
    {
     "name": "stdout",
     "output_type": "stream",
     "text": [
      "Epoch 60/100\n",
      "604/604 - 26s - loss: 8.1395e-04 - root_mean_squared_error: 0.0285 - val_loss: 4.3892e-04 - val_root_mean_squared_error: 0.0210\n",
      "Epoch 61/100\n",
      "604/604 - 26s - loss: 8.1200e-04 - root_mean_squared_error: 0.0285 - val_loss: 4.3622e-04 - val_root_mean_squared_error: 0.0209\n",
      "Epoch 62/100\n",
      "604/604 - 26s - loss: 8.1153e-04 - root_mean_squared_error: 0.0285 - val_loss: 4.6185e-04 - val_root_mean_squared_error: 0.0215\n",
      "Epoch 63/100\n",
      "604/604 - 26s - loss: 8.1149e-04 - root_mean_squared_error: 0.0285 - val_loss: 4.4560e-04 - val_root_mean_squared_error: 0.0211\n",
      "Epoch 64/100\n",
      "604/604 - 26s - loss: 8.0699e-04 - root_mean_squared_error: 0.0284 - val_loss: 4.2402e-04 - val_root_mean_squared_error: 0.0206\n",
      "Epoch 65/100\n",
      "604/604 - 26s - loss: 8.0599e-04 - root_mean_squared_error: 0.0284 - val_loss: 4.4172e-04 - val_root_mean_squared_error: 0.0210\n",
      "Epoch 66/100\n",
      "604/604 - 26s - loss: 8.0369e-04 - root_mean_squared_error: 0.0283 - val_loss: 4.2467e-04 - val_root_mean_squared_error: 0.0206\n",
      "Epoch 67/100\n",
      "604/604 - 27s - loss: 8.0281e-04 - root_mean_squared_error: 0.0283 - val_loss: 4.2094e-04 - val_root_mean_squared_error: 0.0205\n",
      "Epoch 68/100\n",
      "604/604 - 26s - loss: 8.0153e-04 - root_mean_squared_error: 0.0283 - val_loss: 4.2368e-04 - val_root_mean_squared_error: 0.0206\n",
      "Epoch 69/100\n",
      "604/604 - 25s - loss: 7.9955e-04 - root_mean_squared_error: 0.0283 - val_loss: 4.3941e-04 - val_root_mean_squared_error: 0.0210\n",
      "Epoch 70/100\n",
      "604/604 - 26s - loss: 7.9652e-04 - root_mean_squared_error: 0.0282 - val_loss: 4.1478e-04 - val_root_mean_squared_error: 0.0204\n",
      "Epoch 71/100\n",
      "604/604 - 26s - loss: 7.9616e-04 - root_mean_squared_error: 0.0282 - val_loss: 4.3378e-04 - val_root_mean_squared_error: 0.0208\n",
      "Epoch 72/100\n",
      "604/604 - 26s - loss: 7.9585e-04 - root_mean_squared_error: 0.0282 - val_loss: 4.1931e-04 - val_root_mean_squared_error: 0.0205\n",
      "Epoch 73/100\n",
      "604/604 - 26s - loss: 7.9283e-04 - root_mean_squared_error: 0.0282 - val_loss: 4.1845e-04 - val_root_mean_squared_error: 0.0205\n",
      "Epoch 74/100\n",
      "604/604 - 26s - loss: 7.9152e-04 - root_mean_squared_error: 0.0281 - val_loss: 4.2517e-04 - val_root_mean_squared_error: 0.0206\n",
      "Epoch 75/100\n",
      "604/604 - 25s - loss: 7.9105e-04 - root_mean_squared_error: 0.0281 - val_loss: 4.3326e-04 - val_root_mean_squared_error: 0.0208\n",
      "Epoch 76/100\n",
      "604/604 - 25s - loss: 7.8862e-04 - root_mean_squared_error: 0.0281 - val_loss: 3.9411e-04 - val_root_mean_squared_error: 0.0199\n",
      "Epoch 77/100\n",
      "604/604 - 25s - loss: 7.8878e-04 - root_mean_squared_error: 0.0281 - val_loss: 4.2572e-04 - val_root_mean_squared_error: 0.0206\n",
      "Epoch 78/100\n",
      "604/604 - 26s - loss: 7.8680e-04 - root_mean_squared_error: 0.0280 - val_loss: 4.2238e-04 - val_root_mean_squared_error: 0.0206\n",
      "Epoch 79/100\n",
      "604/604 - 27s - loss: 7.8554e-04 - root_mean_squared_error: 0.0280 - val_loss: 4.3262e-04 - val_root_mean_squared_error: 0.0208\n",
      "Epoch 80/100\n",
      "604/604 - 30s - loss: 7.8423e-04 - root_mean_squared_error: 0.0280 - val_loss: 4.3469e-04 - val_root_mean_squared_error: 0.0208\n",
      "Epoch 81/100\n",
      "604/604 - 26s - loss: 7.8344e-04 - root_mean_squared_error: 0.0280 - val_loss: 4.2828e-04 - val_root_mean_squared_error: 0.0207\n",
      "Epoch 82/100\n",
      "604/604 - 26s - loss: 7.8178e-04 - root_mean_squared_error: 0.0280 - val_loss: 4.3742e-04 - val_root_mean_squared_error: 0.0209\n",
      "Epoch 83/100\n",
      "604/604 - 26s - loss: 7.8092e-04 - root_mean_squared_error: 0.0279 - val_loss: 4.3124e-04 - val_root_mean_squared_error: 0.0208\n",
      "Epoch 84/100\n",
      "604/604 - 26s - loss: 7.8182e-04 - root_mean_squared_error: 0.0280 - val_loss: 4.1100e-04 - val_root_mean_squared_error: 0.0203\n",
      "Epoch 85/100\n",
      "604/604 - 26s - loss: 7.7830e-04 - root_mean_squared_error: 0.0279 - val_loss: 3.9723e-04 - val_root_mean_squared_error: 0.0199\n",
      "Epoch 86/100\n",
      "604/604 - 27s - loss: 7.7853e-04 - root_mean_squared_error: 0.0279 - val_loss: 4.1323e-04 - val_root_mean_squared_error: 0.0203\n",
      "Epoch 87/100\n",
      "604/604 - 26s - loss: 7.7698e-04 - root_mean_squared_error: 0.0279 - val_loss: 4.1040e-04 - val_root_mean_squared_error: 0.0203\n",
      "Epoch 88/100\n",
      "604/604 - 26s - loss: 7.7348e-04 - root_mean_squared_error: 0.0278 - val_loss: 4.0915e-04 - val_root_mean_squared_error: 0.0202\n",
      "Epoch 89/100\n",
      "604/604 - 26s - loss: 7.7338e-04 - root_mean_squared_error: 0.0278 - val_loss: 4.1423e-04 - val_root_mean_squared_error: 0.0204\n",
      "Epoch 90/100\n",
      "604/604 - 26s - loss: 7.7267e-04 - root_mean_squared_error: 0.0278 - val_loss: 4.0437e-04 - val_root_mean_squared_error: 0.0201\n",
      "Epoch 91/100\n",
      "604/604 - 29s - loss: 7.7129e-04 - root_mean_squared_error: 0.0278 - val_loss: 4.1465e-04 - val_root_mean_squared_error: 0.0204\n",
      "Epoch 92/100\n",
      "604/604 - 26s - loss: 7.6982e-04 - root_mean_squared_error: 0.0277 - val_loss: 4.1823e-04 - val_root_mean_squared_error: 0.0205\n",
      "Epoch 93/100\n",
      "604/604 - 26s - loss: 7.7045e-04 - root_mean_squared_error: 0.0278 - val_loss: 4.2726e-04 - val_root_mean_squared_error: 0.0207\n",
      "Epoch 94/100\n",
      "604/604 - 26s - loss: 7.6847e-04 - root_mean_squared_error: 0.0277 - val_loss: 4.0543e-04 - val_root_mean_squared_error: 0.0201\n",
      "Epoch 95/100\n",
      "604/604 - 26s - loss: 7.6817e-04 - root_mean_squared_error: 0.0277 - val_loss: 4.1293e-04 - val_root_mean_squared_error: 0.0203\n",
      "Epoch 96/100\n",
      "604/604 - 26s - loss: 7.6546e-04 - root_mean_squared_error: 0.0277 - val_loss: 4.0497e-04 - val_root_mean_squared_error: 0.0201\n",
      "Epoch 97/100\n",
      "604/604 - 26s - loss: 7.6518e-04 - root_mean_squared_error: 0.0277 - val_loss: 4.2976e-04 - val_root_mean_squared_error: 0.0207\n",
      "Epoch 98/100\n",
      "604/604 - 26s - loss: 7.6299e-04 - root_mean_squared_error: 0.0276 - val_loss: 3.9817e-04 - val_root_mean_squared_error: 0.0200\n",
      "Epoch 99/100\n",
      "604/604 - 26s - loss: 7.6447e-04 - root_mean_squared_error: 0.0276 - val_loss: 4.0636e-04 - val_root_mean_squared_error: 0.0202\n",
      "Epoch 100/100\n",
      "604/604 - 26s - loss: 7.6403e-04 - root_mean_squared_error: 0.0276 - val_loss: 3.9350e-04 - val_root_mean_squared_error: 0.0198\n"
     ]
    }
   ],
   "source": [
    "import tensorflow as tf\n",
    "from tensorflow import keras\n",
    "from tensorflow.keras import layers\n",
    "from keras.layers import Input,LSTM,Dropout,Dense\n",
    "\n",
    "\n",
    "timesteps = 5\n",
    "# create and fit the LSTM network\n",
    "\n",
    "model = keras.Sequential()\n",
    "model.add(LSTM(100,input_shape=(timesteps,5),return_sequences=True))\n",
    "model.add(Dropout(0.2))\n",
    "model.add(LSTM(100,input_shape=(timesteps,5),return_sequences=True))\n",
    "model.add(Dropout(0.2))\n",
    "model.add(LSTM(100,input_shape=(timesteps,5),return_sequences=False))\n",
    "model.add(Dropout(0.2))\n",
    "model.add(Dense(30,activation='linear'))\n",
    "model.compile(optimizer='rmsprop',loss='mean_squared_error',metrics=[tf.keras.metrics.RootMeanSquaredError()])\n",
    "\n",
    "history = model.fit(train_X, train_Y, epochs=100, batch_size=512, verbose=2, validation_data=(test_X, test_Y))"
   ]
  },
  {
   "cell_type": "code",
   "execution_count": 10,
   "metadata": {},
   "outputs": [],
   "source": [
    "testPredict = model.predict(test_X)"
   ]
  },
  {
   "cell_type": "code",
   "execution_count": 11,
   "metadata": {},
   "outputs": [],
   "source": [
    "newtestPredict = scaler.inverse_transform(testPredict)\n",
    "newtest_Y = scaler.inverse_transform(test_Y)"
   ]
  },
  {
   "cell_type": "code",
   "execution_count": 12,
   "metadata": {},
   "outputs": [
    {
     "name": "stdout",
     "output_type": "stream",
     "text": [
      "Test Score: 0.54975 RMSE\n"
     ]
    }
   ],
   "source": [
    "testScore = sqrt(mean_squared_error(newtest_Y, newtestPredict))\n",
    "print('Test Score: %.5f RMSE' % (testScore))"
   ]
  },
  {
   "cell_type": "code",
   "execution_count": null,
   "metadata": {},
   "outputs": [],
   "source": []
  }
 ],
 "metadata": {
  "kernelspec": {
   "display_name": "Python 3",
   "language": "python",
   "name": "python3"
  },
  "language_info": {
   "codemirror_mode": {
    "name": "ipython",
    "version": 3
   },
   "file_extension": ".py",
   "mimetype": "text/x-python",
   "name": "python",
   "nbconvert_exporter": "python",
   "pygments_lexer": "ipython3",
   "version": "3.8.3"
  }
 },
 "nbformat": 4,
 "nbformat_minor": 4
}
