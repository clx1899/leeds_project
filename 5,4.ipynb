{
 "cells": [
  {
   "cell_type": "code",
   "execution_count": 1,
   "metadata": {},
   "outputs": [],
   "source": [
    "from test import EigenData\n",
    "import numpy as np\n",
    "import scipy.io\n",
    "import h5py\n",
    "from sklearn.preprocessing import MinMaxScaler\n",
    "from sklearn.metrics import mean_squared_error\n",
    "from math import sqrt\n",
    "import matplotlib.pyplot as plt\n",
    "from mpl_toolkits.axes_grid1 import make_axes_locatable\n",
    "import torch\n",
    "%matplotlib inline"
   ]
  },
  {
   "cell_type": "code",
   "execution_count": 2,
   "metadata": {},
   "outputs": [
    {
     "name": "stdout",
     "output_type": "stream",
     "text": [
      "b (5, 33600)\n",
      "(100, 5) (5, 33600)\n",
      "--> (100, 33600)\n",
      "c (5, 33600)\n",
      "(100, 5) (5, 33600)\n",
      "--> (100, 33600)\n",
      "d (5, 33600)\n",
      "(100, 5) (5, 33600)\n",
      "--> (100, 33600)\n",
      "e (5, 33600)\n",
      "(100, 5) (5, 33600)\n",
      "--> (100, 33600)\n",
      "f (5, 33600)\n",
      "(100, 5) (5, 33600)\n",
      "--> (100, 33600)\n",
      "g (6, 33600)\n",
      "(100, 6) (6, 33600)\n",
      "--> (100, 33600)\n",
      "h (5, 33600)\n",
      "(100, 5) (5, 33600)\n",
      "--> (100, 33600)\n",
      "i (6, 33600)\n",
      "(100, 6) (6, 33600)\n",
      "--> (100, 33600)\n",
      "j (5, 33600)\n",
      "(100, 5) (5, 33600)\n",
      "--> (100, 33600)\n",
      "k (5, 33600)\n",
      "(100, 5) (5, 33600)\n",
      "--> (100, 33600)\n",
      "l (5, 33600)\n",
      "(100, 5) (5, 33600)\n",
      "--> (100, 33600)\n",
      "m (5, 33600)\n",
      "(100, 5) (5, 33600)\n",
      "--> (100, 33600)\n",
      "(403200, 5)\n"
     ]
    }
   ],
   "source": [
    "data = EigenData()\n",
    "eigenworms = data.get_eigenworms('EigenWorms.mat')\n",
    "\n",
    "footage = data.get_footage('20150814-All-PNAS2011-DataStitched .mat')\n",
    "newdata = torch.rand(33600,5)\n",
    "for k in footage.keys():\n",
    "    print(k, footage[k].shape)\n",
    "    arr1=footage[k]\n",
    "\n",
    "    arr2=arr1[:5,]\n",
    "\n",
    "    r = data.reconstruct(footage[k])\n",
    "    print('-->', r.shape)\n",
    "    dataset1 = arr2.transpose()\n",
    "\n",
    "    newdata = np.concatenate((newdata,dataset1),axis=0)\n",
    "newdata = newdata[33600:,]\n",
    "print(newdata.shape)"
   ]
  },
  {
   "cell_type": "code",
   "execution_count": 3,
   "metadata": {},
   "outputs": [
    {
     "name": "stdout",
     "output_type": "stream",
     "text": [
      "(386422, 5)\n",
      "386422\n"
     ]
    }
   ],
   "source": [
    "data1=newdata[~np.isnan(newdata).any(axis=1)]\n",
    "\n",
    "data1 = data1.astype('float32')\n",
    "print(data1.shape)\n",
    "print(len(data1))"
   ]
  },
  {
   "cell_type": "code",
   "execution_count": 4,
   "metadata": {},
   "outputs": [],
   "source": [
    "def create_dataset(data,n_predictions,n_next):\n",
    "    \n",
    "   \n",
    "    dim = data.shape[1]\n",
    "    train_X, train_Y = [], []\n",
    "    for i in range(data.shape[0]-n_predictions-n_next-1):\n",
    "        a = data[i:(i+n_predictions),:]\n",
    "        train_X.append(a)\n",
    "        tempb = data[(i+n_predictions):(i+n_predictions+n_next),:]\n",
    "        b = []\n",
    "        for j in range(len(tempb)):\n",
    "            for k in range(dim):\n",
    "                b.append(tempb[j,k])\n",
    "        train_Y.append(b)\n",
    "    train_X = np.array(train_X,dtype='float64')\n",
    "    train_Y = np.array(train_Y,dtype='float64')\n",
    "\n",
    "    return train_X, train_Y"
   ]
  },
  {
   "cell_type": "code",
   "execution_count": 5,
   "metadata": {},
   "outputs": [
    {
     "name": "stdout",
     "output_type": "stream",
     "text": [
      "(386412, 5, 5)\n",
      "(386412, 20)\n"
     ]
    }
   ],
   "source": [
    "X, Y = create_dataset(data1,5,4)\n",
    "\n",
    "print(X.shape)\n",
    "print(Y.shape)"
   ]
  },
  {
   "cell_type": "code",
   "execution_count": 6,
   "metadata": {},
   "outputs": [],
   "source": [
    "scaler = MinMaxScaler(feature_range=(0, 1))\n",
    "data1 = scaler.fit_transform(data1)\n",
    "Y = scaler.fit_transform(Y)"
   ]
  },
  {
   "cell_type": "code",
   "execution_count": 7,
   "metadata": {},
   "outputs": [
    {
     "name": "stdout",
     "output_type": "stream",
     "text": [
      "(386412, 5, 5)\n",
      "(386412, 20)\n"
     ]
    }
   ],
   "source": [
    "data_X, data_Y = create_dataset(data1,5,4)\n",
    "\n",
    "print(data_X.shape)\n",
    "print(data_Y.shape)"
   ]
  },
  {
   "cell_type": "code",
   "execution_count": 8,
   "metadata": {},
   "outputs": [
    {
     "name": "stdout",
     "output_type": "stream",
     "text": [
      "(309129, 5, 5)\n",
      "(309129, 20)\n",
      "(77283, 5, 5)\n",
      "(77283, 20)\n"
     ]
    }
   ],
   "source": [
    "train_size = int(len(data_X) * 0.8)\n",
    "test_size = len(data_X) - train_size\n",
    "train_X = data_X[:train_size]\n",
    "train_Y = Y[:train_size]\n",
    "test_X = data_X[train_size:]\n",
    "test_Y = Y[train_size:]\n",
    "\n",
    "print(train_X.shape)\n",
    "print(train_Y.shape)\n",
    "print(test_X.shape)\n",
    "print(test_Y.shape)"
   ]
  },
  {
   "cell_type": "code",
   "execution_count": 9,
   "metadata": {},
   "outputs": [
    {
     "name": "stdout",
     "output_type": "stream",
     "text": [
      "Epoch 1/100\n",
      "604/604 - 32s - loss: 0.0123 - root_mean_squared_error: 0.1109 - val_loss: 0.0043 - val_root_mean_squared_error: 0.0657\n",
      "Epoch 2/100\n",
      "604/604 - 27s - loss: 0.0046 - root_mean_squared_error: 0.0677 - val_loss: 0.0016 - val_root_mean_squared_error: 0.0400\n",
      "Epoch 3/100\n",
      "604/604 - 27s - loss: 0.0026 - root_mean_squared_error: 0.0512 - val_loss: 9.6809e-04 - val_root_mean_squared_error: 0.0311\n",
      "Epoch 4/100\n",
      "604/604 - 27s - loss: 0.0019 - root_mean_squared_error: 0.0432 - val_loss: 0.0011 - val_root_mean_squared_error: 0.0336\n",
      "Epoch 5/100\n",
      "604/604 - 28s - loss: 0.0015 - root_mean_squared_error: 0.0388 - val_loss: 6.8032e-04 - val_root_mean_squared_error: 0.0261\n",
      "Epoch 6/100\n",
      "604/604 - 27s - loss: 0.0013 - root_mean_squared_error: 0.0356 - val_loss: 5.6714e-04 - val_root_mean_squared_error: 0.0238\n",
      "Epoch 7/100\n",
      "604/604 - 28s - loss: 0.0011 - root_mean_squared_error: 0.0334 - val_loss: 4.9128e-04 - val_root_mean_squared_error: 0.0222\n",
      "Epoch 8/100\n",
      "604/604 - 26s - loss: 9.9827e-04 - root_mean_squared_error: 0.0316 - val_loss: 4.7641e-04 - val_root_mean_squared_error: 0.0218\n",
      "Epoch 9/100\n",
      "604/604 - 27s - loss: 9.1495e-04 - root_mean_squared_error: 0.0302 - val_loss: 4.7279e-04 - val_root_mean_squared_error: 0.0217\n",
      "Epoch 10/100\n",
      "604/604 - 27s - loss: 8.5908e-04 - root_mean_squared_error: 0.0293 - val_loss: 3.6445e-04 - val_root_mean_squared_error: 0.0191\n",
      "Epoch 11/100\n",
      "604/604 - 27s - loss: 8.1854e-04 - root_mean_squared_error: 0.0286 - val_loss: 3.8521e-04 - val_root_mean_squared_error: 0.0196\n",
      "Epoch 12/100\n",
      "604/604 - 28s - loss: 7.8818e-04 - root_mean_squared_error: 0.0281 - val_loss: 3.5913e-04 - val_root_mean_squared_error: 0.0190\n",
      "Epoch 13/100\n",
      "604/604 - 27s - loss: 7.6517e-04 - root_mean_squared_error: 0.0277 - val_loss: 3.7608e-04 - val_root_mean_squared_error: 0.0194\n",
      "Epoch 14/100\n",
      "604/604 - 27s - loss: 7.4518e-04 - root_mean_squared_error: 0.0273 - val_loss: 3.4288e-04 - val_root_mean_squared_error: 0.0185\n",
      "Epoch 15/100\n",
      "604/604 - 27s - loss: 7.2748e-04 - root_mean_squared_error: 0.0270 - val_loss: 3.1719e-04 - val_root_mean_squared_error: 0.0178\n",
      "Epoch 16/100\n",
      "604/604 - 26s - loss: 7.1248e-04 - root_mean_squared_error: 0.0267 - val_loss: 3.3225e-04 - val_root_mean_squared_error: 0.0182\n",
      "Epoch 17/100\n",
      "604/604 - 27s - loss: 6.9880e-04 - root_mean_squared_error: 0.0264 - val_loss: 3.3567e-04 - val_root_mean_squared_error: 0.0183\n",
      "Epoch 18/100\n",
      "604/604 - 27s - loss: 6.8875e-04 - root_mean_squared_error: 0.0262 - val_loss: 3.1552e-04 - val_root_mean_squared_error: 0.0178\n",
      "Epoch 19/100\n",
      "604/604 - 27s - loss: 6.7767e-04 - root_mean_squared_error: 0.0260 - val_loss: 3.2966e-04 - val_root_mean_squared_error: 0.0182\n",
      "Epoch 20/100\n",
      "604/604 - 26s - loss: 6.6752e-04 - root_mean_squared_error: 0.0258 - val_loss: 2.8752e-04 - val_root_mean_squared_error: 0.0170\n",
      "Epoch 21/100\n",
      "604/604 - 26s - loss: 6.5709e-04 - root_mean_squared_error: 0.0256 - val_loss: 2.7516e-04 - val_root_mean_squared_error: 0.0166\n",
      "Epoch 22/100\n",
      "604/604 - 27s - loss: 6.5049e-04 - root_mean_squared_error: 0.0255 - val_loss: 3.4581e-04 - val_root_mean_squared_error: 0.0186\n",
      "Epoch 23/100\n",
      "604/604 - 28s - loss: 6.4230e-04 - root_mean_squared_error: 0.0253 - val_loss: 2.7932e-04 - val_root_mean_squared_error: 0.0167\n",
      "Epoch 24/100\n",
      "604/604 - 27s - loss: 6.3484e-04 - root_mean_squared_error: 0.0252 - val_loss: 2.9875e-04 - val_root_mean_squared_error: 0.0173\n",
      "Epoch 25/100\n",
      "604/604 - 26s - loss: 6.2996e-04 - root_mean_squared_error: 0.0251 - val_loss: 2.7634e-04 - val_root_mean_squared_error: 0.0166\n",
      "Epoch 26/100\n",
      "604/604 - 26s - loss: 6.2374e-04 - root_mean_squared_error: 0.0250 - val_loss: 2.7496e-04 - val_root_mean_squared_error: 0.0166\n",
      "Epoch 27/100\n",
      "604/604 - 26s - loss: 6.1933e-04 - root_mean_squared_error: 0.0249 - val_loss: 2.7101e-04 - val_root_mean_squared_error: 0.0165\n",
      "Epoch 28/100\n",
      "604/604 - 26s - loss: 6.1421e-04 - root_mean_squared_error: 0.0248 - val_loss: 2.4452e-04 - val_root_mean_squared_error: 0.0156\n",
      "Epoch 29/100\n",
      "604/604 - 26s - loss: 6.0938e-04 - root_mean_squared_error: 0.0247 - val_loss: 2.4383e-04 - val_root_mean_squared_error: 0.0156\n",
      "Epoch 30/100\n",
      "604/604 - 26s - loss: 6.0464e-04 - root_mean_squared_error: 0.0246 - val_loss: 2.5378e-04 - val_root_mean_squared_error: 0.0159\n",
      "Epoch 31/100\n",
      "604/604 - 26s - loss: 6.0099e-04 - root_mean_squared_error: 0.0245 - val_loss: 2.8967e-04 - val_root_mean_squared_error: 0.0170\n",
      "Epoch 32/100\n",
      "604/604 - 26s - loss: 5.9650e-04 - root_mean_squared_error: 0.0244 - val_loss: 2.3313e-04 - val_root_mean_squared_error: 0.0153\n",
      "Epoch 33/100\n",
      "604/604 - 26s - loss: 5.9356e-04 - root_mean_squared_error: 0.0244 - val_loss: 2.2225e-04 - val_root_mean_squared_error: 0.0149\n",
      "Epoch 34/100\n",
      "604/604 - 26s - loss: 5.8823e-04 - root_mean_squared_error: 0.0243 - val_loss: 2.2364e-04 - val_root_mean_squared_error: 0.0150\n",
      "Epoch 35/100\n",
      "604/604 - 26s - loss: 5.8568e-04 - root_mean_squared_error: 0.0242 - val_loss: 2.3728e-04 - val_root_mean_squared_error: 0.0154\n",
      "Epoch 36/100\n",
      "604/604 - 26s - loss: 5.8302e-04 - root_mean_squared_error: 0.0241 - val_loss: 2.2946e-04 - val_root_mean_squared_error: 0.0151\n",
      "Epoch 37/100\n",
      "604/604 - 26s - loss: 5.8026e-04 - root_mean_squared_error: 0.0241 - val_loss: 2.5691e-04 - val_root_mean_squared_error: 0.0160\n",
      "Epoch 38/100\n",
      "604/604 - 26s - loss: 5.7664e-04 - root_mean_squared_error: 0.0240 - val_loss: 2.2090e-04 - val_root_mean_squared_error: 0.0149\n",
      "Epoch 39/100\n",
      "604/604 - 26s - loss: 5.7418e-04 - root_mean_squared_error: 0.0240 - val_loss: 2.3354e-04 - val_root_mean_squared_error: 0.0153\n",
      "Epoch 40/100\n",
      "604/604 - 26s - loss: 5.7085e-04 - root_mean_squared_error: 0.0239 - val_loss: 2.0852e-04 - val_root_mean_squared_error: 0.0144\n",
      "Epoch 41/100\n",
      "604/604 - 26s - loss: 5.6785e-04 - root_mean_squared_error: 0.0238 - val_loss: 2.8049e-04 - val_root_mean_squared_error: 0.0167\n",
      "Epoch 42/100\n",
      "604/604 - 26s - loss: 5.6381e-04 - root_mean_squared_error: 0.0237 - val_loss: 2.1671e-04 - val_root_mean_squared_error: 0.0147\n",
      "Epoch 43/100\n",
      "604/604 - 26s - loss: 5.6270e-04 - root_mean_squared_error: 0.0237 - val_loss: 2.1131e-04 - val_root_mean_squared_error: 0.0145\n",
      "Epoch 44/100\n",
      "604/604 - 26s - loss: 5.6150e-04 - root_mean_squared_error: 0.0237 - val_loss: 2.1679e-04 - val_root_mean_squared_error: 0.0147\n",
      "Epoch 45/100\n",
      "604/604 - 26s - loss: 5.5842e-04 - root_mean_squared_error: 0.0236 - val_loss: 2.1169e-04 - val_root_mean_squared_error: 0.0145\n",
      "Epoch 46/100\n",
      "604/604 - 26s - loss: 5.5595e-04 - root_mean_squared_error: 0.0236 - val_loss: 2.1262e-04 - val_root_mean_squared_error: 0.0146\n",
      "Epoch 47/100\n",
      "604/604 - 26s - loss: 5.5441e-04 - root_mean_squared_error: 0.0235 - val_loss: 2.4586e-04 - val_root_mean_squared_error: 0.0157\n",
      "Epoch 48/100\n",
      "604/604 - 26s - loss: 5.5364e-04 - root_mean_squared_error: 0.0235 - val_loss: 2.0277e-04 - val_root_mean_squared_error: 0.0142\n",
      "Epoch 49/100\n",
      "604/604 - 26s - loss: 5.5031e-04 - root_mean_squared_error: 0.0235 - val_loss: 2.1505e-04 - val_root_mean_squared_error: 0.0147\n",
      "Epoch 50/100\n",
      "604/604 - 26s - loss: 5.4775e-04 - root_mean_squared_error: 0.0234 - val_loss: 1.9689e-04 - val_root_mean_squared_error: 0.0140\n",
      "Epoch 51/100\n",
      "604/604 - 26s - loss: 5.4611e-04 - root_mean_squared_error: 0.0234 - val_loss: 2.1760e-04 - val_root_mean_squared_error: 0.0148\n",
      "Epoch 52/100\n",
      "604/604 - 26s - loss: 5.4505e-04 - root_mean_squared_error: 0.0233 - val_loss: 2.3007e-04 - val_root_mean_squared_error: 0.0152\n",
      "Epoch 53/100\n",
      "604/604 - 26s - loss: 5.4378e-04 - root_mean_squared_error: 0.0233 - val_loss: 2.1219e-04 - val_root_mean_squared_error: 0.0146\n",
      "Epoch 54/100\n",
      "604/604 - 26s - loss: 5.4069e-04 - root_mean_squared_error: 0.0233 - val_loss: 2.1995e-04 - val_root_mean_squared_error: 0.0148\n",
      "Epoch 55/100\n",
      "604/604 - 26s - loss: 5.3856e-04 - root_mean_squared_error: 0.0232 - val_loss: 2.0420e-04 - val_root_mean_squared_error: 0.0143\n",
      "Epoch 56/100\n",
      "604/604 - 26s - loss: 5.3840e-04 - root_mean_squared_error: 0.0232 - val_loss: 1.9669e-04 - val_root_mean_squared_error: 0.0140\n",
      "Epoch 57/100\n",
      "604/604 - 26s - loss: 5.3634e-04 - root_mean_squared_error: 0.0232 - val_loss: 2.0467e-04 - val_root_mean_squared_error: 0.0143\n",
      "Epoch 58/100\n",
      "604/604 - 26s - loss: 5.3493e-04 - root_mean_squared_error: 0.0231 - val_loss: 2.1307e-04 - val_root_mean_squared_error: 0.0146\n",
      "Epoch 59/100\n",
      "604/604 - 26s - loss: 5.3380e-04 - root_mean_squared_error: 0.0231 - val_loss: 2.0519e-04 - val_root_mean_squared_error: 0.0143\n"
     ]
    },
    {
     "name": "stdout",
     "output_type": "stream",
     "text": [
      "Epoch 60/100\n",
      "604/604 - 26s - loss: 5.3194e-04 - root_mean_squared_error: 0.0231 - val_loss: 2.0871e-04 - val_root_mean_squared_error: 0.0144\n",
      "Epoch 61/100\n",
      "604/604 - 26s - loss: 5.2927e-04 - root_mean_squared_error: 0.0230 - val_loss: 2.1764e-04 - val_root_mean_squared_error: 0.0148\n",
      "Epoch 62/100\n",
      "604/604 - 26s - loss: 5.2981e-04 - root_mean_squared_error: 0.0230 - val_loss: 2.0198e-04 - val_root_mean_squared_error: 0.0142\n",
      "Epoch 63/100\n",
      "604/604 - 26s - loss: 5.2807e-04 - root_mean_squared_error: 0.0230 - val_loss: 1.8574e-04 - val_root_mean_squared_error: 0.0136\n",
      "Epoch 64/100\n",
      "604/604 - 26s - loss: 5.2775e-04 - root_mean_squared_error: 0.0230 - val_loss: 1.9820e-04 - val_root_mean_squared_error: 0.0141\n",
      "Epoch 65/100\n",
      "604/604 - 26s - loss: 5.2511e-04 - root_mean_squared_error: 0.0229 - val_loss: 2.0552e-04 - val_root_mean_squared_error: 0.0143\n",
      "Epoch 66/100\n",
      "604/604 - 26s - loss: 5.2378e-04 - root_mean_squared_error: 0.0229 - val_loss: 2.0311e-04 - val_root_mean_squared_error: 0.0143\n",
      "Epoch 67/100\n",
      "604/604 - 26s - loss: 5.2224e-04 - root_mean_squared_error: 0.0229 - val_loss: 2.1272e-04 - val_root_mean_squared_error: 0.0146\n",
      "Epoch 68/100\n",
      "604/604 - 26s - loss: 5.2395e-04 - root_mean_squared_error: 0.0229 - val_loss: 1.9632e-04 - val_root_mean_squared_error: 0.0140\n",
      "Epoch 69/100\n",
      "604/604 - 26s - loss: 5.2083e-04 - root_mean_squared_error: 0.0228 - val_loss: 1.9856e-04 - val_root_mean_squared_error: 0.0141\n",
      "Epoch 70/100\n",
      "604/604 - 26s - loss: 5.2034e-04 - root_mean_squared_error: 0.0228 - val_loss: 2.1632e-04 - val_root_mean_squared_error: 0.0147\n",
      "Epoch 71/100\n",
      "604/604 - 26s - loss: 5.1880e-04 - root_mean_squared_error: 0.0228 - val_loss: 2.0397e-04 - val_root_mean_squared_error: 0.0143\n",
      "Epoch 72/100\n",
      "604/604 - 26s - loss: 5.1653e-04 - root_mean_squared_error: 0.0227 - val_loss: 2.1109e-04 - val_root_mean_squared_error: 0.0145\n",
      "Epoch 73/100\n",
      "604/604 - 26s - loss: 5.1598e-04 - root_mean_squared_error: 0.0227 - val_loss: 1.8555e-04 - val_root_mean_squared_error: 0.0136\n",
      "Epoch 74/100\n",
      "604/604 - 26s - loss: 5.1558e-04 - root_mean_squared_error: 0.0227 - val_loss: 2.0324e-04 - val_root_mean_squared_error: 0.0143\n",
      "Epoch 75/100\n",
      "604/604 - 26s - loss: 5.1461e-04 - root_mean_squared_error: 0.0227 - val_loss: 1.9806e-04 - val_root_mean_squared_error: 0.0141\n",
      "Epoch 76/100\n",
      "604/604 - 26s - loss: 5.1340e-04 - root_mean_squared_error: 0.0227 - val_loss: 2.1427e-04 - val_root_mean_squared_error: 0.0146\n",
      "Epoch 77/100\n",
      "604/604 - 26s - loss: 5.1340e-04 - root_mean_squared_error: 0.0227 - val_loss: 2.0172e-04 - val_root_mean_squared_error: 0.0142\n",
      "Epoch 78/100\n",
      "604/604 - 26s - loss: 5.1230e-04 - root_mean_squared_error: 0.0226 - val_loss: 2.0440e-04 - val_root_mean_squared_error: 0.0143\n",
      "Epoch 79/100\n",
      "604/604 - 26s - loss: 5.1064e-04 - root_mean_squared_error: 0.0226 - val_loss: 2.0212e-04 - val_root_mean_squared_error: 0.0142\n",
      "Epoch 80/100\n",
      "604/604 - 26s - loss: 5.0999e-04 - root_mean_squared_error: 0.0226 - val_loss: 1.8417e-04 - val_root_mean_squared_error: 0.0136\n",
      "Epoch 81/100\n",
      "604/604 - 26s - loss: 5.0917e-04 - root_mean_squared_error: 0.0226 - val_loss: 1.9076e-04 - val_root_mean_squared_error: 0.0138\n",
      "Epoch 82/100\n",
      "604/604 - 26s - loss: 5.0990e-04 - root_mean_squared_error: 0.0226 - val_loss: 1.8722e-04 - val_root_mean_squared_error: 0.0137\n",
      "Epoch 83/100\n",
      "604/604 - 26s - loss: 5.0835e-04 - root_mean_squared_error: 0.0225 - val_loss: 1.9201e-04 - val_root_mean_squared_error: 0.0139\n",
      "Epoch 84/100\n",
      "604/604 - 26s - loss: 5.0575e-04 - root_mean_squared_error: 0.0225 - val_loss: 1.8821e-04 - val_root_mean_squared_error: 0.0137\n",
      "Epoch 85/100\n",
      "604/604 - 26s - loss: 5.0574e-04 - root_mean_squared_error: 0.0225 - val_loss: 2.1038e-04 - val_root_mean_squared_error: 0.0145\n",
      "Epoch 86/100\n",
      "604/604 - 26s - loss: 5.0414e-04 - root_mean_squared_error: 0.0225 - val_loss: 1.8556e-04 - val_root_mean_squared_error: 0.0136\n",
      "Epoch 87/100\n",
      "604/604 - 26s - loss: 5.0415e-04 - root_mean_squared_error: 0.0225 - val_loss: 1.9133e-04 - val_root_mean_squared_error: 0.0138\n",
      "Epoch 88/100\n",
      "604/604 - 26s - loss: 5.0392e-04 - root_mean_squared_error: 0.0224 - val_loss: 1.8561e-04 - val_root_mean_squared_error: 0.0136\n",
      "Epoch 89/100\n",
      "604/604 - 26s - loss: 5.0291e-04 - root_mean_squared_error: 0.0224 - val_loss: 1.9389e-04 - val_root_mean_squared_error: 0.0139\n",
      "Epoch 90/100\n",
      "604/604 - 26s - loss: 5.0259e-04 - root_mean_squared_error: 0.0224 - val_loss: 1.9830e-04 - val_root_mean_squared_error: 0.0141\n",
      "Epoch 91/100\n",
      "604/604 - 26s - loss: 5.0125e-04 - root_mean_squared_error: 0.0224 - val_loss: 2.2085e-04 - val_root_mean_squared_error: 0.0149\n",
      "Epoch 92/100\n",
      "604/604 - 26s - loss: 4.9981e-04 - root_mean_squared_error: 0.0224 - val_loss: 1.8859e-04 - val_root_mean_squared_error: 0.0137\n",
      "Epoch 93/100\n",
      "604/604 - 26s - loss: 4.9950e-04 - root_mean_squared_error: 0.0223 - val_loss: 2.0982e-04 - val_root_mean_squared_error: 0.0145\n",
      "Epoch 94/100\n",
      "604/604 - 26s - loss: 4.9933e-04 - root_mean_squared_error: 0.0223 - val_loss: 1.9255e-04 - val_root_mean_squared_error: 0.0139\n",
      "Epoch 95/100\n",
      "604/604 - 27s - loss: 4.9757e-04 - root_mean_squared_error: 0.0223 - val_loss: 1.8734e-04 - val_root_mean_squared_error: 0.0137\n",
      "Epoch 96/100\n",
      "604/604 - 26s - loss: 4.9786e-04 - root_mean_squared_error: 0.0223 - val_loss: 1.8845e-04 - val_root_mean_squared_error: 0.0137\n",
      "Epoch 97/100\n",
      "604/604 - 27s - loss: 4.9760e-04 - root_mean_squared_error: 0.0223 - val_loss: 1.8201e-04 - val_root_mean_squared_error: 0.0135\n",
      "Epoch 98/100\n",
      "604/604 - 28s - loss: 4.9642e-04 - root_mean_squared_error: 0.0223 - val_loss: 1.9843e-04 - val_root_mean_squared_error: 0.0141\n",
      "Epoch 99/100\n",
      "604/604 - 26s - loss: 4.9577e-04 - root_mean_squared_error: 0.0223 - val_loss: 1.9567e-04 - val_root_mean_squared_error: 0.0140\n",
      "Epoch 100/100\n",
      "604/604 - 26s - loss: 4.9484e-04 - root_mean_squared_error: 0.0222 - val_loss: 1.8631e-04 - val_root_mean_squared_error: 0.0136\n"
     ]
    }
   ],
   "source": [
    "import tensorflow as tf\n",
    "from tensorflow import keras\n",
    "from tensorflow.keras import layers\n",
    "from keras.layers import Input,LSTM,Dropout,Dense\n",
    "\n",
    "\n",
    "timesteps = 5\n",
    "# create and fit the LSTM network\n",
    "\n",
    "model = keras.Sequential()\n",
    "model.add(LSTM(100,input_shape=(timesteps,5),return_sequences=True))\n",
    "model.add(Dropout(0.2))\n",
    "model.add(LSTM(100,input_shape=(timesteps,5),return_sequences=True))\n",
    "model.add(Dropout(0.2))\n",
    "model.add(LSTM(100,input_shape=(timesteps,5),return_sequences=False))\n",
    "model.add(Dropout(0.2))\n",
    "model.add(Dense(20,activation='linear'))\n",
    "model.compile(optimizer='rmsprop',loss='mean_squared_error',metrics=[tf.keras.metrics.RootMeanSquaredError()])\n",
    "\n",
    "history = model.fit(train_X, train_Y, epochs=100, batch_size=512, verbose=2, validation_data=(test_X, test_Y))"
   ]
  },
  {
   "cell_type": "code",
   "execution_count": 10,
   "metadata": {},
   "outputs": [],
   "source": [
    "testPredict = model.predict(test_X)"
   ]
  },
  {
   "cell_type": "code",
   "execution_count": 11,
   "metadata": {},
   "outputs": [],
   "source": [
    "newtestPredict = scaler.inverse_transform(testPredict)\n",
    "newtest_Y = scaler.inverse_transform(test_Y)"
   ]
  },
  {
   "cell_type": "code",
   "execution_count": 12,
   "metadata": {},
   "outputs": [
    {
     "name": "stdout",
     "output_type": "stream",
     "text": [
      "Test Score: 0.38404 RMSE\n"
     ]
    }
   ],
   "source": [
    "testScore = sqrt(mean_squared_error(newtest_Y, newtestPredict))\n",
    "print('Test Score: %.5f RMSE' % (testScore))"
   ]
  },
  {
   "cell_type": "code",
   "execution_count": null,
   "metadata": {},
   "outputs": [],
   "source": []
  }
 ],
 "metadata": {
  "kernelspec": {
   "display_name": "Python 3",
   "language": "python",
   "name": "python3"
  },
  "language_info": {
   "codemirror_mode": {
    "name": "ipython",
    "version": 3
   },
   "file_extension": ".py",
   "mimetype": "text/x-python",
   "name": "python",
   "nbconvert_exporter": "python",
   "pygments_lexer": "ipython3",
   "version": "3.8.3"
  }
 },
 "nbformat": 4,
 "nbformat_minor": 4
}
