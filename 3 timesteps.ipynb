{
 "cells": [
  {
   "cell_type": "code",
   "execution_count": 1,
   "metadata": {},
   "outputs": [],
   "source": [
    "from test import EigenData\n",
    "import numpy as np\n",
    "import scipy.io\n",
    "import h5py\n",
    "from sklearn.preprocessing import MinMaxScaler\n",
    "from sklearn.metrics import mean_squared_error\n",
    "from math import sqrt\n",
    "import matplotlib.pyplot as plt\n",
    "from mpl_toolkits.axes_grid1 import make_axes_locatable\n",
    "import torch\n",
    "%matplotlib inline"
   ]
  },
  {
   "cell_type": "code",
   "execution_count": 2,
   "metadata": {},
   "outputs": [
    {
     "name": "stdout",
     "output_type": "stream",
     "text": [
      "b (5, 33600)\n",
      "(100, 5) (5, 33600)\n",
      "--> (100, 33600)\n",
      "c (5, 33600)\n",
      "(100, 5) (5, 33600)\n",
      "--> (100, 33600)\n",
      "d (5, 33600)\n",
      "(100, 5) (5, 33600)\n",
      "--> (100, 33600)\n",
      "e (5, 33600)\n",
      "(100, 5) (5, 33600)\n",
      "--> (100, 33600)\n",
      "f (5, 33600)\n",
      "(100, 5) (5, 33600)\n",
      "--> (100, 33600)\n",
      "g (6, 33600)\n",
      "(100, 6) (6, 33600)\n",
      "--> (100, 33600)\n",
      "h (5, 33600)\n",
      "(100, 5) (5, 33600)\n",
      "--> (100, 33600)\n",
      "i (6, 33600)\n",
      "(100, 6) (6, 33600)\n",
      "--> (100, 33600)\n",
      "j (5, 33600)\n",
      "(100, 5) (5, 33600)\n",
      "--> (100, 33600)\n",
      "k (5, 33600)\n",
      "(100, 5) (5, 33600)\n",
      "--> (100, 33600)\n",
      "l (5, 33600)\n",
      "(100, 5) (5, 33600)\n",
      "--> (100, 33600)\n",
      "m (5, 33600)\n",
      "(100, 5) (5, 33600)\n",
      "--> (100, 33600)\n",
      "(403200, 5)\n"
     ]
    }
   ],
   "source": [
    "data = EigenData()\n",
    "eigenworms = data.get_eigenworms('EigenWorms.mat')\n",
    "\n",
    "footage = data.get_footage('20150814-All-PNAS2011-DataStitched .mat')\n",
    "newdata = torch.rand(33600,5)\n",
    "for k in footage.keys():\n",
    "    print(k, footage[k].shape)\n",
    "    arr1=footage[k]\n",
    "\n",
    "    arr2=arr1[:5,]\n",
    "\n",
    "    r = data.reconstruct(footage[k])\n",
    "    print('-->', r.shape)\n",
    "    dataset1 = arr2.transpose()\n",
    "\n",
    "    newdata = np.concatenate((newdata,dataset1),axis=0)\n",
    "newdata = newdata[33600:,]\n",
    "print(newdata.shape)"
   ]
  },
  {
   "cell_type": "code",
   "execution_count": 3,
   "metadata": {},
   "outputs": [],
   "source": [
    "first_5_eigenworms = eigenworms[0:5,:]\n",
    "eig_worm_0 = eigenworms[0,:]\n",
    "eig_worm_1 = eigenworms[1,:]\n",
    "eig_worm_2 = eigenworms[2,:]\n",
    "eig_worm_3 = eigenworms[3,:]\n",
    "eig_worm_4 = eigenworms[4,:]"
   ]
  },
  {
   "cell_type": "code",
   "execution_count": 4,
   "metadata": {},
   "outputs": [
    {
     "name": "stdout",
     "output_type": "stream",
     "text": [
      "(386422, 5)\n",
      "386422\n"
     ]
    }
   ],
   "source": [
    "data1=newdata[~np.isnan(newdata).any(axis=1)]\n",
    "data1 = data1.astype('float32')\n",
    "print(data1.shape)\n",
    "print(len(data1))"
   ]
  },
  {
   "cell_type": "code",
   "execution_count": 5,
   "metadata": {},
   "outputs": [],
   "source": [
    "scaler = MinMaxScaler(feature_range=(0, 1))\n",
    "data1 = scaler.fit_transform(data1)"
   ]
  },
  {
   "cell_type": "code",
   "execution_count": 6,
   "metadata": {},
   "outputs": [],
   "source": [
    "def create_dataset(dataset, look_back=3):\n",
    "    dataX, dataY = [], []\n",
    "    for i in range(len(dataset) - look_back):\n",
    "        a = dataset[i:(i + look_back)]\n",
    "        dataX.append(a)\n",
    "        dataY.append(dataset[i + look_back])\n",
    "    return np.array(dataX), np.array(dataY)"
   ]
  },
  {
   "cell_type": "code",
   "execution_count": 7,
   "metadata": {},
   "outputs": [
    {
     "name": "stdout",
     "output_type": "stream",
     "text": [
      "(386419, 3, 5)\n",
      "(386419, 5)\n"
     ]
    }
   ],
   "source": [
    "data_X, data_Y = create_dataset(data1)\n",
    "\n",
    "print(data_X.shape)\n",
    "print(data_Y.shape)"
   ]
  },
  {
   "cell_type": "code",
   "execution_count": 8,
   "metadata": {},
   "outputs": [
    {
     "name": "stdout",
     "output_type": "stream",
     "text": [
      "(309135, 3, 5)\n",
      "(309135, 5)\n",
      "(77284, 3, 5)\n",
      "(77284, 5)\n"
     ]
    }
   ],
   "source": [
    "train_size = int(len(data_X) * 0.8)\n",
    "test_size = len(data_X) - train_size\n",
    "train_X = data_X[:train_size]\n",
    "train_Y = data_Y[:train_size]\n",
    "test_X = data_X[train_size:]\n",
    "test_Y = data_Y[train_size:]\n",
    "\n",
    "print(train_X.shape)\n",
    "print(train_Y.shape)\n",
    "print(test_X.shape)\n",
    "print(test_Y.shape)"
   ]
  },
  {
   "cell_type": "code",
   "execution_count": 9,
   "metadata": {},
   "outputs": [
    {
     "name": "stdout",
     "output_type": "stream",
     "text": [
      "Epoch 1/100\n",
      "604/604 - 21s - loss: 0.0084 - root_mean_squared_error: 0.0918 - val_loss: 0.0025 - val_root_mean_squared_error: 0.0500\n",
      "Epoch 2/100\n",
      "604/604 - 16s - loss: 0.0033 - root_mean_squared_error: 0.0574 - val_loss: 0.0013 - val_root_mean_squared_error: 0.0361\n",
      "Epoch 3/100\n",
      "604/604 - 16s - loss: 0.0021 - root_mean_squared_error: 0.0456 - val_loss: 0.0011 - val_root_mean_squared_error: 0.0336\n",
      "Epoch 4/100\n",
      "604/604 - 16s - loss: 0.0014 - root_mean_squared_error: 0.0376 - val_loss: 3.1350e-04 - val_root_mean_squared_error: 0.0177\n",
      "Epoch 5/100\n",
      "604/604 - 17s - loss: 0.0011 - root_mean_squared_error: 0.0328 - val_loss: 2.4059e-04 - val_root_mean_squared_error: 0.0155\n",
      "Epoch 6/100\n",
      "604/604 - 16s - loss: 8.7033e-04 - root_mean_squared_error: 0.0295 - val_loss: 2.1978e-04 - val_root_mean_squared_error: 0.0148\n",
      "Epoch 7/100\n",
      "604/604 - 16s - loss: 7.2683e-04 - root_mean_squared_error: 0.0270 - val_loss: 2.8153e-04 - val_root_mean_squared_error: 0.0168\n",
      "Epoch 8/100\n",
      "604/604 - 16s - loss: 6.2402e-04 - root_mean_squared_error: 0.0250 - val_loss: 1.8116e-04 - val_root_mean_squared_error: 0.0135\n",
      "Epoch 9/100\n",
      "604/604 - 16s - loss: 5.5442e-04 - root_mean_squared_error: 0.0235 - val_loss: 1.5749e-04 - val_root_mean_squared_error: 0.0125\n",
      "Epoch 10/100\n",
      "604/604 - 16s - loss: 5.0686e-04 - root_mean_squared_error: 0.0225 - val_loss: 1.5882e-04 - val_root_mean_squared_error: 0.0126\n",
      "Epoch 11/100\n",
      "604/604 - 16s - loss: 4.7879e-04 - root_mean_squared_error: 0.0219 - val_loss: 1.0247e-04 - val_root_mean_squared_error: 0.0101\n",
      "Epoch 12/100\n",
      "604/604 - 16s - loss: 4.6053e-04 - root_mean_squared_error: 0.0215 - val_loss: 1.6046e-04 - val_root_mean_squared_error: 0.0127\n",
      "Epoch 13/100\n",
      "604/604 - 16s - loss: 4.5204e-04 - root_mean_squared_error: 0.0213 - val_loss: 1.0235e-04 - val_root_mean_squared_error: 0.0101\n",
      "Epoch 14/100\n",
      "604/604 - 17s - loss: 4.4298e-04 - root_mean_squared_error: 0.0210 - val_loss: 1.8020e-04 - val_root_mean_squared_error: 0.0134\n",
      "Epoch 15/100\n",
      "604/604 - 16s - loss: 4.3614e-04 - root_mean_squared_error: 0.0209 - val_loss: 8.8302e-05 - val_root_mean_squared_error: 0.0094\n",
      "Epoch 16/100\n",
      "604/604 - 16s - loss: 4.3016e-04 - root_mean_squared_error: 0.0207 - val_loss: 8.3887e-05 - val_root_mean_squared_error: 0.0092\n",
      "Epoch 17/100\n",
      "604/604 - 16s - loss: 4.2504e-04 - root_mean_squared_error: 0.0206 - val_loss: 1.5634e-04 - val_root_mean_squared_error: 0.0125\n",
      "Epoch 18/100\n",
      "604/604 - 16s - loss: 4.2114e-04 - root_mean_squared_error: 0.0205 - val_loss: 9.4207e-05 - val_root_mean_squared_error: 0.0097\n",
      "Epoch 19/100\n",
      "604/604 - 16s - loss: 4.1635e-04 - root_mean_squared_error: 0.0204 - val_loss: 9.4383e-05 - val_root_mean_squared_error: 0.0097\n",
      "Epoch 20/100\n",
      "604/604 - 16s - loss: 4.1333e-04 - root_mean_squared_error: 0.0203 - val_loss: 1.1984e-04 - val_root_mean_squared_error: 0.0109\n",
      "Epoch 21/100\n",
      "604/604 - 16s - loss: 4.1002e-04 - root_mean_squared_error: 0.0202 - val_loss: 1.6133e-04 - val_root_mean_squared_error: 0.0127\n",
      "Epoch 22/100\n",
      "604/604 - 16s - loss: 4.0627e-04 - root_mean_squared_error: 0.0202 - val_loss: 9.1469e-05 - val_root_mean_squared_error: 0.0096\n",
      "Epoch 23/100\n",
      "604/604 - 16s - loss: 4.0343e-04 - root_mean_squared_error: 0.0201 - val_loss: 1.1213e-04 - val_root_mean_squared_error: 0.0106\n",
      "Epoch 24/100\n",
      "604/604 - 16s - loss: 4.0020e-04 - root_mean_squared_error: 0.0200 - val_loss: 9.9187e-05 - val_root_mean_squared_error: 0.0100\n",
      "Epoch 25/100\n",
      "604/604 - 16s - loss: 3.9808e-04 - root_mean_squared_error: 0.0200 - val_loss: 1.1607e-04 - val_root_mean_squared_error: 0.0108\n",
      "Epoch 26/100\n",
      "604/604 - 16s - loss: 3.9689e-04 - root_mean_squared_error: 0.0199 - val_loss: 9.1191e-05 - val_root_mean_squared_error: 0.0095\n",
      "Epoch 27/100\n",
      "604/604 - 16s - loss: 3.9267e-04 - root_mean_squared_error: 0.0198 - val_loss: 1.0338e-04 - val_root_mean_squared_error: 0.0102\n",
      "Epoch 28/100\n",
      "604/604 - 16s - loss: 3.9110e-04 - root_mean_squared_error: 0.0198 - val_loss: 1.3890e-04 - val_root_mean_squared_error: 0.0118\n",
      "Epoch 29/100\n",
      "604/604 - 16s - loss: 3.8899e-04 - root_mean_squared_error: 0.0197 - val_loss: 9.1928e-05 - val_root_mean_squared_error: 0.0096\n",
      "Epoch 30/100\n",
      "604/604 - 16s - loss: 3.8676e-04 - root_mean_squared_error: 0.0197 - val_loss: 9.2451e-05 - val_root_mean_squared_error: 0.0096\n",
      "Epoch 31/100\n",
      "604/604 - 16s - loss: 3.8379e-04 - root_mean_squared_error: 0.0196 - val_loss: 7.6834e-05 - val_root_mean_squared_error: 0.0088\n",
      "Epoch 32/100\n",
      "604/604 - 16s - loss: 3.8271e-04 - root_mean_squared_error: 0.0196 - val_loss: 8.6140e-05 - val_root_mean_squared_error: 0.0093\n",
      "Epoch 33/100\n",
      "604/604 - 16s - loss: 3.8095e-04 - root_mean_squared_error: 0.0195 - val_loss: 7.2806e-05 - val_root_mean_squared_error: 0.0085\n",
      "Epoch 34/100\n",
      "604/604 - 16s - loss: 3.7936e-04 - root_mean_squared_error: 0.0195 - val_loss: 7.6778e-05 - val_root_mean_squared_error: 0.0088\n",
      "Epoch 35/100\n",
      "604/604 - 16s - loss: 3.7567e-04 - root_mean_squared_error: 0.0194 - val_loss: 6.5098e-05 - val_root_mean_squared_error: 0.0081\n",
      "Epoch 36/100\n",
      "604/604 - 16s - loss: 3.7485e-04 - root_mean_squared_error: 0.0194 - val_loss: 5.6886e-05 - val_root_mean_squared_error: 0.0075\n",
      "Epoch 37/100\n",
      "604/604 - 17s - loss: 3.7379e-04 - root_mean_squared_error: 0.0193 - val_loss: 7.1070e-05 - val_root_mean_squared_error: 0.0084\n",
      "Epoch 38/100\n",
      "604/604 - 18s - loss: 3.7271e-04 - root_mean_squared_error: 0.0193 - val_loss: 1.0169e-04 - val_root_mean_squared_error: 0.0101\n",
      "Epoch 39/100\n",
      "604/604 - 16s - loss: 3.7175e-04 - root_mean_squared_error: 0.0193 - val_loss: 8.8697e-05 - val_root_mean_squared_error: 0.0094\n",
      "Epoch 40/100\n",
      "604/604 - 15s - loss: 3.6956e-04 - root_mean_squared_error: 0.0192 - val_loss: 7.9724e-05 - val_root_mean_squared_error: 0.0089\n",
      "Epoch 41/100\n",
      "604/604 - 16s - loss: 3.6763e-04 - root_mean_squared_error: 0.0192 - val_loss: 7.5861e-05 - val_root_mean_squared_error: 0.0087\n",
      "Epoch 42/100\n",
      "604/604 - 17s - loss: 3.6622e-04 - root_mean_squared_error: 0.0191 - val_loss: 6.8126e-05 - val_root_mean_squared_error: 0.0083\n",
      "Epoch 43/100\n",
      "604/604 - 16s - loss: 3.6442e-04 - root_mean_squared_error: 0.0191 - val_loss: 6.2780e-05 - val_root_mean_squared_error: 0.0079\n",
      "Epoch 44/100\n",
      "604/604 - 18s - loss: 3.6323e-04 - root_mean_squared_error: 0.0191 - val_loss: 6.6364e-05 - val_root_mean_squared_error: 0.0081\n",
      "Epoch 45/100\n",
      "604/604 - 17s - loss: 3.6141e-04 - root_mean_squared_error: 0.0190 - val_loss: 1.0306e-04 - val_root_mean_squared_error: 0.0102\n",
      "Epoch 46/100\n",
      "604/604 - 16s - loss: 3.6089e-04 - root_mean_squared_error: 0.0190 - val_loss: 7.6249e-05 - val_root_mean_squared_error: 0.0087\n",
      "Epoch 47/100\n",
      "604/604 - 16s - loss: 3.5894e-04 - root_mean_squared_error: 0.0189 - val_loss: 6.1295e-05 - val_root_mean_squared_error: 0.0078\n",
      "Epoch 48/100\n",
      "604/604 - 16s - loss: 3.5926e-04 - root_mean_squared_error: 0.0190 - val_loss: 1.0519e-04 - val_root_mean_squared_error: 0.0103\n",
      "Epoch 49/100\n",
      "604/604 - 16s - loss: 3.5672e-04 - root_mean_squared_error: 0.0189 - val_loss: 8.0462e-05 - val_root_mean_squared_error: 0.0090\n",
      "Epoch 50/100\n",
      "604/604 - 16s - loss: 3.5489e-04 - root_mean_squared_error: 0.0188 - val_loss: 5.7244e-05 - val_root_mean_squared_error: 0.0076\n",
      "Epoch 51/100\n",
      "604/604 - 17s - loss: 3.5365e-04 - root_mean_squared_error: 0.0188 - val_loss: 6.5073e-05 - val_root_mean_squared_error: 0.0081\n",
      "Epoch 52/100\n",
      "604/604 - 16s - loss: 3.5293e-04 - root_mean_squared_error: 0.0188 - val_loss: 6.2716e-05 - val_root_mean_squared_error: 0.0079\n",
      "Epoch 53/100\n",
      "604/604 - 17s - loss: 3.5148e-04 - root_mean_squared_error: 0.0187 - val_loss: 7.2436e-05 - val_root_mean_squared_error: 0.0085\n",
      "Epoch 54/100\n",
      "604/604 - 16s - loss: 3.5091e-04 - root_mean_squared_error: 0.0187 - val_loss: 6.1845e-05 - val_root_mean_squared_error: 0.0079\n",
      "Epoch 55/100\n",
      "604/604 - 16s - loss: 3.5065e-04 - root_mean_squared_error: 0.0187 - val_loss: 6.9942e-05 - val_root_mean_squared_error: 0.0084\n",
      "Epoch 56/100\n",
      "604/604 - 16s - loss: 3.4904e-04 - root_mean_squared_error: 0.0187 - val_loss: 6.4700e-05 - val_root_mean_squared_error: 0.0080\n",
      "Epoch 57/100\n",
      "604/604 - 16s - loss: 3.4754e-04 - root_mean_squared_error: 0.0186 - val_loss: 9.5697e-05 - val_root_mean_squared_error: 0.0098\n",
      "Epoch 58/100\n",
      "604/604 - 16s - loss: 3.4715e-04 - root_mean_squared_error: 0.0186 - val_loss: 4.1438e-05 - val_root_mean_squared_error: 0.0064\n",
      "Epoch 59/100\n",
      "604/604 - 16s - loss: 3.4555e-04 - root_mean_squared_error: 0.0186 - val_loss: 4.5067e-05 - val_root_mean_squared_error: 0.0067\n"
     ]
    },
    {
     "name": "stdout",
     "output_type": "stream",
     "text": [
      "Epoch 60/100\n",
      "604/604 - 16s - loss: 3.4441e-04 - root_mean_squared_error: 0.0186 - val_loss: 7.2414e-05 - val_root_mean_squared_error: 0.0085\n",
      "Epoch 61/100\n",
      "604/604 - 16s - loss: 3.4295e-04 - root_mean_squared_error: 0.0185 - val_loss: 5.7234e-05 - val_root_mean_squared_error: 0.0076\n",
      "Epoch 62/100\n",
      "604/604 - 16s - loss: 3.4163e-04 - root_mean_squared_error: 0.0185 - val_loss: 5.1827e-05 - val_root_mean_squared_error: 0.0072\n",
      "Epoch 63/100\n",
      "604/604 - 16s - loss: 3.4032e-04 - root_mean_squared_error: 0.0184 - val_loss: 6.2263e-05 - val_root_mean_squared_error: 0.0079\n",
      "Epoch 64/100\n",
      "604/604 - 16s - loss: 3.3931e-04 - root_mean_squared_error: 0.0184 - val_loss: 5.4728e-05 - val_root_mean_squared_error: 0.0074\n",
      "Epoch 65/100\n",
      "604/604 - 16s - loss: 3.3858e-04 - root_mean_squared_error: 0.0184 - val_loss: 5.7393e-05 - val_root_mean_squared_error: 0.0076\n",
      "Epoch 66/100\n",
      "604/604 - 16s - loss: 3.3977e-04 - root_mean_squared_error: 0.0184 - val_loss: 5.9053e-05 - val_root_mean_squared_error: 0.0077\n",
      "Epoch 67/100\n",
      "604/604 - 16s - loss: 3.3722e-04 - root_mean_squared_error: 0.0184 - val_loss: 6.0578e-05 - val_root_mean_squared_error: 0.0078\n",
      "Epoch 68/100\n",
      "604/604 - 16s - loss: 3.3650e-04 - root_mean_squared_error: 0.0183 - val_loss: 8.0765e-05 - val_root_mean_squared_error: 0.0090\n",
      "Epoch 69/100\n",
      "604/604 - 16s - loss: 3.3562e-04 - root_mean_squared_error: 0.0183 - val_loss: 4.6246e-05 - val_root_mean_squared_error: 0.0068\n",
      "Epoch 70/100\n",
      "604/604 - 16s - loss: 3.3515e-04 - root_mean_squared_error: 0.0183 - val_loss: 5.9771e-05 - val_root_mean_squared_error: 0.0077\n",
      "Epoch 71/100\n",
      "604/604 - 16s - loss: 3.3339e-04 - root_mean_squared_error: 0.0183 - val_loss: 5.3172e-05 - val_root_mean_squared_error: 0.0073\n",
      "Epoch 72/100\n",
      "604/604 - 16s - loss: 3.3273e-04 - root_mean_squared_error: 0.0182 - val_loss: 5.3985e-05 - val_root_mean_squared_error: 0.0073\n",
      "Epoch 73/100\n",
      "604/604 - 16s - loss: 3.3283e-04 - root_mean_squared_error: 0.0182 - val_loss: 7.4484e-05 - val_root_mean_squared_error: 0.0086\n",
      "Epoch 74/100\n",
      "604/604 - 16s - loss: 3.3172e-04 - root_mean_squared_error: 0.0182 - val_loss: 5.0158e-05 - val_root_mean_squared_error: 0.0071\n",
      "Epoch 75/100\n",
      "604/604 - 16s - loss: 3.3189e-04 - root_mean_squared_error: 0.0182 - val_loss: 5.0232e-05 - val_root_mean_squared_error: 0.0071\n",
      "Epoch 76/100\n",
      "604/604 - 16s - loss: 3.2907e-04 - root_mean_squared_error: 0.0181 - val_loss: 5.6637e-05 - val_root_mean_squared_error: 0.0075\n",
      "Epoch 77/100\n",
      "604/604 - 16s - loss: 3.2917e-04 - root_mean_squared_error: 0.0181 - val_loss: 5.1747e-05 - val_root_mean_squared_error: 0.0072\n",
      "Epoch 78/100\n",
      "604/604 - 16s - loss: 3.2876e-04 - root_mean_squared_error: 0.0181 - val_loss: 4.6837e-05 - val_root_mean_squared_error: 0.0068\n",
      "Epoch 79/100\n",
      "604/604 - 16s - loss: 3.2797e-04 - root_mean_squared_error: 0.0181 - val_loss: 5.2166e-05 - val_root_mean_squared_error: 0.0072\n",
      "Epoch 80/100\n",
      "604/604 - 16s - loss: 3.2601e-04 - root_mean_squared_error: 0.0181 - val_loss: 4.1658e-05 - val_root_mean_squared_error: 0.0065\n",
      "Epoch 81/100\n",
      "604/604 - 16s - loss: 3.2606e-04 - root_mean_squared_error: 0.0181 - val_loss: 5.9884e-05 - val_root_mean_squared_error: 0.0077\n",
      "Epoch 82/100\n",
      "604/604 - 16s - loss: 3.2553e-04 - root_mean_squared_error: 0.0180 - val_loss: 5.6992e-05 - val_root_mean_squared_error: 0.0075\n",
      "Epoch 83/100\n",
      "604/604 - 16s - loss: 3.2493e-04 - root_mean_squared_error: 0.0180 - val_loss: 5.7875e-05 - val_root_mean_squared_error: 0.0076\n",
      "Epoch 84/100\n",
      "604/604 - 15s - loss: 3.2376e-04 - root_mean_squared_error: 0.0180 - val_loss: 5.3729e-05 - val_root_mean_squared_error: 0.0073\n",
      "Epoch 85/100\n",
      "604/604 - 16s - loss: 3.2371e-04 - root_mean_squared_error: 0.0180 - val_loss: 4.9087e-05 - val_root_mean_squared_error: 0.0070\n",
      "Epoch 86/100\n",
      "604/604 - 16s - loss: 3.2188e-04 - root_mean_squared_error: 0.0179 - val_loss: 6.9107e-05 - val_root_mean_squared_error: 0.0083\n",
      "Epoch 87/100\n",
      "604/604 - 16s - loss: 3.2132e-04 - root_mean_squared_error: 0.0179 - val_loss: 5.1322e-05 - val_root_mean_squared_error: 0.0072\n",
      "Epoch 88/100\n",
      "604/604 - 16s - loss: 3.2274e-04 - root_mean_squared_error: 0.0180 - val_loss: 7.4597e-05 - val_root_mean_squared_error: 0.0086\n",
      "Epoch 89/100\n",
      "604/604 - 16s - loss: 3.2136e-04 - root_mean_squared_error: 0.0179 - val_loss: 4.7290e-05 - val_root_mean_squared_error: 0.0069\n",
      "Epoch 90/100\n",
      "604/604 - 16s - loss: 3.1973e-04 - root_mean_squared_error: 0.0179 - val_loss: 5.0308e-05 - val_root_mean_squared_error: 0.0071\n",
      "Epoch 91/100\n",
      "604/604 - 16s - loss: 3.1936e-04 - root_mean_squared_error: 0.0179 - val_loss: 7.5406e-05 - val_root_mean_squared_error: 0.0087\n",
      "Epoch 92/100\n",
      "604/604 - 16s - loss: 3.1947e-04 - root_mean_squared_error: 0.0179 - val_loss: 4.0982e-05 - val_root_mean_squared_error: 0.0064\n",
      "Epoch 93/100\n",
      "604/604 - 15s - loss: 3.1905e-04 - root_mean_squared_error: 0.0179 - val_loss: 8.1391e-05 - val_root_mean_squared_error: 0.0090\n",
      "Epoch 94/100\n",
      "604/604 - 15s - loss: 3.1892e-04 - root_mean_squared_error: 0.0179 - val_loss: 4.6566e-05 - val_root_mean_squared_error: 0.0068\n",
      "Epoch 95/100\n",
      "604/604 - 16s - loss: 3.1823e-04 - root_mean_squared_error: 0.0178 - val_loss: 6.5286e-05 - val_root_mean_squared_error: 0.0081\n",
      "Epoch 96/100\n",
      "604/604 - 16s - loss: 3.1727e-04 - root_mean_squared_error: 0.0178 - val_loss: 5.4769e-05 - val_root_mean_squared_error: 0.0074\n",
      "Epoch 97/100\n",
      "604/604 - 16s - loss: 3.1637e-04 - root_mean_squared_error: 0.0178 - val_loss: 4.6808e-05 - val_root_mean_squared_error: 0.0068\n",
      "Epoch 98/100\n",
      "604/604 - 16s - loss: 3.1650e-04 - root_mean_squared_error: 0.0178 - val_loss: 7.4424e-05 - val_root_mean_squared_error: 0.0086\n",
      "Epoch 99/100\n",
      "604/604 - 15s - loss: 3.1595e-04 - root_mean_squared_error: 0.0178 - val_loss: 3.9635e-05 - val_root_mean_squared_error: 0.0063\n",
      "Epoch 100/100\n",
      "604/604 - 16s - loss: 3.1566e-04 - root_mean_squared_error: 0.0178 - val_loss: 4.4473e-05 - val_root_mean_squared_error: 0.0067\n"
     ]
    }
   ],
   "source": [
    "import tensorflow as tf\n",
    "from tensorflow import keras\n",
    "from tensorflow.keras import layers\n",
    "from keras.layers import Input,LSTM,Dropout,Dense\n",
    "\n",
    "\n",
    "\n",
    "# create and fit the LSTM network\n",
    "\n",
    "model = keras.Sequential()\n",
    "model.add(LSTM(100,input_shape=(3,5),return_sequences=True))\n",
    "model.add(Dropout(0.2))\n",
    "model.add(LSTM(100,input_shape=(3,5),return_sequences=True))\n",
    "model.add(Dropout(0.2))\n",
    "model.add(LSTM(100,input_shape=(3,5),return_sequences=False))\n",
    "model.add(Dropout(0.2))\n",
    "model.add(Dense(5,activation='linear'))\n",
    "model.compile(optimizer='rmsprop',loss='mean_squared_error',metrics=[tf.keras.metrics.RootMeanSquaredError()])\n",
    "\n",
    "history = model.fit(train_X, train_Y, epochs=100, batch_size=512, verbose=2, validation_data=(test_X, test_Y))"
   ]
  },
  {
   "cell_type": "code",
   "execution_count": 10,
   "metadata": {},
   "outputs": [],
   "source": [
    "testPredict = model.predict(test_X)"
   ]
  },
  {
   "cell_type": "code",
   "execution_count": 11,
   "metadata": {},
   "outputs": [],
   "source": [
    "newtestPredict = scaler.inverse_transform(testPredict)\n",
    "newtest_Y = scaler.inverse_transform(test_Y)"
   ]
  },
  {
   "cell_type": "code",
   "execution_count": 12,
   "metadata": {},
   "outputs": [
    {
     "name": "stdout",
     "output_type": "stream",
     "text": [
      "Test Score: 0.19500 RMSE\n"
     ]
    }
   ],
   "source": [
    "testScore = sqrt(mean_squared_error(newtest_Y, newtestPredict))\n",
    "print('Test Score: %.5f RMSE' % (testScore))"
   ]
  },
  {
   "cell_type": "code",
   "execution_count": null,
   "metadata": {},
   "outputs": [],
   "source": []
  }
 ],
 "metadata": {
  "kernelspec": {
   "display_name": "Python 3",
   "language": "python",
   "name": "python3"
  },
  "language_info": {
   "codemirror_mode": {
    "name": "ipython",
    "version": 3
   },
   "file_extension": ".py",
   "mimetype": "text/x-python",
   "name": "python",
   "nbconvert_exporter": "python",
   "pygments_lexer": "ipython3",
   "version": "3.8.3"
  }
 },
 "nbformat": 4,
 "nbformat_minor": 4
}
